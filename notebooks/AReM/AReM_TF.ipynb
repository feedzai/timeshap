{
 "cells": [
  {
   "cell_type": "markdown",
   "id": "5a85f1b2",
   "metadata": {},
   "source": [
    "<h1 style=\"color:#3da1da;font-size: 300%;\" id=\"timeshap tutorial\" align=\"center\"  >TimeSHAP Tutorial - TensorFlow - AReM dataset</h1><p>&nbsp;\n",
    "\n",
    "<a id='top_cell'></a>\n",
    "\n",
    "## Table of contents\n",
    "1. [Data Processing](#1.-Data-Processing)\n",
    "  1. [Data Loading](#1.1-Data-Loading)\n",
    "  2. [Data Treatment](#1.2-Data-Treatment)\n",
    "2. [Model](#2.-Model)\n",
    "  1. [Model Definition](#2.1-Model-Definition)\n",
    "  2. [Model Training](#2.2-Model-Training)\n",
    "3. [TimeSHAP](#3.-TimeSHAP)\n",
    "  1. [Local Explanations](#3.1-Local-Explanations)\n",
    "  2. [Global Explanations](#3.2-Global-Explanations)\n",
    "  3. [Individual Plots](#3.3-Individual-Plots)\n",
    "    \n",
    "\n",
    "# TimeSHAP\n",
    "\n",
    "TimeSHAP is a model-agnostic, recurrent explainer that builds upon KernelSHAP and extends it to the sequential domain. \n",
    "\n",
    "TimeSHAP computes local event/timestamp- feature-, and cell-level attributions. \n",
    "    \n",
    "Aditionally TimeSHAP also computes global event- and feature-level explanations.\n",
    "    \n",
    "As sequences can be arbitrarily long, TimeSHAP also implements a pruning algorithm based on Shapley Values, \n",
    "that finds a subset of consecutive, recent events that contribute the most to the decision."
   ]
  },
  {
   "cell_type": "markdown",
   "id": "8deb3c97",
   "metadata": {},
   "source": [
    "---\n",
    "# 1. Data-Processing\n",
    "---"
   ]
  },
  {
   "cell_type": "code",
   "execution_count": 1,
   "id": "9e963ff1",
   "metadata": {},
   "outputs": [
    {
     "data": {
      "text/html": [
       "<style>.container { width:100% !important; }</style>"
      ],
      "text/plain": [
       "<IPython.core.display.HTML object>"
      ]
     },
     "metadata": {},
     "output_type": "display_data"
    }
   ],
   "source": [
    "import pandas as pd\n",
    "import numpy as np\n",
    "\n",
    "import altair as alt\n",
    "from IPython.core.display import display, HTML\n",
    "display(HTML(\"<style>.container { width:100% !important; }</style>\"))\n",
    "from timeshap.plot import timeshap_theme\n",
    "alt.themes.register(\"timeshap_theme\", timeshap_theme)\n",
    "alt.themes.enable(\"timeshap_theme\")\n",
    "\n",
    "np.random.seed(42)"
   ]
  },
  {
   "cell_type": "markdown",
   "id": "0c758a7b",
   "metadata": {},
   "source": [
    "## 1.1 Data-Loading"
   ]
  },
  {
   "cell_type": "code",
   "execution_count": 2,
   "id": "66dcf4eb",
   "metadata": {},
   "outputs": [
    {
     "name": "stdout",
     "output_type": "stream",
     "text": [
      "sitting/dataset5.csv ------ (480, 7)\n",
      "sitting/dataset11.csv ------ (480, 7)\n",
      "sitting/dataset3.csv ------ (480, 7)\n",
      "sitting/dataset10.csv ------ (480, 7)\n",
      "sitting/dataset12.csv ------ (480, 7)\n",
      "sitting/dataset4.csv ------ (480, 7)\n",
      "sitting/dataset13.csv ------ (480, 7)\n",
      "sitting/dataset9.csv ------ (480, 7)\n",
      "sitting/dataset2.csv ------ (480, 7)\n",
      "sitting/dataset15.csv ------ (480, 7)\n",
      "sitting/dataset1.csv ------ (480, 7)\n",
      "sitting/dataset14.csv ------ (480, 7)\n",
      "sitting/dataset6.csv ------ (480, 7)\n",
      "sitting/dataset7.csv ------ (480, 7)\n",
      "standing/dataset5.csv ------ (480, 7)\n",
      "standing/dataset11.csv ------ (480, 7)\n",
      "standing/dataset3.csv ------ (480, 7)\n",
      "standing/dataset10.csv ------ (480, 7)\n",
      "standing/dataset12.csv ------ (480, 7)\n",
      "standing/dataset4.csv ------ (480, 7)\n",
      "standing/dataset13.csv ------ (480, 7)\n",
      "standing/dataset9.csv ------ (480, 7)\n",
      "standing/dataset2.csv ------ (480, 7)\n",
      "standing/dataset15.csv ------ (480, 7)\n",
      "standing/dataset1.csv ------ (480, 7)\n",
      "standing/dataset14.csv ------ (480, 7)\n",
      "standing/dataset6.csv ------ (480, 7)\n",
      "standing/dataset7.csv ------ (480, 7)\n",
      "walking/dataset5.csv ------ (480, 7)\n",
      "walking/dataset11.csv ------ (480, 7)\n",
      "walking/dataset3.csv ------ (480, 7)\n",
      "walking/dataset10.csv ------ (480, 7)\n",
      "walking/dataset12.csv ------ (480, 7)\n",
      "walking/dataset4.csv ------ (480, 7)\n",
      "walking/dataset13.csv ------ (480, 7)\n",
      "walking/dataset9.csv ------ (480, 7)\n",
      "walking/dataset2.csv ------ (480, 7)\n",
      "walking/dataset15.csv ------ (480, 7)\n",
      "walking/dataset1.csv ------ (480, 7)\n",
      "walking/dataset14.csv ------ (480, 7)\n",
      "walking/dataset6.csv ------ (480, 7)\n",
      "walking/dataset7.csv ------ (480, 7)\n",
      "cycling/dataset5.csv ------ (480, 7)\n",
      "cycling/dataset11.csv ------ (480, 7)\n",
      "cycling/dataset3.csv ------ (480, 7)\n",
      "cycling/dataset10.csv ------ (480, 7)\n",
      "cycling/dataset12.csv ------ (480, 7)\n",
      "cycling/dataset4.csv ------ (480, 7)\n",
      "cycling/dataset13.csv ------ (480, 7)\n",
      "cycling/dataset9.csv ------ (480, 7)\n",
      "cycling/dataset2.csv ------ (480, 7)\n",
      "cycling/dataset15.csv ------ (480, 7)\n",
      "cycling/dataset1.csv ------ (480, 7)\n",
      "cycling/dataset14.csv ------ (480, 7)\n",
      "cycling/dataset6.csv ------ (480, 7)\n",
      "cycling/dataset7.csv ------ (480, 7)\n",
      "lying/dataset5.csv ------ (480, 7)\n",
      "lying/dataset11.csv ------ (480, 7)\n",
      "lying/dataset3.csv ------ (480, 7)\n",
      "lying/dataset10.csv ------ (480, 7)\n",
      "lying/dataset12.csv ------ (480, 7)\n",
      "lying/dataset4.csv ------ (480, 7)\n",
      "lying/dataset13.csv ------ (480, 7)\n",
      "lying/dataset9.csv ------ (480, 7)\n",
      "lying/dataset2.csv ------ (480, 7)\n",
      "lying/dataset15.csv ------ (480, 7)\n",
      "lying/dataset1.csv ------ (480, 7)\n",
      "lying/dataset14.csv ------ (480, 7)\n",
      "lying/dataset6.csv ------ (480, 7)\n",
      "lying/dataset7.csv ------ (480, 7)\n"
     ]
    }
   ],
   "source": [
    "import os\n",
    "import re\n",
    "\n",
    "data_directories = next(os.walk(\"./AReM\"))[1]\n",
    "\n",
    "all_csvs = []\n",
    "for folder in data_directories:\n",
    "    if folder in ['bending1', 'bending2']:\n",
    "        continue\n",
    "    folder_csvs = next(os.walk(f\"./AReM/{folder}\"))[2]\n",
    "    for data_csv in folder_csvs:\n",
    "        if data_csv == 'dataset8.csv':\n",
    "            # this dataset only has 479 instances\n",
    "            # it is possible to use it, but would require padding logic\n",
    "            continue\n",
    "        loaded_data = pd.read_csv(f\"./AReM/{folder}/{data_csv}\", skiprows=4)\n",
    "        print(f\"{folder}/{data_csv} ------ {loaded_data.shape}\")\n",
    "        \n",
    "        csv_id = re.findall(r'\\d+', data_csv)[0]\n",
    "        loaded_data['id'] = csv_id\n",
    "        loaded_data['all_id'] = f\"{folder}_{csv_id}\"\n",
    "        loaded_data['activity'] = folder\n",
    "        all_csvs.append(loaded_data)\n",
    "all_data = pd.concat(all_csvs)\n",
    "raw_model_features = ['avg_rss12', 'var_rss12', 'avg_rss13', 'var_rss13', 'avg_rss23', 'var_rss23']\n",
    "all_data.columns = ['timestamp', 'avg_rss12', 'var_rss12', 'avg_rss13', 'var_rss13', 'avg_rss23', 'var_rss23', 'id', 'all_id', 'activity']"
   ]
  },
  {
   "cell_type": "markdown",
   "id": "2aea2406",
   "metadata": {},
   "source": [
    "## 1.2 Data Treatment"
   ]
  },
  {
   "cell_type": "markdown",
   "id": "db62bc15",
   "metadata": {
    "scrolled": true
   },
   "source": [
    "### Separate in train and test"
   ]
  },
  {
   "cell_type": "code",
   "execution_count": 3,
   "id": "a3df1a10",
   "metadata": {},
   "outputs": [],
   "source": [
    "# all ids ['1', '10', '11', '12', '13', '14', '15', '2', '3', '4', '5', '6', '7', '8', '9']\n",
    "#choose ids to use for test\n",
    "ids_for_test = np.random.choice(['1', '10', '11', '12', '13', '14', '15', '2', '3', '4', '5', '6', '7', '8', '9'],size = 4, replace=False)\n",
    "\n",
    "d_train =  all_data[~all_data['id'].isin(ids_for_test)]\n",
    "d_test = all_data[all_data['id'].isin(ids_for_test)]"
   ]
  },
  {
   "cell_type": "markdown",
   "id": "1c801cff",
   "metadata": {},
   "source": [
    "###  Normalize Features"
   ]
  },
  {
   "cell_type": "code",
   "execution_count": 4,
   "id": "d627aeda",
   "metadata": {},
   "outputs": [],
   "source": [
    "class NumericalNormalizer:\n",
    "    def __init__(self, fields: list):\n",
    "        self.metrics = {}\n",
    "        self.fields = fields\n",
    "\n",
    "    def fit(self, df: pd.DataFrame ) -> list:\n",
    "        means = df.mean()\n",
    "        std = df.std()\n",
    "        for field in self.fields:\n",
    "            field_mean = means[field]\n",
    "            field_stddev = std[field]\n",
    "            self.metrics[field] = {'mean': field_mean, 'std': field_stddev}\n",
    "\n",
    "    def transform(self, df: pd.DataFrame) -> pd.DataFrame:\n",
    "        # Transform to zero-mean and unit variance.\n",
    "        for field in self.fields:\n",
    "            f_mean = self.metrics[field]['mean']\n",
    "            f_stddev = self.metrics[field]['std']\n",
    "            # OUTLIER CLIPPING to [avg-3*std, avg+3*avg]\n",
    "            df[field] = df[field].apply(lambda x: f_mean - 3 * f_stddev if x < f_mean - 3 * f_stddev else x)\n",
    "            df[field] = df[field].apply(lambda x: f_mean + 3 * f_stddev if x > f_mean + 3 * f_stddev else x)\n",
    "            if f_stddev > 1e-5:\n",
    "                df[f'p_{field}_normalized'] = df[field].apply(lambda x: ((x - f_mean)/f_stddev))\n",
    "            else:\n",
    "                df[f'p_{field}_normalized'] = df[field].apply(lambda x: x * 0)\n",
    "        return df"
   ]
  },
  {
   "cell_type": "code",
   "execution_count": 5,
   "id": "a622fbed",
   "metadata": {},
   "outputs": [
    {
     "name": "stderr",
     "output_type": "stream",
     "text": [
      "Dropping of nuisance columns in DataFrame reductions (with 'numeric_only=None') is deprecated; in a future version this will raise TypeError.  Select only valid columns before calling the reduction.\n",
      "Dropping of nuisance columns in DataFrame reductions (with 'numeric_only=None') is deprecated; in a future version this will raise TypeError.  Select only valid columns before calling the reduction.\n",
      "\n",
      "A value is trying to be set on a copy of a slice from a DataFrame.\n",
      "Try using .loc[row_indexer,col_indexer] = value instead\n",
      "\n",
      "See the caveats in the documentation: https://pandas.pydata.org/pandas-docs/stable/user_guide/indexing.html#returning-a-view-versus-a-copy\n",
      "\n",
      "A value is trying to be set on a copy of a slice from a DataFrame.\n",
      "Try using .loc[row_indexer,col_indexer] = value instead\n",
      "\n",
      "See the caveats in the documentation: https://pandas.pydata.org/pandas-docs/stable/user_guide/indexing.html#returning-a-view-versus-a-copy\n",
      "\n",
      "A value is trying to be set on a copy of a slice from a DataFrame.\n",
      "Try using .loc[row_indexer,col_indexer] = value instead\n",
      "\n",
      "See the caveats in the documentation: https://pandas.pydata.org/pandas-docs/stable/user_guide/indexing.html#returning-a-view-versus-a-copy\n"
     ]
    }
   ],
   "source": [
    "normalizor = NumericalNormalizer(raw_model_features)\n",
    "normalizor.fit(d_train)\n",
    "d_train_normalized = normalizor.transform(d_train)\n",
    "d_test_normalized = normalizor.transform(d_test)"
   ]
  },
  {
   "cell_type": "markdown",
   "id": "58ed80b8",
   "metadata": {},
   "source": [
    "### Features"
   ]
  },
  {
   "cell_type": "code",
   "execution_count": 6,
   "id": "3be4cdd7",
   "metadata": {},
   "outputs": [],
   "source": [
    "model_features = [f\"p_{x}_normalized\" for x in raw_model_features]\n",
    "time_feat = 'timestamp'\n",
    "label_feat = 'activity'\n",
    "sequence_id_feat = 'all_id'\n",
    "\n",
    "plot_feats = {\n",
    "    'p_avg_rss12_normalized': \"Mean Chest <-> Right Ankle\",\n",
    "    'p_var_rss12_normalized': \"STD Chest <-> Right Ankle\",\n",
    "    'p_avg_rss13_normalized': \"Mean Chest <-> Left Ankle\",\n",
    "    'p_var_rss13_normalized': \"STD Chest <-> Left Ankle\",\n",
    "    'p_avg_rss23_normalized': \"Mean Right Ankle <-> Left Ankle\",\n",
    "    'p_var_rss23_normalized': \"STD Right Ankle <-> Left Ankle\",\n",
    "}"
   ]
  },
  {
   "cell_type": "markdown",
   "id": "b9e08290",
   "metadata": {},
   "source": [
    "### Transform the dataset from multi-label to binary classification"
   ]
  },
  {
   "cell_type": "code",
   "execution_count": 7,
   "id": "f1cba387",
   "metadata": {},
   "outputs": [
    {
     "name": "stderr",
     "output_type": "stream",
     "text": [
      "\n",
      "A value is trying to be set on a copy of a slice from a DataFrame.\n",
      "Try using .loc[row_indexer,col_indexer] = value instead\n",
      "\n",
      "See the caveats in the documentation: https://pandas.pydata.org/pandas-docs/stable/user_guide/indexing.html#returning-a-view-versus-a-copy\n",
      "\n",
      "A value is trying to be set on a copy of a slice from a DataFrame.\n",
      "Try using .loc[row_indexer,col_indexer] = value instead\n",
      "\n",
      "See the caveats in the documentation: https://pandas.pydata.org/pandas-docs/stable/user_guide/indexing.html#returning-a-view-versus-a-copy\n"
     ]
    }
   ],
   "source": [
    "# possible activities ['cycling', 'lying', 'sitting', 'standing', 'walking']\n",
    "#Select the activity to predict\n",
    "chosen_activity = 'cycling'\n",
    "\n",
    "d_train_normalized['label'] = d_train_normalized['activity'].apply(lambda x: int(x == chosen_activity))\n",
    "d_test_normalized['label'] = d_test_normalized['activity'].apply(lambda x: int(x == chosen_activity))"
   ]
  },
  {
   "cell_type": "code",
   "execution_count": 8,
   "id": "35cf4835",
   "metadata": {},
   "outputs": [],
   "source": [
    "def df_to_numpy(df, model_feats, label_feat, group_by_feat, timestamp_Feat):\n",
    "    sequence_length = len(df[timestamp_Feat].unique())\n",
    "\n",
    "    data_tensor = np.zeros(\n",
    "        (len(df[group_by_feat].unique()), sequence_length, len(model_feats)))\n",
    "    labels_tensor = np.zeros((len(df[group_by_feat].unique()), 1))\n",
    "\n",
    "    for i, name in enumerate(df[group_by_feat].unique()):\n",
    "        name_data = df[df[group_by_feat] == name]\n",
    "        sorted_data = name_data.sort_values(timestamp_Feat)\n",
    "\n",
    "        data_x = sorted_data[model_feats].values\n",
    "        labels = sorted_data[label_feat].values\n",
    "        assert labels.sum() == 0 or labels.sum() == len(labels)\n",
    "        data_tensor[i, :, :] = data_x\n",
    "        labels_tensor[i, :] = labels[0]\n",
    "    return data_tensor, labels_tensor"
   ]
  },
  {
   "cell_type": "code",
   "execution_count": 9,
   "id": "c5b4ab48",
   "metadata": {},
   "outputs": [],
   "source": [
    "X_train, y_train = df_to_numpy(d_train_normalized, model_features, 'label', sequence_id_feat, time_feat)\n",
    "\n",
    "X_test, y_test = df_to_numpy(d_test_normalized, model_features, 'label', sequence_id_feat, time_feat)"
   ]
  },
  {
   "cell_type": "markdown",
   "id": "f1c4aa88",
   "metadata": {},
   "source": [
    "___\n",
    "# 2. Model\n"
   ]
  },
  {
   "cell_type": "markdown",
   "id": "992d6c20",
   "metadata": {},
   "source": [
    "## 2.1 Model Definition"
   ]
  },
  {
   "cell_type": "code",
   "execution_count": 10,
   "id": "2b7b9cb5",
   "metadata": {},
   "outputs": [],
   "source": [
    "import tensorflow as tf\n",
    "\n",
    "inputs = tf.keras.layers.Input(shape=(None, 6))\n",
    "lstm1 = tf.keras.layers.LSTM(64)(inputs)\n",
    "ff1 = tf.keras.layers.Dense(64, activation='relu')(lstm1)\n",
    "ff2 = tf.keras.layers.Dense(1, activation='sigmoid')(ff1)\n",
    "model = tf.keras.models.Model(inputs=inputs, outputs=ff2)"
   ]
  },
  {
   "cell_type": "markdown",
   "id": "9a01e96a",
   "metadata": {},
   "source": [
    "## 2.2 Model Training"
   ]
  },
  {
   "cell_type": "code",
   "execution_count": 11,
   "id": "abb35ac5",
   "metadata": {},
   "outputs": [
    {
     "name": "stdout",
     "output_type": "stream",
     "text": [
      "Epoch 1/20\n",
      "1/1 [==============================] - 2s 2s/step - loss: 0.8030 - val_loss: 0.7958\n",
      "Epoch 2/20\n",
      "1/1 [==============================] - 0s 336ms/step - loss: 0.7726 - val_loss: 0.7684\n",
      "Epoch 3/20\n",
      "1/1 [==============================] - 0s 307ms/step - loss: 0.7444 - val_loss: 0.7435\n",
      "Epoch 4/20\n",
      "1/1 [==============================] - 0s 306ms/step - loss: 0.7187 - val_loss: 0.7201\n",
      "Epoch 5/20\n",
      "1/1 [==============================] - 0s 285ms/step - loss: 0.6947 - val_loss: 0.6980\n",
      "Epoch 6/20\n",
      "1/1 [==============================] - 0s 309ms/step - loss: 0.6721 - val_loss: 0.6775\n",
      "Epoch 7/20\n",
      "1/1 [==============================] - 0s 302ms/step - loss: 0.6516 - val_loss: 0.6579\n",
      "Epoch 8/20\n",
      "1/1 [==============================] - 0s 336ms/step - loss: 0.6322 - val_loss: 0.6386\n",
      "Epoch 9/20\n",
      "1/1 [==============================] - 0s 255ms/step - loss: 0.6132 - val_loss: 0.6199\n",
      "Epoch 10/20\n",
      "1/1 [==============================] - 0s 259ms/step - loss: 0.5945 - val_loss: 0.6012\n",
      "Epoch 11/20\n",
      "1/1 [==============================] - 0s 270ms/step - loss: 0.5756 - val_loss: 0.5820\n",
      "Epoch 12/20\n",
      "1/1 [==============================] - 0s 277ms/step - loss: 0.5559 - val_loss: 0.5615\n",
      "Epoch 13/20\n",
      "1/1 [==============================] - 0s 238ms/step - loss: 0.5351 - val_loss: 0.5392\n",
      "Epoch 14/20\n",
      "1/1 [==============================] - 0s 274ms/step - loss: 0.5133 - val_loss: 0.5149\n",
      "Epoch 15/20\n",
      "1/1 [==============================] - 0s 290ms/step - loss: 0.4900 - val_loss: 0.4886\n",
      "Epoch 16/20\n",
      "1/1 [==============================] - 0s 376ms/step - loss: 0.4651 - val_loss: 0.4599\n",
      "Epoch 17/20\n",
      "1/1 [==============================] - 0s 303ms/step - loss: 0.4385 - val_loss: 0.4286\n",
      "Epoch 18/20\n",
      "1/1 [==============================] - 0s 342ms/step - loss: 0.4100 - val_loss: 0.3958\n",
      "Epoch 19/20\n",
      "1/1 [==============================] - 0s 324ms/step - loss: 0.3799 - val_loss: 0.3637\n",
      "Epoch 20/20\n",
      "1/1 [==============================] - 0s 294ms/step - loss: 0.3497 - val_loss: 0.3346\n"
     ]
    },
    {
     "data": {
      "text/plain": [
       "<keras.callbacks.History at 0x7ff3486c8a50>"
      ]
     },
     "execution_count": 11,
     "metadata": {},
     "output_type": "execute_result"
    }
   ],
   "source": [
    "model.compile(loss=tf.keras.losses.BinaryCrossentropy(),\n",
    "              optimizer=tf.keras.optimizers.Adam(0.001))\n",
    "\n",
    "model.fit(X_train, y_train, epochs=20, batch_size=55, validation_data=(X_test, y_test))"
   ]
  },
  {
   "cell_type": "markdown",
   "id": "acf04894",
   "metadata": {},
   "source": [
    "---\n",
    "# 3. TimeSHAP\n",
    "---"
   ]
  },
  {
   "cell_type": "code",
   "execution_count": 12,
   "id": "3d33a0da",
   "metadata": {},
   "outputs": [],
   "source": [
    "import timeshap"
   ]
  },
  {
   "cell_type": "markdown",
   "id": "d9212121",
   "metadata": {},
   "source": [
    "### Model entry point"
   ]
  },
  {
   "cell_type": "code",
   "execution_count": 13,
   "id": "396cb0ac",
   "metadata": {},
   "outputs": [],
   "source": [
    "f = lambda x: model.predict(x)"
   ]
  },
  {
   "cell_type": "markdown",
   "id": "a66a417b",
   "metadata": {},
   "source": [
    "### Baseline event"
   ]
  },
  {
   "cell_type": "code",
   "execution_count": 14,
   "id": "d8d7584d",
   "metadata": {},
   "outputs": [],
   "source": [
    "from timeshap import calc_avg_event\n",
    "average_event = calc_avg_event(d_train_normalized, numerical_feats=model_features, categorical_feats=[])"
   ]
  },
  {
   "cell_type": "markdown",
   "id": "2b707fa7",
   "metadata": {},
   "source": [
    "### Average score over baseline"
   ]
  },
  {
   "cell_type": "code",
   "execution_count": 15,
   "id": "b254545e",
   "metadata": {},
   "outputs": [],
   "source": [
    "from timeshap import get_avg_score_with_avg_event\n",
    "avg_score_over_len = get_avg_score_with_avg_event(f, average_event, top=480)"
   ]
  },
  {
   "cell_type": "markdown",
   "id": "873b1de2",
   "metadata": {},
   "source": [
    "## 3.1 Local Explanations"
   ]
  },
  {
   "cell_type": "code",
   "execution_count": 16,
   "id": "df877e9e",
   "metadata": {},
   "outputs": [],
   "source": [
    "positive_sequence_id = 'cycling_1'\n",
    "pos_x_pd = d_test_normalized[d_test_normalized['all_id'] == positive_sequence_id]\n",
    "\n",
    "# select model features only\n",
    "pos_x_data = pos_x_pd[model_features]\n",
    "# convert the instance to numpy so TimeSHAP receives it\n",
    "pos_x_data = np.expand_dims(pos_x_data.to_numpy().copy(), axis=0)"
   ]
  },
  {
   "cell_type": "markdown",
   "id": "9dc37382",
   "metadata": {},
   "source": [
    "### Local Report on positive instance"
   ]
  },
  {
   "cell_type": "code",
   "execution_count": 17,
   "id": "be908ef3",
   "metadata": {},
   "outputs": [
    {
     "name": "stdout",
     "output_type": "stream",
     "text": [
      "No path to explainer data provided. Calculating data\n"
     ]
    },
    {
     "name": "stderr",
     "output_type": "stream",
     "text": [
      "\n",
      "A value is trying to be set on a copy of a slice from a DataFrame.\n",
      "Try using .loc[row_indexer,col_indexer] = value instead\n",
      "\n",
      "See the caveats in the documentation: https://pandas.pydata.org/pandas-docs/stable/user_guide/indexing.html#returning-a-view-versus-a-copy\n"
     ]
    },
    {
     "name": "stdout",
     "output_type": "stream",
     "text": [
      "No path to event data provided. Calculating data\n",
      "No path to feature data provided. Calculating data\n",
      "No path to feature data provided. Calculating data\n"
     ]
    },
    {
     "data": {
      "text/html": [
       "\n",
       "<div id=\"altair-viz-8a4f0c1403e848fd9cd9e07f45f6ece2\"></div>\n",
       "<script type=\"text/javascript\">\n",
       "  (function(spec, embedOpt){\n",
       "    let outputDiv = document.currentScript.previousElementSibling;\n",
       "    if (outputDiv.id !== \"altair-viz-8a4f0c1403e848fd9cd9e07f45f6ece2\") {\n",
       "      outputDiv = document.getElementById(\"altair-viz-8a4f0c1403e848fd9cd9e07f45f6ece2\");\n",
       "    }\n",
       "    const paths = {\n",
       "      \"vega\": \"https://cdn.jsdelivr.net/npm//vega@5?noext\",\n",
       "      \"vega-lib\": \"https://cdn.jsdelivr.net/npm//vega-lib?noext\",\n",
       "      \"vega-lite\": \"https://cdn.jsdelivr.net/npm//vega-lite@4.8.1?noext\",\n",
       "      \"vega-embed\": \"https://cdn.jsdelivr.net/npm//vega-embed@6?noext\",\n",
       "    };\n",
       "\n",
       "    function loadScript(lib) {\n",
       "      return new Promise(function(resolve, reject) {\n",
       "        var s = document.createElement('script');\n",
       "        s.src = paths[lib];\n",
       "        s.async = true;\n",
       "        s.onload = () => resolve(paths[lib]);\n",
       "        s.onerror = () => reject(`Error loading script: ${paths[lib]}`);\n",
       "        document.getElementsByTagName(\"head\")[0].appendChild(s);\n",
       "      });\n",
       "    }\n",
       "\n",
       "    function showError(err) {\n",
       "      outputDiv.innerHTML = `<div class=\"error\" style=\"color:red;\">${err}</div>`;\n",
       "      throw err;\n",
       "    }\n",
       "\n",
       "    function displayChart(vegaEmbed) {\n",
       "      vegaEmbed(outputDiv, spec, embedOpt)\n",
       "        .catch(err => showError(`Javascript Error: ${err.message}<br>This usually means there's a typo in your chart specification. See the javascript console for the full traceback.`));\n",
       "    }\n",
       "\n",
       "    if(typeof define === \"function\" && define.amd) {\n",
       "      requirejs.config({paths});\n",
       "      require([\"vega-embed\"], displayChart, err => showError(`Error loading script: ${err.message}`));\n",
       "    } else if (typeof vegaEmbed === \"function\") {\n",
       "      displayChart(vegaEmbed);\n",
       "    } else {\n",
       "      loadScript(\"vega\")\n",
       "        .then(() => loadScript(\"vega-lite\"))\n",
       "        .then(() => loadScript(\"vega-embed\"))\n",
       "        .catch(showError)\n",
       "        .then(() => displayChart(vegaEmbed));\n",
       "    }\n",
       "  })({\"config\": {\"axis\": {\"domain\": true, \"domainColor\": \"#798184\", \"grid\": false, \"gridColor\": \"#798184\", \"gridOpacity\": 0.5, \"gridDash\": [3, 5], \"gridWidth\": 0.8, \"gridCap\": \"round\", \"labelPadding\": 3, \"labelFont\": \"Roboto\", \"labelColor\": \"#798184\", \"tickSize\": 5, \"tickColor\": \"#798184\", \"tickOpacity\": 0.5, \"titleColor\": \"#384140\", \"titleFont\": \"Roboto\", \"titleFontSize\": 12}, \"axisBand\": {\"domain\": true, \"ticks\": false, \"labelPadding\": 7}, \"axisY\": {\"domain\": false, \"titleAlign\": \"left\", \"titleAngle\": 0, \"titleX\": -20, \"titleY\": -10}, \"legend\": {\"labelColor\": \"#798184\", \"labelFontSize\": 12, \"symbolSize\": 40, \"titleColor\": \"#384140\", \"titleFontSize\": 12, \"titlePadding\": 10, \"titleFont\": \"Roboto\", \"labelFont\": \"Roboto\"}, \"line\": {\"stroke\": \"#618FE0\", \"strokeWidth\": 2}, \"rule\": {\"stroke\": \"#798184\"}, \"path\": {\"stroke\": \"#618FE0\", \"strokeWidth\": 0.5}, \"rect\": {\"fill\": \"#618FE0\"}, \"point\": {\"filled\": true, \"shape\": \"circle\"}, \"shape\": {\"stroke\": \"#618FE0\"}, \"bar\": {\"fill\": \"#618FE0\", \"stroke\": null}, \"text\": {\"font\": \"Roboto\", \"color\": \"#384140\", \"fontSize\": 12}, \"arc\": {\"stroke\": \"#fff\", \"strokeWidth\": 1}, \"range\": {\"category\": [\"#618FE0\", \"#50D0B0\", \"#E17560\", \"#E8B474\", \"#D889C4\", \"#34A3BC\", \"#A583A4\"], \"ramp\": [\"#001854\", \"#002f72\", \"#04478e\", \"#1e5fab\", \"#4477c5\", \"#6290e1\", \"#7ea9fd\", \"#9ec7ff\", \"#bde4ff\"], \"heatmap\": [\"#001854\", \"#002f72\", \"#04478e\", \"#1e5fab\", \"#4477c5\", \"#6290e1\", \"#7ea9fd\", \"#9ec7ff\", \"#bde4ff\"], \"diverging\": [\"#003b26\", \"#006b52\", \"#1aa082\", \"#55d5b5\", \"#f5f5f5\", \"#ffaa92\", \"#d16f5b\", \"#9e392c\", \"#650200\"]}, \"title\": {\"anchor\": \"start\", \"fontSize\": 20, \"color\": \"#384140\", \"fontWeight\": \"bold\", \"offset\": 20, \"font\": \"Roboto\", \"subtitleColor\": \"#384140\", \"subtitleFontSize\": 16}, \"header\": {\"labelFontSize\": 12, \"titleFontSize\": 16, \"labelColor\": \"#384140\", \"titleColor\": \"#384140\", \"titleFont\": \"Roboto\", \"labelFont\": \"Roboto\"}, \"group\": {\"fill\": \"white\"}, \"background\": \"white\", \"view\": {\"stroke\": \"transparent\", \"continuousHeight\": 300, \"continuousWidth\": 400}}, \"hconcat\": [{\"layer\": [{\"mark\": {\"type\": \"area\", \"opacity\": 0.5}, \"encoding\": {\"color\": {\"type\": \"nominal\", \"field\": \"Coalition\", \"legend\": {\"fillColor\": \"white\", \"labelFontSize\": 14, \"labelLimit\": 0, \"orient\": \"top-left\", \"symbolSize\": 50, \"symbolStrokeWidth\": 0, \"title\": null}, \"scale\": {\"domain\": [\"Sum of contribution of events \\u2264 t\"], \"range\": [\"#618FE0\"]}}, \"x\": {\"type\": \"quantitative\", \"axis\": {\"labelFontSize\": 15, \"title\": \"t (event index)\", \"titleFontSize\": 15}, \"field\": \"t (event index)\"}, \"y\": {\"type\": \"quantitative\", \"axis\": {\"grid\": true, \"labelFontSize\": 15, \"titleFontSize\": 15, \"titleX\": -28}, \"field\": \"Shapley Value\", \"scale\": {\"domain\": [-0.05, 1]}}}}, {\"mark\": \"line\", \"encoding\": {\"color\": {\"type\": \"nominal\", \"field\": \"Coalition\", \"legend\": {\"fillColor\": \"white\", \"labelFontSize\": 14, \"labelLimit\": 0, \"orient\": \"top-left\", \"symbolSize\": 50, \"symbolStrokeWidth\": 0, \"title\": null}, \"scale\": {\"domain\": [\"Sum of contribution of events \\u2264 t\"], \"range\": [\"#618FE0\"]}}, \"x\": {\"type\": \"quantitative\", \"axis\": {\"labelFontSize\": 15, \"title\": \"t (event index)\", \"titleFontSize\": 15}, \"field\": \"t (event index)\"}, \"y\": {\"type\": \"quantitative\", \"axis\": {\"grid\": true, \"labelFontSize\": 15, \"titleFontSize\": 15, \"titleX\": -28}, \"field\": \"Shapley Value\", \"scale\": {\"domain\": [-0.05, 1]}}}}, {\"data\": {\"name\": \"data-e77ac46d30d345cb69d3d984267f94d7\"}, \"mark\": {\"type\": \"rule\", \"color\": \"#E17560\"}, \"encoding\": {\"x\": {\"type\": \"quantitative\", \"field\": \"x\"}}}, {\"data\": {\"name\": \"data-8514f0f900cf415905652d458d2a9799\"}, \"mark\": {\"type\": \"text\", \"angle\": 270, \"color\": \"#E17560\", \"fontSize\": 15, \"fontWeight\": \"bold\", \"text\": \"Pruning\"}, \"encoding\": {\"x\": {\"type\": \"quantitative\", \"field\": \"x\"}}}], \"data\": {\"name\": \"data-bc7d5970475591d7e970395b07e068f5\"}, \"height\": 225, \"width\": 350}, {\"layer\": [{\"mark\": \"rect\", \"encoding\": {\"color\": {\"type\": \"quantitative\", \"field\": \"rounded\", \"legend\": {\"gradientLength\": 225, \"gradientThickness\": 10, \"labelFontSize\": 15, \"orient\": \"right\"}, \"scale\": {\"domain\": [-0.5, 0.5], \"range\": [\"#5f8fd6\", \"#99c3fb\", \"#f5f5f5\", \"#ffaa92\", \"#d16f5b\"]}, \"title\": null}, \"x\": {\"type\": \"ordinal\", \"axis\": {\"title\": \"Shapley Value\", \"titleFontSize\": 15}, \"field\": \"column\"}, \"y\": {\"type\": \"ordinal\", \"axis\": {\"domain\": false, \"labelFontSize\": 15, \"title\": \"Event\", \"titleFontSize\": 15, \"titleX\": -49}, \"field\": \"Feature\", \"sort\": [\"Event -1\", \"Event -2\", \"Event -3\", \"Event -4\", \"Event -5\", \"Event -6\", \"Event -7\", \"Event -8\", \"Event -9\", \"Event -10\", \"Event -11\", \"Event -12\", \"Event -13\", \"Event -14\", \"Event -15\", \"Event -16\", \"Event -17\", \"Event -18\", \"Event -19\", \"Event -20\", \"Event -21\", \"Event -22\", \"Event -23\", \"Event -24\", \"Event -25\", \"Event -26\", \"Event -27\", \"Event -28\", \"Event -29\", \"Event -30\", \"Event -31\", \"Event -32\", \"Event -33\", \"Event -34\", \"Event -35\", \"Pruned Events\"]}}}, {\"mark\": {\"type\": \"text\", \"align\": \"right\", \"baseline\": \"middle\", \"color\": \"#798184\", \"dx\": 18, \"fontSize\": 15}, \"encoding\": {\"text\": {\"type\": \"nominal\", \"field\": \"rounded_str\"}, \"x\": {\"type\": \"ordinal\", \"axis\": {\"domain\": false, \"labels\": false, \"title\": \"Shapley Value\", \"titleX\": 43}, \"field\": \"column\"}, \"y\": {\"type\": \"ordinal\", \"axis\": {\"domain\": false, \"labelFontSize\": 15, \"title\": \"Event\", \"titleFontSize\": 15, \"titleX\": -49}, \"field\": \"Feature\", \"sort\": [\"Event -1\", \"Event -2\", \"Event -3\", \"Event -4\", \"Event -5\", \"Event -6\", \"Event -7\", \"Event -8\", \"Event -9\", \"Event -10\", \"Event -11\", \"Event -12\", \"Event -13\", \"Event -14\", \"Event -15\", \"Event -16\", \"Event -17\", \"Event -18\", \"Event -19\", \"Event -20\", \"Event -21\", \"Event -22\", \"Event -23\", \"Event -24\", \"Event -25\", \"Event -26\", \"Event -27\", \"Event -28\", \"Event -29\", \"Event -30\", \"Event -31\", \"Event -32\", \"Event -33\", \"Event -34\", \"Event -35\", \"Pruned Events\"]}}}], \"data\": {\"name\": \"data-220ab78d492563c5c56d38965a1f122e\"}, \"height\": 225, \"width\": 60}, {\"layer\": [{\"data\": {\"name\": \"data-f6c6da9a80fd6a35273bc999577e517e\"}, \"mark\": {\"type\": \"bar\", \"size\": 15, \"thickness\": 1}, \"encoding\": {\"x\": {\"type\": \"quantitative\", \"axis\": {\"grid\": true, \"labelFontSize\": 15, \"title\": \"Shapley Value\", \"titleFontSize\": 15}, \"field\": \"Shapley Value\", \"scale\": {\"domain\": [-0.1, 0.4]}}, \"y\": {\"type\": \"nominal\", \"axis\": {\"labelFontSize\": 15, \"title\": \"Feature\", \"titleFontSize\": 15, \"titleX\": -61}, \"field\": \"Feature\", \"sort\": {\"field\": \"sort_col\", \"order\": \"descending\"}}}}, {\"data\": {\"name\": \"data-9c00aa9dc2b1c1a0b4bf9b34ead12925\"}, \"mark\": {\"type\": \"rule\", \"color\": \"#798184\"}, \"encoding\": {\"x\": {\"type\": \"quantitative\", \"field\": \"x\"}}}], \"height\": 225, \"width\": 190}, {\"hconcat\": [{\"layer\": [{\"mark\": \"rect\", \"encoding\": {\"color\": {\"type\": \"quantitative\", \"field\": \"rounded\", \"legend\": null, \"scale\": {\"domain\": [-0.5, 0.5], \"range\": [\"#5f8fd6\", \"#99c3fb\", \"#f5f5f5\", \"#ffaa92\", \"#d16f5b\"]}, \"title\": null}, \"x\": {\"type\": \"nominal\", \"axis\": {\"titleFontSize\": 15}, \"field\": \"Event\"}, \"y\": {\"type\": \"nominal\", \"axis\": {\"domain\": false, \"labels\": false, \"title\": null}, \"field\": \"Feature\"}}}, {\"mark\": {\"type\": \"text\", \"align\": \"right\", \"baseline\": \"middle\", \"color\": \"#798184\", \"dx\": 18, \"fontSize\": 15}, \"encoding\": {\"text\": {\"type\": \"nominal\", \"field\": \"rounded_str\"}, \"x\": {\"type\": \"nominal\", \"axis\": {\"domain\": false, \"labelAngle\": 0, \"labelFontSize\": 15, \"labelOffset\": 24, \"labelPadding\": 30, \"orient\": \"top\", \"title\": null}, \"field\": \"Event\"}, \"y\": {\"type\": \"nominal\", \"axis\": {\"domain\": false, \"labels\": false, \"title\": null}, \"field\": \"Feature\"}}}], \"data\": {\"name\": \"data-c7228725c18a5452a4a5c105563c4087\"}, \"height\": 225, \"width\": 66.66666666666667}, {\"layer\": [{\"mark\": \"rect\", \"encoding\": {\"color\": {\"type\": \"quantitative\", \"field\": \"rounded\", \"legend\": {\"gradientLength\": 225, \"gradientThickness\": 10, \"labelFontSize\": 15, \"orient\": \"right\"}, \"scale\": {\"domain\": [-0.5, 0.5], \"range\": [\"#5f8fd6\", \"#99c3fb\", \"#f5f5f5\", \"#ffaa92\", \"#d16f5b\"]}, \"title\": null}, \"x\": {\"type\": \"nominal\", \"axis\": {\"titleFontSize\": 15}, \"field\": \"Event\", \"sort\": [\"Event -8\", \"Event -2\"]}, \"y\": {\"type\": \"nominal\", \"axis\": {\"domain\": false, \"labelFontSize\": 15, \"title\": null}, \"field\": \"Feature\", \"sort\": [\"STD Chest <-> Left Ankle\", \"STD Right Ankle <-> Left Ankle\"]}}}, {\"mark\": {\"type\": \"text\", \"align\": \"right\", \"baseline\": \"middle\", \"color\": \"#798184\", \"dx\": 18, \"fontSize\": 15}, \"encoding\": {\"text\": {\"type\": \"nominal\", \"field\": \"rounded_str\"}, \"x\": {\"type\": \"nominal\", \"axis\": {\"domain\": false, \"labelAngle\": 30, \"labelFontSize\": 15, \"orient\": \"top\", \"title\": \"Shapley Value\", \"titleX\": 172, \"titleY\": 245}, \"field\": \"Event\", \"sort\": [\"Event -8\", \"Event -2\"]}, \"y\": {\"type\": \"nominal\", \"axis\": {\"domain\": false, \"labelFontSize\": 15, \"title\": null}, \"field\": \"Feature\", \"sort\": [\"STD Chest <-> Left Ankle\", \"STD Right Ankle <-> Left Ankle\"]}}}], \"data\": {\"name\": \"data-656247394bb56e0016530ce408e71bec\"}, \"height\": 225, \"width\": 160}], \"resolve\": {\"scale\": {\"color\": \"independent\"}}}], \"resolve\": {\"scale\": {\"color\": \"independent\"}}, \"$schema\": \"https://vega.github.io/schema/vega-lite/v4.8.1.json\", \"datasets\": {\"data-bc7d5970475591d7e970395b07e068f5\": [{\"Coalition\": \"Sum of contribution of events > t\", \"t (event index)\": 0, \"Shapley Value\": 0.0}, {\"Coalition\": \"Sum of contribution of events \\u2264 t\", \"t (event index)\": 0, \"Shapley Value\": 0.49879562854766846}, {\"Coalition\": \"Sum of contribution of events > t\", \"t (event index)\": -1, \"Shapley Value\": 0.01638665795326233}, {\"Coalition\": \"Sum of contribution of events \\u2264 t\", \"t (event index)\": -1, \"Shapley Value\": 0.48240897059440613}, {\"Coalition\": \"Sum of contribution of events > t\", \"t (event index)\": -2, \"Shapley Value\": 0.04125390946865082}, {\"Coalition\": \"Sum of contribution of events \\u2264 t\", \"t (event index)\": -2, \"Shapley Value\": 0.45754171907901764}, {\"Coalition\": \"Sum of contribution of events > t\", \"t (event index)\": -3, \"Shapley Value\": 0.04635585844516754}, {\"Coalition\": \"Sum of contribution of events \\u2264 t\", \"t (event index)\": -3, \"Shapley Value\": 0.4524397701025009}, {\"Coalition\": \"Sum of contribution of events > t\", \"t (event index)\": -4, \"Shapley Value\": 0.05534370243549347}, {\"Coalition\": \"Sum of contribution of events \\u2264 t\", \"t (event index)\": -4, \"Shapley Value\": 0.443451926112175}, {\"Coalition\": \"Sum of contribution of events > t\", \"t (event index)\": -5, \"Shapley Value\": 0.07672280073165894}, {\"Coalition\": \"Sum of contribution of events \\u2264 t\", \"t (event index)\": -5, \"Shapley Value\": 0.4220728278160095}, {\"Coalition\": \"Sum of contribution of events > t\", \"t (event index)\": -6, \"Shapley Value\": 0.08399029076099396}, {\"Coalition\": \"Sum of contribution of events \\u2264 t\", \"t (event index)\": -6, \"Shapley Value\": 0.4148053377866745}, {\"Coalition\": \"Sum of contribution of events > t\", \"t (event index)\": -7, \"Shapley Value\": 0.11436961591243744}, {\"Coalition\": \"Sum of contribution of events \\u2264 t\", \"t (event index)\": -7, \"Shapley Value\": 0.384426012635231}, {\"Coalition\": \"Sum of contribution of events > t\", \"t (event index)\": -8, \"Shapley Value\": 0.15635894238948822}, {\"Coalition\": \"Sum of contribution of events \\u2264 t\", \"t (event index)\": -8, \"Shapley Value\": 0.34243668615818024}, {\"Coalition\": \"Sum of contribution of events > t\", \"t (event index)\": -9, \"Shapley Value\": 0.17846472561359406}, {\"Coalition\": \"Sum of contribution of events \\u2264 t\", \"t (event index)\": -9, \"Shapley Value\": 0.3203309029340744}, {\"Coalition\": \"Sum of contribution of events > t\", \"t (event index)\": -10, \"Shapley Value\": 0.20478618144989014}, {\"Coalition\": \"Sum of contribution of events \\u2264 t\", \"t (event index)\": -10, \"Shapley Value\": 0.2940094470977783}, {\"Coalition\": \"Sum of contribution of events > t\", \"t (event index)\": -11, \"Shapley Value\": 0.2407693862915039}, {\"Coalition\": \"Sum of contribution of events \\u2264 t\", \"t (event index)\": -11, \"Shapley Value\": 0.25802624225616455}, {\"Coalition\": \"Sum of contribution of events > t\", \"t (event index)\": -12, \"Shapley Value\": 0.24839001893997192}, {\"Coalition\": \"Sum of contribution of events \\u2264 t\", \"t (event index)\": -12, \"Shapley Value\": 0.25040560960769653}, {\"Coalition\": \"Sum of contribution of events > t\", \"t (event index)\": -13, \"Shapley Value\": 0.27679333090782166}, {\"Coalition\": \"Sum of contribution of events \\u2264 t\", \"t (event index)\": -13, \"Shapley Value\": 0.2220022976398468}, {\"Coalition\": \"Sum of contribution of events > t\", \"t (event index)\": -14, \"Shapley Value\": 0.3013024777173996}, {\"Coalition\": \"Sum of contribution of events \\u2264 t\", \"t (event index)\": -14, \"Shapley Value\": 0.19749315083026886}, {\"Coalition\": \"Sum of contribution of events > t\", \"t (event index)\": -15, \"Shapley Value\": 0.3231050670146942}, {\"Coalition\": \"Sum of contribution of events \\u2264 t\", \"t (event index)\": -15, \"Shapley Value\": 0.17569056153297424}, {\"Coalition\": \"Sum of contribution of events > t\", \"t (event index)\": -16, \"Shapley Value\": 0.3511688560247421}, {\"Coalition\": \"Sum of contribution of events \\u2264 t\", \"t (event index)\": -16, \"Shapley Value\": 0.14762677252292633}, {\"Coalition\": \"Sum of contribution of events > t\", \"t (event index)\": -17, \"Shapley Value\": 0.35776206851005554}, {\"Coalition\": \"Sum of contribution of events \\u2264 t\", \"t (event index)\": -17, \"Shapley Value\": 0.14103356003761292}, {\"Coalition\": \"Sum of contribution of events > t\", \"t (event index)\": -18, \"Shapley Value\": 0.3667525500059128}, {\"Coalition\": \"Sum of contribution of events \\u2264 t\", \"t (event index)\": -18, \"Shapley Value\": 0.13204307854175568}, {\"Coalition\": \"Sum of contribution of events > t\", \"t (event index)\": -19, \"Shapley Value\": 0.3793666660785675}, {\"Coalition\": \"Sum of contribution of events \\u2264 t\", \"t (event index)\": -19, \"Shapley Value\": 0.11942896246910095}, {\"Coalition\": \"Sum of contribution of events > t\", \"t (event index)\": -20, \"Shapley Value\": 0.39420491456985474}, {\"Coalition\": \"Sum of contribution of events \\u2264 t\", \"t (event index)\": -20, \"Shapley Value\": 0.10459071397781372}, {\"Coalition\": \"Sum of contribution of events > t\", \"t (event index)\": -21, \"Shapley Value\": 0.4038602113723755}, {\"Coalition\": \"Sum of contribution of events \\u2264 t\", \"t (event index)\": -21, \"Shapley Value\": 0.09493541717529297}, {\"Coalition\": \"Sum of contribution of events > t\", \"t (event index)\": -22, \"Shapley Value\": 0.41441601514816284}, {\"Coalition\": \"Sum of contribution of events \\u2264 t\", \"t (event index)\": -22, \"Shapley Value\": 0.08437961339950562}, {\"Coalition\": \"Sum of contribution of events > t\", \"t (event index)\": -23, \"Shapley Value\": 0.41805635392665863}, {\"Coalition\": \"Sum of contribution of events \\u2264 t\", \"t (event index)\": -23, \"Shapley Value\": 0.08073927462100983}, {\"Coalition\": \"Sum of contribution of events > t\", \"t (event index)\": -24, \"Shapley Value\": 0.4182153195142746}, {\"Coalition\": \"Sum of contribution of events \\u2264 t\", \"t (event index)\": -24, \"Shapley Value\": 0.08058030903339386}, {\"Coalition\": \"Sum of contribution of events > t\", \"t (event index)\": -25, \"Shapley Value\": 0.4242616593837738}, {\"Coalition\": \"Sum of contribution of events \\u2264 t\", \"t (event index)\": -25, \"Shapley Value\": 0.07453396916389465}, {\"Coalition\": \"Sum of contribution of events > t\", \"t (event index)\": -26, \"Shapley Value\": 0.43452583253383636}, {\"Coalition\": \"Sum of contribution of events \\u2264 t\", \"t (event index)\": -26, \"Shapley Value\": 0.06426979601383209}, {\"Coalition\": \"Sum of contribution of events > t\", \"t (event index)\": -27, \"Shapley Value\": 0.44039468467235565}, {\"Coalition\": \"Sum of contribution of events \\u2264 t\", \"t (event index)\": -27, \"Shapley Value\": 0.058400943875312805}, {\"Coalition\": \"Sum of contribution of events > t\", \"t (event index)\": -28, \"Shapley Value\": 0.44863738119602203}, {\"Coalition\": \"Sum of contribution of events \\u2264 t\", \"t (event index)\": -28, \"Shapley Value\": 0.05015824735164642}, {\"Coalition\": \"Sum of contribution of events > t\", \"t (event index)\": -29, \"Shapley Value\": 0.452767089009285}, {\"Coalition\": \"Sum of contribution of events \\u2264 t\", \"t (event index)\": -29, \"Shapley Value\": 0.046028539538383484}, {\"Coalition\": \"Sum of contribution of events > t\", \"t (event index)\": -30, \"Shapley Value\": 0.4519525021314621}, {\"Coalition\": \"Sum of contribution of events \\u2264 t\", \"t (event index)\": -30, \"Shapley Value\": 0.04684312641620636}, {\"Coalition\": \"Sum of contribution of events > t\", \"t (event index)\": -31, \"Shapley Value\": 0.4558741897344589}, {\"Coalition\": \"Sum of contribution of events \\u2264 t\", \"t (event index)\": -31, \"Shapley Value\": 0.042921438813209534}, {\"Coalition\": \"Sum of contribution of events > t\", \"t (event index)\": -32, \"Shapley Value\": 0.46122418344020844}, {\"Coalition\": \"Sum of contribution of events \\u2264 t\", \"t (event index)\": -32, \"Shapley Value\": 0.03757144510746002}, {\"Coalition\": \"Sum of contribution of events > t\", \"t (event index)\": -33, \"Shapley Value\": 0.4656495004892349}, {\"Coalition\": \"Sum of contribution of events \\u2264 t\", \"t (event index)\": -33, \"Shapley Value\": 0.03314612805843353}, {\"Coalition\": \"Sum of contribution of events > t\", \"t (event index)\": -34, \"Shapley Value\": 0.4715174287557602}, {\"Coalition\": \"Sum of contribution of events \\u2264 t\", \"t (event index)\": -34, \"Shapley Value\": 0.027278199791908264}, {\"Coalition\": \"Sum of contribution of events > t\", \"t (event index)\": -35, \"Shapley Value\": 0.47450776398181915}, {\"Coalition\": \"Sum of contribution of events \\u2264 t\", \"t (event index)\": -35, \"Shapley Value\": 0.024287864565849304}, {\"Coalition\": \"Sum of contribution of events > t\", \"t (event index)\": -36, \"Shapley Value\": 0.4750417321920395}, {\"Coalition\": \"Sum of contribution of events \\u2264 t\", \"t (event index)\": -36, \"Shapley Value\": 0.023753896355628967}, {\"Coalition\": \"Sum of contribution of events > t\", \"t (event index)\": -37, \"Shapley Value\": 0.4766230285167694}, {\"Coalition\": \"Sum of contribution of events \\u2264 t\", \"t (event index)\": -37, \"Shapley Value\": 0.022172600030899048}, {\"Coalition\": \"Sum of contribution of events > t\", \"t (event index)\": -38, \"Shapley Value\": 0.47981157898902893}, {\"Coalition\": \"Sum of contribution of events \\u2264 t\", \"t (event index)\": -38, \"Shapley Value\": 0.018984049558639526}, {\"Coalition\": \"Sum of contribution of events > t\", \"t (event index)\": -39, \"Shapley Value\": 0.48050568997859955}, {\"Coalition\": \"Sum of contribution of events \\u2264 t\", \"t (event index)\": -39, \"Shapley Value\": 0.01828993856906891}, {\"Coalition\": \"Sum of contribution of events > t\", \"t (event index)\": -40, \"Shapley Value\": 0.4834912568330765}, {\"Coalition\": \"Sum of contribution of events \\u2264 t\", \"t (event index)\": -40, \"Shapley Value\": 0.01530437171459198}, {\"Coalition\": \"Sum of contribution of events > t\", \"t (event index)\": -41, \"Shapley Value\": 0.4840001314878464}, {\"Coalition\": \"Sum of contribution of events \\u2264 t\", \"t (event index)\": -41, \"Shapley Value\": 0.014795497059822083}, {\"Coalition\": \"Sum of contribution of events > t\", \"t (event index)\": -42, \"Shapley Value\": 0.4845065176486969}, {\"Coalition\": \"Sum of contribution of events \\u2264 t\", \"t (event index)\": -42, \"Shapley Value\": 0.014289110898971558}, {\"Coalition\": \"Sum of contribution of events > t\", \"t (event index)\": -43, \"Shapley Value\": 0.4857834428548813}, {\"Coalition\": \"Sum of contribution of events \\u2264 t\", \"t (event index)\": -43, \"Shapley Value\": 0.01301218569278717}, {\"Coalition\": \"Sum of contribution of events > t\", \"t (event index)\": -44, \"Shapley Value\": 0.48747941851615906}, {\"Coalition\": \"Sum of contribution of events \\u2264 t\", \"t (event index)\": -44, \"Shapley Value\": 0.0113162100315094}, {\"Coalition\": \"Sum of contribution of events > t\", \"t (event index)\": -45, \"Shapley Value\": 0.48836851119995117}, {\"Coalition\": \"Sum of contribution of events \\u2264 t\", \"t (event index)\": -45, \"Shapley Value\": 0.010427117347717285}, {\"Coalition\": \"Sum of contribution of events > t\", \"t (event index)\": -46, \"Shapley Value\": 0.4888923019170761}, {\"Coalition\": \"Sum of contribution of events \\u2264 t\", \"t (event index)\": -46, \"Shapley Value\": 0.009903326630592346}, {\"Coalition\": \"Sum of contribution of events > t\", \"t (event index)\": -47, \"Shapley Value\": 0.4902912676334381}, {\"Coalition\": \"Sum of contribution of events \\u2264 t\", \"t (event index)\": -47, \"Shapley Value\": 0.008504360914230347}, {\"Coalition\": \"Sum of contribution of events > t\", \"t (event index)\": -48, \"Shapley Value\": 0.4908820241689682}, {\"Coalition\": \"Sum of contribution of events \\u2264 t\", \"t (event index)\": -48, \"Shapley Value\": 0.007913604378700256}, {\"Coalition\": \"Sum of contribution of events > t\", \"t (event index)\": -49, \"Shapley Value\": 0.4915437251329422}, {\"Coalition\": \"Sum of contribution of events \\u2264 t\", \"t (event index)\": -49, \"Shapley Value\": 0.007251903414726257}, {\"Coalition\": \"Sum of contribution of events > t\", \"t (event index)\": -50, \"Shapley Value\": 0.4920329451560974}, {\"Coalition\": \"Sum of contribution of events \\u2264 t\", \"t (event index)\": -50, \"Shapley Value\": 0.006762683391571045}, {\"Coalition\": \"Sum of contribution of events > t\", \"t (event index)\": -51, \"Shapley Value\": 0.49269457161426544}, {\"Coalition\": \"Sum of contribution of events \\u2264 t\", \"t (event index)\": -51, \"Shapley Value\": 0.006101056933403015}, {\"Coalition\": \"Sum of contribution of events > t\", \"t (event index)\": -52, \"Shapley Value\": 0.49320776760578156}, {\"Coalition\": \"Sum of contribution of events \\u2264 t\", \"t (event index)\": -52, \"Shapley Value\": 0.005587860941886902}, {\"Coalition\": \"Sum of contribution of events > t\", \"t (event index)\": -53, \"Shapley Value\": 0.4937230050563812}, {\"Coalition\": \"Sum of contribution of events \\u2264 t\", \"t (event index)\": -53, \"Shapley Value\": 0.0050726234912872314}, {\"Coalition\": \"Sum of contribution of events > t\", \"t (event index)\": -54, \"Shapley Value\": 0.4943137913942337}, {\"Coalition\": \"Sum of contribution of events \\u2264 t\", \"t (event index)\": -54, \"Shapley Value\": 0.004481837153434753}, {\"Coalition\": \"Sum of contribution of events > t\", \"t (event index)\": -55, \"Shapley Value\": 0.494524821639061}, {\"Coalition\": \"Sum of contribution of events \\u2264 t\", \"t (event index)\": -55, \"Shapley Value\": 0.004270806908607483}, {\"Coalition\": \"Sum of contribution of events > t\", \"t (event index)\": -56, \"Shapley Value\": 0.4950067102909088}, {\"Coalition\": \"Sum of contribution of events \\u2264 t\", \"t (event index)\": -56, \"Shapley Value\": 0.0037889182567596436}, {\"Coalition\": \"Sum of contribution of events > t\", \"t (event index)\": -57, \"Shapley Value\": 0.49539797008037567}, {\"Coalition\": \"Sum of contribution of events \\u2264 t\", \"t (event index)\": -57, \"Shapley Value\": 0.0033976584672927856}, {\"Coalition\": \"Sum of contribution of events > t\", \"t (event index)\": -58, \"Shapley Value\": 0.49587756395339966}, {\"Coalition\": \"Sum of contribution of events \\u2264 t\", \"t (event index)\": -58, \"Shapley Value\": 0.002918064594268799}, {\"Coalition\": \"Sum of contribution of events > t\", \"t (event index)\": -59, \"Shapley Value\": 0.4962387979030609}, {\"Coalition\": \"Sum of contribution of events \\u2264 t\", \"t (event index)\": -59, \"Shapley Value\": 0.002556830644607544}, {\"Coalition\": \"Sum of contribution of events > t\", \"t (event index)\": -60, \"Shapley Value\": 0.4965015649795532}, {\"Coalition\": \"Sum of contribution of events \\u2264 t\", \"t (event index)\": -60, \"Shapley Value\": 0.0022940635681152344}, {\"Coalition\": \"Sum of contribution of events > t\", \"t (event index)\": -61, \"Shapley Value\": 0.49650946259498596}, {\"Coalition\": \"Sum of contribution of events \\u2264 t\", \"t (event index)\": -61, \"Shapley Value\": 0.002286165952682495}, {\"Coalition\": \"Sum of contribution of events > t\", \"t (event index)\": -62, \"Shapley Value\": 0.4967167526483536}, {\"Coalition\": \"Sum of contribution of events \\u2264 t\", \"t (event index)\": -62, \"Shapley Value\": 0.0020788758993148804}, {\"Coalition\": \"Sum of contribution of events > t\", \"t (event index)\": -63, \"Shapley Value\": 0.4969533383846283}, {\"Coalition\": \"Sum of contribution of events \\u2264 t\", \"t (event index)\": -63, \"Shapley Value\": 0.0018422901630401611}, {\"Coalition\": \"Sum of contribution of events > t\", \"t (event index)\": -64, \"Shapley Value\": 0.4971691370010376}, {\"Coalition\": \"Sum of contribution of events \\u2264 t\", \"t (event index)\": -64, \"Shapley Value\": 0.0016264915466308594}, {\"Coalition\": \"Sum of contribution of events > t\", \"t (event index)\": -65, \"Shapley Value\": 0.4973291754722595}, {\"Coalition\": \"Sum of contribution of events \\u2264 t\", \"t (event index)\": -65, \"Shapley Value\": 0.0014664530754089355}, {\"Coalition\": \"Sum of contribution of events > t\", \"t (event index)\": -66, \"Shapley Value\": 0.4975135326385498}, {\"Coalition\": \"Sum of contribution of events \\u2264 t\", \"t (event index)\": -66, \"Shapley Value\": 0.0012820959091186523}, {\"Coalition\": \"Sum of contribution of events > t\", \"t (event index)\": -67, \"Shapley Value\": 0.4975983798503876}, {\"Coalition\": \"Sum of contribution of events \\u2264 t\", \"t (event index)\": -67, \"Shapley Value\": 0.0011972486972808838}, {\"Coalition\": \"Sum of contribution of events > t\", \"t (event index)\": -68, \"Shapley Value\": 0.4976605474948883}, {\"Coalition\": \"Sum of contribution of events \\u2264 t\", \"t (event index)\": -68, \"Shapley Value\": 0.0011350810527801514}, {\"Coalition\": \"Sum of contribution of events > t\", \"t (event index)\": -69, \"Shapley Value\": 0.49780790507793427}, {\"Coalition\": \"Sum of contribution of events \\u2264 t\", \"t (event index)\": -69, \"Shapley Value\": 0.000987723469734192}, {\"Coalition\": \"Sum of contribution of events > t\", \"t (event index)\": -70, \"Shapley Value\": 0.49791744351387024}, {\"Coalition\": \"Sum of contribution of events \\u2264 t\", \"t (event index)\": -70, \"Shapley Value\": 0.0008781850337982178}, {\"Coalition\": \"Sum of contribution of events > t\", \"t (event index)\": -71, \"Shapley Value\": 0.4979527145624161}, {\"Coalition\": \"Sum of contribution of events \\u2264 t\", \"t (event index)\": -71, \"Shapley Value\": 0.0008429139852523804}, {\"Coalition\": \"Sum of contribution of events > t\", \"t (event index)\": -72, \"Shapley Value\": 0.4980701804161072}, {\"Coalition\": \"Sum of contribution of events \\u2264 t\", \"t (event index)\": -72, \"Shapley Value\": 0.0007254481315612793}, {\"Coalition\": \"Sum of contribution of events > t\", \"t (event index)\": -73, \"Shapley Value\": 0.49815917015075684}, {\"Coalition\": \"Sum of contribution of events \\u2264 t\", \"t (event index)\": -73, \"Shapley Value\": 0.0006364583969116211}, {\"Coalition\": \"Sum of contribution of events > t\", \"t (event index)\": -74, \"Shapley Value\": 0.4982067495584488}, {\"Coalition\": \"Sum of contribution of events \\u2264 t\", \"t (event index)\": -74, \"Shapley Value\": 0.0005888789892196655}, {\"Coalition\": \"Sum of contribution of events > t\", \"t (event index)\": -75, \"Shapley Value\": 0.49823325872421265}, {\"Coalition\": \"Sum of contribution of events \\u2264 t\", \"t (event index)\": -75, \"Shapley Value\": 0.0005623698234558105}, {\"Coalition\": \"Sum of contribution of events > t\", \"t (event index)\": -76, \"Shapley Value\": 0.49832382798194885}, {\"Coalition\": \"Sum of contribution of events \\u2264 t\", \"t (event index)\": -76, \"Shapley Value\": 0.0004718005657196045}, {\"Coalition\": \"Sum of contribution of events > t\", \"t (event index)\": -77, \"Shapley Value\": 0.4983341097831726}, {\"Coalition\": \"Sum of contribution of events \\u2264 t\", \"t (event index)\": -77, \"Shapley Value\": 0.0004615187644958496}, {\"Coalition\": \"Sum of contribution of events > t\", \"t (event index)\": -78, \"Shapley Value\": 0.4984102100133896}, {\"Coalition\": \"Sum of contribution of events \\u2264 t\", \"t (event index)\": -78, \"Shapley Value\": 0.00038541853427886963}, {\"Coalition\": \"Sum of contribution of events > t\", \"t (event index)\": -79, \"Shapley Value\": 0.49841679632663727}, {\"Coalition\": \"Sum of contribution of events \\u2264 t\", \"t (event index)\": -79, \"Shapley Value\": 0.00037883222103118896}, {\"Coalition\": \"Sum of contribution of events > t\", \"t (event index)\": -80, \"Shapley Value\": 0.49840472638607025}, {\"Coalition\": \"Sum of contribution of events \\u2264 t\", \"t (event index)\": -80, \"Shapley Value\": 0.00039090216159820557}, {\"Coalition\": \"Sum of contribution of events > t\", \"t (event index)\": -81, \"Shapley Value\": 0.49843285977840424}, {\"Coalition\": \"Sum of contribution of events \\u2264 t\", \"t (event index)\": -81, \"Shapley Value\": 0.0003627687692642212}, {\"Coalition\": \"Sum of contribution of events > t\", \"t (event index)\": -82, \"Shapley Value\": 0.49846315383911133}, {\"Coalition\": \"Sum of contribution of events \\u2264 t\", \"t (event index)\": -82, \"Shapley Value\": 0.0003324747085571289}, {\"Coalition\": \"Sum of contribution of events > t\", \"t (event index)\": -83, \"Shapley Value\": 0.4984828233718872}, {\"Coalition\": \"Sum of contribution of events \\u2264 t\", \"t (event index)\": -83, \"Shapley Value\": 0.00031280517578125}, {\"Coalition\": \"Sum of contribution of events > t\", \"t (event index)\": -84, \"Shapley Value\": 0.4985198676586151}, {\"Coalition\": \"Sum of contribution of events \\u2264 t\", \"t (event index)\": -84, \"Shapley Value\": 0.0002757608890533447}, {\"Coalition\": \"Sum of contribution of events > t\", \"t (event index)\": -85, \"Shapley Value\": 0.49853046238422394}, {\"Coalition\": \"Sum of contribution of events \\u2264 t\", \"t (event index)\": -85, \"Shapley Value\": 0.00026516616344451904}, {\"Coalition\": \"Sum of contribution of events > t\", \"t (event index)\": -86, \"Shapley Value\": 0.4985436201095581}, {\"Coalition\": \"Sum of contribution of events \\u2264 t\", \"t (event index)\": -86, \"Shapley Value\": 0.00025200843811035156}, {\"Coalition\": \"Sum of contribution of events > t\", \"t (event index)\": -87, \"Shapley Value\": 0.498574435710907}, {\"Coalition\": \"Sum of contribution of events \\u2264 t\", \"t (event index)\": -87, \"Shapley Value\": 0.0002211928367614746}, {\"Coalition\": \"Sum of contribution of events > t\", \"t (event index)\": -88, \"Shapley Value\": 0.4986055791378021}, {\"Coalition\": \"Sum of contribution of events \\u2264 t\", \"t (event index)\": -88, \"Shapley Value\": 0.000190049409866333}, {\"Coalition\": \"Sum of contribution of events > t\", \"t (event index)\": -89, \"Shapley Value\": 0.4986206144094467}, {\"Coalition\": \"Sum of contribution of events \\u2264 t\", \"t (event index)\": -89, \"Shapley Value\": 0.00017501413822174072}, {\"Coalition\": \"Sum of contribution of events > t\", \"t (event index)\": -90, \"Shapley Value\": 0.4986390769481659}, {\"Coalition\": \"Sum of contribution of events \\u2264 t\", \"t (event index)\": -90, \"Shapley Value\": 0.00015655159950256348}, {\"Coalition\": \"Sum of contribution of events > t\", \"t (event index)\": -91, \"Shapley Value\": 0.4986508786678314}, {\"Coalition\": \"Sum of contribution of events \\u2264 t\", \"t (event index)\": -91, \"Shapley Value\": 0.00014474987983703613}, {\"Coalition\": \"Sum of contribution of events > t\", \"t (event index)\": -92, \"Shapley Value\": 0.4986521601676941}, {\"Coalition\": \"Sum of contribution of events \\u2264 t\", \"t (event index)\": -92, \"Shapley Value\": 0.00014346837997436523}, {\"Coalition\": \"Sum of contribution of events > t\", \"t (event index)\": -93, \"Shapley Value\": 0.49866075813770294}, {\"Coalition\": \"Sum of contribution of events \\u2264 t\", \"t (event index)\": -93, \"Shapley Value\": 0.00013487040996551514}, {\"Coalition\": \"Sum of contribution of events > t\", \"t (event index)\": -94, \"Shapley Value\": 0.49867698550224304}, {\"Coalition\": \"Sum of contribution of events \\u2264 t\", \"t (event index)\": -94, \"Shapley Value\": 0.00011864304542541504}, {\"Coalition\": \"Sum of contribution of events > t\", \"t (event index)\": -95, \"Shapley Value\": 0.4986915588378906}, {\"Coalition\": \"Sum of contribution of events \\u2264 t\", \"t (event index)\": -95, \"Shapley Value\": 0.00010406970977783203}, {\"Coalition\": \"Sum of contribution of events > t\", \"t (event index)\": -96, \"Shapley Value\": 0.4987037628889084}, {\"Coalition\": \"Sum of contribution of events \\u2264 t\", \"t (event index)\": -96, \"Shapley Value\": 9.18656587600708e-05}, {\"Coalition\": \"Sum of contribution of events > t\", \"t (event index)\": -97, \"Shapley Value\": 0.49870947003364563}, {\"Coalition\": \"Sum of contribution of events \\u2264 t\", \"t (event index)\": -97, \"Shapley Value\": 8.615851402282715e-05}, {\"Coalition\": \"Sum of contribution of events > t\", \"t (event index)\": -98, \"Shapley Value\": 0.49871645867824554}, {\"Coalition\": \"Sum of contribution of events \\u2264 t\", \"t (event index)\": -98, \"Shapley Value\": 7.91698694229126e-05}, {\"Coalition\": \"Sum of contribution of events > t\", \"t (event index)\": -99, \"Shapley Value\": 0.4987231642007828}, {\"Coalition\": \"Sum of contribution of events \\u2264 t\", \"t (event index)\": -99, \"Shapley Value\": 7.246434688568115e-05}, {\"Coalition\": \"Sum of contribution of events > t\", \"t (event index)\": -100, \"Shapley Value\": 0.49873194098472595}, {\"Coalition\": \"Sum of contribution of events \\u2264 t\", \"t (event index)\": -100, \"Shapley Value\": 6.368756294250488e-05}, {\"Coalition\": \"Sum of contribution of events > t\", \"t (event index)\": -101, \"Shapley Value\": 0.498738095164299}, {\"Coalition\": \"Sum of contribution of events \\u2264 t\", \"t (event index)\": -101, \"Shapley Value\": 5.75333833694458e-05}, {\"Coalition\": \"Sum of contribution of events > t\", \"t (event index)\": -102, \"Shapley Value\": 0.49874258041381836}, {\"Coalition\": \"Sum of contribution of events \\u2264 t\", \"t (event index)\": -102, \"Shapley Value\": 5.3048133850097656e-05}, {\"Coalition\": \"Sum of contribution of events > t\", \"t (event index)\": -103, \"Shapley Value\": 0.49874602258205414}, {\"Coalition\": \"Sum of contribution of events \\u2264 t\", \"t (event index)\": -103, \"Shapley Value\": 4.960596561431885e-05}, {\"Coalition\": \"Sum of contribution of events > t\", \"t (event index)\": -104, \"Shapley Value\": 0.498752698302269}, {\"Coalition\": \"Sum of contribution of events \\u2264 t\", \"t (event index)\": -104, \"Shapley Value\": 4.29302453994751e-05}, {\"Coalition\": \"Sum of contribution of events > t\", \"t (event index)\": -105, \"Shapley Value\": 0.49875855445861816}, {\"Coalition\": \"Sum of contribution of events \\u2264 t\", \"t (event index)\": -105, \"Shapley Value\": 3.707408905029297e-05}, {\"Coalition\": \"Sum of contribution of events > t\", \"t (event index)\": -106, \"Shapley Value\": 0.4987625181674957}, {\"Coalition\": \"Sum of contribution of events \\u2264 t\", \"t (event index)\": -106, \"Shapley Value\": 3.311038017272949e-05}, {\"Coalition\": \"Sum of contribution of events > t\", \"t (event index)\": -107, \"Shapley Value\": 0.49876320362091064}, {\"Coalition\": \"Sum of contribution of events \\u2264 t\", \"t (event index)\": -107, \"Shapley Value\": 3.24249267578125e-05}, {\"Coalition\": \"Sum of contribution of events > t\", \"t (event index)\": -108, \"Shapley Value\": 0.49876610934734344}, {\"Coalition\": \"Sum of contribution of events \\u2264 t\", \"t (event index)\": -108, \"Shapley Value\": 2.9519200325012207e-05}, {\"Coalition\": \"Sum of contribution of events > t\", \"t (event index)\": -109, \"Shapley Value\": 0.49876703321933746}, {\"Coalition\": \"Sum of contribution of events \\u2264 t\", \"t (event index)\": -109, \"Shapley Value\": 2.8595328330993652e-05}, {\"Coalition\": \"Sum of contribution of events > t\", \"t (event index)\": -110, \"Shapley Value\": 0.4987691342830658}, {\"Coalition\": \"Sum of contribution of events \\u2264 t\", \"t (event index)\": -110, \"Shapley Value\": 2.6494264602661133e-05}, {\"Coalition\": \"Sum of contribution of events > t\", \"t (event index)\": -111, \"Shapley Value\": 0.49877193570137024}, {\"Coalition\": \"Sum of contribution of events \\u2264 t\", \"t (event index)\": -111, \"Shapley Value\": 2.3692846298217773e-05}, {\"Coalition\": \"Sum of contribution of events > t\", \"t (event index)\": -112, \"Shapley Value\": 0.4987748712301254}, {\"Coalition\": \"Sum of contribution of events \\u2264 t\", \"t (event index)\": -112, \"Shapley Value\": 2.0757317543029785e-05}, {\"Coalition\": \"Sum of contribution of events > t\", \"t (event index)\": -113, \"Shapley Value\": 0.4987782835960388}, {\"Coalition\": \"Sum of contribution of events \\u2264 t\", \"t (event index)\": -113, \"Shapley Value\": 1.7344951629638672e-05}, {\"Coalition\": \"Sum of contribution of events > t\", \"t (event index)\": -114, \"Shapley Value\": 0.4987808167934418}, {\"Coalition\": \"Sum of contribution of events \\u2264 t\", \"t (event index)\": -114, \"Shapley Value\": 1.481175422668457e-05}, {\"Coalition\": \"Sum of contribution of events > t\", \"t (event index)\": -115, \"Shapley Value\": 0.49878260493278503}, {\"Coalition\": \"Sum of contribution of events \\u2264 t\", \"t (event index)\": -115, \"Shapley Value\": 1.3023614883422852e-05}, {\"Coalition\": \"Sum of contribution of events > t\", \"t (event index)\": -116, \"Shapley Value\": 0.4987826645374298}, {\"Coalition\": \"Sum of contribution of events \\u2264 t\", \"t (event index)\": -116, \"Shapley Value\": 1.2964010238647461e-05}, {\"Coalition\": \"Sum of contribution of events > t\", \"t (event index)\": -117, \"Shapley Value\": 0.49878208339214325}, {\"Coalition\": \"Sum of contribution of events \\u2264 t\", \"t (event index)\": -117, \"Shapley Value\": 1.354515552520752e-05}, {\"Coalition\": \"Sum of contribution of events > t\", \"t (event index)\": -118, \"Shapley Value\": 0.4987832009792328}, {\"Coalition\": \"Sum of contribution of events \\u2264 t\", \"t (event index)\": -118, \"Shapley Value\": 1.2427568435668945e-05}, {\"Coalition\": \"Sum of contribution of events > t\", \"t (event index)\": -119, \"Shapley Value\": 0.4987838417291641}, {\"Coalition\": \"Sum of contribution of events \\u2264 t\", \"t (event index)\": -119, \"Shapley Value\": 1.1786818504333496e-05}, {\"Coalition\": \"Sum of contribution of events > t\", \"t (event index)\": -120, \"Shapley Value\": 0.498784676194191}, {\"Coalition\": \"Sum of contribution of events \\u2264 t\", \"t (event index)\": -120, \"Shapley Value\": 1.0952353477478027e-05}, {\"Coalition\": \"Sum of contribution of events > t\", \"t (event index)\": -121, \"Shapley Value\": 0.4987861067056656}, {\"Coalition\": \"Sum of contribution of events \\u2264 t\", \"t (event index)\": -121, \"Shapley Value\": 9.521842002868652e-06}, {\"Coalition\": \"Sum of contribution of events > t\", \"t (event index)\": -122, \"Shapley Value\": 0.49878671765327454}, {\"Coalition\": \"Sum of contribution of events \\u2264 t\", \"t (event index)\": -122, \"Shapley Value\": 8.910894393920898e-06}, {\"Coalition\": \"Sum of contribution of events > t\", \"t (event index)\": -123, \"Shapley Value\": 0.4987870156764984}, {\"Coalition\": \"Sum of contribution of events \\u2264 t\", \"t (event index)\": -123, \"Shapley Value\": 8.612871170043945e-06}, {\"Coalition\": \"Sum of contribution of events > t\", \"t (event index)\": -124, \"Shapley Value\": 0.49878837168216705}, {\"Coalition\": \"Sum of contribution of events \\u2264 t\", \"t (event index)\": -124, \"Shapley Value\": 7.256865501403809e-06}, {\"Coalition\": \"Sum of contribution of events > t\", \"t (event index)\": -125, \"Shapley Value\": 0.4987892359495163}, {\"Coalition\": \"Sum of contribution of events \\u2264 t\", \"t (event index)\": -125, \"Shapley Value\": 6.3925981521606445e-06}, {\"Coalition\": \"Sum of contribution of events > t\", \"t (event index)\": -126, \"Shapley Value\": 0.49878990650177}, {\"Coalition\": \"Sum of contribution of events \\u2264 t\", \"t (event index)\": -126, \"Shapley Value\": 5.7220458984375e-06}, {\"Coalition\": \"Sum of contribution of events > t\", \"t (event index)\": -127, \"Shapley Value\": 0.49879033863544464}, {\"Coalition\": \"Sum of contribution of events \\u2264 t\", \"t (event index)\": -127, \"Shapley Value\": 5.289912223815918e-06}, {\"Coalition\": \"Sum of contribution of events > t\", \"t (event index)\": -128, \"Shapley Value\": 0.4987908899784088}, {\"Coalition\": \"Sum of contribution of events \\u2264 t\", \"t (event index)\": -128, \"Shapley Value\": 4.738569259643555e-06}, {\"Coalition\": \"Sum of contribution of events > t\", \"t (event index)\": -129, \"Shapley Value\": 0.4987908601760864}, {\"Coalition\": \"Sum of contribution of events \\u2264 t\", \"t (event index)\": -129, \"Shapley Value\": 4.76837158203125e-06}, {\"Coalition\": \"Sum of contribution of events > t\", \"t (event index)\": -130, \"Shapley Value\": 0.49879132211208344}, {\"Coalition\": \"Sum of contribution of events \\u2264 t\", \"t (event index)\": -130, \"Shapley Value\": 4.306435585021973e-06}, {\"Coalition\": \"Sum of contribution of events > t\", \"t (event index)\": -131, \"Shapley Value\": 0.4987915903329849}, {\"Coalition\": \"Sum of contribution of events \\u2264 t\", \"t (event index)\": -131, \"Shapley Value\": 4.038214683532715e-06}, {\"Coalition\": \"Sum of contribution of events > t\", \"t (event index)\": -132, \"Shapley Value\": 0.4987921118736267}, {\"Coalition\": \"Sum of contribution of events \\u2264 t\", \"t (event index)\": -132, \"Shapley Value\": 3.516674041748047e-06}, {\"Coalition\": \"Sum of contribution of events > t\", \"t (event index)\": -133, \"Shapley Value\": 0.4987923949956894}, {\"Coalition\": \"Sum of contribution of events \\u2264 t\", \"t (event index)\": -133, \"Shapley Value\": 3.2335519790649414e-06}, {\"Coalition\": \"Sum of contribution of events > t\", \"t (event index)\": -134, \"Shapley Value\": 0.4987925887107849}, {\"Coalition\": \"Sum of contribution of events \\u2264 t\", \"t (event index)\": -134, \"Shapley Value\": 3.039836883544922e-06}, {\"Coalition\": \"Sum of contribution of events > t\", \"t (event index)\": -135, \"Shapley Value\": 0.498792827129364}, {\"Coalition\": \"Sum of contribution of events \\u2264 t\", \"t (event index)\": -135, \"Shapley Value\": 2.8014183044433594e-06}, {\"Coalition\": \"Sum of contribution of events > t\", \"t (event index)\": -136, \"Shapley Value\": 0.4987930804491043}, {\"Coalition\": \"Sum of contribution of events \\u2264 t\", \"t (event index)\": -136, \"Shapley Value\": 2.5480985641479492e-06}, {\"Coalition\": \"Sum of contribution of events > t\", \"t (event index)\": -137, \"Shapley Value\": 0.4987933784723282}, {\"Coalition\": \"Sum of contribution of events \\u2264 t\", \"t (event index)\": -137, \"Shapley Value\": 2.250075340270996e-06}, {\"Coalition\": \"Sum of contribution of events > t\", \"t (event index)\": -138, \"Shapley Value\": 0.4987936168909073}, {\"Coalition\": \"Sum of contribution of events \\u2264 t\", \"t (event index)\": -138, \"Shapley Value\": 2.0116567611694336e-06}, {\"Coalition\": \"Sum of contribution of events > t\", \"t (event index)\": -139, \"Shapley Value\": 0.498793825507164}, {\"Coalition\": \"Sum of contribution of events \\u2264 t\", \"t (event index)\": -139, \"Shapley Value\": 1.8030405044555664e-06}, {\"Coalition\": \"Sum of contribution of events > t\", \"t (event index)\": -140, \"Shapley Value\": 0.49879395961761475}, {\"Coalition\": \"Sum of contribution of events \\u2264 t\", \"t (event index)\": -140, \"Shapley Value\": 1.6689300537109375e-06}, {\"Coalition\": \"Sum of contribution of events > t\", \"t (event index)\": -141, \"Shapley Value\": 0.49879395961761475}, {\"Coalition\": \"Sum of contribution of events \\u2264 t\", \"t (event index)\": -141, \"Shapley Value\": 1.6689300537109375e-06}, {\"Coalition\": \"Sum of contribution of events > t\", \"t (event index)\": -142, \"Shapley Value\": 0.4987940937280655}, {\"Coalition\": \"Sum of contribution of events \\u2264 t\", \"t (event index)\": -142, \"Shapley Value\": 1.5348196029663086e-06}, {\"Coalition\": \"Sum of contribution of events > t\", \"t (event index)\": -143, \"Shapley Value\": 0.4987943321466446}, {\"Coalition\": \"Sum of contribution of events \\u2264 t\", \"t (event index)\": -143, \"Shapley Value\": 1.296401023864746e-06}, {\"Coalition\": \"Sum of contribution of events > t\", \"t (event index)\": -144, \"Shapley Value\": 0.49879446625709534}, {\"Coalition\": \"Sum of contribution of events \\u2264 t\", \"t (event index)\": -144, \"Shapley Value\": 1.1622905731201172e-06}, {\"Coalition\": \"Sum of contribution of events > t\", \"t (event index)\": -145, \"Shapley Value\": 0.49879467487335205}, {\"Coalition\": \"Sum of contribution of events \\u2264 t\", \"t (event index)\": -145, \"Shapley Value\": 9.5367431640625e-07}, {\"Coalition\": \"Sum of contribution of events > t\", \"t (event index)\": -146, \"Shapley Value\": 0.49879470467567444}, {\"Coalition\": \"Sum of contribution of events \\u2264 t\", \"t (event index)\": -146, \"Shapley Value\": 9.238719940185547e-07}, {\"Coalition\": \"Sum of contribution of events > t\", \"t (event index)\": -147, \"Shapley Value\": 0.49879465997219086}, {\"Coalition\": \"Sum of contribution of events \\u2264 t\", \"t (event index)\": -147, \"Shapley Value\": 9.685754776000977e-07}, {\"Coalition\": \"Sum of contribution of events > t\", \"t (event index)\": -148, \"Shapley Value\": 0.4987947642803192}, {\"Coalition\": \"Sum of contribution of events \\u2264 t\", \"t (event index)\": -148, \"Shapley Value\": 8.642673492431641e-07}, {\"Coalition\": \"Sum of contribution of events > t\", \"t (event index)\": -149, \"Shapley Value\": 0.49879489839076996}, {\"Coalition\": \"Sum of contribution of events \\u2264 t\", \"t (event index)\": -149, \"Shapley Value\": 7.301568984985352e-07}, {\"Coalition\": \"Sum of contribution of events > t\", \"t (event index)\": -150, \"Shapley Value\": 0.4987950325012207}, {\"Coalition\": \"Sum of contribution of events \\u2264 t\", \"t (event index)\": -150, \"Shapley Value\": 5.960464477539062e-07}, {\"Coalition\": \"Sum of contribution of events > t\", \"t (event index)\": -151, \"Shapley Value\": 0.49879513680934906}, {\"Coalition\": \"Sum of contribution of events \\u2264 t\", \"t (event index)\": -151, \"Shapley Value\": 4.917383193969727e-07}, {\"Coalition\": \"Sum of contribution of events > t\", \"t (event index)\": -152, \"Shapley Value\": 0.4987951070070267}, {\"Coalition\": \"Sum of contribution of events \\u2264 t\", \"t (event index)\": -152, \"Shapley Value\": 5.21540641784668e-07}, {\"Coalition\": \"Sum of contribution of events > t\", \"t (event index)\": -153, \"Shapley Value\": 0.49879513680934906}, {\"Coalition\": \"Sum of contribution of events \\u2264 t\", \"t (event index)\": -153, \"Shapley Value\": 4.917383193969727e-07}, {\"Coalition\": \"Sum of contribution of events > t\", \"t (event index)\": -154, \"Shapley Value\": 0.49879513680934906}, {\"Coalition\": \"Sum of contribution of events \\u2264 t\", \"t (event index)\": -154, \"Shapley Value\": 4.917383193969727e-07}, {\"Coalition\": \"Sum of contribution of events > t\", \"t (event index)\": -155, \"Shapley Value\": 0.49879519641399384}, {\"Coalition\": \"Sum of contribution of events \\u2264 t\", \"t (event index)\": -155, \"Shapley Value\": 4.3213367462158203e-07}, {\"Coalition\": \"Sum of contribution of events > t\", \"t (event index)\": -156, \"Shapley Value\": 0.49879521131515503}, {\"Coalition\": \"Sum of contribution of events \\u2264 t\", \"t (event index)\": -156, \"Shapley Value\": 4.172325134277344e-07}, {\"Coalition\": \"Sum of contribution of events > t\", \"t (event index)\": -157, \"Shapley Value\": 0.498795285820961}, {\"Coalition\": \"Sum of contribution of events \\u2264 t\", \"t (event index)\": -157, \"Shapley Value\": 3.427267074584961e-07}, {\"Coalition\": \"Sum of contribution of events > t\", \"t (event index)\": -158, \"Shapley Value\": 0.4987953454256058}, {\"Coalition\": \"Sum of contribution of events \\u2264 t\", \"t (event index)\": -158, \"Shapley Value\": 2.8312206268310547e-07}, {\"Coalition\": \"Sum of contribution of events > t\", \"t (event index)\": -159, \"Shapley Value\": 0.49879536032676697}, {\"Coalition\": \"Sum of contribution of events \\u2264 t\", \"t (event index)\": -159, \"Shapley Value\": 2.682209014892578e-07}, {\"Coalition\": \"Sum of contribution of events > t\", \"t (event index)\": -160, \"Shapley Value\": 0.49879536032676697}, {\"Coalition\": \"Sum of contribution of events \\u2264 t\", \"t (event index)\": -160, \"Shapley Value\": 2.682209014892578e-07}, {\"Coalition\": \"Sum of contribution of events > t\", \"t (event index)\": -161, \"Shapley Value\": 0.49879539012908936}, {\"Coalition\": \"Sum of contribution of events \\u2264 t\", \"t (event index)\": -161, \"Shapley Value\": 2.384185791015625e-07}, {\"Coalition\": \"Sum of contribution of events > t\", \"t (event index)\": -162, \"Shapley Value\": 0.49879539012908936}, {\"Coalition\": \"Sum of contribution of events \\u2264 t\", \"t (event index)\": -162, \"Shapley Value\": 2.384185791015625e-07}, {\"Coalition\": \"Sum of contribution of events > t\", \"t (event index)\": -163, \"Shapley Value\": 0.49879541993141174}, {\"Coalition\": \"Sum of contribution of events \\u2264 t\", \"t (event index)\": -163, \"Shapley Value\": 2.086162567138672e-07}, {\"Coalition\": \"Sum of contribution of events > t\", \"t (event index)\": -164, \"Shapley Value\": 0.4987954646348953}, {\"Coalition\": \"Sum of contribution of events \\u2264 t\", \"t (event index)\": -164, \"Shapley Value\": 1.6391277313232422e-07}, {\"Coalition\": \"Sum of contribution of events > t\", \"t (event index)\": -165, \"Shapley Value\": 0.4987954646348953}, {\"Coalition\": \"Sum of contribution of events \\u2264 t\", \"t (event index)\": -165, \"Shapley Value\": 1.6391277313232422e-07}, {\"Coalition\": \"Sum of contribution of events > t\", \"t (event index)\": -166, \"Shapley Value\": 0.4987954795360565}, {\"Coalition\": \"Sum of contribution of events \\u2264 t\", \"t (event index)\": -166, \"Shapley Value\": 1.4901161193847656e-07}, {\"Coalition\": \"Sum of contribution of events > t\", \"t (event index)\": -167, \"Shapley Value\": 0.4987954944372177}, {\"Coalition\": \"Sum of contribution of events \\u2264 t\", \"t (event index)\": -167, \"Shapley Value\": 1.341104507446289e-07}, {\"Coalition\": \"Sum of contribution of events > t\", \"t (event index)\": -168, \"Shapley Value\": 0.4987955093383789}, {\"Coalition\": \"Sum of contribution of events \\u2264 t\", \"t (event index)\": -168, \"Shapley Value\": 1.1920928955078125e-07}, {\"Coalition\": \"Sum of contribution of events > t\", \"t (event index)\": -169, \"Shapley Value\": 0.4987955093383789}, {\"Coalition\": \"Sum of contribution of events \\u2264 t\", \"t (event index)\": -169, \"Shapley Value\": 1.1920928955078125e-07}, {\"Coalition\": \"Sum of contribution of events > t\", \"t (event index)\": -170, \"Shapley Value\": 0.4987955391407013}, {\"Coalition\": \"Sum of contribution of events \\u2264 t\", \"t (event index)\": -170, \"Shapley Value\": 8.940696716308594e-08}, {\"Coalition\": \"Sum of contribution of events > t\", \"t (event index)\": -171, \"Shapley Value\": 0.4987955540418625}, {\"Coalition\": \"Sum of contribution of events \\u2264 t\", \"t (event index)\": -171, \"Shapley Value\": 7.450580596923828e-08}, {\"Coalition\": \"Sum of contribution of events > t\", \"t (event index)\": -172, \"Shapley Value\": 0.4987955391407013}, {\"Coalition\": \"Sum of contribution of events \\u2264 t\", \"t (event index)\": -172, \"Shapley Value\": 8.940696716308594e-08}, {\"Coalition\": \"Sum of contribution of events > t\", \"t (event index)\": -173, \"Shapley Value\": 0.4987955391407013}, {\"Coalition\": \"Sum of contribution of events \\u2264 t\", \"t (event index)\": -173, \"Shapley Value\": 8.940696716308594e-08}, {\"Coalition\": \"Sum of contribution of events > t\", \"t (event index)\": -174, \"Shapley Value\": 0.4987955689430237}, {\"Coalition\": \"Sum of contribution of events \\u2264 t\", \"t (event index)\": -174, \"Shapley Value\": 5.960464477539063e-08}, {\"Coalition\": \"Sum of contribution of events > t\", \"t (event index)\": -175, \"Shapley Value\": 0.4987955689430237}, {\"Coalition\": \"Sum of contribution of events \\u2264 t\", \"t (event index)\": -175, \"Shapley Value\": 5.960464477539063e-08}, {\"Coalition\": \"Sum of contribution of events > t\", \"t (event index)\": -176, \"Shapley Value\": 0.49879559874534607}, {\"Coalition\": \"Sum of contribution of events \\u2264 t\", \"t (event index)\": -176, \"Shapley Value\": 2.9802322387695312e-08}, {\"Coalition\": \"Sum of contribution of events > t\", \"t (event index)\": -177, \"Shapley Value\": 0.49879559874534607}, {\"Coalition\": \"Sum of contribution of events \\u2264 t\", \"t (event index)\": -177, \"Shapley Value\": 2.9802322387695312e-08}, {\"Coalition\": \"Sum of contribution of events > t\", \"t (event index)\": -178, \"Shapley Value\": 0.4987955838441849}, {\"Coalition\": \"Sum of contribution of events \\u2264 t\", \"t (event index)\": -178, \"Shapley Value\": 4.470348358154297e-08}, {\"Coalition\": \"Sum of contribution of events > t\", \"t (event index)\": -179, \"Shapley Value\": 0.49879559874534607}, {\"Coalition\": \"Sum of contribution of events \\u2264 t\", \"t (event index)\": -179, \"Shapley Value\": 2.9802322387695312e-08}, {\"Coalition\": \"Sum of contribution of events > t\", \"t (event index)\": -180, \"Shapley Value\": 0.49879559874534607}, {\"Coalition\": \"Sum of contribution of events \\u2264 t\", \"t (event index)\": -180, \"Shapley Value\": 2.9802322387695312e-08}, {\"Coalition\": \"Sum of contribution of events > t\", \"t (event index)\": -181, \"Shapley Value\": 0.49879559874534607}, {\"Coalition\": \"Sum of contribution of events \\u2264 t\", \"t (event index)\": -181, \"Shapley Value\": 2.9802322387695312e-08}, {\"Coalition\": \"Sum of contribution of events > t\", \"t (event index)\": -182, \"Shapley Value\": 0.49879559874534607}, {\"Coalition\": \"Sum of contribution of events \\u2264 t\", \"t (event index)\": -182, \"Shapley Value\": 2.9802322387695312e-08}, {\"Coalition\": \"Sum of contribution of events > t\", \"t (event index)\": -183, \"Shapley Value\": 0.49879562854766846}, {\"Coalition\": \"Sum of contribution of events \\u2264 t\", \"t (event index)\": -183, \"Shapley Value\": 0.0}, {\"Coalition\": \"Sum of contribution of events > t\", \"t (event index)\": -184, \"Shapley Value\": 0.49879562854766846}, {\"Coalition\": \"Sum of contribution of events \\u2264 t\", \"t (event index)\": -184, \"Shapley Value\": 0.0}, {\"Coalition\": \"Sum of contribution of events > t\", \"t (event index)\": -185, \"Shapley Value\": 0.49879559874534607}, {\"Coalition\": \"Sum of contribution of events \\u2264 t\", \"t (event index)\": -185, \"Shapley Value\": 2.9802322387695312e-08}, {\"Coalition\": \"Sum of contribution of events > t\", \"t (event index)\": -186, \"Shapley Value\": 0.49879559874534607}, {\"Coalition\": \"Sum of contribution of events \\u2264 t\", \"t (event index)\": -186, \"Shapley Value\": 2.9802322387695312e-08}, {\"Coalition\": \"Sum of contribution of events > t\", \"t (event index)\": -187, \"Shapley Value\": 0.49879562854766846}, {\"Coalition\": \"Sum of contribution of events \\u2264 t\", \"t (event index)\": -187, \"Shapley Value\": 0.0}, {\"Coalition\": \"Sum of contribution of events > t\", \"t (event index)\": -188, \"Shapley Value\": 0.49879562854766846}, {\"Coalition\": \"Sum of contribution of events \\u2264 t\", \"t (event index)\": -188, \"Shapley Value\": 0.0}, {\"Coalition\": \"Sum of contribution of events > t\", \"t (event index)\": -189, \"Shapley Value\": 0.49879562854766846}, {\"Coalition\": \"Sum of contribution of events \\u2264 t\", \"t (event index)\": -189, \"Shapley Value\": 0.0}, {\"Coalition\": \"Sum of contribution of events > t\", \"t (event index)\": -190, \"Shapley Value\": 0.49879562854766846}, {\"Coalition\": \"Sum of contribution of events \\u2264 t\", \"t (event index)\": -190, \"Shapley Value\": 0.0}, {\"Coalition\": \"Sum of contribution of events > t\", \"t (event index)\": -191, \"Shapley Value\": 0.49879562854766846}, {\"Coalition\": \"Sum of contribution of events \\u2264 t\", \"t (event index)\": -191, \"Shapley Value\": 0.0}, {\"Coalition\": \"Sum of contribution of events > t\", \"t (event index)\": -192, \"Shapley Value\": 0.49879562854766846}, {\"Coalition\": \"Sum of contribution of events \\u2264 t\", \"t (event index)\": -192, \"Shapley Value\": 0.0}, {\"Coalition\": \"Sum of contribution of events > t\", \"t (event index)\": -193, \"Shapley Value\": 0.49879562854766846}, {\"Coalition\": \"Sum of contribution of events \\u2264 t\", \"t (event index)\": -193, \"Shapley Value\": 0.0}, {\"Coalition\": \"Sum of contribution of events > t\", \"t (event index)\": -194, \"Shapley Value\": 0.49879562854766846}, {\"Coalition\": \"Sum of contribution of events \\u2264 t\", \"t (event index)\": -194, \"Shapley Value\": 0.0}, {\"Coalition\": \"Sum of contribution of events > t\", \"t (event index)\": -195, \"Shapley Value\": 0.49879562854766846}, {\"Coalition\": \"Sum of contribution of events \\u2264 t\", \"t (event index)\": -195, \"Shapley Value\": 0.0}, {\"Coalition\": \"Sum of contribution of events > t\", \"t (event index)\": -196, \"Shapley Value\": 0.49879562854766846}, {\"Coalition\": \"Sum of contribution of events \\u2264 t\", \"t (event index)\": -196, \"Shapley Value\": 0.0}, {\"Coalition\": \"Sum of contribution of events > t\", \"t (event index)\": -197, \"Shapley Value\": 0.49879562854766846}, {\"Coalition\": \"Sum of contribution of events \\u2264 t\", \"t (event index)\": -197, \"Shapley Value\": 0.0}, {\"Coalition\": \"Sum of contribution of events > t\", \"t (event index)\": -198, \"Shapley Value\": 0.49879562854766846}, {\"Coalition\": \"Sum of contribution of events \\u2264 t\", \"t (event index)\": -198, \"Shapley Value\": 0.0}, {\"Coalition\": \"Sum of contribution of events > t\", \"t (event index)\": -199, \"Shapley Value\": 0.49879562854766846}, {\"Coalition\": \"Sum of contribution of events \\u2264 t\", \"t (event index)\": -199, \"Shapley Value\": 0.0}, {\"Coalition\": \"Sum of contribution of events > t\", \"t (event index)\": -200, \"Shapley Value\": 0.49879562854766846}, {\"Coalition\": \"Sum of contribution of events \\u2264 t\", \"t (event index)\": -200, \"Shapley Value\": 0.0}, {\"Coalition\": \"Sum of contribution of events > t\", \"t (event index)\": -201, \"Shapley Value\": 0.49879562854766846}, {\"Coalition\": \"Sum of contribution of events \\u2264 t\", \"t (event index)\": -201, \"Shapley Value\": 0.0}, {\"Coalition\": \"Sum of contribution of events > t\", \"t (event index)\": -202, \"Shapley Value\": 0.49879562854766846}, {\"Coalition\": \"Sum of contribution of events \\u2264 t\", \"t (event index)\": -202, \"Shapley Value\": 0.0}, {\"Coalition\": \"Sum of contribution of events > t\", \"t (event index)\": -203, \"Shapley Value\": 0.49879562854766846}, {\"Coalition\": \"Sum of contribution of events \\u2264 t\", \"t (event index)\": -203, \"Shapley Value\": 0.0}, {\"Coalition\": \"Sum of contribution of events > t\", \"t (event index)\": -204, \"Shapley Value\": 0.49879562854766846}, {\"Coalition\": \"Sum of contribution of events \\u2264 t\", \"t (event index)\": -204, \"Shapley Value\": 0.0}, {\"Coalition\": \"Sum of contribution of events > t\", \"t (event index)\": -205, \"Shapley Value\": 0.49879562854766846}, {\"Coalition\": \"Sum of contribution of events \\u2264 t\", \"t (event index)\": -205, \"Shapley Value\": 0.0}, {\"Coalition\": \"Sum of contribution of events > t\", \"t (event index)\": -206, \"Shapley Value\": 0.49879562854766846}, {\"Coalition\": \"Sum of contribution of events \\u2264 t\", \"t (event index)\": -206, \"Shapley Value\": 0.0}, {\"Coalition\": \"Sum of contribution of events > t\", \"t (event index)\": -207, \"Shapley Value\": 0.49879562854766846}, {\"Coalition\": \"Sum of contribution of events \\u2264 t\", \"t (event index)\": -207, \"Shapley Value\": 0.0}, {\"Coalition\": \"Sum of contribution of events > t\", \"t (event index)\": -208, \"Shapley Value\": 0.49879562854766846}, {\"Coalition\": \"Sum of contribution of events \\u2264 t\", \"t (event index)\": -208, \"Shapley Value\": 0.0}, {\"Coalition\": \"Sum of contribution of events > t\", \"t (event index)\": -209, \"Shapley Value\": 0.49879562854766846}, {\"Coalition\": \"Sum of contribution of events \\u2264 t\", \"t (event index)\": -209, \"Shapley Value\": 0.0}, {\"Coalition\": \"Sum of contribution of events > t\", \"t (event index)\": -210, \"Shapley Value\": 0.49879562854766846}, {\"Coalition\": \"Sum of contribution of events \\u2264 t\", \"t (event index)\": -210, \"Shapley Value\": 0.0}, {\"Coalition\": \"Sum of contribution of events > t\", \"t (event index)\": -211, \"Shapley Value\": 0.49879562854766846}, {\"Coalition\": \"Sum of contribution of events \\u2264 t\", \"t (event index)\": -211, \"Shapley Value\": 0.0}, {\"Coalition\": \"Sum of contribution of events > t\", \"t (event index)\": -212, \"Shapley Value\": 0.49879562854766846}, {\"Coalition\": \"Sum of contribution of events \\u2264 t\", \"t (event index)\": -212, \"Shapley Value\": 0.0}, {\"Coalition\": \"Sum of contribution of events > t\", \"t (event index)\": -213, \"Shapley Value\": 0.49879562854766846}, {\"Coalition\": \"Sum of contribution of events \\u2264 t\", \"t (event index)\": -213, \"Shapley Value\": 0.0}, {\"Coalition\": \"Sum of contribution of events > t\", \"t (event index)\": -214, \"Shapley Value\": 0.49879562854766846}, {\"Coalition\": \"Sum of contribution of events \\u2264 t\", \"t (event index)\": -214, \"Shapley Value\": 0.0}, {\"Coalition\": \"Sum of contribution of events > t\", \"t (event index)\": -215, \"Shapley Value\": 0.49879562854766846}, {\"Coalition\": \"Sum of contribution of events \\u2264 t\", \"t (event index)\": -215, \"Shapley Value\": 0.0}, {\"Coalition\": \"Sum of contribution of events > t\", \"t (event index)\": -216, \"Shapley Value\": 0.49879562854766846}, {\"Coalition\": \"Sum of contribution of events \\u2264 t\", \"t (event index)\": -216, \"Shapley Value\": 0.0}, {\"Coalition\": \"Sum of contribution of events > t\", \"t (event index)\": -217, \"Shapley Value\": 0.49879562854766846}, {\"Coalition\": \"Sum of contribution of events \\u2264 t\", \"t (event index)\": -217, \"Shapley Value\": 0.0}, {\"Coalition\": \"Sum of contribution of events > t\", \"t (event index)\": -218, \"Shapley Value\": 0.49879562854766846}, {\"Coalition\": \"Sum of contribution of events \\u2264 t\", \"t (event index)\": -218, \"Shapley Value\": 0.0}, {\"Coalition\": \"Sum of contribution of events > t\", \"t (event index)\": -219, \"Shapley Value\": 0.49879562854766846}, {\"Coalition\": \"Sum of contribution of events \\u2264 t\", \"t (event index)\": -219, \"Shapley Value\": 0.0}, {\"Coalition\": \"Sum of contribution of events > t\", \"t (event index)\": -220, \"Shapley Value\": 0.49879562854766846}, {\"Coalition\": \"Sum of contribution of events \\u2264 t\", \"t (event index)\": -220, \"Shapley Value\": 0.0}, {\"Coalition\": \"Sum of contribution of events > t\", \"t (event index)\": -221, \"Shapley Value\": 0.49879562854766846}, {\"Coalition\": \"Sum of contribution of events \\u2264 t\", \"t (event index)\": -221, \"Shapley Value\": 0.0}, {\"Coalition\": \"Sum of contribution of events > t\", \"t (event index)\": -222, \"Shapley Value\": 0.49879562854766846}, {\"Coalition\": \"Sum of contribution of events \\u2264 t\", \"t (event index)\": -222, \"Shapley Value\": 0.0}, {\"Coalition\": \"Sum of contribution of events > t\", \"t (event index)\": -223, \"Shapley Value\": 0.49879562854766846}, {\"Coalition\": \"Sum of contribution of events \\u2264 t\", \"t (event index)\": -223, \"Shapley Value\": 0.0}, {\"Coalition\": \"Sum of contribution of events > t\", \"t (event index)\": -224, \"Shapley Value\": 0.49879562854766846}, {\"Coalition\": \"Sum of contribution of events \\u2264 t\", \"t (event index)\": -224, \"Shapley Value\": 0.0}, {\"Coalition\": \"Sum of contribution of events > t\", \"t (event index)\": -225, \"Shapley Value\": 0.49879562854766846}, {\"Coalition\": \"Sum of contribution of events \\u2264 t\", \"t (event index)\": -225, \"Shapley Value\": 0.0}, {\"Coalition\": \"Sum of contribution of events > t\", \"t (event index)\": -226, \"Shapley Value\": 0.49879562854766846}, {\"Coalition\": \"Sum of contribution of events \\u2264 t\", \"t (event index)\": -226, \"Shapley Value\": 0.0}, {\"Coalition\": \"Sum of contribution of events > t\", \"t (event index)\": -227, \"Shapley Value\": 0.49879562854766846}, {\"Coalition\": \"Sum of contribution of events \\u2264 t\", \"t (event index)\": -227, \"Shapley Value\": 0.0}, {\"Coalition\": \"Sum of contribution of events > t\", \"t (event index)\": -228, \"Shapley Value\": 0.49879562854766846}, {\"Coalition\": \"Sum of contribution of events \\u2264 t\", \"t (event index)\": -228, \"Shapley Value\": 0.0}, {\"Coalition\": \"Sum of contribution of events > t\", \"t (event index)\": -229, \"Shapley Value\": 0.49879562854766846}, {\"Coalition\": \"Sum of contribution of events \\u2264 t\", \"t (event index)\": -229, \"Shapley Value\": 0.0}, {\"Coalition\": \"Sum of contribution of events > t\", \"t (event index)\": -230, \"Shapley Value\": 0.49879562854766846}, {\"Coalition\": \"Sum of contribution of events \\u2264 t\", \"t (event index)\": -230, \"Shapley Value\": 0.0}, {\"Coalition\": \"Sum of contribution of events > t\", \"t (event index)\": -231, \"Shapley Value\": 0.49879562854766846}, {\"Coalition\": \"Sum of contribution of events \\u2264 t\", \"t (event index)\": -231, \"Shapley Value\": 0.0}, {\"Coalition\": \"Sum of contribution of events > t\", \"t (event index)\": -232, \"Shapley Value\": 0.49879562854766846}, {\"Coalition\": \"Sum of contribution of events \\u2264 t\", \"t (event index)\": -232, \"Shapley Value\": 0.0}, {\"Coalition\": \"Sum of contribution of events > t\", \"t (event index)\": -233, \"Shapley Value\": 0.49879562854766846}, {\"Coalition\": \"Sum of contribution of events \\u2264 t\", \"t (event index)\": -233, \"Shapley Value\": 0.0}, {\"Coalition\": \"Sum of contribution of events > t\", \"t (event index)\": -234, \"Shapley Value\": 0.49879562854766846}, {\"Coalition\": \"Sum of contribution of events \\u2264 t\", \"t (event index)\": -234, \"Shapley Value\": 0.0}, {\"Coalition\": \"Sum of contribution of events > t\", \"t (event index)\": -235, \"Shapley Value\": 0.49879562854766846}, {\"Coalition\": \"Sum of contribution of events \\u2264 t\", \"t (event index)\": -235, \"Shapley Value\": 0.0}, {\"Coalition\": \"Sum of contribution of events > t\", \"t (event index)\": -236, \"Shapley Value\": 0.49879562854766846}, {\"Coalition\": \"Sum of contribution of events \\u2264 t\", \"t (event index)\": -236, \"Shapley Value\": 0.0}, {\"Coalition\": \"Sum of contribution of events > t\", \"t (event index)\": -237, \"Shapley Value\": 0.49879562854766846}, {\"Coalition\": \"Sum of contribution of events \\u2264 t\", \"t (event index)\": -237, \"Shapley Value\": 0.0}, {\"Coalition\": \"Sum of contribution of events > t\", \"t (event index)\": -238, \"Shapley Value\": 0.49879562854766846}, {\"Coalition\": \"Sum of contribution of events \\u2264 t\", \"t (event index)\": -238, \"Shapley Value\": 0.0}, {\"Coalition\": \"Sum of contribution of events > t\", \"t (event index)\": -239, \"Shapley Value\": 0.49879562854766846}, {\"Coalition\": \"Sum of contribution of events \\u2264 t\", \"t (event index)\": -239, \"Shapley Value\": 0.0}, {\"Coalition\": \"Sum of contribution of events > t\", \"t (event index)\": -240, \"Shapley Value\": 0.49879562854766846}, {\"Coalition\": \"Sum of contribution of events \\u2264 t\", \"t (event index)\": -240, \"Shapley Value\": 0.0}, {\"Coalition\": \"Sum of contribution of events > t\", \"t (event index)\": -241, \"Shapley Value\": 0.49879562854766846}, {\"Coalition\": \"Sum of contribution of events \\u2264 t\", \"t (event index)\": -241, \"Shapley Value\": 0.0}, {\"Coalition\": \"Sum of contribution of events > t\", \"t (event index)\": -242, \"Shapley Value\": 0.49879562854766846}, {\"Coalition\": \"Sum of contribution of events \\u2264 t\", \"t (event index)\": -242, \"Shapley Value\": 0.0}, {\"Coalition\": \"Sum of contribution of events > t\", \"t (event index)\": -243, \"Shapley Value\": 0.49879562854766846}, {\"Coalition\": \"Sum of contribution of events \\u2264 t\", \"t (event index)\": -243, \"Shapley Value\": 0.0}, {\"Coalition\": \"Sum of contribution of events > t\", \"t (event index)\": -244, \"Shapley Value\": 0.49879562854766846}, {\"Coalition\": \"Sum of contribution of events \\u2264 t\", \"t (event index)\": -244, \"Shapley Value\": 0.0}, {\"Coalition\": \"Sum of contribution of events > t\", \"t (event index)\": -245, \"Shapley Value\": 0.49879562854766846}, {\"Coalition\": \"Sum of contribution of events \\u2264 t\", \"t (event index)\": -245, \"Shapley Value\": 0.0}, {\"Coalition\": \"Sum of contribution of events > t\", \"t (event index)\": -246, \"Shapley Value\": 0.49879562854766846}, {\"Coalition\": \"Sum of contribution of events \\u2264 t\", \"t (event index)\": -246, \"Shapley Value\": 0.0}, {\"Coalition\": \"Sum of contribution of events > t\", \"t (event index)\": -247, \"Shapley Value\": 0.49879562854766846}, {\"Coalition\": \"Sum of contribution of events \\u2264 t\", \"t (event index)\": -247, \"Shapley Value\": 0.0}, {\"Coalition\": \"Sum of contribution of events > t\", \"t (event index)\": -248, \"Shapley Value\": 0.49879562854766846}, {\"Coalition\": \"Sum of contribution of events \\u2264 t\", \"t (event index)\": -248, \"Shapley Value\": 0.0}, {\"Coalition\": \"Sum of contribution of events > t\", \"t (event index)\": -249, \"Shapley Value\": 0.49879562854766846}, {\"Coalition\": \"Sum of contribution of events \\u2264 t\", \"t (event index)\": -249, \"Shapley Value\": 0.0}, {\"Coalition\": \"Sum of contribution of events > t\", \"t (event index)\": -250, \"Shapley Value\": 0.49879562854766846}, {\"Coalition\": \"Sum of contribution of events \\u2264 t\", \"t (event index)\": -250, \"Shapley Value\": 0.0}, {\"Coalition\": \"Sum of contribution of events > t\", \"t (event index)\": -251, \"Shapley Value\": 0.49879562854766846}, {\"Coalition\": \"Sum of contribution of events \\u2264 t\", \"t (event index)\": -251, \"Shapley Value\": 0.0}, {\"Coalition\": \"Sum of contribution of events > t\", \"t (event index)\": -252, \"Shapley Value\": 0.49879562854766846}, {\"Coalition\": \"Sum of contribution of events \\u2264 t\", \"t (event index)\": -252, \"Shapley Value\": 0.0}, {\"Coalition\": \"Sum of contribution of events > t\", \"t (event index)\": -253, \"Shapley Value\": 0.49879562854766846}, {\"Coalition\": \"Sum of contribution of events \\u2264 t\", \"t (event index)\": -253, \"Shapley Value\": 0.0}, {\"Coalition\": \"Sum of contribution of events > t\", \"t (event index)\": -254, \"Shapley Value\": 0.49879562854766846}, {\"Coalition\": \"Sum of contribution of events \\u2264 t\", \"t (event index)\": -254, \"Shapley Value\": 0.0}, {\"Coalition\": \"Sum of contribution of events > t\", \"t (event index)\": -255, \"Shapley Value\": 0.49879562854766846}, {\"Coalition\": \"Sum of contribution of events \\u2264 t\", \"t (event index)\": -255, \"Shapley Value\": 0.0}, {\"Coalition\": \"Sum of contribution of events > t\", \"t (event index)\": -256, \"Shapley Value\": 0.49879562854766846}, {\"Coalition\": \"Sum of contribution of events \\u2264 t\", \"t (event index)\": -256, \"Shapley Value\": 0.0}, {\"Coalition\": \"Sum of contribution of events > t\", \"t (event index)\": -257, \"Shapley Value\": 0.49879562854766846}, {\"Coalition\": \"Sum of contribution of events \\u2264 t\", \"t (event index)\": -257, \"Shapley Value\": 0.0}, {\"Coalition\": \"Sum of contribution of events > t\", \"t (event index)\": -258, \"Shapley Value\": 0.49879562854766846}, {\"Coalition\": \"Sum of contribution of events \\u2264 t\", \"t (event index)\": -258, \"Shapley Value\": 0.0}, {\"Coalition\": \"Sum of contribution of events > t\", \"t (event index)\": -259, \"Shapley Value\": 0.49879562854766846}, {\"Coalition\": \"Sum of contribution of events \\u2264 t\", \"t (event index)\": -259, \"Shapley Value\": 0.0}, {\"Coalition\": \"Sum of contribution of events > t\", \"t (event index)\": -260, \"Shapley Value\": 0.49879562854766846}, {\"Coalition\": \"Sum of contribution of events \\u2264 t\", \"t (event index)\": -260, \"Shapley Value\": 0.0}, {\"Coalition\": \"Sum of contribution of events > t\", \"t (event index)\": -261, \"Shapley Value\": 0.49879562854766846}, {\"Coalition\": \"Sum of contribution of events \\u2264 t\", \"t (event index)\": -261, \"Shapley Value\": 0.0}, {\"Coalition\": \"Sum of contribution of events > t\", \"t (event index)\": -262, \"Shapley Value\": 0.49879562854766846}, {\"Coalition\": \"Sum of contribution of events \\u2264 t\", \"t (event index)\": -262, \"Shapley Value\": 0.0}, {\"Coalition\": \"Sum of contribution of events > t\", \"t (event index)\": -263, \"Shapley Value\": 0.49879562854766846}, {\"Coalition\": \"Sum of contribution of events \\u2264 t\", \"t (event index)\": -263, \"Shapley Value\": 0.0}, {\"Coalition\": \"Sum of contribution of events > t\", \"t (event index)\": -264, \"Shapley Value\": 0.49879562854766846}, {\"Coalition\": \"Sum of contribution of events \\u2264 t\", \"t (event index)\": -264, \"Shapley Value\": 0.0}, {\"Coalition\": \"Sum of contribution of events > t\", \"t (event index)\": -265, \"Shapley Value\": 0.49879562854766846}, {\"Coalition\": \"Sum of contribution of events \\u2264 t\", \"t (event index)\": -265, \"Shapley Value\": 0.0}, {\"Coalition\": \"Sum of contribution of events > t\", \"t (event index)\": -266, \"Shapley Value\": 0.49879562854766846}, {\"Coalition\": \"Sum of contribution of events \\u2264 t\", \"t (event index)\": -266, \"Shapley Value\": 0.0}, {\"Coalition\": \"Sum of contribution of events > t\", \"t (event index)\": -267, \"Shapley Value\": 0.49879562854766846}, {\"Coalition\": \"Sum of contribution of events \\u2264 t\", \"t (event index)\": -267, \"Shapley Value\": 0.0}, {\"Coalition\": \"Sum of contribution of events > t\", \"t (event index)\": -268, \"Shapley Value\": 0.49879562854766846}, {\"Coalition\": \"Sum of contribution of events \\u2264 t\", \"t (event index)\": -268, \"Shapley Value\": 0.0}, {\"Coalition\": \"Sum of contribution of events > t\", \"t (event index)\": -269, \"Shapley Value\": 0.49879562854766846}, {\"Coalition\": \"Sum of contribution of events \\u2264 t\", \"t (event index)\": -269, \"Shapley Value\": 0.0}, {\"Coalition\": \"Sum of contribution of events > t\", \"t (event index)\": -270, \"Shapley Value\": 0.49879562854766846}, {\"Coalition\": \"Sum of contribution of events \\u2264 t\", \"t (event index)\": -270, \"Shapley Value\": 0.0}, {\"Coalition\": \"Sum of contribution of events > t\", \"t (event index)\": -271, \"Shapley Value\": 0.49879562854766846}, {\"Coalition\": \"Sum of contribution of events \\u2264 t\", \"t (event index)\": -271, \"Shapley Value\": 0.0}, {\"Coalition\": \"Sum of contribution of events > t\", \"t (event index)\": -272, \"Shapley Value\": 0.49879562854766846}, {\"Coalition\": \"Sum of contribution of events \\u2264 t\", \"t (event index)\": -272, \"Shapley Value\": 0.0}, {\"Coalition\": \"Sum of contribution of events > t\", \"t (event index)\": -273, \"Shapley Value\": 0.49879562854766846}, {\"Coalition\": \"Sum of contribution of events \\u2264 t\", \"t (event index)\": -273, \"Shapley Value\": 0.0}, {\"Coalition\": \"Sum of contribution of events > t\", \"t (event index)\": -274, \"Shapley Value\": 0.49879562854766846}, {\"Coalition\": \"Sum of contribution of events \\u2264 t\", \"t (event index)\": -274, \"Shapley Value\": 0.0}, {\"Coalition\": \"Sum of contribution of events > t\", \"t (event index)\": -275, \"Shapley Value\": 0.49879562854766846}, {\"Coalition\": \"Sum of contribution of events \\u2264 t\", \"t (event index)\": -275, \"Shapley Value\": 0.0}, {\"Coalition\": \"Sum of contribution of events > t\", \"t (event index)\": -276, \"Shapley Value\": 0.49879562854766846}, {\"Coalition\": \"Sum of contribution of events \\u2264 t\", \"t (event index)\": -276, \"Shapley Value\": 0.0}, {\"Coalition\": \"Sum of contribution of events > t\", \"t (event index)\": -277, \"Shapley Value\": 0.49879562854766846}, {\"Coalition\": \"Sum of contribution of events \\u2264 t\", \"t (event index)\": -277, \"Shapley Value\": 0.0}, {\"Coalition\": \"Sum of contribution of events > t\", \"t (event index)\": -278, \"Shapley Value\": 0.49879562854766846}, {\"Coalition\": \"Sum of contribution of events \\u2264 t\", \"t (event index)\": -278, \"Shapley Value\": 0.0}, {\"Coalition\": \"Sum of contribution of events > t\", \"t (event index)\": -279, \"Shapley Value\": 0.49879562854766846}, {\"Coalition\": \"Sum of contribution of events \\u2264 t\", \"t (event index)\": -279, \"Shapley Value\": 0.0}, {\"Coalition\": \"Sum of contribution of events > t\", \"t (event index)\": -280, \"Shapley Value\": 0.49879562854766846}, {\"Coalition\": \"Sum of contribution of events \\u2264 t\", \"t (event index)\": -280, \"Shapley Value\": 0.0}, {\"Coalition\": \"Sum of contribution of events > t\", \"t (event index)\": -281, \"Shapley Value\": 0.49879562854766846}, {\"Coalition\": \"Sum of contribution of events \\u2264 t\", \"t (event index)\": -281, \"Shapley Value\": 0.0}, {\"Coalition\": \"Sum of contribution of events > t\", \"t (event index)\": -282, \"Shapley Value\": 0.49879562854766846}, {\"Coalition\": \"Sum of contribution of events \\u2264 t\", \"t (event index)\": -282, \"Shapley Value\": 0.0}, {\"Coalition\": \"Sum of contribution of events > t\", \"t (event index)\": -283, \"Shapley Value\": 0.49879562854766846}, {\"Coalition\": \"Sum of contribution of events \\u2264 t\", \"t (event index)\": -283, \"Shapley Value\": 0.0}, {\"Coalition\": \"Sum of contribution of events > t\", \"t (event index)\": -284, \"Shapley Value\": 0.49879562854766846}, {\"Coalition\": \"Sum of contribution of events \\u2264 t\", \"t (event index)\": -284, \"Shapley Value\": 0.0}, {\"Coalition\": \"Sum of contribution of events > t\", \"t (event index)\": -285, \"Shapley Value\": 0.49879562854766846}, {\"Coalition\": \"Sum of contribution of events \\u2264 t\", \"t (event index)\": -285, \"Shapley Value\": 0.0}, {\"Coalition\": \"Sum of contribution of events > t\", \"t (event index)\": -286, \"Shapley Value\": 0.49879562854766846}, {\"Coalition\": \"Sum of contribution of events \\u2264 t\", \"t (event index)\": -286, \"Shapley Value\": 0.0}, {\"Coalition\": \"Sum of contribution of events > t\", \"t (event index)\": -287, \"Shapley Value\": 0.49879562854766846}, {\"Coalition\": \"Sum of contribution of events \\u2264 t\", \"t (event index)\": -287, \"Shapley Value\": 0.0}, {\"Coalition\": \"Sum of contribution of events > t\", \"t (event index)\": -288, \"Shapley Value\": 0.49879562854766846}, {\"Coalition\": \"Sum of contribution of events \\u2264 t\", \"t (event index)\": -288, \"Shapley Value\": 0.0}, {\"Coalition\": \"Sum of contribution of events > t\", \"t (event index)\": -289, \"Shapley Value\": 0.49879562854766846}, {\"Coalition\": \"Sum of contribution of events \\u2264 t\", \"t (event index)\": -289, \"Shapley Value\": 0.0}, {\"Coalition\": \"Sum of contribution of events > t\", \"t (event index)\": -290, \"Shapley Value\": 0.49879562854766846}, {\"Coalition\": \"Sum of contribution of events \\u2264 t\", \"t (event index)\": -290, \"Shapley Value\": 0.0}, {\"Coalition\": \"Sum of contribution of events > t\", \"t (event index)\": -291, \"Shapley Value\": 0.49879562854766846}, {\"Coalition\": \"Sum of contribution of events \\u2264 t\", \"t (event index)\": -291, \"Shapley Value\": 0.0}, {\"Coalition\": \"Sum of contribution of events > t\", \"t (event index)\": -292, \"Shapley Value\": 0.49879562854766846}, {\"Coalition\": \"Sum of contribution of events \\u2264 t\", \"t (event index)\": -292, \"Shapley Value\": 0.0}, {\"Coalition\": \"Sum of contribution of events > t\", \"t (event index)\": -293, \"Shapley Value\": 0.49879562854766846}, {\"Coalition\": \"Sum of contribution of events \\u2264 t\", \"t (event index)\": -293, \"Shapley Value\": 0.0}, {\"Coalition\": \"Sum of contribution of events > t\", \"t (event index)\": -294, \"Shapley Value\": 0.49879562854766846}, {\"Coalition\": \"Sum of contribution of events \\u2264 t\", \"t (event index)\": -294, \"Shapley Value\": 0.0}, {\"Coalition\": \"Sum of contribution of events > t\", \"t (event index)\": -295, \"Shapley Value\": 0.49879562854766846}, {\"Coalition\": \"Sum of contribution of events \\u2264 t\", \"t (event index)\": -295, \"Shapley Value\": 0.0}, {\"Coalition\": \"Sum of contribution of events > t\", \"t (event index)\": -296, \"Shapley Value\": 0.49879562854766846}, {\"Coalition\": \"Sum of contribution of events \\u2264 t\", \"t (event index)\": -296, \"Shapley Value\": 0.0}, {\"Coalition\": \"Sum of contribution of events > t\", \"t (event index)\": -297, \"Shapley Value\": 0.49879562854766846}, {\"Coalition\": \"Sum of contribution of events \\u2264 t\", \"t (event index)\": -297, \"Shapley Value\": 0.0}, {\"Coalition\": \"Sum of contribution of events > t\", \"t (event index)\": -298, \"Shapley Value\": 0.49879562854766846}, {\"Coalition\": \"Sum of contribution of events \\u2264 t\", \"t (event index)\": -298, \"Shapley Value\": 0.0}, {\"Coalition\": \"Sum of contribution of events > t\", \"t (event index)\": -299, \"Shapley Value\": 0.49879562854766846}, {\"Coalition\": \"Sum of contribution of events \\u2264 t\", \"t (event index)\": -299, \"Shapley Value\": 0.0}, {\"Coalition\": \"Sum of contribution of events > t\", \"t (event index)\": -300, \"Shapley Value\": 0.49879562854766846}, {\"Coalition\": \"Sum of contribution of events \\u2264 t\", \"t (event index)\": -300, \"Shapley Value\": 0.0}, {\"Coalition\": \"Sum of contribution of events > t\", \"t (event index)\": -301, \"Shapley Value\": 0.49879562854766846}, {\"Coalition\": \"Sum of contribution of events \\u2264 t\", \"t (event index)\": -301, \"Shapley Value\": 0.0}, {\"Coalition\": \"Sum of contribution of events > t\", \"t (event index)\": -302, \"Shapley Value\": 0.49879562854766846}, {\"Coalition\": \"Sum of contribution of events \\u2264 t\", \"t (event index)\": -302, \"Shapley Value\": 0.0}, {\"Coalition\": \"Sum of contribution of events > t\", \"t (event index)\": -303, \"Shapley Value\": 0.49879562854766846}, {\"Coalition\": \"Sum of contribution of events \\u2264 t\", \"t (event index)\": -303, \"Shapley Value\": 0.0}, {\"Coalition\": \"Sum of contribution of events > t\", \"t (event index)\": -304, \"Shapley Value\": 0.49879562854766846}, {\"Coalition\": \"Sum of contribution of events \\u2264 t\", \"t (event index)\": -304, \"Shapley Value\": 0.0}, {\"Coalition\": \"Sum of contribution of events > t\", \"t (event index)\": -305, \"Shapley Value\": 0.49879562854766846}, {\"Coalition\": \"Sum of contribution of events \\u2264 t\", \"t (event index)\": -305, \"Shapley Value\": 0.0}, {\"Coalition\": \"Sum of contribution of events > t\", \"t (event index)\": -306, \"Shapley Value\": 0.49879562854766846}, {\"Coalition\": \"Sum of contribution of events \\u2264 t\", \"t (event index)\": -306, \"Shapley Value\": 0.0}, {\"Coalition\": \"Sum of contribution of events > t\", \"t (event index)\": -307, \"Shapley Value\": 0.49879562854766846}, {\"Coalition\": \"Sum of contribution of events \\u2264 t\", \"t (event index)\": -307, \"Shapley Value\": 0.0}, {\"Coalition\": \"Sum of contribution of events > t\", \"t (event index)\": -308, \"Shapley Value\": 0.49879562854766846}, {\"Coalition\": \"Sum of contribution of events \\u2264 t\", \"t (event index)\": -308, \"Shapley Value\": 0.0}, {\"Coalition\": \"Sum of contribution of events > t\", \"t (event index)\": -309, \"Shapley Value\": 0.49879562854766846}, {\"Coalition\": \"Sum of contribution of events \\u2264 t\", \"t (event index)\": -309, \"Shapley Value\": 0.0}, {\"Coalition\": \"Sum of contribution of events > t\", \"t (event index)\": -310, \"Shapley Value\": 0.49879562854766846}, {\"Coalition\": \"Sum of contribution of events \\u2264 t\", \"t (event index)\": -310, \"Shapley Value\": 0.0}, {\"Coalition\": \"Sum of contribution of events > t\", \"t (event index)\": -311, \"Shapley Value\": 0.49879562854766846}, {\"Coalition\": \"Sum of contribution of events \\u2264 t\", \"t (event index)\": -311, \"Shapley Value\": 0.0}, {\"Coalition\": \"Sum of contribution of events > t\", \"t (event index)\": -312, \"Shapley Value\": 0.49879562854766846}, {\"Coalition\": \"Sum of contribution of events \\u2264 t\", \"t (event index)\": -312, \"Shapley Value\": 0.0}, {\"Coalition\": \"Sum of contribution of events > t\", \"t (event index)\": -313, \"Shapley Value\": 0.49879562854766846}, {\"Coalition\": \"Sum of contribution of events \\u2264 t\", \"t (event index)\": -313, \"Shapley Value\": 0.0}, {\"Coalition\": \"Sum of contribution of events > t\", \"t (event index)\": -314, \"Shapley Value\": 0.49879562854766846}, {\"Coalition\": \"Sum of contribution of events \\u2264 t\", \"t (event index)\": -314, \"Shapley Value\": 0.0}, {\"Coalition\": \"Sum of contribution of events > t\", \"t (event index)\": -315, \"Shapley Value\": 0.49879562854766846}, {\"Coalition\": \"Sum of contribution of events \\u2264 t\", \"t (event index)\": -315, \"Shapley Value\": 0.0}, {\"Coalition\": \"Sum of contribution of events > t\", \"t (event index)\": -316, \"Shapley Value\": 0.49879562854766846}, {\"Coalition\": \"Sum of contribution of events \\u2264 t\", \"t (event index)\": -316, \"Shapley Value\": 0.0}, {\"Coalition\": \"Sum of contribution of events > t\", \"t (event index)\": -317, \"Shapley Value\": 0.49879562854766846}, {\"Coalition\": \"Sum of contribution of events \\u2264 t\", \"t (event index)\": -317, \"Shapley Value\": 0.0}, {\"Coalition\": \"Sum of contribution of events > t\", \"t (event index)\": -318, \"Shapley Value\": 0.49879562854766846}, {\"Coalition\": \"Sum of contribution of events \\u2264 t\", \"t (event index)\": -318, \"Shapley Value\": 0.0}, {\"Coalition\": \"Sum of contribution of events > t\", \"t (event index)\": -319, \"Shapley Value\": 0.49879562854766846}, {\"Coalition\": \"Sum of contribution of events \\u2264 t\", \"t (event index)\": -319, \"Shapley Value\": 0.0}, {\"Coalition\": \"Sum of contribution of events > t\", \"t (event index)\": -320, \"Shapley Value\": 0.49879562854766846}, {\"Coalition\": \"Sum of contribution of events \\u2264 t\", \"t (event index)\": -320, \"Shapley Value\": 0.0}, {\"Coalition\": \"Sum of contribution of events > t\", \"t (event index)\": -321, \"Shapley Value\": 0.49879562854766846}, {\"Coalition\": \"Sum of contribution of events \\u2264 t\", \"t (event index)\": -321, \"Shapley Value\": 0.0}, {\"Coalition\": \"Sum of contribution of events > t\", \"t (event index)\": -322, \"Shapley Value\": 0.49879562854766846}, {\"Coalition\": \"Sum of contribution of events \\u2264 t\", \"t (event index)\": -322, \"Shapley Value\": 0.0}, {\"Coalition\": \"Sum of contribution of events > t\", \"t (event index)\": -323, \"Shapley Value\": 0.49879562854766846}, {\"Coalition\": \"Sum of contribution of events \\u2264 t\", \"t (event index)\": -323, \"Shapley Value\": 0.0}, {\"Coalition\": \"Sum of contribution of events > t\", \"t (event index)\": -324, \"Shapley Value\": 0.49879562854766846}, {\"Coalition\": \"Sum of contribution of events \\u2264 t\", \"t (event index)\": -324, \"Shapley Value\": 0.0}, {\"Coalition\": \"Sum of contribution of events > t\", \"t (event index)\": -325, \"Shapley Value\": 0.49879562854766846}, {\"Coalition\": \"Sum of contribution of events \\u2264 t\", \"t (event index)\": -325, \"Shapley Value\": 0.0}, {\"Coalition\": \"Sum of contribution of events > t\", \"t (event index)\": -326, \"Shapley Value\": 0.49879562854766846}, {\"Coalition\": \"Sum of contribution of events \\u2264 t\", \"t (event index)\": -326, \"Shapley Value\": 0.0}, {\"Coalition\": \"Sum of contribution of events > t\", \"t (event index)\": -327, \"Shapley Value\": 0.49879562854766846}, {\"Coalition\": \"Sum of contribution of events \\u2264 t\", \"t (event index)\": -327, \"Shapley Value\": 0.0}, {\"Coalition\": \"Sum of contribution of events > t\", \"t (event index)\": -328, \"Shapley Value\": 0.49879562854766846}, {\"Coalition\": \"Sum of contribution of events \\u2264 t\", \"t (event index)\": -328, \"Shapley Value\": 0.0}, {\"Coalition\": \"Sum of contribution of events > t\", \"t (event index)\": -329, \"Shapley Value\": 0.49879562854766846}, {\"Coalition\": \"Sum of contribution of events \\u2264 t\", \"t (event index)\": -329, \"Shapley Value\": 0.0}, {\"Coalition\": \"Sum of contribution of events > t\", \"t (event index)\": -330, \"Shapley Value\": 0.49879562854766846}, {\"Coalition\": \"Sum of contribution of events \\u2264 t\", \"t (event index)\": -330, \"Shapley Value\": 0.0}, {\"Coalition\": \"Sum of contribution of events > t\", \"t (event index)\": -331, \"Shapley Value\": 0.49879562854766846}, {\"Coalition\": \"Sum of contribution of events \\u2264 t\", \"t (event index)\": -331, \"Shapley Value\": 0.0}, {\"Coalition\": \"Sum of contribution of events > t\", \"t (event index)\": -332, \"Shapley Value\": 0.49879562854766846}, {\"Coalition\": \"Sum of contribution of events \\u2264 t\", \"t (event index)\": -332, \"Shapley Value\": 0.0}, {\"Coalition\": \"Sum of contribution of events > t\", \"t (event index)\": -333, \"Shapley Value\": 0.49879562854766846}, {\"Coalition\": \"Sum of contribution of events \\u2264 t\", \"t (event index)\": -333, \"Shapley Value\": 0.0}, {\"Coalition\": \"Sum of contribution of events > t\", \"t (event index)\": -334, \"Shapley Value\": 0.49879562854766846}, {\"Coalition\": \"Sum of contribution of events \\u2264 t\", \"t (event index)\": -334, \"Shapley Value\": 0.0}, {\"Coalition\": \"Sum of contribution of events > t\", \"t (event index)\": -335, \"Shapley Value\": 0.49879562854766846}, {\"Coalition\": \"Sum of contribution of events \\u2264 t\", \"t (event index)\": -335, \"Shapley Value\": 0.0}, {\"Coalition\": \"Sum of contribution of events > t\", \"t (event index)\": -336, \"Shapley Value\": 0.49879562854766846}, {\"Coalition\": \"Sum of contribution of events \\u2264 t\", \"t (event index)\": -336, \"Shapley Value\": 0.0}, {\"Coalition\": \"Sum of contribution of events > t\", \"t (event index)\": -337, \"Shapley Value\": 0.49879562854766846}, {\"Coalition\": \"Sum of contribution of events \\u2264 t\", \"t (event index)\": -337, \"Shapley Value\": 0.0}, {\"Coalition\": \"Sum of contribution of events > t\", \"t (event index)\": -338, \"Shapley Value\": 0.49879562854766846}, {\"Coalition\": \"Sum of contribution of events \\u2264 t\", \"t (event index)\": -338, \"Shapley Value\": 0.0}, {\"Coalition\": \"Sum of contribution of events > t\", \"t (event index)\": -339, \"Shapley Value\": 0.49879562854766846}, {\"Coalition\": \"Sum of contribution of events \\u2264 t\", \"t (event index)\": -339, \"Shapley Value\": 0.0}, {\"Coalition\": \"Sum of contribution of events > t\", \"t (event index)\": -340, \"Shapley Value\": 0.49879562854766846}, {\"Coalition\": \"Sum of contribution of events \\u2264 t\", \"t (event index)\": -340, \"Shapley Value\": 0.0}, {\"Coalition\": \"Sum of contribution of events > t\", \"t (event index)\": -341, \"Shapley Value\": 0.49879562854766846}, {\"Coalition\": \"Sum of contribution of events \\u2264 t\", \"t (event index)\": -341, \"Shapley Value\": 0.0}, {\"Coalition\": \"Sum of contribution of events > t\", \"t (event index)\": -342, \"Shapley Value\": 0.49879562854766846}, {\"Coalition\": \"Sum of contribution of events \\u2264 t\", \"t (event index)\": -342, \"Shapley Value\": 0.0}, {\"Coalition\": \"Sum of contribution of events > t\", \"t (event index)\": -343, \"Shapley Value\": 0.49879562854766846}, {\"Coalition\": \"Sum of contribution of events \\u2264 t\", \"t (event index)\": -343, \"Shapley Value\": 0.0}, {\"Coalition\": \"Sum of contribution of events > t\", \"t (event index)\": -344, \"Shapley Value\": 0.49879562854766846}, {\"Coalition\": \"Sum of contribution of events \\u2264 t\", \"t (event index)\": -344, \"Shapley Value\": 0.0}, {\"Coalition\": \"Sum of contribution of events > t\", \"t (event index)\": -345, \"Shapley Value\": 0.49879562854766846}, {\"Coalition\": \"Sum of contribution of events \\u2264 t\", \"t (event index)\": -345, \"Shapley Value\": 0.0}, {\"Coalition\": \"Sum of contribution of events > t\", \"t (event index)\": -346, \"Shapley Value\": 0.49879562854766846}, {\"Coalition\": \"Sum of contribution of events \\u2264 t\", \"t (event index)\": -346, \"Shapley Value\": 0.0}, {\"Coalition\": \"Sum of contribution of events > t\", \"t (event index)\": -347, \"Shapley Value\": 0.49879562854766846}, {\"Coalition\": \"Sum of contribution of events \\u2264 t\", \"t (event index)\": -347, \"Shapley Value\": 0.0}, {\"Coalition\": \"Sum of contribution of events > t\", \"t (event index)\": -348, \"Shapley Value\": 0.49879562854766846}, {\"Coalition\": \"Sum of contribution of events \\u2264 t\", \"t (event index)\": -348, \"Shapley Value\": 0.0}, {\"Coalition\": \"Sum of contribution of events > t\", \"t (event index)\": -349, \"Shapley Value\": 0.49879562854766846}, {\"Coalition\": \"Sum of contribution of events \\u2264 t\", \"t (event index)\": -349, \"Shapley Value\": 0.0}, {\"Coalition\": \"Sum of contribution of events > t\", \"t (event index)\": -350, \"Shapley Value\": 0.49879562854766846}, {\"Coalition\": \"Sum of contribution of events \\u2264 t\", \"t (event index)\": -350, \"Shapley Value\": 0.0}, {\"Coalition\": \"Sum of contribution of events > t\", \"t (event index)\": -351, \"Shapley Value\": 0.49879562854766846}, {\"Coalition\": \"Sum of contribution of events \\u2264 t\", \"t (event index)\": -351, \"Shapley Value\": 0.0}, {\"Coalition\": \"Sum of contribution of events > t\", \"t (event index)\": -352, \"Shapley Value\": 0.49879562854766846}, {\"Coalition\": \"Sum of contribution of events \\u2264 t\", \"t (event index)\": -352, \"Shapley Value\": 0.0}, {\"Coalition\": \"Sum of contribution of events > t\", \"t (event index)\": -353, \"Shapley Value\": 0.49879562854766846}, {\"Coalition\": \"Sum of contribution of events \\u2264 t\", \"t (event index)\": -353, \"Shapley Value\": 0.0}, {\"Coalition\": \"Sum of contribution of events > t\", \"t (event index)\": -354, \"Shapley Value\": 0.49879562854766846}, {\"Coalition\": \"Sum of contribution of events \\u2264 t\", \"t (event index)\": -354, \"Shapley Value\": 0.0}, {\"Coalition\": \"Sum of contribution of events > t\", \"t (event index)\": -355, \"Shapley Value\": 0.49879562854766846}, {\"Coalition\": \"Sum of contribution of events \\u2264 t\", \"t (event index)\": -355, \"Shapley Value\": 0.0}, {\"Coalition\": \"Sum of contribution of events > t\", \"t (event index)\": -356, \"Shapley Value\": 0.49879562854766846}, {\"Coalition\": \"Sum of contribution of events \\u2264 t\", \"t (event index)\": -356, \"Shapley Value\": 0.0}, {\"Coalition\": \"Sum of contribution of events > t\", \"t (event index)\": -357, \"Shapley Value\": 0.49879562854766846}, {\"Coalition\": \"Sum of contribution of events \\u2264 t\", \"t (event index)\": -357, \"Shapley Value\": 0.0}, {\"Coalition\": \"Sum of contribution of events > t\", \"t (event index)\": -358, \"Shapley Value\": 0.49879562854766846}, {\"Coalition\": \"Sum of contribution of events \\u2264 t\", \"t (event index)\": -358, \"Shapley Value\": 0.0}, {\"Coalition\": \"Sum of contribution of events > t\", \"t (event index)\": -359, \"Shapley Value\": 0.49879562854766846}, {\"Coalition\": \"Sum of contribution of events \\u2264 t\", \"t (event index)\": -359, \"Shapley Value\": 0.0}, {\"Coalition\": \"Sum of contribution of events > t\", \"t (event index)\": -360, \"Shapley Value\": 0.49879562854766846}, {\"Coalition\": \"Sum of contribution of events \\u2264 t\", \"t (event index)\": -360, \"Shapley Value\": 0.0}, {\"Coalition\": \"Sum of contribution of events > t\", \"t (event index)\": -361, \"Shapley Value\": 0.49879562854766846}, {\"Coalition\": \"Sum of contribution of events \\u2264 t\", \"t (event index)\": -361, \"Shapley Value\": 0.0}, {\"Coalition\": \"Sum of contribution of events > t\", \"t (event index)\": -362, \"Shapley Value\": 0.49879562854766846}, {\"Coalition\": \"Sum of contribution of events \\u2264 t\", \"t (event index)\": -362, \"Shapley Value\": 0.0}, {\"Coalition\": \"Sum of contribution of events > t\", \"t (event index)\": -363, \"Shapley Value\": 0.49879562854766846}, {\"Coalition\": \"Sum of contribution of events \\u2264 t\", \"t (event index)\": -363, \"Shapley Value\": 0.0}, {\"Coalition\": \"Sum of contribution of events > t\", \"t (event index)\": -364, \"Shapley Value\": 0.49879562854766846}, {\"Coalition\": \"Sum of contribution of events \\u2264 t\", \"t (event index)\": -364, \"Shapley Value\": 0.0}, {\"Coalition\": \"Sum of contribution of events > t\", \"t (event index)\": -365, \"Shapley Value\": 0.49879562854766846}, {\"Coalition\": \"Sum of contribution of events \\u2264 t\", \"t (event index)\": -365, \"Shapley Value\": 0.0}, {\"Coalition\": \"Sum of contribution of events > t\", \"t (event index)\": -366, \"Shapley Value\": 0.49879562854766846}, {\"Coalition\": \"Sum of contribution of events \\u2264 t\", \"t (event index)\": -366, \"Shapley Value\": 0.0}, {\"Coalition\": \"Sum of contribution of events > t\", \"t (event index)\": -367, \"Shapley Value\": 0.49879562854766846}, {\"Coalition\": \"Sum of contribution of events \\u2264 t\", \"t (event index)\": -367, \"Shapley Value\": 0.0}, {\"Coalition\": \"Sum of contribution of events > t\", \"t (event index)\": -368, \"Shapley Value\": 0.49879562854766846}, {\"Coalition\": \"Sum of contribution of events \\u2264 t\", \"t (event index)\": -368, \"Shapley Value\": 0.0}, {\"Coalition\": \"Sum of contribution of events > t\", \"t (event index)\": -369, \"Shapley Value\": 0.49879562854766846}, {\"Coalition\": \"Sum of contribution of events \\u2264 t\", \"t (event index)\": -369, \"Shapley Value\": 0.0}, {\"Coalition\": \"Sum of contribution of events > t\", \"t (event index)\": -370, \"Shapley Value\": 0.49879562854766846}, {\"Coalition\": \"Sum of contribution of events \\u2264 t\", \"t (event index)\": -370, \"Shapley Value\": 0.0}, {\"Coalition\": \"Sum of contribution of events > t\", \"t (event index)\": -371, \"Shapley Value\": 0.49879562854766846}, {\"Coalition\": \"Sum of contribution of events \\u2264 t\", \"t (event index)\": -371, \"Shapley Value\": 0.0}, {\"Coalition\": \"Sum of contribution of events > t\", \"t (event index)\": -372, \"Shapley Value\": 0.49879562854766846}, {\"Coalition\": \"Sum of contribution of events \\u2264 t\", \"t (event index)\": -372, \"Shapley Value\": 0.0}, {\"Coalition\": \"Sum of contribution of events > t\", \"t (event index)\": -373, \"Shapley Value\": 0.49879562854766846}, {\"Coalition\": \"Sum of contribution of events \\u2264 t\", \"t (event index)\": -373, \"Shapley Value\": 0.0}, {\"Coalition\": \"Sum of contribution of events > t\", \"t (event index)\": -374, \"Shapley Value\": 0.49879562854766846}, {\"Coalition\": \"Sum of contribution of events \\u2264 t\", \"t (event index)\": -374, \"Shapley Value\": 0.0}, {\"Coalition\": \"Sum of contribution of events > t\", \"t (event index)\": -375, \"Shapley Value\": 0.49879562854766846}, {\"Coalition\": \"Sum of contribution of events \\u2264 t\", \"t (event index)\": -375, \"Shapley Value\": 0.0}, {\"Coalition\": \"Sum of contribution of events > t\", \"t (event index)\": -376, \"Shapley Value\": 0.49879562854766846}, {\"Coalition\": \"Sum of contribution of events \\u2264 t\", \"t (event index)\": -376, \"Shapley Value\": 0.0}, {\"Coalition\": \"Sum of contribution of events > t\", \"t (event index)\": -377, \"Shapley Value\": 0.49879562854766846}, {\"Coalition\": \"Sum of contribution of events \\u2264 t\", \"t (event index)\": -377, \"Shapley Value\": 0.0}, {\"Coalition\": \"Sum of contribution of events > t\", \"t (event index)\": -378, \"Shapley Value\": 0.49879562854766846}, {\"Coalition\": \"Sum of contribution of events \\u2264 t\", \"t (event index)\": -378, \"Shapley Value\": 0.0}, {\"Coalition\": \"Sum of contribution of events > t\", \"t (event index)\": -379, \"Shapley Value\": 0.49879562854766846}, {\"Coalition\": \"Sum of contribution of events \\u2264 t\", \"t (event index)\": -379, \"Shapley Value\": 0.0}, {\"Coalition\": \"Sum of contribution of events > t\", \"t (event index)\": -380, \"Shapley Value\": 0.49879562854766846}, {\"Coalition\": \"Sum of contribution of events \\u2264 t\", \"t (event index)\": -380, \"Shapley Value\": 0.0}, {\"Coalition\": \"Sum of contribution of events > t\", \"t (event index)\": -381, \"Shapley Value\": 0.49879562854766846}, {\"Coalition\": \"Sum of contribution of events \\u2264 t\", \"t (event index)\": -381, \"Shapley Value\": 0.0}, {\"Coalition\": \"Sum of contribution of events > t\", \"t (event index)\": -382, \"Shapley Value\": 0.49879562854766846}, {\"Coalition\": \"Sum of contribution of events \\u2264 t\", \"t (event index)\": -382, \"Shapley Value\": 0.0}, {\"Coalition\": \"Sum of contribution of events > t\", \"t (event index)\": -383, \"Shapley Value\": 0.49879562854766846}, {\"Coalition\": \"Sum of contribution of events \\u2264 t\", \"t (event index)\": -383, \"Shapley Value\": 0.0}, {\"Coalition\": \"Sum of contribution of events > t\", \"t (event index)\": -384, \"Shapley Value\": 0.49879562854766846}, {\"Coalition\": \"Sum of contribution of events \\u2264 t\", \"t (event index)\": -384, \"Shapley Value\": 0.0}, {\"Coalition\": \"Sum of contribution of events > t\", \"t (event index)\": -385, \"Shapley Value\": 0.49879562854766846}, {\"Coalition\": \"Sum of contribution of events \\u2264 t\", \"t (event index)\": -385, \"Shapley Value\": 0.0}, {\"Coalition\": \"Sum of contribution of events > t\", \"t (event index)\": -386, \"Shapley Value\": 0.49879562854766846}, {\"Coalition\": \"Sum of contribution of events \\u2264 t\", \"t (event index)\": -386, \"Shapley Value\": 0.0}, {\"Coalition\": \"Sum of contribution of events > t\", \"t (event index)\": -387, \"Shapley Value\": 0.49879562854766846}, {\"Coalition\": \"Sum of contribution of events \\u2264 t\", \"t (event index)\": -387, \"Shapley Value\": 0.0}, {\"Coalition\": \"Sum of contribution of events > t\", \"t (event index)\": -388, \"Shapley Value\": 0.49879562854766846}, {\"Coalition\": \"Sum of contribution of events \\u2264 t\", \"t (event index)\": -388, \"Shapley Value\": 0.0}, {\"Coalition\": \"Sum of contribution of events > t\", \"t (event index)\": -389, \"Shapley Value\": 0.49879562854766846}, {\"Coalition\": \"Sum of contribution of events \\u2264 t\", \"t (event index)\": -389, \"Shapley Value\": 0.0}, {\"Coalition\": \"Sum of contribution of events > t\", \"t (event index)\": -390, \"Shapley Value\": 0.49879562854766846}, {\"Coalition\": \"Sum of contribution of events \\u2264 t\", \"t (event index)\": -390, \"Shapley Value\": 0.0}, {\"Coalition\": \"Sum of contribution of events > t\", \"t (event index)\": -391, \"Shapley Value\": 0.49879562854766846}, {\"Coalition\": \"Sum of contribution of events \\u2264 t\", \"t (event index)\": -391, \"Shapley Value\": 0.0}, {\"Coalition\": \"Sum of contribution of events > t\", \"t (event index)\": -392, \"Shapley Value\": 0.49879562854766846}, {\"Coalition\": \"Sum of contribution of events \\u2264 t\", \"t (event index)\": -392, \"Shapley Value\": 0.0}, {\"Coalition\": \"Sum of contribution of events > t\", \"t (event index)\": -393, \"Shapley Value\": 0.49879562854766846}, {\"Coalition\": \"Sum of contribution of events \\u2264 t\", \"t (event index)\": -393, \"Shapley Value\": 0.0}, {\"Coalition\": \"Sum of contribution of events > t\", \"t (event index)\": -394, \"Shapley Value\": 0.49879562854766846}, {\"Coalition\": \"Sum of contribution of events \\u2264 t\", \"t (event index)\": -394, \"Shapley Value\": 0.0}, {\"Coalition\": \"Sum of contribution of events > t\", \"t (event index)\": -395, \"Shapley Value\": 0.49879562854766846}, {\"Coalition\": \"Sum of contribution of events \\u2264 t\", \"t (event index)\": -395, \"Shapley Value\": 0.0}, {\"Coalition\": \"Sum of contribution of events > t\", \"t (event index)\": -396, \"Shapley Value\": 0.49879562854766846}, {\"Coalition\": \"Sum of contribution of events \\u2264 t\", \"t (event index)\": -396, \"Shapley Value\": 0.0}, {\"Coalition\": \"Sum of contribution of events > t\", \"t (event index)\": -397, \"Shapley Value\": 0.49879562854766846}, {\"Coalition\": \"Sum of contribution of events \\u2264 t\", \"t (event index)\": -397, \"Shapley Value\": 0.0}, {\"Coalition\": \"Sum of contribution of events > t\", \"t (event index)\": -398, \"Shapley Value\": 0.49879562854766846}, {\"Coalition\": \"Sum of contribution of events \\u2264 t\", \"t (event index)\": -398, \"Shapley Value\": 0.0}, {\"Coalition\": \"Sum of contribution of events > t\", \"t (event index)\": -399, \"Shapley Value\": 0.49879562854766846}, {\"Coalition\": \"Sum of contribution of events \\u2264 t\", \"t (event index)\": -399, \"Shapley Value\": 0.0}, {\"Coalition\": \"Sum of contribution of events > t\", \"t (event index)\": -400, \"Shapley Value\": 0.49879562854766846}, {\"Coalition\": \"Sum of contribution of events \\u2264 t\", \"t (event index)\": -400, \"Shapley Value\": 0.0}, {\"Coalition\": \"Sum of contribution of events > t\", \"t (event index)\": -401, \"Shapley Value\": 0.49879562854766846}, {\"Coalition\": \"Sum of contribution of events \\u2264 t\", \"t (event index)\": -401, \"Shapley Value\": 0.0}, {\"Coalition\": \"Sum of contribution of events > t\", \"t (event index)\": -402, \"Shapley Value\": 0.49879562854766846}, {\"Coalition\": \"Sum of contribution of events \\u2264 t\", \"t (event index)\": -402, \"Shapley Value\": 0.0}, {\"Coalition\": \"Sum of contribution of events > t\", \"t (event index)\": -403, \"Shapley Value\": 0.49879562854766846}, {\"Coalition\": \"Sum of contribution of events \\u2264 t\", \"t (event index)\": -403, \"Shapley Value\": 0.0}, {\"Coalition\": \"Sum of contribution of events > t\", \"t (event index)\": -404, \"Shapley Value\": 0.49879562854766846}, {\"Coalition\": \"Sum of contribution of events \\u2264 t\", \"t (event index)\": -404, \"Shapley Value\": 0.0}, {\"Coalition\": \"Sum of contribution of events > t\", \"t (event index)\": -405, \"Shapley Value\": 0.49879562854766846}, {\"Coalition\": \"Sum of contribution of events \\u2264 t\", \"t (event index)\": -405, \"Shapley Value\": 0.0}, {\"Coalition\": \"Sum of contribution of events > t\", \"t (event index)\": -406, \"Shapley Value\": 0.49879562854766846}, {\"Coalition\": \"Sum of contribution of events \\u2264 t\", \"t (event index)\": -406, \"Shapley Value\": 0.0}, {\"Coalition\": \"Sum of contribution of events > t\", \"t (event index)\": -407, \"Shapley Value\": 0.49879562854766846}, {\"Coalition\": \"Sum of contribution of events \\u2264 t\", \"t (event index)\": -407, \"Shapley Value\": 0.0}, {\"Coalition\": \"Sum of contribution of events > t\", \"t (event index)\": -408, \"Shapley Value\": 0.49879562854766846}, {\"Coalition\": \"Sum of contribution of events \\u2264 t\", \"t (event index)\": -408, \"Shapley Value\": 0.0}, {\"Coalition\": \"Sum of contribution of events > t\", \"t (event index)\": -409, \"Shapley Value\": 0.49879562854766846}, {\"Coalition\": \"Sum of contribution of events \\u2264 t\", \"t (event index)\": -409, \"Shapley Value\": 0.0}, {\"Coalition\": \"Sum of contribution of events > t\", \"t (event index)\": -410, \"Shapley Value\": 0.49879562854766846}, {\"Coalition\": \"Sum of contribution of events \\u2264 t\", \"t (event index)\": -410, \"Shapley Value\": 0.0}, {\"Coalition\": \"Sum of contribution of events > t\", \"t (event index)\": -411, \"Shapley Value\": 0.49879562854766846}, {\"Coalition\": \"Sum of contribution of events \\u2264 t\", \"t (event index)\": -411, \"Shapley Value\": 0.0}, {\"Coalition\": \"Sum of contribution of events > t\", \"t (event index)\": -412, \"Shapley Value\": 0.49879562854766846}, {\"Coalition\": \"Sum of contribution of events \\u2264 t\", \"t (event index)\": -412, \"Shapley Value\": 0.0}, {\"Coalition\": \"Sum of contribution of events > t\", \"t (event index)\": -413, \"Shapley Value\": 0.49879562854766846}, {\"Coalition\": \"Sum of contribution of events \\u2264 t\", \"t (event index)\": -413, \"Shapley Value\": 0.0}, {\"Coalition\": \"Sum of contribution of events > t\", \"t (event index)\": -414, \"Shapley Value\": 0.49879562854766846}, {\"Coalition\": \"Sum of contribution of events \\u2264 t\", \"t (event index)\": -414, \"Shapley Value\": 0.0}, {\"Coalition\": \"Sum of contribution of events > t\", \"t (event index)\": -415, \"Shapley Value\": 0.49879562854766846}, {\"Coalition\": \"Sum of contribution of events \\u2264 t\", \"t (event index)\": -415, \"Shapley Value\": 0.0}, {\"Coalition\": \"Sum of contribution of events > t\", \"t (event index)\": -416, \"Shapley Value\": 0.49879562854766846}, {\"Coalition\": \"Sum of contribution of events \\u2264 t\", \"t (event index)\": -416, \"Shapley Value\": 0.0}, {\"Coalition\": \"Sum of contribution of events > t\", \"t (event index)\": -417, \"Shapley Value\": 0.49879562854766846}, {\"Coalition\": \"Sum of contribution of events \\u2264 t\", \"t (event index)\": -417, \"Shapley Value\": 0.0}, {\"Coalition\": \"Sum of contribution of events > t\", \"t (event index)\": -418, \"Shapley Value\": 0.49879562854766846}, {\"Coalition\": \"Sum of contribution of events \\u2264 t\", \"t (event index)\": -418, \"Shapley Value\": 0.0}, {\"Coalition\": \"Sum of contribution of events > t\", \"t (event index)\": -419, \"Shapley Value\": 0.49879562854766846}, {\"Coalition\": \"Sum of contribution of events \\u2264 t\", \"t (event index)\": -419, \"Shapley Value\": 0.0}, {\"Coalition\": \"Sum of contribution of events > t\", \"t (event index)\": -420, \"Shapley Value\": 0.49879562854766846}, {\"Coalition\": \"Sum of contribution of events \\u2264 t\", \"t (event index)\": -420, \"Shapley Value\": 0.0}, {\"Coalition\": \"Sum of contribution of events > t\", \"t (event index)\": -421, \"Shapley Value\": 0.49879562854766846}, {\"Coalition\": \"Sum of contribution of events \\u2264 t\", \"t (event index)\": -421, \"Shapley Value\": 0.0}, {\"Coalition\": \"Sum of contribution of events > t\", \"t (event index)\": -422, \"Shapley Value\": 0.49879562854766846}, {\"Coalition\": \"Sum of contribution of events \\u2264 t\", \"t (event index)\": -422, \"Shapley Value\": 0.0}, {\"Coalition\": \"Sum of contribution of events > t\", \"t (event index)\": -423, \"Shapley Value\": 0.49879562854766846}, {\"Coalition\": \"Sum of contribution of events \\u2264 t\", \"t (event index)\": -423, \"Shapley Value\": 0.0}, {\"Coalition\": \"Sum of contribution of events > t\", \"t (event index)\": -424, \"Shapley Value\": 0.49879562854766846}, {\"Coalition\": \"Sum of contribution of events \\u2264 t\", \"t (event index)\": -424, \"Shapley Value\": 0.0}, {\"Coalition\": \"Sum of contribution of events > t\", \"t (event index)\": -425, \"Shapley Value\": 0.49879562854766846}, {\"Coalition\": \"Sum of contribution of events \\u2264 t\", \"t (event index)\": -425, \"Shapley Value\": 0.0}, {\"Coalition\": \"Sum of contribution of events > t\", \"t (event index)\": -426, \"Shapley Value\": 0.49879562854766846}, {\"Coalition\": \"Sum of contribution of events \\u2264 t\", \"t (event index)\": -426, \"Shapley Value\": 0.0}, {\"Coalition\": \"Sum of contribution of events > t\", \"t (event index)\": -427, \"Shapley Value\": 0.49879562854766846}, {\"Coalition\": \"Sum of contribution of events \\u2264 t\", \"t (event index)\": -427, \"Shapley Value\": 0.0}, {\"Coalition\": \"Sum of contribution of events > t\", \"t (event index)\": -428, \"Shapley Value\": 0.49879562854766846}, {\"Coalition\": \"Sum of contribution of events \\u2264 t\", \"t (event index)\": -428, \"Shapley Value\": 0.0}, {\"Coalition\": \"Sum of contribution of events > t\", \"t (event index)\": -429, \"Shapley Value\": 0.49879562854766846}, {\"Coalition\": \"Sum of contribution of events \\u2264 t\", \"t (event index)\": -429, \"Shapley Value\": 0.0}, {\"Coalition\": \"Sum of contribution of events > t\", \"t (event index)\": -430, \"Shapley Value\": 0.49879562854766846}, {\"Coalition\": \"Sum of contribution of events \\u2264 t\", \"t (event index)\": -430, \"Shapley Value\": 0.0}, {\"Coalition\": \"Sum of contribution of events > t\", \"t (event index)\": -431, \"Shapley Value\": 0.49879562854766846}, {\"Coalition\": \"Sum of contribution of events \\u2264 t\", \"t (event index)\": -431, \"Shapley Value\": 0.0}, {\"Coalition\": \"Sum of contribution of events > t\", \"t (event index)\": -432, \"Shapley Value\": 0.49879562854766846}, {\"Coalition\": \"Sum of contribution of events \\u2264 t\", \"t (event index)\": -432, \"Shapley Value\": 0.0}, {\"Coalition\": \"Sum of contribution of events > t\", \"t (event index)\": -433, \"Shapley Value\": 0.49879562854766846}, {\"Coalition\": \"Sum of contribution of events \\u2264 t\", \"t (event index)\": -433, \"Shapley Value\": 0.0}, {\"Coalition\": \"Sum of contribution of events > t\", \"t (event index)\": -434, \"Shapley Value\": 0.49879562854766846}, {\"Coalition\": \"Sum of contribution of events \\u2264 t\", \"t (event index)\": -434, \"Shapley Value\": 0.0}, {\"Coalition\": \"Sum of contribution of events > t\", \"t (event index)\": -435, \"Shapley Value\": 0.49879562854766846}, {\"Coalition\": \"Sum of contribution of events \\u2264 t\", \"t (event index)\": -435, \"Shapley Value\": 0.0}, {\"Coalition\": \"Sum of contribution of events > t\", \"t (event index)\": -436, \"Shapley Value\": 0.49879562854766846}, {\"Coalition\": \"Sum of contribution of events \\u2264 t\", \"t (event index)\": -436, \"Shapley Value\": 0.0}, {\"Coalition\": \"Sum of contribution of events > t\", \"t (event index)\": -437, \"Shapley Value\": 0.49879562854766846}, {\"Coalition\": \"Sum of contribution of events \\u2264 t\", \"t (event index)\": -437, \"Shapley Value\": 0.0}, {\"Coalition\": \"Sum of contribution of events > t\", \"t (event index)\": -438, \"Shapley Value\": 0.49879562854766846}, {\"Coalition\": \"Sum of contribution of events \\u2264 t\", \"t (event index)\": -438, \"Shapley Value\": 0.0}, {\"Coalition\": \"Sum of contribution of events > t\", \"t (event index)\": -439, \"Shapley Value\": 0.49879562854766846}, {\"Coalition\": \"Sum of contribution of events \\u2264 t\", \"t (event index)\": -439, \"Shapley Value\": 0.0}, {\"Coalition\": \"Sum of contribution of events > t\", \"t (event index)\": -440, \"Shapley Value\": 0.49879562854766846}, {\"Coalition\": \"Sum of contribution of events \\u2264 t\", \"t (event index)\": -440, \"Shapley Value\": 0.0}, {\"Coalition\": \"Sum of contribution of events > t\", \"t (event index)\": -441, \"Shapley Value\": 0.49879562854766846}, {\"Coalition\": \"Sum of contribution of events \\u2264 t\", \"t (event index)\": -441, \"Shapley Value\": 0.0}, {\"Coalition\": \"Sum of contribution of events > t\", \"t (event index)\": -442, \"Shapley Value\": 0.49879562854766846}, {\"Coalition\": \"Sum of contribution of events \\u2264 t\", \"t (event index)\": -442, \"Shapley Value\": 0.0}, {\"Coalition\": \"Sum of contribution of events > t\", \"t (event index)\": -443, \"Shapley Value\": 0.49879562854766846}, {\"Coalition\": \"Sum of contribution of events \\u2264 t\", \"t (event index)\": -443, \"Shapley Value\": 0.0}, {\"Coalition\": \"Sum of contribution of events > t\", \"t (event index)\": -444, \"Shapley Value\": 0.49879562854766846}, {\"Coalition\": \"Sum of contribution of events \\u2264 t\", \"t (event index)\": -444, \"Shapley Value\": 0.0}, {\"Coalition\": \"Sum of contribution of events > t\", \"t (event index)\": -445, \"Shapley Value\": 0.49879562854766846}, {\"Coalition\": \"Sum of contribution of events \\u2264 t\", \"t (event index)\": -445, \"Shapley Value\": 0.0}], \"data-e77ac46d30d345cb69d3d984267f94d7\": [{\"x\": -35}], \"data-8514f0f900cf415905652d458d2a9799\": [{\"x\": -37}], \"data-220ab78d492563c5c56d38965a1f122e\": [{\"Shapley Value\": 0.029361875376093333, \"Feature\": \"Event -1\", \"row\": 1, \"column\": 1, \"rounded\": 0.029, \"rounded_str\": \"0.029\"}, {\"Shapley Value\": 0.03636571099732511, \"Feature\": \"Event -2\", \"row\": 2, \"column\": 1, \"rounded\": 0.036, \"rounded_str\": \"0.036\"}, {\"Shapley Value\": 0.0037200026521039264, \"Feature\": \"Event -3\", \"row\": 3, \"column\": 1, \"rounded\": 0.004, \"rounded_str\": \"0.004\"}, {\"Shapley Value\": 0.012720453960223477, \"Feature\": \"Event -4\", \"row\": 4, \"column\": 1, \"rounded\": 0.013, \"rounded_str\": \"0.013\"}, {\"Shapley Value\": 0.024091914168725026, \"Feature\": \"Event -5\", \"row\": 5, \"column\": 1, \"rounded\": 0.024, \"rounded_str\": \"0.024\"}, {\"Shapley Value\": 0.005940232137150309, \"Feature\": \"Event -6\", \"row\": 6, \"column\": 1, \"rounded\": 0.006, \"rounded_str\": \"0.006\"}, {\"Shapley Value\": 0.030790098532056942, \"Feature\": \"Event -7\", \"row\": 7, \"column\": 1, \"rounded\": 0.031, \"rounded_str\": \"0.031\"}, {\"Shapley Value\": 0.03697518334650368, \"Feature\": \"Event -8\", \"row\": 8, \"column\": 1, \"rounded\": 0.037, \"rounded_str\": \"0.037\"}, {\"Shapley Value\": 0.01564925929223035, \"Feature\": \"Event -9\", \"row\": 9, \"column\": 1, \"rounded\": 0.016, \"rounded_str\": \"0.016\"}, {\"Shapley Value\": 0.01584330889190272, \"Feature\": \"Event -10\", \"row\": 10, \"column\": 1, \"rounded\": 0.016, \"rounded_str\": \"0.016\"}, {\"Shapley Value\": 0.020800483007636705, \"Feature\": \"Event -11\", \"row\": 11, \"column\": 1, \"rounded\": 0.021, \"rounded_str\": \"0.021\"}, {\"Shapley Value\": 0.004805377009861556, \"Feature\": \"Event -12\", \"row\": 12, \"column\": 1, \"rounded\": 0.005, \"rounded_str\": \"0.005\"}, {\"Shapley Value\": 0.015742465060503086, \"Feature\": \"Event -13\", \"row\": 13, \"column\": 1, \"rounded\": 0.016, \"rounded_str\": \"0.016\"}, {\"Shapley Value\": 0.0158782689926536, \"Feature\": \"Event -14\", \"row\": 14, \"column\": 1, \"rounded\": 0.016, \"rounded_str\": \"0.016\"}, {\"Shapley Value\": 0.014425380319824016, \"Feature\": \"Event -15\", \"row\": 15, \"column\": 1, \"rounded\": 0.014, \"rounded_str\": \"0.014\"}, {\"Shapley Value\": 0.018434176960602677, \"Feature\": \"Event -16\", \"row\": 16, \"column\": 1, \"rounded\": 0.018, \"rounded_str\": \"0.018\"}, {\"Shapley Value\": 0.005425394021295993, \"Feature\": \"Event -17\", \"row\": 17, \"column\": 1, \"rounded\": 0.005, \"rounded_str\": \"0.005\"}, {\"Shapley Value\": 0.007044799878636515, \"Feature\": \"Event -18\", \"row\": 18, \"column\": 1, \"rounded\": 0.007, \"rounded_str\": \"0.007\"}, {\"Shapley Value\": 0.01081705006361619, \"Feature\": \"Event -19\", \"row\": 19, \"column\": 1, \"rounded\": 0.011, \"rounded_str\": \"0.011\"}, {\"Shapley Value\": 0.014611795624129398, \"Feature\": \"Event -20\", \"row\": 20, \"column\": 1, \"rounded\": 0.015, \"rounded_str\": \"0.015\"}, {\"Shapley Value\": 0.008510394797871912, \"Feature\": \"Event -21\", \"row\": 21, \"column\": 1, \"rounded\": 0.009, \"rounded_str\": \"0.009\"}, {\"Shapley Value\": 0.009251462876859906, \"Feature\": \"Event -22\", \"row\": 22, \"column\": 1, \"rounded\": 0.009, \"rounded_str\": \"0.009\"}, {\"Shapley Value\": 0.0039978235276863505, \"Feature\": \"Event -23\", \"row\": 23, \"column\": 1, \"rounded\": 0.004, \"rounded_str\": \"0.004\"}, {\"Shapley Value\": 0.0007846171605067342, \"Feature\": \"Event -24\", \"row\": 24, \"column\": 1, \"rounded\": 0.001, \"rounded_str\": \"0.001\"}, {\"Shapley Value\": 0.006006174273748333, \"Feature\": \"Event -25\", \"row\": 25, \"column\": 1, \"rounded\": 0.006, \"rounded_str\": \"0.006\"}, {\"Shapley Value\": 0.011575265894905734, \"Feature\": \"Event -26\", \"row\": 26, \"column\": 1, \"rounded\": 0.012, \"rounded_str\": \"0.012\"}, {\"Shapley Value\": 0.0061591021480586206, \"Feature\": \"Event -27\", \"row\": 27, \"column\": 1, \"rounded\": 0.006, \"rounded_str\": \"0.006\"}, {\"Shapley Value\": 0.008728916391704616, \"Feature\": \"Event -28\", \"row\": 28, \"column\": 1, \"rounded\": 0.009, \"rounded_str\": \"0.009\"}, {\"Shapley Value\": 0.005130969161123988, \"Feature\": \"Event -29\", \"row\": 29, \"column\": 1, \"rounded\": 0.005, \"rounded_str\": \"0.005\"}, {\"Shapley Value\": 0.00021093369142954899, \"Feature\": \"Event -30\", \"row\": 30, \"column\": 1, \"rounded\": 0.0, \"rounded_str\": \"0.000\"}, {\"Shapley Value\": 0.005263743059223308, \"Feature\": \"Event -31\", \"row\": 31, \"column\": 1, \"rounded\": 0.005, \"rounded_str\": \"0.005\"}, {\"Shapley Value\": 0.005464982790318457, \"Feature\": \"Event -32\", \"row\": 32, \"column\": 1, \"rounded\": 0.005, \"rounded_str\": \"0.005\"}, {\"Shapley Value\": 0.0048073770449726105, \"Feature\": \"Event -33\", \"row\": 33, \"column\": 1, \"rounded\": 0.005, \"rounded_str\": \"0.005\"}, {\"Shapley Value\": 0.0060640905119654365, \"Feature\": \"Event -34\", \"row\": 34, \"column\": 1, \"rounded\": 0.006, \"rounded_str\": \"0.006\"}, {\"Shapley Value\": 0.0036203704995844688, \"Feature\": \"Event -35\", \"row\": 35, \"column\": 1, \"rounded\": 0.004, \"rounded_str\": \"0.004\"}, {\"Shapley Value\": 0.07377617442463386, \"Feature\": \"Pruned Events\", \"row\": 36, \"column\": 1, \"rounded\": 0.074, \"rounded_str\": \"0.074\"}], \"data-f6c6da9a80fd6a35273bc999577e517e\": [{\"Random seed\": 42, \"NSamples\": 32000, \"Feature\": \"Mean Chest <-> Right Ankle\", \"Shapley Value\": 0.03987152746745523, \"sort_col\": 0.03987152746745523}, {\"Random seed\": 42, \"NSamples\": 32000, \"Feature\": \"STD Chest <-> Right Ankle\", \"Shapley Value\": 0.01594435643582129, \"sort_col\": 0.01594435643582129}, {\"Random seed\": 42, \"NSamples\": 32000, \"Feature\": \"Mean Chest <-> Left Ankle\", \"Shapley Value\": 0.056395621810640784, \"sort_col\": 0.056395621810640784}, {\"Random seed\": 42, \"NSamples\": 32000, \"Feature\": \"STD Chest <-> Left Ankle\", \"Shapley Value\": 0.22090407581556376, \"sort_col\": 0.22090407581556376}, {\"Random seed\": 42, \"NSamples\": 32000, \"Feature\": \"Mean Right Ankle <-> Left Ankle\", \"Shapley Value\": 0.03176419259536831, \"sort_col\": 0.03176419259536831}, {\"Random seed\": 42, \"NSamples\": 32000, \"Feature\": \"STD Right Ankle <-> Left Ankle\", \"Shapley Value\": 0.07814405134745997, \"sort_col\": 0.07814405134745997}, {\"Random seed\": 42, \"NSamples\": 32000, \"Feature\": \"Pruned Events\", \"Shapley Value\": 0.055771803075359117, \"sort_col\": 0.055771803075359117}], \"data-9c00aa9dc2b1c1a0b4bf9b34ead12925\": [{\"x\": 0}], \"data-c7228725c18a5452a4a5c105563c4087\": [{\"Event\": [\"Pruned\", \"Events\"], \"Feature\": \"Other features\", \"rounded\": 0.061, \"rounded_str\": \"0.061\"}], \"data-656247394bb56e0016530ce408e71bec\": [{\"Event\": \"Other Events\", \"Feature\": \"STD Chest <-> Left Ankle\", \"Shapley Value\": 0.1500234575735197, \"rounded\": 0.15, \"rounded_str\": \"0.150\"}, {\"Event\": \"Other Events\", \"Feature\": \"Other Features\", \"Shapley Value\": 0.136692676988859, \"rounded\": 0.137, \"rounded_str\": \"0.137\"}, {\"Event\": \"Other Events\", \"Feature\": \"STD Right Ankle <-> Left Ankle\", \"Shapley Value\": 0.08510068936480397, \"rounded\": 0.085, \"rounded_str\": \"0.085\"}, {\"Event\": \"Event -2\", \"Feature\": \"STD Chest <-> Left Ankle\", \"Shapley Value\": 0.026840483610119203, \"rounded\": 0.027, \"rounded_str\": \"0.027\"}, {\"Event\": \"Event -8\", \"Feature\": \"STD Chest <-> Left Ankle\", \"Shapley Value\": 0.025033476617601136, \"rounded\": 0.025, \"rounded_str\": \"0.025\"}, {\"Event\": \"Event -2\", \"Feature\": \"Other Features\", \"Shapley Value\": 0.006846079112045295, \"rounded\": 0.007, \"rounded_str\": \"0.007\"}, {\"Event\": \"Event -8\", \"Feature\": \"Other Features\", \"Shapley Value\": 0.006670699422321624, \"rounded\": 0.007, \"rounded_str\": \"0.007\"}, {\"Event\": \"Event -8\", \"Feature\": \"STD Right Ankle <-> Left Ankle\", \"Shapley Value\": 0.0006243859373387672, \"rounded\": 0.001, \"rounded_str\": \"0.001\"}, {\"Event\": \"Event -2\", \"Feature\": \"STD Right Ankle <-> Left Ankle\", \"Shapley Value\": 0.0002718146358217932, \"rounded\": 0.0, \"rounded_str\": \"0.000\"}]}}, {\"mode\": \"vega-lite\"});\n",
       "</script>"
      ],
      "text/plain": [
       "alt.HConcatChart(...)"
      ]
     },
     "execution_count": 17,
     "metadata": {},
     "output_type": "execute_result"
    }
   ],
   "source": [
    "from timeshap.explainer import local_report\n",
    "pruning_dict = {'tol': 0.025}\n",
    "event_dict = {'rs': 42, 'nsamples': 32000}\n",
    "feature_dict = {'rs': 42, 'nsamples': 32000, 'feature_names': model_features, 'plot_features': plot_feats}\n",
    "cell_dict_2 = {'rs': 42, 'nsamples': 32000, 'top_x_events': 2, 'top_x_feats': 2}\n",
    "local_report(f, pos_x_data, pruning_dict, event_dict, feature_dict, cell_dict=cell_dict_2, entity_uuid=positive_sequence_id, entity_col='all_id', baseline=average_event)"
   ]
  },
  {
   "cell_type": "markdown",
   "id": "f773fa6f",
   "metadata": {},
   "source": [
    "## 3.2 Global Explanations"
   ]
  },
  {
   "cell_type": "code",
   "execution_count": 18,
   "id": "f790f55b",
   "metadata": {},
   "outputs": [
    {
     "name": "stdout",
     "output_type": "stream",
     "text": [
      "Calculating pruning algorithms\n",
      "Calculating pruning indexes\n",
      "Calculating event data\n",
      "No path to event data provided. Calculating data\n",
      "No path to event data provided. Calculating data\n",
      "No path to event data provided. Calculating data\n",
      "No path to event data provided. Calculating data\n",
      "No path to event data provided. Calculating data\n",
      "No path to event data provided. Calculating data\n",
      "No path to event data provided. Calculating data\n",
      "No path to event data provided. Calculating data\n",
      "No path to event data provided. Calculating data\n",
      "Calculating global event plot\n",
      "Calculating feat data\n",
      "No path to feature data provided. Calculating data\n",
      "No path to feature data provided. Calculating data\n",
      "No path to feature data provided. Calculating data\n",
      "No path to feature data provided. Calculating data\n",
      "No path to feature data provided. Calculating data\n",
      "No path to feature data provided. Calculating data\n",
      "No path to feature data provided. Calculating data\n",
      "No path to feature data provided. Calculating data\n",
      "No path to feature data provided. Calculating data\n",
      "Calculating global feat plot\n"
     ]
    },
    {
     "data": {
      "text/html": [
       "<div>\n",
       "<style scoped>\n",
       "    .dataframe tbody tr th:only-of-type {\n",
       "        vertical-align: middle;\n",
       "    }\n",
       "\n",
       "    .dataframe tbody tr th {\n",
       "        vertical-align: top;\n",
       "    }\n",
       "\n",
       "    .dataframe thead th {\n",
       "        text-align: right;\n",
       "    }\n",
       "</style>\n",
       "<table border=\"1\" class=\"dataframe\">\n",
       "  <thead>\n",
       "    <tr style=\"text-align: right;\">\n",
       "      <th></th>\n",
       "      <th>Tolerance</th>\n",
       "      <th>Mean</th>\n",
       "      <th>Std</th>\n",
       "    </tr>\n",
       "  </thead>\n",
       "  <tbody>\n",
       "    <tr>\n",
       "      <th>0</th>\n",
       "      <td>0.05</td>\n",
       "      <td>29.333333</td>\n",
       "      <td>0.57735</td>\n",
       "    </tr>\n",
       "    <tr>\n",
       "      <th>1</th>\n",
       "      <td>0.075</td>\n",
       "      <td>24.333333</td>\n",
       "      <td>0.57735</td>\n",
       "    </tr>\n",
       "    <tr>\n",
       "      <th>2</th>\n",
       "      <td>0.076</td>\n",
       "      <td>24.333333</td>\n",
       "      <td>0.57735</td>\n",
       "    </tr>\n",
       "    <tr>\n",
       "      <th>3</th>\n",
       "      <td>No Pruning</td>\n",
       "      <td>480.000000</td>\n",
       "      <td>0.00000</td>\n",
       "    </tr>\n",
       "  </tbody>\n",
       "</table>\n",
       "</div>"
      ],
      "text/plain": [
       "    Tolerance        Mean      Std\n",
       "0        0.05   29.333333  0.57735\n",
       "1       0.075   24.333333  0.57735\n",
       "2       0.076   24.333333  0.57735\n",
       "3  No Pruning  480.000000  0.00000"
      ]
     },
     "execution_count": 18,
     "metadata": {},
     "output_type": "execute_result"
    }
   ],
   "source": [
    "from timeshap import global_report\n",
    "pos_dataset = d_test_normalized[d_test_normalized['label'] == 1]\n",
    "pruning_dict = {'tol': [0.05, 0.075, 0.076], 'path': 'outputs/prun_all_tf.csv'}\n",
    "event_dict = {'path': 'outputs/event_all_tf.csv', 'rs': 42, 'nsamples': 32000}\n",
    "feature_dict = {'path': 'outputs/feature_all_tf.csv', 'rs': 42, 'nsamples': 32000, 'feature_names': model_features, 'plot_features': plot_feats,}\n",
    "prun_stats, global_plot = global_report(f, pos_dataset, pruning_dict, event_dict, feature_dict, sequence_id_feat, time_feat, model_features, baseline=average_event)\n",
    "prun_stats"
   ]
  },
  {
   "cell_type": "code",
   "execution_count": 19,
   "id": "802a8926",
   "metadata": {},
   "outputs": [
    {
     "data": {
      "text/html": [
       "\n",
       "<div id=\"altair-viz-65f175f4cfeb440391b4716a2760af4f\"></div>\n",
       "<script type=\"text/javascript\">\n",
       "  (function(spec, embedOpt){\n",
       "    let outputDiv = document.currentScript.previousElementSibling;\n",
       "    if (outputDiv.id !== \"altair-viz-65f175f4cfeb440391b4716a2760af4f\") {\n",
       "      outputDiv = document.getElementById(\"altair-viz-65f175f4cfeb440391b4716a2760af4f\");\n",
       "    }\n",
       "    const paths = {\n",
       "      \"vega\": \"https://cdn.jsdelivr.net/npm//vega@5?noext\",\n",
       "      \"vega-lib\": \"https://cdn.jsdelivr.net/npm//vega-lib?noext\",\n",
       "      \"vega-lite\": \"https://cdn.jsdelivr.net/npm//vega-lite@4.8.1?noext\",\n",
       "      \"vega-embed\": \"https://cdn.jsdelivr.net/npm//vega-embed@6?noext\",\n",
       "    };\n",
       "\n",
       "    function loadScript(lib) {\n",
       "      return new Promise(function(resolve, reject) {\n",
       "        var s = document.createElement('script');\n",
       "        s.src = paths[lib];\n",
       "        s.async = true;\n",
       "        s.onload = () => resolve(paths[lib]);\n",
       "        s.onerror = () => reject(`Error loading script: ${paths[lib]}`);\n",
       "        document.getElementsByTagName(\"head\")[0].appendChild(s);\n",
       "      });\n",
       "    }\n",
       "\n",
       "    function showError(err) {\n",
       "      outputDiv.innerHTML = `<div class=\"error\" style=\"color:red;\">${err}</div>`;\n",
       "      throw err;\n",
       "    }\n",
       "\n",
       "    function displayChart(vegaEmbed) {\n",
       "      vegaEmbed(outputDiv, spec, embedOpt)\n",
       "        .catch(err => showError(`Javascript Error: ${err.message}<br>This usually means there's a typo in your chart specification. See the javascript console for the full traceback.`));\n",
       "    }\n",
       "\n",
       "    if(typeof define === \"function\" && define.amd) {\n",
       "      requirejs.config({paths});\n",
       "      require([\"vega-embed\"], displayChart, err => showError(`Error loading script: ${err.message}`));\n",
       "    } else if (typeof vegaEmbed === \"function\") {\n",
       "      displayChart(vegaEmbed);\n",
       "    } else {\n",
       "      loadScript(\"vega\")\n",
       "        .then(() => loadScript(\"vega-lite\"))\n",
       "        .then(() => loadScript(\"vega-embed\"))\n",
       "        .catch(showError)\n",
       "        .then(() => displayChart(vegaEmbed));\n",
       "    }\n",
       "  })({\"config\": {\"axis\": {\"domain\": true, \"domainColor\": \"#798184\", \"grid\": false, \"gridColor\": \"#798184\", \"gridOpacity\": 0.5, \"gridDash\": [3, 5], \"gridWidth\": 0.8, \"gridCap\": \"round\", \"labelPadding\": 3, \"labelFont\": \"Roboto\", \"labelColor\": \"#798184\", \"tickSize\": 5, \"tickColor\": \"#798184\", \"tickOpacity\": 0.5, \"titleColor\": \"#384140\", \"titleFont\": \"Roboto\", \"titleFontSize\": 12}, \"axisBand\": {\"domain\": true, \"ticks\": false, \"labelPadding\": 7}, \"axisY\": {\"domain\": false, \"titleAlign\": \"left\", \"titleAngle\": 0, \"titleX\": -20, \"titleY\": -10}, \"legend\": {\"labelColor\": \"#798184\", \"labelFontSize\": 12, \"symbolSize\": 40, \"titleColor\": \"#384140\", \"titleFontSize\": 12, \"titlePadding\": 10, \"titleFont\": \"Roboto\", \"labelFont\": \"Roboto\"}, \"line\": {\"stroke\": \"#618FE0\", \"strokeWidth\": 2}, \"rule\": {\"stroke\": \"#798184\"}, \"path\": {\"stroke\": \"#618FE0\", \"strokeWidth\": 0.5}, \"rect\": {\"fill\": \"#618FE0\"}, \"point\": {\"filled\": true, \"shape\": \"circle\"}, \"shape\": {\"stroke\": \"#618FE0\"}, \"bar\": {\"fill\": \"#618FE0\", \"stroke\": null}, \"text\": {\"font\": \"Roboto\", \"color\": \"#384140\", \"fontSize\": 12}, \"arc\": {\"stroke\": \"#fff\", \"strokeWidth\": 1}, \"range\": {\"category\": [\"#618FE0\", \"#50D0B0\", \"#E17560\", \"#E8B474\", \"#D889C4\", \"#34A3BC\", \"#A583A4\"], \"ramp\": [\"#001854\", \"#002f72\", \"#04478e\", \"#1e5fab\", \"#4477c5\", \"#6290e1\", \"#7ea9fd\", \"#9ec7ff\", \"#bde4ff\"], \"heatmap\": [\"#001854\", \"#002f72\", \"#04478e\", \"#1e5fab\", \"#4477c5\", \"#6290e1\", \"#7ea9fd\", \"#9ec7ff\", \"#bde4ff\"], \"diverging\": [\"#003b26\", \"#006b52\", \"#1aa082\", \"#55d5b5\", \"#f5f5f5\", \"#ffaa92\", \"#d16f5b\", \"#9e392c\", \"#650200\"]}, \"title\": {\"anchor\": \"start\", \"fontSize\": 20, \"color\": \"#384140\", \"fontWeight\": \"bold\", \"offset\": 20, \"font\": \"Roboto\", \"subtitleColor\": \"#384140\", \"subtitleFontSize\": 16}, \"header\": {\"labelFontSize\": 12, \"titleFontSize\": 16, \"labelColor\": \"#384140\", \"titleColor\": \"#384140\", \"titleFont\": \"Roboto\", \"labelFont\": \"Roboto\"}, \"group\": {\"fill\": \"white\"}, \"background\": \"white\", \"view\": {\"stroke\": \"transparent\", \"continuousHeight\": 300, \"continuousWidth\": 400}}, \"hconcat\": [{\"data\": {\"name\": \"data-7b41b10d3d5671b254e344b2dd42d91f\"}, \"mark\": {\"type\": \"point\", \"stroke\": \"white\", \"strokeWidth\": 0.6}, \"encoding\": {\"color\": {\"type\": \"nominal\", \"field\": \"type\", \"legend\": {\"fillColor\": \"white\", \"orient\": \"top-left\", \"symbolSize\": 50, \"symbolStrokeWidth\": 0, \"title\": null}, \"scale\": {\"domain\": [\"Shapley Value\", \"Mean\"], \"range\": [\"#48caaa\", \"#d76d58\"]}}, \"opacity\": {\"condition\": {\"value\": 1.0, \"test\": \"(datum.type === 'Mean')\"}, \"value\": 0.2}, \"size\": {\"condition\": {\"value\": 70, \"test\": \"(datum.type === 'Mean')\"}, \"value\": 30}, \"x\": {\"type\": \"ordinal\", \"axis\": {\"labelAngle\": 0}, \"field\": \"t (event index)\"}, \"y\": {\"type\": \"quantitative\", \"axis\": {\"grid\": true, \"titleX\": -23}, \"field\": \"Shapley Value\", \"scale\": {\"domain\": [-0.3, 0.9]}, \"title\": \"Shapley Value\"}}, \"height\": 150, \"width\": 360}, {\"data\": {\"name\": \"data-4bf78fbee0e50edc9a3392c134791efb\"}, \"mark\": {\"type\": \"point\", \"stroke\": \"white\", \"strokeWidth\": 0.6}, \"encoding\": {\"color\": {\"type\": \"nominal\", \"field\": \"type\", \"legend\": {\"fillColor\": \"white\", \"orient\": \"bottom-right\", \"symbolSize\": 50, \"symbolStrokeWidth\": 0, \"title\": null}, \"scale\": {\"domain\": [\"Shapley Value\", \"Mean\"], \"range\": [\"#618FE0\", \"#d76d58\"]}}, \"opacity\": {\"condition\": {\"value\": 1.0, \"test\": \"(datum.type === 'Mean')\"}, \"value\": 0.1}, \"size\": {\"condition\": {\"value\": 70, \"test\": \"(datum.type === 'Mean')\"}, \"value\": 30}, \"x\": {\"type\": \"quantitative\", \"axis\": {\"grid\": true, \"title\": \"Shapley Value\"}, \"field\": \"Shapley Value\", \"scale\": {\"domain\": [-0.2, 0.6]}}, \"y\": {\"type\": \"ordinal\", \"axis\": {\"labelFontSize\": 13, \"titleX\": -51}, \"field\": \"Feature\", \"sort\": [\"STD Chest <-> Left Ankle\", \"STD Right Ankle <-> Left Ankle\", \"Pruned Events\", \"Mean Chest <-> Right Ankle\", \"Mean Chest <-> Left Ankle\", \"STD Chest <-> Right Ankle\", \"Mean Right Ankle <-> Left Ankle\"]}}, \"height\": 280, \"width\": 288}], \"resolve\": {\"scale\": {\"color\": \"independent\"}}, \"$schema\": \"https://vega.github.io/schema/vega-lite/v4.8.1.json\", \"datasets\": {\"data-7b41b10d3d5671b254e344b2dd42d91f\": [{\"Shapley Value\": 0.0292145650527625, \"t (event index)\": 0, \"type\": \"Shapley Value\"}, {\"Shapley Value\": 0.0341674287252338, \"t (event index)\": -1, \"type\": \"Shapley Value\"}, {\"Shapley Value\": 0.0030521673404118, \"t (event index)\": -2, \"type\": \"Shapley Value\"}, {\"Shapley Value\": 0.0111450306130633, \"t (event index)\": -3, \"type\": \"Shapley Value\"}, {\"Shapley Value\": 0.0222156201757244, \"t (event index)\": -4, \"type\": \"Shapley Value\"}, {\"Shapley Value\": 0.0059408559115731, \"t (event index)\": -5, \"type\": \"Shapley Value\"}, {\"Shapley Value\": 0.0319204822347259, \"t (event index)\": -6, \"type\": \"Shapley Value\"}, {\"Shapley Value\": 0.0344127237284004, \"t (event index)\": -7, \"type\": \"Shapley Value\"}, {\"Shapley Value\": 0.0134804711724194, \"t (event index)\": -8, \"type\": \"Shapley Value\"}, {\"Shapley Value\": 0.0145541864384688, \"t (event index)\": -9, \"type\": \"Shapley Value\"}, {\"Shapley Value\": 0.0200135053582851, \"t (event index)\": -10, \"type\": \"Shapley Value\"}, {\"Shapley Value\": 0.0055131307191169, \"t (event index)\": -11, \"type\": \"Shapley Value\"}, {\"Shapley Value\": 0.0167136581088564, \"t (event index)\": -12, \"type\": \"Shapley Value\"}, {\"Shapley Value\": 0.0138698136706029, \"t (event index)\": -13, \"type\": \"Shapley Value\"}, {\"Shapley Value\": 0.0128675898470111, \"t (event index)\": -14, \"type\": \"Shapley Value\"}, {\"Shapley Value\": 0.0155401218973595, \"t (event index)\": -15, \"type\": \"Shapley Value\"}, {\"Shapley Value\": 0.0057130277390471, \"t (event index)\": -16, \"type\": \"Shapley Value\"}, {\"Shapley Value\": 0.006947131005799, \"t (event index)\": -17, \"type\": \"Shapley Value\"}, {\"Shapley Value\": 0.0090283805564169, \"t (event index)\": -18, \"type\": \"Shapley Value\"}, {\"Shapley Value\": 0.0128097898162188, \"t (event index)\": -19, \"type\": \"Shapley Value\"}, {\"Shapley Value\": 0.0065844538745223, \"t (event index)\": -20, \"type\": \"Shapley Value\"}, {\"Shapley Value\": 0.0298709792123483, \"t (event index)\": 0, \"type\": \"Shapley Value\"}, {\"Shapley Value\": 0.0375119884352797, \"t (event index)\": -1, \"type\": \"Shapley Value\"}, {\"Shapley Value\": 0.0028018446829618, \"t (event index)\": -2, \"type\": \"Shapley Value\"}, {\"Shapley Value\": 0.0120554262605493, \"t (event index)\": -3, \"type\": \"Shapley Value\"}, {\"Shapley Value\": 0.0247178163659821, \"t (event index)\": -4, \"type\": \"Shapley Value\"}, {\"Shapley Value\": 0.0068409400693225, \"t (event index)\": -5, \"type\": \"Shapley Value\"}, {\"Shapley Value\": 0.0315082316743128, \"t (event index)\": -6, \"type\": \"Shapley Value\"}, {\"Shapley Value\": 0.0364755694806077, \"t (event index)\": -7, \"type\": \"Shapley Value\"}, {\"Shapley Value\": 0.016022893351872, \"t (event index)\": -8, \"type\": \"Shapley Value\"}, {\"Shapley Value\": 0.0157940539957888, \"t (event index)\": -9, \"type\": \"Shapley Value\"}, {\"Shapley Value\": 0.0215280994826675, \"t (event index)\": -10, \"type\": \"Shapley Value\"}, {\"Shapley Value\": 0.0044493615719677, \"t (event index)\": -11, \"type\": \"Shapley Value\"}, {\"Shapley Value\": 0.0170202946829723, \"t (event index)\": -12, \"type\": \"Shapley Value\"}, {\"Shapley Value\": 0.0146653793818368, \"t (event index)\": -13, \"type\": \"Shapley Value\"}, {\"Shapley Value\": 0.0134541053881431, \"t (event index)\": -14, \"type\": \"Shapley Value\"}, {\"Shapley Value\": 0.018484909701291, \"t (event index)\": -15, \"type\": \"Shapley Value\"}, {\"Shapley Value\": 0.0057507528537085, \"t (event index)\": -16, \"type\": \"Shapley Value\"}, {\"Shapley Value\": 0.0073154105286724, \"t (event index)\": -17, \"type\": \"Shapley Value\"}, {\"Shapley Value\": 0.0107748167077513, \"t (event index)\": -18, \"type\": \"Shapley Value\"}, {\"Shapley Value\": 0.013463341930719, \"t (event index)\": -19, \"type\": \"Shapley Value\"}, {\"Shapley Value\": 0.0076837852599767, \"t (event index)\": -20, \"type\": \"Shapley Value\"}, {\"Shapley Value\": 0.028767912667409, \"t (event index)\": 0, \"type\": \"Shapley Value\"}, {\"Shapley Value\": 0.0369532293969709, \"t (event index)\": -1, \"type\": \"Shapley Value\"}, {\"Shapley Value\": 0.0033120426532128, \"t (event index)\": -2, \"type\": \"Shapley Value\"}, {\"Shapley Value\": 0.0116608360837587, \"t (event index)\": -3, \"type\": \"Shapley Value\"}, {\"Shapley Value\": 0.0248325994691671, \"t (event index)\": -4, \"type\": \"Shapley Value\"}, {\"Shapley Value\": 0.0067450970022099, \"t (event index)\": -5, \"type\": \"Shapley Value\"}, {\"Shapley Value\": 0.0313121714557264, \"t (event index)\": -6, \"type\": \"Shapley Value\"}, {\"Shapley Value\": 0.0366846006123355, \"t (event index)\": -7, \"type\": \"Shapley Value\"}, {\"Shapley Value\": 0.0151913722493114, \"t (event index)\": -8, \"type\": \"Shapley Value\"}, {\"Shapley Value\": 0.0150118806733764, \"t (event index)\": -9, \"type\": \"Shapley Value\"}, {\"Shapley Value\": 0.0197935605890325, \"t (event index)\": -10, \"type\": \"Shapley Value\"}, {\"Shapley Value\": 0.0062203895514266, \"t (event index)\": -11, \"type\": \"Shapley Value\"}, {\"Shapley Value\": 0.0171936526063647, \"t (event index)\": -12, \"type\": \"Shapley Value\"}, {\"Shapley Value\": 0.0142493707267827, \"t (event index)\": -13, \"type\": \"Shapley Value\"}, {\"Shapley Value\": 0.0134220906105091, \"t (event index)\": -14, \"type\": \"Shapley Value\"}, {\"Shapley Value\": 0.0176403110977881, \"t (event index)\": -15, \"type\": \"Shapley Value\"}, {\"Shapley Value\": 0.0055932865359846, \"t (event index)\": -16, \"type\": \"Shapley Value\"}, {\"Shapley Value\": 0.0071683642235332, \"t (event index)\": -17, \"type\": \"Shapley Value\"}, {\"Shapley Value\": 0.0107440309903927, \"t (event index)\": -18, \"type\": \"Shapley Value\"}, {\"Shapley Value\": 0.0126187195943243, \"t (event index)\": -19, \"type\": \"Shapley Value\"}, {\"Shapley Value\": 0.007522773896675, \"t (event index)\": -20, \"type\": \"Shapley Value\"}, {\"Shapley Value\": 0.0137865294354093, \"t (event index)\": 0, \"type\": \"Shapley Value\"}, {\"Shapley Value\": 0.0, \"t (event index)\": -1, \"type\": \"Shapley Value\"}, {\"Shapley Value\": 0.0077723006885186, \"t (event index)\": -2, \"type\": \"Shapley Value\"}, {\"Shapley Value\": 0.0176965618368094, \"t (event index)\": -3, \"type\": \"Shapley Value\"}, {\"Shapley Value\": 0.0146588850673186, \"t (event index)\": -4, \"type\": \"Shapley Value\"}, {\"Shapley Value\": 0.0105306659237498, \"t (event index)\": -5, \"type\": \"Shapley Value\"}, {\"Shapley Value\": 0.0152740740506848, \"t (event index)\": -6, \"type\": \"Shapley Value\"}, {\"Shapley Value\": 0.0226829855655399, \"t (event index)\": -7, \"type\": \"Shapley Value\"}, {\"Shapley Value\": 0.0254418564151973, \"t (event index)\": -8, \"type\": \"Shapley Value\"}, {\"Shapley Value\": 0.0197783098363988, \"t (event index)\": -9, \"type\": \"Shapley Value\"}, {\"Shapley Value\": 0.0087712998924867, \"t (event index)\": -10, \"type\": \"Shapley Value\"}, {\"Shapley Value\": 0.0043880459247041, \"t (event index)\": -11, \"type\": \"Shapley Value\"}, {\"Shapley Value\": 0.0162932522593564, \"t (event index)\": -12, \"type\": \"Shapley Value\"}, {\"Shapley Value\": 0.00739469389012, \"t (event index)\": -13, \"type\": \"Shapley Value\"}, {\"Shapley Value\": 0.0140171378613002, \"t (event index)\": -14, \"type\": \"Shapley Value\"}, {\"Shapley Value\": 0.0057320893010497, \"t (event index)\": -15, \"type\": \"Shapley Value\"}, {\"Shapley Value\": 0.0045181145950496, \"t (event index)\": -16, \"type\": \"Shapley Value\"}, {\"Shapley Value\": 0.0116056303312444, \"t (event index)\": -17, \"type\": \"Shapley Value\"}, {\"Shapley Value\": 0.0069283313947167, \"t (event index)\": -18, \"type\": \"Shapley Value\"}, {\"Shapley Value\": 0.0129342804071141, \"t (event index)\": -19, \"type\": \"Shapley Value\"}, {\"Shapley Value\": 0.0118341761361089, \"t (event index)\": -20, \"type\": \"Shapley Value\"}, {\"Shapley Value\": 0.0153226319348231, \"t (event index)\": 0, \"type\": \"Shapley Value\"}, {\"Shapley Value\": 0.0018337732849027, \"t (event index)\": -1, \"type\": \"Shapley Value\"}, {\"Shapley Value\": 0.0105252671606432, \"t (event index)\": -2, \"type\": \"Shapley Value\"}, {\"Shapley Value\": 0.0194084795367802, \"t (event index)\": -3, \"type\": \"Shapley Value\"}, {\"Shapley Value\": 0.016693162615054, \"t (event index)\": -4, \"type\": \"Shapley Value\"}, {\"Shapley Value\": 0.0110011560583551, \"t (event index)\": -5, \"type\": \"Shapley Value\"}, {\"Shapley Value\": 0.0160829233549325, \"t (event index)\": -6, \"type\": \"Shapley Value\"}, {\"Shapley Value\": 0.0262276294658554, \"t (event index)\": -7, \"type\": \"Shapley Value\"}, {\"Shapley Value\": 0.0289379744089947, \"t (event index)\": -8, \"type\": \"Shapley Value\"}, {\"Shapley Value\": 0.0208013761928722, \"t (event index)\": -9, \"type\": \"Shapley Value\"}, {\"Shapley Value\": 0.0097935215824953, \"t (event index)\": -10, \"type\": \"Shapley Value\"}, {\"Shapley Value\": 0.0047155973365212, \"t (event index)\": -11, \"type\": \"Shapley Value\"}, {\"Shapley Value\": 0.0184329653976073, \"t (event index)\": -12, \"type\": \"Shapley Value\"}, {\"Shapley Value\": 0.0084822595822363, \"t (event index)\": -13, \"type\": \"Shapley Value\"}, {\"Shapley Value\": 0.0145434070160389, \"t (event index)\": -14, \"type\": \"Shapley Value\"}, {\"Shapley Value\": 0.007972642089373, \"t (event index)\": -15, \"type\": \"Shapley Value\"}, {\"Shapley Value\": 0.0037864036202971, \"t (event index)\": -16, \"type\": \"Shapley Value\"}, {\"Shapley Value\": 0.0122322859673137, \"t (event index)\": -17, \"type\": \"Shapley Value\"}, {\"Shapley Value\": 0.0085021155944214, \"t (event index)\": -18, \"type\": \"Shapley Value\"}, {\"Shapley Value\": 0.014252022915029, \"t (event index)\": -19, \"type\": \"Shapley Value\"}, {\"Shapley Value\": 0.0138171806205352, \"t (event index)\": -20, \"type\": \"Shapley Value\"}, {\"Shapley Value\": 0.0150104753649192, \"t (event index)\": 0, \"type\": \"Shapley Value\"}, {\"Shapley Value\": 0.002516598203689, \"t (event index)\": -1, \"type\": \"Shapley Value\"}, {\"Shapley Value\": 0.0119255941974603, \"t (event index)\": -2, \"type\": \"Shapley Value\"}, {\"Shapley Value\": 0.0202703106536196, \"t (event index)\": -3, \"type\": \"Shapley Value\"}, {\"Shapley Value\": 0.0167149639447415, \"t (event index)\": -4, \"type\": \"Shapley Value\"}, {\"Shapley Value\": 0.011219702556412, \"t (event index)\": -5, \"type\": \"Shapley Value\"}, {\"Shapley Value\": 0.01650408232784, \"t (event index)\": -6, \"type\": \"Shapley Value\"}, {\"Shapley Value\": 0.0272374871606484, \"t (event index)\": -7, \"type\": \"Shapley Value\"}, {\"Shapley Value\": 0.0292882411368567, \"t (event index)\": -8, \"type\": \"Shapley Value\"}, {\"Shapley Value\": 0.0208438396316115, \"t (event index)\": -9, \"type\": \"Shapley Value\"}, {\"Shapley Value\": 0.0088356297639301, \"t (event index)\": -10, \"type\": \"Shapley Value\"}, {\"Shapley Value\": 0.00514361276582, \"t (event index)\": -11, \"type\": \"Shapley Value\"}, {\"Shapley Value\": 0.0192157258681013, \"t (event index)\": -12, \"type\": \"Shapley Value\"}, {\"Shapley Value\": 0.0083230630769669, \"t (event index)\": -13, \"type\": \"Shapley Value\"}, {\"Shapley Value\": 0.0150333612795474, \"t (event index)\": -14, \"type\": \"Shapley Value\"}, {\"Shapley Value\": 0.00725801541616, \"t (event index)\": -15, \"type\": \"Shapley Value\"}, {\"Shapley Value\": 0.0037295467673173, \"t (event index)\": -16, \"type\": \"Shapley Value\"}, {\"Shapley Value\": 0.0117351427312624, \"t (event index)\": -17, \"type\": \"Shapley Value\"}, {\"Shapley Value\": 0.0084898409354742, \"t (event index)\": -18, \"type\": \"Shapley Value\"}, {\"Shapley Value\": 0.0136663865770804, \"t (event index)\": -19, \"type\": \"Shapley Value\"}, {\"Shapley Value\": 0.0130073126964292, \"t (event index)\": -20, \"type\": \"Shapley Value\"}, {\"Shapley Value\": 0.000385643477069, \"t (event index)\": 0, \"type\": \"Shapley Value\"}, {\"Shapley Value\": 0.0010464394386427, \"t (event index)\": -1, \"type\": \"Shapley Value\"}, {\"Shapley Value\": 0.0087545844330501, \"t (event index)\": -2, \"type\": \"Shapley Value\"}, {\"Shapley Value\": 0.0182391321917611, \"t (event index)\": -3, \"type\": \"Shapley Value\"}, {\"Shapley Value\": 0.0304143698805509, \"t (event index)\": -4, \"type\": \"Shapley Value\"}, {\"Shapley Value\": 0.0139216621478948, \"t (event index)\": -5, \"type\": \"Shapley Value\"}, {\"Shapley Value\": 0.0090620313141344, \"t (event index)\": -6, \"type\": \"Shapley Value\"}, {\"Shapley Value\": 0.0216981203662252, \"t (event index)\": -7, \"type\": \"Shapley Value\"}, {\"Shapley Value\": 0.0142090504503552, \"t (event index)\": -8, \"type\": \"Shapley Value\"}, {\"Shapley Value\": 0.0107427172769508, \"t (event index)\": -9, \"type\": \"Shapley Value\"}, {\"Shapley Value\": 0.0050341966492018, \"t (event index)\": -10, \"type\": \"Shapley Value\"}, {\"Shapley Value\": 0.0163203508329684, \"t (event index)\": -11, \"type\": \"Shapley Value\"}, {\"Shapley Value\": 0.0106827322213613, \"t (event index)\": -12, \"type\": \"Shapley Value\"}, {\"Shapley Value\": 0.0047218376216515, \"t (event index)\": -13, \"type\": \"Shapley Value\"}, {\"Shapley Value\": 0.0144621844685122, \"t (event index)\": -14, \"type\": \"Shapley Value\"}, {\"Shapley Value\": 0.0112832962960041, \"t (event index)\": -15, \"type\": \"Shapley Value\"}, {\"Shapley Value\": 0.0018092443811288, \"t (event index)\": -16, \"type\": \"Shapley Value\"}, {\"Shapley Value\": 0.010601562406891, \"t (event index)\": -17, \"type\": \"Shapley Value\"}, {\"Shapley Value\": 0.0124657624161552, \"t (event index)\": -18, \"type\": \"Shapley Value\"}, {\"Shapley Value\": 0.0036868721950641, \"t (event index)\": -19, \"type\": \"Shapley Value\"}, {\"Shapley Value\": 0.0001097772902815, \"t (event index)\": -20, \"type\": \"Shapley Value\"}, {\"Shapley Value\": 0.0043677480748264, \"t (event index)\": 0, \"type\": \"Shapley Value\"}, {\"Shapley Value\": 0.0035535449900454, \"t (event index)\": -1, \"type\": \"Shapley Value\"}, {\"Shapley Value\": 0.0119614845625821, \"t (event index)\": -2, \"type\": \"Shapley Value\"}, {\"Shapley Value\": 0.0187839662424865, \"t (event index)\": -3, \"type\": \"Shapley Value\"}, {\"Shapley Value\": 0.0319939763218755, \"t (event index)\": -4, \"type\": \"Shapley Value\"}, {\"Shapley Value\": 0.0161740964744747, \"t (event index)\": -5, \"type\": \"Shapley Value\"}, {\"Shapley Value\": 0.0096494301661538, \"t (event index)\": -6, \"type\": \"Shapley Value\"}, {\"Shapley Value\": 0.0240735914459007, \"t (event index)\": -7, \"type\": \"Shapley Value\"}, {\"Shapley Value\": 0.0163350999328817, \"t (event index)\": -8, \"type\": \"Shapley Value\"}, {\"Shapley Value\": 0.0117451227148282, \"t (event index)\": -9, \"type\": \"Shapley Value\"}, {\"Shapley Value\": 0.004170874734161, \"t (event index)\": -10, \"type\": \"Shapley Value\"}, {\"Shapley Value\": 0.0172158201028679, \"t (event index)\": -11, \"type\": \"Shapley Value\"}, {\"Shapley Value\": 0.0114532521300002, \"t (event index)\": -12, \"type\": \"Shapley Value\"}, {\"Shapley Value\": 0.0065799799746007, \"t (event index)\": -13, \"type\": \"Shapley Value\"}, {\"Shapley Value\": 0.0149623713188902, \"t (event index)\": -14, \"type\": \"Shapley Value\"}, {\"Shapley Value\": 0.0129459892910585, \"t (event index)\": -15, \"type\": \"Shapley Value\"}, {\"Shapley Value\": 0.0011507137095837, \"t (event index)\": -16, \"type\": \"Shapley Value\"}, {\"Shapley Value\": 0.0115381425301445, \"t (event index)\": -17, \"type\": \"Shapley Value\"}, {\"Shapley Value\": 0.0132413825219794, \"t (event index)\": -18, \"type\": \"Shapley Value\"}, {\"Shapley Value\": 0.0036727671497154, \"t (event index)\": -19, \"type\": \"Shapley Value\"}, {\"Shapley Value\": 0.0014805669363096, \"t (event index)\": -20, \"type\": \"Shapley Value\"}, {\"Shapley Value\": 0.0043439420564053, \"t (event index)\": 0, \"type\": \"Shapley Value\"}, {\"Shapley Value\": 0.0042158467918513, \"t (event index)\": -1, \"type\": \"Shapley Value\"}, {\"Shapley Value\": 0.0129305430285181, \"t (event index)\": -2, \"type\": \"Shapley Value\"}, {\"Shapley Value\": 0.0186568912716323, \"t (event index)\": -3, \"type\": \"Shapley Value\"}, {\"Shapley Value\": 0.0321437057631317, \"t (event index)\": -4, \"type\": \"Shapley Value\"}, {\"Shapley Value\": 0.016455765939797, \"t (event index)\": -5, \"type\": \"Shapley Value\"}, {\"Shapley Value\": 0.009827829873697, \"t (event index)\": -6, \"type\": \"Shapley Value\"}, {\"Shapley Value\": 0.0244046808165498, \"t (event index)\": -7, \"type\": \"Shapley Value\"}, {\"Shapley Value\": 0.0165947744432001, \"t (event index)\": -8, \"type\": \"Shapley Value\"}, {\"Shapley Value\": 0.0110533843169441, \"t (event index)\": -9, \"type\": \"Shapley Value\"}, {\"Shapley Value\": 0.0039414610131978, \"t (event index)\": -10, \"type\": \"Shapley Value\"}, {\"Shapley Value\": 0.0164558766834205, \"t (event index)\": -11, \"type\": \"Shapley Value\"}, {\"Shapley Value\": 0.0120620486087528, \"t (event index)\": -12, \"type\": \"Shapley Value\"}, {\"Shapley Value\": 0.0049790706952208, \"t (event index)\": -13, \"type\": \"Shapley Value\"}, {\"Shapley Value\": 0.0149409081019515, \"t (event index)\": -14, \"type\": \"Shapley Value\"}, {\"Shapley Value\": 0.0119574287075346, \"t (event index)\": -15, \"type\": \"Shapley Value\"}, {\"Shapley Value\": 0.0010740267258381, \"t (event index)\": -16, \"type\": \"Shapley Value\"}, {\"Shapley Value\": 0.0109385090542207, \"t (event index)\": -17, \"type\": \"Shapley Value\"}, {\"Shapley Value\": 0.0126098317759422, \"t (event index)\": -18, \"type\": \"Shapley Value\"}, {\"Shapley Value\": 0.0028486961722709, \"t (event index)\": -19, \"type\": \"Shapley Value\"}, {\"Shapley Value\": 0.0010684629362502, \"t (event index)\": -20, \"type\": \"Shapley Value\"}, {\"Shapley Value\": 0.007012054405232066, \"t (event index)\": -20, \"type\": \"Mean\"}, {\"Shapley Value\": 0.009994764084170667, \"t (event index)\": -19, \"type\": \"Mean\"}, {\"Shapley Value\": 0.01030938809925, \"t (event index)\": -18, \"type\": \"Mean\"}, {\"Shapley Value\": 0.010009130975453478, \"t (event index)\": -17, \"type\": \"Mean\"}, {\"Shapley Value\": 0.003680568547550533, \"t (event index)\": -16, \"type\": \"Mean\"}, {\"Shapley Value\": 0.012090533755290945, \"t (event index)\": -15, \"type\": \"Mean\"}, {\"Shapley Value\": 0.014189239543544856, \"t (event index)\": -14, \"type\": \"Mean\"}, {\"Shapley Value\": 0.009251718735557623, \"t (event index)\": -13, \"type\": \"Mean\"}, {\"Shapley Value\": 0.015451953542596967, \"t (event index)\": -12, \"type\": \"Mean\"}, {\"Shapley Value\": 0.008935798387645922, \"t (event index)\": -11, \"type\": \"Mean\"}, {\"Shapley Value\": 0.011320238785050868, \"t (event index)\": -10, \"type\": \"Mean\"}, {\"Shapley Value\": 0.01559165234191551, \"t (event index)\": -9, \"type\": \"Mean\"}, {\"Shapley Value\": 0.01950019261789872, \"t (event index)\": -8, \"type\": \"Mean\"}, {\"Shapley Value\": 0.028210820960229224, \"t (event index)\": -7, \"type\": \"Mean\"}, {\"Shapley Value\": 0.0190156951613564, \"t (event index)\": -6, \"type\": \"Mean\"}, {\"Shapley Value\": 0.010981104675976544, \"t (event index)\": -5, \"type\": \"Mean\"}, {\"Shapley Value\": 0.0238205666226162, \"t (event index)\": -4, \"type\": \"Mean\"}, {\"Shapley Value\": 0.01643518163227338, \"t (event index)\": -3, \"type\": \"Mean\"}, {\"Shapley Value\": 0.008115092083039866, \"t (event index)\": -2, \"type\": \"Mean\"}, {\"Shapley Value\": 0.013533205474068388, \"t (event index)\": -1, \"type\": \"Mean\"}, {\"Shapley Value\": 0.015674491919552457, \"t (event index)\": 0, \"type\": \"Mean\"}], \"data-4bf78fbee0e50edc9a3392c134791efb\": [{\"Shapley Value\": 0.045623742043972, \"Feature\": \"Mean Chest <-> Right Ankle\", \"type\": \"Shapley Value\"}, {\"Shapley Value\": 0.017312630514304, \"Feature\": \"STD Chest <-> Right Ankle\", \"type\": \"Shapley Value\"}, {\"Shapley Value\": 0.0599856247504553, \"Feature\": \"Mean Chest <-> Left Ankle\", \"type\": \"Shapley Value\"}, {\"Shapley Value\": 0.2561952422062551, \"Feature\": \"STD Chest <-> Left Ankle\", \"type\": \"Shapley Value\"}, {\"Shapley Value\": 0.0335362911224365, \"Feature\": \"Mean Right Ankle <-> Left Ankle\", \"type\": \"Shapley Value\"}, {\"Shapley Value\": 0.0861420979102452, \"Feature\": \"STD Right Ankle <-> Left Ankle\", \"type\": \"Shapley Value\"}, {\"Shapley Value\": 0.0, \"Feature\": \"Pruned Events\", \"type\": \"Shapley Value\"}, {\"Shapley Value\": 0.0376023868719736, \"Feature\": \"Mean Chest <-> Right Ankle\", \"type\": \"Shapley Value\"}, {\"Shapley Value\": 0.0141457657019299, \"Feature\": \"STD Chest <-> Right Ankle\", \"type\": \"Shapley Value\"}, {\"Shapley Value\": 0.0552201360464097, \"Feature\": \"Mean Chest <-> Left Ankle\", \"type\": \"Shapley Value\"}, {\"Shapley Value\": 0.2075246761242545, \"Feature\": \"STD Chest <-> Left Ankle\", \"type\": \"Shapley Value\"}, {\"Shapley Value\": 0.0296073536078134, \"Feature\": \"Mean Right Ankle <-> Left Ankle\", \"type\": \"Shapley Value\"}, {\"Shapley Value\": 0.0722918127973873, \"Feature\": \"STD Right Ankle <-> Left Ankle\", \"type\": \"Shapley Value\"}, {\"Shapley Value\": 0.0824034973978998, \"Feature\": \"Pruned Events\", \"type\": \"Shapley Value\"}, {\"Shapley Value\": 0.0334385613600412, \"Feature\": \"Mean Chest <-> Right Ankle\", \"type\": \"Shapley Value\"}, {\"Shapley Value\": 0.0126563956340155, \"Feature\": \"STD Chest <-> Right Ankle\", \"type\": \"Shapley Value\"}, {\"Shapley Value\": 0.0520637586712838, \"Feature\": \"Mean Chest <-> Left Ankle\", \"type\": \"Shapley Value\"}, {\"Shapley Value\": 0.1919293155272798, \"Feature\": \"STD Chest <-> Left Ankle\", \"type\": \"Shapley Value\"}, {\"Shapley Value\": 0.0278286243478456, \"Feature\": \"Mean Right Ankle <-> Left Ankle\", \"type\": \"Shapley Value\"}, {\"Shapley Value\": 0.0676117738087971, \"Feature\": \"STD Right Ankle <-> Left Ankle\", \"type\": \"Shapley Value\"}, {\"Shapley Value\": 0.1132671991984051, \"Feature\": \"Pruned Events\", \"type\": \"Shapley Value\"}, {\"Shapley Value\": 0.0479148850554511, \"Feature\": \"Mean Chest <-> Right Ankle\", \"type\": \"Shapley Value\"}, {\"Shapley Value\": 0.0130330170903888, \"Feature\": \"STD Chest <-> Right Ankle\", \"type\": \"Shapley Value\"}, {\"Shapley Value\": 0.0570935155664172, \"Feature\": \"Mean Chest <-> Left Ankle\", \"type\": \"Shapley Value\"}, {\"Shapley Value\": 0.1690122634882015, \"Feature\": \"STD Chest <-> Left Ankle\", \"type\": \"Shapley Value\"}, {\"Shapley Value\": 0.0074851200694129, \"Feature\": \"Mean Right Ankle <-> Left Ankle\", \"type\": \"Shapley Value\"}, {\"Shapley Value\": 0.1172699869388624, \"Feature\": \"STD Right Ankle <-> Left Ankle\", \"type\": \"Shapley Value\"}, {\"Shapley Value\": 5.676634717843854e-10, \"Feature\": \"Pruned Events\", \"type\": \"Shapley Value\"}, {\"Shapley Value\": 0.0439635800463812, \"Feature\": \"Mean Chest <-> Right Ankle\", \"type\": \"Shapley Value\"}, {\"Shapley Value\": 0.013715096527622, \"Feature\": \"STD Chest <-> Right Ankle\", \"type\": \"Shapley Value\"}, {\"Shapley Value\": 0.0574870076917466, \"Feature\": \"Mean Chest <-> Left Ankle\", \"type\": \"Shapley Value\"}, {\"Shapley Value\": 0.1271985592586652, \"Feature\": \"STD Chest <-> Left Ankle\", \"type\": \"Shapley Value\"}, {\"Shapley Value\": 0.006447451029505, \"Feature\": \"Mean Right Ankle <-> Left Ankle\", \"type\": \"Shapley Value\"}, {\"Shapley Value\": 0.0945738407117978, \"Feature\": \"STD Right Ankle <-> Left Ankle\", \"type\": \"Shapley Value\"}, {\"Shapley Value\": 0.0684232535106796, \"Feature\": \"Pruned Events\", \"type\": \"Shapley Value\"}, {\"Shapley Value\": 0.0392693826840037, \"Feature\": \"Mean Chest <-> Right Ankle\", \"type\": \"Shapley Value\"}, {\"Shapley Value\": 0.0123937496826763, \"Feature\": \"STD Chest <-> Right Ankle\", \"type\": \"Shapley Value\"}, {\"Shapley Value\": 0.0567520890917097, \"Feature\": \"Mean Chest <-> Left Ankle\", \"type\": \"Shapley Value\"}, {\"Shapley Value\": 0.1151972963696432, \"Feature\": \"STD Chest <-> Left Ankle\", \"type\": \"Shapley Value\"}, {\"Shapley Value\": 0.006908292997451, \"Feature\": \"Mean Right Ankle <-> Left Ankle\", \"type\": \"Shapley Value\"}, {\"Shapley Value\": 0.0878531658933275, \"Feature\": \"STD Right Ankle <-> Left Ankle\", \"type\": \"Shapley Value\"}, {\"Shapley Value\": 0.093434812057586, \"Feature\": \"Pruned Events\", \"type\": \"Shapley Value\"}, {\"Shapley Value\": 0.0379269611267816, \"Feature\": \"Mean Chest <-> Right Ankle\", \"type\": \"Shapley Value\"}, {\"Shapley Value\": 0.0221964221625101, \"Feature\": \"STD Chest <-> Right Ankle\", \"type\": \"Shapley Value\"}, {\"Shapley Value\": -0.0003607778322126, \"Feature\": \"Mean Chest <-> Left Ankle\", \"type\": \"Shapley Value\"}, {\"Shapley Value\": 0.2382680392691064, \"Feature\": \"STD Chest <-> Left Ankle\", \"type\": \"Shapley Value\"}, {\"Shapley Value\": 0.0066806834368479, \"Feature\": \"Mean Right Ankle <-> Left Ankle\", \"type\": \"Shapley Value\"}, {\"Shapley Value\": 0.0860373602736563, \"Feature\": \"STD Right Ankle <-> Left Ankle\", \"type\": \"Shapley Value\"}, {\"Shapley Value\": -8.798780815055807e-09, \"Feature\": \"Pruned Events\", \"type\": \"Shapley Value\"}, {\"Shapley Value\": 0.0373488624890645, \"Feature\": \"Mean Chest <-> Right Ankle\", \"type\": \"Shapley Value\"}, {\"Shapley Value\": 0.0232358202338219, \"Feature\": \"STD Chest <-> Right Ankle\", \"type\": \"Shapley Value\"}, {\"Shapley Value\": 0.0011223420500756, \"Feature\": \"Mean Chest <-> Left Ankle\", \"type\": \"Shapley Value\"}, {\"Shapley Value\": 0.184781993925571, \"Feature\": \"STD Chest <-> Left Ankle\", \"type\": \"Shapley Value\"}, {\"Shapley Value\": 0.0063575213154157, \"Feature\": \"Mean Right Ankle <-> Left Ankle\", \"type\": \"Shapley Value\"}, {\"Shapley Value\": 0.0597715134421983, \"Feature\": \"STD Right Ankle <-> Left Ankle\", \"type\": \"Shapley Value\"}, {\"Shapley Value\": 0.0781306261817615, \"Feature\": \"Pruned Events\", \"type\": \"Shapley Value\"}, {\"Shapley Value\": 0.0336818702873729, \"Feature\": \"Mean Chest <-> Right Ankle\", \"type\": \"Shapley Value\"}, {\"Shapley Value\": 0.0208761878666424, \"Feature\": \"STD Chest <-> Right Ankle\", \"type\": \"Shapley Value\"}, {\"Shapley Value\": -0.0005767993274187, \"Feature\": \"Mean Chest <-> Left Ankle\", \"type\": \"Shapley Value\"}, {\"Shapley Value\": 0.1677169291036466, \"Feature\": \"STD Chest <-> Left Ankle\", \"type\": \"Shapley Value\"}, {\"Shapley Value\": 0.0050251973526818, \"Feature\": \"Mean Right Ankle <-> Left Ankle\", \"type\": \"Shapley Value\"}, {\"Shapley Value\": 0.0557506449875376, \"Feature\": \"STD Right Ankle <-> Left Ankle\", \"type\": \"Shapley Value\"}, {\"Shapley Value\": 0.108274649367446, \"Feature\": \"Pruned Events\", \"type\": \"Shapley Value\"}, {\"Shapley Value\": 0.060437114386962296, \"Feature\": \"Pruned Events\", \"type\": \"Mean\"}, {\"Shapley Value\": 0.039641136885004646, \"Feature\": \"Mean Chest <-> Right Ankle\", \"type\": \"Mean\"}, {\"Shapley Value\": 0.03764298852316296, \"Feature\": \"Mean Chest <-> Left Ankle\", \"type\": \"Mean\"}, {\"Shapley Value\": 0.014430726142156644, \"Feature\": \"Mean Right Ankle <-> Left Ankle\", \"type\": \"Mean\"}, {\"Shapley Value\": 0.016618342823767878, \"Feature\": \"STD Chest <-> Right Ankle\", \"type\": \"Mean\"}, {\"Shapley Value\": 0.18420270169695815, \"Feature\": \"STD Chest <-> Left Ankle\", \"type\": \"Mean\"}, {\"Shapley Value\": 0.08081135519597883, \"Feature\": \"STD Right Ankle <-> Left Ankle\", \"type\": \"Mean\"}]}}, {\"mode\": \"vega-lite\"});\n",
       "</script>"
      ],
      "text/plain": [
       "alt.HConcatChart(...)"
      ]
     },
     "execution_count": 19,
     "metadata": {},
     "output_type": "execute_result"
    }
   ],
   "source": [
    "global_plot"
   ]
  },
  {
   "cell_type": "markdown",
   "id": "2870782f",
   "metadata": {},
   "source": [
    "## 3.3 Individual Plots"
   ]
  },
  {
   "cell_type": "markdown",
   "id": "aafb0500",
   "metadata": {},
   "source": [
    "### Local Plots"
   ]
  },
  {
   "cell_type": "code",
   "execution_count": 20,
   "id": "f35f03d9",
   "metadata": {},
   "outputs": [],
   "source": [
    "from timeshap.plot import plot_temp_coalition_pruning, plot_event_heatmap, plot_feat_barplot, plot_cell_level\n",
    "from timeshap.explainer import local_pruning, local_event, local_feat, local_cell_level\n",
    "# select model features only\n",
    "pos_x_data = pos_x_pd[model_features]\n",
    "# convert the instance to numpy so TimeSHAP receives it\n",
    "pos_x_data = np.expand_dims(pos_x_data.to_numpy().copy(), axis=0)"
   ]
  },
  {
   "cell_type": "markdown",
   "id": "b7312cb0",
   "metadata": {},
   "source": [
    "##### Pruning algorithm"
   ]
  },
  {
   "cell_type": "code",
   "execution_count": 22,
   "id": "d72a92fa",
   "metadata": {},
   "outputs": [
    {
     "name": "stdout",
     "output_type": "stream",
     "text": [
      "No path to explainer data provided. Calculating data\n"
     ]
    },
    {
     "data": {
      "text/html": [
       "\n",
       "<div id=\"altair-viz-7b676011189b498c90af38d5fd93b584\"></div>\n",
       "<script type=\"text/javascript\">\n",
       "  (function(spec, embedOpt){\n",
       "    let outputDiv = document.currentScript.previousElementSibling;\n",
       "    if (outputDiv.id !== \"altair-viz-7b676011189b498c90af38d5fd93b584\") {\n",
       "      outputDiv = document.getElementById(\"altair-viz-7b676011189b498c90af38d5fd93b584\");\n",
       "    }\n",
       "    const paths = {\n",
       "      \"vega\": \"https://cdn.jsdelivr.net/npm//vega@5?noext\",\n",
       "      \"vega-lib\": \"https://cdn.jsdelivr.net/npm//vega-lib?noext\",\n",
       "      \"vega-lite\": \"https://cdn.jsdelivr.net/npm//vega-lite@4.8.1?noext\",\n",
       "      \"vega-embed\": \"https://cdn.jsdelivr.net/npm//vega-embed@6?noext\",\n",
       "    };\n",
       "\n",
       "    function loadScript(lib) {\n",
       "      return new Promise(function(resolve, reject) {\n",
       "        var s = document.createElement('script');\n",
       "        s.src = paths[lib];\n",
       "        s.async = true;\n",
       "        s.onload = () => resolve(paths[lib]);\n",
       "        s.onerror = () => reject(`Error loading script: ${paths[lib]}`);\n",
       "        document.getElementsByTagName(\"head\")[0].appendChild(s);\n",
       "      });\n",
       "    }\n",
       "\n",
       "    function showError(err) {\n",
       "      outputDiv.innerHTML = `<div class=\"error\" style=\"color:red;\">${err}</div>`;\n",
       "      throw err;\n",
       "    }\n",
       "\n",
       "    function displayChart(vegaEmbed) {\n",
       "      vegaEmbed(outputDiv, spec, embedOpt)\n",
       "        .catch(err => showError(`Javascript Error: ${err.message}<br>This usually means there's a typo in your chart specification. See the javascript console for the full traceback.`));\n",
       "    }\n",
       "\n",
       "    if(typeof define === \"function\" && define.amd) {\n",
       "      requirejs.config({paths});\n",
       "      require([\"vega-embed\"], displayChart, err => showError(`Error loading script: ${err.message}`));\n",
       "    } else if (typeof vegaEmbed === \"function\") {\n",
       "      displayChart(vegaEmbed);\n",
       "    } else {\n",
       "      loadScript(\"vega\")\n",
       "        .then(() => loadScript(\"vega-lite\"))\n",
       "        .then(() => loadScript(\"vega-embed\"))\n",
       "        .catch(showError)\n",
       "        .then(() => displayChart(vegaEmbed));\n",
       "    }\n",
       "  })({\"config\": {\"axis\": {\"domain\": true, \"domainColor\": \"#798184\", \"grid\": false, \"gridColor\": \"#798184\", \"gridOpacity\": 0.5, \"gridDash\": [3, 5], \"gridWidth\": 0.8, \"gridCap\": \"round\", \"labelPadding\": 3, \"labelFont\": \"Roboto\", \"labelColor\": \"#798184\", \"tickSize\": 5, \"tickColor\": \"#798184\", \"tickOpacity\": 0.5, \"titleColor\": \"#384140\", \"titleFont\": \"Roboto\", \"titleFontSize\": 12}, \"axisBand\": {\"domain\": true, \"ticks\": false, \"labelPadding\": 7}, \"axisY\": {\"domain\": false, \"titleAlign\": \"left\", \"titleAngle\": 0, \"titleX\": -20, \"titleY\": -10}, \"legend\": {\"labelColor\": \"#798184\", \"labelFontSize\": 12, \"symbolSize\": 40, \"titleColor\": \"#384140\", \"titleFontSize\": 12, \"titlePadding\": 10, \"titleFont\": \"Roboto\", \"labelFont\": \"Roboto\"}, \"line\": {\"stroke\": \"#618FE0\", \"strokeWidth\": 2}, \"rule\": {\"stroke\": \"#798184\"}, \"path\": {\"stroke\": \"#618FE0\", \"strokeWidth\": 0.5}, \"rect\": {\"fill\": \"#618FE0\"}, \"point\": {\"filled\": true, \"shape\": \"circle\"}, \"shape\": {\"stroke\": \"#618FE0\"}, \"bar\": {\"fill\": \"#618FE0\", \"stroke\": null}, \"text\": {\"font\": \"Roboto\", \"color\": \"#384140\", \"fontSize\": 12}, \"arc\": {\"stroke\": \"#fff\", \"strokeWidth\": 1}, \"range\": {\"category\": [\"#618FE0\", \"#50D0B0\", \"#E17560\", \"#E8B474\", \"#D889C4\", \"#34A3BC\", \"#A583A4\"], \"ramp\": [\"#001854\", \"#002f72\", \"#04478e\", \"#1e5fab\", \"#4477c5\", \"#6290e1\", \"#7ea9fd\", \"#9ec7ff\", \"#bde4ff\"], \"heatmap\": [\"#001854\", \"#002f72\", \"#04478e\", \"#1e5fab\", \"#4477c5\", \"#6290e1\", \"#7ea9fd\", \"#9ec7ff\", \"#bde4ff\"], \"diverging\": [\"#003b26\", \"#006b52\", \"#1aa082\", \"#55d5b5\", \"#f5f5f5\", \"#ffaa92\", \"#d16f5b\", \"#9e392c\", \"#650200\"]}, \"title\": {\"anchor\": \"start\", \"fontSize\": 20, \"color\": \"#384140\", \"fontWeight\": \"bold\", \"offset\": 20, \"font\": \"Roboto\", \"subtitleColor\": \"#384140\", \"subtitleFontSize\": 16}, \"header\": {\"labelFontSize\": 12, \"titleFontSize\": 16, \"labelColor\": \"#384140\", \"titleColor\": \"#384140\", \"titleFont\": \"Roboto\", \"labelFont\": \"Roboto\"}, \"group\": {\"fill\": \"white\"}, \"background\": \"white\", \"view\": {\"stroke\": \"transparent\", \"continuousHeight\": 300, \"continuousWidth\": 400}}, \"layer\": [{\"mark\": {\"type\": \"area\", \"opacity\": 0.5}, \"encoding\": {\"color\": {\"type\": \"nominal\", \"field\": \"Coalition\", \"legend\": {\"fillColor\": \"white\", \"labelFontSize\": 14, \"labelLimit\": 0, \"orient\": \"top-left\", \"symbolSize\": 50, \"symbolStrokeWidth\": 0, \"title\": null}, \"scale\": {\"domain\": [\"Sum of contribution of events \\u2264 t\"], \"range\": [\"#618FE0\"]}}, \"x\": {\"type\": \"quantitative\", \"axis\": {\"labelFontSize\": 15, \"title\": \"t (event index)\", \"titleFontSize\": 15}, \"field\": \"t (event index)\"}, \"y\": {\"type\": \"quantitative\", \"axis\": {\"grid\": true, \"labelFontSize\": 15, \"titleFontSize\": 15, \"titleX\": -28}, \"field\": \"Shapley Value\", \"scale\": {\"domain\": [-0.05, 1]}}}}, {\"mark\": \"line\", \"encoding\": {\"color\": {\"type\": \"nominal\", \"field\": \"Coalition\", \"legend\": {\"fillColor\": \"white\", \"labelFontSize\": 14, \"labelLimit\": 0, \"orient\": \"top-left\", \"symbolSize\": 50, \"symbolStrokeWidth\": 0, \"title\": null}, \"scale\": {\"domain\": [\"Sum of contribution of events \\u2264 t\"], \"range\": [\"#618FE0\"]}}, \"x\": {\"type\": \"quantitative\", \"axis\": {\"labelFontSize\": 15, \"title\": \"t (event index)\", \"titleFontSize\": 15}, \"field\": \"t (event index)\"}, \"y\": {\"type\": \"quantitative\", \"axis\": {\"grid\": true, \"labelFontSize\": 15, \"titleFontSize\": 15, \"titleX\": -28}, \"field\": \"Shapley Value\", \"scale\": {\"domain\": [-0.05, 1]}}}}, {\"data\": {\"name\": \"data-e77ac46d30d345cb69d3d984267f94d7\"}, \"mark\": {\"type\": \"rule\", \"color\": \"#E17560\"}, \"encoding\": {\"x\": {\"type\": \"quantitative\", \"field\": \"x\"}}}, {\"data\": {\"name\": \"data-8514f0f900cf415905652d458d2a9799\"}, \"mark\": {\"type\": \"text\", \"angle\": 270, \"color\": \"#E17560\", \"fontSize\": 15, \"fontWeight\": \"bold\", \"text\": \"Pruning\"}, \"encoding\": {\"x\": {\"type\": \"quantitative\", \"field\": \"x\"}}}], \"data\": {\"name\": \"data-2b01a90ab4a0df8308ed08d0b53c4f94\"}, \"height\": 225, \"width\": 350, \"$schema\": \"https://vega.github.io/schema/vega-lite/v4.8.1.json\", \"datasets\": {\"data-2b01a90ab4a0df8308ed08d0b53c4f94\": [{\"Coalition\": \"Sum of contribution of events > t\", \"t (event index)\": 0, \"Shapley Value\": 0.0}, {\"Coalition\": \"Sum of contribution of events \\u2264 t\", \"t (event index)\": 0, \"Shapley Value\": 0.49879562854766846}, {\"Coalition\": \"Sum of contribution of events > t\", \"t (event index)\": -1, \"Shapley Value\": 0.01638665795326233}, {\"Coalition\": \"Sum of contribution of events \\u2264 t\", \"t (event index)\": -1, \"Shapley Value\": 0.48240897059440613}, {\"Coalition\": \"Sum of contribution of events > t\", \"t (event index)\": -2, \"Shapley Value\": 0.04125390946865082}, {\"Coalition\": \"Sum of contribution of events \\u2264 t\", \"t (event index)\": -2, \"Shapley Value\": 0.45754171907901764}, {\"Coalition\": \"Sum of contribution of events > t\", \"t (event index)\": -3, \"Shapley Value\": 0.04635585844516754}, {\"Coalition\": \"Sum of contribution of events \\u2264 t\", \"t (event index)\": -3, \"Shapley Value\": 0.4524397701025009}, {\"Coalition\": \"Sum of contribution of events > t\", \"t (event index)\": -4, \"Shapley Value\": 0.05534370243549347}, {\"Coalition\": \"Sum of contribution of events \\u2264 t\", \"t (event index)\": -4, \"Shapley Value\": 0.443451926112175}, {\"Coalition\": \"Sum of contribution of events > t\", \"t (event index)\": -5, \"Shapley Value\": 0.07672280073165894}, {\"Coalition\": \"Sum of contribution of events \\u2264 t\", \"t (event index)\": -5, \"Shapley Value\": 0.4220728278160095}, {\"Coalition\": \"Sum of contribution of events > t\", \"t (event index)\": -6, \"Shapley Value\": 0.08399029076099396}, {\"Coalition\": \"Sum of contribution of events \\u2264 t\", \"t (event index)\": -6, \"Shapley Value\": 0.4148053377866745}, {\"Coalition\": \"Sum of contribution of events > t\", \"t (event index)\": -7, \"Shapley Value\": 0.11436961591243744}, {\"Coalition\": \"Sum of contribution of events \\u2264 t\", \"t (event index)\": -7, \"Shapley Value\": 0.384426012635231}, {\"Coalition\": \"Sum of contribution of events > t\", \"t (event index)\": -8, \"Shapley Value\": 0.15635894238948822}, {\"Coalition\": \"Sum of contribution of events \\u2264 t\", \"t (event index)\": -8, \"Shapley Value\": 0.34243668615818024}, {\"Coalition\": \"Sum of contribution of events > t\", \"t (event index)\": -9, \"Shapley Value\": 0.17846472561359406}, {\"Coalition\": \"Sum of contribution of events \\u2264 t\", \"t (event index)\": -9, \"Shapley Value\": 0.3203309029340744}, {\"Coalition\": \"Sum of contribution of events > t\", \"t (event index)\": -10, \"Shapley Value\": 0.20478618144989014}, {\"Coalition\": \"Sum of contribution of events \\u2264 t\", \"t (event index)\": -10, \"Shapley Value\": 0.2940094470977783}, {\"Coalition\": \"Sum of contribution of events > t\", \"t (event index)\": -11, \"Shapley Value\": 0.2407693862915039}, {\"Coalition\": \"Sum of contribution of events \\u2264 t\", \"t (event index)\": -11, \"Shapley Value\": 0.25802624225616455}, {\"Coalition\": \"Sum of contribution of events > t\", \"t (event index)\": -12, \"Shapley Value\": 0.24839001893997192}, {\"Coalition\": \"Sum of contribution of events \\u2264 t\", \"t (event index)\": -12, \"Shapley Value\": 0.25040560960769653}, {\"Coalition\": \"Sum of contribution of events > t\", \"t (event index)\": -13, \"Shapley Value\": 0.27679333090782166}, {\"Coalition\": \"Sum of contribution of events \\u2264 t\", \"t (event index)\": -13, \"Shapley Value\": 0.2220022976398468}, {\"Coalition\": \"Sum of contribution of events > t\", \"t (event index)\": -14, \"Shapley Value\": 0.3013024777173996}, {\"Coalition\": \"Sum of contribution of events \\u2264 t\", \"t (event index)\": -14, \"Shapley Value\": 0.19749315083026886}, {\"Coalition\": \"Sum of contribution of events > t\", \"t (event index)\": -15, \"Shapley Value\": 0.3231050670146942}, {\"Coalition\": \"Sum of contribution of events \\u2264 t\", \"t (event index)\": -15, \"Shapley Value\": 0.17569056153297424}, {\"Coalition\": \"Sum of contribution of events > t\", \"t (event index)\": -16, \"Shapley Value\": 0.3511688560247421}, {\"Coalition\": \"Sum of contribution of events \\u2264 t\", \"t (event index)\": -16, \"Shapley Value\": 0.14762677252292633}, {\"Coalition\": \"Sum of contribution of events > t\", \"t (event index)\": -17, \"Shapley Value\": 0.35776206851005554}, {\"Coalition\": \"Sum of contribution of events \\u2264 t\", \"t (event index)\": -17, \"Shapley Value\": 0.14103356003761292}, {\"Coalition\": \"Sum of contribution of events > t\", \"t (event index)\": -18, \"Shapley Value\": 0.3667525500059128}, {\"Coalition\": \"Sum of contribution of events \\u2264 t\", \"t (event index)\": -18, \"Shapley Value\": 0.13204307854175568}, {\"Coalition\": \"Sum of contribution of events > t\", \"t (event index)\": -19, \"Shapley Value\": 0.3793666660785675}, {\"Coalition\": \"Sum of contribution of events \\u2264 t\", \"t (event index)\": -19, \"Shapley Value\": 0.11942896246910095}, {\"Coalition\": \"Sum of contribution of events > t\", \"t (event index)\": -20, \"Shapley Value\": 0.39420491456985474}, {\"Coalition\": \"Sum of contribution of events \\u2264 t\", \"t (event index)\": -20, \"Shapley Value\": 0.10459071397781372}, {\"Coalition\": \"Sum of contribution of events > t\", \"t (event index)\": -21, \"Shapley Value\": 0.4038602113723755}, {\"Coalition\": \"Sum of contribution of events \\u2264 t\", \"t (event index)\": -21, \"Shapley Value\": 0.09493541717529297}, {\"Coalition\": \"Sum of contribution of events > t\", \"t (event index)\": -22, \"Shapley Value\": 0.41441601514816284}, {\"Coalition\": \"Sum of contribution of events \\u2264 t\", \"t (event index)\": -22, \"Shapley Value\": 0.08437961339950562}, {\"Coalition\": \"Sum of contribution of events > t\", \"t (event index)\": -23, \"Shapley Value\": 0.41805635392665863}, {\"Coalition\": \"Sum of contribution of events \\u2264 t\", \"t (event index)\": -23, \"Shapley Value\": 0.08073927462100983}, {\"Coalition\": \"Sum of contribution of events > t\", \"t (event index)\": -24, \"Shapley Value\": 0.4182153195142746}, {\"Coalition\": \"Sum of contribution of events \\u2264 t\", \"t (event index)\": -24, \"Shapley Value\": 0.08058030903339386}, {\"Coalition\": \"Sum of contribution of events > t\", \"t (event index)\": -25, \"Shapley Value\": 0.4242616593837738}, {\"Coalition\": \"Sum of contribution of events \\u2264 t\", \"t (event index)\": -25, \"Shapley Value\": 0.07453396916389465}, {\"Coalition\": \"Sum of contribution of events > t\", \"t (event index)\": -26, \"Shapley Value\": 0.43452583253383636}, {\"Coalition\": \"Sum of contribution of events \\u2264 t\", \"t (event index)\": -26, \"Shapley Value\": 0.06426979601383209}, {\"Coalition\": \"Sum of contribution of events > t\", \"t (event index)\": -27, \"Shapley Value\": 0.44039468467235565}, {\"Coalition\": \"Sum of contribution of events \\u2264 t\", \"t (event index)\": -27, \"Shapley Value\": 0.058400943875312805}, {\"Coalition\": \"Sum of contribution of events > t\", \"t (event index)\": -28, \"Shapley Value\": 0.44863738119602203}, {\"Coalition\": \"Sum of contribution of events \\u2264 t\", \"t (event index)\": -28, \"Shapley Value\": 0.05015824735164642}, {\"Coalition\": \"Sum of contribution of events > t\", \"t (event index)\": -29, \"Shapley Value\": 0.452767089009285}, {\"Coalition\": \"Sum of contribution of events \\u2264 t\", \"t (event index)\": -29, \"Shapley Value\": 0.046028539538383484}, {\"Coalition\": \"Sum of contribution of events > t\", \"t (event index)\": -30, \"Shapley Value\": 0.4519525021314621}, {\"Coalition\": \"Sum of contribution of events \\u2264 t\", \"t (event index)\": -30, \"Shapley Value\": 0.04684312641620636}, {\"Coalition\": \"Sum of contribution of events > t\", \"t (event index)\": -31, \"Shapley Value\": 0.4558741897344589}, {\"Coalition\": \"Sum of contribution of events \\u2264 t\", \"t (event index)\": -31, \"Shapley Value\": 0.042921438813209534}, {\"Coalition\": \"Sum of contribution of events > t\", \"t (event index)\": -32, \"Shapley Value\": 0.46122418344020844}, {\"Coalition\": \"Sum of contribution of events \\u2264 t\", \"t (event index)\": -32, \"Shapley Value\": 0.03757144510746002}, {\"Coalition\": \"Sum of contribution of events > t\", \"t (event index)\": -33, \"Shapley Value\": 0.4656495004892349}, {\"Coalition\": \"Sum of contribution of events \\u2264 t\", \"t (event index)\": -33, \"Shapley Value\": 0.03314612805843353}, {\"Coalition\": \"Sum of contribution of events > t\", \"t (event index)\": -34, \"Shapley Value\": 0.4715174287557602}, {\"Coalition\": \"Sum of contribution of events \\u2264 t\", \"t (event index)\": -34, \"Shapley Value\": 0.027278199791908264}, {\"Coalition\": \"Sum of contribution of events > t\", \"t (event index)\": -35, \"Shapley Value\": 0.47450776398181915}, {\"Coalition\": \"Sum of contribution of events \\u2264 t\", \"t (event index)\": -35, \"Shapley Value\": 0.024287864565849304}, {\"Coalition\": \"Sum of contribution of events > t\", \"t (event index)\": -36, \"Shapley Value\": 0.4750417321920395}, {\"Coalition\": \"Sum of contribution of events \\u2264 t\", \"t (event index)\": -36, \"Shapley Value\": 0.023753896355628967}, {\"Coalition\": \"Sum of contribution of events > t\", \"t (event index)\": -37, \"Shapley Value\": 0.4766230285167694}, {\"Coalition\": \"Sum of contribution of events \\u2264 t\", \"t (event index)\": -37, \"Shapley Value\": 0.022172600030899048}, {\"Coalition\": \"Sum of contribution of events > t\", \"t (event index)\": -38, \"Shapley Value\": 0.47981157898902893}, {\"Coalition\": \"Sum of contribution of events \\u2264 t\", \"t (event index)\": -38, \"Shapley Value\": 0.018984049558639526}, {\"Coalition\": \"Sum of contribution of events > t\", \"t (event index)\": -39, \"Shapley Value\": 0.48050568997859955}, {\"Coalition\": \"Sum of contribution of events \\u2264 t\", \"t (event index)\": -39, \"Shapley Value\": 0.01828993856906891}, {\"Coalition\": \"Sum of contribution of events > t\", \"t (event index)\": -40, \"Shapley Value\": 0.4834912568330765}, {\"Coalition\": \"Sum of contribution of events \\u2264 t\", \"t (event index)\": -40, \"Shapley Value\": 0.01530437171459198}], \"data-e77ac46d30d345cb69d3d984267f94d7\": [{\"x\": -35}], \"data-8514f0f900cf415905652d458d2a9799\": [{\"x\": -37}]}}, {\"mode\": \"vega-lite\"});\n",
       "</script>"
      ],
      "text/plain": [
       "alt.LayerChart(...)"
      ]
     },
     "execution_count": 22,
     "metadata": {},
     "output_type": "execute_result"
    }
   ],
   "source": [
    "pruning_dict = {'tol': 0.025,}\n",
    "coal_plot_data, coal_prun_idx = local_pruning(f, pos_x_data, pruning_dict, average_event, positive_sequence_id, sequence_id_feat, False)\n",
    "# coal_prun_idx is in negative terms\n",
    "pruning_idx = pos_x_data.shape[1] + coal_prun_idx\n",
    "pruning_plot = plot_temp_coalition_pruning(coal_plot_data, coal_prun_idx, 40)\n",
    "pruning_plot"
   ]
  },
  {
   "cell_type": "markdown",
   "id": "fdb4260c",
   "metadata": {},
   "source": [
    "##### Event-level explanation"
   ]
  },
  {
   "cell_type": "code",
   "execution_count": 23,
   "id": "4ac0cb06",
   "metadata": {},
   "outputs": [
    {
     "name": "stdout",
     "output_type": "stream",
     "text": [
      "No path to event data provided. Calculating data\n"
     ]
    },
    {
     "data": {
      "text/html": [
       "\n",
       "<div id=\"altair-viz-58b388117e20431c918b3cd18017632c\"></div>\n",
       "<script type=\"text/javascript\">\n",
       "  (function(spec, embedOpt){\n",
       "    let outputDiv = document.currentScript.previousElementSibling;\n",
       "    if (outputDiv.id !== \"altair-viz-58b388117e20431c918b3cd18017632c\") {\n",
       "      outputDiv = document.getElementById(\"altair-viz-58b388117e20431c918b3cd18017632c\");\n",
       "    }\n",
       "    const paths = {\n",
       "      \"vega\": \"https://cdn.jsdelivr.net/npm//vega@5?noext\",\n",
       "      \"vega-lib\": \"https://cdn.jsdelivr.net/npm//vega-lib?noext\",\n",
       "      \"vega-lite\": \"https://cdn.jsdelivr.net/npm//vega-lite@4.8.1?noext\",\n",
       "      \"vega-embed\": \"https://cdn.jsdelivr.net/npm//vega-embed@6?noext\",\n",
       "    };\n",
       "\n",
       "    function loadScript(lib) {\n",
       "      return new Promise(function(resolve, reject) {\n",
       "        var s = document.createElement('script');\n",
       "        s.src = paths[lib];\n",
       "        s.async = true;\n",
       "        s.onload = () => resolve(paths[lib]);\n",
       "        s.onerror = () => reject(`Error loading script: ${paths[lib]}`);\n",
       "        document.getElementsByTagName(\"head\")[0].appendChild(s);\n",
       "      });\n",
       "    }\n",
       "\n",
       "    function showError(err) {\n",
       "      outputDiv.innerHTML = `<div class=\"error\" style=\"color:red;\">${err}</div>`;\n",
       "      throw err;\n",
       "    }\n",
       "\n",
       "    function displayChart(vegaEmbed) {\n",
       "      vegaEmbed(outputDiv, spec, embedOpt)\n",
       "        .catch(err => showError(`Javascript Error: ${err.message}<br>This usually means there's a typo in your chart specification. See the javascript console for the full traceback.`));\n",
       "    }\n",
       "\n",
       "    if(typeof define === \"function\" && define.amd) {\n",
       "      requirejs.config({paths});\n",
       "      require([\"vega-embed\"], displayChart, err => showError(`Error loading script: ${err.message}`));\n",
       "    } else if (typeof vegaEmbed === \"function\") {\n",
       "      displayChart(vegaEmbed);\n",
       "    } else {\n",
       "      loadScript(\"vega\")\n",
       "        .then(() => loadScript(\"vega-lite\"))\n",
       "        .then(() => loadScript(\"vega-embed\"))\n",
       "        .catch(showError)\n",
       "        .then(() => displayChart(vegaEmbed));\n",
       "    }\n",
       "  })({\"config\": {\"axis\": {\"domain\": true, \"domainColor\": \"#798184\", \"grid\": false, \"gridColor\": \"#798184\", \"gridOpacity\": 0.5, \"gridDash\": [3, 5], \"gridWidth\": 0.8, \"gridCap\": \"round\", \"labelPadding\": 3, \"labelFont\": \"Roboto\", \"labelColor\": \"#798184\", \"tickSize\": 5, \"tickColor\": \"#798184\", \"tickOpacity\": 0.5, \"titleColor\": \"#384140\", \"titleFont\": \"Roboto\", \"titleFontSize\": 12}, \"axisBand\": {\"domain\": true, \"ticks\": false, \"labelPadding\": 7}, \"axisY\": {\"domain\": false, \"titleAlign\": \"left\", \"titleAngle\": 0, \"titleX\": -20, \"titleY\": -10}, \"legend\": {\"labelColor\": \"#798184\", \"labelFontSize\": 12, \"symbolSize\": 40, \"titleColor\": \"#384140\", \"titleFontSize\": 12, \"titlePadding\": 10, \"titleFont\": \"Roboto\", \"labelFont\": \"Roboto\"}, \"line\": {\"stroke\": \"#618FE0\", \"strokeWidth\": 2}, \"rule\": {\"stroke\": \"#798184\"}, \"path\": {\"stroke\": \"#618FE0\", \"strokeWidth\": 0.5}, \"rect\": {\"fill\": \"#618FE0\"}, \"point\": {\"filled\": true, \"shape\": \"circle\"}, \"shape\": {\"stroke\": \"#618FE0\"}, \"bar\": {\"fill\": \"#618FE0\", \"stroke\": null}, \"text\": {\"font\": \"Roboto\", \"color\": \"#384140\", \"fontSize\": 12}, \"arc\": {\"stroke\": \"#fff\", \"strokeWidth\": 1}, \"range\": {\"category\": [\"#618FE0\", \"#50D0B0\", \"#E17560\", \"#E8B474\", \"#D889C4\", \"#34A3BC\", \"#A583A4\"], \"ramp\": [\"#001854\", \"#002f72\", \"#04478e\", \"#1e5fab\", \"#4477c5\", \"#6290e1\", \"#7ea9fd\", \"#9ec7ff\", \"#bde4ff\"], \"heatmap\": [\"#001854\", \"#002f72\", \"#04478e\", \"#1e5fab\", \"#4477c5\", \"#6290e1\", \"#7ea9fd\", \"#9ec7ff\", \"#bde4ff\"], \"diverging\": [\"#003b26\", \"#006b52\", \"#1aa082\", \"#55d5b5\", \"#f5f5f5\", \"#ffaa92\", \"#d16f5b\", \"#9e392c\", \"#650200\"]}, \"title\": {\"anchor\": \"start\", \"fontSize\": 20, \"color\": \"#384140\", \"fontWeight\": \"bold\", \"offset\": 20, \"font\": \"Roboto\", \"subtitleColor\": \"#384140\", \"subtitleFontSize\": 16}, \"header\": {\"labelFontSize\": 12, \"titleFontSize\": 16, \"labelColor\": \"#384140\", \"titleColor\": \"#384140\", \"titleFont\": \"Roboto\", \"labelFont\": \"Roboto\"}, \"group\": {\"fill\": \"white\"}, \"background\": \"white\", \"view\": {\"stroke\": \"transparent\", \"continuousHeight\": 300, \"continuousWidth\": 400}}, \"layer\": [{\"mark\": \"rect\", \"encoding\": {\"color\": {\"type\": \"quantitative\", \"field\": \"rounded\", \"legend\": {\"gradientLength\": 225, \"gradientThickness\": 10, \"labelFontSize\": 15, \"orient\": \"right\"}, \"scale\": {\"domain\": [-0.5, 0.5], \"range\": [\"#5f8fd6\", \"#99c3fb\", \"#f5f5f5\", \"#ffaa92\", \"#d16f5b\"]}, \"title\": null}, \"x\": {\"type\": \"ordinal\", \"axis\": {\"title\": \"Shapley Value\", \"titleFontSize\": 15}, \"field\": \"column\"}, \"y\": {\"type\": \"ordinal\", \"axis\": {\"domain\": false, \"labelFontSize\": 15, \"title\": \"Event\", \"titleFontSize\": 15, \"titleX\": -49}, \"field\": \"Feature\", \"sort\": [\"Event -1\", \"Event -2\", \"Event -3\", \"Event -4\", \"Event -5\", \"Event -6\", \"Event -7\", \"Event -8\", \"Event -9\", \"Event -10\", \"Event -11\", \"Event -12\", \"Event -13\", \"Event -14\", \"Event -15\", \"Event -16\", \"Event -17\", \"Event -18\", \"Event -19\", \"Event -20\", \"Event -21\", \"Event -22\", \"Event -23\", \"Event -24\", \"Event -25\", \"Event -26\", \"Event -27\", \"Event -28\", \"Event -29\", \"Event -30\", \"Event -31\", \"Event -32\", \"Event -33\", \"Event -34\", \"Event -35\", \"Pruned Events\"]}}}, {\"mark\": {\"type\": \"text\", \"align\": \"right\", \"baseline\": \"middle\", \"color\": \"#798184\", \"dx\": 18, \"fontSize\": 15}, \"encoding\": {\"text\": {\"type\": \"nominal\", \"field\": \"rounded_str\"}, \"x\": {\"type\": \"ordinal\", \"axis\": {\"domain\": false, \"labels\": false, \"title\": \"Shapley Value\", \"titleX\": 43}, \"field\": \"column\"}, \"y\": {\"type\": \"ordinal\", \"axis\": {\"domain\": false, \"labelFontSize\": 15, \"title\": \"Event\", \"titleFontSize\": 15, \"titleX\": -49}, \"field\": \"Feature\", \"sort\": [\"Event -1\", \"Event -2\", \"Event -3\", \"Event -4\", \"Event -5\", \"Event -6\", \"Event -7\", \"Event -8\", \"Event -9\", \"Event -10\", \"Event -11\", \"Event -12\", \"Event -13\", \"Event -14\", \"Event -15\", \"Event -16\", \"Event -17\", \"Event -18\", \"Event -19\", \"Event -20\", \"Event -21\", \"Event -22\", \"Event -23\", \"Event -24\", \"Event -25\", \"Event -26\", \"Event -27\", \"Event -28\", \"Event -29\", \"Event -30\", \"Event -31\", \"Event -32\", \"Event -33\", \"Event -34\", \"Event -35\", \"Pruned Events\"]}}}], \"data\": {\"name\": \"data-220ab78d492563c5c56d38965a1f122e\"}, \"height\": 225, \"width\": 60, \"$schema\": \"https://vega.github.io/schema/vega-lite/v4.8.1.json\", \"datasets\": {\"data-220ab78d492563c5c56d38965a1f122e\": [{\"Shapley Value\": 0.029361875376093333, \"Feature\": \"Event -1\", \"row\": 1, \"column\": 1, \"rounded\": 0.029, \"rounded_str\": \"0.029\"}, {\"Shapley Value\": 0.03636571099732511, \"Feature\": \"Event -2\", \"row\": 2, \"column\": 1, \"rounded\": 0.036, \"rounded_str\": \"0.036\"}, {\"Shapley Value\": 0.0037200026521039264, \"Feature\": \"Event -3\", \"row\": 3, \"column\": 1, \"rounded\": 0.004, \"rounded_str\": \"0.004\"}, {\"Shapley Value\": 0.012720453960223477, \"Feature\": \"Event -4\", \"row\": 4, \"column\": 1, \"rounded\": 0.013, \"rounded_str\": \"0.013\"}, {\"Shapley Value\": 0.024091914168725026, \"Feature\": \"Event -5\", \"row\": 5, \"column\": 1, \"rounded\": 0.024, \"rounded_str\": \"0.024\"}, {\"Shapley Value\": 0.005940232137150309, \"Feature\": \"Event -6\", \"row\": 6, \"column\": 1, \"rounded\": 0.006, \"rounded_str\": \"0.006\"}, {\"Shapley Value\": 0.030790098532056942, \"Feature\": \"Event -7\", \"row\": 7, \"column\": 1, \"rounded\": 0.031, \"rounded_str\": \"0.031\"}, {\"Shapley Value\": 0.03697518334650368, \"Feature\": \"Event -8\", \"row\": 8, \"column\": 1, \"rounded\": 0.037, \"rounded_str\": \"0.037\"}, {\"Shapley Value\": 0.01564925929223035, \"Feature\": \"Event -9\", \"row\": 9, \"column\": 1, \"rounded\": 0.016, \"rounded_str\": \"0.016\"}, {\"Shapley Value\": 0.01584330889190272, \"Feature\": \"Event -10\", \"row\": 10, \"column\": 1, \"rounded\": 0.016, \"rounded_str\": \"0.016\"}, {\"Shapley Value\": 0.020800483007636705, \"Feature\": \"Event -11\", \"row\": 11, \"column\": 1, \"rounded\": 0.021, \"rounded_str\": \"0.021\"}, {\"Shapley Value\": 0.004805377009861556, \"Feature\": \"Event -12\", \"row\": 12, \"column\": 1, \"rounded\": 0.005, \"rounded_str\": \"0.005\"}, {\"Shapley Value\": 0.015742465060503086, \"Feature\": \"Event -13\", \"row\": 13, \"column\": 1, \"rounded\": 0.016, \"rounded_str\": \"0.016\"}, {\"Shapley Value\": 0.0158782689926536, \"Feature\": \"Event -14\", \"row\": 14, \"column\": 1, \"rounded\": 0.016, \"rounded_str\": \"0.016\"}, {\"Shapley Value\": 0.014425380319824016, \"Feature\": \"Event -15\", \"row\": 15, \"column\": 1, \"rounded\": 0.014, \"rounded_str\": \"0.014\"}, {\"Shapley Value\": 0.018434176960602677, \"Feature\": \"Event -16\", \"row\": 16, \"column\": 1, \"rounded\": 0.018, \"rounded_str\": \"0.018\"}, {\"Shapley Value\": 0.005425394021295993, \"Feature\": \"Event -17\", \"row\": 17, \"column\": 1, \"rounded\": 0.005, \"rounded_str\": \"0.005\"}, {\"Shapley Value\": 0.007044799878636515, \"Feature\": \"Event -18\", \"row\": 18, \"column\": 1, \"rounded\": 0.007, \"rounded_str\": \"0.007\"}, {\"Shapley Value\": 0.01081705006361619, \"Feature\": \"Event -19\", \"row\": 19, \"column\": 1, \"rounded\": 0.011, \"rounded_str\": \"0.011\"}, {\"Shapley Value\": 0.014611795624129398, \"Feature\": \"Event -20\", \"row\": 20, \"column\": 1, \"rounded\": 0.015, \"rounded_str\": \"0.015\"}, {\"Shapley Value\": 0.008510394797871912, \"Feature\": \"Event -21\", \"row\": 21, \"column\": 1, \"rounded\": 0.009, \"rounded_str\": \"0.009\"}, {\"Shapley Value\": 0.009251462876859906, \"Feature\": \"Event -22\", \"row\": 22, \"column\": 1, \"rounded\": 0.009, \"rounded_str\": \"0.009\"}, {\"Shapley Value\": 0.0039978235276863505, \"Feature\": \"Event -23\", \"row\": 23, \"column\": 1, \"rounded\": 0.004, \"rounded_str\": \"0.004\"}, {\"Shapley Value\": 0.0007846171605067342, \"Feature\": \"Event -24\", \"row\": 24, \"column\": 1, \"rounded\": 0.001, \"rounded_str\": \"0.001\"}, {\"Shapley Value\": 0.006006174273748333, \"Feature\": \"Event -25\", \"row\": 25, \"column\": 1, \"rounded\": 0.006, \"rounded_str\": \"0.006\"}, {\"Shapley Value\": 0.011575265894905734, \"Feature\": \"Event -26\", \"row\": 26, \"column\": 1, \"rounded\": 0.012, \"rounded_str\": \"0.012\"}, {\"Shapley Value\": 0.0061591021480586206, \"Feature\": \"Event -27\", \"row\": 27, \"column\": 1, \"rounded\": 0.006, \"rounded_str\": \"0.006\"}, {\"Shapley Value\": 0.008728916391704616, \"Feature\": \"Event -28\", \"row\": 28, \"column\": 1, \"rounded\": 0.009, \"rounded_str\": \"0.009\"}, {\"Shapley Value\": 0.005130969161123988, \"Feature\": \"Event -29\", \"row\": 29, \"column\": 1, \"rounded\": 0.005, \"rounded_str\": \"0.005\"}, {\"Shapley Value\": 0.00021093369142954899, \"Feature\": \"Event -30\", \"row\": 30, \"column\": 1, \"rounded\": 0.0, \"rounded_str\": \"0.000\"}, {\"Shapley Value\": 0.005263743059223308, \"Feature\": \"Event -31\", \"row\": 31, \"column\": 1, \"rounded\": 0.005, \"rounded_str\": \"0.005\"}, {\"Shapley Value\": 0.005464982790318457, \"Feature\": \"Event -32\", \"row\": 32, \"column\": 1, \"rounded\": 0.005, \"rounded_str\": \"0.005\"}, {\"Shapley Value\": 0.0048073770449726105, \"Feature\": \"Event -33\", \"row\": 33, \"column\": 1, \"rounded\": 0.005, \"rounded_str\": \"0.005\"}, {\"Shapley Value\": 0.0060640905119654365, \"Feature\": \"Event -34\", \"row\": 34, \"column\": 1, \"rounded\": 0.006, \"rounded_str\": \"0.006\"}, {\"Shapley Value\": 0.0036203704995844688, \"Feature\": \"Event -35\", \"row\": 35, \"column\": 1, \"rounded\": 0.004, \"rounded_str\": \"0.004\"}, {\"Shapley Value\": 0.07377617442463386, \"Feature\": \"Pruned Events\", \"row\": 36, \"column\": 1, \"rounded\": 0.074, \"rounded_str\": \"0.074\"}]}}, {\"mode\": \"vega-lite\"});\n",
       "</script>"
      ],
      "text/plain": [
       "alt.LayerChart(...)"
      ]
     },
     "execution_count": 23,
     "metadata": {},
     "output_type": "execute_result"
    }
   ],
   "source": [
    "event_dict = {'rs': 42, 'nsamples': 32000}\n",
    "event_data = local_event(f, pos_x_data, event_dict, positive_sequence_id, sequence_id_feat, average_event, pruning_idx)\n",
    "event_plot = plot_event_heatmap(event_data)\n",
    "event_plot"
   ]
  },
  {
   "cell_type": "markdown",
   "id": "f5034207",
   "metadata": {},
   "source": [
    "##### Feature-level explanation"
   ]
  },
  {
   "cell_type": "code",
   "execution_count": 24,
   "id": "1c6776c0",
   "metadata": {},
   "outputs": [
    {
     "name": "stdout",
     "output_type": "stream",
     "text": [
      "No path to feature data provided. Calculating data\n"
     ]
    },
    {
     "data": {
      "text/html": [
       "\n",
       "<div id=\"altair-viz-8fa84e84286046e1971c6c72edb0f2c0\"></div>\n",
       "<script type=\"text/javascript\">\n",
       "  (function(spec, embedOpt){\n",
       "    let outputDiv = document.currentScript.previousElementSibling;\n",
       "    if (outputDiv.id !== \"altair-viz-8fa84e84286046e1971c6c72edb0f2c0\") {\n",
       "      outputDiv = document.getElementById(\"altair-viz-8fa84e84286046e1971c6c72edb0f2c0\");\n",
       "    }\n",
       "    const paths = {\n",
       "      \"vega\": \"https://cdn.jsdelivr.net/npm//vega@5?noext\",\n",
       "      \"vega-lib\": \"https://cdn.jsdelivr.net/npm//vega-lib?noext\",\n",
       "      \"vega-lite\": \"https://cdn.jsdelivr.net/npm//vega-lite@4.8.1?noext\",\n",
       "      \"vega-embed\": \"https://cdn.jsdelivr.net/npm//vega-embed@6?noext\",\n",
       "    };\n",
       "\n",
       "    function loadScript(lib) {\n",
       "      return new Promise(function(resolve, reject) {\n",
       "        var s = document.createElement('script');\n",
       "        s.src = paths[lib];\n",
       "        s.async = true;\n",
       "        s.onload = () => resolve(paths[lib]);\n",
       "        s.onerror = () => reject(`Error loading script: ${paths[lib]}`);\n",
       "        document.getElementsByTagName(\"head\")[0].appendChild(s);\n",
       "      });\n",
       "    }\n",
       "\n",
       "    function showError(err) {\n",
       "      outputDiv.innerHTML = `<div class=\"error\" style=\"color:red;\">${err}</div>`;\n",
       "      throw err;\n",
       "    }\n",
       "\n",
       "    function displayChart(vegaEmbed) {\n",
       "      vegaEmbed(outputDiv, spec, embedOpt)\n",
       "        .catch(err => showError(`Javascript Error: ${err.message}<br>This usually means there's a typo in your chart specification. See the javascript console for the full traceback.`));\n",
       "    }\n",
       "\n",
       "    if(typeof define === \"function\" && define.amd) {\n",
       "      requirejs.config({paths});\n",
       "      require([\"vega-embed\"], displayChart, err => showError(`Error loading script: ${err.message}`));\n",
       "    } else if (typeof vegaEmbed === \"function\") {\n",
       "      displayChart(vegaEmbed);\n",
       "    } else {\n",
       "      loadScript(\"vega\")\n",
       "        .then(() => loadScript(\"vega-lite\"))\n",
       "        .then(() => loadScript(\"vega-embed\"))\n",
       "        .catch(showError)\n",
       "        .then(() => displayChart(vegaEmbed));\n",
       "    }\n",
       "  })({\"config\": {\"axis\": {\"domain\": true, \"domainColor\": \"#798184\", \"grid\": false, \"gridColor\": \"#798184\", \"gridOpacity\": 0.5, \"gridDash\": [3, 5], \"gridWidth\": 0.8, \"gridCap\": \"round\", \"labelPadding\": 3, \"labelFont\": \"Roboto\", \"labelColor\": \"#798184\", \"tickSize\": 5, \"tickColor\": \"#798184\", \"tickOpacity\": 0.5, \"titleColor\": \"#384140\", \"titleFont\": \"Roboto\", \"titleFontSize\": 12}, \"axisBand\": {\"domain\": true, \"ticks\": false, \"labelPadding\": 7}, \"axisY\": {\"domain\": false, \"titleAlign\": \"left\", \"titleAngle\": 0, \"titleX\": -20, \"titleY\": -10}, \"legend\": {\"labelColor\": \"#798184\", \"labelFontSize\": 12, \"symbolSize\": 40, \"titleColor\": \"#384140\", \"titleFontSize\": 12, \"titlePadding\": 10, \"titleFont\": \"Roboto\", \"labelFont\": \"Roboto\"}, \"line\": {\"stroke\": \"#618FE0\", \"strokeWidth\": 2}, \"rule\": {\"stroke\": \"#798184\"}, \"path\": {\"stroke\": \"#618FE0\", \"strokeWidth\": 0.5}, \"rect\": {\"fill\": \"#618FE0\"}, \"point\": {\"filled\": true, \"shape\": \"circle\"}, \"shape\": {\"stroke\": \"#618FE0\"}, \"bar\": {\"fill\": \"#618FE0\", \"stroke\": null}, \"text\": {\"font\": \"Roboto\", \"color\": \"#384140\", \"fontSize\": 12}, \"arc\": {\"stroke\": \"#fff\", \"strokeWidth\": 1}, \"range\": {\"category\": [\"#618FE0\", \"#50D0B0\", \"#E17560\", \"#E8B474\", \"#D889C4\", \"#34A3BC\", \"#A583A4\"], \"ramp\": [\"#001854\", \"#002f72\", \"#04478e\", \"#1e5fab\", \"#4477c5\", \"#6290e1\", \"#7ea9fd\", \"#9ec7ff\", \"#bde4ff\"], \"heatmap\": [\"#001854\", \"#002f72\", \"#04478e\", \"#1e5fab\", \"#4477c5\", \"#6290e1\", \"#7ea9fd\", \"#9ec7ff\", \"#bde4ff\"], \"diverging\": [\"#003b26\", \"#006b52\", \"#1aa082\", \"#55d5b5\", \"#f5f5f5\", \"#ffaa92\", \"#d16f5b\", \"#9e392c\", \"#650200\"]}, \"title\": {\"anchor\": \"start\", \"fontSize\": 20, \"color\": \"#384140\", \"fontWeight\": \"bold\", \"offset\": 20, \"font\": \"Roboto\", \"subtitleColor\": \"#384140\", \"subtitleFontSize\": 16}, \"header\": {\"labelFontSize\": 12, \"titleFontSize\": 16, \"labelColor\": \"#384140\", \"titleColor\": \"#384140\", \"titleFont\": \"Roboto\", \"labelFont\": \"Roboto\"}, \"group\": {\"fill\": \"white\"}, \"background\": \"white\", \"view\": {\"stroke\": \"transparent\", \"continuousHeight\": 300, \"continuousWidth\": 400}}, \"layer\": [{\"data\": {\"name\": \"data-f6c6da9a80fd6a35273bc999577e517e\"}, \"mark\": {\"type\": \"bar\", \"size\": 15, \"thickness\": 1}, \"encoding\": {\"x\": {\"type\": \"quantitative\", \"axis\": {\"grid\": true, \"labelFontSize\": 15, \"title\": \"Shapley Value\", \"titleFontSize\": 15}, \"field\": \"Shapley Value\", \"scale\": {\"domain\": [-0.1, 0.4]}}, \"y\": {\"type\": \"nominal\", \"axis\": {\"labelFontSize\": 15, \"title\": \"Feature\", \"titleFontSize\": 15, \"titleX\": -61}, \"field\": \"Feature\", \"sort\": {\"field\": \"sort_col\", \"order\": \"descending\"}}}}, {\"data\": {\"name\": \"data-9c00aa9dc2b1c1a0b4bf9b34ead12925\"}, \"mark\": {\"type\": \"rule\", \"color\": \"#798184\"}, \"encoding\": {\"x\": {\"type\": \"quantitative\", \"field\": \"x\"}}}], \"height\": 225, \"width\": 190, \"$schema\": \"https://vega.github.io/schema/vega-lite/v4.8.1.json\", \"datasets\": {\"data-f6c6da9a80fd6a35273bc999577e517e\": [{\"Random seed\": 42, \"NSamples\": 32000, \"Feature\": \"Mean Chest <-> Right Ankle\", \"Shapley Value\": 0.03987152746745523, \"sort_col\": 0.03987152746745523}, {\"Random seed\": 42, \"NSamples\": 32000, \"Feature\": \"STD Chest <-> Right Ankle\", \"Shapley Value\": 0.01594435643582129, \"sort_col\": 0.01594435643582129}, {\"Random seed\": 42, \"NSamples\": 32000, \"Feature\": \"Mean Chest <-> Left Ankle\", \"Shapley Value\": 0.056395621810640784, \"sort_col\": 0.056395621810640784}, {\"Random seed\": 42, \"NSamples\": 32000, \"Feature\": \"STD Chest <-> Left Ankle\", \"Shapley Value\": 0.22090407581556376, \"sort_col\": 0.22090407581556376}, {\"Random seed\": 42, \"NSamples\": 32000, \"Feature\": \"Mean Right Ankle <-> Left Ankle\", \"Shapley Value\": 0.03176419259536831, \"sort_col\": 0.03176419259536831}, {\"Random seed\": 42, \"NSamples\": 32000, \"Feature\": \"STD Right Ankle <-> Left Ankle\", \"Shapley Value\": 0.07814405134745997, \"sort_col\": 0.07814405134745997}, {\"Random seed\": 42, \"NSamples\": 32000, \"Feature\": \"Pruned Events\", \"Shapley Value\": 0.055771803075359117, \"sort_col\": 0.055771803075359117}], \"data-9c00aa9dc2b1c1a0b4bf9b34ead12925\": [{\"x\": 0}]}}, {\"mode\": \"vega-lite\"});\n",
       "</script>"
      ],
      "text/plain": [
       "alt.LayerChart(...)"
      ]
     },
     "execution_count": 24,
     "metadata": {},
     "output_type": "execute_result"
    }
   ],
   "source": [
    "feature_dict = {'rs': 42, 'nsamples': 32000, 'feature_names': model_features, 'plot_features': plot_feats}\n",
    "feature_data = local_feat(f, pos_x_data, feature_dict, positive_sequence_id, sequence_id_feat, average_event, pruning_idx)\n",
    "feature_plot = plot_feat_barplot(feature_data, feature_dict.get('top_feats'), feature_dict.get('plot_features'))\n",
    "feature_plot"
   ]
  },
  {
   "cell_type": "markdown",
   "id": "51d8f3c6",
   "metadata": {},
   "source": [
    "##### Cell-level explanation"
   ]
  },
  {
   "cell_type": "code",
   "execution_count": 25,
   "id": "3a13c961",
   "metadata": {},
   "outputs": [
    {
     "name": "stdout",
     "output_type": "stream",
     "text": [
      "No path to feature data provided. Calculating data\n"
     ]
    },
    {
     "data": {
      "text/html": [
       "\n",
       "<div id=\"altair-viz-8186452dae944b8cbb01fd8c065e0765\"></div>\n",
       "<script type=\"text/javascript\">\n",
       "  (function(spec, embedOpt){\n",
       "    let outputDiv = document.currentScript.previousElementSibling;\n",
       "    if (outputDiv.id !== \"altair-viz-8186452dae944b8cbb01fd8c065e0765\") {\n",
       "      outputDiv = document.getElementById(\"altair-viz-8186452dae944b8cbb01fd8c065e0765\");\n",
       "    }\n",
       "    const paths = {\n",
       "      \"vega\": \"https://cdn.jsdelivr.net/npm//vega@5?noext\",\n",
       "      \"vega-lib\": \"https://cdn.jsdelivr.net/npm//vega-lib?noext\",\n",
       "      \"vega-lite\": \"https://cdn.jsdelivr.net/npm//vega-lite@4.8.1?noext\",\n",
       "      \"vega-embed\": \"https://cdn.jsdelivr.net/npm//vega-embed@6?noext\",\n",
       "    };\n",
       "\n",
       "    function loadScript(lib) {\n",
       "      return new Promise(function(resolve, reject) {\n",
       "        var s = document.createElement('script');\n",
       "        s.src = paths[lib];\n",
       "        s.async = true;\n",
       "        s.onload = () => resolve(paths[lib]);\n",
       "        s.onerror = () => reject(`Error loading script: ${paths[lib]}`);\n",
       "        document.getElementsByTagName(\"head\")[0].appendChild(s);\n",
       "      });\n",
       "    }\n",
       "\n",
       "    function showError(err) {\n",
       "      outputDiv.innerHTML = `<div class=\"error\" style=\"color:red;\">${err}</div>`;\n",
       "      throw err;\n",
       "    }\n",
       "\n",
       "    function displayChart(vegaEmbed) {\n",
       "      vegaEmbed(outputDiv, spec, embedOpt)\n",
       "        .catch(err => showError(`Javascript Error: ${err.message}<br>This usually means there's a typo in your chart specification. See the javascript console for the full traceback.`));\n",
       "    }\n",
       "\n",
       "    if(typeof define === \"function\" && define.amd) {\n",
       "      requirejs.config({paths});\n",
       "      require([\"vega-embed\"], displayChart, err => showError(`Error loading script: ${err.message}`));\n",
       "    } else if (typeof vegaEmbed === \"function\") {\n",
       "      displayChart(vegaEmbed);\n",
       "    } else {\n",
       "      loadScript(\"vega\")\n",
       "        .then(() => loadScript(\"vega-lite\"))\n",
       "        .then(() => loadScript(\"vega-embed\"))\n",
       "        .catch(showError)\n",
       "        .then(() => displayChart(vegaEmbed));\n",
       "    }\n",
       "  })({\"config\": {\"axis\": {\"domain\": true, \"domainColor\": \"#798184\", \"grid\": false, \"gridColor\": \"#798184\", \"gridOpacity\": 0.5, \"gridDash\": [3, 5], \"gridWidth\": 0.8, \"gridCap\": \"round\", \"labelPadding\": 3, \"labelFont\": \"Roboto\", \"labelColor\": \"#798184\", \"tickSize\": 5, \"tickColor\": \"#798184\", \"tickOpacity\": 0.5, \"titleColor\": \"#384140\", \"titleFont\": \"Roboto\", \"titleFontSize\": 12}, \"axisBand\": {\"domain\": true, \"ticks\": false, \"labelPadding\": 7}, \"axisY\": {\"domain\": false, \"titleAlign\": \"left\", \"titleAngle\": 0, \"titleX\": -20, \"titleY\": -10}, \"legend\": {\"labelColor\": \"#798184\", \"labelFontSize\": 12, \"symbolSize\": 40, \"titleColor\": \"#384140\", \"titleFontSize\": 12, \"titlePadding\": 10, \"titleFont\": \"Roboto\", \"labelFont\": \"Roboto\"}, \"line\": {\"stroke\": \"#618FE0\", \"strokeWidth\": 2}, \"rule\": {\"stroke\": \"#798184\"}, \"path\": {\"stroke\": \"#618FE0\", \"strokeWidth\": 0.5}, \"rect\": {\"fill\": \"#618FE0\"}, \"point\": {\"filled\": true, \"shape\": \"circle\"}, \"shape\": {\"stroke\": \"#618FE0\"}, \"bar\": {\"fill\": \"#618FE0\", \"stroke\": null}, \"text\": {\"font\": \"Roboto\", \"color\": \"#384140\", \"fontSize\": 12}, \"arc\": {\"stroke\": \"#fff\", \"strokeWidth\": 1}, \"range\": {\"category\": [\"#618FE0\", \"#50D0B0\", \"#E17560\", \"#E8B474\", \"#D889C4\", \"#34A3BC\", \"#A583A4\"], \"ramp\": [\"#001854\", \"#002f72\", \"#04478e\", \"#1e5fab\", \"#4477c5\", \"#6290e1\", \"#7ea9fd\", \"#9ec7ff\", \"#bde4ff\"], \"heatmap\": [\"#001854\", \"#002f72\", \"#04478e\", \"#1e5fab\", \"#4477c5\", \"#6290e1\", \"#7ea9fd\", \"#9ec7ff\", \"#bde4ff\"], \"diverging\": [\"#003b26\", \"#006b52\", \"#1aa082\", \"#55d5b5\", \"#f5f5f5\", \"#ffaa92\", \"#d16f5b\", \"#9e392c\", \"#650200\"]}, \"title\": {\"anchor\": \"start\", \"fontSize\": 20, \"color\": \"#384140\", \"fontWeight\": \"bold\", \"offset\": 20, \"font\": \"Roboto\", \"subtitleColor\": \"#384140\", \"subtitleFontSize\": 16}, \"header\": {\"labelFontSize\": 12, \"titleFontSize\": 16, \"labelColor\": \"#384140\", \"titleColor\": \"#384140\", \"titleFont\": \"Roboto\", \"labelFont\": \"Roboto\"}, \"group\": {\"fill\": \"white\"}, \"background\": \"white\", \"view\": {\"stroke\": \"transparent\", \"continuousHeight\": 300, \"continuousWidth\": 400}}, \"hconcat\": [{\"layer\": [{\"mark\": \"rect\", \"encoding\": {\"color\": {\"type\": \"quantitative\", \"field\": \"rounded\", \"legend\": null, \"scale\": {\"domain\": [-0.5, 0.5], \"range\": [\"#5f8fd6\", \"#99c3fb\", \"#f5f5f5\", \"#ffaa92\", \"#d16f5b\"]}, \"title\": null}, \"x\": {\"type\": \"nominal\", \"axis\": {\"titleFontSize\": 15}, \"field\": \"Event\"}, \"y\": {\"type\": \"nominal\", \"axis\": {\"domain\": false, \"labels\": false, \"title\": null}, \"field\": \"Feature\"}}}, {\"mark\": {\"type\": \"text\", \"align\": \"right\", \"baseline\": \"middle\", \"color\": \"#798184\", \"dx\": 18, \"fontSize\": 15}, \"encoding\": {\"text\": {\"type\": \"nominal\", \"field\": \"rounded_str\"}, \"x\": {\"type\": \"nominal\", \"axis\": {\"domain\": false, \"labelAngle\": 0, \"labelFontSize\": 15, \"labelOffset\": 24, \"labelPadding\": 30, \"orient\": \"top\", \"title\": null}, \"field\": \"Event\"}, \"y\": {\"type\": \"nominal\", \"axis\": {\"domain\": false, \"labels\": false, \"title\": null}, \"field\": \"Feature\"}}}], \"data\": {\"name\": \"data-c74a23ff81ed83480c6da2a91dd3f8b3\"}, \"height\": 225, \"width\": 66.66666666666667}, {\"layer\": [{\"mark\": \"rect\", \"encoding\": {\"color\": {\"type\": \"quantitative\", \"field\": \"rounded\", \"legend\": {\"gradientLength\": 225, \"gradientThickness\": 10, \"labelFontSize\": 15, \"orient\": \"right\"}, \"scale\": {\"domain\": [-0.5, 0.5], \"range\": [\"#5f8fd6\", \"#99c3fb\", \"#f5f5f5\", \"#ffaa92\", \"#d16f5b\"]}, \"title\": null}, \"x\": {\"type\": \"nominal\", \"axis\": {\"titleFontSize\": 15}, \"field\": \"Event\", \"sort\": [\"Event -8\", \"Event -7\", \"Event -2\"]}, \"y\": {\"type\": \"nominal\", \"axis\": {\"domain\": false, \"labelFontSize\": 15, \"title\": null}, \"field\": \"Feature\", \"sort\": [\"Mean Chest <-> Left Ankle\", \"STD Chest <-> Left Ankle\", \"STD Right Ankle <-> Left Ankle\"]}}}, {\"mark\": {\"type\": \"text\", \"align\": \"right\", \"baseline\": \"middle\", \"color\": \"#798184\", \"dx\": 18, \"fontSize\": 15}, \"encoding\": {\"text\": {\"type\": \"nominal\", \"field\": \"rounded_str\"}, \"x\": {\"type\": \"nominal\", \"axis\": {\"domain\": false, \"labelAngle\": 30, \"labelFontSize\": 15, \"orient\": \"top\", \"title\": \"Shapley Value\", \"titleX\": 172, \"titleY\": 245}, \"field\": \"Event\", \"sort\": [\"Event -8\", \"Event -7\", \"Event -2\"]}, \"y\": {\"type\": \"nominal\", \"axis\": {\"domain\": false, \"labelFontSize\": 15, \"title\": null}, \"field\": \"Feature\", \"sort\": [\"Mean Chest <-> Left Ankle\", \"STD Chest <-> Left Ankle\", \"STD Right Ankle <-> Left Ankle\"]}}}], \"data\": {\"name\": \"data-eb9d0b5b19c6fb7b78c2699bf9f1177d\"}, \"height\": 225, \"width\": 160}], \"resolve\": {\"scale\": {\"color\": \"independent\"}}, \"$schema\": \"https://vega.github.io/schema/vega-lite/v4.8.1.json\", \"datasets\": {\"data-c74a23ff81ed83480c6da2a91dd3f8b3\": [{\"Event\": [\"Pruned\", \"Events\"], \"Feature\": \"Other features\", \"rounded\": 0.063, \"rounded_str\": \"0.063\"}], \"data-eb9d0b5b19c6fb7b78c2699bf9f1177d\": [{\"Event\": \"Other Events\", \"Feature\": \"STD Chest <-> Left Ankle\", \"Shapley Value\": 0.12485948074617575, \"rounded\": 0.125, \"rounded_str\": \"0.125\"}, {\"Event\": \"Other Events\", \"Feature\": \"STD Right Ankle <-> Left Ankle\", \"Shapley Value\": 0.08312421575534334, \"rounded\": 0.083, \"rounded_str\": \"0.083\"}, {\"Event\": \"Other Events\", \"Feature\": \"Other Features\", \"Shapley Value\": 0.07964671486813452, \"rounded\": 0.08, \"rounded_str\": \"0.080\"}, {\"Event\": \"Other Events\", \"Feature\": \"Mean Chest <-> Left Ankle\", \"Shapley Value\": 0.049778417092882665, \"rounded\": 0.05, \"rounded_str\": \"0.050\"}, {\"Event\": \"Event -2\", \"Feature\": \"STD Chest <-> Left Ankle\", \"Shapley Value\": 0.027668616585012767, \"rounded\": 0.028, \"rounded_str\": \"0.028\"}, {\"Event\": \"Event -8\", \"Feature\": \"STD Chest <-> Left Ankle\", \"Shapley Value\": 0.02650994792923894, \"rounded\": 0.027, \"rounded_str\": \"0.027\"}, {\"Event\": \"Event -7\", \"Feature\": \"STD Chest <-> Left Ankle\", \"Shapley Value\": 0.02270221712015974, \"rounded\": 0.023, \"rounded_str\": \"0.023\"}, {\"Event\": \"Event -2\", \"Feature\": \"Mean Chest <-> Left Ankle\", \"Shapley Value\": 0.005927586369094462, \"rounded\": 0.006, \"rounded_str\": \"0.006\"}, {\"Event\": \"Event -8\", \"Feature\": \"Other Features\", \"Shapley Value\": 0.003482824280225477, \"rounded\": 0.003, \"rounded_str\": \"0.003\"}, {\"Event\": \"Event -8\", \"Feature\": \"Mean Chest <-> Left Ankle\", \"Shapley Value\": 0.003429693372510728, \"rounded\": 0.003, \"rounded_str\": \"0.003\"}, {\"Event\": \"Event -7\", \"Feature\": \"STD Right Ankle <-> Left Ankle\", \"Shapley Value\": 0.0034228909850388956, \"rounded\": 0.003, \"rounded_str\": \"0.003\"}, {\"Event\": \"Event -7\", \"Feature\": \"Other Features\", \"Shapley Value\": 0.0021400116576728023, \"rounded\": 0.002, \"rounded_str\": \"0.002\"}, {\"Event\": \"Event -7\", \"Feature\": \"Mean Chest <-> Left Ankle\", \"Shapley Value\": 0.0015257593457412566, \"rounded\": 0.002, \"rounded_str\": \"0.002\"}, {\"Event\": \"Event -8\", \"Feature\": \"STD Right Ankle <-> Left Ankle\", \"Shapley Value\": 0.0009096375101787513, \"rounded\": 0.001, \"rounded_str\": \"0.001\"}, {\"Event\": \"Event -2\", \"Feature\": \"STD Right Ankle <-> Left Ankle\", \"Shapley Value\": 0.00032556756711082935, \"rounded\": 0.0, \"rounded_str\": \"0.000\"}, {\"Event\": \"Event -2\", \"Feature\": \"Other Features\", \"Shapley Value\": 0.00012081592296567245, \"rounded\": 0.0, \"rounded_str\": \"0.000\"}]}}, {\"mode\": \"vega-lite\"});\n",
       "</script>"
      ],
      "text/plain": [
       "alt.HConcatChart(...)"
      ]
     },
     "execution_count": 25,
     "metadata": {},
     "output_type": "execute_result"
    }
   ],
   "source": [
    "cell_dict = {'rs': 42, 'nsamples': 32000, 'top_x_events': 3, 'top_x_feats': 3}\n",
    "cell_data = local_cell_level(f, pos_x_data, cell_dict, event_data, feature_data, positive_sequence_id, sequence_id_feat, average_event, pruning_idx)\n",
    "feat_names = list(feature_data['Feature'].values)[:-1] # exclude pruned events\n",
    "cell_plot = plot_cell_level(cell_data, feat_names, feature_dict.get('plot_features'))\n",
    "cell_plot"
   ]
  },
  {
   "cell_type": "markdown",
   "id": "37d78212",
   "metadata": {},
   "source": [
    "### Global Plots"
   ]
  },
  {
   "cell_type": "code",
   "execution_count": 26,
   "id": "0b57cf3b",
   "metadata": {},
   "outputs": [],
   "source": [
    "from timeshap.explainer import prune_all, pruning_statistics, event_explain_all, feat_explain_all\n",
    "from timeshap.plot import plot_global_event, plot_global_feat\n",
    "\n",
    "pos_dataset = d_test_normalized[d_test_normalized['label'] == 1]"
   ]
  },
  {
   "cell_type": "markdown",
   "id": "a6925bb1",
   "metadata": {},
   "source": [
    "##### Pruning statistics"
   ]
  },
  {
   "cell_type": "code",
   "execution_count": 27,
   "id": "3f522caf",
   "metadata": {},
   "outputs": [
    {
     "data": {
      "text/html": [
       "<div>\n",
       "<style scoped>\n",
       "    .dataframe tbody tr th:only-of-type {\n",
       "        vertical-align: middle;\n",
       "    }\n",
       "\n",
       "    .dataframe tbody tr th {\n",
       "        vertical-align: top;\n",
       "    }\n",
       "\n",
       "    .dataframe thead th {\n",
       "        text-align: right;\n",
       "    }\n",
       "</style>\n",
       "<table border=\"1\" class=\"dataframe\">\n",
       "  <thead>\n",
       "    <tr style=\"text-align: right;\">\n",
       "      <th></th>\n",
       "      <th>Tolerance</th>\n",
       "      <th>Mean</th>\n",
       "      <th>Std</th>\n",
       "    </tr>\n",
       "  </thead>\n",
       "  <tbody>\n",
       "    <tr>\n",
       "      <th>0</th>\n",
       "      <td>0.05</td>\n",
       "      <td>29.333333</td>\n",
       "      <td>0.57735</td>\n",
       "    </tr>\n",
       "    <tr>\n",
       "      <th>1</th>\n",
       "      <td>0.075</td>\n",
       "      <td>24.333333</td>\n",
       "      <td>0.57735</td>\n",
       "    </tr>\n",
       "    <tr>\n",
       "      <th>2</th>\n",
       "      <td>0.076</td>\n",
       "      <td>24.333333</td>\n",
       "      <td>0.57735</td>\n",
       "    </tr>\n",
       "    <tr>\n",
       "      <th>3</th>\n",
       "      <td>No Pruning</td>\n",
       "      <td>480.000000</td>\n",
       "      <td>0.00000</td>\n",
       "    </tr>\n",
       "  </tbody>\n",
       "</table>\n",
       "</div>"
      ],
      "text/plain": [
       "    Tolerance        Mean      Std\n",
       "0        0.05   29.333333  0.57735\n",
       "1       0.075   24.333333  0.57735\n",
       "2       0.076   24.333333  0.57735\n",
       "3  No Pruning  480.000000  0.00000"
      ]
     },
     "execution_count": 27,
     "metadata": {},
     "output_type": "execute_result"
    }
   ],
   "source": [
    "pruning_dict = {'tol': [0.05, 0.075, 0.076], 'path': 'outputs/prun_all_tf.csv'}\n",
    "prun_indexes = prune_all(f, pos_dataset, sequence_id_feat, average_event, pruning_dict, model_features, time_feat)\n",
    "pruning_stats = pruning_statistics(prun_indexes, pruning_dict.get('tol'), sequence_id_feat)\n",
    "pruning_stats"
   ]
  },
  {
   "cell_type": "markdown",
   "id": "fb518f71",
   "metadata": {},
   "source": [
    "##### Global event-level"
   ]
  },
  {
   "cell_type": "code",
   "execution_count": 28,
   "id": "5669e063",
   "metadata": {},
   "outputs": [
    {
     "data": {
      "text/html": [
       "\n",
       "<div id=\"altair-viz-d2cb6f61b57f499cb8d3f865433b6369\"></div>\n",
       "<script type=\"text/javascript\">\n",
       "  (function(spec, embedOpt){\n",
       "    let outputDiv = document.currentScript.previousElementSibling;\n",
       "    if (outputDiv.id !== \"altair-viz-d2cb6f61b57f499cb8d3f865433b6369\") {\n",
       "      outputDiv = document.getElementById(\"altair-viz-d2cb6f61b57f499cb8d3f865433b6369\");\n",
       "    }\n",
       "    const paths = {\n",
       "      \"vega\": \"https://cdn.jsdelivr.net/npm//vega@5?noext\",\n",
       "      \"vega-lib\": \"https://cdn.jsdelivr.net/npm//vega-lib?noext\",\n",
       "      \"vega-lite\": \"https://cdn.jsdelivr.net/npm//vega-lite@4.8.1?noext\",\n",
       "      \"vega-embed\": \"https://cdn.jsdelivr.net/npm//vega-embed@6?noext\",\n",
       "    };\n",
       "\n",
       "    function loadScript(lib) {\n",
       "      return new Promise(function(resolve, reject) {\n",
       "        var s = document.createElement('script');\n",
       "        s.src = paths[lib];\n",
       "        s.async = true;\n",
       "        s.onload = () => resolve(paths[lib]);\n",
       "        s.onerror = () => reject(`Error loading script: ${paths[lib]}`);\n",
       "        document.getElementsByTagName(\"head\")[0].appendChild(s);\n",
       "      });\n",
       "    }\n",
       "\n",
       "    function showError(err) {\n",
       "      outputDiv.innerHTML = `<div class=\"error\" style=\"color:red;\">${err}</div>`;\n",
       "      throw err;\n",
       "    }\n",
       "\n",
       "    function displayChart(vegaEmbed) {\n",
       "      vegaEmbed(outputDiv, spec, embedOpt)\n",
       "        .catch(err => showError(`Javascript Error: ${err.message}<br>This usually means there's a typo in your chart specification. See the javascript console for the full traceback.`));\n",
       "    }\n",
       "\n",
       "    if(typeof define === \"function\" && define.amd) {\n",
       "      requirejs.config({paths});\n",
       "      require([\"vega-embed\"], displayChart, err => showError(`Error loading script: ${err.message}`));\n",
       "    } else if (typeof vegaEmbed === \"function\") {\n",
       "      displayChart(vegaEmbed);\n",
       "    } else {\n",
       "      loadScript(\"vega\")\n",
       "        .then(() => loadScript(\"vega-lite\"))\n",
       "        .then(() => loadScript(\"vega-embed\"))\n",
       "        .catch(showError)\n",
       "        .then(() => displayChart(vegaEmbed));\n",
       "    }\n",
       "  })({\"config\": {\"axis\": {\"domain\": true, \"domainColor\": \"#798184\", \"grid\": false, \"gridColor\": \"#798184\", \"gridOpacity\": 0.5, \"gridDash\": [3, 5], \"gridWidth\": 0.8, \"gridCap\": \"round\", \"labelPadding\": 3, \"labelFont\": \"Roboto\", \"labelColor\": \"#798184\", \"tickSize\": 5, \"tickColor\": \"#798184\", \"tickOpacity\": 0.5, \"titleColor\": \"#384140\", \"titleFont\": \"Roboto\", \"titleFontSize\": 12}, \"axisBand\": {\"domain\": true, \"ticks\": false, \"labelPadding\": 7}, \"axisY\": {\"domain\": false, \"titleAlign\": \"left\", \"titleAngle\": 0, \"titleX\": -20, \"titleY\": -10}, \"legend\": {\"labelColor\": \"#798184\", \"labelFontSize\": 12, \"symbolSize\": 40, \"titleColor\": \"#384140\", \"titleFontSize\": 12, \"titlePadding\": 10, \"titleFont\": \"Roboto\", \"labelFont\": \"Roboto\"}, \"line\": {\"stroke\": \"#618FE0\", \"strokeWidth\": 2}, \"rule\": {\"stroke\": \"#798184\"}, \"path\": {\"stroke\": \"#618FE0\", \"strokeWidth\": 0.5}, \"rect\": {\"fill\": \"#618FE0\"}, \"point\": {\"filled\": true, \"shape\": \"circle\"}, \"shape\": {\"stroke\": \"#618FE0\"}, \"bar\": {\"fill\": \"#618FE0\", \"stroke\": null}, \"text\": {\"font\": \"Roboto\", \"color\": \"#384140\", \"fontSize\": 12}, \"arc\": {\"stroke\": \"#fff\", \"strokeWidth\": 1}, \"range\": {\"category\": [\"#618FE0\", \"#50D0B0\", \"#E17560\", \"#E8B474\", \"#D889C4\", \"#34A3BC\", \"#A583A4\"], \"ramp\": [\"#001854\", \"#002f72\", \"#04478e\", \"#1e5fab\", \"#4477c5\", \"#6290e1\", \"#7ea9fd\", \"#9ec7ff\", \"#bde4ff\"], \"heatmap\": [\"#001854\", \"#002f72\", \"#04478e\", \"#1e5fab\", \"#4477c5\", \"#6290e1\", \"#7ea9fd\", \"#9ec7ff\", \"#bde4ff\"], \"diverging\": [\"#003b26\", \"#006b52\", \"#1aa082\", \"#55d5b5\", \"#f5f5f5\", \"#ffaa92\", \"#d16f5b\", \"#9e392c\", \"#650200\"]}, \"title\": {\"anchor\": \"start\", \"fontSize\": 20, \"color\": \"#384140\", \"fontWeight\": \"bold\", \"offset\": 20, \"font\": \"Roboto\", \"subtitleColor\": \"#384140\", \"subtitleFontSize\": 16}, \"header\": {\"labelFontSize\": 12, \"titleFontSize\": 16, \"labelColor\": \"#384140\", \"titleColor\": \"#384140\", \"titleFont\": \"Roboto\", \"labelFont\": \"Roboto\"}, \"group\": {\"fill\": \"white\"}, \"background\": \"white\", \"view\": {\"stroke\": \"transparent\", \"continuousHeight\": 300, \"continuousWidth\": 400}}, \"data\": {\"name\": \"data-7b41b10d3d5671b254e344b2dd42d91f\"}, \"mark\": {\"type\": \"point\", \"stroke\": \"white\", \"strokeWidth\": 0.6}, \"encoding\": {\"color\": {\"type\": \"nominal\", \"field\": \"type\", \"legend\": {\"fillColor\": \"white\", \"orient\": \"top-left\", \"symbolSize\": 50, \"symbolStrokeWidth\": 0, \"title\": null}, \"scale\": {\"domain\": [\"Shapley Value\", \"Mean\"], \"range\": [\"#48caaa\", \"#d76d58\"]}}, \"opacity\": {\"condition\": {\"value\": 1.0, \"test\": \"(datum.type === 'Mean')\"}, \"value\": 0.2}, \"size\": {\"condition\": {\"value\": 70, \"test\": \"(datum.type === 'Mean')\"}, \"value\": 30}, \"x\": {\"type\": \"ordinal\", \"axis\": {\"labelAngle\": 0}, \"field\": \"t (event index)\"}, \"y\": {\"type\": \"quantitative\", \"axis\": {\"grid\": true, \"titleX\": -23}, \"field\": \"Shapley Value\", \"scale\": {\"domain\": [-0.3, 0.9]}, \"title\": \"Shapley Value\"}}, \"height\": 150, \"width\": 360, \"$schema\": \"https://vega.github.io/schema/vega-lite/v4.8.1.json\", \"datasets\": {\"data-7b41b10d3d5671b254e344b2dd42d91f\": [{\"Shapley Value\": 0.0292145650527625, \"t (event index)\": 0, \"type\": \"Shapley Value\"}, {\"Shapley Value\": 0.0341674287252338, \"t (event index)\": -1, \"type\": \"Shapley Value\"}, {\"Shapley Value\": 0.0030521673404118, \"t (event index)\": -2, \"type\": \"Shapley Value\"}, {\"Shapley Value\": 0.0111450306130633, \"t (event index)\": -3, \"type\": \"Shapley Value\"}, {\"Shapley Value\": 0.0222156201757244, \"t (event index)\": -4, \"type\": \"Shapley Value\"}, {\"Shapley Value\": 0.0059408559115731, \"t (event index)\": -5, \"type\": \"Shapley Value\"}, {\"Shapley Value\": 0.0319204822347259, \"t (event index)\": -6, \"type\": \"Shapley Value\"}, {\"Shapley Value\": 0.0344127237284004, \"t (event index)\": -7, \"type\": \"Shapley Value\"}, {\"Shapley Value\": 0.0134804711724194, \"t (event index)\": -8, \"type\": \"Shapley Value\"}, {\"Shapley Value\": 0.0145541864384688, \"t (event index)\": -9, \"type\": \"Shapley Value\"}, {\"Shapley Value\": 0.0200135053582851, \"t (event index)\": -10, \"type\": \"Shapley Value\"}, {\"Shapley Value\": 0.0055131307191169, \"t (event index)\": -11, \"type\": \"Shapley Value\"}, {\"Shapley Value\": 0.0167136581088564, \"t (event index)\": -12, \"type\": \"Shapley Value\"}, {\"Shapley Value\": 0.0138698136706029, \"t (event index)\": -13, \"type\": \"Shapley Value\"}, {\"Shapley Value\": 0.0128675898470111, \"t (event index)\": -14, \"type\": \"Shapley Value\"}, {\"Shapley Value\": 0.0155401218973595, \"t (event index)\": -15, \"type\": \"Shapley Value\"}, {\"Shapley Value\": 0.0057130277390471, \"t (event index)\": -16, \"type\": \"Shapley Value\"}, {\"Shapley Value\": 0.006947131005799, \"t (event index)\": -17, \"type\": \"Shapley Value\"}, {\"Shapley Value\": 0.0090283805564169, \"t (event index)\": -18, \"type\": \"Shapley Value\"}, {\"Shapley Value\": 0.0128097898162188, \"t (event index)\": -19, \"type\": \"Shapley Value\"}, {\"Shapley Value\": 0.0065844538745223, \"t (event index)\": -20, \"type\": \"Shapley Value\"}, {\"Shapley Value\": 0.0298709792123483, \"t (event index)\": 0, \"type\": \"Shapley Value\"}, {\"Shapley Value\": 0.0375119884352797, \"t (event index)\": -1, \"type\": \"Shapley Value\"}, {\"Shapley Value\": 0.0028018446829618, \"t (event index)\": -2, \"type\": \"Shapley Value\"}, {\"Shapley Value\": 0.0120554262605493, \"t (event index)\": -3, \"type\": \"Shapley Value\"}, {\"Shapley Value\": 0.0247178163659821, \"t (event index)\": -4, \"type\": \"Shapley Value\"}, {\"Shapley Value\": 0.0068409400693225, \"t (event index)\": -5, \"type\": \"Shapley Value\"}, {\"Shapley Value\": 0.0315082316743128, \"t (event index)\": -6, \"type\": \"Shapley Value\"}, {\"Shapley Value\": 0.0364755694806077, \"t (event index)\": -7, \"type\": \"Shapley Value\"}, {\"Shapley Value\": 0.016022893351872, \"t (event index)\": -8, \"type\": \"Shapley Value\"}, {\"Shapley Value\": 0.0157940539957888, \"t (event index)\": -9, \"type\": \"Shapley Value\"}, {\"Shapley Value\": 0.0215280994826675, \"t (event index)\": -10, \"type\": \"Shapley Value\"}, {\"Shapley Value\": 0.0044493615719677, \"t (event index)\": -11, \"type\": \"Shapley Value\"}, {\"Shapley Value\": 0.0170202946829723, \"t (event index)\": -12, \"type\": \"Shapley Value\"}, {\"Shapley Value\": 0.0146653793818368, \"t (event index)\": -13, \"type\": \"Shapley Value\"}, {\"Shapley Value\": 0.0134541053881431, \"t (event index)\": -14, \"type\": \"Shapley Value\"}, {\"Shapley Value\": 0.018484909701291, \"t (event index)\": -15, \"type\": \"Shapley Value\"}, {\"Shapley Value\": 0.0057507528537085, \"t (event index)\": -16, \"type\": \"Shapley Value\"}, {\"Shapley Value\": 0.0073154105286724, \"t (event index)\": -17, \"type\": \"Shapley Value\"}, {\"Shapley Value\": 0.0107748167077513, \"t (event index)\": -18, \"type\": \"Shapley Value\"}, {\"Shapley Value\": 0.013463341930719, \"t (event index)\": -19, \"type\": \"Shapley Value\"}, {\"Shapley Value\": 0.0076837852599767, \"t (event index)\": -20, \"type\": \"Shapley Value\"}, {\"Shapley Value\": 0.028767912667409, \"t (event index)\": 0, \"type\": \"Shapley Value\"}, {\"Shapley Value\": 0.0369532293969709, \"t (event index)\": -1, \"type\": \"Shapley Value\"}, {\"Shapley Value\": 0.0033120426532128, \"t (event index)\": -2, \"type\": \"Shapley Value\"}, {\"Shapley Value\": 0.0116608360837587, \"t (event index)\": -3, \"type\": \"Shapley Value\"}, {\"Shapley Value\": 0.0248325994691671, \"t (event index)\": -4, \"type\": \"Shapley Value\"}, {\"Shapley Value\": 0.0067450970022099, \"t (event index)\": -5, \"type\": \"Shapley Value\"}, {\"Shapley Value\": 0.0313121714557264, \"t (event index)\": -6, \"type\": \"Shapley Value\"}, {\"Shapley Value\": 0.0366846006123355, \"t (event index)\": -7, \"type\": \"Shapley Value\"}, {\"Shapley Value\": 0.0151913722493114, \"t (event index)\": -8, \"type\": \"Shapley Value\"}, {\"Shapley Value\": 0.0150118806733764, \"t (event index)\": -9, \"type\": \"Shapley Value\"}, {\"Shapley Value\": 0.0197935605890325, \"t (event index)\": -10, \"type\": \"Shapley Value\"}, {\"Shapley Value\": 0.0062203895514266, \"t (event index)\": -11, \"type\": \"Shapley Value\"}, {\"Shapley Value\": 0.0171936526063647, \"t (event index)\": -12, \"type\": \"Shapley Value\"}, {\"Shapley Value\": 0.0142493707267827, \"t (event index)\": -13, \"type\": \"Shapley Value\"}, {\"Shapley Value\": 0.0134220906105091, \"t (event index)\": -14, \"type\": \"Shapley Value\"}, {\"Shapley Value\": 0.0176403110977881, \"t (event index)\": -15, \"type\": \"Shapley Value\"}, {\"Shapley Value\": 0.0055932865359846, \"t (event index)\": -16, \"type\": \"Shapley Value\"}, {\"Shapley Value\": 0.0071683642235332, \"t (event index)\": -17, \"type\": \"Shapley Value\"}, {\"Shapley Value\": 0.0107440309903927, \"t (event index)\": -18, \"type\": \"Shapley Value\"}, {\"Shapley Value\": 0.0126187195943243, \"t (event index)\": -19, \"type\": \"Shapley Value\"}, {\"Shapley Value\": 0.007522773896675, \"t (event index)\": -20, \"type\": \"Shapley Value\"}, {\"Shapley Value\": 0.0137865294354093, \"t (event index)\": 0, \"type\": \"Shapley Value\"}, {\"Shapley Value\": 0.0, \"t (event index)\": -1, \"type\": \"Shapley Value\"}, {\"Shapley Value\": 0.0077723006885186, \"t (event index)\": -2, \"type\": \"Shapley Value\"}, {\"Shapley Value\": 0.0176965618368094, \"t (event index)\": -3, \"type\": \"Shapley Value\"}, {\"Shapley Value\": 0.0146588850673186, \"t (event index)\": -4, \"type\": \"Shapley Value\"}, {\"Shapley Value\": 0.0105306659237498, \"t (event index)\": -5, \"type\": \"Shapley Value\"}, {\"Shapley Value\": 0.0152740740506848, \"t (event index)\": -6, \"type\": \"Shapley Value\"}, {\"Shapley Value\": 0.0226829855655399, \"t (event index)\": -7, \"type\": \"Shapley Value\"}, {\"Shapley Value\": 0.0254418564151973, \"t (event index)\": -8, \"type\": \"Shapley Value\"}, {\"Shapley Value\": 0.0197783098363988, \"t (event index)\": -9, \"type\": \"Shapley Value\"}, {\"Shapley Value\": 0.0087712998924867, \"t (event index)\": -10, \"type\": \"Shapley Value\"}, {\"Shapley Value\": 0.0043880459247041, \"t (event index)\": -11, \"type\": \"Shapley Value\"}, {\"Shapley Value\": 0.0162932522593564, \"t (event index)\": -12, \"type\": \"Shapley Value\"}, {\"Shapley Value\": 0.00739469389012, \"t (event index)\": -13, \"type\": \"Shapley Value\"}, {\"Shapley Value\": 0.0140171378613002, \"t (event index)\": -14, \"type\": \"Shapley Value\"}, {\"Shapley Value\": 0.0057320893010497, \"t (event index)\": -15, \"type\": \"Shapley Value\"}, {\"Shapley Value\": 0.0045181145950496, \"t (event index)\": -16, \"type\": \"Shapley Value\"}, {\"Shapley Value\": 0.0116056303312444, \"t (event index)\": -17, \"type\": \"Shapley Value\"}, {\"Shapley Value\": 0.0069283313947167, \"t (event index)\": -18, \"type\": \"Shapley Value\"}, {\"Shapley Value\": 0.0129342804071141, \"t (event index)\": -19, \"type\": \"Shapley Value\"}, {\"Shapley Value\": 0.0118341761361089, \"t (event index)\": -20, \"type\": \"Shapley Value\"}, {\"Shapley Value\": 0.0153226319348231, \"t (event index)\": 0, \"type\": \"Shapley Value\"}, {\"Shapley Value\": 0.0018337732849027, \"t (event index)\": -1, \"type\": \"Shapley Value\"}, {\"Shapley Value\": 0.0105252671606432, \"t (event index)\": -2, \"type\": \"Shapley Value\"}, {\"Shapley Value\": 0.0194084795367802, \"t (event index)\": -3, \"type\": \"Shapley Value\"}, {\"Shapley Value\": 0.016693162615054, \"t (event index)\": -4, \"type\": \"Shapley Value\"}, {\"Shapley Value\": 0.0110011560583551, \"t (event index)\": -5, \"type\": \"Shapley Value\"}, {\"Shapley Value\": 0.0160829233549325, \"t (event index)\": -6, \"type\": \"Shapley Value\"}, {\"Shapley Value\": 0.0262276294658554, \"t (event index)\": -7, \"type\": \"Shapley Value\"}, {\"Shapley Value\": 0.0289379744089947, \"t (event index)\": -8, \"type\": \"Shapley Value\"}, {\"Shapley Value\": 0.0208013761928722, \"t (event index)\": -9, \"type\": \"Shapley Value\"}, {\"Shapley Value\": 0.0097935215824953, \"t (event index)\": -10, \"type\": \"Shapley Value\"}, {\"Shapley Value\": 0.0047155973365212, \"t (event index)\": -11, \"type\": \"Shapley Value\"}, {\"Shapley Value\": 0.0184329653976073, \"t (event index)\": -12, \"type\": \"Shapley Value\"}, {\"Shapley Value\": 0.0084822595822363, \"t (event index)\": -13, \"type\": \"Shapley Value\"}, {\"Shapley Value\": 0.0145434070160389, \"t (event index)\": -14, \"type\": \"Shapley Value\"}, {\"Shapley Value\": 0.007972642089373, \"t (event index)\": -15, \"type\": \"Shapley Value\"}, {\"Shapley Value\": 0.0037864036202971, \"t (event index)\": -16, \"type\": \"Shapley Value\"}, {\"Shapley Value\": 0.0122322859673137, \"t (event index)\": -17, \"type\": \"Shapley Value\"}, {\"Shapley Value\": 0.0085021155944214, \"t (event index)\": -18, \"type\": \"Shapley Value\"}, {\"Shapley Value\": 0.014252022915029, \"t (event index)\": -19, \"type\": \"Shapley Value\"}, {\"Shapley Value\": 0.0138171806205352, \"t (event index)\": -20, \"type\": \"Shapley Value\"}, {\"Shapley Value\": 0.0150104753649192, \"t (event index)\": 0, \"type\": \"Shapley Value\"}, {\"Shapley Value\": 0.002516598203689, \"t (event index)\": -1, \"type\": \"Shapley Value\"}, {\"Shapley Value\": 0.0119255941974603, \"t (event index)\": -2, \"type\": \"Shapley Value\"}, {\"Shapley Value\": 0.0202703106536196, \"t (event index)\": -3, \"type\": \"Shapley Value\"}, {\"Shapley Value\": 0.0167149639447415, \"t (event index)\": -4, \"type\": \"Shapley Value\"}, {\"Shapley Value\": 0.011219702556412, \"t (event index)\": -5, \"type\": \"Shapley Value\"}, {\"Shapley Value\": 0.01650408232784, \"t (event index)\": -6, \"type\": \"Shapley Value\"}, {\"Shapley Value\": 0.0272374871606484, \"t (event index)\": -7, \"type\": \"Shapley Value\"}, {\"Shapley Value\": 0.0292882411368567, \"t (event index)\": -8, \"type\": \"Shapley Value\"}, {\"Shapley Value\": 0.0208438396316115, \"t (event index)\": -9, \"type\": \"Shapley Value\"}, {\"Shapley Value\": 0.0088356297639301, \"t (event index)\": -10, \"type\": \"Shapley Value\"}, {\"Shapley Value\": 0.00514361276582, \"t (event index)\": -11, \"type\": \"Shapley Value\"}, {\"Shapley Value\": 0.0192157258681013, \"t (event index)\": -12, \"type\": \"Shapley Value\"}, {\"Shapley Value\": 0.0083230630769669, \"t (event index)\": -13, \"type\": \"Shapley Value\"}, {\"Shapley Value\": 0.0150333612795474, \"t (event index)\": -14, \"type\": \"Shapley Value\"}, {\"Shapley Value\": 0.00725801541616, \"t (event index)\": -15, \"type\": \"Shapley Value\"}, {\"Shapley Value\": 0.0037295467673173, \"t (event index)\": -16, \"type\": \"Shapley Value\"}, {\"Shapley Value\": 0.0117351427312624, \"t (event index)\": -17, \"type\": \"Shapley Value\"}, {\"Shapley Value\": 0.0084898409354742, \"t (event index)\": -18, \"type\": \"Shapley Value\"}, {\"Shapley Value\": 0.0136663865770804, \"t (event index)\": -19, \"type\": \"Shapley Value\"}, {\"Shapley Value\": 0.0130073126964292, \"t (event index)\": -20, \"type\": \"Shapley Value\"}, {\"Shapley Value\": 0.000385643477069, \"t (event index)\": 0, \"type\": \"Shapley Value\"}, {\"Shapley Value\": 0.0010464394386427, \"t (event index)\": -1, \"type\": \"Shapley Value\"}, {\"Shapley Value\": 0.0087545844330501, \"t (event index)\": -2, \"type\": \"Shapley Value\"}, {\"Shapley Value\": 0.0182391321917611, \"t (event index)\": -3, \"type\": \"Shapley Value\"}, {\"Shapley Value\": 0.0304143698805509, \"t (event index)\": -4, \"type\": \"Shapley Value\"}, {\"Shapley Value\": 0.0139216621478948, \"t (event index)\": -5, \"type\": \"Shapley Value\"}, {\"Shapley Value\": 0.0090620313141344, \"t (event index)\": -6, \"type\": \"Shapley Value\"}, {\"Shapley Value\": 0.0216981203662252, \"t (event index)\": -7, \"type\": \"Shapley Value\"}, {\"Shapley Value\": 0.0142090504503552, \"t (event index)\": -8, \"type\": \"Shapley Value\"}, {\"Shapley Value\": 0.0107427172769508, \"t (event index)\": -9, \"type\": \"Shapley Value\"}, {\"Shapley Value\": 0.0050341966492018, \"t (event index)\": -10, \"type\": \"Shapley Value\"}, {\"Shapley Value\": 0.0163203508329684, \"t (event index)\": -11, \"type\": \"Shapley Value\"}, {\"Shapley Value\": 0.0106827322213613, \"t (event index)\": -12, \"type\": \"Shapley Value\"}, {\"Shapley Value\": 0.0047218376216515, \"t (event index)\": -13, \"type\": \"Shapley Value\"}, {\"Shapley Value\": 0.0144621844685122, \"t (event index)\": -14, \"type\": \"Shapley Value\"}, {\"Shapley Value\": 0.0112832962960041, \"t (event index)\": -15, \"type\": \"Shapley Value\"}, {\"Shapley Value\": 0.0018092443811288, \"t (event index)\": -16, \"type\": \"Shapley Value\"}, {\"Shapley Value\": 0.010601562406891, \"t (event index)\": -17, \"type\": \"Shapley Value\"}, {\"Shapley Value\": 0.0124657624161552, \"t (event index)\": -18, \"type\": \"Shapley Value\"}, {\"Shapley Value\": 0.0036868721950641, \"t (event index)\": -19, \"type\": \"Shapley Value\"}, {\"Shapley Value\": 0.0001097772902815, \"t (event index)\": -20, \"type\": \"Shapley Value\"}, {\"Shapley Value\": 0.0043677480748264, \"t (event index)\": 0, \"type\": \"Shapley Value\"}, {\"Shapley Value\": 0.0035535449900454, \"t (event index)\": -1, \"type\": \"Shapley Value\"}, {\"Shapley Value\": 0.0119614845625821, \"t (event index)\": -2, \"type\": \"Shapley Value\"}, {\"Shapley Value\": 0.0187839662424865, \"t (event index)\": -3, \"type\": \"Shapley Value\"}, {\"Shapley Value\": 0.0319939763218755, \"t (event index)\": -4, \"type\": \"Shapley Value\"}, {\"Shapley Value\": 0.0161740964744747, \"t (event index)\": -5, \"type\": \"Shapley Value\"}, {\"Shapley Value\": 0.0096494301661538, \"t (event index)\": -6, \"type\": \"Shapley Value\"}, {\"Shapley Value\": 0.0240735914459007, \"t (event index)\": -7, \"type\": \"Shapley Value\"}, {\"Shapley Value\": 0.0163350999328817, \"t (event index)\": -8, \"type\": \"Shapley Value\"}, {\"Shapley Value\": 0.0117451227148282, \"t (event index)\": -9, \"type\": \"Shapley Value\"}, {\"Shapley Value\": 0.004170874734161, \"t (event index)\": -10, \"type\": \"Shapley Value\"}, {\"Shapley Value\": 0.0172158201028679, \"t (event index)\": -11, \"type\": \"Shapley Value\"}, {\"Shapley Value\": 0.0114532521300002, \"t (event index)\": -12, \"type\": \"Shapley Value\"}, {\"Shapley Value\": 0.0065799799746007, \"t (event index)\": -13, \"type\": \"Shapley Value\"}, {\"Shapley Value\": 0.0149623713188902, \"t (event index)\": -14, \"type\": \"Shapley Value\"}, {\"Shapley Value\": 0.0129459892910585, \"t (event index)\": -15, \"type\": \"Shapley Value\"}, {\"Shapley Value\": 0.0011507137095837, \"t (event index)\": -16, \"type\": \"Shapley Value\"}, {\"Shapley Value\": 0.0115381425301445, \"t (event index)\": -17, \"type\": \"Shapley Value\"}, {\"Shapley Value\": 0.0132413825219794, \"t (event index)\": -18, \"type\": \"Shapley Value\"}, {\"Shapley Value\": 0.0036727671497154, \"t (event index)\": -19, \"type\": \"Shapley Value\"}, {\"Shapley Value\": 0.0014805669363096, \"t (event index)\": -20, \"type\": \"Shapley Value\"}, {\"Shapley Value\": 0.0043439420564053, \"t (event index)\": 0, \"type\": \"Shapley Value\"}, {\"Shapley Value\": 0.0042158467918513, \"t (event index)\": -1, \"type\": \"Shapley Value\"}, {\"Shapley Value\": 0.0129305430285181, \"t (event index)\": -2, \"type\": \"Shapley Value\"}, {\"Shapley Value\": 0.0186568912716323, \"t (event index)\": -3, \"type\": \"Shapley Value\"}, {\"Shapley Value\": 0.0321437057631317, \"t (event index)\": -4, \"type\": \"Shapley Value\"}, {\"Shapley Value\": 0.016455765939797, \"t (event index)\": -5, \"type\": \"Shapley Value\"}, {\"Shapley Value\": 0.009827829873697, \"t (event index)\": -6, \"type\": \"Shapley Value\"}, {\"Shapley Value\": 0.0244046808165498, \"t (event index)\": -7, \"type\": \"Shapley Value\"}, {\"Shapley Value\": 0.0165947744432001, \"t (event index)\": -8, \"type\": \"Shapley Value\"}, {\"Shapley Value\": 0.0110533843169441, \"t (event index)\": -9, \"type\": \"Shapley Value\"}, {\"Shapley Value\": 0.0039414610131978, \"t (event index)\": -10, \"type\": \"Shapley Value\"}, {\"Shapley Value\": 0.0164558766834205, \"t (event index)\": -11, \"type\": \"Shapley Value\"}, {\"Shapley Value\": 0.0120620486087528, \"t (event index)\": -12, \"type\": \"Shapley Value\"}, {\"Shapley Value\": 0.0049790706952208, \"t (event index)\": -13, \"type\": \"Shapley Value\"}, {\"Shapley Value\": 0.0149409081019515, \"t (event index)\": -14, \"type\": \"Shapley Value\"}, {\"Shapley Value\": 0.0119574287075346, \"t (event index)\": -15, \"type\": \"Shapley Value\"}, {\"Shapley Value\": 0.0010740267258381, \"t (event index)\": -16, \"type\": \"Shapley Value\"}, {\"Shapley Value\": 0.0109385090542207, \"t (event index)\": -17, \"type\": \"Shapley Value\"}, {\"Shapley Value\": 0.0126098317759422, \"t (event index)\": -18, \"type\": \"Shapley Value\"}, {\"Shapley Value\": 0.0028486961722709, \"t (event index)\": -19, \"type\": \"Shapley Value\"}, {\"Shapley Value\": 0.0010684629362502, \"t (event index)\": -20, \"type\": \"Shapley Value\"}, {\"Shapley Value\": 0.007012054405232066, \"t (event index)\": -20, \"type\": \"Mean\"}, {\"Shapley Value\": 0.009994764084170667, \"t (event index)\": -19, \"type\": \"Mean\"}, {\"Shapley Value\": 0.01030938809925, \"t (event index)\": -18, \"type\": \"Mean\"}, {\"Shapley Value\": 0.010009130975453478, \"t (event index)\": -17, \"type\": \"Mean\"}, {\"Shapley Value\": 0.003680568547550533, \"t (event index)\": -16, \"type\": \"Mean\"}, {\"Shapley Value\": 0.012090533755290945, \"t (event index)\": -15, \"type\": \"Mean\"}, {\"Shapley Value\": 0.014189239543544856, \"t (event index)\": -14, \"type\": \"Mean\"}, {\"Shapley Value\": 0.009251718735557623, \"t (event index)\": -13, \"type\": \"Mean\"}, {\"Shapley Value\": 0.015451953542596967, \"t (event index)\": -12, \"type\": \"Mean\"}, {\"Shapley Value\": 0.008935798387645922, \"t (event index)\": -11, \"type\": \"Mean\"}, {\"Shapley Value\": 0.011320238785050868, \"t (event index)\": -10, \"type\": \"Mean\"}, {\"Shapley Value\": 0.01559165234191551, \"t (event index)\": -9, \"type\": \"Mean\"}, {\"Shapley Value\": 0.01950019261789872, \"t (event index)\": -8, \"type\": \"Mean\"}, {\"Shapley Value\": 0.028210820960229224, \"t (event index)\": -7, \"type\": \"Mean\"}, {\"Shapley Value\": 0.0190156951613564, \"t (event index)\": -6, \"type\": \"Mean\"}, {\"Shapley Value\": 0.010981104675976544, \"t (event index)\": -5, \"type\": \"Mean\"}, {\"Shapley Value\": 0.0238205666226162, \"t (event index)\": -4, \"type\": \"Mean\"}, {\"Shapley Value\": 0.01643518163227338, \"t (event index)\": -3, \"type\": \"Mean\"}, {\"Shapley Value\": 0.008115092083039866, \"t (event index)\": -2, \"type\": \"Mean\"}, {\"Shapley Value\": 0.013533205474068388, \"t (event index)\": -1, \"type\": \"Mean\"}, {\"Shapley Value\": 0.015674491919552457, \"t (event index)\": 0, \"type\": \"Mean\"}]}}, {\"mode\": \"vega-lite\"});\n",
       "</script>"
      ],
      "text/plain": [
       "alt.Chart(...)"
      ]
     },
     "execution_count": 28,
     "metadata": {},
     "output_type": "execute_result"
    }
   ],
   "source": [
    "event_dict = {'path': 'outputs/event_all_tf.csv', 'rs': 42, 'nsamples': 32000}\n",
    "event_data = event_explain_all(f, pos_dataset, sequence_id_feat, average_event, event_dict, prun_indexes, model_features, time_feat)\n",
    "event_global_plot = plot_global_event(event_data)\n",
    "event_global_plot"
   ]
  },
  {
   "cell_type": "markdown",
   "id": "03ee433c",
   "metadata": {},
   "source": [
    "##### Global feature-level"
   ]
  },
  {
   "cell_type": "code",
   "execution_count": 29,
   "id": "c0564654",
   "metadata": {},
   "outputs": [
    {
     "data": {
      "text/html": [
       "\n",
       "<div id=\"altair-viz-172a31bb1e0642c2889e50d7d9384d55\"></div>\n",
       "<script type=\"text/javascript\">\n",
       "  (function(spec, embedOpt){\n",
       "    let outputDiv = document.currentScript.previousElementSibling;\n",
       "    if (outputDiv.id !== \"altair-viz-172a31bb1e0642c2889e50d7d9384d55\") {\n",
       "      outputDiv = document.getElementById(\"altair-viz-172a31bb1e0642c2889e50d7d9384d55\");\n",
       "    }\n",
       "    const paths = {\n",
       "      \"vega\": \"https://cdn.jsdelivr.net/npm//vega@5?noext\",\n",
       "      \"vega-lib\": \"https://cdn.jsdelivr.net/npm//vega-lib?noext\",\n",
       "      \"vega-lite\": \"https://cdn.jsdelivr.net/npm//vega-lite@4.8.1?noext\",\n",
       "      \"vega-embed\": \"https://cdn.jsdelivr.net/npm//vega-embed@6?noext\",\n",
       "    };\n",
       "\n",
       "    function loadScript(lib) {\n",
       "      return new Promise(function(resolve, reject) {\n",
       "        var s = document.createElement('script');\n",
       "        s.src = paths[lib];\n",
       "        s.async = true;\n",
       "        s.onload = () => resolve(paths[lib]);\n",
       "        s.onerror = () => reject(`Error loading script: ${paths[lib]}`);\n",
       "        document.getElementsByTagName(\"head\")[0].appendChild(s);\n",
       "      });\n",
       "    }\n",
       "\n",
       "    function showError(err) {\n",
       "      outputDiv.innerHTML = `<div class=\"error\" style=\"color:red;\">${err}</div>`;\n",
       "      throw err;\n",
       "    }\n",
       "\n",
       "    function displayChart(vegaEmbed) {\n",
       "      vegaEmbed(outputDiv, spec, embedOpt)\n",
       "        .catch(err => showError(`Javascript Error: ${err.message}<br>This usually means there's a typo in your chart specification. See the javascript console for the full traceback.`));\n",
       "    }\n",
       "\n",
       "    if(typeof define === \"function\" && define.amd) {\n",
       "      requirejs.config({paths});\n",
       "      require([\"vega-embed\"], displayChart, err => showError(`Error loading script: ${err.message}`));\n",
       "    } else if (typeof vegaEmbed === \"function\") {\n",
       "      displayChart(vegaEmbed);\n",
       "    } else {\n",
       "      loadScript(\"vega\")\n",
       "        .then(() => loadScript(\"vega-lite\"))\n",
       "        .then(() => loadScript(\"vega-embed\"))\n",
       "        .catch(showError)\n",
       "        .then(() => displayChart(vegaEmbed));\n",
       "    }\n",
       "  })({\"config\": {\"axis\": {\"domain\": true, \"domainColor\": \"#798184\", \"grid\": false, \"gridColor\": \"#798184\", \"gridOpacity\": 0.5, \"gridDash\": [3, 5], \"gridWidth\": 0.8, \"gridCap\": \"round\", \"labelPadding\": 3, \"labelFont\": \"Roboto\", \"labelColor\": \"#798184\", \"tickSize\": 5, \"tickColor\": \"#798184\", \"tickOpacity\": 0.5, \"titleColor\": \"#384140\", \"titleFont\": \"Roboto\", \"titleFontSize\": 12}, \"axisBand\": {\"domain\": true, \"ticks\": false, \"labelPadding\": 7}, \"axisY\": {\"domain\": false, \"titleAlign\": \"left\", \"titleAngle\": 0, \"titleX\": -20, \"titleY\": -10}, \"legend\": {\"labelColor\": \"#798184\", \"labelFontSize\": 12, \"symbolSize\": 40, \"titleColor\": \"#384140\", \"titleFontSize\": 12, \"titlePadding\": 10, \"titleFont\": \"Roboto\", \"labelFont\": \"Roboto\"}, \"line\": {\"stroke\": \"#618FE0\", \"strokeWidth\": 2}, \"rule\": {\"stroke\": \"#798184\"}, \"path\": {\"stroke\": \"#618FE0\", \"strokeWidth\": 0.5}, \"rect\": {\"fill\": \"#618FE0\"}, \"point\": {\"filled\": true, \"shape\": \"circle\"}, \"shape\": {\"stroke\": \"#618FE0\"}, \"bar\": {\"fill\": \"#618FE0\", \"stroke\": null}, \"text\": {\"font\": \"Roboto\", \"color\": \"#384140\", \"fontSize\": 12}, \"arc\": {\"stroke\": \"#fff\", \"strokeWidth\": 1}, \"range\": {\"category\": [\"#618FE0\", \"#50D0B0\", \"#E17560\", \"#E8B474\", \"#D889C4\", \"#34A3BC\", \"#A583A4\"], \"ramp\": [\"#001854\", \"#002f72\", \"#04478e\", \"#1e5fab\", \"#4477c5\", \"#6290e1\", \"#7ea9fd\", \"#9ec7ff\", \"#bde4ff\"], \"heatmap\": [\"#001854\", \"#002f72\", \"#04478e\", \"#1e5fab\", \"#4477c5\", \"#6290e1\", \"#7ea9fd\", \"#9ec7ff\", \"#bde4ff\"], \"diverging\": [\"#003b26\", \"#006b52\", \"#1aa082\", \"#55d5b5\", \"#f5f5f5\", \"#ffaa92\", \"#d16f5b\", \"#9e392c\", \"#650200\"]}, \"title\": {\"anchor\": \"start\", \"fontSize\": 20, \"color\": \"#384140\", \"fontWeight\": \"bold\", \"offset\": 20, \"font\": \"Roboto\", \"subtitleColor\": \"#384140\", \"subtitleFontSize\": 16}, \"header\": {\"labelFontSize\": 12, \"titleFontSize\": 16, \"labelColor\": \"#384140\", \"titleColor\": \"#384140\", \"titleFont\": \"Roboto\", \"labelFont\": \"Roboto\"}, \"group\": {\"fill\": \"white\"}, \"background\": \"white\", \"view\": {\"stroke\": \"transparent\", \"continuousHeight\": 300, \"continuousWidth\": 400}}, \"data\": {\"name\": \"data-4bf78fbee0e50edc9a3392c134791efb\"}, \"mark\": {\"type\": \"point\", \"stroke\": \"white\", \"strokeWidth\": 0.6}, \"encoding\": {\"color\": {\"type\": \"nominal\", \"field\": \"type\", \"legend\": {\"fillColor\": \"white\", \"orient\": \"bottom-right\", \"symbolSize\": 50, \"symbolStrokeWidth\": 0, \"title\": null}, \"scale\": {\"domain\": [\"Shapley Value\", \"Mean\"], \"range\": [\"#618FE0\", \"#d76d58\"]}}, \"opacity\": {\"condition\": {\"value\": 1.0, \"test\": \"(datum.type === 'Mean')\"}, \"value\": 0.1}, \"size\": {\"condition\": {\"value\": 70, \"test\": \"(datum.type === 'Mean')\"}, \"value\": 30}, \"x\": {\"type\": \"quantitative\", \"axis\": {\"grid\": true, \"title\": \"Shapley Value\"}, \"field\": \"Shapley Value\", \"scale\": {\"domain\": [-0.2, 0.6]}}, \"y\": {\"type\": \"ordinal\", \"axis\": {\"labelFontSize\": 13, \"titleX\": -51}, \"field\": \"Feature\", \"sort\": [\"STD Chest <-> Left Ankle\", \"STD Right Ankle <-> Left Ankle\", \"Pruned Events\", \"Mean Chest <-> Right Ankle\", \"Mean Chest <-> Left Ankle\", \"STD Chest <-> Right Ankle\", \"Mean Right Ankle <-> Left Ankle\"]}}, \"height\": 280, \"width\": 288, \"$schema\": \"https://vega.github.io/schema/vega-lite/v4.8.1.json\", \"datasets\": {\"data-4bf78fbee0e50edc9a3392c134791efb\": [{\"Shapley Value\": 0.045623742043972, \"Feature\": \"Mean Chest <-> Right Ankle\", \"type\": \"Shapley Value\"}, {\"Shapley Value\": 0.017312630514304, \"Feature\": \"STD Chest <-> Right Ankle\", \"type\": \"Shapley Value\"}, {\"Shapley Value\": 0.0599856247504553, \"Feature\": \"Mean Chest <-> Left Ankle\", \"type\": \"Shapley Value\"}, {\"Shapley Value\": 0.2561952422062551, \"Feature\": \"STD Chest <-> Left Ankle\", \"type\": \"Shapley Value\"}, {\"Shapley Value\": 0.0335362911224365, \"Feature\": \"Mean Right Ankle <-> Left Ankle\", \"type\": \"Shapley Value\"}, {\"Shapley Value\": 0.0861420979102452, \"Feature\": \"STD Right Ankle <-> Left Ankle\", \"type\": \"Shapley Value\"}, {\"Shapley Value\": 0.0, \"Feature\": \"Pruned Events\", \"type\": \"Shapley Value\"}, {\"Shapley Value\": 0.0376023868719736, \"Feature\": \"Mean Chest <-> Right Ankle\", \"type\": \"Shapley Value\"}, {\"Shapley Value\": 0.0141457657019299, \"Feature\": \"STD Chest <-> Right Ankle\", \"type\": \"Shapley Value\"}, {\"Shapley Value\": 0.0552201360464097, \"Feature\": \"Mean Chest <-> Left Ankle\", \"type\": \"Shapley Value\"}, {\"Shapley Value\": 0.2075246761242545, \"Feature\": \"STD Chest <-> Left Ankle\", \"type\": \"Shapley Value\"}, {\"Shapley Value\": 0.0296073536078134, \"Feature\": \"Mean Right Ankle <-> Left Ankle\", \"type\": \"Shapley Value\"}, {\"Shapley Value\": 0.0722918127973873, \"Feature\": \"STD Right Ankle <-> Left Ankle\", \"type\": \"Shapley Value\"}, {\"Shapley Value\": 0.0824034973978998, \"Feature\": \"Pruned Events\", \"type\": \"Shapley Value\"}, {\"Shapley Value\": 0.0334385613600412, \"Feature\": \"Mean Chest <-> Right Ankle\", \"type\": \"Shapley Value\"}, {\"Shapley Value\": 0.0126563956340155, \"Feature\": \"STD Chest <-> Right Ankle\", \"type\": \"Shapley Value\"}, {\"Shapley Value\": 0.0520637586712838, \"Feature\": \"Mean Chest <-> Left Ankle\", \"type\": \"Shapley Value\"}, {\"Shapley Value\": 0.1919293155272798, \"Feature\": \"STD Chest <-> Left Ankle\", \"type\": \"Shapley Value\"}, {\"Shapley Value\": 0.0278286243478456, \"Feature\": \"Mean Right Ankle <-> Left Ankle\", \"type\": \"Shapley Value\"}, {\"Shapley Value\": 0.0676117738087971, \"Feature\": \"STD Right Ankle <-> Left Ankle\", \"type\": \"Shapley Value\"}, {\"Shapley Value\": 0.1132671991984051, \"Feature\": \"Pruned Events\", \"type\": \"Shapley Value\"}, {\"Shapley Value\": 0.0479148850554511, \"Feature\": \"Mean Chest <-> Right Ankle\", \"type\": \"Shapley Value\"}, {\"Shapley Value\": 0.0130330170903888, \"Feature\": \"STD Chest <-> Right Ankle\", \"type\": \"Shapley Value\"}, {\"Shapley Value\": 0.0570935155664172, \"Feature\": \"Mean Chest <-> Left Ankle\", \"type\": \"Shapley Value\"}, {\"Shapley Value\": 0.1690122634882015, \"Feature\": \"STD Chest <-> Left Ankle\", \"type\": \"Shapley Value\"}, {\"Shapley Value\": 0.0074851200694129, \"Feature\": \"Mean Right Ankle <-> Left Ankle\", \"type\": \"Shapley Value\"}, {\"Shapley Value\": 0.1172699869388624, \"Feature\": \"STD Right Ankle <-> Left Ankle\", \"type\": \"Shapley Value\"}, {\"Shapley Value\": 5.676634717843854e-10, \"Feature\": \"Pruned Events\", \"type\": \"Shapley Value\"}, {\"Shapley Value\": 0.0439635800463812, \"Feature\": \"Mean Chest <-> Right Ankle\", \"type\": \"Shapley Value\"}, {\"Shapley Value\": 0.013715096527622, \"Feature\": \"STD Chest <-> Right Ankle\", \"type\": \"Shapley Value\"}, {\"Shapley Value\": 0.0574870076917466, \"Feature\": \"Mean Chest <-> Left Ankle\", \"type\": \"Shapley Value\"}, {\"Shapley Value\": 0.1271985592586652, \"Feature\": \"STD Chest <-> Left Ankle\", \"type\": \"Shapley Value\"}, {\"Shapley Value\": 0.006447451029505, \"Feature\": \"Mean Right Ankle <-> Left Ankle\", \"type\": \"Shapley Value\"}, {\"Shapley Value\": 0.0945738407117978, \"Feature\": \"STD Right Ankle <-> Left Ankle\", \"type\": \"Shapley Value\"}, {\"Shapley Value\": 0.0684232535106796, \"Feature\": \"Pruned Events\", \"type\": \"Shapley Value\"}, {\"Shapley Value\": 0.0392693826840037, \"Feature\": \"Mean Chest <-> Right Ankle\", \"type\": \"Shapley Value\"}, {\"Shapley Value\": 0.0123937496826763, \"Feature\": \"STD Chest <-> Right Ankle\", \"type\": \"Shapley Value\"}, {\"Shapley Value\": 0.0567520890917097, \"Feature\": \"Mean Chest <-> Left Ankle\", \"type\": \"Shapley Value\"}, {\"Shapley Value\": 0.1151972963696432, \"Feature\": \"STD Chest <-> Left Ankle\", \"type\": \"Shapley Value\"}, {\"Shapley Value\": 0.006908292997451, \"Feature\": \"Mean Right Ankle <-> Left Ankle\", \"type\": \"Shapley Value\"}, {\"Shapley Value\": 0.0878531658933275, \"Feature\": \"STD Right Ankle <-> Left Ankle\", \"type\": \"Shapley Value\"}, {\"Shapley Value\": 0.093434812057586, \"Feature\": \"Pruned Events\", \"type\": \"Shapley Value\"}, {\"Shapley Value\": 0.0379269611267816, \"Feature\": \"Mean Chest <-> Right Ankle\", \"type\": \"Shapley Value\"}, {\"Shapley Value\": 0.0221964221625101, \"Feature\": \"STD Chest <-> Right Ankle\", \"type\": \"Shapley Value\"}, {\"Shapley Value\": -0.0003607778322126, \"Feature\": \"Mean Chest <-> Left Ankle\", \"type\": \"Shapley Value\"}, {\"Shapley Value\": 0.2382680392691064, \"Feature\": \"STD Chest <-> Left Ankle\", \"type\": \"Shapley Value\"}, {\"Shapley Value\": 0.0066806834368479, \"Feature\": \"Mean Right Ankle <-> Left Ankle\", \"type\": \"Shapley Value\"}, {\"Shapley Value\": 0.0860373602736563, \"Feature\": \"STD Right Ankle <-> Left Ankle\", \"type\": \"Shapley Value\"}, {\"Shapley Value\": -8.798780815055807e-09, \"Feature\": \"Pruned Events\", \"type\": \"Shapley Value\"}, {\"Shapley Value\": 0.0373488624890645, \"Feature\": \"Mean Chest <-> Right Ankle\", \"type\": \"Shapley Value\"}, {\"Shapley Value\": 0.0232358202338219, \"Feature\": \"STD Chest <-> Right Ankle\", \"type\": \"Shapley Value\"}, {\"Shapley Value\": 0.0011223420500756, \"Feature\": \"Mean Chest <-> Left Ankle\", \"type\": \"Shapley Value\"}, {\"Shapley Value\": 0.184781993925571, \"Feature\": \"STD Chest <-> Left Ankle\", \"type\": \"Shapley Value\"}, {\"Shapley Value\": 0.0063575213154157, \"Feature\": \"Mean Right Ankle <-> Left Ankle\", \"type\": \"Shapley Value\"}, {\"Shapley Value\": 0.0597715134421983, \"Feature\": \"STD Right Ankle <-> Left Ankle\", \"type\": \"Shapley Value\"}, {\"Shapley Value\": 0.0781306261817615, \"Feature\": \"Pruned Events\", \"type\": \"Shapley Value\"}, {\"Shapley Value\": 0.0336818702873729, \"Feature\": \"Mean Chest <-> Right Ankle\", \"type\": \"Shapley Value\"}, {\"Shapley Value\": 0.0208761878666424, \"Feature\": \"STD Chest <-> Right Ankle\", \"type\": \"Shapley Value\"}, {\"Shapley Value\": -0.0005767993274187, \"Feature\": \"Mean Chest <-> Left Ankle\", \"type\": \"Shapley Value\"}, {\"Shapley Value\": 0.1677169291036466, \"Feature\": \"STD Chest <-> Left Ankle\", \"type\": \"Shapley Value\"}, {\"Shapley Value\": 0.0050251973526818, \"Feature\": \"Mean Right Ankle <-> Left Ankle\", \"type\": \"Shapley Value\"}, {\"Shapley Value\": 0.0557506449875376, \"Feature\": \"STD Right Ankle <-> Left Ankle\", \"type\": \"Shapley Value\"}, {\"Shapley Value\": 0.108274649367446, \"Feature\": \"Pruned Events\", \"type\": \"Shapley Value\"}, {\"Shapley Value\": 0.060437114386962296, \"Feature\": \"Pruned Events\", \"type\": \"Mean\"}, {\"Shapley Value\": 0.039641136885004646, \"Feature\": \"Mean Chest <-> Right Ankle\", \"type\": \"Mean\"}, {\"Shapley Value\": 0.03764298852316296, \"Feature\": \"Mean Chest <-> Left Ankle\", \"type\": \"Mean\"}, {\"Shapley Value\": 0.014430726142156644, \"Feature\": \"Mean Right Ankle <-> Left Ankle\", \"type\": \"Mean\"}, {\"Shapley Value\": 0.016618342823767878, \"Feature\": \"STD Chest <-> Right Ankle\", \"type\": \"Mean\"}, {\"Shapley Value\": 0.18420270169695815, \"Feature\": \"STD Chest <-> Left Ankle\", \"type\": \"Mean\"}, {\"Shapley Value\": 0.08081135519597883, \"Feature\": \"STD Right Ankle <-> Left Ankle\", \"type\": \"Mean\"}]}}, {\"mode\": \"vega-lite\"});\n",
       "</script>"
      ],
      "text/plain": [
       "alt.Chart(...)"
      ]
     },
     "execution_count": 29,
     "metadata": {},
     "output_type": "execute_result"
    }
   ],
   "source": [
    "feature_dict = {'path': 'outputs/feature_all_tf.csv', 'rs': 42, 'nsamples': 32000, 'feature_names': model_features, 'plot_features': plot_feats, }\n",
    "feat_data = feat_explain_all(f, pos_dataset, sequence_id_feat, average_event, feature_dict, prun_indexes, model_features, time_feat)\n",
    "feat_global_plot = plot_global_feat(feat_data, **feature_dict)\n",
    "feat_global_plot"
   ]
  },
  {
   "cell_type": "code",
   "execution_count": null,
   "id": "c87bae27",
   "metadata": {},
   "outputs": [],
   "source": []
  }
 ],
 "metadata": {
  "kernelspec": {
   "display_name": "Python 3",
   "language": "python",
   "name": "python3"
  },
  "language_info": {
   "codemirror_mode": {
    "name": "ipython",
    "version": 3
   },
   "file_extension": ".py",
   "mimetype": "text/x-python",
   "name": "python",
   "nbconvert_exporter": "python",
   "pygments_lexer": "ipython3",
   "version": "3.7.7"
  }
 },
 "nbformat": 4,
 "nbformat_minor": 5
}
