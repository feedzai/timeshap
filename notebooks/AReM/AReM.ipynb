{
 "cells": [
  {
   "cell_type": "markdown",
   "id": "582a4e34",
   "metadata": {},
   "source": [
    "<h1 style=\"color:#3da1da;font-size: 300%;\" id=\"timeshap tutorial\" align=\"center\"  >TimeSHAP Tutorial - Pytorch - AReM dataset</h1><p>&nbsp;\n",
    "\n",
    "<a id='top_cell'></a>\n",
    "\n",
    "## Table of contents\n",
    "1. [Data Processing](#1.-Data-Processing)\n",
    "  1. [Data Loading](#1.1-Data-Loading)\n",
    "  2. [Data Treatment](#1.2-Data-Treatment)\n",
    "2. [Model](#2.-Model)\n",
    "  1. [Model Definition](#2.1-Model-Definition)\n",
    "  2. [Model Training](#2.2-Model-Training)\n",
    "3. [TimeSHAP](#3.-TimeSHAP)\n",
    "  1. [Local Explanations](#3.1-Local-Explanations)\n",
    "  2. [Global Explanations](#3.2-Global-Explanations)\n",
    "  3. [Individual Plots](#3.3-Individual-Plots)\n",
    "    \n",
    "\n",
    "# TimeSHAP\n",
    "\n",
    "TimeSHAP is a model-agnostic, recurrent explainer that builds upon KernelSHAP and extends it to the sequential domain. \n",
    "\n",
    "TimeSHAP computes local event/timestamp- feature-, and cell-level attributions. \n",
    "    \n",
    "Aditionally TimeSHAP also computes global event- and feature-level explanations.\n",
    "    \n",
    "As sequences can be arbitrarily long, TimeSHAP also implements a pruning algorithm based on Shapley Values, \n",
    "that finds a subset of consecutive, recent events that contribute the most to the decision."
   ]
  },
  {
   "cell_type": "markdown",
   "id": "98a9cadd",
   "metadata": {},
   "source": [
    "---\n",
    "# 1. Data-Processing\n",
    "---"
   ]
  },
  {
   "cell_type": "code",
   "execution_count": 1,
   "id": "9e963ff1",
   "metadata": {},
   "outputs": [],
   "source": [
    "import pandas as pd\n",
    "import numpy as np\n",
    "\n",
    "np.random.seed(42)\n",
    "\n",
    "import warnings\n",
    "warnings.filterwarnings('ignore')"
   ]
  },
  {
   "cell_type": "code",
   "execution_count": 2,
   "id": "7dd4a8e3",
   "metadata": {},
   "outputs": [
    {
     "data": {
      "text/plain": [
       "'0.1.1'"
      ]
     },
     "execution_count": 2,
     "metadata": {},
     "output_type": "execute_result"
    }
   ],
   "source": [
    "from timeshap import __version__\n",
    "__version__"
   ]
  },
  {
   "cell_type": "code",
   "execution_count": 3,
   "id": "ca57e8fc",
   "metadata": {},
   "outputs": [
    {
     "data": {
      "text/html": [
       "<style>.container { width:100% !important; }</style>"
      ],
      "text/plain": [
       "<IPython.core.display.HTML object>"
      ]
     },
     "metadata": {},
     "output_type": "display_data"
    },
    {
     "data": {
      "text/plain": [
       "ThemeRegistry.enable('timeshap_theme')"
      ]
     },
     "execution_count": 3,
     "metadata": {},
     "output_type": "execute_result"
    }
   ],
   "source": [
    "import altair as alt\n",
    "from IPython.core.display import display, HTML\n",
    "display(HTML(\"<style>.container { width:100% !important; }</style>\"))\n",
    "from timeshap.plot import timeshap_theme\n",
    "alt.themes.register(\"timeshap_theme\", timeshap_theme)\n",
    "alt.themes.enable(\"timeshap_theme\")"
   ]
  },
  {
   "cell_type": "markdown",
   "id": "2aea2406",
   "metadata": {},
   "source": [
    "## 1.1 Data-Loading"
   ]
  },
  {
   "cell_type": "code",
   "execution_count": 4,
   "id": "cdff7185",
   "metadata": {},
   "outputs": [
    {
     "name": "stdout",
     "output_type": "stream",
     "text": [
      "lying/dataset2.csv ------ (480, 7)\n",
      "lying/dataset12.csv ------ (480, 7)\n",
      "lying/dataset1.csv ------ (480, 7)\n",
      "lying/dataset8.csv ------ (480, 7)\n",
      "lying/dataset15.csv ------ (480, 7)\n",
      "lying/dataset14.csv ------ (480, 7)\n",
      "lying/dataset4.csv ------ (480, 7)\n",
      "lying/dataset3.csv ------ (480, 7)\n",
      "lying/dataset5.csv ------ (480, 7)\n",
      "lying/dataset7.csv ------ (480, 7)\n",
      "lying/dataset13.csv ------ (480, 7)\n",
      "lying/dataset6.csv ------ (480, 7)\n",
      "lying/dataset11.csv ------ (480, 7)\n",
      "lying/dataset9.csv ------ (480, 7)\n",
      "lying/dataset10.csv ------ (480, 7)\n",
      "walking/dataset2.csv ------ (480, 7)\n",
      "walking/dataset12.csv ------ (480, 7)\n",
      "walking/dataset1.csv ------ (480, 7)\n",
      "walking/dataset8.csv ------ (480, 7)\n",
      "walking/dataset15.csv ------ (480, 7)\n",
      "walking/dataset14.csv ------ (480, 7)\n",
      "walking/dataset4.csv ------ (480, 7)\n",
      "walking/dataset3.csv ------ (480, 7)\n",
      "walking/dataset5.csv ------ (480, 7)\n",
      "walking/dataset7.csv ------ (480, 7)\n",
      "walking/dataset13.csv ------ (480, 7)\n",
      "walking/dataset6.csv ------ (480, 7)\n",
      "walking/dataset11.csv ------ (480, 7)\n",
      "walking/dataset9.csv ------ (480, 7)\n",
      "walking/dataset10.csv ------ (480, 7)\n",
      "cycling/dataset2.csv ------ (480, 7)\n",
      "cycling/dataset12.csv ------ (480, 7)\n",
      "cycling/dataset1.csv ------ (480, 7)\n",
      "cycling/dataset8.csv ------ (480, 7)\n",
      "cycling/dataset15.csv ------ (480, 7)\n",
      "cycling/dataset14.csv ------ (480, 7)\n",
      "cycling/dataset4.csv ------ (480, 7)\n",
      "cycling/dataset3.csv ------ (480, 7)\n",
      "cycling/dataset5.csv ------ (480, 7)\n",
      "cycling/dataset7.csv ------ (480, 7)\n",
      "cycling/dataset13.csv ------ (480, 7)\n",
      "cycling/dataset6.csv ------ (480, 7)\n",
      "cycling/dataset11.csv ------ (480, 7)\n",
      "cycling/dataset9.csv ------ (480, 7)\n",
      "cycling/dataset10.csv ------ (480, 7)\n",
      "standing/dataset2.csv ------ (480, 7)\n",
      "standing/dataset12.csv ------ (480, 7)\n",
      "standing/dataset1.csv ------ (480, 7)\n",
      "standing/dataset8.csv ------ (480, 7)\n",
      "standing/dataset15.csv ------ (480, 7)\n",
      "standing/dataset14.csv ------ (480, 7)\n",
      "standing/dataset4.csv ------ (480, 7)\n",
      "standing/dataset3.csv ------ (480, 7)\n",
      "standing/dataset5.csv ------ (480, 7)\n",
      "standing/dataset7.csv ------ (480, 7)\n",
      "standing/dataset13.csv ------ (480, 7)\n",
      "standing/dataset6.csv ------ (480, 7)\n",
      "standing/dataset11.csv ------ (480, 7)\n",
      "standing/dataset9.csv ------ (480, 7)\n",
      "standing/dataset10.csv ------ (480, 7)\n",
      "sitting/dataset2.csv ------ (480, 7)\n",
      "sitting/dataset12.csv ------ (480, 7)\n",
      "sitting/dataset1.csv ------ (480, 7)\n",
      "sitting/dataset15.csv ------ (480, 7)\n",
      "sitting/dataset14.csv ------ (480, 7)\n",
      "sitting/dataset4.csv ------ (480, 7)\n",
      "sitting/dataset3.csv ------ (480, 7)\n",
      "sitting/dataset5.csv ------ (480, 7)\n",
      "sitting/dataset7.csv ------ (480, 7)\n",
      "sitting/dataset13.csv ------ (480, 7)\n",
      "sitting/dataset6.csv ------ (480, 7)\n",
      "sitting/dataset11.csv ------ (480, 7)\n",
      "sitting/dataset9.csv ------ (480, 7)\n",
      "sitting/dataset10.csv ------ (480, 7)\n"
     ]
    }
   ],
   "source": [
    "import os\n",
    "import re\n",
    "\n",
    "data_directories = next(os.walk(\"./AReM\"))[1]\n",
    "\n",
    "all_csvs = []\n",
    "for folder in data_directories:\n",
    "    if folder in ['bending1', 'bending2']:\n",
    "        continue\n",
    "    folder_csvs = next(os.walk(f\"./AReM/{folder}\"))[2]\n",
    "    for data_csv in folder_csvs:\n",
    "        if data_csv == 'dataset8.csv' and folder == 'sitting':\n",
    "            # this dataset only has 479 instances\n",
    "            # it is possible to use it, but would require padding logic\n",
    "            continue\n",
    "        loaded_data = pd.read_csv(f\"./AReM/{folder}/{data_csv}\", skiprows=4)\n",
    "        print(f\"{folder}/{data_csv} ------ {loaded_data.shape}\")\n",
    "        \n",
    "        csv_id = re.findall(r'\\d+', data_csv)[0]\n",
    "        loaded_data['id'] = csv_id\n",
    "        loaded_data['all_id'] = f\"{folder}_{csv_id}\"\n",
    "        loaded_data['activity'] = folder\n",
    "        all_csvs.append(loaded_data)\n",
    "\n",
    "all_data = pd.concat(all_csvs)\n",
    "raw_model_features = ['avg_rss12', 'var_rss12', 'avg_rss13', 'var_rss13', 'avg_rss23', 'var_rss23']\n",
    "all_data.columns = ['timestamp', 'avg_rss12', 'var_rss12', 'avg_rss13', 'var_rss13', 'avg_rss23', 'var_rss23', 'id', 'all_id', 'activity']"
   ]
  },
  {
   "cell_type": "markdown",
   "id": "6d7ca22d",
   "metadata": {},
   "source": [
    "## 1.2 Data Treatment"
   ]
  },
  {
   "cell_type": "markdown",
   "id": "1c801cff",
   "metadata": {},
   "source": [
    "### Separate in train and test"
   ]
  },
  {
   "cell_type": "code",
   "execution_count": 5,
   "id": "d627aeda",
   "metadata": {},
   "outputs": [],
   "source": [
    "# choose ids to use for test\n",
    "ids_for_test = np.random.choice(all_data['id'].unique(), size=4, replace=False)\n",
    "\n",
    "d_train =  all_data[~all_data['id'].isin(ids_for_test)]\n",
    "d_test = all_data[all_data['id'].isin(ids_for_test)]"
   ]
  },
  {
   "cell_type": "markdown",
   "id": "b9e08290",
   "metadata": {},
   "source": [
    "###  Normalize Features"
   ]
  },
  {
   "cell_type": "code",
   "execution_count": 6,
   "id": "f1cba387",
   "metadata": {},
   "outputs": [],
   "source": [
    "class NumericalNormalizer:\n",
    "    def __init__(self, fields: list):\n",
    "        self.metrics = {}\n",
    "        self.fields = fields\n",
    "\n",
    "    def fit(self, df: pd.DataFrame ) -> list:\n",
    "        means = df[self.fields].mean()\n",
    "        std = df[self.fields].std()\n",
    "        for field in self.fields:\n",
    "            field_mean = means[field]\n",
    "            field_stddev = std[field]\n",
    "            self.metrics[field] = {'mean': field_mean, 'std': field_stddev}\n",
    "\n",
    "    def transform(self, df: pd.DataFrame) -> pd.DataFrame:\n",
    "        # Transform to zero-mean and unit variance.\n",
    "        for field in self.fields:\n",
    "            f_mean = self.metrics[field]['mean']\n",
    "            f_stddev = self.metrics[field]['std']\n",
    "            # OUTLIER CLIPPING to [avg-3*std, avg+3*avg]\n",
    "            df[field] = df[field].apply(lambda x: f_mean - 3 * f_stddev if x < f_mean - 3 * f_stddev else x)\n",
    "            df[field] = df[field].apply(lambda x: f_mean + 3 * f_stddev if x > f_mean + 3 * f_stddev else x)\n",
    "            if f_stddev > 1e-5:\n",
    "                df[f'p_{field}_normalized'] = df[field].apply(lambda x: ((x - f_mean)/f_stddev))\n",
    "            else:\n",
    "                df[f'p_{field}_normalized'] = df[field].apply(lambda x: x * 0)\n",
    "        return df"
   ]
  },
  {
   "cell_type": "code",
   "execution_count": 7,
   "id": "35cf4835",
   "metadata": {},
   "outputs": [],
   "source": [
    "#all features are numerical\n",
    "normalizor = NumericalNormalizer(raw_model_features)\n",
    "normalizor.fit(d_train)\n",
    "d_train_normalized = normalizor.transform(d_train)\n",
    "d_test_normalized = normalizor.transform(d_test)"
   ]
  },
  {
   "cell_type": "markdown",
   "id": "e17805d8",
   "metadata": {},
   "source": [
    "### Features"
   ]
  },
  {
   "cell_type": "code",
   "execution_count": 8,
   "id": "2b7b9cb5",
   "metadata": {},
   "outputs": [],
   "source": [
    "model_features = [f\"p_{x}_normalized\" for x in raw_model_features]\n",
    "time_feat = 'timestamp'\n",
    "label_feat = 'activity'\n",
    "sequence_id_feat = 'all_id'\n",
    "\n",
    "plot_feats = {\n",
    "    'p_avg_rss12_normalized': \"Mean Chest <-> Right Ankle\",\n",
    "    'p_var_rss12_normalized': \"STD Chest <-> Right Ankle\",\n",
    "    'p_avg_rss13_normalized': \"Mean Chest <-> Left Ankle\",\n",
    "    'p_var_rss13_normalized': \"STD Chest <-> Left Ankle\",\n",
    "    'p_avg_rss23_normalized': \"Mean Right Ankle <-> Left Ankle\",\n",
    "    'p_var_rss23_normalized': \"STD Right Ankle <-> Left Ankle\",\n",
    "}"
   ]
  },
  {
   "cell_type": "markdown",
   "id": "992d6c20",
   "metadata": {},
   "source": [
    "### Transform the dataset from multi-label to binary classification"
   ]
  },
  {
   "cell_type": "code",
   "execution_count": 9,
   "id": "005ef0cb",
   "metadata": {},
   "outputs": [],
   "source": [
    "# possible activities ['cycling', 'lying', 'sitting', 'standing', 'walking']\n",
    "#Select the activity to predict\n",
    "chosen_activity = 'cycling'\n",
    "\n",
    "d_train_normalized['label'] = d_train_normalized['activity'].apply(lambda x: int(x == chosen_activity))\n",
    "d_test_normalized['label'] = d_test_normalized['activity'].apply(lambda x: int(x == chosen_activity))"
   ]
  },
  {
   "cell_type": "markdown",
   "id": "ab91386d",
   "metadata": {},
   "source": [
    "This example notebook requires PyTorch!\n",
    "\n",
    "Install it if you haven't already:\n",
    "```\n",
    "!pip install torch\n",
    "```"
   ]
  },
  {
   "cell_type": "code",
   "execution_count": 11,
   "id": "3dbe7176",
   "metadata": {},
   "outputs": [],
   "source": [
    "import torch\n",
    "\n",
    "def df_to_Tensor(df, model_feats, label_feat, group_by_feat, timestamp_Feat):\n",
    "    sequence_length = len(df[timestamp_Feat].unique())\n",
    "    \n",
    "    data_tensor = np.zeros((len(df[group_by_feat].unique()), sequence_length, len(model_feats)))\n",
    "    labels_tensor = np.zeros((len(df[group_by_feat].unique()), 1))\n",
    "    \n",
    "    for i, name in enumerate(df[group_by_feat].unique()):\n",
    "        name_data = df[df[group_by_feat] == name]\n",
    "        sorted_data = name_data.sort_values(timestamp_Feat)\n",
    "        \n",
    "        data_x = sorted_data[model_feats].values\n",
    "        labels = sorted_data[label_feat].values\n",
    "        assert labels.sum() == 0 or labels.sum() == len(labels)\n",
    "        data_tensor[i, :, :] = data_x\n",
    "        labels_tensor[i, :] = labels[0]\n",
    "    data_tensor = torch.from_numpy(data_tensor).type(torch.FloatTensor)\n",
    "    labels_tensor = torch.from_numpy(labels_tensor).type(torch.FloatTensor)\n",
    "    \n",
    "    return data_tensor, labels_tensor"
   ]
  },
  {
   "cell_type": "code",
   "execution_count": 12,
   "id": "cd2da61a",
   "metadata": {},
   "outputs": [],
   "source": [
    "train_data, train_labels = df_to_Tensor(d_train_normalized, model_features, 'label', sequence_id_feat, time_feat)\n",
    "\n",
    "test_data, test_labels = df_to_Tensor(d_test_normalized, model_features, 'label', sequence_id_feat, time_feat)"
   ]
  },
  {
   "cell_type": "markdown",
   "id": "378d4aeb",
   "metadata": {},
   "source": [
    "___\n",
    "# 2. Model\n"
   ]
  },
  {
   "cell_type": "markdown",
   "id": "d2c39214",
   "metadata": {},
   "source": [
    "## 2.1 Model Definition"
   ]
  },
  {
   "cell_type": "code",
   "execution_count": 13,
   "id": "6b197afe",
   "metadata": {},
   "outputs": [],
   "source": [
    "import torch.nn as nn\n",
    "\n",
    "class ExplainedRNN(nn.Module):\n",
    "    def __init__(self,\n",
    "                 input_size: int,\n",
    "                 cfg: dict,\n",
    "                 ):\n",
    "        super(ExplainedRNN, self).__init__()\n",
    "        self.hidden_dim = cfg.get('hidden_dim', 32)\n",
    "        torch.manual_seed(cfg.get('random_seed', 42))\n",
    "\n",
    "        self.recurrent_block = nn.GRU(\n",
    "            input_size=input_size,\n",
    "            hidden_size=self.hidden_dim,\n",
    "            batch_first=True,\n",
    "            num_layers=2,\n",
    "            )\n",
    "        \n",
    "        self.classifier_block = nn.Linear(self.hidden_dim, 1)\n",
    "        self.output_activation_func = nn.Sigmoid()\n",
    "\n",
    "    def forward(self,\n",
    "                x: torch.Tensor,\n",
    "                hidden_states: tuple = None,\n",
    "                ):\n",
    "\n",
    "        if hidden_states is None:\n",
    "            output, hidden = self.recurrent_block(x)\n",
    "        else:\n",
    "            output, hidden = self.recurrent_block(x, hidden_states)\n",
    "\n",
    "        # -1 on hidden, to select the last layer of the stacked gru\n",
    "        assert torch.equal(output[:,-1,:], hidden[-1, :, :])\n",
    "        \n",
    "        y = self.classifier_block(hidden[-1, :, :])\n",
    "        y = self.output_activation_func(y)\n",
    "        return y, hidden"
   ]
  },
  {
   "cell_type": "code",
   "execution_count": 14,
   "id": "5fa5b613",
   "metadata": {},
   "outputs": [],
   "source": [
    "import torch.optim as optim\n",
    "\n",
    "model = ExplainedRNN(len(model_features), {})\n",
    "loss_function = nn.BCELoss()\n",
    "optimizer = optim.Adam(model.parameters(), lr=0.01)\n",
    "\n",
    "learning_rate = 0.005\n",
    "EPOCHS = 8"
   ]
  },
  {
   "cell_type": "markdown",
   "id": "eed69fa6",
   "metadata": {},
   "source": [
    "## 2.2 Model Training"
   ]
  },
  {
   "cell_type": "code",
   "execution_count": 15,
   "id": "58f0a923",
   "metadata": {},
   "outputs": [
    {
     "name": "stderr",
     "output_type": "stream",
     "text": [
      " 12%|█████████████▏                                                                                           | 1/8 [00:00<00:03,  1.77it/s]"
     ]
    },
    {
     "name": "stdout",
     "output_type": "stream",
     "text": [
      "Train loss: 0.7011223435401917 --- Test loss 0.5870470404624939 \n"
     ]
    },
    {
     "name": "stderr",
     "output_type": "stream",
     "text": [
      "\r",
      " 25%|██████████████████████████▎                                                                              | 2/8 [00:01<00:03,  1.82it/s]"
     ]
    },
    {
     "name": "stdout",
     "output_type": "stream",
     "text": [
      "Train loss: 0.5960759520530701 --- Test loss 0.49304986000061035 \n"
     ]
    },
    {
     "name": "stderr",
     "output_type": "stream",
     "text": [
      "\r",
      " 38%|███████████████████████████████████████▍                                                                 | 3/8 [00:01<00:02,  1.77it/s]"
     ]
    },
    {
     "name": "stdout",
     "output_type": "stream",
     "text": [
      "Train loss: 0.5006480813026428 --- Test loss 0.41937828063964844 \n"
     ]
    },
    {
     "name": "stderr",
     "output_type": "stream",
     "text": [
      "\r",
      " 50%|████████████████████████████████████████████████████▌                                                    | 4/8 [00:02<00:02,  1.68it/s]"
     ]
    },
    {
     "name": "stdout",
     "output_type": "stream",
     "text": [
      "Train loss: 0.41515281796455383 --- Test loss 0.38239622116088867 \n"
     ]
    },
    {
     "name": "stderr",
     "output_type": "stream",
     "text": [
      "\r",
      " 62%|█████████████████████████████████████████████████████████████████▋                                       | 5/8 [00:02<00:01,  1.70it/s]"
     ]
    },
    {
     "name": "stdout",
     "output_type": "stream",
     "text": [
      "Train loss: 0.353251576423645 --- Test loss 0.3735540807247162 \n"
     ]
    },
    {
     "name": "stderr",
     "output_type": "stream",
     "text": [
      "\r",
      " 75%|██████████████████████████████████████████████████████████████████████████████▊                          | 6/8 [00:03<00:01,  1.75it/s]"
     ]
    },
    {
     "name": "stdout",
     "output_type": "stream",
     "text": [
      "Train loss: 0.30814632773399353 --- Test loss 0.37170594930648804 \n"
     ]
    },
    {
     "name": "stderr",
     "output_type": "stream",
     "text": [
      "\r",
      " 88%|███████████████████████████████████████████████████████████████████████████████████████████▉             | 7/8 [00:03<00:00,  1.83it/s]"
     ]
    },
    {
     "name": "stdout",
     "output_type": "stream",
     "text": [
      "Train loss: 0.2601873576641083 --- Test loss 0.3603140115737915 \n"
     ]
    },
    {
     "name": "stderr",
     "output_type": "stream",
     "text": [
      "100%|█████████████████████████████████████████████████████████████████████████████████████████████████████████| 8/8 [00:04<00:00,  1.79it/s]"
     ]
    },
    {
     "name": "stdout",
     "output_type": "stream",
     "text": [
      "Train loss: 0.20937597751617432 --- Test loss 0.33417585492134094 \n"
     ]
    },
    {
     "name": "stderr",
     "output_type": "stream",
     "text": [
      "\n"
     ]
    }
   ],
   "source": [
    "import tqdm\n",
    "import copy\n",
    "for epoch in tqdm.trange(EPOCHS):\n",
    "    train_data_local = copy.deepcopy(train_data)\n",
    "    train_labels_local = copy.deepcopy(train_labels)\n",
    "    \n",
    "    y_pred, hidden_states = model(train_data_local)\n",
    "    train_loss = loss_function(y_pred, train_labels_local)\n",
    "\n",
    "    optimizer.zero_grad()\n",
    "    train_loss.backward()\n",
    "    optimizer.step()\n",
    "    with torch.no_grad():\n",
    "        test_data_local = copy.deepcopy(test_data)\n",
    "        test_labels_local = copy.deepcopy(test_labels)\n",
    "        test_preds, _ = model(test_data_local)\n",
    "        test_loss = loss_function(test_preds, test_labels_local)\n",
    "        print(f\"Train loss: {train_loss.item()} --- Test loss {test_loss.item()} \")\n"
   ]
  },
  {
   "cell_type": "markdown",
   "id": "7c0f525d",
   "metadata": {},
   "source": [
    "---\n",
    "# 3. TimeSHAP\n",
    "---"
   ]
  },
  {
   "cell_type": "markdown",
   "id": "4111034f",
   "metadata": {},
   "source": [
    "### Model entry point"
   ]
  },
  {
   "cell_type": "code",
   "execution_count": 16,
   "id": "396cb0ac",
   "metadata": {},
   "outputs": [],
   "source": [
    "from timeshap.wrappers import TorchModelWrapper\n",
    "model_wrapped = TorchModelWrapper(model)\n",
    "f_hs = lambda x, y=None: model_wrapped.predict_last_hs(x, y)"
   ]
  },
  {
   "cell_type": "markdown",
   "id": "a66a417b",
   "metadata": {},
   "source": [
    "### Baseline event"
   ]
  },
  {
   "cell_type": "code",
   "execution_count": 17,
   "id": "d8d7584d",
   "metadata": {},
   "outputs": [],
   "source": [
    "from timeshap.utils import calc_avg_event\n",
    "average_event = calc_avg_event(d_train_normalized, numerical_feats=model_features, categorical_feats=[])"
   ]
  },
  {
   "cell_type": "markdown",
   "id": "2b707fa7",
   "metadata": {},
   "source": [
    "### Average score over baseline"
   ]
  },
  {
   "cell_type": "code",
   "execution_count": 18,
   "id": "b254545e",
   "metadata": {
    "scrolled": false
   },
   "outputs": [],
   "source": [
    "from timeshap.utils import get_avg_score_with_avg_event\n",
    "avg_score_over_len = get_avg_score_with_avg_event(f_hs, average_event, top=480)"
   ]
  },
  {
   "cell_type": "markdown",
   "id": "a8ff8a66",
   "metadata": {},
   "source": [
    "## 3.1 Local Explanations"
   ]
  },
  {
   "cell_type": "markdown",
   "id": "fec8dc01",
   "metadata": {},
   "source": [
    "### Select sequences to explain"
   ]
  },
  {
   "cell_type": "code",
   "execution_count": 19,
   "id": "d74d18d4",
   "metadata": {},
   "outputs": [],
   "source": [
    "positive_sequence_id = f\"cycling_{np.random.choice(ids_for_test)}\"\n",
    "pos_x_pd = d_test_normalized[d_test_normalized['all_id'] == positive_sequence_id]\n",
    "\n",
    "# select model features only\n",
    "pos_x_data = pos_x_pd[model_features]\n",
    "# convert the instance to numpy so TimeSHAP receives it\n",
    "pos_x_data = np.expand_dims(pos_x_data.to_numpy().copy(), axis=0)"
   ]
  },
  {
   "cell_type": "markdown",
   "id": "f7c55172",
   "metadata": {},
   "source": [
    "### Local Report on positive instance"
   ]
  },
  {
   "cell_type": "code",
   "execution_count": 20,
   "id": "b906bdf0",
   "metadata": {},
   "outputs": [
    {
     "name": "stdout",
     "output_type": "stream",
     "text": [
      "No path to explainer data provided. Calculating data\n",
      "No path to event data provided. Calculating data\n",
      "No path to feature data provided. Calculating data\n",
      "No path to feature data provided. Calculating data\n"
     ]
    },
    {
     "data": {
      "text/html": [
       "\n",
       "<div id=\"altair-viz-eede7ec6470f423bb5d728fa6c5c51cf\"></div>\n",
       "<script type=\"text/javascript\">\n",
       "  var VEGA_DEBUG = (typeof VEGA_DEBUG == \"undefined\") ? {} : VEGA_DEBUG;\n",
       "  (function(spec, embedOpt){\n",
       "    let outputDiv = document.currentScript.previousElementSibling;\n",
       "    if (outputDiv.id !== \"altair-viz-eede7ec6470f423bb5d728fa6c5c51cf\") {\n",
       "      outputDiv = document.getElementById(\"altair-viz-eede7ec6470f423bb5d728fa6c5c51cf\");\n",
       "    }\n",
       "    const paths = {\n",
       "      \"vega\": \"https://cdn.jsdelivr.net/npm//vega@5?noext\",\n",
       "      \"vega-lib\": \"https://cdn.jsdelivr.net/npm//vega-lib?noext\",\n",
       "      \"vega-lite\": \"https://cdn.jsdelivr.net/npm//vega-lite@4.17.0?noext\",\n",
       "      \"vega-embed\": \"https://cdn.jsdelivr.net/npm//vega-embed@6?noext\",\n",
       "    };\n",
       "\n",
       "    function maybeLoadScript(lib, version) {\n",
       "      var key = `${lib.replace(\"-\", \"\")}_version`;\n",
       "      return (VEGA_DEBUG[key] == version) ?\n",
       "        Promise.resolve(paths[lib]) :\n",
       "        new Promise(function(resolve, reject) {\n",
       "          var s = document.createElement('script');\n",
       "          document.getElementsByTagName(\"head\")[0].appendChild(s);\n",
       "          s.async = true;\n",
       "          s.onload = () => {\n",
       "            VEGA_DEBUG[key] = version;\n",
       "            return resolve(paths[lib]);\n",
       "          };\n",
       "          s.onerror = () => reject(`Error loading script: ${paths[lib]}`);\n",
       "          s.src = paths[lib];\n",
       "        });\n",
       "    }\n",
       "\n",
       "    function showError(err) {\n",
       "      outputDiv.innerHTML = `<div class=\"error\" style=\"color:red;\">${err}</div>`;\n",
       "      throw err;\n",
       "    }\n",
       "\n",
       "    function displayChart(vegaEmbed) {\n",
       "      vegaEmbed(outputDiv, spec, embedOpt)\n",
       "        .catch(err => showError(`Javascript Error: ${err.message}<br>This usually means there's a typo in your chart specification. See the javascript console for the full traceback.`));\n",
       "    }\n",
       "\n",
       "    if(typeof define === \"function\" && define.amd) {\n",
       "      requirejs.config({paths});\n",
       "      require([\"vega-embed\"], displayChart, err => showError(`Error loading script: ${err.message}`));\n",
       "    } else {\n",
       "      maybeLoadScript(\"vega\", \"5\")\n",
       "        .then(() => maybeLoadScript(\"vega-lite\", \"4.17.0\"))\n",
       "        .then(() => maybeLoadScript(\"vega-embed\", \"6\"))\n",
       "        .catch(showError)\n",
       "        .then(() => displayChart(vegaEmbed));\n",
       "    }\n",
       "  })({\"config\": {\"axis\": {\"domain\": true, \"domainColor\": \"#798184\", \"grid\": false, \"gridColor\": \"#798184\", \"gridOpacity\": 0.5, \"gridDash\": [3, 5], \"gridWidth\": 0.8, \"gridCap\": \"round\", \"labelPadding\": 3, \"labelFont\": \"Roboto\", \"labelColor\": \"#798184\", \"tickSize\": 5, \"tickColor\": \"#798184\", \"tickOpacity\": 0.5, \"titleColor\": \"#384140\", \"titleFont\": \"Roboto\", \"titleFontSize\": 12}, \"axisBand\": {\"domain\": true, \"ticks\": false, \"labelPadding\": 7}, \"axisY\": {\"domain\": false, \"titleAlign\": \"left\", \"titleAngle\": 0, \"titleX\": -20, \"titleY\": -10}, \"legend\": {\"labelColor\": \"#798184\", \"labelFontSize\": 12, \"symbolSize\": 40, \"titleColor\": \"#384140\", \"titleFontSize\": 12, \"titlePadding\": 10, \"titleFont\": \"Roboto\", \"labelFont\": \"Roboto\"}, \"line\": {\"stroke\": \"#618FE0\", \"strokeWidth\": 2}, \"rule\": {\"stroke\": \"#798184\"}, \"path\": {\"stroke\": \"#618FE0\", \"strokeWidth\": 0.5}, \"rect\": {\"fill\": \"#618FE0\"}, \"point\": {\"filled\": true, \"shape\": \"circle\"}, \"shape\": {\"stroke\": \"#618FE0\"}, \"bar\": {\"fill\": \"#618FE0\", \"stroke\": null}, \"text\": {\"font\": \"Roboto\", \"color\": \"#384140\", \"fontSize\": 12}, \"arc\": {\"stroke\": \"#fff\", \"strokeWidth\": 1}, \"range\": {\"category\": [\"#618FE0\", \"#50D0B0\", \"#E17560\", \"#E8B474\", \"#D889C4\", \"#34A3BC\", \"#A583A4\"], \"ramp\": [\"#001854\", \"#002f72\", \"#04478e\", \"#1e5fab\", \"#4477c5\", \"#6290e1\", \"#7ea9fd\", \"#9ec7ff\", \"#bde4ff\"], \"heatmap\": [\"#001854\", \"#002f72\", \"#04478e\", \"#1e5fab\", \"#4477c5\", \"#6290e1\", \"#7ea9fd\", \"#9ec7ff\", \"#bde4ff\"], \"diverging\": [\"#003b26\", \"#006b52\", \"#1aa082\", \"#55d5b5\", \"#f5f5f5\", \"#ffaa92\", \"#d16f5b\", \"#9e392c\", \"#650200\"]}, \"title\": {\"anchor\": \"start\", \"fontSize\": 20, \"color\": \"#384140\", \"fontWeight\": \"bold\", \"offset\": 20, \"font\": \"Roboto\", \"subtitleColor\": \"#384140\", \"subtitleFontSize\": 16}, \"header\": {\"labelFontSize\": 12, \"titleFontSize\": 16, \"labelColor\": \"#384140\", \"titleColor\": \"#384140\", \"titleFont\": \"Roboto\", \"labelFont\": \"Roboto\"}, \"group\": {\"fill\": \"white\"}, \"background\": \"white\", \"view\": {\"stroke\": \"transparent\", \"continuousHeight\": 300, \"continuousWidth\": 400}}, \"hconcat\": [{\"layer\": [{\"mark\": {\"type\": \"area\", \"opacity\": 0.5}, \"encoding\": {\"color\": {\"field\": \"Coalition\", \"legend\": {\"fillColor\": \"white\", \"labelFontSize\": 14, \"labelLimit\": 0, \"orient\": \"top-left\", \"symbolSize\": 50, \"symbolStrokeWidth\": 0, \"title\": null}, \"scale\": {\"domain\": [\"Sum of contribution of events \\u2264 t\"], \"range\": [\"#618FE0\"]}, \"type\": \"nominal\"}, \"x\": {\"axis\": {\"labelFontSize\": 15, \"title\": \"t (event index)\", \"titleFontSize\": 15}, \"field\": \"t (event index)\", \"type\": \"quantitative\"}, \"y\": {\"axis\": {\"grid\": true, \"labelFontSize\": 15, \"titleFontSize\": 15, \"titleX\": -28}, \"field\": \"Shapley Value\", \"scale\": {\"domain\": [-0.05, 1]}, \"type\": \"quantitative\"}}}, {\"mark\": \"line\", \"encoding\": {\"color\": {\"field\": \"Coalition\", \"legend\": {\"fillColor\": \"white\", \"labelFontSize\": 14, \"labelLimit\": 0, \"orient\": \"top-left\", \"symbolSize\": 50, \"symbolStrokeWidth\": 0, \"title\": null}, \"scale\": {\"domain\": [\"Sum of contribution of events \\u2264 t\"], \"range\": [\"#618FE0\"]}, \"type\": \"nominal\"}, \"x\": {\"axis\": {\"labelFontSize\": 15, \"title\": \"t (event index)\", \"titleFontSize\": 15}, \"field\": \"t (event index)\", \"type\": \"quantitative\"}, \"y\": {\"axis\": {\"grid\": true, \"labelFontSize\": 15, \"titleFontSize\": 15, \"titleX\": -28}, \"field\": \"Shapley Value\", \"scale\": {\"domain\": [-0.05, 1]}, \"type\": \"quantitative\"}}}, {\"data\": {\"name\": \"data-ee8aec25528fa53b6011f1eacee6f6c5\"}, \"mark\": {\"type\": \"rule\", \"color\": \"#E17560\"}, \"encoding\": {\"x\": {\"field\": \"x\", \"type\": \"quantitative\"}}}, {\"data\": {\"name\": \"data-5e7f4e825ef47f31d6c308e6e3010866\"}, \"mark\": {\"type\": \"text\", \"angle\": 270, \"color\": \"#E17560\", \"fontSize\": 15, \"fontWeight\": \"bold\", \"text\": \"Pruning\"}, \"encoding\": {\"x\": {\"field\": \"x\", \"type\": \"quantitative\"}}}], \"data\": {\"name\": \"data-347143c4b2e2ef3672684b8eac4007a8\"}, \"height\": 225, \"width\": 350}, {\"layer\": [{\"mark\": \"rect\", \"encoding\": {\"color\": {\"field\": \"rounded\", \"legend\": {\"gradientLength\": 225, \"gradientThickness\": 10, \"labelFontSize\": 15, \"orient\": \"right\"}, \"scale\": {\"domain\": [-0.5, 0.5], \"range\": [\"#5f8fd6\", \"#99c3fb\", \"#f5f5f5\", \"#ffaa92\", \"#d16f5b\"]}, \"title\": null, \"type\": \"quantitative\"}, \"x\": {\"axis\": {\"title\": \"Shapley Value\", \"titleFontSize\": 15}, \"field\": \"column\", \"type\": \"ordinal\"}, \"y\": {\"axis\": {\"domain\": false, \"labelFontSize\": 15, \"title\": \"Event\", \"titleFontSize\": 15, \"titleX\": -49}, \"field\": \"Feature\", \"sort\": [\"Event -1\", \"Event -2\", \"Event -3\", \"Event -4\", \"Event -5\", \"Event -6\", \"Event -7\", \"Event -8\", \"Event -9\", \"Event -10\", \"Event -11\", \"Event -12\", \"Event -13\", \"Event -14\", \"Event -15\", \"Event -16\", \"Event -17\", \"Event -18\", \"Event -19\", \"Event -20\", \"Event -21\", \"Event -22\", \"Pruned Events\"], \"type\": \"ordinal\"}}}, {\"mark\": {\"type\": \"text\", \"align\": \"right\", \"baseline\": \"middle\", \"color\": \"#798184\", \"dx\": 18, \"fontSize\": 15}, \"encoding\": {\"text\": {\"field\": \"rounded_str\", \"type\": \"nominal\"}, \"x\": {\"axis\": {\"domain\": false, \"labels\": false, \"title\": \"Shapley Value\", \"titleX\": 43}, \"field\": \"column\", \"type\": \"ordinal\"}, \"y\": {\"axis\": {\"domain\": false, \"labelFontSize\": 15, \"title\": \"Event\", \"titleFontSize\": 15, \"titleX\": -49}, \"field\": \"Feature\", \"sort\": [\"Event -1\", \"Event -2\", \"Event -3\", \"Event -4\", \"Event -5\", \"Event -6\", \"Event -7\", \"Event -8\", \"Event -9\", \"Event -10\", \"Event -11\", \"Event -12\", \"Event -13\", \"Event -14\", \"Event -15\", \"Event -16\", \"Event -17\", \"Event -18\", \"Event -19\", \"Event -20\", \"Event -21\", \"Event -22\", \"Pruned Events\"], \"type\": \"ordinal\"}}}], \"data\": {\"name\": \"data-61b173ab93197740298f857f697c06b3\"}, \"height\": 225, \"width\": 60}, {\"layer\": [{\"data\": {\"name\": \"data-d18d9bdca412c918e74391b6bf6ff3e3\"}, \"mark\": {\"type\": \"bar\", \"size\": 15, \"thickness\": 1}, \"encoding\": {\"x\": {\"axis\": {\"grid\": true, \"labelFontSize\": 15, \"title\": \"Shapley Value\", \"titleFontSize\": 15}, \"field\": \"Shapley Value\", \"scale\": {\"domain\": [-0.1, 0.4]}, \"type\": \"quantitative\"}, \"y\": {\"axis\": {\"labelFontSize\": 15, \"title\": \"Feature\", \"titleFontSize\": 15, \"titleX\": -61}, \"field\": \"Feature\", \"sort\": {\"field\": \"sort_col\", \"order\": \"descending\"}, \"type\": \"nominal\"}}}, {\"data\": {\"name\": \"data-9c00aa9dc2b1c1a0b4bf9b34ead12925\"}, \"mark\": {\"type\": \"rule\", \"color\": \"#798184\"}, \"encoding\": {\"x\": {\"field\": \"x\", \"type\": \"quantitative\"}}}], \"height\": 225, \"width\": 190}, {\"hconcat\": [{\"layer\": [{\"mark\": \"rect\", \"encoding\": {\"color\": {\"field\": \"rounded\", \"legend\": null, \"scale\": {\"domain\": [-0.5, 0.5], \"range\": [\"#5f8fd6\", \"#99c3fb\", \"#f5f5f5\", \"#ffaa92\", \"#d16f5b\"]}, \"title\": null, \"type\": \"quantitative\"}, \"x\": {\"axis\": {\"titleFontSize\": 15}, \"field\": \"Event\", \"type\": \"nominal\"}, \"y\": {\"axis\": {\"domain\": false, \"labels\": false, \"title\": null}, \"field\": \"Feature\", \"type\": \"nominal\"}}}, {\"mark\": {\"type\": \"text\", \"align\": \"right\", \"baseline\": \"middle\", \"color\": \"#798184\", \"dx\": 18, \"fontSize\": 15}, \"encoding\": {\"text\": {\"field\": \"rounded_str\", \"type\": \"nominal\"}, \"x\": {\"axis\": {\"domain\": false, \"labelAngle\": 0, \"labelFontSize\": 15, \"labelOffset\": 24, \"labelPadding\": 30, \"orient\": \"top\", \"title\": null}, \"field\": \"Event\", \"type\": \"nominal\"}, \"y\": {\"axis\": {\"domain\": false, \"labels\": false, \"title\": null}, \"field\": \"Feature\", \"type\": \"nominal\"}}}], \"data\": {\"name\": \"data-44d42f2df18ba424df6e983db6ef10d1\"}, \"height\": 225, \"width\": 66.66666666666667}, {\"layer\": [{\"mark\": \"rect\", \"encoding\": {\"color\": {\"field\": \"rounded\", \"legend\": {\"gradientLength\": 225, \"gradientThickness\": 10, \"labelFontSize\": 15, \"orient\": \"right\"}, \"scale\": {\"domain\": [-0.5, 0.5], \"range\": [\"#5f8fd6\", \"#99c3fb\", \"#f5f5f5\", \"#ffaa92\", \"#d16f5b\"]}, \"title\": null, \"type\": \"quantitative\"}, \"x\": {\"axis\": {\"titleFontSize\": 15}, \"field\": \"Event\", \"sort\": [\"Event -5\", \"Event -4\"], \"type\": \"nominal\"}, \"y\": {\"axis\": {\"domain\": false, \"labelFontSize\": 15, \"title\": null}, \"field\": \"Feature\", \"sort\": [\"STD Chest <-> Left Ankle\", \"STD Right Ankle <-> Left Ankle\"], \"type\": \"nominal\"}}}, {\"mark\": {\"type\": \"text\", \"align\": \"right\", \"baseline\": \"middle\", \"color\": \"#798184\", \"dx\": 18, \"fontSize\": 15}, \"encoding\": {\"text\": {\"field\": \"rounded_str\", \"type\": \"nominal\"}, \"x\": {\"axis\": {\"domain\": false, \"labelAngle\": 30, \"labelFontSize\": 15, \"orient\": \"top\", \"title\": \"Shapley Value\", \"titleX\": 172, \"titleY\": 245}, \"field\": \"Event\", \"sort\": [\"Event -5\", \"Event -4\"], \"type\": \"nominal\"}, \"y\": {\"axis\": {\"domain\": false, \"labelFontSize\": 15, \"title\": null}, \"field\": \"Feature\", \"sort\": [\"STD Chest <-> Left Ankle\", \"STD Right Ankle <-> Left Ankle\"], \"type\": \"nominal\"}}}], \"data\": {\"name\": \"data-ec027994aaeab97565fb8a8f91f08640\"}, \"height\": 225, \"width\": 160}], \"resolve\": {\"scale\": {\"color\": \"independent\"}}}], \"resolve\": {\"scale\": {\"color\": \"independent\"}}, \"$schema\": \"https://vega.github.io/schema/vega-lite/v4.17.0.json\", \"datasets\": {\"data-347143c4b2e2ef3672684b8eac4007a8\": [{\"Coalition\": \"Sum of contribution of events > t\", \"t (event index)\": 0, \"Shapley Value\": 1.4901161193847656e-08}, {\"Coalition\": \"Sum of contribution of events \\u2264 t\", \"t (event index)\": 0, \"Shapley Value\": 0.22063785046339035}, {\"Coalition\": \"Sum of contribution of events > t\", \"t (event index)\": -1, \"Shapley Value\": 0.03900375869125128}, {\"Coalition\": \"Sum of contribution of events \\u2264 t\", \"t (event index)\": -1, \"Shapley Value\": 0.18163410667330027}, {\"Coalition\": \"Sum of contribution of events > t\", \"t (event index)\": -2, \"Shapley Value\": 0.07649384345859289}, {\"Coalition\": \"Sum of contribution of events \\u2264 t\", \"t (event index)\": -2, \"Shapley Value\": 0.14414402190595865}, {\"Coalition\": \"Sum of contribution of events > t\", \"t (event index)\": -3, \"Shapley Value\": 0.09377604071050882}, {\"Coalition\": \"Sum of contribution of events \\u2264 t\", \"t (event index)\": -3, \"Shapley Value\": 0.12686182465404272}, {\"Coalition\": \"Sum of contribution of events > t\", \"t (event index)\": -4, \"Shapley Value\": 0.10629005264490843}, {\"Coalition\": \"Sum of contribution of events \\u2264 t\", \"t (event index)\": -4, \"Shapley Value\": 0.11434781271964312}, {\"Coalition\": \"Sum of contribution of events > t\", \"t (event index)\": -5, \"Shapley Value\": 0.11224106792360544}, {\"Coalition\": \"Sum of contribution of events \\u2264 t\", \"t (event index)\": -5, \"Shapley Value\": 0.1083967974409461}, {\"Coalition\": \"Sum of contribution of events > t\", \"t (event index)\": -6, \"Shapley Value\": 0.11387897748500109}, {\"Coalition\": \"Sum of contribution of events \\u2264 t\", \"t (event index)\": -6, \"Shapley Value\": 0.10675888787955046}, {\"Coalition\": \"Sum of contribution of events > t\", \"t (event index)\": -7, \"Shapley Value\": 0.11651990935206413}, {\"Coalition\": \"Sum of contribution of events \\u2264 t\", \"t (event index)\": -7, \"Shapley Value\": 0.10411795601248741}, {\"Coalition\": \"Sum of contribution of events > t\", \"t (event index)\": -8, \"Shapley Value\": 0.11931431572884321}, {\"Coalition\": \"Sum of contribution of events \\u2264 t\", \"t (event index)\": -8, \"Shapley Value\": 0.10132354963570833}, {\"Coalition\": \"Sum of contribution of events > t\", \"t (event index)\": -9, \"Shapley Value\": 0.12071730941534042}, {\"Coalition\": \"Sum of contribution of events \\u2264 t\", \"t (event index)\": -9, \"Shapley Value\": 0.09992055594921112}, {\"Coalition\": \"Sum of contribution of events > t\", \"t (event index)\": -10, \"Shapley Value\": 0.12912303674966097}, {\"Coalition\": \"Sum of contribution of events \\u2264 t\", \"t (event index)\": -10, \"Shapley Value\": 0.09151482861489058}, {\"Coalition\": \"Sum of contribution of events > t\", \"t (event index)\": -11, \"Shapley Value\": 0.13480287697166204}, {\"Coalition\": \"Sum of contribution of events \\u2264 t\", \"t (event index)\": -11, \"Shapley Value\": 0.0858349883928895}, {\"Coalition\": \"Sum of contribution of events > t\", \"t (event index)\": -12, \"Shapley Value\": 0.13834376260638237}, {\"Coalition\": \"Sum of contribution of events \\u2264 t\", \"t (event index)\": -12, \"Shapley Value\": 0.08229410275816917}, {\"Coalition\": \"Sum of contribution of events > t\", \"t (event index)\": -13, \"Shapley Value\": 0.1426615882664919}, {\"Coalition\": \"Sum of contribution of events \\u2264 t\", \"t (event index)\": -13, \"Shapley Value\": 0.07797627709805965}, {\"Coalition\": \"Sum of contribution of events > t\", \"t (event index)\": -14, \"Shapley Value\": 0.15037894248962402}, {\"Coalition\": \"Sum of contribution of events \\u2264 t\", \"t (event index)\": -14, \"Shapley Value\": 0.07025892287492752}, {\"Coalition\": \"Sum of contribution of events > t\", \"t (event index)\": -15, \"Shapley Value\": 0.1567308073863387}, {\"Coalition\": \"Sum of contribution of events \\u2264 t\", \"t (event index)\": -15, \"Shapley Value\": 0.06390705797821283}, {\"Coalition\": \"Sum of contribution of events > t\", \"t (event index)\": -16, \"Shapley Value\": 0.17196995485574007}, {\"Coalition\": \"Sum of contribution of events \\u2264 t\", \"t (event index)\": -16, \"Shapley Value\": 0.048667910508811474}, {\"Coalition\": \"Sum of contribution of events > t\", \"t (event index)\": -17, \"Shapley Value\": 0.17432423494756222}, {\"Coalition\": \"Sum of contribution of events \\u2264 t\", \"t (event index)\": -17, \"Shapley Value\": 0.046313630416989326}, {\"Coalition\": \"Sum of contribution of events > t\", \"t (event index)\": -18, \"Shapley Value\": 0.17642942536622286}, {\"Coalition\": \"Sum of contribution of events \\u2264 t\", \"t (event index)\": -18, \"Shapley Value\": 0.044208439998328686}, {\"Coalition\": \"Sum of contribution of events > t\", \"t (event index)\": -19, \"Shapley Value\": 0.17976772785186768}, {\"Coalition\": \"Sum of contribution of events \\u2264 t\", \"t (event index)\": -19, \"Shapley Value\": 0.04087013751268387}, {\"Coalition\": \"Sum of contribution of events > t\", \"t (event index)\": -20, \"Shapley Value\": 0.1867863042280078}, {\"Coalition\": \"Sum of contribution of events \\u2264 t\", \"t (event index)\": -20, \"Shapley Value\": 0.03385156113654375}, {\"Coalition\": \"Sum of contribution of events > t\", \"t (event index)\": -21, \"Shapley Value\": 0.19142601266503334}, {\"Coalition\": \"Sum of contribution of events \\u2264 t\", \"t (event index)\": -21, \"Shapley Value\": 0.029211852699518204}, {\"Coalition\": \"Sum of contribution of events > t\", \"t (event index)\": -22, \"Shapley Value\": 0.1979961171746254}, {\"Coalition\": \"Sum of contribution of events \\u2264 t\", \"t (event index)\": -22, \"Shapley Value\": 0.022641748189926147}, {\"Coalition\": \"Sum of contribution of events > t\", \"t (event index)\": -23, \"Shapley Value\": 0.20375491119921207}, {\"Coalition\": \"Sum of contribution of events \\u2264 t\", \"t (event index)\": -23, \"Shapley Value\": 0.01688295416533947}, {\"Coalition\": \"Sum of contribution of events > t\", \"t (event index)\": -24, \"Shapley Value\": 0.20530149526894093}, {\"Coalition\": \"Sum of contribution of events \\u2264 t\", \"t (event index)\": -24, \"Shapley Value\": 0.015336370095610619}, {\"Coalition\": \"Sum of contribution of events > t\", \"t (event index)\": -25, \"Shapley Value\": 0.20875856839120388}, {\"Coalition\": \"Sum of contribution of events \\u2264 t\", \"t (event index)\": -25, \"Shapley Value\": 0.011879296973347664}, {\"Coalition\": \"Sum of contribution of events > t\", \"t (event index)\": -26, \"Shapley Value\": 0.2087441422045231}, {\"Coalition\": \"Sum of contribution of events \\u2264 t\", \"t (event index)\": -26, \"Shapley Value\": 0.011893723160028458}, {\"Coalition\": \"Sum of contribution of events > t\", \"t (event index)\": -27, \"Shapley Value\": 0.20922659896314144}, {\"Coalition\": \"Sum of contribution of events \\u2264 t\", \"t (event index)\": -27, \"Shapley Value\": 0.011411266401410103}, {\"Coalition\": \"Sum of contribution of events > t\", \"t (event index)\": -28, \"Shapley Value\": 0.2118420833721757}, {\"Coalition\": \"Sum of contribution of events \\u2264 t\", \"t (event index)\": -28, \"Shapley Value\": 0.00879578199237585}, {\"Coalition\": \"Sum of contribution of events > t\", \"t (event index)\": -29, \"Shapley Value\": 0.21255227271467447}, {\"Coalition\": \"Sum of contribution of events \\u2264 t\", \"t (event index)\": -29, \"Shapley Value\": 0.008085592649877071}, {\"Coalition\": \"Sum of contribution of events > t\", \"t (event index)\": -30, \"Shapley Value\": 0.21387277077883482}, {\"Coalition\": \"Sum of contribution of events \\u2264 t\", \"t (event index)\": -30, \"Shapley Value\": 0.006765094585716724}, {\"Coalition\": \"Sum of contribution of events > t\", \"t (event index)\": -31, \"Shapley Value\": 0.2149960407987237}, {\"Coalition\": \"Sum of contribution of events \\u2264 t\", \"t (event index)\": -31, \"Shapley Value\": 0.0056418245658278465}, {\"Coalition\": \"Sum of contribution of events > t\", \"t (event index)\": -32, \"Shapley Value\": 0.21589866373687983}, {\"Coalition\": \"Sum of contribution of events \\u2264 t\", \"t (event index)\": -32, \"Shapley Value\": 0.004739201627671719}, {\"Coalition\": \"Sum of contribution of events > t\", \"t (event index)\": -33, \"Shapley Value\": 0.21738334838300943}, {\"Coalition\": \"Sum of contribution of events \\u2264 t\", \"t (event index)\": -33, \"Shapley Value\": 0.0032545169815421104}, {\"Coalition\": \"Sum of contribution of events > t\", \"t (event index)\": -34, \"Shapley Value\": 0.21804083604365587}, {\"Coalition\": \"Sum of contribution of events \\u2264 t\", \"t (event index)\": -34, \"Shapley Value\": 0.002597029320895672}, {\"Coalition\": \"Sum of contribution of events > t\", \"t (event index)\": -35, \"Shapley Value\": 0.218355524353683}, {\"Coalition\": \"Sum of contribution of events \\u2264 t\", \"t (event index)\": -35, \"Shapley Value\": 0.0022823410108685493}, {\"Coalition\": \"Sum of contribution of events > t\", \"t (event index)\": -36, \"Shapley Value\": 0.21903524827212095}, {\"Coalition\": \"Sum of contribution of events \\u2264 t\", \"t (event index)\": -36, \"Shapley Value\": 0.0016026170924305916}, {\"Coalition\": \"Sum of contribution of events > t\", \"t (event index)\": -37, \"Shapley Value\": 0.21953989937901497}, {\"Coalition\": \"Sum of contribution of events \\u2264 t\", \"t (event index)\": -37, \"Shapley Value\": 0.0010979659855365753}, {\"Coalition\": \"Sum of contribution of events > t\", \"t (event index)\": -38, \"Shapley Value\": 0.21959508024156094}, {\"Coalition\": \"Sum of contribution of events \\u2264 t\", \"t (event index)\": -38, \"Shapley Value\": 0.0010427851229906082}, {\"Coalition\": \"Sum of contribution of events > t\", \"t (event index)\": -39, \"Shapley Value\": 0.21985546965152025}, {\"Coalition\": \"Sum of contribution of events \\u2264 t\", \"t (event index)\": -39, \"Shapley Value\": 0.000782395713031292}, {\"Coalition\": \"Sum of contribution of events > t\", \"t (event index)\": -40, \"Shapley Value\": 0.22007115744054317}, {\"Coalition\": \"Sum of contribution of events \\u2264 t\", \"t (event index)\": -40, \"Shapley Value\": 0.0005667079240083694}], \"data-ee8aec25528fa53b6011f1eacee6f6c5\": [{\"x\": -22}], \"data-5e7f4e825ef47f31d6c308e6e3010866\": [{\"x\": -24}], \"data-61b173ab93197740298f857f697c06b3\": [{\"Shapley Value\": 0.013829644146017589, \"Feature\": \"Event -1\", \"row\": 1, \"column\": 1, \"rounded\": 0.014, \"rounded_str\": \"0.014\"}, {\"Shapley Value\": 0.02088360289481303, \"Feature\": \"Event -2\", \"row\": 2, \"column\": 1, \"rounded\": 0.021, \"rounded_str\": \"0.021\"}, {\"Shapley Value\": 0.018951665014137517, \"Feature\": \"Event -3\", \"row\": 3, \"column\": 1, \"rounded\": 0.019, \"rounded_str\": \"0.019\"}, {\"Shapley Value\": 0.023225266222932056, \"Feature\": \"Event -4\", \"row\": 4, \"column\": 1, \"rounded\": 0.023, \"rounded_str\": \"0.023\"}, {\"Shapley Value\": 0.021262957860018278, \"Feature\": \"Event -5\", \"row\": 5, \"column\": 1, \"rounded\": 0.021, \"rounded_str\": \"0.021\"}, {\"Shapley Value\": 0.009687429099623251, \"Feature\": \"Event -6\", \"row\": 6, \"column\": 1, \"rounded\": 0.01, \"rounded_str\": \"0.010\"}, {\"Shapley Value\": 0.014472527036080735, \"Feature\": \"Event -7\", \"row\": 7, \"column\": 1, \"rounded\": 0.014, \"rounded_str\": \"0.014\"}, {\"Shapley Value\": 0.012830554352454782, \"Feature\": \"Event -8\", \"row\": 8, \"column\": 1, \"rounded\": 0.013, \"rounded_str\": \"0.013\"}, {\"Shapley Value\": 0.006274965223255519, \"Feature\": \"Event -9\", \"row\": 9, \"column\": 1, \"rounded\": 0.006, \"rounded_str\": \"0.006\"}, {\"Shapley Value\": 0.02012923638144353, \"Feature\": \"Event -10\", \"row\": 10, \"column\": 1, \"rounded\": 0.02, \"rounded_str\": \"0.020\"}, {\"Shapley Value\": 0.010369198397454128, \"Feature\": \"Event -11\", \"row\": 11, \"column\": 1, \"rounded\": 0.01, \"rounded_str\": \"0.010\"}, {\"Shapley Value\": 0.006313391948352315, \"Feature\": \"Event -12\", \"row\": 12, \"column\": 1, \"rounded\": 0.006, \"rounded_str\": \"0.006\"}, {\"Shapley Value\": 0.00641691799954628, \"Feature\": \"Event -13\", \"row\": 13, \"column\": 1, \"rounded\": 0.006, \"rounded_str\": \"0.006\"}, {\"Shapley Value\": 0.007172517885129893, \"Feature\": \"Event -14\", \"row\": 14, \"column\": 1, \"rounded\": 0.007, \"rounded_str\": \"0.007\"}, {\"Shapley Value\": 0.004609306636355198, \"Feature\": \"Event -15\", \"row\": 15, \"column\": 1, \"rounded\": 0.005, \"rounded_str\": \"0.005\"}, {\"Shapley Value\": 0.007735136849869199, \"Feature\": \"Event -16\", \"row\": 16, \"column\": 1, \"rounded\": 0.008, \"rounded_str\": \"0.008\"}, {\"Shapley Value\": 0.0004172608593029127, \"Feature\": \"Event -17\", \"row\": 17, \"column\": 1, \"rounded\": 0.0, \"rounded_str\": \"0.000\"}, {\"Shapley Value\": 0.0015513358673506193, \"Feature\": \"Event -18\", \"row\": 18, \"column\": 1, \"rounded\": 0.002, \"rounded_str\": \"0.002\"}, {\"Shapley Value\": 0.0016076211860951567, \"Feature\": \"Event -19\", \"row\": 19, \"column\": 1, \"rounded\": 0.002, \"rounded_str\": \"0.002\"}, {\"Shapley Value\": 0.0028134518943941436, \"Feature\": \"Event -20\", \"row\": 20, \"column\": 1, \"rounded\": 0.003, \"rounded_str\": \"0.003\"}, {\"Shapley Value\": 0.0013147289777525883, \"Feature\": \"Event -21\", \"row\": 21, \"column\": 1, \"rounded\": 0.001, \"rounded_str\": \"0.001\"}, {\"Shapley Value\": 0.0015035921587231993, \"Feature\": \"Event -22\", \"row\": 22, \"column\": 1, \"rounded\": 0.002, \"rounded_str\": \"0.002\"}, {\"Shapley Value\": 0.007265556473449619, \"Feature\": \"Pruned Events\", \"row\": 23, \"column\": 1, \"rounded\": 0.007, \"rounded_str\": \"0.007\"}], \"data-d18d9bdca412c918e74391b6bf6ff3e3\": [{\"Random seed\": 42, \"NSamples\": 32000, \"Feature\": \"Mean Chest <-> Right Ankle\", \"Shapley Value\": -0.011276617797002841, \"sort_col\": 0.011276617797002841}, {\"Random seed\": 42, \"NSamples\": 32000, \"Feature\": \"STD Chest <-> Right Ankle\", \"Shapley Value\": 0.029537179139221034, \"sort_col\": 0.029537179139221034}, {\"Random seed\": 42, \"NSamples\": 32000, \"Feature\": \"Mean Chest <-> Left Ankle\", \"Shapley Value\": 0.03618330434408214, \"sort_col\": 0.03618330434408214}, {\"Random seed\": 42, \"NSamples\": 32000, \"Feature\": \"STD Chest <-> Left Ankle\", \"Shapley Value\": 0.05428117160197525, \"sort_col\": 0.05428117160197525}, {\"Random seed\": 42, \"NSamples\": 32000, \"Feature\": \"Mean Right Ankle <-> Left Ankle\", \"Shapley Value\": 0.047046773140096865, \"sort_col\": 0.047046773140096865}, {\"Random seed\": 42, \"NSamples\": 32000, \"Feature\": \"STD Right Ankle <-> Left Ankle\", \"Shapley Value\": 0.05309635273934821, \"sort_col\": 0.05309635273934821}, {\"Random seed\": 42, \"NSamples\": 32000, \"Feature\": \"Pruned Events\", \"Shapley Value\": 0.011769702196830878, \"sort_col\": 0.011769702196830878}], \"data-9c00aa9dc2b1c1a0b4bf9b34ead12925\": [{\"x\": 0}], \"data-44d42f2df18ba424df6e983db6ef10d1\": [{\"Event\": [\"Pruned\", \"Events\"], \"Feature\": \"Other features\", \"rounded\": 0.01, \"rounded_str\": \"0.010\"}], \"data-ec027994aaeab97565fb8a8f91f08640\": [{\"Event\": \"Other Events\", \"Feature\": \"Other Features\", \"Shapley Value\": 0.0568268637113746, \"rounded\": 0.057, \"rounded_str\": \"0.057\"}, {\"Event\": \"Other Events\", \"Feature\": \"STD Right Ankle <-> Left Ankle\", \"Shapley Value\": 0.04673204565982486, \"rounded\": 0.047, \"rounded_str\": \"0.047\"}, {\"Event\": \"Other Events\", \"Feature\": \"STD Chest <-> Left Ankle\", \"Shapley Value\": 0.03640172711410909, \"rounded\": 0.036, \"rounded_str\": \"0.036\"}, {\"Event\": \"Event -5\", \"Feature\": \"STD Chest <-> Left Ankle\", \"Shapley Value\": 0.026500541908991593, \"rounded\": 0.027, \"rounded_str\": \"0.027\"}, {\"Event\": \"Event -4\", \"Feature\": \"Other Features\", \"Shapley Value\": 0.021239284091141248, \"rounded\": 0.021, \"rounded_str\": \"0.021\"}, {\"Event\": \"Event -4\", \"Feature\": \"STD Chest <-> Left Ankle\", \"Shapley Value\": 0.014810876162456549, \"rounded\": 0.015, \"rounded_str\": \"0.015\"}, {\"Event\": \"Event -5\", \"Feature\": \"STD Right Ankle <-> Left Ankle\", \"Shapley Value\": 0.005667797248396628, \"rounded\": 0.006, \"rounded_str\": \"0.006\"}, {\"Event\": \"Event -4\", \"Feature\": \"STD Right Ankle <-> Left Ankle\", \"Shapley Value\": 0.0032060909003670812, \"rounded\": 0.003, \"rounded_str\": \"0.003\"}, {\"Event\": \"Event -5\", \"Feature\": \"Other Features\", \"Shapley Value\": -0.0011292079190116239, \"rounded\": -0.001, \"rounded_str\": \"-0.001\"}]}}, {\"mode\": \"vega-lite\"});\n",
       "</script>"
      ],
      "text/plain": [
       "alt.HConcatChart(...)"
      ]
     },
     "execution_count": 20,
     "metadata": {},
     "output_type": "execute_result"
    }
   ],
   "source": [
    "from timeshap.explainer import local_report\n",
    "\n",
    "pruning_dict = {'tol': 0.025}\n",
    "event_dict = {'rs': 42, 'nsamples': 32000}\n",
    "feature_dict = {'rs': 42, 'nsamples': 32000, 'feature_names': model_features, 'plot_features': plot_feats}\n",
    "cell_dict = {'rs': 42, 'nsamples': 32000, 'top_x_feats': 2, 'top_x_events': 2}\n",
    "local_report(f_hs, pos_x_data, pruning_dict, event_dict, feature_dict, cell_dict=cell_dict, entity_uuid=positive_sequence_id, entity_col='all_id', baseline=average_event)"
   ]
  },
  {
   "cell_type": "markdown",
   "id": "e5495971",
   "metadata": {},
   "source": [
    "## 3.2 Global Explanations"
   ]
  },
  {
   "cell_type": "markdown",
   "id": "64cdc2d4",
   "metadata": {},
   "source": [
    "### Explain all \n",
    "\n",
    "TimeSHAP offers methods to explain all instances and save as CSV.\n",
    "This allows for global explanations and local plots with no calculation delay."
   ]
  },
  {
   "cell_type": "code",
   "execution_count": 21,
   "id": "c6632ec1",
   "metadata": {},
   "outputs": [
    {
     "name": "stdout",
     "output_type": "stream",
     "text": [
      "Calculating pruning algorithms\n",
      "Calculating pruning indexes\n",
      "Calculating event data\n",
      "No path to event data provided. Calculating data\n",
      "No path to event data provided. Calculating data\n",
      "No path to event data provided. Calculating data\n",
      "No path to event data provided. Calculating data\n",
      "No path to event data provided. Calculating data\n",
      "No path to event data provided. Calculating data\n",
      "No path to event data provided. Calculating data\n",
      "No path to event data provided. Calculating data\n",
      "No path to event data provided. Calculating data\n",
      "No path to event data provided. Calculating data\n",
      "No path to event data provided. Calculating data\n",
      "No path to event data provided. Calculating data\n",
      "Calculating global event plot\n",
      "Calculating feat data\n",
      "No path to feature data provided. Calculating data\n",
      "No path to feature data provided. Calculating data\n",
      "No path to feature data provided. Calculating data\n",
      "No path to feature data provided. Calculating data\n",
      "No path to feature data provided. Calculating data\n",
      "No path to feature data provided. Calculating data\n",
      "No path to feature data provided. Calculating data\n",
      "No path to feature data provided. Calculating data\n",
      "No path to feature data provided. Calculating data\n",
      "No path to feature data provided. Calculating data\n",
      "No path to feature data provided. Calculating data\n",
      "No path to feature data provided. Calculating data\n",
      "Calculating global feat plot\n"
     ]
    },
    {
     "data": {
      "text/html": [
       "<div>\n",
       "<style scoped>\n",
       "    .dataframe tbody tr th:only-of-type {\n",
       "        vertical-align: middle;\n",
       "    }\n",
       "\n",
       "    .dataframe tbody tr th {\n",
       "        vertical-align: top;\n",
       "    }\n",
       "\n",
       "    .dataframe thead th {\n",
       "        text-align: right;\n",
       "    }\n",
       "</style>\n",
       "<table border=\"1\" class=\"dataframe\">\n",
       "  <thead>\n",
       "    <tr style=\"text-align: right;\">\n",
       "      <th></th>\n",
       "      <th>Tolerance</th>\n",
       "      <th>Mean</th>\n",
       "      <th>Std</th>\n",
       "    </tr>\n",
       "  </thead>\n",
       "  <tbody>\n",
       "    <tr>\n",
       "      <th>0</th>\n",
       "      <td>0.05</td>\n",
       "      <td>13.75</td>\n",
       "      <td>6.652067</td>\n",
       "    </tr>\n",
       "    <tr>\n",
       "      <th>1</th>\n",
       "      <td>0.075</td>\n",
       "      <td>11.25</td>\n",
       "      <td>6.898067</td>\n",
       "    </tr>\n",
       "    <tr>\n",
       "      <th>2</th>\n",
       "      <td>0.076</td>\n",
       "      <td>11.25</td>\n",
       "      <td>6.898067</td>\n",
       "    </tr>\n",
       "    <tr>\n",
       "      <th>3</th>\n",
       "      <td>No Pruning</td>\n",
       "      <td>480.00</td>\n",
       "      <td>0.000000</td>\n",
       "    </tr>\n",
       "  </tbody>\n",
       "</table>\n",
       "</div>"
      ],
      "text/plain": [
       "    Tolerance    Mean       Std\n",
       "0        0.05   13.75  6.652067\n",
       "1       0.075   11.25  6.898067\n",
       "2       0.076   11.25  6.898067\n",
       "3  No Pruning  480.00  0.000000"
      ]
     },
     "execution_count": 21,
     "metadata": {},
     "output_type": "execute_result"
    }
   ],
   "source": [
    "from timeshap.explainer import global_report\n",
    "\n",
    "pos_dataset = d_test_normalized[d_test_normalized['label'] == 1]\n",
    "pruning_dict = {'tol': [0.05, 0.075, 0.076], 'path': 'outputs/prun_all.csv'}\n",
    "event_dict = {'path': 'outputs/event_all.csv', 'rs': 42, 'nsamples': 32000}\n",
    "feature_dict = {'path': 'outputs/feature_all.csv', 'rs': 42, 'nsamples': 32000, 'feature_names': model_features, 'plot_features': plot_feats,}\n",
    "prun_stats, global_plot = global_report(f_hs, pos_dataset, pruning_dict, event_dict, feature_dict, sequence_id_feat, time_feat, model_features, baseline=average_event)\n",
    "prun_stats"
   ]
  },
  {
   "cell_type": "code",
   "execution_count": 22,
   "id": "2f85451d",
   "metadata": {},
   "outputs": [
    {
     "data": {
      "text/html": [
       "\n",
       "<div id=\"altair-viz-2b56d281289b464e9398d2c9b8bd94d5\"></div>\n",
       "<script type=\"text/javascript\">\n",
       "  var VEGA_DEBUG = (typeof VEGA_DEBUG == \"undefined\") ? {} : VEGA_DEBUG;\n",
       "  (function(spec, embedOpt){\n",
       "    let outputDiv = document.currentScript.previousElementSibling;\n",
       "    if (outputDiv.id !== \"altair-viz-2b56d281289b464e9398d2c9b8bd94d5\") {\n",
       "      outputDiv = document.getElementById(\"altair-viz-2b56d281289b464e9398d2c9b8bd94d5\");\n",
       "    }\n",
       "    const paths = {\n",
       "      \"vega\": \"https://cdn.jsdelivr.net/npm//vega@5?noext\",\n",
       "      \"vega-lib\": \"https://cdn.jsdelivr.net/npm//vega-lib?noext\",\n",
       "      \"vega-lite\": \"https://cdn.jsdelivr.net/npm//vega-lite@4.17.0?noext\",\n",
       "      \"vega-embed\": \"https://cdn.jsdelivr.net/npm//vega-embed@6?noext\",\n",
       "    };\n",
       "\n",
       "    function maybeLoadScript(lib, version) {\n",
       "      var key = `${lib.replace(\"-\", \"\")}_version`;\n",
       "      return (VEGA_DEBUG[key] == version) ?\n",
       "        Promise.resolve(paths[lib]) :\n",
       "        new Promise(function(resolve, reject) {\n",
       "          var s = document.createElement('script');\n",
       "          document.getElementsByTagName(\"head\")[0].appendChild(s);\n",
       "          s.async = true;\n",
       "          s.onload = () => {\n",
       "            VEGA_DEBUG[key] = version;\n",
       "            return resolve(paths[lib]);\n",
       "          };\n",
       "          s.onerror = () => reject(`Error loading script: ${paths[lib]}`);\n",
       "          s.src = paths[lib];\n",
       "        });\n",
       "    }\n",
       "\n",
       "    function showError(err) {\n",
       "      outputDiv.innerHTML = `<div class=\"error\" style=\"color:red;\">${err}</div>`;\n",
       "      throw err;\n",
       "    }\n",
       "\n",
       "    function displayChart(vegaEmbed) {\n",
       "      vegaEmbed(outputDiv, spec, embedOpt)\n",
       "        .catch(err => showError(`Javascript Error: ${err.message}<br>This usually means there's a typo in your chart specification. See the javascript console for the full traceback.`));\n",
       "    }\n",
       "\n",
       "    if(typeof define === \"function\" && define.amd) {\n",
       "      requirejs.config({paths});\n",
       "      require([\"vega-embed\"], displayChart, err => showError(`Error loading script: ${err.message}`));\n",
       "    } else {\n",
       "      maybeLoadScript(\"vega\", \"5\")\n",
       "        .then(() => maybeLoadScript(\"vega-lite\", \"4.17.0\"))\n",
       "        .then(() => maybeLoadScript(\"vega-embed\", \"6\"))\n",
       "        .catch(showError)\n",
       "        .then(() => displayChart(vegaEmbed));\n",
       "    }\n",
       "  })({\"config\": {\"axis\": {\"domain\": true, \"domainColor\": \"#798184\", \"grid\": false, \"gridColor\": \"#798184\", \"gridOpacity\": 0.5, \"gridDash\": [3, 5], \"gridWidth\": 0.8, \"gridCap\": \"round\", \"labelPadding\": 3, \"labelFont\": \"Roboto\", \"labelColor\": \"#798184\", \"tickSize\": 5, \"tickColor\": \"#798184\", \"tickOpacity\": 0.5, \"titleColor\": \"#384140\", \"titleFont\": \"Roboto\", \"titleFontSize\": 12}, \"axisBand\": {\"domain\": true, \"ticks\": false, \"labelPadding\": 7}, \"axisY\": {\"domain\": false, \"titleAlign\": \"left\", \"titleAngle\": 0, \"titleX\": -20, \"titleY\": -10}, \"legend\": {\"labelColor\": \"#798184\", \"labelFontSize\": 12, \"symbolSize\": 40, \"titleColor\": \"#384140\", \"titleFontSize\": 12, \"titlePadding\": 10, \"titleFont\": \"Roboto\", \"labelFont\": \"Roboto\"}, \"line\": {\"stroke\": \"#618FE0\", \"strokeWidth\": 2}, \"rule\": {\"stroke\": \"#798184\"}, \"path\": {\"stroke\": \"#618FE0\", \"strokeWidth\": 0.5}, \"rect\": {\"fill\": \"#618FE0\"}, \"point\": {\"filled\": true, \"shape\": \"circle\"}, \"shape\": {\"stroke\": \"#618FE0\"}, \"bar\": {\"fill\": \"#618FE0\", \"stroke\": null}, \"text\": {\"font\": \"Roboto\", \"color\": \"#384140\", \"fontSize\": 12}, \"arc\": {\"stroke\": \"#fff\", \"strokeWidth\": 1}, \"range\": {\"category\": [\"#618FE0\", \"#50D0B0\", \"#E17560\", \"#E8B474\", \"#D889C4\", \"#34A3BC\", \"#A583A4\"], \"ramp\": [\"#001854\", \"#002f72\", \"#04478e\", \"#1e5fab\", \"#4477c5\", \"#6290e1\", \"#7ea9fd\", \"#9ec7ff\", \"#bde4ff\"], \"heatmap\": [\"#001854\", \"#002f72\", \"#04478e\", \"#1e5fab\", \"#4477c5\", \"#6290e1\", \"#7ea9fd\", \"#9ec7ff\", \"#bde4ff\"], \"diverging\": [\"#003b26\", \"#006b52\", \"#1aa082\", \"#55d5b5\", \"#f5f5f5\", \"#ffaa92\", \"#d16f5b\", \"#9e392c\", \"#650200\"]}, \"title\": {\"anchor\": \"start\", \"fontSize\": 20, \"color\": \"#384140\", \"fontWeight\": \"bold\", \"offset\": 20, \"font\": \"Roboto\", \"subtitleColor\": \"#384140\", \"subtitleFontSize\": 16}, \"header\": {\"labelFontSize\": 12, \"titleFontSize\": 16, \"labelColor\": \"#384140\", \"titleColor\": \"#384140\", \"titleFont\": \"Roboto\", \"labelFont\": \"Roboto\"}, \"group\": {\"fill\": \"white\"}, \"background\": \"white\", \"view\": {\"stroke\": \"transparent\", \"continuousHeight\": 300, \"continuousWidth\": 400}}, \"hconcat\": [{\"data\": {\"name\": \"data-0d1a5772d02a0f81419bdd446818ca72\"}, \"mark\": {\"type\": \"point\", \"stroke\": \"white\", \"strokeWidth\": 0.6}, \"encoding\": {\"color\": {\"field\": \"type\", \"legend\": {\"fillColor\": \"white\", \"orient\": \"top-left\", \"symbolSize\": 50, \"symbolStrokeWidth\": 0, \"title\": null}, \"scale\": {\"domain\": [\"Shapley Value\", \"Mean\"], \"range\": [\"#48caaa\", \"#d76d58\"]}, \"type\": \"nominal\"}, \"opacity\": {\"condition\": {\"value\": 1.0, \"test\": \"(datum.type === 'Mean')\"}, \"value\": 0.2}, \"size\": {\"condition\": {\"value\": 70, \"test\": \"(datum.type === 'Mean')\"}, \"value\": 30}, \"x\": {\"axis\": {\"labelAngle\": 0}, \"field\": \"t (event index)\", \"type\": \"ordinal\"}, \"y\": {\"axis\": {\"grid\": true, \"titleX\": -23}, \"field\": \"Shapley Value\", \"scale\": {\"domain\": [-0.3, 0.9]}, \"title\": \"Shapley Value\", \"type\": \"quantitative\"}}, \"height\": 150, \"width\": 360}, {\"data\": {\"name\": \"data-66ba81b144f43fd032b2439847f2c161\"}, \"mark\": {\"type\": \"point\", \"stroke\": \"white\", \"strokeWidth\": 0.6}, \"encoding\": {\"color\": {\"field\": \"type\", \"legend\": {\"fillColor\": \"white\", \"orient\": \"bottom-right\", \"symbolSize\": 50, \"symbolStrokeWidth\": 0, \"title\": null}, \"scale\": {\"domain\": [\"Shapley Value\", \"Mean\"], \"range\": [\"#618FE0\", \"#d76d58\"]}, \"type\": \"nominal\"}, \"opacity\": {\"condition\": {\"value\": 1.0, \"test\": \"(datum.type === 'Mean')\"}, \"value\": 0.1}, \"size\": {\"condition\": {\"value\": 70, \"test\": \"(datum.type === 'Mean')\"}, \"value\": 30}, \"x\": {\"axis\": {\"grid\": true, \"title\": \"Shapley Value\"}, \"field\": \"Shapley Value\", \"scale\": {\"domain\": [-0.2, 0.6]}, \"type\": \"quantitative\"}, \"y\": {\"axis\": {\"labelFontSize\": 13, \"titleX\": -51}, \"field\": \"Feature\", \"sort\": [\"Mean Right Ankle <-> Left Ankle\", \"STD Chest <-> Left Ankle\", \"STD Right Ankle <-> Left Ankle\", \"Mean Chest <-> Left Ankle\", \"Pruned Events\", \"STD Chest <-> Right Ankle\", \"Mean Chest <-> Right Ankle\"], \"type\": \"ordinal\"}}, \"height\": 280, \"width\": 288}], \"resolve\": {\"scale\": {\"color\": \"independent\"}}, \"$schema\": \"https://vega.github.io/schema/vega-lite/v4.17.0.json\", \"datasets\": {\"data-0d1a5772d02a0f81419bdd446818ca72\": [{\"Shapley Value\": 0.043549202254512, \"t (event index)\": 0, \"type\": \"Shapley Value\"}, {\"Shapley Value\": 0.0868214289856691, \"t (event index)\": -1, \"type\": \"Shapley Value\"}, {\"Shapley Value\": 0.1065060132072561, \"t (event index)\": -2, \"type\": \"Shapley Value\"}, {\"Shapley Value\": 0.035576852346432, \"t (event index)\": -3, \"type\": \"Shapley Value\"}, {\"Shapley Value\": 0.0161208340181245, \"t (event index)\": -4, \"type\": \"Shapley Value\"}, {\"Shapley Value\": 0.0748460442238013, \"t (event index)\": -5, \"type\": \"Shapley Value\"}, {\"Shapley Value\": 0.0940537487229024, \"t (event index)\": -6, \"type\": \"Shapley Value\"}, {\"Shapley Value\": 0.0599676512717908, \"t (event index)\": -7, \"type\": \"Shapley Value\"}, {\"Shapley Value\": 0.0422722956484912, \"t (event index)\": -8, \"type\": \"Shapley Value\"}, {\"Shapley Value\": 0.0461039234073867, \"t (event index)\": -9, \"type\": \"Shapley Value\"}, {\"Shapley Value\": 0.0, \"t (event index)\": -10, \"type\": \"Shapley Value\"}, {\"Shapley Value\": 0.0310092858059954, \"t (event index)\": -11, \"type\": \"Shapley Value\"}, {\"Shapley Value\": 0.03412235561408, \"t (event index)\": -12, \"type\": \"Shapley Value\"}, {\"Shapley Value\": 0.0148938309745667, \"t (event index)\": -13, \"type\": \"Shapley Value\"}, {\"Shapley Value\": 0.0111094597928109, \"t (event index)\": -14, \"type\": \"Shapley Value\"}, {\"Shapley Value\": 0.0081919682911046, \"t (event index)\": -15, \"type\": \"Shapley Value\"}, {\"Shapley Value\": 0.0080191623573466, \"t (event index)\": -16, \"type\": \"Shapley Value\"}, {\"Shapley Value\": 0.002226389202313, \"t (event index)\": -17, \"type\": \"Shapley Value\"}, {\"Shapley Value\": 0.0074679224967901, \"t (event index)\": -18, \"type\": \"Shapley Value\"}, {\"Shapley Value\": 0.0060535013781738, \"t (event index)\": -19, \"type\": \"Shapley Value\"}, {\"Shapley Value\": 0.0031755651112809, \"t (event index)\": -20, \"type\": \"Shapley Value\"}, {\"Shapley Value\": 0.0476920479319221, \"t (event index)\": 0, \"type\": \"Shapley Value\"}, {\"Shapley Value\": 0.0847860174615227, \"t (event index)\": -1, \"type\": \"Shapley Value\"}, {\"Shapley Value\": 0.105423068214554, \"t (event index)\": -2, \"type\": \"Shapley Value\"}, {\"Shapley Value\": 0.0357627804368111, \"t (event index)\": -3, \"type\": \"Shapley Value\"}, {\"Shapley Value\": 0.0156460710293553, \"t (event index)\": -4, \"type\": \"Shapley Value\"}, {\"Shapley Value\": 0.0738717896443676, \"t (event index)\": -5, \"type\": \"Shapley Value\"}, {\"Shapley Value\": 0.0938230399788305, \"t (event index)\": -6, \"type\": \"Shapley Value\"}, {\"Shapley Value\": 0.0600714597806998, \"t (event index)\": -7, \"type\": \"Shapley Value\"}, {\"Shapley Value\": 0.0423219820603947, \"t (event index)\": -8, \"type\": \"Shapley Value\"}, {\"Shapley Value\": 0.0449093027207674, \"t (event index)\": -9, \"type\": \"Shapley Value\"}, {\"Shapley Value\": 0.0015667350434128, \"t (event index)\": -10, \"type\": \"Shapley Value\"}, {\"Shapley Value\": 0.0327611460758755, \"t (event index)\": -11, \"type\": \"Shapley Value\"}, {\"Shapley Value\": 0.0357039419245169, \"t (event index)\": -12, \"type\": \"Shapley Value\"}, {\"Shapley Value\": 0.015189906048595, \"t (event index)\": -13, \"type\": \"Shapley Value\"}, {\"Shapley Value\": 0.0106343246472044, \"t (event index)\": -14, \"type\": \"Shapley Value\"}, {\"Shapley Value\": 0.008425266732812, \"t (event index)\": -15, \"type\": \"Shapley Value\"}, {\"Shapley Value\": 0.0469627218904893, \"t (event index)\": 0, \"type\": \"Shapley Value\"}, {\"Shapley Value\": 0.0844085802425226, \"t (event index)\": -1, \"type\": \"Shapley Value\"}, {\"Shapley Value\": 0.1049147999891919, \"t (event index)\": -2, \"type\": \"Shapley Value\"}, {\"Shapley Value\": 0.0354612936573527, \"t (event index)\": -3, \"type\": \"Shapley Value\"}, {\"Shapley Value\": 0.0162106026114422, \"t (event index)\": -4, \"type\": \"Shapley Value\"}, {\"Shapley Value\": 0.074140851363223, \"t (event index)\": -5, \"type\": \"Shapley Value\"}, {\"Shapley Value\": 0.0921794634217146, \"t (event index)\": -6, \"type\": \"Shapley Value\"}, {\"Shapley Value\": 0.0591342663644852, \"t (event index)\": -7, \"type\": \"Shapley Value\"}, {\"Shapley Value\": 0.0412115512987052, \"t (event index)\": -8, \"type\": \"Shapley Value\"}, {\"Shapley Value\": 0.0443445820382128, \"t (event index)\": -9, \"type\": \"Shapley Value\"}, {\"Shapley Value\": 0.001561985659565, \"t (event index)\": -10, \"type\": \"Shapley Value\"}, {\"Shapley Value\": 0.0309807030426018, \"t (event index)\": -11, \"type\": \"Shapley Value\"}, {\"Shapley Value\": 0.0327643047612428, \"t (event index)\": -12, \"type\": \"Shapley Value\"}, {\"Shapley Value\": 0.0141992198920122, \"t (event index)\": -13, \"type\": \"Shapley Value\"}, {\"Shapley Value\": 0.0066547874343879, \"t (event index)\": 0, \"type\": \"Shapley Value\"}, {\"Shapley Value\": 0.0055656152095194, \"t (event index)\": -1, \"type\": \"Shapley Value\"}, {\"Shapley Value\": 0.0066699870042845, \"t (event index)\": -2, \"type\": \"Shapley Value\"}, {\"Shapley Value\": 0.0077464639186608, \"t (event index)\": -3, \"type\": \"Shapley Value\"}, {\"Shapley Value\": 0.0100273594881173, \"t (event index)\": -4, \"type\": \"Shapley Value\"}, {\"Shapley Value\": 0.0059972134746694, \"t (event index)\": -5, \"type\": \"Shapley Value\"}, {\"Shapley Value\": 0.00192966220928, \"t (event index)\": -6, \"type\": \"Shapley Value\"}, {\"Shapley Value\": 0.0056793868980163, \"t (event index)\": -7, \"type\": \"Shapley Value\"}, {\"Shapley Value\": 0.0055666555982428, \"t (event index)\": -8, \"type\": \"Shapley Value\"}, {\"Shapley Value\": 0.003591028205771, \"t (event index)\": -9, \"type\": \"Shapley Value\"}, {\"Shapley Value\": 0.0004140524188731, \"t (event index)\": -10, \"type\": \"Shapley Value\"}, {\"Shapley Value\": 0.0038597745458146, \"t (event index)\": -11, \"type\": \"Shapley Value\"}, {\"Shapley Value\": 0.0015135630927412, \"t (event index)\": -12, \"type\": \"Shapley Value\"}, {\"Shapley Value\": 0.0001059602576238, \"t (event index)\": -13, \"type\": \"Shapley Value\"}, {\"Shapley Value\": 0.0022496430079452, \"t (event index)\": -14, \"type\": \"Shapley Value\"}, {\"Shapley Value\": 0.0023334503479742, \"t (event index)\": -15, \"type\": \"Shapley Value\"}, {\"Shapley Value\": 1.9340732624893543e-05, \"t (event index)\": -16, \"type\": \"Shapley Value\"}, {\"Shapley Value\": 0.0006571882278911, \"t (event index)\": -17, \"type\": \"Shapley Value\"}, {\"Shapley Value\": 0.0010962821425144, \"t (event index)\": -18, \"type\": \"Shapley Value\"}, {\"Shapley Value\": 0.0, \"t (event index)\": -19, \"type\": \"Shapley Value\"}, {\"Shapley Value\": 0.0, \"t (event index)\": -20, \"type\": \"Shapley Value\"}, {\"Shapley Value\": 0.0102758631420632, \"t (event index)\": 0, \"type\": \"Shapley Value\"}, {\"Shapley Value\": 0.0085667505549887, \"t (event index)\": -1, \"type\": \"Shapley Value\"}, {\"Shapley Value\": 0.0102213930338621, \"t (event index)\": -2, \"type\": \"Shapley Value\"}, {\"Shapley Value\": 0.0135268289906283, \"t (event index)\": -3, \"type\": \"Shapley Value\"}, {\"Shapley Value\": 0.0150064686313271, \"t (event index)\": 0, \"type\": \"Shapley Value\"}, {\"Shapley Value\": 0.0380273746492146, \"t (event index)\": 0, \"type\": \"Shapley Value\"}, {\"Shapley Value\": 0.0871110808239086, \"t (event index)\": -1, \"type\": \"Shapley Value\"}, {\"Shapley Value\": 0.0841184603474802, \"t (event index)\": -2, \"type\": \"Shapley Value\"}, {\"Shapley Value\": 0.0750185455906607, \"t (event index)\": -3, \"type\": \"Shapley Value\"}, {\"Shapley Value\": 0.0490984008432263, \"t (event index)\": -4, \"type\": \"Shapley Value\"}, {\"Shapley Value\": 0.0463368290727526, \"t (event index)\": -5, \"type\": \"Shapley Value\"}, {\"Shapley Value\": 0.0513613325100717, \"t (event index)\": -6, \"type\": \"Shapley Value\"}, {\"Shapley Value\": 0.0611635961302547, \"t (event index)\": -7, \"type\": \"Shapley Value\"}, {\"Shapley Value\": 0.0374310604038305, \"t (event index)\": -8, \"type\": \"Shapley Value\"}, {\"Shapley Value\": 0.0253608713399515, \"t (event index)\": -9, \"type\": \"Shapley Value\"}, {\"Shapley Value\": 0.0103326339333647, \"t (event index)\": -10, \"type\": \"Shapley Value\"}, {\"Shapley Value\": 0.0202619584088315, \"t (event index)\": -11, \"type\": \"Shapley Value\"}, {\"Shapley Value\": 0.0081645490953728, \"t (event index)\": -12, \"type\": \"Shapley Value\"}, {\"Shapley Value\": 0.0124595975113733, \"t (event index)\": -13, \"type\": \"Shapley Value\"}, {\"Shapley Value\": 0.0119421204007047, \"t (event index)\": -14, \"type\": \"Shapley Value\"}, {\"Shapley Value\": 0.0158470730048501, \"t (event index)\": -15, \"type\": \"Shapley Value\"}, {\"Shapley Value\": 0.0041909937961996, \"t (event index)\": -16, \"type\": \"Shapley Value\"}, {\"Shapley Value\": 0.0029282881142055, \"t (event index)\": -17, \"type\": \"Shapley Value\"}, {\"Shapley Value\": 0.0039210073289576, \"t (event index)\": -18, \"type\": \"Shapley Value\"}, {\"Shapley Value\": 0.0031553377247222, \"t (event index)\": -19, \"type\": \"Shapley Value\"}, {\"Shapley Value\": 0.0040254387608994, \"t (event index)\": -20, \"type\": \"Shapley Value\"}, {\"Shapley Value\": 0.0422186598641492, \"t (event index)\": 0, \"type\": \"Shapley Value\"}, {\"Shapley Value\": 0.0880615843300192, \"t (event index)\": -1, \"type\": \"Shapley Value\"}, {\"Shapley Value\": 0.0876439483321153, \"t (event index)\": -2, \"type\": \"Shapley Value\"}, {\"Shapley Value\": 0.0775997360763654, \"t (event index)\": -3, \"type\": \"Shapley Value\"}, {\"Shapley Value\": 0.0476645578970996, \"t (event index)\": -4, \"type\": \"Shapley Value\"}, {\"Shapley Value\": 0.0453601840425822, \"t (event index)\": -5, \"type\": \"Shapley Value\"}, {\"Shapley Value\": 0.0546861940725678, \"t (event index)\": -6, \"type\": \"Shapley Value\"}, {\"Shapley Value\": 0.0591771397811047, \"t (event index)\": -7, \"type\": \"Shapley Value\"}, {\"Shapley Value\": 0.0383927637471097, \"t (event index)\": -8, \"type\": \"Shapley Value\"}, {\"Shapley Value\": 0.0250841935469474, \"t (event index)\": -9, \"type\": \"Shapley Value\"}, {\"Shapley Value\": 0.0126099349267344, \"t (event index)\": -10, \"type\": \"Shapley Value\"}, {\"Shapley Value\": 0.0205179701353675, \"t (event index)\": -11, \"type\": \"Shapley Value\"}, {\"Shapley Value\": 0.0106105558600241, \"t (event index)\": -12, \"type\": \"Shapley Value\"}, {\"Shapley Value\": 0.0140414784225256, \"t (event index)\": -13, \"type\": \"Shapley Value\"}, {\"Shapley Value\": 0.0153159905583177, \"t (event index)\": -14, \"type\": \"Shapley Value\"}, {\"Shapley Value\": 0.0165816794714618, \"t (event index)\": -15, \"type\": \"Shapley Value\"}, {\"Shapley Value\": 0.0057078744799303, \"t (event index)\": -16, \"type\": \"Shapley Value\"}, {\"Shapley Value\": 0.0039245230420293, \"t (event index)\": -17, \"type\": \"Shapley Value\"}, {\"Shapley Value\": 0.004751235361366, \"t (event index)\": -18, \"type\": \"Shapley Value\"}, {\"Shapley Value\": 0.0433520948274129, \"t (event index)\": 0, \"type\": \"Shapley Value\"}, {\"Shapley Value\": 0.0866237776711958, \"t (event index)\": -1, \"type\": \"Shapley Value\"}, {\"Shapley Value\": 0.0863792878468536, \"t (event index)\": -2, \"type\": \"Shapley Value\"}, {\"Shapley Value\": 0.0765304041142312, \"t (event index)\": -3, \"type\": \"Shapley Value\"}, {\"Shapley Value\": 0.049186972189843, \"t (event index)\": -4, \"type\": \"Shapley Value\"}, {\"Shapley Value\": 0.0455149727293897, \"t (event index)\": -5, \"type\": \"Shapley Value\"}, {\"Shapley Value\": 0.0532441385171442, \"t (event index)\": -6, \"type\": \"Shapley Value\"}, {\"Shapley Value\": 0.0608188730773173, \"t (event index)\": -7, \"type\": \"Shapley Value\"}, {\"Shapley Value\": 0.0376025046607049, \"t (event index)\": -8, \"type\": \"Shapley Value\"}, {\"Shapley Value\": 0.0259838015602794, \"t (event index)\": -9, \"type\": \"Shapley Value\"}, {\"Shapley Value\": 0.0127154423267489, \"t (event index)\": -10, \"type\": \"Shapley Value\"}, {\"Shapley Value\": 0.022570091873133, \"t (event index)\": -11, \"type\": \"Shapley Value\"}, {\"Shapley Value\": 0.0108824485143553, \"t (event index)\": -12, \"type\": \"Shapley Value\"}, {\"Shapley Value\": 0.0145547166167347, \"t (event index)\": -13, \"type\": \"Shapley Value\"}, {\"Shapley Value\": 0.0130713494404972, \"t (event index)\": -14, \"type\": \"Shapley Value\"}, {\"Shapley Value\": 0.015079737356352, \"t (event index)\": -15, \"type\": \"Shapley Value\"}, {\"Shapley Value\": 0.0126230951560511, \"t (event index)\": 0, \"type\": \"Shapley Value\"}, {\"Shapley Value\": 0.0211919502589802, \"t (event index)\": -1, \"type\": \"Shapley Value\"}, {\"Shapley Value\": 0.0178932200335904, \"t (event index)\": -2, \"type\": \"Shapley Value\"}, {\"Shapley Value\": 0.0221872263259111, \"t (event index)\": -3, \"type\": \"Shapley Value\"}, {\"Shapley Value\": 0.0215969822326239, \"t (event index)\": -4, \"type\": \"Shapley Value\"}, {\"Shapley Value\": 0.0094148747444602, \"t (event index)\": -5, \"type\": \"Shapley Value\"}, {\"Shapley Value\": 0.0122528284712235, \"t (event index)\": -6, \"type\": \"Shapley Value\"}, {\"Shapley Value\": 0.0129942245086378, \"t (event index)\": -7, \"type\": \"Shapley Value\"}, {\"Shapley Value\": 0.0060992486188106, \"t (event index)\": -8, \"type\": \"Shapley Value\"}, {\"Shapley Value\": 0.0187676437304884, \"t (event index)\": -9, \"type\": \"Shapley Value\"}, {\"Shapley Value\": 0.0082924661235137, \"t (event index)\": -10, \"type\": \"Shapley Value\"}, {\"Shapley Value\": 0.0052546528522262, \"t (event index)\": -11, \"type\": \"Shapley Value\"}, {\"Shapley Value\": 0.0039255264811193, \"t (event index)\": -12, \"type\": \"Shapley Value\"}, {\"Shapley Value\": 0.005311908903622, \"t (event index)\": -13, \"type\": \"Shapley Value\"}, {\"Shapley Value\": 0.0034910575677685, \"t (event index)\": -14, \"type\": \"Shapley Value\"}, {\"Shapley Value\": 0.0083151064868372, \"t (event index)\": -15, \"type\": \"Shapley Value\"}, {\"Shapley Value\": 0.0, \"t (event index)\": -16, \"type\": \"Shapley Value\"}, {\"Shapley Value\": 0.0, \"t (event index)\": -17, \"type\": \"Shapley Value\"}, {\"Shapley Value\": 0.0008764838097282, \"t (event index)\": -18, \"type\": \"Shapley Value\"}, {\"Shapley Value\": 0.0011419177753126, \"t (event index)\": -19, \"type\": \"Shapley Value\"}, {\"Shapley Value\": 0.001736330087096, \"t (event index)\": -20, \"type\": \"Shapley Value\"}, {\"Shapley Value\": 0.0144011737417187, \"t (event index)\": 0, \"type\": \"Shapley Value\"}, {\"Shapley Value\": 0.0213872915418047, \"t (event index)\": -1, \"type\": \"Shapley Value\"}, {\"Shapley Value\": 0.0194735193957181, \"t (event index)\": -2, \"type\": \"Shapley Value\"}, {\"Shapley Value\": 0.0233570597303886, \"t (event index)\": -3, \"type\": \"Shapley Value\"}, {\"Shapley Value\": 0.021661146585641, \"t (event index)\": -4, \"type\": \"Shapley Value\"}, {\"Shapley Value\": 0.0093112725498998, \"t (event index)\": -5, \"type\": \"Shapley Value\"}, {\"Shapley Value\": 0.0141120151920216, \"t (event index)\": -6, \"type\": \"Shapley Value\"}, {\"Shapley Value\": 0.0133389632724635, \"t (event index)\": -7, \"type\": \"Shapley Value\"}, {\"Shapley Value\": 0.0065248512436495, \"t (event index)\": -8, \"type\": \"Shapley Value\"}, {\"Shapley Value\": 0.0196749098497732, \"t (event index)\": -9, \"type\": \"Shapley Value\"}, {\"Shapley Value\": 0.0097581179364226, \"t (event index)\": -10, \"type\": \"Shapley Value\"}, {\"Shapley Value\": 0.006456778796629, \"t (event index)\": -11, \"type\": \"Shapley Value\"}, {\"Shapley Value\": 0.0059495602434524, \"t (event index)\": -12, \"type\": \"Shapley Value\"}, {\"Shapley Value\": 0.006272716349569, \"t (event index)\": -13, \"type\": \"Shapley Value\"}, {\"Shapley Value\": 0.0046179230845903, \"t (event index)\": -14, \"type\": \"Shapley Value\"}, {\"Shapley Value\": 0.0078451510157509, \"t (event index)\": -15, \"type\": \"Shapley Value\"}, {\"Shapley Value\": 0.0146017771002779, \"t (event index)\": 0, \"type\": \"Shapley Value\"}, {\"Shapley Value\": 0.0219226991215659, \"t (event index)\": -1, \"type\": \"Shapley Value\"}, {\"Shapley Value\": 0.0197661562741929, \"t (event index)\": -2, \"type\": \"Shapley Value\"}, {\"Shapley Value\": 0.0239561266070958, \"t (event index)\": -3, \"type\": \"Shapley Value\"}, {\"Shapley Value\": 0.0223158136118447, \"t (event index)\": -4, \"type\": \"Shapley Value\"}, {\"Shapley Value\": 0.0099542200186528, \"t (event index)\": -5, \"type\": \"Shapley Value\"}, {\"Shapley Value\": 0.0143997120173277, \"t (event index)\": -6, \"type\": \"Shapley Value\"}, {\"Shapley Value\": 0.0136802857547759, \"t (event index)\": -7, \"type\": \"Shapley Value\"}, {\"Shapley Value\": 0.0065331414978607, \"t (event index)\": -8, \"type\": \"Shapley Value\"}, {\"Shapley Value\": 0.0201225829081007, \"t (event index)\": -9, \"type\": \"Shapley Value\"}, {\"Shapley Value\": 0.0098850250468237, \"t (event index)\": -10, \"type\": \"Shapley Value\"}, {\"Shapley Value\": 0.0063129713816619, \"t (event index)\": -11, \"type\": \"Shapley Value\"}, {\"Shapley Value\": 0.0060882678062213, \"t (event index)\": -12, \"type\": \"Shapley Value\"}, {\"Shapley Value\": 0.0059103442902305, \"t (event index)\": -13, \"type\": \"Shapley Value\"}, {\"Shapley Value\": 0.002234333489819075, \"t (event index)\": -20, \"type\": \"Mean\"}, {\"Shapley Value\": 0.00258768921955215, \"t (event index)\": -19, \"type\": \"Mean\"}, {\"Shapley Value\": 0.0036225862278712597, \"t (event index)\": -18, \"type\": \"Mean\"}, {\"Shapley Value\": 0.0019472777172877798, \"t (event index)\": -17, \"type\": \"Mean\"}, {\"Shapley Value\": 0.0035874742732202787, \"t (event index)\": -16, \"type\": \"Mean\"}, {\"Shapley Value\": 0.01032742908839285, \"t (event index)\": -15, \"type\": \"Mean\"}, {\"Shapley Value\": 0.009053983562479863, \"t (event index)\": -14, \"type\": \"Mean\"}, {\"Shapley Value\": 0.01029396792668528, \"t (event index)\": -13, \"type\": \"Mean\"}, {\"Shapley Value\": 0.01497250733931261, \"t (event index)\": -12, \"type\": \"Mean\"}, {\"Shapley Value\": 0.01799853329181364, \"t (event index)\": -11, \"type\": \"Mean\"}, {\"Shapley Value\": 0.006713639341545891, \"t (event index)\": -10, \"type\": \"Mean\"}, {\"Shapley Value\": 0.02739428393076785, \"t (event index)\": -9, \"type\": \"Mean\"}, {\"Shapley Value\": 0.02639560547777998, \"t (event index)\": -8, \"type\": \"Mean\"}, {\"Shapley Value\": 0.0406025846839546, \"t (event index)\": -7, \"type\": \"Mean\"}, {\"Shapley Value\": 0.0482042135113084, \"t (event index)\": -6, \"type\": \"Mean\"}, {\"Shapley Value\": 0.03947482518637986, \"t (event index)\": -5, \"type\": \"Mean\"}, {\"Shapley Value\": 0.026952874050731778, \"t (event index)\": -4, \"type\": \"Mean\"}, {\"Shapley Value\": 0.03879302889041252, \"t (event index)\": -3, \"type\": \"Mean\"}, {\"Shapley Value\": 0.059000895789009015, \"t (event index)\": -2, \"type\": \"Mean\"}, {\"Shapley Value\": 0.05422243420015427, \"t (event index)\": -1, \"type\": \"Mean\"}, {\"Shapley Value\": 0.0279471055519605, \"t (event index)\": 0, \"type\": \"Mean\"}], \"data-66ba81b144f43fd032b2439847f2c161\": [{\"Shapley Value\": -0.0078497646243443, \"Feature\": \"Mean Chest <-> Right Ankle\", \"type\": \"Shapley Value\"}, {\"Shapley Value\": 0.0150152028360894, \"Feature\": \"STD Chest <-> Right Ankle\", \"type\": \"Shapley Value\"}, {\"Shapley Value\": 0.0700203237877713, \"Feature\": \"Mean Chest <-> Left Ankle\", \"type\": \"Shapley Value\"}, {\"Shapley Value\": 0.2650689160584337, \"Feature\": \"STD Chest <-> Left Ankle\", \"type\": \"Shapley Value\"}, {\"Shapley Value\": 0.350863986537747, \"Feature\": \"Mean Right Ankle <-> Left Ankle\", \"type\": \"Shapley Value\"}, {\"Shapley Value\": 0.0866182045833698, \"Feature\": \"STD Right Ankle <-> Left Ankle\", \"type\": \"Shapley Value\"}, {\"Shapley Value\": -1.4191581243494508e-10, \"Feature\": \"Pruned Events\", \"type\": \"Shapley Value\"}, {\"Shapley Value\": -0.0065198082698595, \"Feature\": \"Mean Chest <-> Right Ankle\", \"type\": \"Shapley Value\"}, {\"Shapley Value\": 0.0155823927771835, \"Feature\": \"STD Chest <-> Right Ankle\", \"type\": \"Shapley Value\"}, {\"Shapley Value\": 0.0779943399840876, \"Feature\": \"Mean Chest <-> Left Ankle\", \"type\": \"Shapley Value\"}, {\"Shapley Value\": 0.2220396754110141, \"Feature\": \"STD Chest <-> Left Ankle\", \"type\": \"Shapley Value\"}, {\"Shapley Value\": 0.3095405748513123, \"Feature\": \"Mean Right Ankle <-> Left Ankle\", \"type\": \"Shapley Value\"}, {\"Shapley Value\": 0.0903967891598032, \"Feature\": \"STD Right Ankle <-> Left Ankle\", \"type\": \"Shapley Value\"}, {\"Shapley Value\": 0.07070290512361, \"Feature\": \"Pruned Events\", \"type\": \"Shapley Value\"}, {\"Shapley Value\": -0.006396686290169, \"Feature\": \"Mean Chest <-> Right Ankle\", \"type\": \"Shapley Value\"}, {\"Shapley Value\": 0.0158249947818973, \"Feature\": \"STD Chest <-> Right Ankle\", \"type\": \"Shapley Value\"}, {\"Shapley Value\": 0.0706216654695926, \"Feature\": \"Mean Chest <-> Left Ankle\", \"type\": \"Shapley Value\"}, {\"Shapley Value\": 0.2146657916672881, \"Feature\": \"STD Chest <-> Left Ankle\", \"type\": \"Shapley Value\"}, {\"Shapley Value\": 0.3028189138775422, \"Feature\": \"Mean Right Ankle <-> Left Ankle\", \"type\": \"Shapley Value\"}, {\"Shapley Value\": 0.0812854691985108, \"Feature\": \"STD Right Ankle <-> Left Ankle\", \"type\": \"Shapley Value\"}, {\"Shapley Value\": 0.1009167203324892, \"Feature\": \"Pruned Events\", \"type\": \"Shapley Value\"}, {\"Shapley Value\": -0.0009955076766865, \"Feature\": \"Mean Chest <-> Right Ankle\", \"type\": \"Shapley Value\"}, {\"Shapley Value\": 0.0175538764690004, \"Feature\": \"STD Chest <-> Right Ankle\", \"type\": \"Shapley Value\"}, {\"Shapley Value\": -0.0158493775209145, \"Feature\": \"Mean Chest <-> Left Ankle\", \"type\": \"Shapley Value\"}, {\"Shapley Value\": 0.0324324173276268, \"Feature\": \"STD Chest <-> Left Ankle\", \"type\": \"Shapley Value\"}, {\"Shapley Value\": 0.0174361257237337, \"Feature\": \"Mean Right Ankle <-> Left Ankle\", \"type\": \"Shapley Value\"}, {\"Shapley Value\": 0.0291600767877839, \"Feature\": \"STD Right Ankle <-> Left Ankle\", \"type\": \"Shapley Value\"}, {\"Shapley Value\": 0.0, \"Feature\": \"Pruned Events\", \"type\": \"Shapley Value\"}, {\"Shapley Value\": 0.0006421125848733, \"Feature\": \"Mean Chest <-> Right Ankle\", \"type\": \"Shapley Value\"}, {\"Shapley Value\": 0.0102571476916117, \"Feature\": \"STD Chest <-> Right Ankle\", \"type\": \"Shapley Value\"}, {\"Shapley Value\": -0.0050334735108273, \"Feature\": \"Mean Chest <-> Left Ankle\", \"type\": \"Shapley Value\"}, {\"Shapley Value\": 0.0134560753014825, \"Feature\": \"STD Chest <-> Left Ankle\", \"type\": \"Shapley Value\"}, {\"Shapley Value\": 0.004550837822968, \"Feature\": \"Mean Right Ankle <-> Left Ankle\", \"type\": \"Shapley Value\"}, {\"Shapley Value\": 0.0174745456049484, \"Feature\": \"STD Right Ankle <-> Left Ankle\", \"type\": \"Shapley Value\"}, {\"Shapley Value\": 0.0383903656199219, \"Feature\": \"Pruned Events\", \"type\": \"Shapley Value\"}, {\"Shapley Value\": 0.0001706133685296, \"Feature\": \"Mean Chest <-> Right Ankle\", \"type\": \"Shapley Value\"}, {\"Shapley Value\": 0.0077428190747187, \"Feature\": \"STD Chest <-> Right Ankle\", \"type\": \"Shapley Value\"}, {\"Shapley Value\": 0.0023823510012811, \"Feature\": \"Mean Chest <-> Left Ankle\", \"type\": \"Shapley Value\"}, {\"Shapley Value\": 0.0035750618293171, \"Feature\": \"STD Chest <-> Left Ankle\", \"type\": \"Shapley Value\"}, {\"Shapley Value\": 0.0012295592354521, \"Feature\": \"Mean Right Ankle <-> Left Ankle\", \"type\": \"Shapley Value\"}, {\"Shapley Value\": 0.0011440805869088, \"Feature\": \"STD Right Ankle <-> Left Ankle\", \"type\": \"Shapley Value\"}, {\"Shapley Value\": 0.0634931260187711, \"Feature\": \"Pruned Events\", \"type\": \"Shapley Value\"}, {\"Shapley Value\": -0.0219100224785505, \"Feature\": \"Mean Chest <-> Right Ankle\", \"type\": \"Shapley Value\"}, {\"Shapley Value\": 0.0452464114564162, \"Feature\": \"STD Chest <-> Right Ankle\", \"type\": \"Shapley Value\"}, {\"Shapley Value\": 0.1531535400698581, \"Feature\": \"Mean Chest <-> Left Ankle\", \"type\": \"Shapley Value\"}, {\"Shapley Value\": 0.1934232688819369, \"Feature\": \"STD Chest <-> Left Ankle\", \"type\": \"Shapley Value\"}, {\"Shapley Value\": 0.1439473451736069, \"Feature\": \"Mean Right Ankle <-> Left Ankle\", \"type\": \"Shapley Value\"}, {\"Shapley Value\": 0.1956679554966589, \"Feature\": \"STD Right Ankle <-> Left Ankle\", \"type\": \"Shapley Value\"}, {\"Shapley Value\": -2.4835267176115394e-10, \"Feature\": \"Pruned Events\", \"type\": \"Shapley Value\"}, {\"Shapley Value\": -0.0206922066619706, \"Feature\": \"Mean Chest <-> Right Ankle\", \"type\": \"Shapley Value\"}, {\"Shapley Value\": 0.04502976258241, \"Feature\": \"STD Chest <-> Right Ankle\", \"type\": \"Shapley Value\"}, {\"Shapley Value\": 0.1499474460968657, \"Feature\": \"Mean Chest <-> Left Ankle\", \"type\": \"Shapley Value\"}, {\"Shapley Value\": 0.1777472985376205, \"Feature\": \"STD Chest <-> Left Ankle\", \"type\": \"Shapley Value\"}, {\"Shapley Value\": 0.1373925663619523, \"Feature\": \"Mean Right Ankle <-> Left Ankle\", \"type\": \"Shapley Value\"}, {\"Shapley Value\": 0.1806772511851573, \"Feature\": \"STD Right Ankle <-> Left Ankle\", \"type\": \"Shapley Value\"}, {\"Shapley Value\": 0.0394263802495385, \"Feature\": \"Pruned Events\", \"type\": \"Shapley Value\"}, {\"Shapley Value\": -0.0208470573205321, \"Feature\": \"Mean Chest <-> Right Ankle\", \"type\": \"Shapley Value\"}, {\"Shapley Value\": 0.0450898478561569, \"Feature\": \"STD Chest <-> Right Ankle\", \"type\": \"Shapley Value\"}, {\"Shapley Value\": 0.1473146740169749, \"Feature\": \"Mean Chest <-> Left Ankle\", \"type\": \"Shapley Value\"}, {\"Shapley Value\": 0.1731094772750067, \"Feature\": \"STD Chest <-> Left Ankle\", \"type\": \"Shapley Value\"}, {\"Shapley Value\": 0.1327716975916356, \"Feature\": \"Mean Right Ankle <-> Left Ankle\", \"type\": \"Shapley Value\"}, {\"Shapley Value\": 0.1729783930638361, \"Feature\": \"STD Right Ankle <-> Left Ankle\", \"type\": \"Shapley Value\"}, {\"Shapley Value\": 0.0591114658684956, \"Feature\": \"Pruned Events\", \"type\": \"Shapley Value\"}, {\"Shapley Value\": -0.0122523421111205, \"Feature\": \"Mean Chest <-> Right Ankle\", \"type\": \"Shapley Value\"}, {\"Shapley Value\": 0.0308482336811721, \"Feature\": \"STD Chest <-> Right Ankle\", \"type\": \"Shapley Value\"}, {\"Shapley Value\": 0.0380664694122969, \"Feature\": \"Mean Chest <-> Left Ankle\", \"type\": \"Shapley Value\"}, {\"Shapley Value\": 0.0576142369148632, \"Feature\": \"STD Chest <-> Left Ankle\", \"type\": \"Shapley Value\"}, {\"Shapley Value\": 0.0498609907614688, \"Feature\": \"Mean Right Ankle <-> Left Ankle\", \"type\": \"Shapley Value\"}, {\"Shapley Value\": 0.0565002724838752, \"Feature\": \"STD Right Ankle <-> Left Ankle\", \"type\": \"Shapley Value\"}, {\"Shapley Value\": 4.221995641984222e-09, \"Feature\": \"Pruned Events\", \"type\": \"Shapley Value\"}, {\"Shapley Value\": -0.0103557719183818, \"Feature\": \"Mean Chest <-> Right Ankle\", \"type\": \"Shapley Value\"}, {\"Shapley Value\": 0.0274785810194555, \"Feature\": \"STD Chest <-> Right Ankle\", \"type\": \"Shapley Value\"}, {\"Shapley Value\": 0.0347983089630447, \"Feature\": \"Mean Chest <-> Left Ankle\", \"type\": \"Shapley Value\"}, {\"Shapley Value\": 0.049288713129326, \"Feature\": \"STD Chest <-> Left Ankle\", \"type\": \"Shapley Value\"}, {\"Shapley Value\": 0.0444005119969092, \"Feature\": \"Mean Right Ankle <-> Left Ankle\", \"type\": \"Shapley Value\"}, {\"Shapley Value\": 0.0507411946276468, \"Feature\": \"STD Right Ankle <-> Left Ankle\", \"type\": \"Shapley Value\"}, {\"Shapley Value\": 0.0242863275465511, \"Feature\": \"Pruned Events\", \"type\": \"Shapley Value\"}, {\"Shapley Value\": -0.0095888372111533, \"Feature\": \"Mean Chest <-> Right Ankle\", \"type\": \"Shapley Value\"}, {\"Shapley Value\": 0.0261094391124234, \"Feature\": \"STD Chest <-> Right Ankle\", \"type\": \"Shapley Value\"}, {\"Shapley Value\": 0.0319850841625814, \"Feature\": \"Mean Chest <-> Left Ankle\", \"type\": \"Shapley Value\"}, {\"Shapley Value\": 0.0465391872849847, \"Feature\": \"STD Chest <-> Left Ankle\", \"type\": \"Shapley Value\"}, {\"Shapley Value\": 0.0425816437007771, \"Feature\": \"Mean Right Ankle <-> Left Ankle\", \"type\": \"Shapley Value\"}, {\"Shapley Value\": 0.0480894624033854, \"Feature\": \"STD Right Ankle <-> Left Ankle\", \"type\": \"Shapley Value\"}, {\"Shapley Value\": 0.0349218859115527, \"Feature\": \"Pruned Events\", \"type\": \"Shapley Value\"}, {\"Shapley Value\": 0.03593743170855477, \"Feature\": \"Pruned Events\", \"type\": \"Mean\"}, {\"Shapley Value\": -0.0097162732174471, \"Feature\": \"Mean Chest <-> Right Ankle\", \"type\": \"Mean\"}, {\"Shapley Value\": 0.06295011266105104, \"Feature\": \"Mean Chest <-> Left Ankle\", \"type\": \"Mean\"}, {\"Shapley Value\": 0.12811622946959209, \"Feature\": \"Mean Right Ankle <-> Left Ankle\", \"type\": \"Mean\"}, {\"Shapley Value\": 0.02514822577821126, \"Feature\": \"STD Chest <-> Right Ankle\", \"type\": \"Mean\"}, {\"Shapley Value\": 0.12074667663490836, \"Feature\": \"STD Chest <-> Left Ankle\", \"type\": \"Mean\"}, {\"Shapley Value\": 0.08422780793182372, \"Feature\": \"STD Right Ankle <-> Left Ankle\", \"type\": \"Mean\"}]}}, {\"mode\": \"vega-lite\"});\n",
       "</script>"
      ],
      "text/plain": [
       "alt.HConcatChart(...)"
      ]
     },
     "execution_count": 22,
     "metadata": {},
     "output_type": "execute_result"
    }
   ],
   "source": [
    "global_plot"
   ]
  },
  {
   "cell_type": "markdown",
   "id": "2870782f",
   "metadata": {},
   "source": [
    "## 3.3 Individual Plots"
   ]
  },
  {
   "cell_type": "markdown",
   "id": "5c64c390",
   "metadata": {},
   "source": [
    "### Local Plots"
   ]
  },
  {
   "cell_type": "code",
   "execution_count": 23,
   "id": "5ec0c652",
   "metadata": {},
   "outputs": [],
   "source": [
    "from timeshap.plot import plot_temp_coalition_pruning, plot_event_heatmap, plot_feat_barplot, plot_cell_level\n",
    "from timeshap.explainer import local_pruning, local_event, local_feat, local_cell_level\n",
    "# select model features only\n",
    "pos_x_data = pos_x_pd[model_features]\n",
    "# convert the instance to numpy so TimeSHAP receives it\n",
    "pos_x_data = np.expand_dims(pos_x_data.to_numpy().copy(), axis=0)"
   ]
  },
  {
   "cell_type": "markdown",
   "id": "88fa7c6f",
   "metadata": {},
   "source": [
    "##### Pruning algorithm"
   ]
  },
  {
   "cell_type": "code",
   "execution_count": 24,
   "id": "d72a92fa",
   "metadata": {},
   "outputs": [
    {
     "name": "stdout",
     "output_type": "stream",
     "text": [
      "No path to explainer data provided. Calculating data\n"
     ]
    },
    {
     "data": {
      "text/html": [
       "\n",
       "<div id=\"altair-viz-a2cd24b97795455c80e5ff895238a1cb\"></div>\n",
       "<script type=\"text/javascript\">\n",
       "  var VEGA_DEBUG = (typeof VEGA_DEBUG == \"undefined\") ? {} : VEGA_DEBUG;\n",
       "  (function(spec, embedOpt){\n",
       "    let outputDiv = document.currentScript.previousElementSibling;\n",
       "    if (outputDiv.id !== \"altair-viz-a2cd24b97795455c80e5ff895238a1cb\") {\n",
       "      outputDiv = document.getElementById(\"altair-viz-a2cd24b97795455c80e5ff895238a1cb\");\n",
       "    }\n",
       "    const paths = {\n",
       "      \"vega\": \"https://cdn.jsdelivr.net/npm//vega@5?noext\",\n",
       "      \"vega-lib\": \"https://cdn.jsdelivr.net/npm//vega-lib?noext\",\n",
       "      \"vega-lite\": \"https://cdn.jsdelivr.net/npm//vega-lite@4.17.0?noext\",\n",
       "      \"vega-embed\": \"https://cdn.jsdelivr.net/npm//vega-embed@6?noext\",\n",
       "    };\n",
       "\n",
       "    function maybeLoadScript(lib, version) {\n",
       "      var key = `${lib.replace(\"-\", \"\")}_version`;\n",
       "      return (VEGA_DEBUG[key] == version) ?\n",
       "        Promise.resolve(paths[lib]) :\n",
       "        new Promise(function(resolve, reject) {\n",
       "          var s = document.createElement('script');\n",
       "          document.getElementsByTagName(\"head\")[0].appendChild(s);\n",
       "          s.async = true;\n",
       "          s.onload = () => {\n",
       "            VEGA_DEBUG[key] = version;\n",
       "            return resolve(paths[lib]);\n",
       "          };\n",
       "          s.onerror = () => reject(`Error loading script: ${paths[lib]}`);\n",
       "          s.src = paths[lib];\n",
       "        });\n",
       "    }\n",
       "\n",
       "    function showError(err) {\n",
       "      outputDiv.innerHTML = `<div class=\"error\" style=\"color:red;\">${err}</div>`;\n",
       "      throw err;\n",
       "    }\n",
       "\n",
       "    function displayChart(vegaEmbed) {\n",
       "      vegaEmbed(outputDiv, spec, embedOpt)\n",
       "        .catch(err => showError(`Javascript Error: ${err.message}<br>This usually means there's a typo in your chart specification. See the javascript console for the full traceback.`));\n",
       "    }\n",
       "\n",
       "    if(typeof define === \"function\" && define.amd) {\n",
       "      requirejs.config({paths});\n",
       "      require([\"vega-embed\"], displayChart, err => showError(`Error loading script: ${err.message}`));\n",
       "    } else {\n",
       "      maybeLoadScript(\"vega\", \"5\")\n",
       "        .then(() => maybeLoadScript(\"vega-lite\", \"4.17.0\"))\n",
       "        .then(() => maybeLoadScript(\"vega-embed\", \"6\"))\n",
       "        .catch(showError)\n",
       "        .then(() => displayChart(vegaEmbed));\n",
       "    }\n",
       "  })({\"config\": {\"axis\": {\"domain\": true, \"domainColor\": \"#798184\", \"grid\": false, \"gridColor\": \"#798184\", \"gridOpacity\": 0.5, \"gridDash\": [3, 5], \"gridWidth\": 0.8, \"gridCap\": \"round\", \"labelPadding\": 3, \"labelFont\": \"Roboto\", \"labelColor\": \"#798184\", \"tickSize\": 5, \"tickColor\": \"#798184\", \"tickOpacity\": 0.5, \"titleColor\": \"#384140\", \"titleFont\": \"Roboto\", \"titleFontSize\": 12}, \"axisBand\": {\"domain\": true, \"ticks\": false, \"labelPadding\": 7}, \"axisY\": {\"domain\": false, \"titleAlign\": \"left\", \"titleAngle\": 0, \"titleX\": -20, \"titleY\": -10}, \"legend\": {\"labelColor\": \"#798184\", \"labelFontSize\": 12, \"symbolSize\": 40, \"titleColor\": \"#384140\", \"titleFontSize\": 12, \"titlePadding\": 10, \"titleFont\": \"Roboto\", \"labelFont\": \"Roboto\"}, \"line\": {\"stroke\": \"#618FE0\", \"strokeWidth\": 2}, \"rule\": {\"stroke\": \"#798184\"}, \"path\": {\"stroke\": \"#618FE0\", \"strokeWidth\": 0.5}, \"rect\": {\"fill\": \"#618FE0\"}, \"point\": {\"filled\": true, \"shape\": \"circle\"}, \"shape\": {\"stroke\": \"#618FE0\"}, \"bar\": {\"fill\": \"#618FE0\", \"stroke\": null}, \"text\": {\"font\": \"Roboto\", \"color\": \"#384140\", \"fontSize\": 12}, \"arc\": {\"stroke\": \"#fff\", \"strokeWidth\": 1}, \"range\": {\"category\": [\"#618FE0\", \"#50D0B0\", \"#E17560\", \"#E8B474\", \"#D889C4\", \"#34A3BC\", \"#A583A4\"], \"ramp\": [\"#001854\", \"#002f72\", \"#04478e\", \"#1e5fab\", \"#4477c5\", \"#6290e1\", \"#7ea9fd\", \"#9ec7ff\", \"#bde4ff\"], \"heatmap\": [\"#001854\", \"#002f72\", \"#04478e\", \"#1e5fab\", \"#4477c5\", \"#6290e1\", \"#7ea9fd\", \"#9ec7ff\", \"#bde4ff\"], \"diverging\": [\"#003b26\", \"#006b52\", \"#1aa082\", \"#55d5b5\", \"#f5f5f5\", \"#ffaa92\", \"#d16f5b\", \"#9e392c\", \"#650200\"]}, \"title\": {\"anchor\": \"start\", \"fontSize\": 20, \"color\": \"#384140\", \"fontWeight\": \"bold\", \"offset\": 20, \"font\": \"Roboto\", \"subtitleColor\": \"#384140\", \"subtitleFontSize\": 16}, \"header\": {\"labelFontSize\": 12, \"titleFontSize\": 16, \"labelColor\": \"#384140\", \"titleColor\": \"#384140\", \"titleFont\": \"Roboto\", \"labelFont\": \"Roboto\"}, \"group\": {\"fill\": \"white\"}, \"background\": \"white\", \"view\": {\"stroke\": \"transparent\", \"continuousHeight\": 300, \"continuousWidth\": 400}}, \"layer\": [{\"mark\": {\"type\": \"area\", \"opacity\": 0.5}, \"encoding\": {\"color\": {\"field\": \"Coalition\", \"legend\": {\"fillColor\": \"white\", \"labelFontSize\": 14, \"labelLimit\": 0, \"orient\": \"top-left\", \"symbolSize\": 50, \"symbolStrokeWidth\": 0, \"title\": null}, \"scale\": {\"domain\": [\"Sum of contribution of events \\u2264 t\"], \"range\": [\"#618FE0\"]}, \"type\": \"nominal\"}, \"x\": {\"axis\": {\"labelFontSize\": 15, \"title\": \"t (event index)\", \"titleFontSize\": 15}, \"field\": \"t (event index)\", \"type\": \"quantitative\"}, \"y\": {\"axis\": {\"grid\": true, \"labelFontSize\": 15, \"titleFontSize\": 15, \"titleX\": -28}, \"field\": \"Shapley Value\", \"scale\": {\"domain\": [-0.05, 1]}, \"type\": \"quantitative\"}}}, {\"mark\": \"line\", \"encoding\": {\"color\": {\"field\": \"Coalition\", \"legend\": {\"fillColor\": \"white\", \"labelFontSize\": 14, \"labelLimit\": 0, \"orient\": \"top-left\", \"symbolSize\": 50, \"symbolStrokeWidth\": 0, \"title\": null}, \"scale\": {\"domain\": [\"Sum of contribution of events \\u2264 t\"], \"range\": [\"#618FE0\"]}, \"type\": \"nominal\"}, \"x\": {\"axis\": {\"labelFontSize\": 15, \"title\": \"t (event index)\", \"titleFontSize\": 15}, \"field\": \"t (event index)\", \"type\": \"quantitative\"}, \"y\": {\"axis\": {\"grid\": true, \"labelFontSize\": 15, \"titleFontSize\": 15, \"titleX\": -28}, \"field\": \"Shapley Value\", \"scale\": {\"domain\": [-0.05, 1]}, \"type\": \"quantitative\"}}}, {\"data\": {\"name\": \"data-ee8aec25528fa53b6011f1eacee6f6c5\"}, \"mark\": {\"type\": \"rule\", \"color\": \"#E17560\"}, \"encoding\": {\"x\": {\"field\": \"x\", \"type\": \"quantitative\"}}}, {\"data\": {\"name\": \"data-5e7f4e825ef47f31d6c308e6e3010866\"}, \"mark\": {\"type\": \"text\", \"angle\": 270, \"color\": \"#E17560\", \"fontSize\": 15, \"fontWeight\": \"bold\", \"text\": \"Pruning\"}, \"encoding\": {\"x\": {\"field\": \"x\", \"type\": \"quantitative\"}}}], \"data\": {\"name\": \"data-347143c4b2e2ef3672684b8eac4007a8\"}, \"height\": 225, \"width\": 350, \"$schema\": \"https://vega.github.io/schema/vega-lite/v4.17.0.json\", \"datasets\": {\"data-347143c4b2e2ef3672684b8eac4007a8\": [{\"Coalition\": \"Sum of contribution of events > t\", \"t (event index)\": 0, \"Shapley Value\": 1.4901161193847656e-08}, {\"Coalition\": \"Sum of contribution of events \\u2264 t\", \"t (event index)\": 0, \"Shapley Value\": 0.22063785046339035}, {\"Coalition\": \"Sum of contribution of events > t\", \"t (event index)\": -1, \"Shapley Value\": 0.03900375869125128}, {\"Coalition\": \"Sum of contribution of events \\u2264 t\", \"t (event index)\": -1, \"Shapley Value\": 0.18163410667330027}, {\"Coalition\": \"Sum of contribution of events > t\", \"t (event index)\": -2, \"Shapley Value\": 0.07649384345859289}, {\"Coalition\": \"Sum of contribution of events \\u2264 t\", \"t (event index)\": -2, \"Shapley Value\": 0.14414402190595865}, {\"Coalition\": \"Sum of contribution of events > t\", \"t (event index)\": -3, \"Shapley Value\": 0.09377604071050882}, {\"Coalition\": \"Sum of contribution of events \\u2264 t\", \"t (event index)\": -3, \"Shapley Value\": 0.12686182465404272}, {\"Coalition\": \"Sum of contribution of events > t\", \"t (event index)\": -4, \"Shapley Value\": 0.10629005264490843}, {\"Coalition\": \"Sum of contribution of events \\u2264 t\", \"t (event index)\": -4, \"Shapley Value\": 0.11434781271964312}, {\"Coalition\": \"Sum of contribution of events > t\", \"t (event index)\": -5, \"Shapley Value\": 0.11224106792360544}, {\"Coalition\": \"Sum of contribution of events \\u2264 t\", \"t (event index)\": -5, \"Shapley Value\": 0.1083967974409461}, {\"Coalition\": \"Sum of contribution of events > t\", \"t (event index)\": -6, \"Shapley Value\": 0.11387897748500109}, {\"Coalition\": \"Sum of contribution of events \\u2264 t\", \"t (event index)\": -6, \"Shapley Value\": 0.10675888787955046}, {\"Coalition\": \"Sum of contribution of events > t\", \"t (event index)\": -7, \"Shapley Value\": 0.11651990935206413}, {\"Coalition\": \"Sum of contribution of events \\u2264 t\", \"t (event index)\": -7, \"Shapley Value\": 0.10411795601248741}, {\"Coalition\": \"Sum of contribution of events > t\", \"t (event index)\": -8, \"Shapley Value\": 0.11931431572884321}, {\"Coalition\": \"Sum of contribution of events \\u2264 t\", \"t (event index)\": -8, \"Shapley Value\": 0.10132354963570833}, {\"Coalition\": \"Sum of contribution of events > t\", \"t (event index)\": -9, \"Shapley Value\": 0.12071730941534042}, {\"Coalition\": \"Sum of contribution of events \\u2264 t\", \"t (event index)\": -9, \"Shapley Value\": 0.09992055594921112}, {\"Coalition\": \"Sum of contribution of events > t\", \"t (event index)\": -10, \"Shapley Value\": 0.12912303674966097}, {\"Coalition\": \"Sum of contribution of events \\u2264 t\", \"t (event index)\": -10, \"Shapley Value\": 0.09151482861489058}, {\"Coalition\": \"Sum of contribution of events > t\", \"t (event index)\": -11, \"Shapley Value\": 0.13480287697166204}, {\"Coalition\": \"Sum of contribution of events \\u2264 t\", \"t (event index)\": -11, \"Shapley Value\": 0.0858349883928895}, {\"Coalition\": \"Sum of contribution of events > t\", \"t (event index)\": -12, \"Shapley Value\": 0.13834376260638237}, {\"Coalition\": \"Sum of contribution of events \\u2264 t\", \"t (event index)\": -12, \"Shapley Value\": 0.08229410275816917}, {\"Coalition\": \"Sum of contribution of events > t\", \"t (event index)\": -13, \"Shapley Value\": 0.1426615882664919}, {\"Coalition\": \"Sum of contribution of events \\u2264 t\", \"t (event index)\": -13, \"Shapley Value\": 0.07797627709805965}, {\"Coalition\": \"Sum of contribution of events > t\", \"t (event index)\": -14, \"Shapley Value\": 0.15037894248962402}, {\"Coalition\": \"Sum of contribution of events \\u2264 t\", \"t (event index)\": -14, \"Shapley Value\": 0.07025892287492752}, {\"Coalition\": \"Sum of contribution of events > t\", \"t (event index)\": -15, \"Shapley Value\": 0.1567308073863387}, {\"Coalition\": \"Sum of contribution of events \\u2264 t\", \"t (event index)\": -15, \"Shapley Value\": 0.06390705797821283}, {\"Coalition\": \"Sum of contribution of events > t\", \"t (event index)\": -16, \"Shapley Value\": 0.17196995485574007}, {\"Coalition\": \"Sum of contribution of events \\u2264 t\", \"t (event index)\": -16, \"Shapley Value\": 0.048667910508811474}, {\"Coalition\": \"Sum of contribution of events > t\", \"t (event index)\": -17, \"Shapley Value\": 0.17432423494756222}, {\"Coalition\": \"Sum of contribution of events \\u2264 t\", \"t (event index)\": -17, \"Shapley Value\": 0.046313630416989326}, {\"Coalition\": \"Sum of contribution of events > t\", \"t (event index)\": -18, \"Shapley Value\": 0.17642942536622286}, {\"Coalition\": \"Sum of contribution of events \\u2264 t\", \"t (event index)\": -18, \"Shapley Value\": 0.044208439998328686}, {\"Coalition\": \"Sum of contribution of events > t\", \"t (event index)\": -19, \"Shapley Value\": 0.17976772785186768}, {\"Coalition\": \"Sum of contribution of events \\u2264 t\", \"t (event index)\": -19, \"Shapley Value\": 0.04087013751268387}, {\"Coalition\": \"Sum of contribution of events > t\", \"t (event index)\": -20, \"Shapley Value\": 0.1867863042280078}, {\"Coalition\": \"Sum of contribution of events \\u2264 t\", \"t (event index)\": -20, \"Shapley Value\": 0.03385156113654375}, {\"Coalition\": \"Sum of contribution of events > t\", \"t (event index)\": -21, \"Shapley Value\": 0.19142601266503334}, {\"Coalition\": \"Sum of contribution of events \\u2264 t\", \"t (event index)\": -21, \"Shapley Value\": 0.029211852699518204}, {\"Coalition\": \"Sum of contribution of events > t\", \"t (event index)\": -22, \"Shapley Value\": 0.1979961171746254}, {\"Coalition\": \"Sum of contribution of events \\u2264 t\", \"t (event index)\": -22, \"Shapley Value\": 0.022641748189926147}, {\"Coalition\": \"Sum of contribution of events > t\", \"t (event index)\": -23, \"Shapley Value\": 0.20375491119921207}, {\"Coalition\": \"Sum of contribution of events \\u2264 t\", \"t (event index)\": -23, \"Shapley Value\": 0.01688295416533947}, {\"Coalition\": \"Sum of contribution of events > t\", \"t (event index)\": -24, \"Shapley Value\": 0.20530149526894093}, {\"Coalition\": \"Sum of contribution of events \\u2264 t\", \"t (event index)\": -24, \"Shapley Value\": 0.015336370095610619}, {\"Coalition\": \"Sum of contribution of events > t\", \"t (event index)\": -25, \"Shapley Value\": 0.20875856839120388}, {\"Coalition\": \"Sum of contribution of events \\u2264 t\", \"t (event index)\": -25, \"Shapley Value\": 0.011879296973347664}, {\"Coalition\": \"Sum of contribution of events > t\", \"t (event index)\": -26, \"Shapley Value\": 0.2087441422045231}, {\"Coalition\": \"Sum of contribution of events \\u2264 t\", \"t (event index)\": -26, \"Shapley Value\": 0.011893723160028458}, {\"Coalition\": \"Sum of contribution of events > t\", \"t (event index)\": -27, \"Shapley Value\": 0.20922659896314144}, {\"Coalition\": \"Sum of contribution of events \\u2264 t\", \"t (event index)\": -27, \"Shapley Value\": 0.011411266401410103}, {\"Coalition\": \"Sum of contribution of events > t\", \"t (event index)\": -28, \"Shapley Value\": 0.2118420833721757}, {\"Coalition\": \"Sum of contribution of events \\u2264 t\", \"t (event index)\": -28, \"Shapley Value\": 0.00879578199237585}, {\"Coalition\": \"Sum of contribution of events > t\", \"t (event index)\": -29, \"Shapley Value\": 0.21255227271467447}, {\"Coalition\": \"Sum of contribution of events \\u2264 t\", \"t (event index)\": -29, \"Shapley Value\": 0.008085592649877071}, {\"Coalition\": \"Sum of contribution of events > t\", \"t (event index)\": -30, \"Shapley Value\": 0.21387277077883482}, {\"Coalition\": \"Sum of contribution of events \\u2264 t\", \"t (event index)\": -30, \"Shapley Value\": 0.006765094585716724}, {\"Coalition\": \"Sum of contribution of events > t\", \"t (event index)\": -31, \"Shapley Value\": 0.2149960407987237}, {\"Coalition\": \"Sum of contribution of events \\u2264 t\", \"t (event index)\": -31, \"Shapley Value\": 0.0056418245658278465}, {\"Coalition\": \"Sum of contribution of events > t\", \"t (event index)\": -32, \"Shapley Value\": 0.21589866373687983}, {\"Coalition\": \"Sum of contribution of events \\u2264 t\", \"t (event index)\": -32, \"Shapley Value\": 0.004739201627671719}, {\"Coalition\": \"Sum of contribution of events > t\", \"t (event index)\": -33, \"Shapley Value\": 0.21738334838300943}, {\"Coalition\": \"Sum of contribution of events \\u2264 t\", \"t (event index)\": -33, \"Shapley Value\": 0.0032545169815421104}, {\"Coalition\": \"Sum of contribution of events > t\", \"t (event index)\": -34, \"Shapley Value\": 0.21804083604365587}, {\"Coalition\": \"Sum of contribution of events \\u2264 t\", \"t (event index)\": -34, \"Shapley Value\": 0.002597029320895672}, {\"Coalition\": \"Sum of contribution of events > t\", \"t (event index)\": -35, \"Shapley Value\": 0.218355524353683}, {\"Coalition\": \"Sum of contribution of events \\u2264 t\", \"t (event index)\": -35, \"Shapley Value\": 0.0022823410108685493}, {\"Coalition\": \"Sum of contribution of events > t\", \"t (event index)\": -36, \"Shapley Value\": 0.21903524827212095}, {\"Coalition\": \"Sum of contribution of events \\u2264 t\", \"t (event index)\": -36, \"Shapley Value\": 0.0016026170924305916}, {\"Coalition\": \"Sum of contribution of events > t\", \"t (event index)\": -37, \"Shapley Value\": 0.21953989937901497}, {\"Coalition\": \"Sum of contribution of events \\u2264 t\", \"t (event index)\": -37, \"Shapley Value\": 0.0010979659855365753}, {\"Coalition\": \"Sum of contribution of events > t\", \"t (event index)\": -38, \"Shapley Value\": 0.21959508024156094}, {\"Coalition\": \"Sum of contribution of events \\u2264 t\", \"t (event index)\": -38, \"Shapley Value\": 0.0010427851229906082}, {\"Coalition\": \"Sum of contribution of events > t\", \"t (event index)\": -39, \"Shapley Value\": 0.21985546965152025}, {\"Coalition\": \"Sum of contribution of events \\u2264 t\", \"t (event index)\": -39, \"Shapley Value\": 0.000782395713031292}, {\"Coalition\": \"Sum of contribution of events > t\", \"t (event index)\": -40, \"Shapley Value\": 0.22007115744054317}, {\"Coalition\": \"Sum of contribution of events \\u2264 t\", \"t (event index)\": -40, \"Shapley Value\": 0.0005667079240083694}], \"data-ee8aec25528fa53b6011f1eacee6f6c5\": [{\"x\": -22}], \"data-5e7f4e825ef47f31d6c308e6e3010866\": [{\"x\": -24}]}}, {\"mode\": \"vega-lite\"});\n",
       "</script>"
      ],
      "text/plain": [
       "alt.LayerChart(...)"
      ]
     },
     "execution_count": 24,
     "metadata": {},
     "output_type": "execute_result"
    }
   ],
   "source": [
    "pruning_dict = {'tol': 0.025,}\n",
    "coal_plot_data, coal_prun_idx = local_pruning(f_hs, pos_x_data, pruning_dict, average_event, positive_sequence_id, sequence_id_feat, False)\n",
    "# coal_prun_idx is in negative terms\n",
    "pruning_idx = pos_x_data.shape[1] + coal_prun_idx\n",
    "pruning_plot = plot_temp_coalition_pruning(coal_plot_data, coal_prun_idx, plot_limit=40)\n",
    "pruning_plot"
   ]
  },
  {
   "cell_type": "markdown",
   "id": "ebc8bf02",
   "metadata": {},
   "source": [
    "##### Event-level explanation"
   ]
  },
  {
   "cell_type": "code",
   "execution_count": 25,
   "id": "4ac0cb06",
   "metadata": {},
   "outputs": [
    {
     "name": "stdout",
     "output_type": "stream",
     "text": [
      "No path to event data provided. Calculating data\n"
     ]
    },
    {
     "data": {
      "text/html": [
       "\n",
       "<div id=\"altair-viz-d45d066af19247da9d4acb951f5172bf\"></div>\n",
       "<script type=\"text/javascript\">\n",
       "  var VEGA_DEBUG = (typeof VEGA_DEBUG == \"undefined\") ? {} : VEGA_DEBUG;\n",
       "  (function(spec, embedOpt){\n",
       "    let outputDiv = document.currentScript.previousElementSibling;\n",
       "    if (outputDiv.id !== \"altair-viz-d45d066af19247da9d4acb951f5172bf\") {\n",
       "      outputDiv = document.getElementById(\"altair-viz-d45d066af19247da9d4acb951f5172bf\");\n",
       "    }\n",
       "    const paths = {\n",
       "      \"vega\": \"https://cdn.jsdelivr.net/npm//vega@5?noext\",\n",
       "      \"vega-lib\": \"https://cdn.jsdelivr.net/npm//vega-lib?noext\",\n",
       "      \"vega-lite\": \"https://cdn.jsdelivr.net/npm//vega-lite@4.17.0?noext\",\n",
       "      \"vega-embed\": \"https://cdn.jsdelivr.net/npm//vega-embed@6?noext\",\n",
       "    };\n",
       "\n",
       "    function maybeLoadScript(lib, version) {\n",
       "      var key = `${lib.replace(\"-\", \"\")}_version`;\n",
       "      return (VEGA_DEBUG[key] == version) ?\n",
       "        Promise.resolve(paths[lib]) :\n",
       "        new Promise(function(resolve, reject) {\n",
       "          var s = document.createElement('script');\n",
       "          document.getElementsByTagName(\"head\")[0].appendChild(s);\n",
       "          s.async = true;\n",
       "          s.onload = () => {\n",
       "            VEGA_DEBUG[key] = version;\n",
       "            return resolve(paths[lib]);\n",
       "          };\n",
       "          s.onerror = () => reject(`Error loading script: ${paths[lib]}`);\n",
       "          s.src = paths[lib];\n",
       "        });\n",
       "    }\n",
       "\n",
       "    function showError(err) {\n",
       "      outputDiv.innerHTML = `<div class=\"error\" style=\"color:red;\">${err}</div>`;\n",
       "      throw err;\n",
       "    }\n",
       "\n",
       "    function displayChart(vegaEmbed) {\n",
       "      vegaEmbed(outputDiv, spec, embedOpt)\n",
       "        .catch(err => showError(`Javascript Error: ${err.message}<br>This usually means there's a typo in your chart specification. See the javascript console for the full traceback.`));\n",
       "    }\n",
       "\n",
       "    if(typeof define === \"function\" && define.amd) {\n",
       "      requirejs.config({paths});\n",
       "      require([\"vega-embed\"], displayChart, err => showError(`Error loading script: ${err.message}`));\n",
       "    } else {\n",
       "      maybeLoadScript(\"vega\", \"5\")\n",
       "        .then(() => maybeLoadScript(\"vega-lite\", \"4.17.0\"))\n",
       "        .then(() => maybeLoadScript(\"vega-embed\", \"6\"))\n",
       "        .catch(showError)\n",
       "        .then(() => displayChart(vegaEmbed));\n",
       "    }\n",
       "  })({\"config\": {\"axis\": {\"domain\": true, \"domainColor\": \"#798184\", \"grid\": false, \"gridColor\": \"#798184\", \"gridOpacity\": 0.5, \"gridDash\": [3, 5], \"gridWidth\": 0.8, \"gridCap\": \"round\", \"labelPadding\": 3, \"labelFont\": \"Roboto\", \"labelColor\": \"#798184\", \"tickSize\": 5, \"tickColor\": \"#798184\", \"tickOpacity\": 0.5, \"titleColor\": \"#384140\", \"titleFont\": \"Roboto\", \"titleFontSize\": 12}, \"axisBand\": {\"domain\": true, \"ticks\": false, \"labelPadding\": 7}, \"axisY\": {\"domain\": false, \"titleAlign\": \"left\", \"titleAngle\": 0, \"titleX\": -20, \"titleY\": -10}, \"legend\": {\"labelColor\": \"#798184\", \"labelFontSize\": 12, \"symbolSize\": 40, \"titleColor\": \"#384140\", \"titleFontSize\": 12, \"titlePadding\": 10, \"titleFont\": \"Roboto\", \"labelFont\": \"Roboto\"}, \"line\": {\"stroke\": \"#618FE0\", \"strokeWidth\": 2}, \"rule\": {\"stroke\": \"#798184\"}, \"path\": {\"stroke\": \"#618FE0\", \"strokeWidth\": 0.5}, \"rect\": {\"fill\": \"#618FE0\"}, \"point\": {\"filled\": true, \"shape\": \"circle\"}, \"shape\": {\"stroke\": \"#618FE0\"}, \"bar\": {\"fill\": \"#618FE0\", \"stroke\": null}, \"text\": {\"font\": \"Roboto\", \"color\": \"#384140\", \"fontSize\": 12}, \"arc\": {\"stroke\": \"#fff\", \"strokeWidth\": 1}, \"range\": {\"category\": [\"#618FE0\", \"#50D0B0\", \"#E17560\", \"#E8B474\", \"#D889C4\", \"#34A3BC\", \"#A583A4\"], \"ramp\": [\"#001854\", \"#002f72\", \"#04478e\", \"#1e5fab\", \"#4477c5\", \"#6290e1\", \"#7ea9fd\", \"#9ec7ff\", \"#bde4ff\"], \"heatmap\": [\"#001854\", \"#002f72\", \"#04478e\", \"#1e5fab\", \"#4477c5\", \"#6290e1\", \"#7ea9fd\", \"#9ec7ff\", \"#bde4ff\"], \"diverging\": [\"#003b26\", \"#006b52\", \"#1aa082\", \"#55d5b5\", \"#f5f5f5\", \"#ffaa92\", \"#d16f5b\", \"#9e392c\", \"#650200\"]}, \"title\": {\"anchor\": \"start\", \"fontSize\": 20, \"color\": \"#384140\", \"fontWeight\": \"bold\", \"offset\": 20, \"font\": \"Roboto\", \"subtitleColor\": \"#384140\", \"subtitleFontSize\": 16}, \"header\": {\"labelFontSize\": 12, \"titleFontSize\": 16, \"labelColor\": \"#384140\", \"titleColor\": \"#384140\", \"titleFont\": \"Roboto\", \"labelFont\": \"Roboto\"}, \"group\": {\"fill\": \"white\"}, \"background\": \"white\", \"view\": {\"stroke\": \"transparent\", \"continuousHeight\": 300, \"continuousWidth\": 400}}, \"layer\": [{\"mark\": \"rect\", \"encoding\": {\"color\": {\"field\": \"rounded\", \"legend\": {\"gradientLength\": 225, \"gradientThickness\": 10, \"labelFontSize\": 15, \"orient\": \"right\"}, \"scale\": {\"domain\": [-0.5, 0.5], \"range\": [\"#5f8fd6\", \"#99c3fb\", \"#f5f5f5\", \"#ffaa92\", \"#d16f5b\"]}, \"title\": null, \"type\": \"quantitative\"}, \"x\": {\"axis\": {\"title\": \"Shapley Value\", \"titleFontSize\": 15}, \"field\": \"column\", \"type\": \"ordinal\"}, \"y\": {\"axis\": {\"domain\": false, \"labelFontSize\": 15, \"title\": \"Event\", \"titleFontSize\": 15, \"titleX\": -49}, \"field\": \"Feature\", \"sort\": [\"Event -1\", \"Event -2\", \"Event -3\", \"Event -4\", \"Event -5\", \"Event -6\", \"Event -7\", \"Event -8\", \"Event -9\", \"Event -10\", \"Event -11\", \"Event -12\", \"Event -13\", \"Event -14\", \"Event -15\", \"Event -16\", \"Event -17\", \"Event -18\", \"Event -19\", \"Event -20\", \"Event -21\", \"Event -22\", \"Pruned Events\"], \"type\": \"ordinal\"}}}, {\"mark\": {\"type\": \"text\", \"align\": \"right\", \"baseline\": \"middle\", \"color\": \"#798184\", \"dx\": 18, \"fontSize\": 15}, \"encoding\": {\"text\": {\"field\": \"rounded_str\", \"type\": \"nominal\"}, \"x\": {\"axis\": {\"domain\": false, \"labels\": false, \"title\": \"Shapley Value\", \"titleX\": 43}, \"field\": \"column\", \"type\": \"ordinal\"}, \"y\": {\"axis\": {\"domain\": false, \"labelFontSize\": 15, \"title\": \"Event\", \"titleFontSize\": 15, \"titleX\": -49}, \"field\": \"Feature\", \"sort\": [\"Event -1\", \"Event -2\", \"Event -3\", \"Event -4\", \"Event -5\", \"Event -6\", \"Event -7\", \"Event -8\", \"Event -9\", \"Event -10\", \"Event -11\", \"Event -12\", \"Event -13\", \"Event -14\", \"Event -15\", \"Event -16\", \"Event -17\", \"Event -18\", \"Event -19\", \"Event -20\", \"Event -21\", \"Event -22\", \"Pruned Events\"], \"type\": \"ordinal\"}}}], \"data\": {\"name\": \"data-61b173ab93197740298f857f697c06b3\"}, \"height\": 225, \"width\": 60, \"$schema\": \"https://vega.github.io/schema/vega-lite/v4.17.0.json\", \"datasets\": {\"data-61b173ab93197740298f857f697c06b3\": [{\"Shapley Value\": 0.013829644146017589, \"Feature\": \"Event -1\", \"row\": 1, \"column\": 1, \"rounded\": 0.014, \"rounded_str\": \"0.014\"}, {\"Shapley Value\": 0.02088360289481303, \"Feature\": \"Event -2\", \"row\": 2, \"column\": 1, \"rounded\": 0.021, \"rounded_str\": \"0.021\"}, {\"Shapley Value\": 0.018951665014137517, \"Feature\": \"Event -3\", \"row\": 3, \"column\": 1, \"rounded\": 0.019, \"rounded_str\": \"0.019\"}, {\"Shapley Value\": 0.023225266222932056, \"Feature\": \"Event -4\", \"row\": 4, \"column\": 1, \"rounded\": 0.023, \"rounded_str\": \"0.023\"}, {\"Shapley Value\": 0.021262957860018278, \"Feature\": \"Event -5\", \"row\": 5, \"column\": 1, \"rounded\": 0.021, \"rounded_str\": \"0.021\"}, {\"Shapley Value\": 0.009687429099623251, \"Feature\": \"Event -6\", \"row\": 6, \"column\": 1, \"rounded\": 0.01, \"rounded_str\": \"0.010\"}, {\"Shapley Value\": 0.014472527036080735, \"Feature\": \"Event -7\", \"row\": 7, \"column\": 1, \"rounded\": 0.014, \"rounded_str\": \"0.014\"}, {\"Shapley Value\": 0.012830554352454782, \"Feature\": \"Event -8\", \"row\": 8, \"column\": 1, \"rounded\": 0.013, \"rounded_str\": \"0.013\"}, {\"Shapley Value\": 0.006274965223255519, \"Feature\": \"Event -9\", \"row\": 9, \"column\": 1, \"rounded\": 0.006, \"rounded_str\": \"0.006\"}, {\"Shapley Value\": 0.02012923638144353, \"Feature\": \"Event -10\", \"row\": 10, \"column\": 1, \"rounded\": 0.02, \"rounded_str\": \"0.020\"}, {\"Shapley Value\": 0.010369198397454128, \"Feature\": \"Event -11\", \"row\": 11, \"column\": 1, \"rounded\": 0.01, \"rounded_str\": \"0.010\"}, {\"Shapley Value\": 0.006313391948352315, \"Feature\": \"Event -12\", \"row\": 12, \"column\": 1, \"rounded\": 0.006, \"rounded_str\": \"0.006\"}, {\"Shapley Value\": 0.00641691799954628, \"Feature\": \"Event -13\", \"row\": 13, \"column\": 1, \"rounded\": 0.006, \"rounded_str\": \"0.006\"}, {\"Shapley Value\": 0.007172517885129893, \"Feature\": \"Event -14\", \"row\": 14, \"column\": 1, \"rounded\": 0.007, \"rounded_str\": \"0.007\"}, {\"Shapley Value\": 0.004609306636355198, \"Feature\": \"Event -15\", \"row\": 15, \"column\": 1, \"rounded\": 0.005, \"rounded_str\": \"0.005\"}, {\"Shapley Value\": 0.007735136849869199, \"Feature\": \"Event -16\", \"row\": 16, \"column\": 1, \"rounded\": 0.008, \"rounded_str\": \"0.008\"}, {\"Shapley Value\": 0.0004172608593029127, \"Feature\": \"Event -17\", \"row\": 17, \"column\": 1, \"rounded\": 0.0, \"rounded_str\": \"0.000\"}, {\"Shapley Value\": 0.0015513358673506193, \"Feature\": \"Event -18\", \"row\": 18, \"column\": 1, \"rounded\": 0.002, \"rounded_str\": \"0.002\"}, {\"Shapley Value\": 0.0016076211860951567, \"Feature\": \"Event -19\", \"row\": 19, \"column\": 1, \"rounded\": 0.002, \"rounded_str\": \"0.002\"}, {\"Shapley Value\": 0.0028134518943941436, \"Feature\": \"Event -20\", \"row\": 20, \"column\": 1, \"rounded\": 0.003, \"rounded_str\": \"0.003\"}, {\"Shapley Value\": 0.0013147289777525883, \"Feature\": \"Event -21\", \"row\": 21, \"column\": 1, \"rounded\": 0.001, \"rounded_str\": \"0.001\"}, {\"Shapley Value\": 0.0015035921587231993, \"Feature\": \"Event -22\", \"row\": 22, \"column\": 1, \"rounded\": 0.002, \"rounded_str\": \"0.002\"}, {\"Shapley Value\": 0.007265556473449619, \"Feature\": \"Pruned Events\", \"row\": 23, \"column\": 1, \"rounded\": 0.007, \"rounded_str\": \"0.007\"}]}}, {\"mode\": \"vega-lite\"});\n",
       "</script>"
      ],
      "text/plain": [
       "alt.LayerChart(...)"
      ]
     },
     "execution_count": 25,
     "metadata": {},
     "output_type": "execute_result"
    }
   ],
   "source": [
    "event_dict = {'rs': 42, 'nsamples': 32000}\n",
    "event_data = local_event(f_hs, pos_x_data, event_dict, positive_sequence_id, sequence_id_feat, average_event, pruning_idx)\n",
    "event_plot = plot_event_heatmap(event_data)\n",
    "event_plot"
   ]
  },
  {
   "cell_type": "markdown",
   "id": "766a2102",
   "metadata": {},
   "source": [
    "##### Feature-level explanation"
   ]
  },
  {
   "cell_type": "code",
   "execution_count": 26,
   "id": "1c6776c0",
   "metadata": {},
   "outputs": [
    {
     "name": "stdout",
     "output_type": "stream",
     "text": [
      "No path to feature data provided. Calculating data\n"
     ]
    },
    {
     "data": {
      "text/html": [
       "\n",
       "<div id=\"altair-viz-0a22a0e88c2c474db6e244fa8c4e4168\"></div>\n",
       "<script type=\"text/javascript\">\n",
       "  var VEGA_DEBUG = (typeof VEGA_DEBUG == \"undefined\") ? {} : VEGA_DEBUG;\n",
       "  (function(spec, embedOpt){\n",
       "    let outputDiv = document.currentScript.previousElementSibling;\n",
       "    if (outputDiv.id !== \"altair-viz-0a22a0e88c2c474db6e244fa8c4e4168\") {\n",
       "      outputDiv = document.getElementById(\"altair-viz-0a22a0e88c2c474db6e244fa8c4e4168\");\n",
       "    }\n",
       "    const paths = {\n",
       "      \"vega\": \"https://cdn.jsdelivr.net/npm//vega@5?noext\",\n",
       "      \"vega-lib\": \"https://cdn.jsdelivr.net/npm//vega-lib?noext\",\n",
       "      \"vega-lite\": \"https://cdn.jsdelivr.net/npm//vega-lite@4.17.0?noext\",\n",
       "      \"vega-embed\": \"https://cdn.jsdelivr.net/npm//vega-embed@6?noext\",\n",
       "    };\n",
       "\n",
       "    function maybeLoadScript(lib, version) {\n",
       "      var key = `${lib.replace(\"-\", \"\")}_version`;\n",
       "      return (VEGA_DEBUG[key] == version) ?\n",
       "        Promise.resolve(paths[lib]) :\n",
       "        new Promise(function(resolve, reject) {\n",
       "          var s = document.createElement('script');\n",
       "          document.getElementsByTagName(\"head\")[0].appendChild(s);\n",
       "          s.async = true;\n",
       "          s.onload = () => {\n",
       "            VEGA_DEBUG[key] = version;\n",
       "            return resolve(paths[lib]);\n",
       "          };\n",
       "          s.onerror = () => reject(`Error loading script: ${paths[lib]}`);\n",
       "          s.src = paths[lib];\n",
       "        });\n",
       "    }\n",
       "\n",
       "    function showError(err) {\n",
       "      outputDiv.innerHTML = `<div class=\"error\" style=\"color:red;\">${err}</div>`;\n",
       "      throw err;\n",
       "    }\n",
       "\n",
       "    function displayChart(vegaEmbed) {\n",
       "      vegaEmbed(outputDiv, spec, embedOpt)\n",
       "        .catch(err => showError(`Javascript Error: ${err.message}<br>This usually means there's a typo in your chart specification. See the javascript console for the full traceback.`));\n",
       "    }\n",
       "\n",
       "    if(typeof define === \"function\" && define.amd) {\n",
       "      requirejs.config({paths});\n",
       "      require([\"vega-embed\"], displayChart, err => showError(`Error loading script: ${err.message}`));\n",
       "    } else {\n",
       "      maybeLoadScript(\"vega\", \"5\")\n",
       "        .then(() => maybeLoadScript(\"vega-lite\", \"4.17.0\"))\n",
       "        .then(() => maybeLoadScript(\"vega-embed\", \"6\"))\n",
       "        .catch(showError)\n",
       "        .then(() => displayChart(vegaEmbed));\n",
       "    }\n",
       "  })({\"config\": {\"axis\": {\"domain\": true, \"domainColor\": \"#798184\", \"grid\": false, \"gridColor\": \"#798184\", \"gridOpacity\": 0.5, \"gridDash\": [3, 5], \"gridWidth\": 0.8, \"gridCap\": \"round\", \"labelPadding\": 3, \"labelFont\": \"Roboto\", \"labelColor\": \"#798184\", \"tickSize\": 5, \"tickColor\": \"#798184\", \"tickOpacity\": 0.5, \"titleColor\": \"#384140\", \"titleFont\": \"Roboto\", \"titleFontSize\": 12}, \"axisBand\": {\"domain\": true, \"ticks\": false, \"labelPadding\": 7}, \"axisY\": {\"domain\": false, \"titleAlign\": \"left\", \"titleAngle\": 0, \"titleX\": -20, \"titleY\": -10}, \"legend\": {\"labelColor\": \"#798184\", \"labelFontSize\": 12, \"symbolSize\": 40, \"titleColor\": \"#384140\", \"titleFontSize\": 12, \"titlePadding\": 10, \"titleFont\": \"Roboto\", \"labelFont\": \"Roboto\"}, \"line\": {\"stroke\": \"#618FE0\", \"strokeWidth\": 2}, \"rule\": {\"stroke\": \"#798184\"}, \"path\": {\"stroke\": \"#618FE0\", \"strokeWidth\": 0.5}, \"rect\": {\"fill\": \"#618FE0\"}, \"point\": {\"filled\": true, \"shape\": \"circle\"}, \"shape\": {\"stroke\": \"#618FE0\"}, \"bar\": {\"fill\": \"#618FE0\", \"stroke\": null}, \"text\": {\"font\": \"Roboto\", \"color\": \"#384140\", \"fontSize\": 12}, \"arc\": {\"stroke\": \"#fff\", \"strokeWidth\": 1}, \"range\": {\"category\": [\"#618FE0\", \"#50D0B0\", \"#E17560\", \"#E8B474\", \"#D889C4\", \"#34A3BC\", \"#A583A4\"], \"ramp\": [\"#001854\", \"#002f72\", \"#04478e\", \"#1e5fab\", \"#4477c5\", \"#6290e1\", \"#7ea9fd\", \"#9ec7ff\", \"#bde4ff\"], \"heatmap\": [\"#001854\", \"#002f72\", \"#04478e\", \"#1e5fab\", \"#4477c5\", \"#6290e1\", \"#7ea9fd\", \"#9ec7ff\", \"#bde4ff\"], \"diverging\": [\"#003b26\", \"#006b52\", \"#1aa082\", \"#55d5b5\", \"#f5f5f5\", \"#ffaa92\", \"#d16f5b\", \"#9e392c\", \"#650200\"]}, \"title\": {\"anchor\": \"start\", \"fontSize\": 20, \"color\": \"#384140\", \"fontWeight\": \"bold\", \"offset\": 20, \"font\": \"Roboto\", \"subtitleColor\": \"#384140\", \"subtitleFontSize\": 16}, \"header\": {\"labelFontSize\": 12, \"titleFontSize\": 16, \"labelColor\": \"#384140\", \"titleColor\": \"#384140\", \"titleFont\": \"Roboto\", \"labelFont\": \"Roboto\"}, \"group\": {\"fill\": \"white\"}, \"background\": \"white\", \"view\": {\"stroke\": \"transparent\", \"continuousHeight\": 300, \"continuousWidth\": 400}}, \"layer\": [{\"data\": {\"name\": \"data-d18d9bdca412c918e74391b6bf6ff3e3\"}, \"mark\": {\"type\": \"bar\", \"size\": 15, \"thickness\": 1}, \"encoding\": {\"x\": {\"axis\": {\"grid\": true, \"labelFontSize\": 15, \"title\": \"Shapley Value\", \"titleFontSize\": 15}, \"field\": \"Shapley Value\", \"scale\": {\"domain\": [-0.1, 0.4]}, \"type\": \"quantitative\"}, \"y\": {\"axis\": {\"labelFontSize\": 15, \"title\": \"Feature\", \"titleFontSize\": 15, \"titleX\": -61}, \"field\": \"Feature\", \"sort\": {\"field\": \"sort_col\", \"order\": \"descending\"}, \"type\": \"nominal\"}}}, {\"data\": {\"name\": \"data-9c00aa9dc2b1c1a0b4bf9b34ead12925\"}, \"mark\": {\"type\": \"rule\", \"color\": \"#798184\"}, \"encoding\": {\"x\": {\"field\": \"x\", \"type\": \"quantitative\"}}}], \"height\": 225, \"width\": 190, \"$schema\": \"https://vega.github.io/schema/vega-lite/v4.17.0.json\", \"datasets\": {\"data-d18d9bdca412c918e74391b6bf6ff3e3\": [{\"Random seed\": 42, \"NSamples\": 32000, \"Feature\": \"Mean Chest <-> Right Ankle\", \"Shapley Value\": -0.011276617797002841, \"sort_col\": 0.011276617797002841}, {\"Random seed\": 42, \"NSamples\": 32000, \"Feature\": \"STD Chest <-> Right Ankle\", \"Shapley Value\": 0.029537179139221034, \"sort_col\": 0.029537179139221034}, {\"Random seed\": 42, \"NSamples\": 32000, \"Feature\": \"Mean Chest <-> Left Ankle\", \"Shapley Value\": 0.03618330434408214, \"sort_col\": 0.03618330434408214}, {\"Random seed\": 42, \"NSamples\": 32000, \"Feature\": \"STD Chest <-> Left Ankle\", \"Shapley Value\": 0.05428117160197525, \"sort_col\": 0.05428117160197525}, {\"Random seed\": 42, \"NSamples\": 32000, \"Feature\": \"Mean Right Ankle <-> Left Ankle\", \"Shapley Value\": 0.047046773140096865, \"sort_col\": 0.047046773140096865}, {\"Random seed\": 42, \"NSamples\": 32000, \"Feature\": \"STD Right Ankle <-> Left Ankle\", \"Shapley Value\": 0.05309635273934821, \"sort_col\": 0.05309635273934821}, {\"Random seed\": 42, \"NSamples\": 32000, \"Feature\": \"Pruned Events\", \"Shapley Value\": 0.011769702196830878, \"sort_col\": 0.011769702196830878}], \"data-9c00aa9dc2b1c1a0b4bf9b34ead12925\": [{\"x\": 0}]}}, {\"mode\": \"vega-lite\"});\n",
       "</script>"
      ],
      "text/plain": [
       "alt.LayerChart(...)"
      ]
     },
     "execution_count": 26,
     "metadata": {},
     "output_type": "execute_result"
    }
   ],
   "source": [
    "feature_dict = {'rs': 42, 'nsamples': 32000, 'feature_names': model_features, 'plot_features': plot_feats}\n",
    "feature_data = local_feat(f_hs, pos_x_data, feature_dict, positive_sequence_id, sequence_id_feat, average_event, pruning_idx)\n",
    "feature_plot = plot_feat_barplot(feature_data, feature_dict.get('top_feats'), feature_dict.get('plot_features'))\n",
    "feature_plot"
   ]
  },
  {
   "cell_type": "markdown",
   "id": "1a6d9b36",
   "metadata": {},
   "source": [
    "##### Cell-level explanation"
   ]
  },
  {
   "cell_type": "code",
   "execution_count": 27,
   "id": "3a13c961",
   "metadata": {},
   "outputs": [
    {
     "name": "stdout",
     "output_type": "stream",
     "text": [
      "No path to feature data provided. Calculating data\n"
     ]
    },
    {
     "data": {
      "text/html": [
       "\n",
       "<div id=\"altair-viz-d2f312fe9a0a4f608c100988251f81db\"></div>\n",
       "<script type=\"text/javascript\">\n",
       "  var VEGA_DEBUG = (typeof VEGA_DEBUG == \"undefined\") ? {} : VEGA_DEBUG;\n",
       "  (function(spec, embedOpt){\n",
       "    let outputDiv = document.currentScript.previousElementSibling;\n",
       "    if (outputDiv.id !== \"altair-viz-d2f312fe9a0a4f608c100988251f81db\") {\n",
       "      outputDiv = document.getElementById(\"altair-viz-d2f312fe9a0a4f608c100988251f81db\");\n",
       "    }\n",
       "    const paths = {\n",
       "      \"vega\": \"https://cdn.jsdelivr.net/npm//vega@5?noext\",\n",
       "      \"vega-lib\": \"https://cdn.jsdelivr.net/npm//vega-lib?noext\",\n",
       "      \"vega-lite\": \"https://cdn.jsdelivr.net/npm//vega-lite@4.17.0?noext\",\n",
       "      \"vega-embed\": \"https://cdn.jsdelivr.net/npm//vega-embed@6?noext\",\n",
       "    };\n",
       "\n",
       "    function maybeLoadScript(lib, version) {\n",
       "      var key = `${lib.replace(\"-\", \"\")}_version`;\n",
       "      return (VEGA_DEBUG[key] == version) ?\n",
       "        Promise.resolve(paths[lib]) :\n",
       "        new Promise(function(resolve, reject) {\n",
       "          var s = document.createElement('script');\n",
       "          document.getElementsByTagName(\"head\")[0].appendChild(s);\n",
       "          s.async = true;\n",
       "          s.onload = () => {\n",
       "            VEGA_DEBUG[key] = version;\n",
       "            return resolve(paths[lib]);\n",
       "          };\n",
       "          s.onerror = () => reject(`Error loading script: ${paths[lib]}`);\n",
       "          s.src = paths[lib];\n",
       "        });\n",
       "    }\n",
       "\n",
       "    function showError(err) {\n",
       "      outputDiv.innerHTML = `<div class=\"error\" style=\"color:red;\">${err}</div>`;\n",
       "      throw err;\n",
       "    }\n",
       "\n",
       "    function displayChart(vegaEmbed) {\n",
       "      vegaEmbed(outputDiv, spec, embedOpt)\n",
       "        .catch(err => showError(`Javascript Error: ${err.message}<br>This usually means there's a typo in your chart specification. See the javascript console for the full traceback.`));\n",
       "    }\n",
       "\n",
       "    if(typeof define === \"function\" && define.amd) {\n",
       "      requirejs.config({paths});\n",
       "      require([\"vega-embed\"], displayChart, err => showError(`Error loading script: ${err.message}`));\n",
       "    } else {\n",
       "      maybeLoadScript(\"vega\", \"5\")\n",
       "        .then(() => maybeLoadScript(\"vega-lite\", \"4.17.0\"))\n",
       "        .then(() => maybeLoadScript(\"vega-embed\", \"6\"))\n",
       "        .catch(showError)\n",
       "        .then(() => displayChart(vegaEmbed));\n",
       "    }\n",
       "  })({\"config\": {\"axis\": {\"domain\": true, \"domainColor\": \"#798184\", \"grid\": false, \"gridColor\": \"#798184\", \"gridOpacity\": 0.5, \"gridDash\": [3, 5], \"gridWidth\": 0.8, \"gridCap\": \"round\", \"labelPadding\": 3, \"labelFont\": \"Roboto\", \"labelColor\": \"#798184\", \"tickSize\": 5, \"tickColor\": \"#798184\", \"tickOpacity\": 0.5, \"titleColor\": \"#384140\", \"titleFont\": \"Roboto\", \"titleFontSize\": 12}, \"axisBand\": {\"domain\": true, \"ticks\": false, \"labelPadding\": 7}, \"axisY\": {\"domain\": false, \"titleAlign\": \"left\", \"titleAngle\": 0, \"titleX\": -20, \"titleY\": -10}, \"legend\": {\"labelColor\": \"#798184\", \"labelFontSize\": 12, \"symbolSize\": 40, \"titleColor\": \"#384140\", \"titleFontSize\": 12, \"titlePadding\": 10, \"titleFont\": \"Roboto\", \"labelFont\": \"Roboto\"}, \"line\": {\"stroke\": \"#618FE0\", \"strokeWidth\": 2}, \"rule\": {\"stroke\": \"#798184\"}, \"path\": {\"stroke\": \"#618FE0\", \"strokeWidth\": 0.5}, \"rect\": {\"fill\": \"#618FE0\"}, \"point\": {\"filled\": true, \"shape\": \"circle\"}, \"shape\": {\"stroke\": \"#618FE0\"}, \"bar\": {\"fill\": \"#618FE0\", \"stroke\": null}, \"text\": {\"font\": \"Roboto\", \"color\": \"#384140\", \"fontSize\": 12}, \"arc\": {\"stroke\": \"#fff\", \"strokeWidth\": 1}, \"range\": {\"category\": [\"#618FE0\", \"#50D0B0\", \"#E17560\", \"#E8B474\", \"#D889C4\", \"#34A3BC\", \"#A583A4\"], \"ramp\": [\"#001854\", \"#002f72\", \"#04478e\", \"#1e5fab\", \"#4477c5\", \"#6290e1\", \"#7ea9fd\", \"#9ec7ff\", \"#bde4ff\"], \"heatmap\": [\"#001854\", \"#002f72\", \"#04478e\", \"#1e5fab\", \"#4477c5\", \"#6290e1\", \"#7ea9fd\", \"#9ec7ff\", \"#bde4ff\"], \"diverging\": [\"#003b26\", \"#006b52\", \"#1aa082\", \"#55d5b5\", \"#f5f5f5\", \"#ffaa92\", \"#d16f5b\", \"#9e392c\", \"#650200\"]}, \"title\": {\"anchor\": \"start\", \"fontSize\": 20, \"color\": \"#384140\", \"fontWeight\": \"bold\", \"offset\": 20, \"font\": \"Roboto\", \"subtitleColor\": \"#384140\", \"subtitleFontSize\": 16}, \"header\": {\"labelFontSize\": 12, \"titleFontSize\": 16, \"labelColor\": \"#384140\", \"titleColor\": \"#384140\", \"titleFont\": \"Roboto\", \"labelFont\": \"Roboto\"}, \"group\": {\"fill\": \"white\"}, \"background\": \"white\", \"view\": {\"stroke\": \"transparent\", \"continuousHeight\": 300, \"continuousWidth\": 400}}, \"hconcat\": [{\"layer\": [{\"mark\": \"rect\", \"encoding\": {\"color\": {\"field\": \"rounded\", \"legend\": null, \"scale\": {\"domain\": [-0.5, 0.5], \"range\": [\"#5f8fd6\", \"#99c3fb\", \"#f5f5f5\", \"#ffaa92\", \"#d16f5b\"]}, \"title\": null, \"type\": \"quantitative\"}, \"x\": {\"axis\": {\"titleFontSize\": 15}, \"field\": \"Event\", \"type\": \"nominal\"}, \"y\": {\"axis\": {\"domain\": false, \"labels\": false, \"title\": null}, \"field\": \"Feature\", \"type\": \"nominal\"}}}, {\"mark\": {\"type\": \"text\", \"align\": \"right\", \"baseline\": \"middle\", \"color\": \"#798184\", \"dx\": 18, \"fontSize\": 15}, \"encoding\": {\"text\": {\"field\": \"rounded_str\", \"type\": \"nominal\"}, \"x\": {\"axis\": {\"domain\": false, \"labelAngle\": 0, \"labelFontSize\": 15, \"labelOffset\": 24, \"labelPadding\": 30, \"orient\": \"top\", \"title\": null}, \"field\": \"Event\", \"type\": \"nominal\"}, \"y\": {\"axis\": {\"domain\": false, \"labels\": false, \"title\": null}, \"field\": \"Feature\", \"type\": \"nominal\"}}}], \"data\": {\"name\": \"data-8418158a624276ad64968b908b1f61e7\"}, \"height\": 225, \"width\": 66.66666666666667}, {\"layer\": [{\"mark\": \"rect\", \"encoding\": {\"color\": {\"field\": \"rounded\", \"legend\": {\"gradientLength\": 225, \"gradientThickness\": 10, \"labelFontSize\": 15, \"orient\": \"right\"}, \"scale\": {\"domain\": [-0.5, 0.5], \"range\": [\"#5f8fd6\", \"#99c3fb\", \"#f5f5f5\", \"#ffaa92\", \"#d16f5b\"]}, \"title\": null, \"type\": \"quantitative\"}, \"x\": {\"axis\": {\"titleFontSize\": 15}, \"field\": \"Event\", \"sort\": [\"Event -5\", \"Event -4\", \"Event -2\"], \"type\": \"nominal\"}, \"y\": {\"axis\": {\"domain\": false, \"labelFontSize\": 15, \"title\": null}, \"field\": \"Feature\", \"sort\": [\"STD Chest <-> Left Ankle\", \"Mean Right Ankle <-> Left Ankle\", \"STD Right Ankle <-> Left Ankle\"], \"type\": \"nominal\"}}}, {\"mark\": {\"type\": \"text\", \"align\": \"right\", \"baseline\": \"middle\", \"color\": \"#798184\", \"dx\": 18, \"fontSize\": 15}, \"encoding\": {\"text\": {\"field\": \"rounded_str\", \"type\": \"nominal\"}, \"x\": {\"axis\": {\"domain\": false, \"labelAngle\": 30, \"labelFontSize\": 15, \"orient\": \"top\", \"title\": \"Shapley Value\", \"titleX\": 172, \"titleY\": 245}, \"field\": \"Event\", \"sort\": [\"Event -5\", \"Event -4\", \"Event -2\"], \"type\": \"nominal\"}, \"y\": {\"axis\": {\"domain\": false, \"labelFontSize\": 15, \"title\": null}, \"field\": \"Feature\", \"sort\": [\"STD Chest <-> Left Ankle\", \"Mean Right Ankle <-> Left Ankle\", \"STD Right Ankle <-> Left Ankle\"], \"type\": \"nominal\"}}}], \"data\": {\"name\": \"data-389ac43b97f127bb74f6ecea78523168\"}, \"height\": 225, \"width\": 160}], \"resolve\": {\"scale\": {\"color\": \"independent\"}}, \"$schema\": \"https://vega.github.io/schema/vega-lite/v4.17.0.json\", \"datasets\": {\"data-8418158a624276ad64968b908b1f61e7\": [{\"Event\": [\"Pruned\", \"Events\"], \"Feature\": \"Other features\", \"rounded\": 0.009, \"rounded_str\": \"0.009\"}], \"data-389ac43b97f127bb74f6ecea78523168\": [{\"Event\": \"Other Events\", \"Feature\": \"Other Features\", \"Shapley Value\": 0.036495604924886044, \"rounded\": 0.036, \"rounded_str\": \"0.036\"}, {\"Event\": \"Other Events\", \"Feature\": \"STD Right Ankle <-> Left Ankle\", \"Shapley Value\": 0.03569996210493069, \"rounded\": 0.036, \"rounded_str\": \"0.036\"}, {\"Event\": \"Other Events\", \"Feature\": \"Mean Right Ankle <-> Left Ankle\", \"Shapley Value\": 0.028110958820173976, \"rounded\": 0.028, \"rounded_str\": \"0.028\"}, {\"Event\": \"Other Events\", \"Feature\": \"STD Chest <-> Left Ankle\", \"Shapley Value\": 0.026615603440634322, \"rounded\": 0.027, \"rounded_str\": \"0.027\"}, {\"Event\": \"Event -5\", \"Feature\": \"STD Chest <-> Left Ankle\", \"Shapley Value\": 0.02222369331280713, \"rounded\": 0.022, \"rounded_str\": \"0.022\"}, {\"Event\": \"Event -4\", \"Feature\": \"Mean Right Ankle <-> Left Ankle\", \"Shapley Value\": 0.015555639690139816, \"rounded\": 0.016, \"rounded_str\": \"0.016\"}, {\"Event\": \"Event -4\", \"Feature\": \"STD Chest <-> Left Ankle\", \"Shapley Value\": 0.01228004997058152, \"rounded\": 0.012, \"rounded_str\": \"0.012\"}, {\"Event\": \"Event -2\", \"Feature\": \"Other Features\", \"Shapley Value\": 0.009150970124289753, \"rounded\": 0.009, \"rounded_str\": \"0.009\"}, {\"Event\": \"Event -2\", \"Feature\": \"STD Right Ankle <-> Left Ankle\", \"Shapley Value\": 0.008681195411637213, \"rounded\": 0.009, \"rounded_str\": \"0.009\"}, {\"Event\": \"Event -2\", \"Feature\": \"STD Chest <-> Left Ankle\", \"Shapley Value\": 0.007557657759730746, \"rounded\": 0.008, \"rounded_str\": \"0.008\"}, {\"Event\": \"Event -5\", \"Feature\": \"Mean Right Ankle <-> Left Ankle\", \"Shapley Value\": 0.004986634862450073, \"rounded\": 0.005, \"rounded_str\": \"0.005\"}, {\"Event\": \"Event -5\", \"Feature\": \"STD Right Ankle <-> Left Ankle\", \"Shapley Value\": 0.004768767543640973, \"rounded\": 0.005, \"rounded_str\": \"0.005\"}, {\"Event\": \"Event -4\", \"Feature\": \"Other Features\", \"Shapley Value\": 0.003477844623273052, \"rounded\": 0.003, \"rounded_str\": \"0.003\"}, {\"Event\": \"Event -4\", \"Feature\": \"STD Right Ankle <-> Left Ankle\", \"Shapley Value\": 0.002415617300686179, \"rounded\": 0.002, \"rounded_str\": \"0.002\"}, {\"Event\": \"Event -2\", \"Feature\": \"Mean Right Ankle <-> Left Ankle\", \"Shapley Value\": 0.0009359895065325502, \"rounded\": 0.001, \"rounded_str\": \"0.001\"}, {\"Event\": \"Event -5\", \"Feature\": \"Other Features\", \"Shapley Value\": -0.0068227603945430065, \"rounded\": -0.007, \"rounded_str\": \"-0.007\"}]}}, {\"mode\": \"vega-lite\"});\n",
       "</script>"
      ],
      "text/plain": [
       "alt.HConcatChart(...)"
      ]
     },
     "execution_count": 27,
     "metadata": {},
     "output_type": "execute_result"
    }
   ],
   "source": [
    "cell_dict = {'rs': 42, 'nsamples': 32000, 'top_x_events': 3, 'top_x_feats': 3}\n",
    "cell_data = local_cell_level(f_hs, pos_x_data, cell_dict, event_data, feature_data, positive_sequence_id, sequence_id_feat, average_event, pruning_idx)\n",
    "feat_names = list(feature_data['Feature'].values)[:-1] # exclude pruned events\n",
    "cell_plot = plot_cell_level(cell_data, feat_names, feature_dict.get('plot_features'))\n",
    "cell_plot"
   ]
  },
  {
   "cell_type": "markdown",
   "id": "37d78212",
   "metadata": {},
   "source": [
    "### Global Plots"
   ]
  },
  {
   "cell_type": "code",
   "execution_count": 28,
   "id": "0b57cf3b",
   "metadata": {},
   "outputs": [],
   "source": [
    "from timeshap.explainer import prune_all, pruning_statistics, event_explain_all, feat_explain_all\n",
    "from timeshap.plot import plot_global_event, plot_global_feat\n",
    "\n",
    "pos_dataset = d_test_normalized[d_test_normalized['label'] == 1]"
   ]
  },
  {
   "cell_type": "markdown",
   "id": "21399cce",
   "metadata": {},
   "source": [
    "##### Pruning statistics"
   ]
  },
  {
   "cell_type": "code",
   "execution_count": 29,
   "id": "3f522caf",
   "metadata": {},
   "outputs": [
    {
     "data": {
      "text/html": [
       "<div>\n",
       "<style scoped>\n",
       "    .dataframe tbody tr th:only-of-type {\n",
       "        vertical-align: middle;\n",
       "    }\n",
       "\n",
       "    .dataframe tbody tr th {\n",
       "        vertical-align: top;\n",
       "    }\n",
       "\n",
       "    .dataframe thead th {\n",
       "        text-align: right;\n",
       "    }\n",
       "</style>\n",
       "<table border=\"1\" class=\"dataframe\">\n",
       "  <thead>\n",
       "    <tr style=\"text-align: right;\">\n",
       "      <th></th>\n",
       "      <th>Tolerance</th>\n",
       "      <th>Mean</th>\n",
       "      <th>Std</th>\n",
       "    </tr>\n",
       "  </thead>\n",
       "  <tbody>\n",
       "    <tr>\n",
       "      <th>0</th>\n",
       "      <td>0.05</td>\n",
       "      <td>13.75</td>\n",
       "      <td>6.652067</td>\n",
       "    </tr>\n",
       "    <tr>\n",
       "      <th>1</th>\n",
       "      <td>0.075</td>\n",
       "      <td>11.25</td>\n",
       "      <td>6.898067</td>\n",
       "    </tr>\n",
       "    <tr>\n",
       "      <th>2</th>\n",
       "      <td>0.076</td>\n",
       "      <td>11.25</td>\n",
       "      <td>6.898067</td>\n",
       "    </tr>\n",
       "    <tr>\n",
       "      <th>3</th>\n",
       "      <td>No Pruning</td>\n",
       "      <td>480.00</td>\n",
       "      <td>0.000000</td>\n",
       "    </tr>\n",
       "  </tbody>\n",
       "</table>\n",
       "</div>"
      ],
      "text/plain": [
       "    Tolerance    Mean       Std\n",
       "0        0.05   13.75  6.652067\n",
       "1       0.075   11.25  6.898067\n",
       "2       0.076   11.25  6.898067\n",
       "3  No Pruning  480.00  0.000000"
      ]
     },
     "execution_count": 29,
     "metadata": {},
     "output_type": "execute_result"
    }
   ],
   "source": [
    "pruning_dict = {'tol': [0.05, 0.075, 0.076], 'path': 'outputs/prun_all.csv'}\n",
    "prun_indexes = prune_all(f_hs, pos_dataset, sequence_id_feat, average_event, pruning_dict, model_features, time_feat)\n",
    "pruning_stats = pruning_statistics(prun_indexes, pruning_dict.get('tol'), sequence_id_feat)\n",
    "pruning_stats"
   ]
  },
  {
   "cell_type": "markdown",
   "id": "0df615f3",
   "metadata": {},
   "source": [
    "##### Global event-level"
   ]
  },
  {
   "cell_type": "code",
   "execution_count": 30,
   "id": "5669e063",
   "metadata": {},
   "outputs": [
    {
     "data": {
      "text/html": [
       "\n",
       "<div id=\"altair-viz-0fb503b9cedd406b955b461ecd378b82\"></div>\n",
       "<script type=\"text/javascript\">\n",
       "  var VEGA_DEBUG = (typeof VEGA_DEBUG == \"undefined\") ? {} : VEGA_DEBUG;\n",
       "  (function(spec, embedOpt){\n",
       "    let outputDiv = document.currentScript.previousElementSibling;\n",
       "    if (outputDiv.id !== \"altair-viz-0fb503b9cedd406b955b461ecd378b82\") {\n",
       "      outputDiv = document.getElementById(\"altair-viz-0fb503b9cedd406b955b461ecd378b82\");\n",
       "    }\n",
       "    const paths = {\n",
       "      \"vega\": \"https://cdn.jsdelivr.net/npm//vega@5?noext\",\n",
       "      \"vega-lib\": \"https://cdn.jsdelivr.net/npm//vega-lib?noext\",\n",
       "      \"vega-lite\": \"https://cdn.jsdelivr.net/npm//vega-lite@4.17.0?noext\",\n",
       "      \"vega-embed\": \"https://cdn.jsdelivr.net/npm//vega-embed@6?noext\",\n",
       "    };\n",
       "\n",
       "    function maybeLoadScript(lib, version) {\n",
       "      var key = `${lib.replace(\"-\", \"\")}_version`;\n",
       "      return (VEGA_DEBUG[key] == version) ?\n",
       "        Promise.resolve(paths[lib]) :\n",
       "        new Promise(function(resolve, reject) {\n",
       "          var s = document.createElement('script');\n",
       "          document.getElementsByTagName(\"head\")[0].appendChild(s);\n",
       "          s.async = true;\n",
       "          s.onload = () => {\n",
       "            VEGA_DEBUG[key] = version;\n",
       "            return resolve(paths[lib]);\n",
       "          };\n",
       "          s.onerror = () => reject(`Error loading script: ${paths[lib]}`);\n",
       "          s.src = paths[lib];\n",
       "        });\n",
       "    }\n",
       "\n",
       "    function showError(err) {\n",
       "      outputDiv.innerHTML = `<div class=\"error\" style=\"color:red;\">${err}</div>`;\n",
       "      throw err;\n",
       "    }\n",
       "\n",
       "    function displayChart(vegaEmbed) {\n",
       "      vegaEmbed(outputDiv, spec, embedOpt)\n",
       "        .catch(err => showError(`Javascript Error: ${err.message}<br>This usually means there's a typo in your chart specification. See the javascript console for the full traceback.`));\n",
       "    }\n",
       "\n",
       "    if(typeof define === \"function\" && define.amd) {\n",
       "      requirejs.config({paths});\n",
       "      require([\"vega-embed\"], displayChart, err => showError(`Error loading script: ${err.message}`));\n",
       "    } else {\n",
       "      maybeLoadScript(\"vega\", \"5\")\n",
       "        .then(() => maybeLoadScript(\"vega-lite\", \"4.17.0\"))\n",
       "        .then(() => maybeLoadScript(\"vega-embed\", \"6\"))\n",
       "        .catch(showError)\n",
       "        .then(() => displayChart(vegaEmbed));\n",
       "    }\n",
       "  })({\"config\": {\"axis\": {\"domain\": true, \"domainColor\": \"#798184\", \"grid\": false, \"gridColor\": \"#798184\", \"gridOpacity\": 0.5, \"gridDash\": [3, 5], \"gridWidth\": 0.8, \"gridCap\": \"round\", \"labelPadding\": 3, \"labelFont\": \"Roboto\", \"labelColor\": \"#798184\", \"tickSize\": 5, \"tickColor\": \"#798184\", \"tickOpacity\": 0.5, \"titleColor\": \"#384140\", \"titleFont\": \"Roboto\", \"titleFontSize\": 12}, \"axisBand\": {\"domain\": true, \"ticks\": false, \"labelPadding\": 7}, \"axisY\": {\"domain\": false, \"titleAlign\": \"left\", \"titleAngle\": 0, \"titleX\": -20, \"titleY\": -10}, \"legend\": {\"labelColor\": \"#798184\", \"labelFontSize\": 12, \"symbolSize\": 40, \"titleColor\": \"#384140\", \"titleFontSize\": 12, \"titlePadding\": 10, \"titleFont\": \"Roboto\", \"labelFont\": \"Roboto\"}, \"line\": {\"stroke\": \"#618FE0\", \"strokeWidth\": 2}, \"rule\": {\"stroke\": \"#798184\"}, \"path\": {\"stroke\": \"#618FE0\", \"strokeWidth\": 0.5}, \"rect\": {\"fill\": \"#618FE0\"}, \"point\": {\"filled\": true, \"shape\": \"circle\"}, \"shape\": {\"stroke\": \"#618FE0\"}, \"bar\": {\"fill\": \"#618FE0\", \"stroke\": null}, \"text\": {\"font\": \"Roboto\", \"color\": \"#384140\", \"fontSize\": 12}, \"arc\": {\"stroke\": \"#fff\", \"strokeWidth\": 1}, \"range\": {\"category\": [\"#618FE0\", \"#50D0B0\", \"#E17560\", \"#E8B474\", \"#D889C4\", \"#34A3BC\", \"#A583A4\"], \"ramp\": [\"#001854\", \"#002f72\", \"#04478e\", \"#1e5fab\", \"#4477c5\", \"#6290e1\", \"#7ea9fd\", \"#9ec7ff\", \"#bde4ff\"], \"heatmap\": [\"#001854\", \"#002f72\", \"#04478e\", \"#1e5fab\", \"#4477c5\", \"#6290e1\", \"#7ea9fd\", \"#9ec7ff\", \"#bde4ff\"], \"diverging\": [\"#003b26\", \"#006b52\", \"#1aa082\", \"#55d5b5\", \"#f5f5f5\", \"#ffaa92\", \"#d16f5b\", \"#9e392c\", \"#650200\"]}, \"title\": {\"anchor\": \"start\", \"fontSize\": 20, \"color\": \"#384140\", \"fontWeight\": \"bold\", \"offset\": 20, \"font\": \"Roboto\", \"subtitleColor\": \"#384140\", \"subtitleFontSize\": 16}, \"header\": {\"labelFontSize\": 12, \"titleFontSize\": 16, \"labelColor\": \"#384140\", \"titleColor\": \"#384140\", \"titleFont\": \"Roboto\", \"labelFont\": \"Roboto\"}, \"group\": {\"fill\": \"white\"}, \"background\": \"white\", \"view\": {\"stroke\": \"transparent\", \"continuousHeight\": 300, \"continuousWidth\": 400}}, \"data\": {\"name\": \"data-0d1a5772d02a0f81419bdd446818ca72\"}, \"mark\": {\"type\": \"point\", \"stroke\": \"white\", \"strokeWidth\": 0.6}, \"encoding\": {\"color\": {\"field\": \"type\", \"legend\": {\"fillColor\": \"white\", \"orient\": \"top-left\", \"symbolSize\": 50, \"symbolStrokeWidth\": 0, \"title\": null}, \"scale\": {\"domain\": [\"Shapley Value\", \"Mean\"], \"range\": [\"#48caaa\", \"#d76d58\"]}, \"type\": \"nominal\"}, \"opacity\": {\"condition\": {\"value\": 1.0, \"test\": \"(datum.type === 'Mean')\"}, \"value\": 0.2}, \"size\": {\"condition\": {\"value\": 70, \"test\": \"(datum.type === 'Mean')\"}, \"value\": 30}, \"x\": {\"axis\": {\"labelAngle\": 0}, \"field\": \"t (event index)\", \"type\": \"ordinal\"}, \"y\": {\"axis\": {\"grid\": true, \"titleX\": -23}, \"field\": \"Shapley Value\", \"scale\": {\"domain\": [-0.3, 0.9]}, \"title\": \"Shapley Value\", \"type\": \"quantitative\"}}, \"height\": 150, \"width\": 360, \"$schema\": \"https://vega.github.io/schema/vega-lite/v4.17.0.json\", \"datasets\": {\"data-0d1a5772d02a0f81419bdd446818ca72\": [{\"Shapley Value\": 0.043549202254512, \"t (event index)\": 0, \"type\": \"Shapley Value\"}, {\"Shapley Value\": 0.0868214289856691, \"t (event index)\": -1, \"type\": \"Shapley Value\"}, {\"Shapley Value\": 0.1065060132072561, \"t (event index)\": -2, \"type\": \"Shapley Value\"}, {\"Shapley Value\": 0.035576852346432, \"t (event index)\": -3, \"type\": \"Shapley Value\"}, {\"Shapley Value\": 0.0161208340181245, \"t (event index)\": -4, \"type\": \"Shapley Value\"}, {\"Shapley Value\": 0.0748460442238013, \"t (event index)\": -5, \"type\": \"Shapley Value\"}, {\"Shapley Value\": 0.0940537487229024, \"t (event index)\": -6, \"type\": \"Shapley Value\"}, {\"Shapley Value\": 0.0599676512717908, \"t (event index)\": -7, \"type\": \"Shapley Value\"}, {\"Shapley Value\": 0.0422722956484912, \"t (event index)\": -8, \"type\": \"Shapley Value\"}, {\"Shapley Value\": 0.0461039234073867, \"t (event index)\": -9, \"type\": \"Shapley Value\"}, {\"Shapley Value\": 0.0, \"t (event index)\": -10, \"type\": \"Shapley Value\"}, {\"Shapley Value\": 0.0310092858059954, \"t (event index)\": -11, \"type\": \"Shapley Value\"}, {\"Shapley Value\": 0.03412235561408, \"t (event index)\": -12, \"type\": \"Shapley Value\"}, {\"Shapley Value\": 0.0148938309745667, \"t (event index)\": -13, \"type\": \"Shapley Value\"}, {\"Shapley Value\": 0.0111094597928109, \"t (event index)\": -14, \"type\": \"Shapley Value\"}, {\"Shapley Value\": 0.0081919682911046, \"t (event index)\": -15, \"type\": \"Shapley Value\"}, {\"Shapley Value\": 0.0080191623573466, \"t (event index)\": -16, \"type\": \"Shapley Value\"}, {\"Shapley Value\": 0.002226389202313, \"t (event index)\": -17, \"type\": \"Shapley Value\"}, {\"Shapley Value\": 0.0074679224967901, \"t (event index)\": -18, \"type\": \"Shapley Value\"}, {\"Shapley Value\": 0.0060535013781738, \"t (event index)\": -19, \"type\": \"Shapley Value\"}, {\"Shapley Value\": 0.0031755651112809, \"t (event index)\": -20, \"type\": \"Shapley Value\"}, {\"Shapley Value\": 0.0476920479319221, \"t (event index)\": 0, \"type\": \"Shapley Value\"}, {\"Shapley Value\": 0.0847860174615227, \"t (event index)\": -1, \"type\": \"Shapley Value\"}, {\"Shapley Value\": 0.105423068214554, \"t (event index)\": -2, \"type\": \"Shapley Value\"}, {\"Shapley Value\": 0.0357627804368111, \"t (event index)\": -3, \"type\": \"Shapley Value\"}, {\"Shapley Value\": 0.0156460710293553, \"t (event index)\": -4, \"type\": \"Shapley Value\"}, {\"Shapley Value\": 0.0738717896443676, \"t (event index)\": -5, \"type\": \"Shapley Value\"}, {\"Shapley Value\": 0.0938230399788305, \"t (event index)\": -6, \"type\": \"Shapley Value\"}, {\"Shapley Value\": 0.0600714597806998, \"t (event index)\": -7, \"type\": \"Shapley Value\"}, {\"Shapley Value\": 0.0423219820603947, \"t (event index)\": -8, \"type\": \"Shapley Value\"}, {\"Shapley Value\": 0.0449093027207674, \"t (event index)\": -9, \"type\": \"Shapley Value\"}, {\"Shapley Value\": 0.0015667350434128, \"t (event index)\": -10, \"type\": \"Shapley Value\"}, {\"Shapley Value\": 0.0327611460758755, \"t (event index)\": -11, \"type\": \"Shapley Value\"}, {\"Shapley Value\": 0.0357039419245169, \"t (event index)\": -12, \"type\": \"Shapley Value\"}, {\"Shapley Value\": 0.015189906048595, \"t (event index)\": -13, \"type\": \"Shapley Value\"}, {\"Shapley Value\": 0.0106343246472044, \"t (event index)\": -14, \"type\": \"Shapley Value\"}, {\"Shapley Value\": 0.008425266732812, \"t (event index)\": -15, \"type\": \"Shapley Value\"}, {\"Shapley Value\": 0.0469627218904893, \"t (event index)\": 0, \"type\": \"Shapley Value\"}, {\"Shapley Value\": 0.0844085802425226, \"t (event index)\": -1, \"type\": \"Shapley Value\"}, {\"Shapley Value\": 0.1049147999891919, \"t (event index)\": -2, \"type\": \"Shapley Value\"}, {\"Shapley Value\": 0.0354612936573527, \"t (event index)\": -3, \"type\": \"Shapley Value\"}, {\"Shapley Value\": 0.0162106026114422, \"t (event index)\": -4, \"type\": \"Shapley Value\"}, {\"Shapley Value\": 0.074140851363223, \"t (event index)\": -5, \"type\": \"Shapley Value\"}, {\"Shapley Value\": 0.0921794634217146, \"t (event index)\": -6, \"type\": \"Shapley Value\"}, {\"Shapley Value\": 0.0591342663644852, \"t (event index)\": -7, \"type\": \"Shapley Value\"}, {\"Shapley Value\": 0.0412115512987052, \"t (event index)\": -8, \"type\": \"Shapley Value\"}, {\"Shapley Value\": 0.0443445820382128, \"t (event index)\": -9, \"type\": \"Shapley Value\"}, {\"Shapley Value\": 0.001561985659565, \"t (event index)\": -10, \"type\": \"Shapley Value\"}, {\"Shapley Value\": 0.0309807030426018, \"t (event index)\": -11, \"type\": \"Shapley Value\"}, {\"Shapley Value\": 0.0327643047612428, \"t (event index)\": -12, \"type\": \"Shapley Value\"}, {\"Shapley Value\": 0.0141992198920122, \"t (event index)\": -13, \"type\": \"Shapley Value\"}, {\"Shapley Value\": 0.0066547874343879, \"t (event index)\": 0, \"type\": \"Shapley Value\"}, {\"Shapley Value\": 0.0055656152095194, \"t (event index)\": -1, \"type\": \"Shapley Value\"}, {\"Shapley Value\": 0.0066699870042845, \"t (event index)\": -2, \"type\": \"Shapley Value\"}, {\"Shapley Value\": 0.0077464639186608, \"t (event index)\": -3, \"type\": \"Shapley Value\"}, {\"Shapley Value\": 0.0100273594881173, \"t (event index)\": -4, \"type\": \"Shapley Value\"}, {\"Shapley Value\": 0.0059972134746694, \"t (event index)\": -5, \"type\": \"Shapley Value\"}, {\"Shapley Value\": 0.00192966220928, \"t (event index)\": -6, \"type\": \"Shapley Value\"}, {\"Shapley Value\": 0.0056793868980163, \"t (event index)\": -7, \"type\": \"Shapley Value\"}, {\"Shapley Value\": 0.0055666555982428, \"t (event index)\": -8, \"type\": \"Shapley Value\"}, {\"Shapley Value\": 0.003591028205771, \"t (event index)\": -9, \"type\": \"Shapley Value\"}, {\"Shapley Value\": 0.0004140524188731, \"t (event index)\": -10, \"type\": \"Shapley Value\"}, {\"Shapley Value\": 0.0038597745458146, \"t (event index)\": -11, \"type\": \"Shapley Value\"}, {\"Shapley Value\": 0.0015135630927412, \"t (event index)\": -12, \"type\": \"Shapley Value\"}, {\"Shapley Value\": 0.0001059602576238, \"t (event index)\": -13, \"type\": \"Shapley Value\"}, {\"Shapley Value\": 0.0022496430079452, \"t (event index)\": -14, \"type\": \"Shapley Value\"}, {\"Shapley Value\": 0.0023334503479742, \"t (event index)\": -15, \"type\": \"Shapley Value\"}, {\"Shapley Value\": 1.9340732624893543e-05, \"t (event index)\": -16, \"type\": \"Shapley Value\"}, {\"Shapley Value\": 0.0006571882278911, \"t (event index)\": -17, \"type\": \"Shapley Value\"}, {\"Shapley Value\": 0.0010962821425144, \"t (event index)\": -18, \"type\": \"Shapley Value\"}, {\"Shapley Value\": 0.0, \"t (event index)\": -19, \"type\": \"Shapley Value\"}, {\"Shapley Value\": 0.0, \"t (event index)\": -20, \"type\": \"Shapley Value\"}, {\"Shapley Value\": 0.0102758631420632, \"t (event index)\": 0, \"type\": \"Shapley Value\"}, {\"Shapley Value\": 0.0085667505549887, \"t (event index)\": -1, \"type\": \"Shapley Value\"}, {\"Shapley Value\": 0.0102213930338621, \"t (event index)\": -2, \"type\": \"Shapley Value\"}, {\"Shapley Value\": 0.0135268289906283, \"t (event index)\": -3, \"type\": \"Shapley Value\"}, {\"Shapley Value\": 0.0150064686313271, \"t (event index)\": 0, \"type\": \"Shapley Value\"}, {\"Shapley Value\": 0.0380273746492146, \"t (event index)\": 0, \"type\": \"Shapley Value\"}, {\"Shapley Value\": 0.0871110808239086, \"t (event index)\": -1, \"type\": \"Shapley Value\"}, {\"Shapley Value\": 0.0841184603474802, \"t (event index)\": -2, \"type\": \"Shapley Value\"}, {\"Shapley Value\": 0.0750185455906607, \"t (event index)\": -3, \"type\": \"Shapley Value\"}, {\"Shapley Value\": 0.0490984008432263, \"t (event index)\": -4, \"type\": \"Shapley Value\"}, {\"Shapley Value\": 0.0463368290727526, \"t (event index)\": -5, \"type\": \"Shapley Value\"}, {\"Shapley Value\": 0.0513613325100717, \"t (event index)\": -6, \"type\": \"Shapley Value\"}, {\"Shapley Value\": 0.0611635961302547, \"t (event index)\": -7, \"type\": \"Shapley Value\"}, {\"Shapley Value\": 0.0374310604038305, \"t (event index)\": -8, \"type\": \"Shapley Value\"}, {\"Shapley Value\": 0.0253608713399515, \"t (event index)\": -9, \"type\": \"Shapley Value\"}, {\"Shapley Value\": 0.0103326339333647, \"t (event index)\": -10, \"type\": \"Shapley Value\"}, {\"Shapley Value\": 0.0202619584088315, \"t (event index)\": -11, \"type\": \"Shapley Value\"}, {\"Shapley Value\": 0.0081645490953728, \"t (event index)\": -12, \"type\": \"Shapley Value\"}, {\"Shapley Value\": 0.0124595975113733, \"t (event index)\": -13, \"type\": \"Shapley Value\"}, {\"Shapley Value\": 0.0119421204007047, \"t (event index)\": -14, \"type\": \"Shapley Value\"}, {\"Shapley Value\": 0.0158470730048501, \"t (event index)\": -15, \"type\": \"Shapley Value\"}, {\"Shapley Value\": 0.0041909937961996, \"t (event index)\": -16, \"type\": \"Shapley Value\"}, {\"Shapley Value\": 0.0029282881142055, \"t (event index)\": -17, \"type\": \"Shapley Value\"}, {\"Shapley Value\": 0.0039210073289576, \"t (event index)\": -18, \"type\": \"Shapley Value\"}, {\"Shapley Value\": 0.0031553377247222, \"t (event index)\": -19, \"type\": \"Shapley Value\"}, {\"Shapley Value\": 0.0040254387608994, \"t (event index)\": -20, \"type\": \"Shapley Value\"}, {\"Shapley Value\": 0.0422186598641492, \"t (event index)\": 0, \"type\": \"Shapley Value\"}, {\"Shapley Value\": 0.0880615843300192, \"t (event index)\": -1, \"type\": \"Shapley Value\"}, {\"Shapley Value\": 0.0876439483321153, \"t (event index)\": -2, \"type\": \"Shapley Value\"}, {\"Shapley Value\": 0.0775997360763654, \"t (event index)\": -3, \"type\": \"Shapley Value\"}, {\"Shapley Value\": 0.0476645578970996, \"t (event index)\": -4, \"type\": \"Shapley Value\"}, {\"Shapley Value\": 0.0453601840425822, \"t (event index)\": -5, \"type\": \"Shapley Value\"}, {\"Shapley Value\": 0.0546861940725678, \"t (event index)\": -6, \"type\": \"Shapley Value\"}, {\"Shapley Value\": 0.0591771397811047, \"t (event index)\": -7, \"type\": \"Shapley Value\"}, {\"Shapley Value\": 0.0383927637471097, \"t (event index)\": -8, \"type\": \"Shapley Value\"}, {\"Shapley Value\": 0.0250841935469474, \"t (event index)\": -9, \"type\": \"Shapley Value\"}, {\"Shapley Value\": 0.0126099349267344, \"t (event index)\": -10, \"type\": \"Shapley Value\"}, {\"Shapley Value\": 0.0205179701353675, \"t (event index)\": -11, \"type\": \"Shapley Value\"}, {\"Shapley Value\": 0.0106105558600241, \"t (event index)\": -12, \"type\": \"Shapley Value\"}, {\"Shapley Value\": 0.0140414784225256, \"t (event index)\": -13, \"type\": \"Shapley Value\"}, {\"Shapley Value\": 0.0153159905583177, \"t (event index)\": -14, \"type\": \"Shapley Value\"}, {\"Shapley Value\": 0.0165816794714618, \"t (event index)\": -15, \"type\": \"Shapley Value\"}, {\"Shapley Value\": 0.0057078744799303, \"t (event index)\": -16, \"type\": \"Shapley Value\"}, {\"Shapley Value\": 0.0039245230420293, \"t (event index)\": -17, \"type\": \"Shapley Value\"}, {\"Shapley Value\": 0.004751235361366, \"t (event index)\": -18, \"type\": \"Shapley Value\"}, {\"Shapley Value\": 0.0433520948274129, \"t (event index)\": 0, \"type\": \"Shapley Value\"}, {\"Shapley Value\": 0.0866237776711958, \"t (event index)\": -1, \"type\": \"Shapley Value\"}, {\"Shapley Value\": 0.0863792878468536, \"t (event index)\": -2, \"type\": \"Shapley Value\"}, {\"Shapley Value\": 0.0765304041142312, \"t (event index)\": -3, \"type\": \"Shapley Value\"}, {\"Shapley Value\": 0.049186972189843, \"t (event index)\": -4, \"type\": \"Shapley Value\"}, {\"Shapley Value\": 0.0455149727293897, \"t (event index)\": -5, \"type\": \"Shapley Value\"}, {\"Shapley Value\": 0.0532441385171442, \"t (event index)\": -6, \"type\": \"Shapley Value\"}, {\"Shapley Value\": 0.0608188730773173, \"t (event index)\": -7, \"type\": \"Shapley Value\"}, {\"Shapley Value\": 0.0376025046607049, \"t (event index)\": -8, \"type\": \"Shapley Value\"}, {\"Shapley Value\": 0.0259838015602794, \"t (event index)\": -9, \"type\": \"Shapley Value\"}, {\"Shapley Value\": 0.0127154423267489, \"t (event index)\": -10, \"type\": \"Shapley Value\"}, {\"Shapley Value\": 0.022570091873133, \"t (event index)\": -11, \"type\": \"Shapley Value\"}, {\"Shapley Value\": 0.0108824485143553, \"t (event index)\": -12, \"type\": \"Shapley Value\"}, {\"Shapley Value\": 0.0145547166167347, \"t (event index)\": -13, \"type\": \"Shapley Value\"}, {\"Shapley Value\": 0.0130713494404972, \"t (event index)\": -14, \"type\": \"Shapley Value\"}, {\"Shapley Value\": 0.015079737356352, \"t (event index)\": -15, \"type\": \"Shapley Value\"}, {\"Shapley Value\": 0.0126230951560511, \"t (event index)\": 0, \"type\": \"Shapley Value\"}, {\"Shapley Value\": 0.0211919502589802, \"t (event index)\": -1, \"type\": \"Shapley Value\"}, {\"Shapley Value\": 0.0178932200335904, \"t (event index)\": -2, \"type\": \"Shapley Value\"}, {\"Shapley Value\": 0.0221872263259111, \"t (event index)\": -3, \"type\": \"Shapley Value\"}, {\"Shapley Value\": 0.0215969822326239, \"t (event index)\": -4, \"type\": \"Shapley Value\"}, {\"Shapley Value\": 0.0094148747444602, \"t (event index)\": -5, \"type\": \"Shapley Value\"}, {\"Shapley Value\": 0.0122528284712235, \"t (event index)\": -6, \"type\": \"Shapley Value\"}, {\"Shapley Value\": 0.0129942245086378, \"t (event index)\": -7, \"type\": \"Shapley Value\"}, {\"Shapley Value\": 0.0060992486188106, \"t (event index)\": -8, \"type\": \"Shapley Value\"}, {\"Shapley Value\": 0.0187676437304884, \"t (event index)\": -9, \"type\": \"Shapley Value\"}, {\"Shapley Value\": 0.0082924661235137, \"t (event index)\": -10, \"type\": \"Shapley Value\"}, {\"Shapley Value\": 0.0052546528522262, \"t (event index)\": -11, \"type\": \"Shapley Value\"}, {\"Shapley Value\": 0.0039255264811193, \"t (event index)\": -12, \"type\": \"Shapley Value\"}, {\"Shapley Value\": 0.005311908903622, \"t (event index)\": -13, \"type\": \"Shapley Value\"}, {\"Shapley Value\": 0.0034910575677685, \"t (event index)\": -14, \"type\": \"Shapley Value\"}, {\"Shapley Value\": 0.0083151064868372, \"t (event index)\": -15, \"type\": \"Shapley Value\"}, {\"Shapley Value\": 0.0, \"t (event index)\": -16, \"type\": \"Shapley Value\"}, {\"Shapley Value\": 0.0, \"t (event index)\": -17, \"type\": \"Shapley Value\"}, {\"Shapley Value\": 0.0008764838097282, \"t (event index)\": -18, \"type\": \"Shapley Value\"}, {\"Shapley Value\": 0.0011419177753126, \"t (event index)\": -19, \"type\": \"Shapley Value\"}, {\"Shapley Value\": 0.001736330087096, \"t (event index)\": -20, \"type\": \"Shapley Value\"}, {\"Shapley Value\": 0.0144011737417187, \"t (event index)\": 0, \"type\": \"Shapley Value\"}, {\"Shapley Value\": 0.0213872915418047, \"t (event index)\": -1, \"type\": \"Shapley Value\"}, {\"Shapley Value\": 0.0194735193957181, \"t (event index)\": -2, \"type\": \"Shapley Value\"}, {\"Shapley Value\": 0.0233570597303886, \"t (event index)\": -3, \"type\": \"Shapley Value\"}, {\"Shapley Value\": 0.021661146585641, \"t (event index)\": -4, \"type\": \"Shapley Value\"}, {\"Shapley Value\": 0.0093112725498998, \"t (event index)\": -5, \"type\": \"Shapley Value\"}, {\"Shapley Value\": 0.0141120151920216, \"t (event index)\": -6, \"type\": \"Shapley Value\"}, {\"Shapley Value\": 0.0133389632724635, \"t (event index)\": -7, \"type\": \"Shapley Value\"}, {\"Shapley Value\": 0.0065248512436495, \"t (event index)\": -8, \"type\": \"Shapley Value\"}, {\"Shapley Value\": 0.0196749098497732, \"t (event index)\": -9, \"type\": \"Shapley Value\"}, {\"Shapley Value\": 0.0097581179364226, \"t (event index)\": -10, \"type\": \"Shapley Value\"}, {\"Shapley Value\": 0.006456778796629, \"t (event index)\": -11, \"type\": \"Shapley Value\"}, {\"Shapley Value\": 0.0059495602434524, \"t (event index)\": -12, \"type\": \"Shapley Value\"}, {\"Shapley Value\": 0.006272716349569, \"t (event index)\": -13, \"type\": \"Shapley Value\"}, {\"Shapley Value\": 0.0046179230845903, \"t (event index)\": -14, \"type\": \"Shapley Value\"}, {\"Shapley Value\": 0.0078451510157509, \"t (event index)\": -15, \"type\": \"Shapley Value\"}, {\"Shapley Value\": 0.0146017771002779, \"t (event index)\": 0, \"type\": \"Shapley Value\"}, {\"Shapley Value\": 0.0219226991215659, \"t (event index)\": -1, \"type\": \"Shapley Value\"}, {\"Shapley Value\": 0.0197661562741929, \"t (event index)\": -2, \"type\": \"Shapley Value\"}, {\"Shapley Value\": 0.0239561266070958, \"t (event index)\": -3, \"type\": \"Shapley Value\"}, {\"Shapley Value\": 0.0223158136118447, \"t (event index)\": -4, \"type\": \"Shapley Value\"}, {\"Shapley Value\": 0.0099542200186528, \"t (event index)\": -5, \"type\": \"Shapley Value\"}, {\"Shapley Value\": 0.0143997120173277, \"t (event index)\": -6, \"type\": \"Shapley Value\"}, {\"Shapley Value\": 0.0136802857547759, \"t (event index)\": -7, \"type\": \"Shapley Value\"}, {\"Shapley Value\": 0.0065331414978607, \"t (event index)\": -8, \"type\": \"Shapley Value\"}, {\"Shapley Value\": 0.0201225829081007, \"t (event index)\": -9, \"type\": \"Shapley Value\"}, {\"Shapley Value\": 0.0098850250468237, \"t (event index)\": -10, \"type\": \"Shapley Value\"}, {\"Shapley Value\": 0.0063129713816619, \"t (event index)\": -11, \"type\": \"Shapley Value\"}, {\"Shapley Value\": 0.0060882678062213, \"t (event index)\": -12, \"type\": \"Shapley Value\"}, {\"Shapley Value\": 0.0059103442902305, \"t (event index)\": -13, \"type\": \"Shapley Value\"}, {\"Shapley Value\": 0.002234333489819075, \"t (event index)\": -20, \"type\": \"Mean\"}, {\"Shapley Value\": 0.00258768921955215, \"t (event index)\": -19, \"type\": \"Mean\"}, {\"Shapley Value\": 0.0036225862278712597, \"t (event index)\": -18, \"type\": \"Mean\"}, {\"Shapley Value\": 0.0019472777172877798, \"t (event index)\": -17, \"type\": \"Mean\"}, {\"Shapley Value\": 0.0035874742732202787, \"t (event index)\": -16, \"type\": \"Mean\"}, {\"Shapley Value\": 0.01032742908839285, \"t (event index)\": -15, \"type\": \"Mean\"}, {\"Shapley Value\": 0.009053983562479863, \"t (event index)\": -14, \"type\": \"Mean\"}, {\"Shapley Value\": 0.01029396792668528, \"t (event index)\": -13, \"type\": \"Mean\"}, {\"Shapley Value\": 0.01497250733931261, \"t (event index)\": -12, \"type\": \"Mean\"}, {\"Shapley Value\": 0.01799853329181364, \"t (event index)\": -11, \"type\": \"Mean\"}, {\"Shapley Value\": 0.006713639341545891, \"t (event index)\": -10, \"type\": \"Mean\"}, {\"Shapley Value\": 0.02739428393076785, \"t (event index)\": -9, \"type\": \"Mean\"}, {\"Shapley Value\": 0.02639560547777998, \"t (event index)\": -8, \"type\": \"Mean\"}, {\"Shapley Value\": 0.0406025846839546, \"t (event index)\": -7, \"type\": \"Mean\"}, {\"Shapley Value\": 0.0482042135113084, \"t (event index)\": -6, \"type\": \"Mean\"}, {\"Shapley Value\": 0.03947482518637986, \"t (event index)\": -5, \"type\": \"Mean\"}, {\"Shapley Value\": 0.026952874050731778, \"t (event index)\": -4, \"type\": \"Mean\"}, {\"Shapley Value\": 0.03879302889041252, \"t (event index)\": -3, \"type\": \"Mean\"}, {\"Shapley Value\": 0.059000895789009015, \"t (event index)\": -2, \"type\": \"Mean\"}, {\"Shapley Value\": 0.05422243420015427, \"t (event index)\": -1, \"type\": \"Mean\"}, {\"Shapley Value\": 0.0279471055519605, \"t (event index)\": 0, \"type\": \"Mean\"}]}}, {\"mode\": \"vega-lite\"});\n",
       "</script>"
      ],
      "text/plain": [
       "alt.Chart(...)"
      ]
     },
     "execution_count": 30,
     "metadata": {},
     "output_type": "execute_result"
    }
   ],
   "source": [
    "event_dict = {'path': 'outputs/event_all.csv', 'rs': 42, 'nsamples': 32000}\n",
    "event_data = event_explain_all(f_hs, pos_dataset, sequence_id_feat, average_event, event_dict, prun_indexes, model_features, time_feat)\n",
    "event_global_plot = plot_global_event(event_data)\n",
    "event_global_plot"
   ]
  },
  {
   "cell_type": "markdown",
   "id": "5ecc29f6",
   "metadata": {},
   "source": [
    "##### Global feature-level"
   ]
  },
  {
   "cell_type": "code",
   "execution_count": 31,
   "id": "c0564654",
   "metadata": {},
   "outputs": [
    {
     "data": {
      "text/html": [
       "\n",
       "<div id=\"altair-viz-6b3b8331dfe74c2292f12bdbf99b22f2\"></div>\n",
       "<script type=\"text/javascript\">\n",
       "  var VEGA_DEBUG = (typeof VEGA_DEBUG == \"undefined\") ? {} : VEGA_DEBUG;\n",
       "  (function(spec, embedOpt){\n",
       "    let outputDiv = document.currentScript.previousElementSibling;\n",
       "    if (outputDiv.id !== \"altair-viz-6b3b8331dfe74c2292f12bdbf99b22f2\") {\n",
       "      outputDiv = document.getElementById(\"altair-viz-6b3b8331dfe74c2292f12bdbf99b22f2\");\n",
       "    }\n",
       "    const paths = {\n",
       "      \"vega\": \"https://cdn.jsdelivr.net/npm//vega@5?noext\",\n",
       "      \"vega-lib\": \"https://cdn.jsdelivr.net/npm//vega-lib?noext\",\n",
       "      \"vega-lite\": \"https://cdn.jsdelivr.net/npm//vega-lite@4.17.0?noext\",\n",
       "      \"vega-embed\": \"https://cdn.jsdelivr.net/npm//vega-embed@6?noext\",\n",
       "    };\n",
       "\n",
       "    function maybeLoadScript(lib, version) {\n",
       "      var key = `${lib.replace(\"-\", \"\")}_version`;\n",
       "      return (VEGA_DEBUG[key] == version) ?\n",
       "        Promise.resolve(paths[lib]) :\n",
       "        new Promise(function(resolve, reject) {\n",
       "          var s = document.createElement('script');\n",
       "          document.getElementsByTagName(\"head\")[0].appendChild(s);\n",
       "          s.async = true;\n",
       "          s.onload = () => {\n",
       "            VEGA_DEBUG[key] = version;\n",
       "            return resolve(paths[lib]);\n",
       "          };\n",
       "          s.onerror = () => reject(`Error loading script: ${paths[lib]}`);\n",
       "          s.src = paths[lib];\n",
       "        });\n",
       "    }\n",
       "\n",
       "    function showError(err) {\n",
       "      outputDiv.innerHTML = `<div class=\"error\" style=\"color:red;\">${err}</div>`;\n",
       "      throw err;\n",
       "    }\n",
       "\n",
       "    function displayChart(vegaEmbed) {\n",
       "      vegaEmbed(outputDiv, spec, embedOpt)\n",
       "        .catch(err => showError(`Javascript Error: ${err.message}<br>This usually means there's a typo in your chart specification. See the javascript console for the full traceback.`));\n",
       "    }\n",
       "\n",
       "    if(typeof define === \"function\" && define.amd) {\n",
       "      requirejs.config({paths});\n",
       "      require([\"vega-embed\"], displayChart, err => showError(`Error loading script: ${err.message}`));\n",
       "    } else {\n",
       "      maybeLoadScript(\"vega\", \"5\")\n",
       "        .then(() => maybeLoadScript(\"vega-lite\", \"4.17.0\"))\n",
       "        .then(() => maybeLoadScript(\"vega-embed\", \"6\"))\n",
       "        .catch(showError)\n",
       "        .then(() => displayChart(vegaEmbed));\n",
       "    }\n",
       "  })({\"config\": {\"axis\": {\"domain\": true, \"domainColor\": \"#798184\", \"grid\": false, \"gridColor\": \"#798184\", \"gridOpacity\": 0.5, \"gridDash\": [3, 5], \"gridWidth\": 0.8, \"gridCap\": \"round\", \"labelPadding\": 3, \"labelFont\": \"Roboto\", \"labelColor\": \"#798184\", \"tickSize\": 5, \"tickColor\": \"#798184\", \"tickOpacity\": 0.5, \"titleColor\": \"#384140\", \"titleFont\": \"Roboto\", \"titleFontSize\": 12}, \"axisBand\": {\"domain\": true, \"ticks\": false, \"labelPadding\": 7}, \"axisY\": {\"domain\": false, \"titleAlign\": \"left\", \"titleAngle\": 0, \"titleX\": -20, \"titleY\": -10}, \"legend\": {\"labelColor\": \"#798184\", \"labelFontSize\": 12, \"symbolSize\": 40, \"titleColor\": \"#384140\", \"titleFontSize\": 12, \"titlePadding\": 10, \"titleFont\": \"Roboto\", \"labelFont\": \"Roboto\"}, \"line\": {\"stroke\": \"#618FE0\", \"strokeWidth\": 2}, \"rule\": {\"stroke\": \"#798184\"}, \"path\": {\"stroke\": \"#618FE0\", \"strokeWidth\": 0.5}, \"rect\": {\"fill\": \"#618FE0\"}, \"point\": {\"filled\": true, \"shape\": \"circle\"}, \"shape\": {\"stroke\": \"#618FE0\"}, \"bar\": {\"fill\": \"#618FE0\", \"stroke\": null}, \"text\": {\"font\": \"Roboto\", \"color\": \"#384140\", \"fontSize\": 12}, \"arc\": {\"stroke\": \"#fff\", \"strokeWidth\": 1}, \"range\": {\"category\": [\"#618FE0\", \"#50D0B0\", \"#E17560\", \"#E8B474\", \"#D889C4\", \"#34A3BC\", \"#A583A4\"], \"ramp\": [\"#001854\", \"#002f72\", \"#04478e\", \"#1e5fab\", \"#4477c5\", \"#6290e1\", \"#7ea9fd\", \"#9ec7ff\", \"#bde4ff\"], \"heatmap\": [\"#001854\", \"#002f72\", \"#04478e\", \"#1e5fab\", \"#4477c5\", \"#6290e1\", \"#7ea9fd\", \"#9ec7ff\", \"#bde4ff\"], \"diverging\": [\"#003b26\", \"#006b52\", \"#1aa082\", \"#55d5b5\", \"#f5f5f5\", \"#ffaa92\", \"#d16f5b\", \"#9e392c\", \"#650200\"]}, \"title\": {\"anchor\": \"start\", \"fontSize\": 20, \"color\": \"#384140\", \"fontWeight\": \"bold\", \"offset\": 20, \"font\": \"Roboto\", \"subtitleColor\": \"#384140\", \"subtitleFontSize\": 16}, \"header\": {\"labelFontSize\": 12, \"titleFontSize\": 16, \"labelColor\": \"#384140\", \"titleColor\": \"#384140\", \"titleFont\": \"Roboto\", \"labelFont\": \"Roboto\"}, \"group\": {\"fill\": \"white\"}, \"background\": \"white\", \"view\": {\"stroke\": \"transparent\", \"continuousHeight\": 300, \"continuousWidth\": 400}}, \"data\": {\"name\": \"data-66ba81b144f43fd032b2439847f2c161\"}, \"mark\": {\"type\": \"point\", \"stroke\": \"white\", \"strokeWidth\": 0.6}, \"encoding\": {\"color\": {\"field\": \"type\", \"legend\": {\"fillColor\": \"white\", \"orient\": \"bottom-right\", \"symbolSize\": 50, \"symbolStrokeWidth\": 0, \"title\": null}, \"scale\": {\"domain\": [\"Shapley Value\", \"Mean\"], \"range\": [\"#618FE0\", \"#d76d58\"]}, \"type\": \"nominal\"}, \"opacity\": {\"condition\": {\"value\": 1.0, \"test\": \"(datum.type === 'Mean')\"}, \"value\": 0.1}, \"size\": {\"condition\": {\"value\": 70, \"test\": \"(datum.type === 'Mean')\"}, \"value\": 30}, \"x\": {\"axis\": {\"grid\": true, \"title\": \"Shapley Value\"}, \"field\": \"Shapley Value\", \"scale\": {\"domain\": [-0.2, 0.6]}, \"type\": \"quantitative\"}, \"y\": {\"axis\": {\"labelFontSize\": 13, \"titleX\": -51}, \"field\": \"Feature\", \"sort\": [\"Mean Right Ankle <-> Left Ankle\", \"STD Chest <-> Left Ankle\", \"STD Right Ankle <-> Left Ankle\", \"Mean Chest <-> Left Ankle\", \"Pruned Events\", \"STD Chest <-> Right Ankle\", \"Mean Chest <-> Right Ankle\"], \"type\": \"ordinal\"}}, \"height\": 280, \"width\": 288, \"$schema\": \"https://vega.github.io/schema/vega-lite/v4.17.0.json\", \"datasets\": {\"data-66ba81b144f43fd032b2439847f2c161\": [{\"Shapley Value\": -0.0078497646243443, \"Feature\": \"Mean Chest <-> Right Ankle\", \"type\": \"Shapley Value\"}, {\"Shapley Value\": 0.0150152028360894, \"Feature\": \"STD Chest <-> Right Ankle\", \"type\": \"Shapley Value\"}, {\"Shapley Value\": 0.0700203237877713, \"Feature\": \"Mean Chest <-> Left Ankle\", \"type\": \"Shapley Value\"}, {\"Shapley Value\": 0.2650689160584337, \"Feature\": \"STD Chest <-> Left Ankle\", \"type\": \"Shapley Value\"}, {\"Shapley Value\": 0.350863986537747, \"Feature\": \"Mean Right Ankle <-> Left Ankle\", \"type\": \"Shapley Value\"}, {\"Shapley Value\": 0.0866182045833698, \"Feature\": \"STD Right Ankle <-> Left Ankle\", \"type\": \"Shapley Value\"}, {\"Shapley Value\": -1.4191581243494508e-10, \"Feature\": \"Pruned Events\", \"type\": \"Shapley Value\"}, {\"Shapley Value\": -0.0065198082698595, \"Feature\": \"Mean Chest <-> Right Ankle\", \"type\": \"Shapley Value\"}, {\"Shapley Value\": 0.0155823927771835, \"Feature\": \"STD Chest <-> Right Ankle\", \"type\": \"Shapley Value\"}, {\"Shapley Value\": 0.0779943399840876, \"Feature\": \"Mean Chest <-> Left Ankle\", \"type\": \"Shapley Value\"}, {\"Shapley Value\": 0.2220396754110141, \"Feature\": \"STD Chest <-> Left Ankle\", \"type\": \"Shapley Value\"}, {\"Shapley Value\": 0.3095405748513123, \"Feature\": \"Mean Right Ankle <-> Left Ankle\", \"type\": \"Shapley Value\"}, {\"Shapley Value\": 0.0903967891598032, \"Feature\": \"STD Right Ankle <-> Left Ankle\", \"type\": \"Shapley Value\"}, {\"Shapley Value\": 0.07070290512361, \"Feature\": \"Pruned Events\", \"type\": \"Shapley Value\"}, {\"Shapley Value\": -0.006396686290169, \"Feature\": \"Mean Chest <-> Right Ankle\", \"type\": \"Shapley Value\"}, {\"Shapley Value\": 0.0158249947818973, \"Feature\": \"STD Chest <-> Right Ankle\", \"type\": \"Shapley Value\"}, {\"Shapley Value\": 0.0706216654695926, \"Feature\": \"Mean Chest <-> Left Ankle\", \"type\": \"Shapley Value\"}, {\"Shapley Value\": 0.2146657916672881, \"Feature\": \"STD Chest <-> Left Ankle\", \"type\": \"Shapley Value\"}, {\"Shapley Value\": 0.3028189138775422, \"Feature\": \"Mean Right Ankle <-> Left Ankle\", \"type\": \"Shapley Value\"}, {\"Shapley Value\": 0.0812854691985108, \"Feature\": \"STD Right Ankle <-> Left Ankle\", \"type\": \"Shapley Value\"}, {\"Shapley Value\": 0.1009167203324892, \"Feature\": \"Pruned Events\", \"type\": \"Shapley Value\"}, {\"Shapley Value\": -0.0009955076766865, \"Feature\": \"Mean Chest <-> Right Ankle\", \"type\": \"Shapley Value\"}, {\"Shapley Value\": 0.0175538764690004, \"Feature\": \"STD Chest <-> Right Ankle\", \"type\": \"Shapley Value\"}, {\"Shapley Value\": -0.0158493775209145, \"Feature\": \"Mean Chest <-> Left Ankle\", \"type\": \"Shapley Value\"}, {\"Shapley Value\": 0.0324324173276268, \"Feature\": \"STD Chest <-> Left Ankle\", \"type\": \"Shapley Value\"}, {\"Shapley Value\": 0.0174361257237337, \"Feature\": \"Mean Right Ankle <-> Left Ankle\", \"type\": \"Shapley Value\"}, {\"Shapley Value\": 0.0291600767877839, \"Feature\": \"STD Right Ankle <-> Left Ankle\", \"type\": \"Shapley Value\"}, {\"Shapley Value\": 0.0, \"Feature\": \"Pruned Events\", \"type\": \"Shapley Value\"}, {\"Shapley Value\": 0.0006421125848733, \"Feature\": \"Mean Chest <-> Right Ankle\", \"type\": \"Shapley Value\"}, {\"Shapley Value\": 0.0102571476916117, \"Feature\": \"STD Chest <-> Right Ankle\", \"type\": \"Shapley Value\"}, {\"Shapley Value\": -0.0050334735108273, \"Feature\": \"Mean Chest <-> Left Ankle\", \"type\": \"Shapley Value\"}, {\"Shapley Value\": 0.0134560753014825, \"Feature\": \"STD Chest <-> Left Ankle\", \"type\": \"Shapley Value\"}, {\"Shapley Value\": 0.004550837822968, \"Feature\": \"Mean Right Ankle <-> Left Ankle\", \"type\": \"Shapley Value\"}, {\"Shapley Value\": 0.0174745456049484, \"Feature\": \"STD Right Ankle <-> Left Ankle\", \"type\": \"Shapley Value\"}, {\"Shapley Value\": 0.0383903656199219, \"Feature\": \"Pruned Events\", \"type\": \"Shapley Value\"}, {\"Shapley Value\": 0.0001706133685296, \"Feature\": \"Mean Chest <-> Right Ankle\", \"type\": \"Shapley Value\"}, {\"Shapley Value\": 0.0077428190747187, \"Feature\": \"STD Chest <-> Right Ankle\", \"type\": \"Shapley Value\"}, {\"Shapley Value\": 0.0023823510012811, \"Feature\": \"Mean Chest <-> Left Ankle\", \"type\": \"Shapley Value\"}, {\"Shapley Value\": 0.0035750618293171, \"Feature\": \"STD Chest <-> Left Ankle\", \"type\": \"Shapley Value\"}, {\"Shapley Value\": 0.0012295592354521, \"Feature\": \"Mean Right Ankle <-> Left Ankle\", \"type\": \"Shapley Value\"}, {\"Shapley Value\": 0.0011440805869088, \"Feature\": \"STD Right Ankle <-> Left Ankle\", \"type\": \"Shapley Value\"}, {\"Shapley Value\": 0.0634931260187711, \"Feature\": \"Pruned Events\", \"type\": \"Shapley Value\"}, {\"Shapley Value\": -0.0219100224785505, \"Feature\": \"Mean Chest <-> Right Ankle\", \"type\": \"Shapley Value\"}, {\"Shapley Value\": 0.0452464114564162, \"Feature\": \"STD Chest <-> Right Ankle\", \"type\": \"Shapley Value\"}, {\"Shapley Value\": 0.1531535400698581, \"Feature\": \"Mean Chest <-> Left Ankle\", \"type\": \"Shapley Value\"}, {\"Shapley Value\": 0.1934232688819369, \"Feature\": \"STD Chest <-> Left Ankle\", \"type\": \"Shapley Value\"}, {\"Shapley Value\": 0.1439473451736069, \"Feature\": \"Mean Right Ankle <-> Left Ankle\", \"type\": \"Shapley Value\"}, {\"Shapley Value\": 0.1956679554966589, \"Feature\": \"STD Right Ankle <-> Left Ankle\", \"type\": \"Shapley Value\"}, {\"Shapley Value\": -2.4835267176115394e-10, \"Feature\": \"Pruned Events\", \"type\": \"Shapley Value\"}, {\"Shapley Value\": -0.0206922066619706, \"Feature\": \"Mean Chest <-> Right Ankle\", \"type\": \"Shapley Value\"}, {\"Shapley Value\": 0.04502976258241, \"Feature\": \"STD Chest <-> Right Ankle\", \"type\": \"Shapley Value\"}, {\"Shapley Value\": 0.1499474460968657, \"Feature\": \"Mean Chest <-> Left Ankle\", \"type\": \"Shapley Value\"}, {\"Shapley Value\": 0.1777472985376205, \"Feature\": \"STD Chest <-> Left Ankle\", \"type\": \"Shapley Value\"}, {\"Shapley Value\": 0.1373925663619523, \"Feature\": \"Mean Right Ankle <-> Left Ankle\", \"type\": \"Shapley Value\"}, {\"Shapley Value\": 0.1806772511851573, \"Feature\": \"STD Right Ankle <-> Left Ankle\", \"type\": \"Shapley Value\"}, {\"Shapley Value\": 0.0394263802495385, \"Feature\": \"Pruned Events\", \"type\": \"Shapley Value\"}, {\"Shapley Value\": -0.0208470573205321, \"Feature\": \"Mean Chest <-> Right Ankle\", \"type\": \"Shapley Value\"}, {\"Shapley Value\": 0.0450898478561569, \"Feature\": \"STD Chest <-> Right Ankle\", \"type\": \"Shapley Value\"}, {\"Shapley Value\": 0.1473146740169749, \"Feature\": \"Mean Chest <-> Left Ankle\", \"type\": \"Shapley Value\"}, {\"Shapley Value\": 0.1731094772750067, \"Feature\": \"STD Chest <-> Left Ankle\", \"type\": \"Shapley Value\"}, {\"Shapley Value\": 0.1327716975916356, \"Feature\": \"Mean Right Ankle <-> Left Ankle\", \"type\": \"Shapley Value\"}, {\"Shapley Value\": 0.1729783930638361, \"Feature\": \"STD Right Ankle <-> Left Ankle\", \"type\": \"Shapley Value\"}, {\"Shapley Value\": 0.0591114658684956, \"Feature\": \"Pruned Events\", \"type\": \"Shapley Value\"}, {\"Shapley Value\": -0.0122523421111205, \"Feature\": \"Mean Chest <-> Right Ankle\", \"type\": \"Shapley Value\"}, {\"Shapley Value\": 0.0308482336811721, \"Feature\": \"STD Chest <-> Right Ankle\", \"type\": \"Shapley Value\"}, {\"Shapley Value\": 0.0380664694122969, \"Feature\": \"Mean Chest <-> Left Ankle\", \"type\": \"Shapley Value\"}, {\"Shapley Value\": 0.0576142369148632, \"Feature\": \"STD Chest <-> Left Ankle\", \"type\": \"Shapley Value\"}, {\"Shapley Value\": 0.0498609907614688, \"Feature\": \"Mean Right Ankle <-> Left Ankle\", \"type\": \"Shapley Value\"}, {\"Shapley Value\": 0.0565002724838752, \"Feature\": \"STD Right Ankle <-> Left Ankle\", \"type\": \"Shapley Value\"}, {\"Shapley Value\": 4.221995641984222e-09, \"Feature\": \"Pruned Events\", \"type\": \"Shapley Value\"}, {\"Shapley Value\": -0.0103557719183818, \"Feature\": \"Mean Chest <-> Right Ankle\", \"type\": \"Shapley Value\"}, {\"Shapley Value\": 0.0274785810194555, \"Feature\": \"STD Chest <-> Right Ankle\", \"type\": \"Shapley Value\"}, {\"Shapley Value\": 0.0347983089630447, \"Feature\": \"Mean Chest <-> Left Ankle\", \"type\": \"Shapley Value\"}, {\"Shapley Value\": 0.049288713129326, \"Feature\": \"STD Chest <-> Left Ankle\", \"type\": \"Shapley Value\"}, {\"Shapley Value\": 0.0444005119969092, \"Feature\": \"Mean Right Ankle <-> Left Ankle\", \"type\": \"Shapley Value\"}, {\"Shapley Value\": 0.0507411946276468, \"Feature\": \"STD Right Ankle <-> Left Ankle\", \"type\": \"Shapley Value\"}, {\"Shapley Value\": 0.0242863275465511, \"Feature\": \"Pruned Events\", \"type\": \"Shapley Value\"}, {\"Shapley Value\": -0.0095888372111533, \"Feature\": \"Mean Chest <-> Right Ankle\", \"type\": \"Shapley Value\"}, {\"Shapley Value\": 0.0261094391124234, \"Feature\": \"STD Chest <-> Right Ankle\", \"type\": \"Shapley Value\"}, {\"Shapley Value\": 0.0319850841625814, \"Feature\": \"Mean Chest <-> Left Ankle\", \"type\": \"Shapley Value\"}, {\"Shapley Value\": 0.0465391872849847, \"Feature\": \"STD Chest <-> Left Ankle\", \"type\": \"Shapley Value\"}, {\"Shapley Value\": 0.0425816437007771, \"Feature\": \"Mean Right Ankle <-> Left Ankle\", \"type\": \"Shapley Value\"}, {\"Shapley Value\": 0.0480894624033854, \"Feature\": \"STD Right Ankle <-> Left Ankle\", \"type\": \"Shapley Value\"}, {\"Shapley Value\": 0.0349218859115527, \"Feature\": \"Pruned Events\", \"type\": \"Shapley Value\"}, {\"Shapley Value\": 0.03593743170855477, \"Feature\": \"Pruned Events\", \"type\": \"Mean\"}, {\"Shapley Value\": -0.0097162732174471, \"Feature\": \"Mean Chest <-> Right Ankle\", \"type\": \"Mean\"}, {\"Shapley Value\": 0.06295011266105104, \"Feature\": \"Mean Chest <-> Left Ankle\", \"type\": \"Mean\"}, {\"Shapley Value\": 0.12811622946959209, \"Feature\": \"Mean Right Ankle <-> Left Ankle\", \"type\": \"Mean\"}, {\"Shapley Value\": 0.02514822577821126, \"Feature\": \"STD Chest <-> Right Ankle\", \"type\": \"Mean\"}, {\"Shapley Value\": 0.12074667663490836, \"Feature\": \"STD Chest <-> Left Ankle\", \"type\": \"Mean\"}, {\"Shapley Value\": 0.08422780793182372, \"Feature\": \"STD Right Ankle <-> Left Ankle\", \"type\": \"Mean\"}]}}, {\"mode\": \"vega-lite\"});\n",
       "</script>"
      ],
      "text/plain": [
       "alt.Chart(...)"
      ]
     },
     "execution_count": 31,
     "metadata": {},
     "output_type": "execute_result"
    }
   ],
   "source": [
    "feature_dict = {'path': 'outputs/feature_all.csv', 'rs': 42, 'nsamples': 32000, 'feature_names': model_features, 'plot_features': plot_feats, }\n",
    "feat_data = feat_explain_all(f_hs, pos_dataset, sequence_id_feat, average_event, feature_dict, prun_indexes, model_features, time_feat)\n",
    "feat_global_plot = plot_global_feat(feat_data, **feature_dict)\n",
    "feat_global_plot"
   ]
  }
 ],
 "metadata": {
  "kernelspec": {
   "display_name": "Python 3 (ipykernel)",
   "language": "python",
   "name": "python3"
  },
  "language_info": {
   "codemirror_mode": {
    "name": "ipython",
    "version": 3
   },
   "file_extension": ".py",
   "mimetype": "text/x-python",
   "name": "python",
   "nbconvert_exporter": "python",
   "pygments_lexer": "ipython3",
   "version": "3.7.11"
  }
 },
 "nbformat": 4,
 "nbformat_minor": 5
}
