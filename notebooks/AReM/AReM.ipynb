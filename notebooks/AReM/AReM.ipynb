{
 "cells": [
  {
   "cell_type": "markdown",
   "id": "582a4e34",
   "metadata": {},
   "source": [
    "<h1 style=\"color:#3da1da;font-size: 300%;\" id=\"timeshap tutorial\" align=\"center\"  >TimeSHAP Tutorial - Pytorch - AReM dataset</h1><p>&nbsp;\n",
    "\n",
    "<a id='top_cell'></a>\n",
    "\n",
    "## Table of contents\n",
    "1. [Data Processing](#1.-Data-Processing)\n",
    "  1. [Data Loading](#1.1-Data-Loading)\n",
    "  2. [Data Treatment](#1.2-Data-Treatment)\n",
    "2. [Model](#2.-Model)\n",
    "  1. [Model Definition](#2.1-Model-Definition)\n",
    "  2. [Model Training](#2.2-Model-Training)\n",
    "3. [TimeSHAP](#3.-TimeSHAP)\n",
    "  1. [Local Explanations](#3.1-Local-Explanations)\n",
    "  2. [Global Explanations](#3.2-Global-Explanations)\n",
    "  3. [Individual Plots](#3.3-Individual-Plots)\n",
    "    \n",
    "\n",
    "# TimeSHAP\n",
    "\n",
    "TimeSHAP is a model-agnostic, recurrent explainer that builds upon KernelSHAP and extends it to the sequential domain. \n",
    "\n",
    "TimeSHAP computes local event/timestamp- feature-, and cell-level attributions. \n",
    "    \n",
    "Aditionally TimeSHAP also computes global event- and feature-level explanations.\n",
    "    \n",
    "As sequences can be arbitrarily long, TimeSHAP also implements a pruning algorithm based on Shapley Values, \n",
    "that finds a subset of consecutive, recent events that contribute the most to the decision."
   ]
  },
  {
   "cell_type": "markdown",
   "id": "98a9cadd",
   "metadata": {},
   "source": [
    "---\n",
    "# 1. Data-Processing\n",
    "---"
   ]
  },
  {
   "cell_type": "code",
   "execution_count": 1,
   "id": "9e963ff1",
   "metadata": {},
   "outputs": [
    {
     "data": {
      "text/html": [
       "<style>.container { width:100% !important; }</style>"
      ],
      "text/plain": [
       "<IPython.core.display.HTML object>"
      ]
     },
     "metadata": {},
     "output_type": "display_data"
    }
   ],
   "source": [
    "import pandas as pd\n",
    "import numpy as np\n",
    "\n",
    "import altair as alt\n",
    "from IPython.core.display import display, HTML\n",
    "display(HTML(\"<style>.container { width:100% !important; }</style>\"))\n",
    "from timeshap.plot import timeshap_theme\n",
    "alt.themes.register(\"timeshap_theme\", timeshap_theme)\n",
    "alt.themes.enable(\"timeshap_theme\")\n",
    "\n",
    "np.random.seed(42)"
   ]
  },
  {
   "cell_type": "markdown",
   "id": "2aea2406",
   "metadata": {},
   "source": [
    "## 1.1 Data-Loading"
   ]
  },
  {
   "cell_type": "code",
   "execution_count": 2,
   "id": "cdff7185",
   "metadata": {
    "scrolled": true
   },
   "outputs": [
    {
     "name": "stdout",
     "output_type": "stream",
     "text": [
      "sitting/dataset5.csv ------ (480, 7)\n",
      "sitting/dataset11.csv ------ (480, 7)\n",
      "sitting/dataset3.csv ------ (480, 7)\n",
      "sitting/dataset10.csv ------ (480, 7)\n",
      "sitting/dataset12.csv ------ (480, 7)\n",
      "sitting/dataset4.csv ------ (480, 7)\n",
      "sitting/dataset13.csv ------ (480, 7)\n",
      "sitting/dataset9.csv ------ (480, 7)\n",
      "sitting/dataset2.csv ------ (480, 7)\n",
      "sitting/dataset15.csv ------ (480, 7)\n",
      "sitting/dataset1.csv ------ (480, 7)\n",
      "sitting/dataset14.csv ------ (480, 7)\n",
      "sitting/dataset6.csv ------ (480, 7)\n",
      "sitting/dataset7.csv ------ (480, 7)\n",
      "standing/dataset5.csv ------ (480, 7)\n",
      "standing/dataset11.csv ------ (480, 7)\n",
      "standing/dataset3.csv ------ (480, 7)\n",
      "standing/dataset10.csv ------ (480, 7)\n",
      "standing/dataset12.csv ------ (480, 7)\n",
      "standing/dataset4.csv ------ (480, 7)\n",
      "standing/dataset13.csv ------ (480, 7)\n",
      "standing/dataset9.csv ------ (480, 7)\n",
      "standing/dataset2.csv ------ (480, 7)\n",
      "standing/dataset15.csv ------ (480, 7)\n",
      "standing/dataset1.csv ------ (480, 7)\n",
      "standing/dataset14.csv ------ (480, 7)\n",
      "standing/dataset6.csv ------ (480, 7)\n",
      "standing/dataset7.csv ------ (480, 7)\n",
      "walking/dataset5.csv ------ (480, 7)\n",
      "walking/dataset11.csv ------ (480, 7)\n",
      "walking/dataset3.csv ------ (480, 7)\n",
      "walking/dataset10.csv ------ (480, 7)\n",
      "walking/dataset12.csv ------ (480, 7)\n",
      "walking/dataset4.csv ------ (480, 7)\n",
      "walking/dataset13.csv ------ (480, 7)\n",
      "walking/dataset9.csv ------ (480, 7)\n",
      "walking/dataset2.csv ------ (480, 7)\n",
      "walking/dataset15.csv ------ (480, 7)\n",
      "walking/dataset1.csv ------ (480, 7)\n",
      "walking/dataset14.csv ------ (480, 7)\n",
      "walking/dataset6.csv ------ (480, 7)\n",
      "walking/dataset7.csv ------ (480, 7)\n",
      "cycling/dataset5.csv ------ (480, 7)\n",
      "cycling/dataset11.csv ------ (480, 7)\n",
      "cycling/dataset3.csv ------ (480, 7)\n",
      "cycling/dataset10.csv ------ (480, 7)\n",
      "cycling/dataset12.csv ------ (480, 7)\n",
      "cycling/dataset4.csv ------ (480, 7)\n",
      "cycling/dataset13.csv ------ (480, 7)\n",
      "cycling/dataset9.csv ------ (480, 7)\n",
      "cycling/dataset2.csv ------ (480, 7)\n",
      "cycling/dataset15.csv ------ (480, 7)\n",
      "cycling/dataset1.csv ------ (480, 7)\n",
      "cycling/dataset14.csv ------ (480, 7)\n",
      "cycling/dataset6.csv ------ (480, 7)\n",
      "cycling/dataset7.csv ------ (480, 7)\n",
      "lying/dataset5.csv ------ (480, 7)\n",
      "lying/dataset11.csv ------ (480, 7)\n",
      "lying/dataset3.csv ------ (480, 7)\n",
      "lying/dataset10.csv ------ (480, 7)\n",
      "lying/dataset12.csv ------ (480, 7)\n",
      "lying/dataset4.csv ------ (480, 7)\n",
      "lying/dataset13.csv ------ (480, 7)\n",
      "lying/dataset9.csv ------ (480, 7)\n",
      "lying/dataset2.csv ------ (480, 7)\n",
      "lying/dataset15.csv ------ (480, 7)\n",
      "lying/dataset1.csv ------ (480, 7)\n",
      "lying/dataset14.csv ------ (480, 7)\n",
      "lying/dataset6.csv ------ (480, 7)\n",
      "lying/dataset7.csv ------ (480, 7)\n"
     ]
    }
   ],
   "source": [
    "import os\n",
    "import re\n",
    "\n",
    "data_directories = next(os.walk(\"./AReM\"))[1]\n",
    "\n",
    "all_csvs = []\n",
    "for folder in data_directories:\n",
    "    if folder in ['bending1', 'bending2']:\n",
    "        continue\n",
    "    folder_csvs = next(os.walk(f\"./AReM/{folder}\"))[2]\n",
    "    for data_csv in folder_csvs:\n",
    "        if data_csv == 'dataset8.csv':\n",
    "            # this dataset only has 479 instances\n",
    "            # it is possible to use it, but would require padding logic\n",
    "            continue\n",
    "        loaded_data = pd.read_csv(f\"./AReM/{folder}/{data_csv}\", skiprows=4)\n",
    "        print(f\"{folder}/{data_csv} ------ {loaded_data.shape}\")\n",
    "        \n",
    "        csv_id = re.findall(r'\\d+', data_csv)[0]\n",
    "        loaded_data['id'] = csv_id\n",
    "        loaded_data['all_id'] = f\"{folder}_{csv_id}\"\n",
    "        loaded_data['activity'] = folder\n",
    "        all_csvs.append(loaded_data)\n",
    "all_data = pd.concat(all_csvs)\n",
    "raw_model_features = ['avg_rss12', 'var_rss12', 'avg_rss13', 'var_rss13', 'avg_rss23', 'var_rss23']\n",
    "all_data.columns = ['timestamp', 'avg_rss12', 'var_rss12', 'avg_rss13', 'var_rss13', 'avg_rss23', 'var_rss23', 'id', 'all_id', 'activity']"
   ]
  },
  {
   "cell_type": "markdown",
   "id": "6d7ca22d",
   "metadata": {},
   "source": [
    "## 1.2 Data Treatment"
   ]
  },
  {
   "cell_type": "markdown",
   "id": "1c801cff",
   "metadata": {},
   "source": [
    "### Separate in train and test"
   ]
  },
  {
   "cell_type": "code",
   "execution_count": 3,
   "id": "d627aeda",
   "metadata": {},
   "outputs": [],
   "source": [
    "# all ids ['1', '10', '11', '12', '13', '14', '15', '2', '3', '4', '5', '6', '7', '8', '9']\n",
    "#choose ids to use for test\n",
    "ids_for_test = np.random.choice(['1', '10', '11', '12', '13', '14', '15', '2', '3', '4', '5', '6', '7', '8', '9'],size = 4, replace=False)\n",
    "\n",
    "d_train =  all_data[~all_data['id'].isin(ids_for_test)]\n",
    "d_test = all_data[all_data['id'].isin(ids_for_test)]"
   ]
  },
  {
   "cell_type": "markdown",
   "id": "b9e08290",
   "metadata": {},
   "source": [
    "###  Normalize Features"
   ]
  },
  {
   "cell_type": "code",
   "execution_count": 4,
   "id": "f1cba387",
   "metadata": {},
   "outputs": [],
   "source": [
    "class NumericalNormalizer:\n",
    "    def __init__(self, fields: list):\n",
    "        self.metrics = {}\n",
    "        self.fields = fields\n",
    "\n",
    "    def fit(self, df: pd.DataFrame ) -> list:\n",
    "        means = df.mean()\n",
    "        std = df.std()\n",
    "        for field in self.fields:\n",
    "            field_mean = means[field]\n",
    "            field_stddev = std[field]\n",
    "            self.metrics[field] = {'mean': field_mean, 'std': field_stddev}\n",
    "\n",
    "    def transform(self, df: pd.DataFrame) -> pd.DataFrame:\n",
    "        # Transform to zero-mean and unit variance.\n",
    "        for field in self.fields:\n",
    "            f_mean = self.metrics[field]['mean']\n",
    "            f_stddev = self.metrics[field]['std']\n",
    "            # OUTLIER CLIPPING to [avg-3*std, avg+3*avg]\n",
    "            df[field] = df[field].apply(lambda x: f_mean - 3 * f_stddev if x < f_mean - 3 * f_stddev else x)\n",
    "            df[field] = df[field].apply(lambda x: f_mean + 3 * f_stddev if x > f_mean + 3 * f_stddev else x)\n",
    "            if f_stddev > 1e-5:\n",
    "                df[f'p_{field}_normalized'] = df[field].apply(lambda x: ((x - f_mean)/f_stddev))\n",
    "            else:\n",
    "                df[f'p_{field}_normalized'] = df[field].apply(lambda x: x * 0)\n",
    "        return df"
   ]
  },
  {
   "cell_type": "code",
   "execution_count": 5,
   "id": "35cf4835",
   "metadata": {},
   "outputs": [
    {
     "name": "stderr",
     "output_type": "stream",
     "text": [
      "Dropping of nuisance columns in DataFrame reductions (with 'numeric_only=None') is deprecated; in a future version this will raise TypeError.  Select only valid columns before calling the reduction.\n",
      "Dropping of nuisance columns in DataFrame reductions (with 'numeric_only=None') is deprecated; in a future version this will raise TypeError.  Select only valid columns before calling the reduction.\n",
      "\n",
      "A value is trying to be set on a copy of a slice from a DataFrame.\n",
      "Try using .loc[row_indexer,col_indexer] = value instead\n",
      "\n",
      "See the caveats in the documentation: https://pandas.pydata.org/pandas-docs/stable/user_guide/indexing.html#returning-a-view-versus-a-copy\n",
      "\n",
      "A value is trying to be set on a copy of a slice from a DataFrame.\n",
      "Try using .loc[row_indexer,col_indexer] = value instead\n",
      "\n",
      "See the caveats in the documentation: https://pandas.pydata.org/pandas-docs/stable/user_guide/indexing.html#returning-a-view-versus-a-copy\n",
      "\n",
      "A value is trying to be set on a copy of a slice from a DataFrame.\n",
      "Try using .loc[row_indexer,col_indexer] = value instead\n",
      "\n",
      "See the caveats in the documentation: https://pandas.pydata.org/pandas-docs/stable/user_guide/indexing.html#returning-a-view-versus-a-copy\n"
     ]
    }
   ],
   "source": [
    "normalizor = NumericalNormalizer(raw_model_features)\n",
    "normalizor.fit(d_train)\n",
    "d_train_normalized = normalizor.transform(d_train)\n",
    "d_test_normalized = normalizor.transform(d_test)"
   ]
  },
  {
   "cell_type": "markdown",
   "id": "e17805d8",
   "metadata": {},
   "source": [
    "### Features"
   ]
  },
  {
   "cell_type": "code",
   "execution_count": 6,
   "id": "2b7b9cb5",
   "metadata": {},
   "outputs": [],
   "source": [
    "model_features = [f\"p_{x}_normalized\" for x in raw_model_features]\n",
    "time_feat = 'timestamp'\n",
    "label_feat = 'activity'\n",
    "sequence_id_feat = 'all_id'\n",
    "\n",
    "plot_feats = {\n",
    "    'p_avg_rss12_normalized': \"Mean Chest <-> Right Ankle\",\n",
    "    'p_var_rss12_normalized': \"STD Chest <-> Right Ankle\",\n",
    "    'p_avg_rss13_normalized': \"Mean Chest <-> Left Ankle\",\n",
    "    'p_var_rss13_normalized': \"STD Chest <-> Left Ankle\",\n",
    "    'p_avg_rss23_normalized': \"Mean Right Ankle <-> Left Ankle\",\n",
    "    'p_var_rss23_normalized': \"STD Right Ankle <-> Left Ankle\",\n",
    "}"
   ]
  },
  {
   "cell_type": "markdown",
   "id": "992d6c20",
   "metadata": {},
   "source": [
    "### Transform the dataset from multi-label to binary classification"
   ]
  },
  {
   "cell_type": "code",
   "execution_count": 7,
   "id": "005ef0cb",
   "metadata": {},
   "outputs": [
    {
     "name": "stderr",
     "output_type": "stream",
     "text": [
      "\n",
      "A value is trying to be set on a copy of a slice from a DataFrame.\n",
      "Try using .loc[row_indexer,col_indexer] = value instead\n",
      "\n",
      "See the caveats in the documentation: https://pandas.pydata.org/pandas-docs/stable/user_guide/indexing.html#returning-a-view-versus-a-copy\n",
      "\n",
      "A value is trying to be set on a copy of a slice from a DataFrame.\n",
      "Try using .loc[row_indexer,col_indexer] = value instead\n",
      "\n",
      "See the caveats in the documentation: https://pandas.pydata.org/pandas-docs/stable/user_guide/indexing.html#returning-a-view-versus-a-copy\n"
     ]
    }
   ],
   "source": [
    "# possible activities ['cycling', 'lying', 'sitting', 'standing', 'walking']\n",
    "#Select the activity to predict\n",
    "chosen_activity = 'cycling'\n",
    "\n",
    "d_train_normalized['label'] = d_train_normalized['activity'].apply(lambda x: int(x == chosen_activity))\n",
    "d_test_normalized['label'] = d_test_normalized['activity'].apply(lambda x: int(x == chosen_activity))"
   ]
  },
  {
   "cell_type": "code",
   "execution_count": 8,
   "id": "3dbe7176",
   "metadata": {},
   "outputs": [],
   "source": [
    "import torch\n",
    "def df_to_Tensor(df, model_feats, label_feat, group_by_feat, timestamp_Feat):\n",
    "    sequence_length = len(df[timestamp_Feat].unique())\n",
    "    \n",
    "    data_tensor = np.zeros((len(df[group_by_feat].unique()), sequence_length, len(model_feats)))\n",
    "    labels_tensor = np.zeros((len(df[group_by_feat].unique()), 1))\n",
    "    \n",
    "    for i, name in enumerate(df[group_by_feat].unique()):\n",
    "        name_data = df[df[group_by_feat] == name]\n",
    "        sorted_data = name_data.sort_values(timestamp_Feat)\n",
    "        \n",
    "        data_x = sorted_data[model_feats].values\n",
    "        labels = sorted_data[label_feat].values\n",
    "        assert labels.sum() == 0 or labels.sum() == len(labels)\n",
    "        data_tensor[i, :, :] = data_x\n",
    "        labels_tensor[i, :] = labels[0]\n",
    "    data_tensor = torch.from_numpy(data_tensor).type(torch.FloatTensor)\n",
    "    labels_tensor = torch.from_numpy(labels_tensor).type(torch.FloatTensor)\n",
    "    \n",
    "    return data_tensor, labels_tensor"
   ]
  },
  {
   "cell_type": "code",
   "execution_count": 9,
   "id": "cd2da61a",
   "metadata": {},
   "outputs": [],
   "source": [
    "train_data, train_labels = df_to_Tensor(d_train_normalized, model_features, 'label', sequence_id_feat, time_feat)\n",
    "\n",
    "test_data, test_labels = df_to_Tensor(d_test_normalized, model_features, 'label', sequence_id_feat, time_feat)"
   ]
  },
  {
   "cell_type": "markdown",
   "id": "378d4aeb",
   "metadata": {},
   "source": [
    "___\n",
    "# 2. Model\n"
   ]
  },
  {
   "cell_type": "markdown",
   "id": "d2c39214",
   "metadata": {},
   "source": [
    "## 2.1 Model Definition"
   ]
  },
  {
   "cell_type": "code",
   "execution_count": 10,
   "id": "6b197afe",
   "metadata": {},
   "outputs": [],
   "source": [
    "import torch.nn as nn\n",
    "\n",
    "class ExplainedRNN(nn.Module):\n",
    "    \"\"\"Implementation of RNN-tool model for BBVA POC without dimentionality reduction\"\"\"\n",
    "    def __init__(self,\n",
    "                 input_size: int,\n",
    "                 cfg: dict,\n",
    "                 ):\n",
    "        super(ExplainedRNN, self).__init__()\n",
    "        self.hidden_dim = cfg.get('hidden_dim', 32)\n",
    "        torch.manual_seed(cfg.get('random_seed', 42))\n",
    "\n",
    "        self.recurrent_block = nn.GRU(\n",
    "            input_size=input_size,\n",
    "            hidden_size=self.hidden_dim,\n",
    "            batch_first=True,\n",
    "            num_layers=2,\n",
    "            )\n",
    "        \n",
    "        self.classifier_block = nn.Linear(self.hidden_dim, 1)\n",
    "        self.output_activation_func = nn.Sigmoid()\n",
    "\n",
    "    def forward(self,\n",
    "                x: torch.Tensor,\n",
    "                hidden_states: tuple = None,\n",
    "                ):\n",
    "\n",
    "        if hidden_states is None:\n",
    "            output, hidden = self.recurrent_block(x)\n",
    "        else:\n",
    "            output, hidden = self.recurrent_block(x, hidden_states)\n",
    "\n",
    "        # -1 on hidden, to select the last layer of the stacked gru\n",
    "        assert torch.equal(output[:,-1,:], hidden[-1, :, :])\n",
    "        \n",
    "        y = self.classifier_block(hidden[-1, :, :])\n",
    "        y = self.output_activation_func(y)\n",
    "        return y, hidden"
   ]
  },
  {
   "cell_type": "code",
   "execution_count": 11,
   "id": "5fa5b613",
   "metadata": {},
   "outputs": [],
   "source": [
    "import torch.optim as optim\n",
    "\n",
    "model = ExplainedRNN(len(model_features), {})\n",
    "loss_function = nn.BCELoss()\n",
    "optimizer = optim.Adam(model.parameters(), lr=0.01)\n",
    "\n",
    "learning_rate = 0.005\n",
    "EPOCHS = 8"
   ]
  },
  {
   "cell_type": "markdown",
   "id": "eed69fa6",
   "metadata": {},
   "source": [
    "## 2.2 Model Training"
   ]
  },
  {
   "cell_type": "code",
   "execution_count": 12,
   "id": "58f0a923",
   "metadata": {},
   "outputs": [
    {
     "name": "stderr",
     "output_type": "stream",
     "text": [
      "  0%|          | 0/8 [00:00<?, ?it/s]CUDA initialization: Found no NVIDIA driver on your system. Please check that you have an NVIDIA GPU and installed a driver from http://www.nvidia.com/Download/index.aspx (Triggered internally at  /pytorch/c10/cuda/CUDAFunctions.cpp:100.)\n",
      " 12%|█▎        | 1/8 [00:01<00:08,  1.28s/it]"
     ]
    },
    {
     "name": "stdout",
     "output_type": "stream",
     "text": [
      "Train loss: 0.7008281350135803 --- Test loss 0.5899180769920349 \n"
     ]
    },
    {
     "name": "stderr",
     "output_type": "stream",
     "text": [
      "\r",
      " 25%|██▌       | 2/8 [00:02<00:07,  1.19s/it]"
     ]
    },
    {
     "name": "stdout",
     "output_type": "stream",
     "text": [
      "Train loss: 0.5935988426208496 --- Test loss 0.4967312216758728 \n"
     ]
    },
    {
     "name": "stderr",
     "output_type": "stream",
     "text": [
      "\r",
      " 38%|███▊      | 3/8 [00:03<00:05,  1.17s/it]"
     ]
    },
    {
     "name": "stdout",
     "output_type": "stream",
     "text": [
      "Train loss: 0.4965592920780182 --- Test loss 0.4184650778770447 \n"
     ]
    },
    {
     "name": "stderr",
     "output_type": "stream",
     "text": [
      "\r",
      " 50%|█████     | 4/8 [00:04<00:04,  1.12s/it]"
     ]
    },
    {
     "name": "stdout",
     "output_type": "stream",
     "text": [
      "Train loss: 0.41102689504623413 --- Test loss 0.3711169958114624 \n"
     ]
    },
    {
     "name": "stderr",
     "output_type": "stream",
     "text": [
      "\r",
      " 62%|██████▎   | 5/8 [00:05<00:03,  1.10s/it]"
     ]
    },
    {
     "name": "stdout",
     "output_type": "stream",
     "text": [
      "Train loss: 0.34969455003738403 --- Test loss 0.35090383887290955 \n"
     ]
    },
    {
     "name": "stderr",
     "output_type": "stream",
     "text": [
      "\r",
      " 75%|███████▌  | 6/8 [00:07<00:02,  1.20s/it]"
     ]
    },
    {
     "name": "stdout",
     "output_type": "stream",
     "text": [
      "Train loss: 0.30288100242614746 --- Test loss 0.34344375133514404 \n"
     ]
    },
    {
     "name": "stderr",
     "output_type": "stream",
     "text": [
      "\r",
      " 88%|████████▊ | 7/8 [00:08<00:01,  1.28s/it]"
     ]
    },
    {
     "name": "stdout",
     "output_type": "stream",
     "text": [
      "Train loss: 0.25354328751564026 --- Test loss 0.3325807452201843 \n"
     ]
    },
    {
     "name": "stderr",
     "output_type": "stream",
     "text": [
      "100%|██████████| 8/8 [00:09<00:00,  1.24s/it]"
     ]
    },
    {
     "name": "stdout",
     "output_type": "stream",
     "text": [
      "Train loss: 0.20056363940238953 --- Test loss 0.31067243218421936 \n"
     ]
    },
    {
     "name": "stderr",
     "output_type": "stream",
     "text": [
      "\n"
     ]
    }
   ],
   "source": [
    "import tqdm\n",
    "import copy\n",
    "for epoch in tqdm.trange(EPOCHS):\n",
    "    train_data_local = copy.deepcopy(train_data)\n",
    "    train_labels_local = copy.deepcopy(train_labels)\n",
    "    \n",
    "    y_pred, hidden_states = model(train_data_local)\n",
    "    train_loss = loss_function(y_pred, train_labels_local)\n",
    "\n",
    "    optimizer.zero_grad()\n",
    "    train_loss.backward()\n",
    "    optimizer.step()\n",
    "    with torch.no_grad():\n",
    "        test_data_local = copy.deepcopy(test_data)\n",
    "        test_labels_local = copy.deepcopy(test_labels)\n",
    "        test_preds, _ = model(test_data_local)\n",
    "        test_loss = loss_function(test_preds, test_labels_local)\n",
    "        print(f\"Train loss: {train_loss.item()} --- Test loss {test_loss.item()} \")\n"
   ]
  },
  {
   "cell_type": "markdown",
   "id": "7c0f525d",
   "metadata": {},
   "source": [
    "---\n",
    "# 3. TimeSHAP\n",
    "---"
   ]
  },
  {
   "cell_type": "code",
   "execution_count": 13,
   "id": "3d33a0da",
   "metadata": {},
   "outputs": [],
   "source": [
    "import timeshap"
   ]
  },
  {
   "cell_type": "markdown",
   "id": "4111034f",
   "metadata": {},
   "source": [
    "### Model entry point"
   ]
  },
  {
   "cell_type": "code",
   "execution_count": 14,
   "id": "396cb0ac",
   "metadata": {},
   "outputs": [],
   "source": [
    "from timeshap.wrappers import TorchModelWrapper\n",
    "model_wrapped = TorchModelWrapper(model)\n",
    "f_hs = lambda x, y=None: model_wrapped.predict_last_hs(x, y)"
   ]
  },
  {
   "cell_type": "markdown",
   "id": "a66a417b",
   "metadata": {},
   "source": [
    "### Baseline event"
   ]
  },
  {
   "cell_type": "code",
   "execution_count": 15,
   "id": "d8d7584d",
   "metadata": {},
   "outputs": [],
   "source": [
    "from timeshap import calc_avg_event\n",
    "average_event = calc_avg_event(d_train_normalized, numerical_feats=model_features, categorical_feats=[])"
   ]
  },
  {
   "cell_type": "markdown",
   "id": "2b707fa7",
   "metadata": {},
   "source": [
    "### Average score over baseline"
   ]
  },
  {
   "cell_type": "code",
   "execution_count": 16,
   "id": "b254545e",
   "metadata": {},
   "outputs": [],
   "source": [
    "from timeshap import get_avg_score_with_avg_event\n",
    "avg_score_over_len = get_avg_score_with_avg_event(f_hs, average_event, top=480)"
   ]
  },
  {
   "cell_type": "markdown",
   "id": "a8ff8a66",
   "metadata": {},
   "source": [
    "## 3.1 Local Explanations"
   ]
  },
  {
   "cell_type": "markdown",
   "id": "fec8dc01",
   "metadata": {},
   "source": [
    "### Select sequences to explain"
   ]
  },
  {
   "cell_type": "code",
   "execution_count": 17,
   "id": "d74d18d4",
   "metadata": {},
   "outputs": [],
   "source": [
    "positive_sequence_id = 'cycling_1'\n",
    "pos_x_pd = d_test_normalized[d_test_normalized['all_id'] == positive_sequence_id]\n",
    "\n",
    "# select model features only\n",
    "pos_x_data = pos_x_pd[model_features]\n",
    "# convert the instance to numpy so TimeSHAP receives it\n",
    "pos_x_data = np.expand_dims(pos_x_data.to_numpy().copy(), axis=0)"
   ]
  },
  {
   "cell_type": "markdown",
   "id": "f7c55172",
   "metadata": {},
   "source": [
    "### Local Report on positive instance"
   ]
  },
  {
   "cell_type": "code",
   "execution_count": 18,
   "id": "b906bdf0",
   "metadata": {},
   "outputs": [
    {
     "name": "stdout",
     "output_type": "stream",
     "text": [
      "No path to explainer data provided. Calculating data\n"
     ]
    },
    {
     "name": "stderr",
     "output_type": "stream",
     "text": [
      "\n",
      "A value is trying to be set on a copy of a slice from a DataFrame.\n",
      "Try using .loc[row_indexer,col_indexer] = value instead\n",
      "\n",
      "See the caveats in the documentation: https://pandas.pydata.org/pandas-docs/stable/user_guide/indexing.html#returning-a-view-versus-a-copy\n"
     ]
    },
    {
     "name": "stdout",
     "output_type": "stream",
     "text": [
      "No path to event data provided. Calculating data\n",
      "No path to feature data provided. Calculating data\n",
      "No path to feature data provided. Calculating data\n"
     ]
    },
    {
     "data": {
      "text/html": [
       "\n",
       "<div id=\"altair-viz-f6bed81b710649b1ae8ecb66cfda48da\"></div>\n",
       "<script type=\"text/javascript\">\n",
       "  (function(spec, embedOpt){\n",
       "    let outputDiv = document.currentScript.previousElementSibling;\n",
       "    if (outputDiv.id !== \"altair-viz-f6bed81b710649b1ae8ecb66cfda48da\") {\n",
       "      outputDiv = document.getElementById(\"altair-viz-f6bed81b710649b1ae8ecb66cfda48da\");\n",
       "    }\n",
       "    const paths = {\n",
       "      \"vega\": \"https://cdn.jsdelivr.net/npm//vega@5?noext\",\n",
       "      \"vega-lib\": \"https://cdn.jsdelivr.net/npm//vega-lib?noext\",\n",
       "      \"vega-lite\": \"https://cdn.jsdelivr.net/npm//vega-lite@4.8.1?noext\",\n",
       "      \"vega-embed\": \"https://cdn.jsdelivr.net/npm//vega-embed@6?noext\",\n",
       "    };\n",
       "\n",
       "    function loadScript(lib) {\n",
       "      return new Promise(function(resolve, reject) {\n",
       "        var s = document.createElement('script');\n",
       "        s.src = paths[lib];\n",
       "        s.async = true;\n",
       "        s.onload = () => resolve(paths[lib]);\n",
       "        s.onerror = () => reject(`Error loading script: ${paths[lib]}`);\n",
       "        document.getElementsByTagName(\"head\")[0].appendChild(s);\n",
       "      });\n",
       "    }\n",
       "\n",
       "    function showError(err) {\n",
       "      outputDiv.innerHTML = `<div class=\"error\" style=\"color:red;\">${err}</div>`;\n",
       "      throw err;\n",
       "    }\n",
       "\n",
       "    function displayChart(vegaEmbed) {\n",
       "      vegaEmbed(outputDiv, spec, embedOpt)\n",
       "        .catch(err => showError(`Javascript Error: ${err.message}<br>This usually means there's a typo in your chart specification. See the javascript console for the full traceback.`));\n",
       "    }\n",
       "\n",
       "    if(typeof define === \"function\" && define.amd) {\n",
       "      requirejs.config({paths});\n",
       "      require([\"vega-embed\"], displayChart, err => showError(`Error loading script: ${err.message}`));\n",
       "    } else if (typeof vegaEmbed === \"function\") {\n",
       "      displayChart(vegaEmbed);\n",
       "    } else {\n",
       "      loadScript(\"vega\")\n",
       "        .then(() => loadScript(\"vega-lite\"))\n",
       "        .then(() => loadScript(\"vega-embed\"))\n",
       "        .catch(showError)\n",
       "        .then(() => displayChart(vegaEmbed));\n",
       "    }\n",
       "  })({\"config\": {\"axis\": {\"domain\": true, \"domainColor\": \"#798184\", \"grid\": false, \"gridColor\": \"#798184\", \"gridOpacity\": 0.5, \"gridDash\": [3, 5], \"gridWidth\": 0.8, \"gridCap\": \"round\", \"labelPadding\": 3, \"labelFont\": \"Roboto\", \"labelColor\": \"#798184\", \"tickSize\": 5, \"tickColor\": \"#798184\", \"tickOpacity\": 0.5, \"titleColor\": \"#384140\", \"titleFont\": \"Roboto\", \"titleFontSize\": 12}, \"axisBand\": {\"domain\": true, \"ticks\": false, \"labelPadding\": 7}, \"axisY\": {\"domain\": false, \"titleAlign\": \"left\", \"titleAngle\": 0, \"titleX\": -20, \"titleY\": -10}, \"legend\": {\"labelColor\": \"#798184\", \"labelFontSize\": 12, \"symbolSize\": 40, \"titleColor\": \"#384140\", \"titleFontSize\": 12, \"titlePadding\": 10, \"titleFont\": \"Roboto\", \"labelFont\": \"Roboto\"}, \"line\": {\"stroke\": \"#618FE0\", \"strokeWidth\": 2}, \"rule\": {\"stroke\": \"#798184\"}, \"path\": {\"stroke\": \"#618FE0\", \"strokeWidth\": 0.5}, \"rect\": {\"fill\": \"#618FE0\"}, \"point\": {\"filled\": true, \"shape\": \"circle\"}, \"shape\": {\"stroke\": \"#618FE0\"}, \"bar\": {\"fill\": \"#618FE0\", \"stroke\": null}, \"text\": {\"font\": \"Roboto\", \"color\": \"#384140\", \"fontSize\": 12}, \"arc\": {\"stroke\": \"#fff\", \"strokeWidth\": 1}, \"range\": {\"category\": [\"#618FE0\", \"#50D0B0\", \"#E17560\", \"#E8B474\", \"#D889C4\", \"#34A3BC\", \"#A583A4\"], \"ramp\": [\"#001854\", \"#002f72\", \"#04478e\", \"#1e5fab\", \"#4477c5\", \"#6290e1\", \"#7ea9fd\", \"#9ec7ff\", \"#bde4ff\"], \"heatmap\": [\"#001854\", \"#002f72\", \"#04478e\", \"#1e5fab\", \"#4477c5\", \"#6290e1\", \"#7ea9fd\", \"#9ec7ff\", \"#bde4ff\"], \"diverging\": [\"#003b26\", \"#006b52\", \"#1aa082\", \"#55d5b5\", \"#f5f5f5\", \"#ffaa92\", \"#d16f5b\", \"#9e392c\", \"#650200\"]}, \"title\": {\"anchor\": \"start\", \"fontSize\": 20, \"color\": \"#384140\", \"fontWeight\": \"bold\", \"offset\": 20, \"font\": \"Roboto\", \"subtitleColor\": \"#384140\", \"subtitleFontSize\": 16}, \"header\": {\"labelFontSize\": 12, \"titleFontSize\": 16, \"labelColor\": \"#384140\", \"titleColor\": \"#384140\", \"titleFont\": \"Roboto\", \"labelFont\": \"Roboto\"}, \"group\": {\"fill\": \"white\"}, \"background\": \"white\", \"view\": {\"stroke\": \"transparent\", \"continuousHeight\": 300, \"continuousWidth\": 400}}, \"hconcat\": [{\"layer\": [{\"mark\": {\"type\": \"area\", \"opacity\": 0.5}, \"encoding\": {\"color\": {\"type\": \"nominal\", \"field\": \"Coalition\", \"legend\": {\"fillColor\": \"white\", \"labelFontSize\": 14, \"labelLimit\": 0, \"orient\": \"top-left\", \"symbolSize\": 50, \"symbolStrokeWidth\": 0, \"title\": null}, \"scale\": {\"domain\": [\"Sum of contribution of events \\u2264 t\"], \"range\": [\"#618FE0\"]}}, \"x\": {\"type\": \"quantitative\", \"axis\": {\"labelFontSize\": 15, \"title\": \"t (event index)\", \"titleFontSize\": 15}, \"field\": \"t (event index)\"}, \"y\": {\"type\": \"quantitative\", \"axis\": {\"grid\": true, \"labelFontSize\": 15, \"titleFontSize\": 15, \"titleX\": -28}, \"field\": \"Shapley Value\", \"scale\": {\"domain\": [-0.05, 1]}}}}, {\"mark\": \"line\", \"encoding\": {\"color\": {\"type\": \"nominal\", \"field\": \"Coalition\", \"legend\": {\"fillColor\": \"white\", \"labelFontSize\": 14, \"labelLimit\": 0, \"orient\": \"top-left\", \"symbolSize\": 50, \"symbolStrokeWidth\": 0, \"title\": null}, \"scale\": {\"domain\": [\"Sum of contribution of events \\u2264 t\"], \"range\": [\"#618FE0\"]}}, \"x\": {\"type\": \"quantitative\", \"axis\": {\"labelFontSize\": 15, \"title\": \"t (event index)\", \"titleFontSize\": 15}, \"field\": \"t (event index)\"}, \"y\": {\"type\": \"quantitative\", \"axis\": {\"grid\": true, \"labelFontSize\": 15, \"titleFontSize\": 15, \"titleX\": -28}, \"field\": \"Shapley Value\", \"scale\": {\"domain\": [-0.05, 1]}}}}, {\"data\": {\"name\": \"data-a737a7e0ea28edf89e4279c15f3d056f\"}, \"mark\": {\"type\": \"rule\", \"color\": \"#E17560\"}, \"encoding\": {\"x\": {\"type\": \"quantitative\", \"field\": \"x\"}}}, {\"data\": {\"name\": \"data-e4f3cc544e6eb6f30b6d8b725eecc2f0\"}, \"mark\": {\"type\": \"text\", \"angle\": 270, \"color\": \"#E17560\", \"fontSize\": 15, \"fontWeight\": \"bold\", \"text\": \"Pruning\"}, \"encoding\": {\"x\": {\"type\": \"quantitative\", \"field\": \"x\"}}}], \"data\": {\"name\": \"data-2f29d372b18f71373fa205341e45ea71\"}, \"height\": 225, \"width\": 350}, {\"layer\": [{\"mark\": \"rect\", \"encoding\": {\"color\": {\"type\": \"quantitative\", \"field\": \"rounded\", \"legend\": {\"gradientLength\": 225, \"gradientThickness\": 10, \"labelFontSize\": 15, \"orient\": \"right\"}, \"scale\": {\"domain\": [-0.5, 0.5], \"range\": [\"#5f8fd6\", \"#99c3fb\", \"#f5f5f5\", \"#ffaa92\", \"#d16f5b\"]}, \"title\": null}, \"x\": {\"type\": \"ordinal\", \"axis\": {\"title\": \"Shapley Value\", \"titleFontSize\": 15}, \"field\": \"column\"}, \"y\": {\"type\": \"ordinal\", \"axis\": {\"domain\": false, \"labelFontSize\": 15, \"title\": \"Event\", \"titleFontSize\": 15, \"titleX\": -49}, \"field\": \"Feature\", \"sort\": [\"Event -1\", \"Event -2\", \"Event -3\", \"Event -4\", \"Event -5\", \"Event -6\", \"Event -7\", \"Event -8\", \"Event -9\", \"Event -10\", \"Event -11\", \"Event -12\", \"Event -13\", \"Event -14\", \"Pruned Events\"]}}}, {\"mark\": {\"type\": \"text\", \"align\": \"right\", \"baseline\": \"middle\", \"color\": \"#798184\", \"dx\": 18, \"fontSize\": 15}, \"encoding\": {\"text\": {\"type\": \"nominal\", \"field\": \"rounded_str\"}, \"x\": {\"type\": \"ordinal\", \"axis\": {\"domain\": false, \"labels\": false, \"title\": \"Shapley Value\", \"titleX\": 43}, \"field\": \"column\"}, \"y\": {\"type\": \"ordinal\", \"axis\": {\"domain\": false, \"labelFontSize\": 15, \"title\": \"Event\", \"titleFontSize\": 15, \"titleX\": -49}, \"field\": \"Feature\", \"sort\": [\"Event -1\", \"Event -2\", \"Event -3\", \"Event -4\", \"Event -5\", \"Event -6\", \"Event -7\", \"Event -8\", \"Event -9\", \"Event -10\", \"Event -11\", \"Event -12\", \"Event -13\", \"Event -14\", \"Pruned Events\"]}}}], \"data\": {\"name\": \"data-56412b04d5a18b1096de406e9c23d9f9\"}, \"height\": 225, \"width\": 60}, {\"layer\": [{\"data\": {\"name\": \"data-2a27ddc94f3988c3457fa8a1a62221a7\"}, \"mark\": {\"type\": \"bar\", \"size\": 15, \"thickness\": 1}, \"encoding\": {\"x\": {\"type\": \"quantitative\", \"axis\": {\"grid\": true, \"labelFontSize\": 15, \"title\": \"Shapley Value\", \"titleFontSize\": 15}, \"field\": \"Shapley Value\", \"scale\": {\"domain\": [-0.1, 0.4]}}, \"y\": {\"type\": \"nominal\", \"axis\": {\"labelFontSize\": 15, \"title\": \"Feature\", \"titleFontSize\": 15, \"titleX\": -61}, \"field\": \"Feature\", \"sort\": {\"field\": \"sort_col\", \"order\": \"descending\"}}}}, {\"data\": {\"name\": \"data-9c00aa9dc2b1c1a0b4bf9b34ead12925\"}, \"mark\": {\"type\": \"rule\", \"color\": \"#798184\"}, \"encoding\": {\"x\": {\"type\": \"quantitative\", \"field\": \"x\"}}}], \"height\": 225, \"width\": 190}, {\"hconcat\": [{\"layer\": [{\"mark\": \"rect\", \"encoding\": {\"color\": {\"type\": \"quantitative\", \"field\": \"rounded\", \"legend\": null, \"scale\": {\"domain\": [-0.5, 0.5], \"range\": [\"#5f8fd6\", \"#99c3fb\", \"#f5f5f5\", \"#ffaa92\", \"#d16f5b\"]}, \"title\": null}, \"x\": {\"type\": \"nominal\", \"axis\": {\"titleFontSize\": 15}, \"field\": \"Event\"}, \"y\": {\"type\": \"nominal\", \"axis\": {\"domain\": false, \"labels\": false, \"title\": null}, \"field\": \"Feature\"}}}, {\"mark\": {\"type\": \"text\", \"align\": \"right\", \"baseline\": \"middle\", \"color\": \"#798184\", \"dx\": 18, \"fontSize\": 15}, \"encoding\": {\"text\": {\"type\": \"nominal\", \"field\": \"rounded_str\"}, \"x\": {\"type\": \"nominal\", \"axis\": {\"domain\": false, \"labelAngle\": 0, \"labelFontSize\": 15, \"labelOffset\": 24, \"labelPadding\": 30, \"orient\": \"top\", \"title\": null}, \"field\": \"Event\"}, \"y\": {\"type\": \"nominal\", \"axis\": {\"domain\": false, \"labels\": false, \"title\": null}, \"field\": \"Feature\"}}}], \"data\": {\"name\": \"data-247be927c6a615be8aa0794ac71cddf5\"}, \"height\": 225, \"width\": 66.66666666666667}, {\"layer\": [{\"mark\": \"rect\", \"encoding\": {\"color\": {\"type\": \"quantitative\", \"field\": \"rounded\", \"legend\": {\"gradientLength\": 225, \"gradientThickness\": 10, \"labelFontSize\": 15, \"orient\": \"right\"}, \"scale\": {\"domain\": [-0.5, 0.5], \"range\": [\"#5f8fd6\", \"#99c3fb\", \"#f5f5f5\", \"#ffaa92\", \"#d16f5b\"]}, \"title\": null}, \"x\": {\"type\": \"nominal\", \"axis\": {\"titleFontSize\": 15}, \"field\": \"Event\", \"sort\": [\"Event -5\", \"Event -2\"]}, \"y\": {\"type\": \"nominal\", \"axis\": {\"domain\": false, \"labelFontSize\": 15, \"title\": null}, \"field\": \"Feature\", \"sort\": [\"Mean Chest <-> Left Ankle\", \"STD Chest <-> Left Ankle\", \"Mean Right Ankle <-> Left Ankle\"]}}}, {\"mark\": {\"type\": \"text\", \"align\": \"right\", \"baseline\": \"middle\", \"color\": \"#798184\", \"dx\": 18, \"fontSize\": 15}, \"encoding\": {\"text\": {\"type\": \"nominal\", \"field\": \"rounded_str\"}, \"x\": {\"type\": \"nominal\", \"axis\": {\"domain\": false, \"labelAngle\": 30, \"labelFontSize\": 15, \"orient\": \"top\", \"title\": \"Shapley Value\", \"titleX\": 172, \"titleY\": 245}, \"field\": \"Event\", \"sort\": [\"Event -5\", \"Event -2\"]}, \"y\": {\"type\": \"nominal\", \"axis\": {\"domain\": false, \"labelFontSize\": 15, \"title\": null}, \"field\": \"Feature\", \"sort\": [\"Mean Chest <-> Left Ankle\", \"STD Chest <-> Left Ankle\", \"Mean Right Ankle <-> Left Ankle\"]}}}], \"data\": {\"name\": \"data-bf87ec63ca4c17ef12eafd2083a1f706\"}, \"height\": 225, \"width\": 160}], \"resolve\": {\"scale\": {\"color\": \"independent\"}}}], \"resolve\": {\"scale\": {\"color\": \"independent\"}}, \"$schema\": \"https://vega.github.io/schema/vega-lite/v4.8.1.json\", \"datasets\": {\"data-2f29d372b18f71373fa205341e45ea71\": [{\"Coalition\": \"Sum of contribution of events > t\", \"t (event index)\": 0, \"Shapley Value\": 0.0}, {\"Coalition\": \"Sum of contribution of events \\u2264 t\", \"t (event index)\": 0, \"Shapley Value\": 0.8252891339361668}, {\"Coalition\": \"Sum of contribution of events > t\", \"t (event index)\": -1, \"Shapley Value\": 0.06392929889261723}, {\"Coalition\": \"Sum of contribution of events \\u2264 t\", \"t (event index)\": -1, \"Shapley Value\": 0.7613598350435495}, {\"Coalition\": \"Sum of contribution of events > t\", \"t (event index)\": -2, \"Shapley Value\": 0.2522490229457617}, {\"Coalition\": \"Sum of contribution of events \\u2264 t\", \"t (event index)\": -2, \"Shapley Value\": 0.5730401109904051}, {\"Coalition\": \"Sum of contribution of events > t\", \"t (event index)\": -3, \"Shapley Value\": 0.3406646866351366}, {\"Coalition\": \"Sum of contribution of events \\u2264 t\", \"t (event index)\": -3, \"Shapley Value\": 0.48462444730103016}, {\"Coalition\": \"Sum of contribution of events > t\", \"t (event index)\": -4, \"Shapley Value\": 0.3575274273753166}, {\"Coalition\": \"Sum of contribution of events \\u2264 t\", \"t (event index)\": -4, \"Shapley Value\": 0.46776170656085014}, {\"Coalition\": \"Sum of contribution of events > t\", \"t (event index)\": -5, \"Shapley Value\": 0.4095512181520462}, {\"Coalition\": \"Sum of contribution of events \\u2264 t\", \"t (event index)\": -5, \"Shapley Value\": 0.41573791578412056}, {\"Coalition\": \"Sum of contribution of events > t\", \"t (event index)\": -6, \"Shapley Value\": 0.42282234504818916}, {\"Coalition\": \"Sum of contribution of events \\u2264 t\", \"t (event index)\": -6, \"Shapley Value\": 0.4024667888879776}, {\"Coalition\": \"Sum of contribution of events > t\", \"t (event index)\": -7, \"Shapley Value\": 0.4667374165728688}, {\"Coalition\": \"Sum of contribution of events \\u2264 t\", \"t (event index)\": -7, \"Shapley Value\": 0.35855171736329794}, {\"Coalition\": \"Sum of contribution of events > t\", \"t (event index)\": -8, \"Shapley Value\": 0.573298460803926}, {\"Coalition\": \"Sum of contribution of events \\u2264 t\", \"t (event index)\": -8, \"Shapley Value\": 0.2519906731322408}, {\"Coalition\": \"Sum of contribution of events > t\", \"t (event index)\": -9, \"Shapley Value\": 0.6489290026947856}, {\"Coalition\": \"Sum of contribution of events \\u2264 t\", \"t (event index)\": -9, \"Shapley Value\": 0.17636013124138117}, {\"Coalition\": \"Sum of contribution of events > t\", \"t (event index)\": -10, \"Shapley Value\": 0.6915545491501689}, {\"Coalition\": \"Sum of contribution of events \\u2264 t\", \"t (event index)\": -10, \"Shapley Value\": 0.13373458478599787}, {\"Coalition\": \"Sum of contribution of events > t\", \"t (event index)\": -11, \"Shapley Value\": 0.7400883743539453}, {\"Coalition\": \"Sum of contribution of events \\u2264 t\", \"t (event index)\": -11, \"Shapley Value\": 0.08520075958222151}, {\"Coalition\": \"Sum of contribution of events > t\", \"t (event index)\": -12, \"Shapley Value\": 0.7618631040677428}, {\"Coalition\": \"Sum of contribution of events \\u2264 t\", \"t (event index)\": -12, \"Shapley Value\": 0.06342602986842394}, {\"Coalition\": \"Sum of contribution of events > t\", \"t (event index)\": -13, \"Shapley Value\": 0.787288835272193}, {\"Coalition\": \"Sum of contribution of events \\u2264 t\", \"t (event index)\": -13, \"Shapley Value\": 0.03800029866397381}, {\"Coalition\": \"Sum of contribution of events > t\", \"t (event index)\": -14, \"Shapley Value\": 0.8006890583783388}, {\"Coalition\": \"Sum of contribution of events \\u2264 t\", \"t (event index)\": -14, \"Shapley Value\": 0.02460007555782795}, {\"Coalition\": \"Sum of contribution of events > t\", \"t (event index)\": -15, \"Shapley Value\": 0.8066686205565929}, {\"Coalition\": \"Sum of contribution of events \\u2264 t\", \"t (event index)\": -15, \"Shapley Value\": 0.018620513379573822}, {\"Coalition\": \"Sum of contribution of events > t\", \"t (event index)\": -16, \"Shapley Value\": 0.8131036935374141}, {\"Coalition\": \"Sum of contribution of events \\u2264 t\", \"t (event index)\": -16, \"Shapley Value\": 0.01218544039875269}, {\"Coalition\": \"Sum of contribution of events > t\", \"t (event index)\": -17, \"Shapley Value\": 0.8155508087947965}, {\"Coalition\": \"Sum of contribution of events \\u2264 t\", \"t (event index)\": -17, \"Shapley Value\": 0.009738325141370296}, {\"Coalition\": \"Sum of contribution of events > t\", \"t (event index)\": -18, \"Shapley Value\": 0.8181126741692424}, {\"Coalition\": \"Sum of contribution of events \\u2264 t\", \"t (event index)\": -18, \"Shapley Value\": 0.007176459766924381}, {\"Coalition\": \"Sum of contribution of events > t\", \"t (event index)\": -19, \"Shapley Value\": 0.8203145144507289}, {\"Coalition\": \"Sum of contribution of events \\u2264 t\", \"t (event index)\": -19, \"Shapley Value\": 0.00497461948543787}, {\"Coalition\": \"Sum of contribution of events > t\", \"t (event index)\": -20, \"Shapley Value\": 0.8218805501237512}, {\"Coalition\": \"Sum of contribution of events \\u2264 t\", \"t (event index)\": -20, \"Shapley Value\": 0.0034085838124156}, {\"Coalition\": \"Sum of contribution of events > t\", \"t (event index)\": -21, \"Shapley Value\": 0.8226268719881773}, {\"Coalition\": \"Sum of contribution of events \\u2264 t\", \"t (event index)\": -21, \"Shapley Value\": 0.002662261947989464}, {\"Coalition\": \"Sum of contribution of events > t\", \"t (event index)\": -22, \"Shapley Value\": 0.8233157377690077}, {\"Coalition\": \"Sum of contribution of events \\u2264 t\", \"t (event index)\": -22, \"Shapley Value\": 0.0019733961671590805}, {\"Coalition\": \"Sum of contribution of events > t\", \"t (event index)\": -23, \"Shapley Value\": 0.8236580118536949}, {\"Coalition\": \"Sum of contribution of events \\u2264 t\", \"t (event index)\": -23, \"Shapley Value\": 0.0016311220824718475}, {\"Coalition\": \"Sum of contribution of events > t\", \"t (event index)\": -24, \"Shapley Value\": 0.8238380216062069}, {\"Coalition\": \"Sum of contribution of events \\u2264 t\", \"t (event index)\": -24, \"Shapley Value\": 0.0014511123299598694}, {\"Coalition\": \"Sum of contribution of events > t\", \"t (event index)\": -25, \"Shapley Value\": 0.8241624161601067}, {\"Coalition\": \"Sum of contribution of events \\u2264 t\", \"t (event index)\": -25, \"Shapley Value\": 0.0011267177760601044}, {\"Coalition\": \"Sum of contribution of events > t\", \"t (event index)\": -26, \"Shapley Value\": 0.824600238353014}, {\"Coalition\": \"Sum of contribution of events \\u2264 t\", \"t (event index)\": -26, \"Shapley Value\": 0.000688895583152771}, {\"Coalition\": \"Sum of contribution of events > t\", \"t (event index)\": -27, \"Shapley Value\": 0.8247756073251367}, {\"Coalition\": \"Sum of contribution of events \\u2264 t\", \"t (event index)\": -27, \"Shapley Value\": 0.0005135266110301018}, {\"Coalition\": \"Sum of contribution of events > t\", \"t (event index)\": -28, \"Shapley Value\": 0.8249095324426889}, {\"Coalition\": \"Sum of contribution of events \\u2264 t\", \"t (event index)\": -28, \"Shapley Value\": 0.00037960149347782135}, {\"Coalition\": \"Sum of contribution of events > t\", \"t (event index)\": -29, \"Shapley Value\": 0.8249880466610193}, {\"Coalition\": \"Sum of contribution of events \\u2264 t\", \"t (event index)\": -29, \"Shapley Value\": 0.00030108727514743805}, {\"Coalition\": \"Sum of contribution of events > t\", \"t (event index)\": -30, \"Shapley Value\": 0.8250167584046721}, {\"Coalition\": \"Sum of contribution of events \\u2264 t\", \"t (event index)\": -30, \"Shapley Value\": 0.00027237553149461746}, {\"Coalition\": \"Sum of contribution of events > t\", \"t (event index)\": -31, \"Shapley Value\": 0.825090479105711}, {\"Coalition\": \"Sum of contribution of events \\u2264 t\", \"t (event index)\": -31, \"Shapley Value\": 0.00019865483045578003}, {\"Coalition\": \"Sum of contribution of events > t\", \"t (event index)\": -32, \"Shapley Value\": 0.8251623306423426}, {\"Coalition\": \"Sum of contribution of events \\u2264 t\", \"t (event index)\": -32, \"Shapley Value\": 0.00012680329382419586}, {\"Coalition\": \"Sum of contribution of events > t\", \"t (event index)\": -33, \"Shapley Value\": 0.8252010811120272}, {\"Coalition\": \"Sum of contribution of events \\u2264 t\", \"t (event index)\": -33, \"Shapley Value\": 8.805282413959503e-05}, {\"Coalition\": \"Sum of contribution of events > t\", \"t (event index)\": -34, \"Shapley Value\": 0.8252310128882527}, {\"Coalition\": \"Sum of contribution of events \\u2264 t\", \"t (event index)\": -34, \"Shapley Value\": 5.812104791402817e-05}, {\"Coalition\": \"Sum of contribution of events > t\", \"t (event index)\": -35, \"Shapley Value\": 0.8252451876178384}, {\"Coalition\": \"Sum of contribution of events \\u2264 t\", \"t (event index)\": -35, \"Shapley Value\": 4.3946318328380585e-05}, {\"Coalition\": \"Sum of contribution of events > t\", \"t (event index)\": -36, \"Shapley Value\": 0.8252515103667974}, {\"Coalition\": \"Sum of contribution of events \\u2264 t\", \"t (event index)\": -36, \"Shapley Value\": 3.76235693693161e-05}, {\"Coalition\": \"Sum of contribution of events > t\", \"t (event index)\": -37, \"Shapley Value\": 0.8252593073993921}, {\"Coalition\": \"Sum of contribution of events \\u2264 t\", \"t (event index)\": -37, \"Shapley Value\": 2.9826536774635315e-05}, {\"Coalition\": \"Sum of contribution of events > t\", \"t (event index)\": -38, \"Shapley Value\": 0.8252678075805306}, {\"Coalition\": \"Sum of contribution of events \\u2264 t\", \"t (event index)\": -38, \"Shapley Value\": 2.1326355636119843e-05}, {\"Coalition\": \"Sum of contribution of events > t\", \"t (event index)\": -39, \"Shapley Value\": 0.8252696637064219}, {\"Coalition\": \"Sum of contribution of events \\u2264 t\", \"t (event index)\": -39, \"Shapley Value\": 1.9470229744911194e-05}, {\"Coalition\": \"Sum of contribution of events > t\", \"t (event index)\": -40, \"Shapley Value\": 0.8252753969281912}, {\"Coalition\": \"Sum of contribution of events \\u2264 t\", \"t (event index)\": -40, \"Shapley Value\": 1.3737007975578308e-05}, {\"Coalition\": \"Sum of contribution of events > t\", \"t (event index)\": -41, \"Shapley Value\": 0.8252772828564048}, {\"Coalition\": \"Sum of contribution of events \\u2264 t\", \"t (event index)\": -41, \"Shapley Value\": 1.1851079761981964e-05}, {\"Coalition\": \"Sum of contribution of events > t\", \"t (event index)\": -42, \"Shapley Value\": 0.8252791846171021}, {\"Coalition\": \"Sum of contribution of events \\u2264 t\", \"t (event index)\": -42, \"Shapley Value\": 9.949319064617157e-06}, {\"Coalition\": \"Sum of contribution of events > t\", \"t (event index)\": -43, \"Shapley Value\": 0.8252815483137965}, {\"Coalition\": \"Sum of contribution of events \\u2264 t\", \"t (event index)\": -43, \"Shapley Value\": 7.5856223702430725e-06}, {\"Coalition\": \"Sum of contribution of events > t\", \"t (event index)\": -44, \"Shapley Value\": 0.8252838738262653}, {\"Coalition\": \"Sum of contribution of events \\u2264 t\", \"t (event index)\": -44, \"Shapley Value\": 5.260109901428223e-06}, {\"Coalition\": \"Sum of contribution of events > t\", \"t (event index)\": -45, \"Shapley Value\": 0.8252847902476788}, {\"Coalition\": \"Sum of contribution of events \\u2264 t\", \"t (event index)\": -45, \"Shapley Value\": 4.343688488006592e-06}, {\"Coalition\": \"Sum of contribution of events > t\", \"t (event index)\": -46, \"Shapley Value\": 0.8252853704616427}, {\"Coalition\": \"Sum of contribution of events \\u2264 t\", \"t (event index)\": -46, \"Shapley Value\": 3.7634745240211487e-06}, {\"Coalition\": \"Sum of contribution of events > t\", \"t (event index)\": -47, \"Shapley Value\": 0.8252863194793463}, {\"Coalition\": \"Sum of contribution of events \\u2264 t\", \"t (event index)\": -47, \"Shapley Value\": 2.814456820487976e-06}, {\"Coalition\": \"Sum of contribution of events > t\", \"t (event index)\": -48, \"Shapley Value\": 0.8252869173884392}, {\"Coalition\": \"Sum of contribution of events \\u2264 t\", \"t (event index)\": -48, \"Shapley Value\": 2.216547727584839e-06}, {\"Coalition\": \"Sum of contribution of events > t\", \"t (event index)\": -49, \"Shapley Value\": 0.8252875087782741}, {\"Coalition\": \"Sum of contribution of events \\u2264 t\", \"t (event index)\": -49, \"Shapley Value\": 1.62515789270401e-06}, {\"Coalition\": \"Sum of contribution of events > t\", \"t (event index)\": -50, \"Shapley Value\": 0.825287913903594}, {\"Coalition\": \"Sum of contribution of events \\u2264 t\", \"t (event index)\": -50, \"Shapley Value\": 1.2200325727462769e-06}, {\"Coalition\": \"Sum of contribution of events > t\", \"t (event index)\": -51, \"Shapley Value\": 0.8252882584929466}, {\"Coalition\": \"Sum of contribution of events \\u2264 t\", \"t (event index)\": -51, \"Shapley Value\": 8.754432201385498e-07}, {\"Coalition\": \"Sum of contribution of events > t\", \"t (event index)\": -52, \"Shapley Value\": 0.8252884205430746}, {\"Coalition\": \"Sum of contribution of events \\u2264 t\", \"t (event index)\": -52, \"Shapley Value\": 7.133930921554565e-07}, {\"Coalition\": \"Sum of contribution of events > t\", \"t (event index)\": -53, \"Shapley Value\": 0.8252885220572352}, {\"Coalition\": \"Sum of contribution of events \\u2264 t\", \"t (event index)\": -53, \"Shapley Value\": 6.118789315223694e-07}, {\"Coalition\": \"Sum of contribution of events > t\", \"t (event index)\": -54, \"Shapley Value\": 0.8252886766567826}, {\"Coalition\": \"Sum of contribution of events \\u2264 t\", \"t (event index)\": -54, \"Shapley Value\": 4.5727938413619995e-07}, {\"Coalition\": \"Sum of contribution of events > t\", \"t (event index)\": -55, \"Shapley Value\": 0.8252887483686209}, {\"Coalition\": \"Sum of contribution of events \\u2264 t\", \"t (event index)\": -55, \"Shapley Value\": 3.855675458908081e-07}, {\"Coalition\": \"Sum of contribution of events > t\", \"t (event index)\": -56, \"Shapley Value\": 0.8252888871356845}, {\"Coalition\": \"Sum of contribution of events \\u2264 t\", \"t (event index)\": -56, \"Shapley Value\": 2.468004822731018e-07}, {\"Coalition\": \"Sum of contribution of events > t\", \"t (event index)\": -57, \"Shapley Value\": 0.8252889551222324}, {\"Coalition\": \"Sum of contribution of events \\u2264 t\", \"t (event index)\": -57, \"Shapley Value\": 1.7881393432617188e-07}, {\"Coalition\": \"Sum of contribution of events > t\", \"t (event index)\": -58, \"Shapley Value\": 0.8252889895811677}, {\"Coalition\": \"Sum of contribution of events \\u2264 t\", \"t (event index)\": -58, \"Shapley Value\": 1.4435499906539917e-07}, {\"Coalition\": \"Sum of contribution of events > t\", \"t (event index)\": -59, \"Shapley Value\": 0.8252890044823289}, {\"Coalition\": \"Sum of contribution of events \\u2264 t\", \"t (event index)\": -59, \"Shapley Value\": 1.2945383787155151e-07}, {\"Coalition\": \"Sum of contribution of events > t\", \"t (event index)\": -60, \"Shapley Value\": 0.8252890417352319}, {\"Coalition\": \"Sum of contribution of events \\u2264 t\", \"t (event index)\": -60, \"Shapley Value\": 9.220093488693237e-08}, {\"Coalition\": \"Sum of contribution of events > t\", \"t (event index)\": -61, \"Shapley Value\": 0.825289050117135}, {\"Coalition\": \"Sum of contribution of events \\u2264 t\", \"t (event index)\": -61, \"Shapley Value\": 8.381903171539307e-08}, {\"Coalition\": \"Sum of contribution of events > t\", \"t (event index)\": -62, \"Shapley Value\": 0.8252890687435865}, {\"Coalition\": \"Sum of contribution of events \\u2264 t\", \"t (event index)\": -62, \"Shapley Value\": 6.51925802230835e-08}, {\"Coalition\": \"Sum of contribution of events > t\", \"t (event index)\": -63, \"Shapley Value\": 0.82528908085078}, {\"Coalition\": \"Sum of contribution of events \\u2264 t\", \"t (event index)\": -63, \"Shapley Value\": 5.3085386753082275e-08}, {\"Coalition\": \"Sum of contribution of events > t\", \"t (event index)\": -64, \"Shapley Value\": 0.8252890920266509}, {\"Coalition\": \"Sum of contribution of events \\u2264 t\", \"t (event index)\": -64, \"Shapley Value\": 4.190951585769653e-08}, {\"Coalition\": \"Sum of contribution of events > t\", \"t (event index)\": -65, \"Shapley Value\": 0.8252890994772315}, {\"Coalition\": \"Sum of contribution of events \\u2264 t\", \"t (event index)\": -65, \"Shapley Value\": 3.4458935260772705e-08}, {\"Coalition\": \"Sum of contribution of events > t\", \"t (event index)\": -66, \"Shapley Value\": 0.8252891032025218}, {\"Coalition\": \"Sum of contribution of events \\u2264 t\", \"t (event index)\": -66, \"Shapley Value\": 3.073364496231079e-08}, {\"Coalition\": \"Sum of contribution of events > t\", \"t (event index)\": -67, \"Shapley Value\": 0.825289111584425}, {\"Coalition\": \"Sum of contribution of events \\u2264 t\", \"t (event index)\": -67, \"Shapley Value\": 2.2351741790771484e-08}, {\"Coalition\": \"Sum of contribution of events > t\", \"t (event index)\": -68, \"Shapley Value\": 0.8252891143783927}, {\"Coalition\": \"Sum of contribution of events \\u2264 t\", \"t (event index)\": -68, \"Shapley Value\": 1.955777406692505e-08}, {\"Coalition\": \"Sum of contribution of events > t\", \"t (event index)\": -69, \"Shapley Value\": 0.8252891190350056}, {\"Coalition\": \"Sum of contribution of events \\u2264 t\", \"t (event index)\": -69, \"Shapley Value\": 1.4901161193847656e-08}, {\"Coalition\": \"Sum of contribution of events > t\", \"t (event index)\": -70, \"Shapley Value\": 0.8252891190350056}, {\"Coalition\": \"Sum of contribution of events \\u2264 t\", \"t (event index)\": -70, \"Shapley Value\": 1.4901161193847656e-08}, {\"Coalition\": \"Sum of contribution of events > t\", \"t (event index)\": -71, \"Shapley Value\": 0.8252891227602959}, {\"Coalition\": \"Sum of contribution of events \\u2264 t\", \"t (event index)\": -71, \"Shapley Value\": 1.1175870895385742e-08}, {\"Coalition\": \"Sum of contribution of events > t\", \"t (event index)\": -72, \"Shapley Value\": 0.8252891227602959}, {\"Coalition\": \"Sum of contribution of events \\u2264 t\", \"t (event index)\": -72, \"Shapley Value\": 1.1175870895385742e-08}, {\"Coalition\": \"Sum of contribution of events > t\", \"t (event index)\": -73, \"Shapley Value\": 0.8252891264855862}, {\"Coalition\": \"Sum of contribution of events \\u2264 t\", \"t (event index)\": -73, \"Shapley Value\": 7.450580596923828e-09}, {\"Coalition\": \"Sum of contribution of events > t\", \"t (event index)\": -74, \"Shapley Value\": 0.8252891264855862}, {\"Coalition\": \"Sum of contribution of events \\u2264 t\", \"t (event index)\": -74, \"Shapley Value\": 7.450580596923828e-09}, {\"Coalition\": \"Sum of contribution of events > t\", \"t (event index)\": -75, \"Shapley Value\": 0.8252891264855862}, {\"Coalition\": \"Sum of contribution of events \\u2264 t\", \"t (event index)\": -75, \"Shapley Value\": 7.450580596923828e-09}, {\"Coalition\": \"Sum of contribution of events > t\", \"t (event index)\": -76, \"Shapley Value\": 0.8252891264855862}, {\"Coalition\": \"Sum of contribution of events \\u2264 t\", \"t (event index)\": -76, \"Shapley Value\": 7.450580596923828e-09}, {\"Coalition\": \"Sum of contribution of events > t\", \"t (event index)\": -77, \"Shapley Value\": 0.8252891264855862}, {\"Coalition\": \"Sum of contribution of events \\u2264 t\", \"t (event index)\": -77, \"Shapley Value\": 7.450580596923828e-09}, {\"Coalition\": \"Sum of contribution of events > t\", \"t (event index)\": -78, \"Shapley Value\": 0.8252891302108765}, {\"Coalition\": \"Sum of contribution of events \\u2264 t\", \"t (event index)\": -78, \"Shapley Value\": 3.725290298461914e-09}, {\"Coalition\": \"Sum of contribution of events > t\", \"t (event index)\": -79, \"Shapley Value\": 0.8252891339361668}, {\"Coalition\": \"Sum of contribution of events \\u2264 t\", \"t (event index)\": -79, \"Shapley Value\": 0.0}, {\"Coalition\": \"Sum of contribution of events > t\", \"t (event index)\": -80, \"Shapley Value\": 0.8252891339361668}, {\"Coalition\": \"Sum of contribution of events \\u2264 t\", \"t (event index)\": -80, \"Shapley Value\": 0.0}, {\"Coalition\": \"Sum of contribution of events > t\", \"t (event index)\": -81, \"Shapley Value\": 0.8252891302108765}, {\"Coalition\": \"Sum of contribution of events \\u2264 t\", \"t (event index)\": -81, \"Shapley Value\": 3.725290298461914e-09}, {\"Coalition\": \"Sum of contribution of events > t\", \"t (event index)\": -82, \"Shapley Value\": 0.8252891302108765}, {\"Coalition\": \"Sum of contribution of events \\u2264 t\", \"t (event index)\": -82, \"Shapley Value\": 3.725290298461914e-09}, {\"Coalition\": \"Sum of contribution of events > t\", \"t (event index)\": -83, \"Shapley Value\": 0.8252891302108765}, {\"Coalition\": \"Sum of contribution of events \\u2264 t\", \"t (event index)\": -83, \"Shapley Value\": 3.725290298461914e-09}, {\"Coalition\": \"Sum of contribution of events > t\", \"t (event index)\": -84, \"Shapley Value\": 0.8252891302108765}, {\"Coalition\": \"Sum of contribution of events \\u2264 t\", \"t (event index)\": -84, \"Shapley Value\": 3.725290298461914e-09}, {\"Coalition\": \"Sum of contribution of events > t\", \"t (event index)\": -85, \"Shapley Value\": 0.8252891339361668}, {\"Coalition\": \"Sum of contribution of events \\u2264 t\", \"t (event index)\": -85, \"Shapley Value\": 0.0}, {\"Coalition\": \"Sum of contribution of events > t\", \"t (event index)\": -86, \"Shapley Value\": 0.8252891339361668}, {\"Coalition\": \"Sum of contribution of events \\u2264 t\", \"t (event index)\": -86, \"Shapley Value\": 0.0}, {\"Coalition\": \"Sum of contribution of events > t\", \"t (event index)\": -87, \"Shapley Value\": 0.8252891339361668}, {\"Coalition\": \"Sum of contribution of events \\u2264 t\", \"t (event index)\": -87, \"Shapley Value\": 0.0}, {\"Coalition\": \"Sum of contribution of events > t\", \"t (event index)\": -88, \"Shapley Value\": 0.8252891339361668}, {\"Coalition\": \"Sum of contribution of events \\u2264 t\", \"t (event index)\": -88, \"Shapley Value\": 0.0}, {\"Coalition\": \"Sum of contribution of events > t\", \"t (event index)\": -89, \"Shapley Value\": 0.8252891339361668}, {\"Coalition\": \"Sum of contribution of events \\u2264 t\", \"t (event index)\": -89, \"Shapley Value\": 0.0}, {\"Coalition\": \"Sum of contribution of events > t\", \"t (event index)\": -90, \"Shapley Value\": 0.8252891339361668}, {\"Coalition\": \"Sum of contribution of events \\u2264 t\", \"t (event index)\": -90, \"Shapley Value\": 0.0}, {\"Coalition\": \"Sum of contribution of events > t\", \"t (event index)\": -91, \"Shapley Value\": 0.8252891339361668}, {\"Coalition\": \"Sum of contribution of events \\u2264 t\", \"t (event index)\": -91, \"Shapley Value\": 0.0}, {\"Coalition\": \"Sum of contribution of events > t\", \"t (event index)\": -92, \"Shapley Value\": 0.8252891339361668}, {\"Coalition\": \"Sum of contribution of events \\u2264 t\", \"t (event index)\": -92, \"Shapley Value\": 0.0}, {\"Coalition\": \"Sum of contribution of events > t\", \"t (event index)\": -93, \"Shapley Value\": 0.8252891339361668}, {\"Coalition\": \"Sum of contribution of events \\u2264 t\", \"t (event index)\": -93, \"Shapley Value\": 0.0}, {\"Coalition\": \"Sum of contribution of events > t\", \"t (event index)\": -94, \"Shapley Value\": 0.8252891339361668}, {\"Coalition\": \"Sum of contribution of events \\u2264 t\", \"t (event index)\": -94, \"Shapley Value\": 0.0}, {\"Coalition\": \"Sum of contribution of events > t\", \"t (event index)\": -95, \"Shapley Value\": 0.8252891339361668}, {\"Coalition\": \"Sum of contribution of events \\u2264 t\", \"t (event index)\": -95, \"Shapley Value\": 0.0}, {\"Coalition\": \"Sum of contribution of events > t\", \"t (event index)\": -96, \"Shapley Value\": 0.8252891339361668}, {\"Coalition\": \"Sum of contribution of events \\u2264 t\", \"t (event index)\": -96, \"Shapley Value\": 0.0}, {\"Coalition\": \"Sum of contribution of events > t\", \"t (event index)\": -97, \"Shapley Value\": 0.8252891339361668}, {\"Coalition\": \"Sum of contribution of events \\u2264 t\", \"t (event index)\": -97, \"Shapley Value\": 0.0}, {\"Coalition\": \"Sum of contribution of events > t\", \"t (event index)\": -98, \"Shapley Value\": 0.8252891339361668}, {\"Coalition\": \"Sum of contribution of events \\u2264 t\", \"t (event index)\": -98, \"Shapley Value\": 0.0}, {\"Coalition\": \"Sum of contribution of events > t\", \"t (event index)\": -99, \"Shapley Value\": 0.8252891339361668}, {\"Coalition\": \"Sum of contribution of events \\u2264 t\", \"t (event index)\": -99, \"Shapley Value\": 0.0}, {\"Coalition\": \"Sum of contribution of events > t\", \"t (event index)\": -100, \"Shapley Value\": 0.8252891339361668}, {\"Coalition\": \"Sum of contribution of events \\u2264 t\", \"t (event index)\": -100, \"Shapley Value\": 0.0}, {\"Coalition\": \"Sum of contribution of events > t\", \"t (event index)\": -101, \"Shapley Value\": 0.8252891339361668}, {\"Coalition\": \"Sum of contribution of events \\u2264 t\", \"t (event index)\": -101, \"Shapley Value\": 0.0}, {\"Coalition\": \"Sum of contribution of events > t\", \"t (event index)\": -102, \"Shapley Value\": 0.8252891339361668}, {\"Coalition\": \"Sum of contribution of events \\u2264 t\", \"t (event index)\": -102, \"Shapley Value\": 0.0}, {\"Coalition\": \"Sum of contribution of events > t\", \"t (event index)\": -103, \"Shapley Value\": 0.8252891339361668}, {\"Coalition\": \"Sum of contribution of events \\u2264 t\", \"t (event index)\": -103, \"Shapley Value\": 0.0}, {\"Coalition\": \"Sum of contribution of events > t\", \"t (event index)\": -104, \"Shapley Value\": 0.8252891339361668}, {\"Coalition\": \"Sum of contribution of events \\u2264 t\", \"t (event index)\": -104, \"Shapley Value\": 0.0}, {\"Coalition\": \"Sum of contribution of events > t\", \"t (event index)\": -105, \"Shapley Value\": 0.8252891339361668}, {\"Coalition\": \"Sum of contribution of events \\u2264 t\", \"t (event index)\": -105, \"Shapley Value\": 0.0}, {\"Coalition\": \"Sum of contribution of events > t\", \"t (event index)\": -106, \"Shapley Value\": 0.8252891339361668}, {\"Coalition\": \"Sum of contribution of events \\u2264 t\", \"t (event index)\": -106, \"Shapley Value\": 0.0}, {\"Coalition\": \"Sum of contribution of events > t\", \"t (event index)\": -107, \"Shapley Value\": 0.8252891339361668}, {\"Coalition\": \"Sum of contribution of events \\u2264 t\", \"t (event index)\": -107, \"Shapley Value\": 0.0}, {\"Coalition\": \"Sum of contribution of events > t\", \"t (event index)\": -108, \"Shapley Value\": 0.8252891339361668}, {\"Coalition\": \"Sum of contribution of events \\u2264 t\", \"t (event index)\": -108, \"Shapley Value\": 0.0}, {\"Coalition\": \"Sum of contribution of events > t\", \"t (event index)\": -109, \"Shapley Value\": 0.8252891339361668}, {\"Coalition\": \"Sum of contribution of events \\u2264 t\", \"t (event index)\": -109, \"Shapley Value\": 0.0}, {\"Coalition\": \"Sum of contribution of events > t\", \"t (event index)\": -110, \"Shapley Value\": 0.8252891339361668}, {\"Coalition\": \"Sum of contribution of events \\u2264 t\", \"t (event index)\": -110, \"Shapley Value\": 0.0}, {\"Coalition\": \"Sum of contribution of events > t\", \"t (event index)\": -111, \"Shapley Value\": 0.8252891339361668}, {\"Coalition\": \"Sum of contribution of events \\u2264 t\", \"t (event index)\": -111, \"Shapley Value\": 0.0}, {\"Coalition\": \"Sum of contribution of events > t\", \"t (event index)\": -112, \"Shapley Value\": 0.8252891339361668}, {\"Coalition\": \"Sum of contribution of events \\u2264 t\", \"t (event index)\": -112, \"Shapley Value\": 0.0}, {\"Coalition\": \"Sum of contribution of events > t\", \"t (event index)\": -113, \"Shapley Value\": 0.8252891339361668}, {\"Coalition\": \"Sum of contribution of events \\u2264 t\", \"t (event index)\": -113, \"Shapley Value\": 0.0}, {\"Coalition\": \"Sum of contribution of events > t\", \"t (event index)\": -114, \"Shapley Value\": 0.8252891339361668}, {\"Coalition\": \"Sum of contribution of events \\u2264 t\", \"t (event index)\": -114, \"Shapley Value\": 0.0}, {\"Coalition\": \"Sum of contribution of events > t\", \"t (event index)\": -115, \"Shapley Value\": 0.8252891339361668}, {\"Coalition\": \"Sum of contribution of events \\u2264 t\", \"t (event index)\": -115, \"Shapley Value\": 0.0}, {\"Coalition\": \"Sum of contribution of events > t\", \"t (event index)\": -116, \"Shapley Value\": 0.8252891339361668}, {\"Coalition\": \"Sum of contribution of events \\u2264 t\", \"t (event index)\": -116, \"Shapley Value\": 0.0}, {\"Coalition\": \"Sum of contribution of events > t\", \"t (event index)\": -117, \"Shapley Value\": 0.8252891339361668}, {\"Coalition\": \"Sum of contribution of events \\u2264 t\", \"t (event index)\": -117, \"Shapley Value\": 0.0}, {\"Coalition\": \"Sum of contribution of events > t\", \"t (event index)\": -118, \"Shapley Value\": 0.8252891339361668}, {\"Coalition\": \"Sum of contribution of events \\u2264 t\", \"t (event index)\": -118, \"Shapley Value\": 0.0}, {\"Coalition\": \"Sum of contribution of events > t\", \"t (event index)\": -119, \"Shapley Value\": 0.8252891339361668}, {\"Coalition\": \"Sum of contribution of events \\u2264 t\", \"t (event index)\": -119, \"Shapley Value\": 0.0}, {\"Coalition\": \"Sum of contribution of events > t\", \"t (event index)\": -120, \"Shapley Value\": 0.8252891339361668}, {\"Coalition\": \"Sum of contribution of events \\u2264 t\", \"t (event index)\": -120, \"Shapley Value\": 0.0}, {\"Coalition\": \"Sum of contribution of events > t\", \"t (event index)\": -121, \"Shapley Value\": 0.8252891339361668}, {\"Coalition\": \"Sum of contribution of events \\u2264 t\", \"t (event index)\": -121, \"Shapley Value\": 0.0}, {\"Coalition\": \"Sum of contribution of events > t\", \"t (event index)\": -122, \"Shapley Value\": 0.8252891339361668}, {\"Coalition\": \"Sum of contribution of events \\u2264 t\", \"t (event index)\": -122, \"Shapley Value\": 0.0}, {\"Coalition\": \"Sum of contribution of events > t\", \"t (event index)\": -123, \"Shapley Value\": 0.8252891339361668}, {\"Coalition\": \"Sum of contribution of events \\u2264 t\", \"t (event index)\": -123, \"Shapley Value\": 0.0}, {\"Coalition\": \"Sum of contribution of events > t\", \"t (event index)\": -124, \"Shapley Value\": 0.8252891339361668}, {\"Coalition\": \"Sum of contribution of events \\u2264 t\", \"t (event index)\": -124, \"Shapley Value\": 0.0}, {\"Coalition\": \"Sum of contribution of events > t\", \"t (event index)\": -125, \"Shapley Value\": 0.8252891339361668}, {\"Coalition\": \"Sum of contribution of events \\u2264 t\", \"t (event index)\": -125, \"Shapley Value\": 0.0}, {\"Coalition\": \"Sum of contribution of events > t\", \"t (event index)\": -126, \"Shapley Value\": 0.8252891339361668}, {\"Coalition\": \"Sum of contribution of events \\u2264 t\", \"t (event index)\": -126, \"Shapley Value\": 0.0}, {\"Coalition\": \"Sum of contribution of events > t\", \"t (event index)\": -127, \"Shapley Value\": 0.8252891339361668}, {\"Coalition\": \"Sum of contribution of events \\u2264 t\", \"t (event index)\": -127, \"Shapley Value\": 0.0}, {\"Coalition\": \"Sum of contribution of events > t\", \"t (event index)\": -128, \"Shapley Value\": 0.8252891339361668}, {\"Coalition\": \"Sum of contribution of events \\u2264 t\", \"t (event index)\": -128, \"Shapley Value\": 0.0}, {\"Coalition\": \"Sum of contribution of events > t\", \"t (event index)\": -129, \"Shapley Value\": 0.8252891339361668}, {\"Coalition\": \"Sum of contribution of events \\u2264 t\", \"t (event index)\": -129, \"Shapley Value\": 0.0}, {\"Coalition\": \"Sum of contribution of events > t\", \"t (event index)\": -130, \"Shapley Value\": 0.8252891339361668}, {\"Coalition\": \"Sum of contribution of events \\u2264 t\", \"t (event index)\": -130, \"Shapley Value\": 0.0}, {\"Coalition\": \"Sum of contribution of events > t\", \"t (event index)\": -131, \"Shapley Value\": 0.8252891339361668}, {\"Coalition\": \"Sum of contribution of events \\u2264 t\", \"t (event index)\": -131, \"Shapley Value\": 0.0}, {\"Coalition\": \"Sum of contribution of events > t\", \"t (event index)\": -132, \"Shapley Value\": 0.8252891339361668}, {\"Coalition\": \"Sum of contribution of events \\u2264 t\", \"t (event index)\": -132, \"Shapley Value\": 0.0}, {\"Coalition\": \"Sum of contribution of events > t\", \"t (event index)\": -133, \"Shapley Value\": 0.8252891339361668}, {\"Coalition\": \"Sum of contribution of events \\u2264 t\", \"t (event index)\": -133, \"Shapley Value\": 0.0}, {\"Coalition\": \"Sum of contribution of events > t\", \"t (event index)\": -134, \"Shapley Value\": 0.8252891339361668}, {\"Coalition\": \"Sum of contribution of events \\u2264 t\", \"t (event index)\": -134, \"Shapley Value\": 0.0}, {\"Coalition\": \"Sum of contribution of events > t\", \"t (event index)\": -135, \"Shapley Value\": 0.8252891339361668}, {\"Coalition\": \"Sum of contribution of events \\u2264 t\", \"t (event index)\": -135, \"Shapley Value\": 0.0}, {\"Coalition\": \"Sum of contribution of events > t\", \"t (event index)\": -136, \"Shapley Value\": 0.8252891339361668}, {\"Coalition\": \"Sum of contribution of events \\u2264 t\", \"t (event index)\": -136, \"Shapley Value\": 0.0}, {\"Coalition\": \"Sum of contribution of events > t\", \"t (event index)\": -137, \"Shapley Value\": 0.8252891339361668}, {\"Coalition\": \"Sum of contribution of events \\u2264 t\", \"t (event index)\": -137, \"Shapley Value\": 0.0}, {\"Coalition\": \"Sum of contribution of events > t\", \"t (event index)\": -138, \"Shapley Value\": 0.8252891339361668}, {\"Coalition\": \"Sum of contribution of events \\u2264 t\", \"t (event index)\": -138, \"Shapley Value\": 0.0}, {\"Coalition\": \"Sum of contribution of events > t\", \"t (event index)\": -139, \"Shapley Value\": 0.8252891339361668}, {\"Coalition\": \"Sum of contribution of events \\u2264 t\", \"t (event index)\": -139, \"Shapley Value\": 0.0}, {\"Coalition\": \"Sum of contribution of events > t\", \"t (event index)\": -140, \"Shapley Value\": 0.8252891339361668}, {\"Coalition\": \"Sum of contribution of events \\u2264 t\", \"t (event index)\": -140, \"Shapley Value\": 0.0}, {\"Coalition\": \"Sum of contribution of events > t\", \"t (event index)\": -141, \"Shapley Value\": 0.8252891339361668}, {\"Coalition\": \"Sum of contribution of events \\u2264 t\", \"t (event index)\": -141, \"Shapley Value\": 0.0}, {\"Coalition\": \"Sum of contribution of events > t\", \"t (event index)\": -142, \"Shapley Value\": 0.8252891339361668}, {\"Coalition\": \"Sum of contribution of events \\u2264 t\", \"t (event index)\": -142, \"Shapley Value\": 0.0}, {\"Coalition\": \"Sum of contribution of events > t\", \"t (event index)\": -143, \"Shapley Value\": 0.8252891339361668}, {\"Coalition\": \"Sum of contribution of events \\u2264 t\", \"t (event index)\": -143, \"Shapley Value\": 0.0}, {\"Coalition\": \"Sum of contribution of events > t\", \"t (event index)\": -144, \"Shapley Value\": 0.8252891339361668}, {\"Coalition\": \"Sum of contribution of events \\u2264 t\", \"t (event index)\": -144, \"Shapley Value\": 0.0}, {\"Coalition\": \"Sum of contribution of events > t\", \"t (event index)\": -145, \"Shapley Value\": 0.8252891339361668}, {\"Coalition\": \"Sum of contribution of events \\u2264 t\", \"t (event index)\": -145, \"Shapley Value\": 0.0}, {\"Coalition\": \"Sum of contribution of events > t\", \"t (event index)\": -146, \"Shapley Value\": 0.8252891339361668}, {\"Coalition\": \"Sum of contribution of events \\u2264 t\", \"t (event index)\": -146, \"Shapley Value\": 0.0}, {\"Coalition\": \"Sum of contribution of events > t\", \"t (event index)\": -147, \"Shapley Value\": 0.8252891339361668}, {\"Coalition\": \"Sum of contribution of events \\u2264 t\", \"t (event index)\": -147, \"Shapley Value\": 0.0}, {\"Coalition\": \"Sum of contribution of events > t\", \"t (event index)\": -148, \"Shapley Value\": 0.8252891339361668}, {\"Coalition\": \"Sum of contribution of events \\u2264 t\", \"t (event index)\": -148, \"Shapley Value\": 0.0}, {\"Coalition\": \"Sum of contribution of events > t\", \"t (event index)\": -149, \"Shapley Value\": 0.8252891339361668}, {\"Coalition\": \"Sum of contribution of events \\u2264 t\", \"t (event index)\": -149, \"Shapley Value\": 0.0}, {\"Coalition\": \"Sum of contribution of events > t\", \"t (event index)\": -150, \"Shapley Value\": 0.8252891339361668}, {\"Coalition\": \"Sum of contribution of events \\u2264 t\", \"t (event index)\": -150, \"Shapley Value\": 0.0}, {\"Coalition\": \"Sum of contribution of events > t\", \"t (event index)\": -151, \"Shapley Value\": 0.8252891339361668}, {\"Coalition\": \"Sum of contribution of events \\u2264 t\", \"t (event index)\": -151, \"Shapley Value\": 0.0}, {\"Coalition\": \"Sum of contribution of events > t\", \"t (event index)\": -152, \"Shapley Value\": 0.8252891339361668}, {\"Coalition\": \"Sum of contribution of events \\u2264 t\", \"t (event index)\": -152, \"Shapley Value\": 0.0}, {\"Coalition\": \"Sum of contribution of events > t\", \"t (event index)\": -153, \"Shapley Value\": 0.8252891339361668}, {\"Coalition\": \"Sum of contribution of events \\u2264 t\", \"t (event index)\": -153, \"Shapley Value\": 0.0}, {\"Coalition\": \"Sum of contribution of events > t\", \"t (event index)\": -154, \"Shapley Value\": 0.8252891339361668}, {\"Coalition\": \"Sum of contribution of events \\u2264 t\", \"t (event index)\": -154, \"Shapley Value\": 0.0}, {\"Coalition\": \"Sum of contribution of events > t\", \"t (event index)\": -155, \"Shapley Value\": 0.8252891339361668}, {\"Coalition\": \"Sum of contribution of events \\u2264 t\", \"t (event index)\": -155, \"Shapley Value\": 0.0}, {\"Coalition\": \"Sum of contribution of events > t\", \"t (event index)\": -156, \"Shapley Value\": 0.8252891339361668}, {\"Coalition\": \"Sum of contribution of events \\u2264 t\", \"t (event index)\": -156, \"Shapley Value\": 0.0}, {\"Coalition\": \"Sum of contribution of events > t\", \"t (event index)\": -157, \"Shapley Value\": 0.8252891339361668}, {\"Coalition\": \"Sum of contribution of events \\u2264 t\", \"t (event index)\": -157, \"Shapley Value\": 0.0}, {\"Coalition\": \"Sum of contribution of events > t\", \"t (event index)\": -158, \"Shapley Value\": 0.8252891339361668}, {\"Coalition\": \"Sum of contribution of events \\u2264 t\", \"t (event index)\": -158, \"Shapley Value\": 0.0}, {\"Coalition\": \"Sum of contribution of events > t\", \"t (event index)\": -159, \"Shapley Value\": 0.8252891339361668}, {\"Coalition\": \"Sum of contribution of events \\u2264 t\", \"t (event index)\": -159, \"Shapley Value\": 0.0}, {\"Coalition\": \"Sum of contribution of events > t\", \"t (event index)\": -160, \"Shapley Value\": 0.8252891339361668}, {\"Coalition\": \"Sum of contribution of events \\u2264 t\", \"t (event index)\": -160, \"Shapley Value\": 0.0}, {\"Coalition\": \"Sum of contribution of events > t\", \"t (event index)\": -161, \"Shapley Value\": 0.8252891339361668}, {\"Coalition\": \"Sum of contribution of events \\u2264 t\", \"t (event index)\": -161, \"Shapley Value\": 0.0}, {\"Coalition\": \"Sum of contribution of events > t\", \"t (event index)\": -162, \"Shapley Value\": 0.8252891339361668}, {\"Coalition\": \"Sum of contribution of events \\u2264 t\", \"t (event index)\": -162, \"Shapley Value\": 0.0}, {\"Coalition\": \"Sum of contribution of events > t\", \"t (event index)\": -163, \"Shapley Value\": 0.8252891339361668}, {\"Coalition\": \"Sum of contribution of events \\u2264 t\", \"t (event index)\": -163, \"Shapley Value\": 0.0}, {\"Coalition\": \"Sum of contribution of events > t\", \"t (event index)\": -164, \"Shapley Value\": 0.8252891339361668}, {\"Coalition\": \"Sum of contribution of events \\u2264 t\", \"t (event index)\": -164, \"Shapley Value\": 0.0}, {\"Coalition\": \"Sum of contribution of events > t\", \"t (event index)\": -165, \"Shapley Value\": 0.8252891339361668}, {\"Coalition\": \"Sum of contribution of events \\u2264 t\", \"t (event index)\": -165, \"Shapley Value\": 0.0}, {\"Coalition\": \"Sum of contribution of events > t\", \"t (event index)\": -166, \"Shapley Value\": 0.8252891339361668}, {\"Coalition\": \"Sum of contribution of events \\u2264 t\", \"t (event index)\": -166, \"Shapley Value\": 0.0}, {\"Coalition\": \"Sum of contribution of events > t\", \"t (event index)\": -167, \"Shapley Value\": 0.8252891339361668}, {\"Coalition\": \"Sum of contribution of events \\u2264 t\", \"t (event index)\": -167, \"Shapley Value\": 0.0}, {\"Coalition\": \"Sum of contribution of events > t\", \"t (event index)\": -168, \"Shapley Value\": 0.8252891339361668}, {\"Coalition\": \"Sum of contribution of events \\u2264 t\", \"t (event index)\": -168, \"Shapley Value\": 0.0}, {\"Coalition\": \"Sum of contribution of events > t\", \"t (event index)\": -169, \"Shapley Value\": 0.8252891339361668}, {\"Coalition\": \"Sum of contribution of events \\u2264 t\", \"t (event index)\": -169, \"Shapley Value\": 0.0}, {\"Coalition\": \"Sum of contribution of events > t\", \"t (event index)\": -170, \"Shapley Value\": 0.8252891339361668}, {\"Coalition\": \"Sum of contribution of events \\u2264 t\", \"t (event index)\": -170, \"Shapley Value\": 0.0}, {\"Coalition\": \"Sum of contribution of events > t\", \"t (event index)\": -171, \"Shapley Value\": 0.8252891339361668}, {\"Coalition\": \"Sum of contribution of events \\u2264 t\", \"t (event index)\": -171, \"Shapley Value\": 0.0}, {\"Coalition\": \"Sum of contribution of events > t\", \"t (event index)\": -172, \"Shapley Value\": 0.8252891339361668}, {\"Coalition\": \"Sum of contribution of events \\u2264 t\", \"t (event index)\": -172, \"Shapley Value\": 0.0}, {\"Coalition\": \"Sum of contribution of events > t\", \"t (event index)\": -173, \"Shapley Value\": 0.8252891339361668}, {\"Coalition\": \"Sum of contribution of events \\u2264 t\", \"t (event index)\": -173, \"Shapley Value\": 0.0}, {\"Coalition\": \"Sum of contribution of events > t\", \"t (event index)\": -174, \"Shapley Value\": 0.8252891339361668}, {\"Coalition\": \"Sum of contribution of events \\u2264 t\", \"t (event index)\": -174, \"Shapley Value\": 0.0}, {\"Coalition\": \"Sum of contribution of events > t\", \"t (event index)\": -175, \"Shapley Value\": 0.8252891339361668}, {\"Coalition\": \"Sum of contribution of events \\u2264 t\", \"t (event index)\": -175, \"Shapley Value\": 0.0}, {\"Coalition\": \"Sum of contribution of events > t\", \"t (event index)\": -176, \"Shapley Value\": 0.8252891339361668}, {\"Coalition\": \"Sum of contribution of events \\u2264 t\", \"t (event index)\": -176, \"Shapley Value\": 0.0}, {\"Coalition\": \"Sum of contribution of events > t\", \"t (event index)\": -177, \"Shapley Value\": 0.8252891339361668}, {\"Coalition\": \"Sum of contribution of events \\u2264 t\", \"t (event index)\": -177, \"Shapley Value\": 0.0}, {\"Coalition\": \"Sum of contribution of events > t\", \"t (event index)\": -178, \"Shapley Value\": 0.8252891339361668}, {\"Coalition\": \"Sum of contribution of events \\u2264 t\", \"t (event index)\": -178, \"Shapley Value\": 0.0}, {\"Coalition\": \"Sum of contribution of events > t\", \"t (event index)\": -179, \"Shapley Value\": 0.8252891339361668}, {\"Coalition\": \"Sum of contribution of events \\u2264 t\", \"t (event index)\": -179, \"Shapley Value\": 0.0}, {\"Coalition\": \"Sum of contribution of events > t\", \"t (event index)\": -180, \"Shapley Value\": 0.8252891339361668}, {\"Coalition\": \"Sum of contribution of events \\u2264 t\", \"t (event index)\": -180, \"Shapley Value\": 0.0}, {\"Coalition\": \"Sum of contribution of events > t\", \"t (event index)\": -181, \"Shapley Value\": 0.8252891339361668}, {\"Coalition\": \"Sum of contribution of events \\u2264 t\", \"t (event index)\": -181, \"Shapley Value\": 0.0}, {\"Coalition\": \"Sum of contribution of events > t\", \"t (event index)\": -182, \"Shapley Value\": 0.8252891339361668}, {\"Coalition\": \"Sum of contribution of events \\u2264 t\", \"t (event index)\": -182, \"Shapley Value\": 0.0}, {\"Coalition\": \"Sum of contribution of events > t\", \"t (event index)\": -183, \"Shapley Value\": 0.8252891339361668}, {\"Coalition\": \"Sum of contribution of events \\u2264 t\", \"t (event index)\": -183, \"Shapley Value\": 0.0}, {\"Coalition\": \"Sum of contribution of events > t\", \"t (event index)\": -184, \"Shapley Value\": 0.8252891339361668}, {\"Coalition\": \"Sum of contribution of events \\u2264 t\", \"t (event index)\": -184, \"Shapley Value\": 0.0}, {\"Coalition\": \"Sum of contribution of events > t\", \"t (event index)\": -185, \"Shapley Value\": 0.8252891339361668}, {\"Coalition\": \"Sum of contribution of events \\u2264 t\", \"t (event index)\": -185, \"Shapley Value\": 0.0}, {\"Coalition\": \"Sum of contribution of events > t\", \"t (event index)\": -186, \"Shapley Value\": 0.8252891339361668}, {\"Coalition\": \"Sum of contribution of events \\u2264 t\", \"t (event index)\": -186, \"Shapley Value\": 0.0}, {\"Coalition\": \"Sum of contribution of events > t\", \"t (event index)\": -187, \"Shapley Value\": 0.8252891339361668}, {\"Coalition\": \"Sum of contribution of events \\u2264 t\", \"t (event index)\": -187, \"Shapley Value\": 0.0}, {\"Coalition\": \"Sum of contribution of events > t\", \"t (event index)\": -188, \"Shapley Value\": 0.8252891339361668}, {\"Coalition\": \"Sum of contribution of events \\u2264 t\", \"t (event index)\": -188, \"Shapley Value\": 0.0}, {\"Coalition\": \"Sum of contribution of events > t\", \"t (event index)\": -189, \"Shapley Value\": 0.8252891339361668}, {\"Coalition\": \"Sum of contribution of events \\u2264 t\", \"t (event index)\": -189, \"Shapley Value\": 0.0}, {\"Coalition\": \"Sum of contribution of events > t\", \"t (event index)\": -190, \"Shapley Value\": 0.8252891339361668}, {\"Coalition\": \"Sum of contribution of events \\u2264 t\", \"t (event index)\": -190, \"Shapley Value\": 0.0}, {\"Coalition\": \"Sum of contribution of events > t\", \"t (event index)\": -191, \"Shapley Value\": 0.8252891339361668}, {\"Coalition\": \"Sum of contribution of events \\u2264 t\", \"t (event index)\": -191, \"Shapley Value\": 0.0}, {\"Coalition\": \"Sum of contribution of events > t\", \"t (event index)\": -192, \"Shapley Value\": 0.8252891339361668}, {\"Coalition\": \"Sum of contribution of events \\u2264 t\", \"t (event index)\": -192, \"Shapley Value\": 0.0}, {\"Coalition\": \"Sum of contribution of events > t\", \"t (event index)\": -193, \"Shapley Value\": 0.8252891339361668}, {\"Coalition\": \"Sum of contribution of events \\u2264 t\", \"t (event index)\": -193, \"Shapley Value\": 0.0}, {\"Coalition\": \"Sum of contribution of events > t\", \"t (event index)\": -194, \"Shapley Value\": 0.8252891339361668}, {\"Coalition\": \"Sum of contribution of events \\u2264 t\", \"t (event index)\": -194, \"Shapley Value\": 0.0}, {\"Coalition\": \"Sum of contribution of events > t\", \"t (event index)\": -195, \"Shapley Value\": 0.8252891339361668}, {\"Coalition\": \"Sum of contribution of events \\u2264 t\", \"t (event index)\": -195, \"Shapley Value\": 0.0}, {\"Coalition\": \"Sum of contribution of events > t\", \"t (event index)\": -196, \"Shapley Value\": 0.8252891339361668}, {\"Coalition\": \"Sum of contribution of events \\u2264 t\", \"t (event index)\": -196, \"Shapley Value\": 0.0}, {\"Coalition\": \"Sum of contribution of events > t\", \"t (event index)\": -197, \"Shapley Value\": 0.8252891339361668}, {\"Coalition\": \"Sum of contribution of events \\u2264 t\", \"t (event index)\": -197, \"Shapley Value\": 0.0}, {\"Coalition\": \"Sum of contribution of events > t\", \"t (event index)\": -198, \"Shapley Value\": 0.8252891339361668}, {\"Coalition\": \"Sum of contribution of events \\u2264 t\", \"t (event index)\": -198, \"Shapley Value\": 0.0}, {\"Coalition\": \"Sum of contribution of events > t\", \"t (event index)\": -199, \"Shapley Value\": 0.8252891339361668}, {\"Coalition\": \"Sum of contribution of events \\u2264 t\", \"t (event index)\": -199, \"Shapley Value\": 0.0}, {\"Coalition\": \"Sum of contribution of events > t\", \"t (event index)\": -200, \"Shapley Value\": 0.8252891339361668}, {\"Coalition\": \"Sum of contribution of events \\u2264 t\", \"t (event index)\": -200, \"Shapley Value\": 0.0}, {\"Coalition\": \"Sum of contribution of events > t\", \"t (event index)\": -201, \"Shapley Value\": 0.8252891339361668}, {\"Coalition\": \"Sum of contribution of events \\u2264 t\", \"t (event index)\": -201, \"Shapley Value\": 0.0}, {\"Coalition\": \"Sum of contribution of events > t\", \"t (event index)\": -202, \"Shapley Value\": 0.8252891339361668}, {\"Coalition\": \"Sum of contribution of events \\u2264 t\", \"t (event index)\": -202, \"Shapley Value\": 0.0}, {\"Coalition\": \"Sum of contribution of events > t\", \"t (event index)\": -203, \"Shapley Value\": 0.8252891339361668}, {\"Coalition\": \"Sum of contribution of events \\u2264 t\", \"t (event index)\": -203, \"Shapley Value\": 0.0}, {\"Coalition\": \"Sum of contribution of events > t\", \"t (event index)\": -204, \"Shapley Value\": 0.8252891339361668}, {\"Coalition\": \"Sum of contribution of events \\u2264 t\", \"t (event index)\": -204, \"Shapley Value\": 0.0}, {\"Coalition\": \"Sum of contribution of events > t\", \"t (event index)\": -205, \"Shapley Value\": 0.8252891339361668}, {\"Coalition\": \"Sum of contribution of events \\u2264 t\", \"t (event index)\": -205, \"Shapley Value\": 0.0}, {\"Coalition\": \"Sum of contribution of events > t\", \"t (event index)\": -206, \"Shapley Value\": 0.8252891339361668}, {\"Coalition\": \"Sum of contribution of events \\u2264 t\", \"t (event index)\": -206, \"Shapley Value\": 0.0}, {\"Coalition\": \"Sum of contribution of events > t\", \"t (event index)\": -207, \"Shapley Value\": 0.8252891339361668}, {\"Coalition\": \"Sum of contribution of events \\u2264 t\", \"t (event index)\": -207, \"Shapley Value\": 0.0}, {\"Coalition\": \"Sum of contribution of events > t\", \"t (event index)\": -208, \"Shapley Value\": 0.8252891339361668}, {\"Coalition\": \"Sum of contribution of events \\u2264 t\", \"t (event index)\": -208, \"Shapley Value\": 0.0}, {\"Coalition\": \"Sum of contribution of events > t\", \"t (event index)\": -209, \"Shapley Value\": 0.8252891339361668}, {\"Coalition\": \"Sum of contribution of events \\u2264 t\", \"t (event index)\": -209, \"Shapley Value\": 0.0}, {\"Coalition\": \"Sum of contribution of events > t\", \"t (event index)\": -210, \"Shapley Value\": 0.8252891339361668}, {\"Coalition\": \"Sum of contribution of events \\u2264 t\", \"t (event index)\": -210, \"Shapley Value\": 0.0}, {\"Coalition\": \"Sum of contribution of events > t\", \"t (event index)\": -211, \"Shapley Value\": 0.8252891339361668}, {\"Coalition\": \"Sum of contribution of events \\u2264 t\", \"t (event index)\": -211, \"Shapley Value\": 0.0}, {\"Coalition\": \"Sum of contribution of events > t\", \"t (event index)\": -212, \"Shapley Value\": 0.8252891339361668}, {\"Coalition\": \"Sum of contribution of events \\u2264 t\", \"t (event index)\": -212, \"Shapley Value\": 0.0}, {\"Coalition\": \"Sum of contribution of events > t\", \"t (event index)\": -213, \"Shapley Value\": 0.8252891339361668}, {\"Coalition\": \"Sum of contribution of events \\u2264 t\", \"t (event index)\": -213, \"Shapley Value\": 0.0}, {\"Coalition\": \"Sum of contribution of events > t\", \"t (event index)\": -214, \"Shapley Value\": 0.8252891339361668}, {\"Coalition\": \"Sum of contribution of events \\u2264 t\", \"t (event index)\": -214, \"Shapley Value\": 0.0}, {\"Coalition\": \"Sum of contribution of events > t\", \"t (event index)\": -215, \"Shapley Value\": 0.8252891339361668}, {\"Coalition\": \"Sum of contribution of events \\u2264 t\", \"t (event index)\": -215, \"Shapley Value\": 0.0}, {\"Coalition\": \"Sum of contribution of events > t\", \"t (event index)\": -216, \"Shapley Value\": 0.8252891339361668}, {\"Coalition\": \"Sum of contribution of events \\u2264 t\", \"t (event index)\": -216, \"Shapley Value\": 0.0}, {\"Coalition\": \"Sum of contribution of events > t\", \"t (event index)\": -217, \"Shapley Value\": 0.8252891339361668}, {\"Coalition\": \"Sum of contribution of events \\u2264 t\", \"t (event index)\": -217, \"Shapley Value\": 0.0}, {\"Coalition\": \"Sum of contribution of events > t\", \"t (event index)\": -218, \"Shapley Value\": 0.8252891339361668}, {\"Coalition\": \"Sum of contribution of events \\u2264 t\", \"t (event index)\": -218, \"Shapley Value\": 0.0}, {\"Coalition\": \"Sum of contribution of events > t\", \"t (event index)\": -219, \"Shapley Value\": 0.8252891339361668}, {\"Coalition\": \"Sum of contribution of events \\u2264 t\", \"t (event index)\": -219, \"Shapley Value\": 0.0}, {\"Coalition\": \"Sum of contribution of events > t\", \"t (event index)\": -220, \"Shapley Value\": 0.8252891339361668}, {\"Coalition\": \"Sum of contribution of events \\u2264 t\", \"t (event index)\": -220, \"Shapley Value\": 0.0}, {\"Coalition\": \"Sum of contribution of events > t\", \"t (event index)\": -221, \"Shapley Value\": 0.8252891339361668}, {\"Coalition\": \"Sum of contribution of events \\u2264 t\", \"t (event index)\": -221, \"Shapley Value\": 0.0}, {\"Coalition\": \"Sum of contribution of events > t\", \"t (event index)\": -222, \"Shapley Value\": 0.8252891339361668}, {\"Coalition\": \"Sum of contribution of events \\u2264 t\", \"t (event index)\": -222, \"Shapley Value\": 0.0}, {\"Coalition\": \"Sum of contribution of events > t\", \"t (event index)\": -223, \"Shapley Value\": 0.8252891339361668}, {\"Coalition\": \"Sum of contribution of events \\u2264 t\", \"t (event index)\": -223, \"Shapley Value\": 0.0}, {\"Coalition\": \"Sum of contribution of events > t\", \"t (event index)\": -224, \"Shapley Value\": 0.8252891339361668}, {\"Coalition\": \"Sum of contribution of events \\u2264 t\", \"t (event index)\": -224, \"Shapley Value\": 0.0}, {\"Coalition\": \"Sum of contribution of events > t\", \"t (event index)\": -225, \"Shapley Value\": 0.8252891339361668}, {\"Coalition\": \"Sum of contribution of events \\u2264 t\", \"t (event index)\": -225, \"Shapley Value\": 0.0}, {\"Coalition\": \"Sum of contribution of events > t\", \"t (event index)\": -226, \"Shapley Value\": 0.8252891339361668}, {\"Coalition\": \"Sum of contribution of events \\u2264 t\", \"t (event index)\": -226, \"Shapley Value\": 0.0}, {\"Coalition\": \"Sum of contribution of events > t\", \"t (event index)\": -227, \"Shapley Value\": 0.8252891339361668}, {\"Coalition\": \"Sum of contribution of events \\u2264 t\", \"t (event index)\": -227, \"Shapley Value\": 0.0}, {\"Coalition\": \"Sum of contribution of events > t\", \"t (event index)\": -228, \"Shapley Value\": 0.8252891339361668}, {\"Coalition\": \"Sum of contribution of events \\u2264 t\", \"t (event index)\": -228, \"Shapley Value\": 0.0}, {\"Coalition\": \"Sum of contribution of events > t\", \"t (event index)\": -229, \"Shapley Value\": 0.8252891339361668}, {\"Coalition\": \"Sum of contribution of events \\u2264 t\", \"t (event index)\": -229, \"Shapley Value\": 0.0}, {\"Coalition\": \"Sum of contribution of events > t\", \"t (event index)\": -230, \"Shapley Value\": 0.8252891339361668}, {\"Coalition\": \"Sum of contribution of events \\u2264 t\", \"t (event index)\": -230, \"Shapley Value\": 0.0}, {\"Coalition\": \"Sum of contribution of events > t\", \"t (event index)\": -231, \"Shapley Value\": 0.8252891339361668}, {\"Coalition\": \"Sum of contribution of events \\u2264 t\", \"t (event index)\": -231, \"Shapley Value\": 0.0}, {\"Coalition\": \"Sum of contribution of events > t\", \"t (event index)\": -232, \"Shapley Value\": 0.8252891339361668}, {\"Coalition\": \"Sum of contribution of events \\u2264 t\", \"t (event index)\": -232, \"Shapley Value\": 0.0}, {\"Coalition\": \"Sum of contribution of events > t\", \"t (event index)\": -233, \"Shapley Value\": 0.8252891339361668}, {\"Coalition\": \"Sum of contribution of events \\u2264 t\", \"t (event index)\": -233, \"Shapley Value\": 0.0}, {\"Coalition\": \"Sum of contribution of events > t\", \"t (event index)\": -234, \"Shapley Value\": 0.8252891339361668}, {\"Coalition\": \"Sum of contribution of events \\u2264 t\", \"t (event index)\": -234, \"Shapley Value\": 0.0}, {\"Coalition\": \"Sum of contribution of events > t\", \"t (event index)\": -235, \"Shapley Value\": 0.8252891339361668}, {\"Coalition\": \"Sum of contribution of events \\u2264 t\", \"t (event index)\": -235, \"Shapley Value\": 0.0}, {\"Coalition\": \"Sum of contribution of events > t\", \"t (event index)\": -236, \"Shapley Value\": 0.8252891339361668}, {\"Coalition\": \"Sum of contribution of events \\u2264 t\", \"t (event index)\": -236, \"Shapley Value\": 0.0}, {\"Coalition\": \"Sum of contribution of events > t\", \"t (event index)\": -237, \"Shapley Value\": 0.8252891339361668}, {\"Coalition\": \"Sum of contribution of events \\u2264 t\", \"t (event index)\": -237, \"Shapley Value\": 0.0}, {\"Coalition\": \"Sum of contribution of events > t\", \"t (event index)\": -238, \"Shapley Value\": 0.8252891339361668}, {\"Coalition\": \"Sum of contribution of events \\u2264 t\", \"t (event index)\": -238, \"Shapley Value\": 0.0}, {\"Coalition\": \"Sum of contribution of events > t\", \"t (event index)\": -239, \"Shapley Value\": 0.8252891339361668}, {\"Coalition\": \"Sum of contribution of events \\u2264 t\", \"t (event index)\": -239, \"Shapley Value\": 0.0}, {\"Coalition\": \"Sum of contribution of events > t\", \"t (event index)\": -240, \"Shapley Value\": 0.8252891339361668}, {\"Coalition\": \"Sum of contribution of events \\u2264 t\", \"t (event index)\": -240, \"Shapley Value\": 0.0}, {\"Coalition\": \"Sum of contribution of events > t\", \"t (event index)\": -241, \"Shapley Value\": 0.8252891339361668}, {\"Coalition\": \"Sum of contribution of events \\u2264 t\", \"t (event index)\": -241, \"Shapley Value\": 0.0}, {\"Coalition\": \"Sum of contribution of events > t\", \"t (event index)\": -242, \"Shapley Value\": 0.8252891339361668}, {\"Coalition\": \"Sum of contribution of events \\u2264 t\", \"t (event index)\": -242, \"Shapley Value\": 0.0}, {\"Coalition\": \"Sum of contribution of events > t\", \"t (event index)\": -243, \"Shapley Value\": 0.8252891339361668}, {\"Coalition\": \"Sum of contribution of events \\u2264 t\", \"t (event index)\": -243, \"Shapley Value\": 0.0}, {\"Coalition\": \"Sum of contribution of events > t\", \"t (event index)\": -244, \"Shapley Value\": 0.8252891339361668}, {\"Coalition\": \"Sum of contribution of events \\u2264 t\", \"t (event index)\": -244, \"Shapley Value\": 0.0}, {\"Coalition\": \"Sum of contribution of events > t\", \"t (event index)\": -245, \"Shapley Value\": 0.8252891339361668}, {\"Coalition\": \"Sum of contribution of events \\u2264 t\", \"t (event index)\": -245, \"Shapley Value\": 0.0}, {\"Coalition\": \"Sum of contribution of events > t\", \"t (event index)\": -246, \"Shapley Value\": 0.8252891339361668}, {\"Coalition\": \"Sum of contribution of events \\u2264 t\", \"t (event index)\": -246, \"Shapley Value\": 0.0}, {\"Coalition\": \"Sum of contribution of events > t\", \"t (event index)\": -247, \"Shapley Value\": 0.8252891339361668}, {\"Coalition\": \"Sum of contribution of events \\u2264 t\", \"t (event index)\": -247, \"Shapley Value\": 0.0}, {\"Coalition\": \"Sum of contribution of events > t\", \"t (event index)\": -248, \"Shapley Value\": 0.8252891339361668}, {\"Coalition\": \"Sum of contribution of events \\u2264 t\", \"t (event index)\": -248, \"Shapley Value\": 0.0}, {\"Coalition\": \"Sum of contribution of events > t\", \"t (event index)\": -249, \"Shapley Value\": 0.8252891339361668}, {\"Coalition\": \"Sum of contribution of events \\u2264 t\", \"t (event index)\": -249, \"Shapley Value\": 0.0}, {\"Coalition\": \"Sum of contribution of events > t\", \"t (event index)\": -250, \"Shapley Value\": 0.8252891339361668}, {\"Coalition\": \"Sum of contribution of events \\u2264 t\", \"t (event index)\": -250, \"Shapley Value\": 0.0}, {\"Coalition\": \"Sum of contribution of events > t\", \"t (event index)\": -251, \"Shapley Value\": 0.8252891339361668}, {\"Coalition\": \"Sum of contribution of events \\u2264 t\", \"t (event index)\": -251, \"Shapley Value\": 0.0}, {\"Coalition\": \"Sum of contribution of events > t\", \"t (event index)\": -252, \"Shapley Value\": 0.8252891339361668}, {\"Coalition\": \"Sum of contribution of events \\u2264 t\", \"t (event index)\": -252, \"Shapley Value\": 0.0}, {\"Coalition\": \"Sum of contribution of events > t\", \"t (event index)\": -253, \"Shapley Value\": 0.8252891339361668}, {\"Coalition\": \"Sum of contribution of events \\u2264 t\", \"t (event index)\": -253, \"Shapley Value\": 0.0}, {\"Coalition\": \"Sum of contribution of events > t\", \"t (event index)\": -254, \"Shapley Value\": 0.8252891339361668}, {\"Coalition\": \"Sum of contribution of events \\u2264 t\", \"t (event index)\": -254, \"Shapley Value\": 0.0}, {\"Coalition\": \"Sum of contribution of events > t\", \"t (event index)\": -255, \"Shapley Value\": 0.8252891339361668}, {\"Coalition\": \"Sum of contribution of events \\u2264 t\", \"t (event index)\": -255, \"Shapley Value\": 0.0}, {\"Coalition\": \"Sum of contribution of events > t\", \"t (event index)\": -256, \"Shapley Value\": 0.8252891339361668}, {\"Coalition\": \"Sum of contribution of events \\u2264 t\", \"t (event index)\": -256, \"Shapley Value\": 0.0}, {\"Coalition\": \"Sum of contribution of events > t\", \"t (event index)\": -257, \"Shapley Value\": 0.8252891339361668}, {\"Coalition\": \"Sum of contribution of events \\u2264 t\", \"t (event index)\": -257, \"Shapley Value\": 0.0}, {\"Coalition\": \"Sum of contribution of events > t\", \"t (event index)\": -258, \"Shapley Value\": 0.8252891339361668}, {\"Coalition\": \"Sum of contribution of events \\u2264 t\", \"t (event index)\": -258, \"Shapley Value\": 0.0}, {\"Coalition\": \"Sum of contribution of events > t\", \"t (event index)\": -259, \"Shapley Value\": 0.8252891339361668}, {\"Coalition\": \"Sum of contribution of events \\u2264 t\", \"t (event index)\": -259, \"Shapley Value\": 0.0}, {\"Coalition\": \"Sum of contribution of events > t\", \"t (event index)\": -260, \"Shapley Value\": 0.8252891339361668}, {\"Coalition\": \"Sum of contribution of events \\u2264 t\", \"t (event index)\": -260, \"Shapley Value\": 0.0}, {\"Coalition\": \"Sum of contribution of events > t\", \"t (event index)\": -261, \"Shapley Value\": 0.8252891339361668}, {\"Coalition\": \"Sum of contribution of events \\u2264 t\", \"t (event index)\": -261, \"Shapley Value\": 0.0}, {\"Coalition\": \"Sum of contribution of events > t\", \"t (event index)\": -262, \"Shapley Value\": 0.8252891339361668}, {\"Coalition\": \"Sum of contribution of events \\u2264 t\", \"t (event index)\": -262, \"Shapley Value\": 0.0}, {\"Coalition\": \"Sum of contribution of events > t\", \"t (event index)\": -263, \"Shapley Value\": 0.8252891339361668}, {\"Coalition\": \"Sum of contribution of events \\u2264 t\", \"t (event index)\": -263, \"Shapley Value\": 0.0}, {\"Coalition\": \"Sum of contribution of events > t\", \"t (event index)\": -264, \"Shapley Value\": 0.8252891339361668}, {\"Coalition\": \"Sum of contribution of events \\u2264 t\", \"t (event index)\": -264, \"Shapley Value\": 0.0}, {\"Coalition\": \"Sum of contribution of events > t\", \"t (event index)\": -265, \"Shapley Value\": 0.8252891339361668}, {\"Coalition\": \"Sum of contribution of events \\u2264 t\", \"t (event index)\": -265, \"Shapley Value\": 0.0}, {\"Coalition\": \"Sum of contribution of events > t\", \"t (event index)\": -266, \"Shapley Value\": 0.8252891339361668}, {\"Coalition\": \"Sum of contribution of events \\u2264 t\", \"t (event index)\": -266, \"Shapley Value\": 0.0}, {\"Coalition\": \"Sum of contribution of events > t\", \"t (event index)\": -267, \"Shapley Value\": 0.8252891339361668}, {\"Coalition\": \"Sum of contribution of events \\u2264 t\", \"t (event index)\": -267, \"Shapley Value\": 0.0}, {\"Coalition\": \"Sum of contribution of events > t\", \"t (event index)\": -268, \"Shapley Value\": 0.8252891339361668}, {\"Coalition\": \"Sum of contribution of events \\u2264 t\", \"t (event index)\": -268, \"Shapley Value\": 0.0}, {\"Coalition\": \"Sum of contribution of events > t\", \"t (event index)\": -269, \"Shapley Value\": 0.8252891339361668}, {\"Coalition\": \"Sum of contribution of events \\u2264 t\", \"t (event index)\": -269, \"Shapley Value\": 0.0}, {\"Coalition\": \"Sum of contribution of events > t\", \"t (event index)\": -270, \"Shapley Value\": 0.8252891339361668}, {\"Coalition\": \"Sum of contribution of events \\u2264 t\", \"t (event index)\": -270, \"Shapley Value\": 0.0}, {\"Coalition\": \"Sum of contribution of events > t\", \"t (event index)\": -271, \"Shapley Value\": 0.8252891339361668}, {\"Coalition\": \"Sum of contribution of events \\u2264 t\", \"t (event index)\": -271, \"Shapley Value\": 0.0}, {\"Coalition\": \"Sum of contribution of events > t\", \"t (event index)\": -272, \"Shapley Value\": 0.8252891339361668}, {\"Coalition\": \"Sum of contribution of events \\u2264 t\", \"t (event index)\": -272, \"Shapley Value\": 0.0}, {\"Coalition\": \"Sum of contribution of events > t\", \"t (event index)\": -273, \"Shapley Value\": 0.8252891339361668}, {\"Coalition\": \"Sum of contribution of events \\u2264 t\", \"t (event index)\": -273, \"Shapley Value\": 0.0}, {\"Coalition\": \"Sum of contribution of events > t\", \"t (event index)\": -274, \"Shapley Value\": 0.8252891339361668}, {\"Coalition\": \"Sum of contribution of events \\u2264 t\", \"t (event index)\": -274, \"Shapley Value\": 0.0}, {\"Coalition\": \"Sum of contribution of events > t\", \"t (event index)\": -275, \"Shapley Value\": 0.8252891339361668}, {\"Coalition\": \"Sum of contribution of events \\u2264 t\", \"t (event index)\": -275, \"Shapley Value\": 0.0}, {\"Coalition\": \"Sum of contribution of events > t\", \"t (event index)\": -276, \"Shapley Value\": 0.8252891339361668}, {\"Coalition\": \"Sum of contribution of events \\u2264 t\", \"t (event index)\": -276, \"Shapley Value\": 0.0}, {\"Coalition\": \"Sum of contribution of events > t\", \"t (event index)\": -277, \"Shapley Value\": 0.8252891339361668}, {\"Coalition\": \"Sum of contribution of events \\u2264 t\", \"t (event index)\": -277, \"Shapley Value\": 0.0}, {\"Coalition\": \"Sum of contribution of events > t\", \"t (event index)\": -278, \"Shapley Value\": 0.8252891339361668}, {\"Coalition\": \"Sum of contribution of events \\u2264 t\", \"t (event index)\": -278, \"Shapley Value\": 0.0}, {\"Coalition\": \"Sum of contribution of events > t\", \"t (event index)\": -279, \"Shapley Value\": 0.8252891339361668}, {\"Coalition\": \"Sum of contribution of events \\u2264 t\", \"t (event index)\": -279, \"Shapley Value\": 0.0}, {\"Coalition\": \"Sum of contribution of events > t\", \"t (event index)\": -280, \"Shapley Value\": 0.8252891339361668}, {\"Coalition\": \"Sum of contribution of events \\u2264 t\", \"t (event index)\": -280, \"Shapley Value\": 0.0}, {\"Coalition\": \"Sum of contribution of events > t\", \"t (event index)\": -281, \"Shapley Value\": 0.8252891339361668}, {\"Coalition\": \"Sum of contribution of events \\u2264 t\", \"t (event index)\": -281, \"Shapley Value\": 0.0}, {\"Coalition\": \"Sum of contribution of events > t\", \"t (event index)\": -282, \"Shapley Value\": 0.8252891339361668}, {\"Coalition\": \"Sum of contribution of events \\u2264 t\", \"t (event index)\": -282, \"Shapley Value\": 0.0}, {\"Coalition\": \"Sum of contribution of events > t\", \"t (event index)\": -283, \"Shapley Value\": 0.8252891339361668}, {\"Coalition\": \"Sum of contribution of events \\u2264 t\", \"t (event index)\": -283, \"Shapley Value\": 0.0}, {\"Coalition\": \"Sum of contribution of events > t\", \"t (event index)\": -284, \"Shapley Value\": 0.8252891339361668}, {\"Coalition\": \"Sum of contribution of events \\u2264 t\", \"t (event index)\": -284, \"Shapley Value\": 0.0}, {\"Coalition\": \"Sum of contribution of events > t\", \"t (event index)\": -285, \"Shapley Value\": 0.8252891339361668}, {\"Coalition\": \"Sum of contribution of events \\u2264 t\", \"t (event index)\": -285, \"Shapley Value\": 0.0}, {\"Coalition\": \"Sum of contribution of events > t\", \"t (event index)\": -286, \"Shapley Value\": 0.8252891339361668}, {\"Coalition\": \"Sum of contribution of events \\u2264 t\", \"t (event index)\": -286, \"Shapley Value\": 0.0}, {\"Coalition\": \"Sum of contribution of events > t\", \"t (event index)\": -287, \"Shapley Value\": 0.8252891339361668}, {\"Coalition\": \"Sum of contribution of events \\u2264 t\", \"t (event index)\": -287, \"Shapley Value\": 0.0}, {\"Coalition\": \"Sum of contribution of events > t\", \"t (event index)\": -288, \"Shapley Value\": 0.8252891339361668}, {\"Coalition\": \"Sum of contribution of events \\u2264 t\", \"t (event index)\": -288, \"Shapley Value\": 0.0}, {\"Coalition\": \"Sum of contribution of events > t\", \"t (event index)\": -289, \"Shapley Value\": 0.8252891339361668}, {\"Coalition\": \"Sum of contribution of events \\u2264 t\", \"t (event index)\": -289, \"Shapley Value\": 0.0}, {\"Coalition\": \"Sum of contribution of events > t\", \"t (event index)\": -290, \"Shapley Value\": 0.8252891339361668}, {\"Coalition\": \"Sum of contribution of events \\u2264 t\", \"t (event index)\": -290, \"Shapley Value\": 0.0}, {\"Coalition\": \"Sum of contribution of events > t\", \"t (event index)\": -291, \"Shapley Value\": 0.8252891339361668}, {\"Coalition\": \"Sum of contribution of events \\u2264 t\", \"t (event index)\": -291, \"Shapley Value\": 0.0}, {\"Coalition\": \"Sum of contribution of events > t\", \"t (event index)\": -292, \"Shapley Value\": 0.8252891339361668}, {\"Coalition\": \"Sum of contribution of events \\u2264 t\", \"t (event index)\": -292, \"Shapley Value\": 0.0}, {\"Coalition\": \"Sum of contribution of events > t\", \"t (event index)\": -293, \"Shapley Value\": 0.8252891339361668}, {\"Coalition\": \"Sum of contribution of events \\u2264 t\", \"t (event index)\": -293, \"Shapley Value\": 0.0}, {\"Coalition\": \"Sum of contribution of events > t\", \"t (event index)\": -294, \"Shapley Value\": 0.8252891339361668}, {\"Coalition\": \"Sum of contribution of events \\u2264 t\", \"t (event index)\": -294, \"Shapley Value\": 0.0}, {\"Coalition\": \"Sum of contribution of events > t\", \"t (event index)\": -295, \"Shapley Value\": 0.8252891339361668}, {\"Coalition\": \"Sum of contribution of events \\u2264 t\", \"t (event index)\": -295, \"Shapley Value\": 0.0}, {\"Coalition\": \"Sum of contribution of events > t\", \"t (event index)\": -296, \"Shapley Value\": 0.8252891339361668}, {\"Coalition\": \"Sum of contribution of events \\u2264 t\", \"t (event index)\": -296, \"Shapley Value\": 0.0}, {\"Coalition\": \"Sum of contribution of events > t\", \"t (event index)\": -297, \"Shapley Value\": 0.8252891339361668}, {\"Coalition\": \"Sum of contribution of events \\u2264 t\", \"t (event index)\": -297, \"Shapley Value\": 0.0}, {\"Coalition\": \"Sum of contribution of events > t\", \"t (event index)\": -298, \"Shapley Value\": 0.8252891339361668}, {\"Coalition\": \"Sum of contribution of events \\u2264 t\", \"t (event index)\": -298, \"Shapley Value\": 0.0}, {\"Coalition\": \"Sum of contribution of events > t\", \"t (event index)\": -299, \"Shapley Value\": 0.8252891339361668}, {\"Coalition\": \"Sum of contribution of events \\u2264 t\", \"t (event index)\": -299, \"Shapley Value\": 0.0}, {\"Coalition\": \"Sum of contribution of events > t\", \"t (event index)\": -300, \"Shapley Value\": 0.8252891339361668}, {\"Coalition\": \"Sum of contribution of events \\u2264 t\", \"t (event index)\": -300, \"Shapley Value\": 0.0}, {\"Coalition\": \"Sum of contribution of events > t\", \"t (event index)\": -301, \"Shapley Value\": 0.8252891339361668}, {\"Coalition\": \"Sum of contribution of events \\u2264 t\", \"t (event index)\": -301, \"Shapley Value\": 0.0}, {\"Coalition\": \"Sum of contribution of events > t\", \"t (event index)\": -302, \"Shapley Value\": 0.8252891339361668}, {\"Coalition\": \"Sum of contribution of events \\u2264 t\", \"t (event index)\": -302, \"Shapley Value\": 0.0}, {\"Coalition\": \"Sum of contribution of events > t\", \"t (event index)\": -303, \"Shapley Value\": 0.8252891339361668}, {\"Coalition\": \"Sum of contribution of events \\u2264 t\", \"t (event index)\": -303, \"Shapley Value\": 0.0}, {\"Coalition\": \"Sum of contribution of events > t\", \"t (event index)\": -304, \"Shapley Value\": 0.8252891339361668}, {\"Coalition\": \"Sum of contribution of events \\u2264 t\", \"t (event index)\": -304, \"Shapley Value\": 0.0}, {\"Coalition\": \"Sum of contribution of events > t\", \"t (event index)\": -305, \"Shapley Value\": 0.8252891339361668}, {\"Coalition\": \"Sum of contribution of events \\u2264 t\", \"t (event index)\": -305, \"Shapley Value\": 0.0}, {\"Coalition\": \"Sum of contribution of events > t\", \"t (event index)\": -306, \"Shapley Value\": 0.8252891339361668}, {\"Coalition\": \"Sum of contribution of events \\u2264 t\", \"t (event index)\": -306, \"Shapley Value\": 0.0}, {\"Coalition\": \"Sum of contribution of events > t\", \"t (event index)\": -307, \"Shapley Value\": 0.8252891339361668}, {\"Coalition\": \"Sum of contribution of events \\u2264 t\", \"t (event index)\": -307, \"Shapley Value\": 0.0}, {\"Coalition\": \"Sum of contribution of events > t\", \"t (event index)\": -308, \"Shapley Value\": 0.8252891339361668}, {\"Coalition\": \"Sum of contribution of events \\u2264 t\", \"t (event index)\": -308, \"Shapley Value\": 0.0}, {\"Coalition\": \"Sum of contribution of events > t\", \"t (event index)\": -309, \"Shapley Value\": 0.8252891339361668}, {\"Coalition\": \"Sum of contribution of events \\u2264 t\", \"t (event index)\": -309, \"Shapley Value\": 0.0}, {\"Coalition\": \"Sum of contribution of events > t\", \"t (event index)\": -310, \"Shapley Value\": 0.8252891339361668}, {\"Coalition\": \"Sum of contribution of events \\u2264 t\", \"t (event index)\": -310, \"Shapley Value\": 0.0}, {\"Coalition\": \"Sum of contribution of events > t\", \"t (event index)\": -311, \"Shapley Value\": 0.8252891339361668}, {\"Coalition\": \"Sum of contribution of events \\u2264 t\", \"t (event index)\": -311, \"Shapley Value\": 0.0}, {\"Coalition\": \"Sum of contribution of events > t\", \"t (event index)\": -312, \"Shapley Value\": 0.8252891339361668}, {\"Coalition\": \"Sum of contribution of events \\u2264 t\", \"t (event index)\": -312, \"Shapley Value\": 0.0}, {\"Coalition\": \"Sum of contribution of events > t\", \"t (event index)\": -313, \"Shapley Value\": 0.8252891339361668}, {\"Coalition\": \"Sum of contribution of events \\u2264 t\", \"t (event index)\": -313, \"Shapley Value\": 0.0}, {\"Coalition\": \"Sum of contribution of events > t\", \"t (event index)\": -314, \"Shapley Value\": 0.8252891339361668}, {\"Coalition\": \"Sum of contribution of events \\u2264 t\", \"t (event index)\": -314, \"Shapley Value\": 0.0}, {\"Coalition\": \"Sum of contribution of events > t\", \"t (event index)\": -315, \"Shapley Value\": 0.8252891339361668}, {\"Coalition\": \"Sum of contribution of events \\u2264 t\", \"t (event index)\": -315, \"Shapley Value\": 0.0}, {\"Coalition\": \"Sum of contribution of events > t\", \"t (event index)\": -316, \"Shapley Value\": 0.8252891339361668}, {\"Coalition\": \"Sum of contribution of events \\u2264 t\", \"t (event index)\": -316, \"Shapley Value\": 0.0}, {\"Coalition\": \"Sum of contribution of events > t\", \"t (event index)\": -317, \"Shapley Value\": 0.8252891339361668}, {\"Coalition\": \"Sum of contribution of events \\u2264 t\", \"t (event index)\": -317, \"Shapley Value\": 0.0}, {\"Coalition\": \"Sum of contribution of events > t\", \"t (event index)\": -318, \"Shapley Value\": 0.8252891339361668}, {\"Coalition\": \"Sum of contribution of events \\u2264 t\", \"t (event index)\": -318, \"Shapley Value\": 0.0}, {\"Coalition\": \"Sum of contribution of events > t\", \"t (event index)\": -319, \"Shapley Value\": 0.8252891339361668}, {\"Coalition\": \"Sum of contribution of events \\u2264 t\", \"t (event index)\": -319, \"Shapley Value\": 0.0}, {\"Coalition\": \"Sum of contribution of events > t\", \"t (event index)\": -320, \"Shapley Value\": 0.8252891339361668}, {\"Coalition\": \"Sum of contribution of events \\u2264 t\", \"t (event index)\": -320, \"Shapley Value\": 0.0}, {\"Coalition\": \"Sum of contribution of events > t\", \"t (event index)\": -321, \"Shapley Value\": 0.8252891339361668}, {\"Coalition\": \"Sum of contribution of events \\u2264 t\", \"t (event index)\": -321, \"Shapley Value\": 0.0}, {\"Coalition\": \"Sum of contribution of events > t\", \"t (event index)\": -322, \"Shapley Value\": 0.8252891339361668}, {\"Coalition\": \"Sum of contribution of events \\u2264 t\", \"t (event index)\": -322, \"Shapley Value\": 0.0}, {\"Coalition\": \"Sum of contribution of events > t\", \"t (event index)\": -323, \"Shapley Value\": 0.8252891339361668}, {\"Coalition\": \"Sum of contribution of events \\u2264 t\", \"t (event index)\": -323, \"Shapley Value\": 0.0}, {\"Coalition\": \"Sum of contribution of events > t\", \"t (event index)\": -324, \"Shapley Value\": 0.8252891339361668}, {\"Coalition\": \"Sum of contribution of events \\u2264 t\", \"t (event index)\": -324, \"Shapley Value\": 0.0}, {\"Coalition\": \"Sum of contribution of events > t\", \"t (event index)\": -325, \"Shapley Value\": 0.8252891339361668}, {\"Coalition\": \"Sum of contribution of events \\u2264 t\", \"t (event index)\": -325, \"Shapley Value\": 0.0}, {\"Coalition\": \"Sum of contribution of events > t\", \"t (event index)\": -326, \"Shapley Value\": 0.8252891339361668}, {\"Coalition\": \"Sum of contribution of events \\u2264 t\", \"t (event index)\": -326, \"Shapley Value\": 0.0}, {\"Coalition\": \"Sum of contribution of events > t\", \"t (event index)\": -327, \"Shapley Value\": 0.8252891339361668}, {\"Coalition\": \"Sum of contribution of events \\u2264 t\", \"t (event index)\": -327, \"Shapley Value\": 0.0}, {\"Coalition\": \"Sum of contribution of events > t\", \"t (event index)\": -328, \"Shapley Value\": 0.8252891339361668}, {\"Coalition\": \"Sum of contribution of events \\u2264 t\", \"t (event index)\": -328, \"Shapley Value\": 0.0}, {\"Coalition\": \"Sum of contribution of events > t\", \"t (event index)\": -329, \"Shapley Value\": 0.8252891339361668}, {\"Coalition\": \"Sum of contribution of events \\u2264 t\", \"t (event index)\": -329, \"Shapley Value\": 0.0}, {\"Coalition\": \"Sum of contribution of events > t\", \"t (event index)\": -330, \"Shapley Value\": 0.8252891339361668}, {\"Coalition\": \"Sum of contribution of events \\u2264 t\", \"t (event index)\": -330, \"Shapley Value\": 0.0}, {\"Coalition\": \"Sum of contribution of events > t\", \"t (event index)\": -331, \"Shapley Value\": 0.8252891339361668}, {\"Coalition\": \"Sum of contribution of events \\u2264 t\", \"t (event index)\": -331, \"Shapley Value\": 0.0}, {\"Coalition\": \"Sum of contribution of events > t\", \"t (event index)\": -332, \"Shapley Value\": 0.8252891339361668}, {\"Coalition\": \"Sum of contribution of events \\u2264 t\", \"t (event index)\": -332, \"Shapley Value\": 0.0}, {\"Coalition\": \"Sum of contribution of events > t\", \"t (event index)\": -333, \"Shapley Value\": 0.8252891339361668}, {\"Coalition\": \"Sum of contribution of events \\u2264 t\", \"t (event index)\": -333, \"Shapley Value\": 0.0}, {\"Coalition\": \"Sum of contribution of events > t\", \"t (event index)\": -334, \"Shapley Value\": 0.8252891339361668}, {\"Coalition\": \"Sum of contribution of events \\u2264 t\", \"t (event index)\": -334, \"Shapley Value\": 0.0}, {\"Coalition\": \"Sum of contribution of events > t\", \"t (event index)\": -335, \"Shapley Value\": 0.8252891339361668}, {\"Coalition\": \"Sum of contribution of events \\u2264 t\", \"t (event index)\": -335, \"Shapley Value\": 0.0}, {\"Coalition\": \"Sum of contribution of events > t\", \"t (event index)\": -336, \"Shapley Value\": 0.8252891339361668}, {\"Coalition\": \"Sum of contribution of events \\u2264 t\", \"t (event index)\": -336, \"Shapley Value\": 0.0}, {\"Coalition\": \"Sum of contribution of events > t\", \"t (event index)\": -337, \"Shapley Value\": 0.8252891339361668}, {\"Coalition\": \"Sum of contribution of events \\u2264 t\", \"t (event index)\": -337, \"Shapley Value\": 0.0}, {\"Coalition\": \"Sum of contribution of events > t\", \"t (event index)\": -338, \"Shapley Value\": 0.8252891339361668}, {\"Coalition\": \"Sum of contribution of events \\u2264 t\", \"t (event index)\": -338, \"Shapley Value\": 0.0}, {\"Coalition\": \"Sum of contribution of events > t\", \"t (event index)\": -339, \"Shapley Value\": 0.8252891339361668}, {\"Coalition\": \"Sum of contribution of events \\u2264 t\", \"t (event index)\": -339, \"Shapley Value\": 0.0}, {\"Coalition\": \"Sum of contribution of events > t\", \"t (event index)\": -340, \"Shapley Value\": 0.8252891339361668}, {\"Coalition\": \"Sum of contribution of events \\u2264 t\", \"t (event index)\": -340, \"Shapley Value\": 0.0}, {\"Coalition\": \"Sum of contribution of events > t\", \"t (event index)\": -341, \"Shapley Value\": 0.8252891339361668}, {\"Coalition\": \"Sum of contribution of events \\u2264 t\", \"t (event index)\": -341, \"Shapley Value\": 0.0}, {\"Coalition\": \"Sum of contribution of events > t\", \"t (event index)\": -342, \"Shapley Value\": 0.8252891339361668}, {\"Coalition\": \"Sum of contribution of events \\u2264 t\", \"t (event index)\": -342, \"Shapley Value\": 0.0}, {\"Coalition\": \"Sum of contribution of events > t\", \"t (event index)\": -343, \"Shapley Value\": 0.8252891339361668}, {\"Coalition\": \"Sum of contribution of events \\u2264 t\", \"t (event index)\": -343, \"Shapley Value\": 0.0}, {\"Coalition\": \"Sum of contribution of events > t\", \"t (event index)\": -344, \"Shapley Value\": 0.8252891339361668}, {\"Coalition\": \"Sum of contribution of events \\u2264 t\", \"t (event index)\": -344, \"Shapley Value\": 0.0}, {\"Coalition\": \"Sum of contribution of events > t\", \"t (event index)\": -345, \"Shapley Value\": 0.8252891339361668}, {\"Coalition\": \"Sum of contribution of events \\u2264 t\", \"t (event index)\": -345, \"Shapley Value\": 0.0}, {\"Coalition\": \"Sum of contribution of events > t\", \"t (event index)\": -346, \"Shapley Value\": 0.8252891339361668}, {\"Coalition\": \"Sum of contribution of events \\u2264 t\", \"t (event index)\": -346, \"Shapley Value\": 0.0}, {\"Coalition\": \"Sum of contribution of events > t\", \"t (event index)\": -347, \"Shapley Value\": 0.8252891339361668}, {\"Coalition\": \"Sum of contribution of events \\u2264 t\", \"t (event index)\": -347, \"Shapley Value\": 0.0}, {\"Coalition\": \"Sum of contribution of events > t\", \"t (event index)\": -348, \"Shapley Value\": 0.8252891339361668}, {\"Coalition\": \"Sum of contribution of events \\u2264 t\", \"t (event index)\": -348, \"Shapley Value\": 0.0}, {\"Coalition\": \"Sum of contribution of events > t\", \"t (event index)\": -349, \"Shapley Value\": 0.8252891339361668}, {\"Coalition\": \"Sum of contribution of events \\u2264 t\", \"t (event index)\": -349, \"Shapley Value\": 0.0}, {\"Coalition\": \"Sum of contribution of events > t\", \"t (event index)\": -350, \"Shapley Value\": 0.8252891339361668}, {\"Coalition\": \"Sum of contribution of events \\u2264 t\", \"t (event index)\": -350, \"Shapley Value\": 0.0}, {\"Coalition\": \"Sum of contribution of events > t\", \"t (event index)\": -351, \"Shapley Value\": 0.8252891339361668}, {\"Coalition\": \"Sum of contribution of events \\u2264 t\", \"t (event index)\": -351, \"Shapley Value\": 0.0}, {\"Coalition\": \"Sum of contribution of events > t\", \"t (event index)\": -352, \"Shapley Value\": 0.8252891339361668}, {\"Coalition\": \"Sum of contribution of events \\u2264 t\", \"t (event index)\": -352, \"Shapley Value\": 0.0}, {\"Coalition\": \"Sum of contribution of events > t\", \"t (event index)\": -353, \"Shapley Value\": 0.8252891339361668}, {\"Coalition\": \"Sum of contribution of events \\u2264 t\", \"t (event index)\": -353, \"Shapley Value\": 0.0}, {\"Coalition\": \"Sum of contribution of events > t\", \"t (event index)\": -354, \"Shapley Value\": 0.8252891339361668}, {\"Coalition\": \"Sum of contribution of events \\u2264 t\", \"t (event index)\": -354, \"Shapley Value\": 0.0}, {\"Coalition\": \"Sum of contribution of events > t\", \"t (event index)\": -355, \"Shapley Value\": 0.8252891339361668}, {\"Coalition\": \"Sum of contribution of events \\u2264 t\", \"t (event index)\": -355, \"Shapley Value\": 0.0}, {\"Coalition\": \"Sum of contribution of events > t\", \"t (event index)\": -356, \"Shapley Value\": 0.8252891339361668}, {\"Coalition\": \"Sum of contribution of events \\u2264 t\", \"t (event index)\": -356, \"Shapley Value\": 0.0}, {\"Coalition\": \"Sum of contribution of events > t\", \"t (event index)\": -357, \"Shapley Value\": 0.8252891339361668}, {\"Coalition\": \"Sum of contribution of events \\u2264 t\", \"t (event index)\": -357, \"Shapley Value\": 0.0}, {\"Coalition\": \"Sum of contribution of events > t\", \"t (event index)\": -358, \"Shapley Value\": 0.8252891339361668}, {\"Coalition\": \"Sum of contribution of events \\u2264 t\", \"t (event index)\": -358, \"Shapley Value\": 0.0}, {\"Coalition\": \"Sum of contribution of events > t\", \"t (event index)\": -359, \"Shapley Value\": 0.8252891339361668}, {\"Coalition\": \"Sum of contribution of events \\u2264 t\", \"t (event index)\": -359, \"Shapley Value\": 0.0}, {\"Coalition\": \"Sum of contribution of events > t\", \"t (event index)\": -360, \"Shapley Value\": 0.8252891339361668}, {\"Coalition\": \"Sum of contribution of events \\u2264 t\", \"t (event index)\": -360, \"Shapley Value\": 0.0}, {\"Coalition\": \"Sum of contribution of events > t\", \"t (event index)\": -361, \"Shapley Value\": 0.8252891339361668}, {\"Coalition\": \"Sum of contribution of events \\u2264 t\", \"t (event index)\": -361, \"Shapley Value\": 0.0}, {\"Coalition\": \"Sum of contribution of events > t\", \"t (event index)\": -362, \"Shapley Value\": 0.8252891339361668}, {\"Coalition\": \"Sum of contribution of events \\u2264 t\", \"t (event index)\": -362, \"Shapley Value\": 0.0}, {\"Coalition\": \"Sum of contribution of events > t\", \"t (event index)\": -363, \"Shapley Value\": 0.8252891339361668}, {\"Coalition\": \"Sum of contribution of events \\u2264 t\", \"t (event index)\": -363, \"Shapley Value\": 0.0}, {\"Coalition\": \"Sum of contribution of events > t\", \"t (event index)\": -364, \"Shapley Value\": 0.8252891339361668}, {\"Coalition\": \"Sum of contribution of events \\u2264 t\", \"t (event index)\": -364, \"Shapley Value\": 0.0}, {\"Coalition\": \"Sum of contribution of events > t\", \"t (event index)\": -365, \"Shapley Value\": 0.8252891339361668}, {\"Coalition\": \"Sum of contribution of events \\u2264 t\", \"t (event index)\": -365, \"Shapley Value\": 0.0}, {\"Coalition\": \"Sum of contribution of events > t\", \"t (event index)\": -366, \"Shapley Value\": 0.8252891339361668}, {\"Coalition\": \"Sum of contribution of events \\u2264 t\", \"t (event index)\": -366, \"Shapley Value\": 0.0}, {\"Coalition\": \"Sum of contribution of events > t\", \"t (event index)\": -367, \"Shapley Value\": 0.8252891339361668}, {\"Coalition\": \"Sum of contribution of events \\u2264 t\", \"t (event index)\": -367, \"Shapley Value\": 0.0}, {\"Coalition\": \"Sum of contribution of events > t\", \"t (event index)\": -368, \"Shapley Value\": 0.8252891339361668}, {\"Coalition\": \"Sum of contribution of events \\u2264 t\", \"t (event index)\": -368, \"Shapley Value\": 0.0}, {\"Coalition\": \"Sum of contribution of events > t\", \"t (event index)\": -369, \"Shapley Value\": 0.8252891339361668}, {\"Coalition\": \"Sum of contribution of events \\u2264 t\", \"t (event index)\": -369, \"Shapley Value\": 0.0}, {\"Coalition\": \"Sum of contribution of events > t\", \"t (event index)\": -370, \"Shapley Value\": 0.8252891339361668}, {\"Coalition\": \"Sum of contribution of events \\u2264 t\", \"t (event index)\": -370, \"Shapley Value\": 0.0}, {\"Coalition\": \"Sum of contribution of events > t\", \"t (event index)\": -371, \"Shapley Value\": 0.8252891339361668}, {\"Coalition\": \"Sum of contribution of events \\u2264 t\", \"t (event index)\": -371, \"Shapley Value\": 0.0}, {\"Coalition\": \"Sum of contribution of events > t\", \"t (event index)\": -372, \"Shapley Value\": 0.8252891339361668}, {\"Coalition\": \"Sum of contribution of events \\u2264 t\", \"t (event index)\": -372, \"Shapley Value\": 0.0}, {\"Coalition\": \"Sum of contribution of events > t\", \"t (event index)\": -373, \"Shapley Value\": 0.8252891339361668}, {\"Coalition\": \"Sum of contribution of events \\u2264 t\", \"t (event index)\": -373, \"Shapley Value\": 0.0}, {\"Coalition\": \"Sum of contribution of events > t\", \"t (event index)\": -374, \"Shapley Value\": 0.8252891339361668}, {\"Coalition\": \"Sum of contribution of events \\u2264 t\", \"t (event index)\": -374, \"Shapley Value\": 0.0}, {\"Coalition\": \"Sum of contribution of events > t\", \"t (event index)\": -375, \"Shapley Value\": 0.8252891339361668}, {\"Coalition\": \"Sum of contribution of events \\u2264 t\", \"t (event index)\": -375, \"Shapley Value\": 0.0}, {\"Coalition\": \"Sum of contribution of events > t\", \"t (event index)\": -376, \"Shapley Value\": 0.8252891339361668}, {\"Coalition\": \"Sum of contribution of events \\u2264 t\", \"t (event index)\": -376, \"Shapley Value\": 0.0}, {\"Coalition\": \"Sum of contribution of events > t\", \"t (event index)\": -377, \"Shapley Value\": 0.8252891339361668}, {\"Coalition\": \"Sum of contribution of events \\u2264 t\", \"t (event index)\": -377, \"Shapley Value\": 0.0}, {\"Coalition\": \"Sum of contribution of events > t\", \"t (event index)\": -378, \"Shapley Value\": 0.8252891339361668}, {\"Coalition\": \"Sum of contribution of events \\u2264 t\", \"t (event index)\": -378, \"Shapley Value\": 0.0}, {\"Coalition\": \"Sum of contribution of events > t\", \"t (event index)\": -379, \"Shapley Value\": 0.8252891339361668}, {\"Coalition\": \"Sum of contribution of events \\u2264 t\", \"t (event index)\": -379, \"Shapley Value\": 0.0}, {\"Coalition\": \"Sum of contribution of events > t\", \"t (event index)\": -380, \"Shapley Value\": 0.8252891339361668}, {\"Coalition\": \"Sum of contribution of events \\u2264 t\", \"t (event index)\": -380, \"Shapley Value\": 0.0}, {\"Coalition\": \"Sum of contribution of events > t\", \"t (event index)\": -381, \"Shapley Value\": 0.8252891339361668}, {\"Coalition\": \"Sum of contribution of events \\u2264 t\", \"t (event index)\": -381, \"Shapley Value\": 0.0}, {\"Coalition\": \"Sum of contribution of events > t\", \"t (event index)\": -382, \"Shapley Value\": 0.8252891339361668}, {\"Coalition\": \"Sum of contribution of events \\u2264 t\", \"t (event index)\": -382, \"Shapley Value\": 0.0}, {\"Coalition\": \"Sum of contribution of events > t\", \"t (event index)\": -383, \"Shapley Value\": 0.8252891339361668}, {\"Coalition\": \"Sum of contribution of events \\u2264 t\", \"t (event index)\": -383, \"Shapley Value\": 0.0}, {\"Coalition\": \"Sum of contribution of events > t\", \"t (event index)\": -384, \"Shapley Value\": 0.8252891339361668}, {\"Coalition\": \"Sum of contribution of events \\u2264 t\", \"t (event index)\": -384, \"Shapley Value\": 0.0}, {\"Coalition\": \"Sum of contribution of events > t\", \"t (event index)\": -385, \"Shapley Value\": 0.8252891339361668}, {\"Coalition\": \"Sum of contribution of events \\u2264 t\", \"t (event index)\": -385, \"Shapley Value\": 0.0}, {\"Coalition\": \"Sum of contribution of events > t\", \"t (event index)\": -386, \"Shapley Value\": 0.8252891339361668}, {\"Coalition\": \"Sum of contribution of events \\u2264 t\", \"t (event index)\": -386, \"Shapley Value\": 0.0}, {\"Coalition\": \"Sum of contribution of events > t\", \"t (event index)\": -387, \"Shapley Value\": 0.8252891339361668}, {\"Coalition\": \"Sum of contribution of events \\u2264 t\", \"t (event index)\": -387, \"Shapley Value\": 0.0}, {\"Coalition\": \"Sum of contribution of events > t\", \"t (event index)\": -388, \"Shapley Value\": 0.8252891339361668}, {\"Coalition\": \"Sum of contribution of events \\u2264 t\", \"t (event index)\": -388, \"Shapley Value\": 0.0}, {\"Coalition\": \"Sum of contribution of events > t\", \"t (event index)\": -389, \"Shapley Value\": 0.8252891339361668}, {\"Coalition\": \"Sum of contribution of events \\u2264 t\", \"t (event index)\": -389, \"Shapley Value\": 0.0}, {\"Coalition\": \"Sum of contribution of events > t\", \"t (event index)\": -390, \"Shapley Value\": 0.8252891339361668}, {\"Coalition\": \"Sum of contribution of events \\u2264 t\", \"t (event index)\": -390, \"Shapley Value\": 0.0}, {\"Coalition\": \"Sum of contribution of events > t\", \"t (event index)\": -391, \"Shapley Value\": 0.8252891339361668}, {\"Coalition\": \"Sum of contribution of events \\u2264 t\", \"t (event index)\": -391, \"Shapley Value\": 0.0}, {\"Coalition\": \"Sum of contribution of events > t\", \"t (event index)\": -392, \"Shapley Value\": 0.8252891339361668}, {\"Coalition\": \"Sum of contribution of events \\u2264 t\", \"t (event index)\": -392, \"Shapley Value\": 0.0}, {\"Coalition\": \"Sum of contribution of events > t\", \"t (event index)\": -393, \"Shapley Value\": 0.8252891339361668}, {\"Coalition\": \"Sum of contribution of events \\u2264 t\", \"t (event index)\": -393, \"Shapley Value\": 0.0}, {\"Coalition\": \"Sum of contribution of events > t\", \"t (event index)\": -394, \"Shapley Value\": 0.8252891339361668}, {\"Coalition\": \"Sum of contribution of events \\u2264 t\", \"t (event index)\": -394, \"Shapley Value\": 0.0}, {\"Coalition\": \"Sum of contribution of events > t\", \"t (event index)\": -395, \"Shapley Value\": 0.8252891339361668}, {\"Coalition\": \"Sum of contribution of events \\u2264 t\", \"t (event index)\": -395, \"Shapley Value\": 0.0}, {\"Coalition\": \"Sum of contribution of events > t\", \"t (event index)\": -396, \"Shapley Value\": 0.8252891339361668}, {\"Coalition\": \"Sum of contribution of events \\u2264 t\", \"t (event index)\": -396, \"Shapley Value\": 0.0}, {\"Coalition\": \"Sum of contribution of events > t\", \"t (event index)\": -397, \"Shapley Value\": 0.8252891339361668}, {\"Coalition\": \"Sum of contribution of events \\u2264 t\", \"t (event index)\": -397, \"Shapley Value\": 0.0}, {\"Coalition\": \"Sum of contribution of events > t\", \"t (event index)\": -398, \"Shapley Value\": 0.8252891339361668}, {\"Coalition\": \"Sum of contribution of events \\u2264 t\", \"t (event index)\": -398, \"Shapley Value\": 0.0}, {\"Coalition\": \"Sum of contribution of events > t\", \"t (event index)\": -399, \"Shapley Value\": 0.8252891339361668}, {\"Coalition\": \"Sum of contribution of events \\u2264 t\", \"t (event index)\": -399, \"Shapley Value\": 0.0}, {\"Coalition\": \"Sum of contribution of events > t\", \"t (event index)\": -400, \"Shapley Value\": 0.8252891339361668}, {\"Coalition\": \"Sum of contribution of events \\u2264 t\", \"t (event index)\": -400, \"Shapley Value\": 0.0}, {\"Coalition\": \"Sum of contribution of events > t\", \"t (event index)\": -401, \"Shapley Value\": 0.8252891339361668}, {\"Coalition\": \"Sum of contribution of events \\u2264 t\", \"t (event index)\": -401, \"Shapley Value\": 0.0}, {\"Coalition\": \"Sum of contribution of events > t\", \"t (event index)\": -402, \"Shapley Value\": 0.8252891339361668}, {\"Coalition\": \"Sum of contribution of events \\u2264 t\", \"t (event index)\": -402, \"Shapley Value\": 0.0}, {\"Coalition\": \"Sum of contribution of events > t\", \"t (event index)\": -403, \"Shapley Value\": 0.8252891339361668}, {\"Coalition\": \"Sum of contribution of events \\u2264 t\", \"t (event index)\": -403, \"Shapley Value\": 0.0}, {\"Coalition\": \"Sum of contribution of events > t\", \"t (event index)\": -404, \"Shapley Value\": 0.8252891339361668}, {\"Coalition\": \"Sum of contribution of events \\u2264 t\", \"t (event index)\": -404, \"Shapley Value\": 0.0}, {\"Coalition\": \"Sum of contribution of events > t\", \"t (event index)\": -405, \"Shapley Value\": 0.8252891339361668}, {\"Coalition\": \"Sum of contribution of events \\u2264 t\", \"t (event index)\": -405, \"Shapley Value\": 0.0}, {\"Coalition\": \"Sum of contribution of events > t\", \"t (event index)\": -406, \"Shapley Value\": 0.8252891339361668}, {\"Coalition\": \"Sum of contribution of events \\u2264 t\", \"t (event index)\": -406, \"Shapley Value\": 0.0}, {\"Coalition\": \"Sum of contribution of events > t\", \"t (event index)\": -407, \"Shapley Value\": 0.8252891339361668}, {\"Coalition\": \"Sum of contribution of events \\u2264 t\", \"t (event index)\": -407, \"Shapley Value\": 0.0}, {\"Coalition\": \"Sum of contribution of events > t\", \"t (event index)\": -408, \"Shapley Value\": 0.8252891339361668}, {\"Coalition\": \"Sum of contribution of events \\u2264 t\", \"t (event index)\": -408, \"Shapley Value\": 0.0}, {\"Coalition\": \"Sum of contribution of events > t\", \"t (event index)\": -409, \"Shapley Value\": 0.8252891339361668}, {\"Coalition\": \"Sum of contribution of events \\u2264 t\", \"t (event index)\": -409, \"Shapley Value\": 0.0}, {\"Coalition\": \"Sum of contribution of events > t\", \"t (event index)\": -410, \"Shapley Value\": 0.8252891339361668}, {\"Coalition\": \"Sum of contribution of events \\u2264 t\", \"t (event index)\": -410, \"Shapley Value\": 0.0}, {\"Coalition\": \"Sum of contribution of events > t\", \"t (event index)\": -411, \"Shapley Value\": 0.8252891339361668}, {\"Coalition\": \"Sum of contribution of events \\u2264 t\", \"t (event index)\": -411, \"Shapley Value\": 0.0}, {\"Coalition\": \"Sum of contribution of events > t\", \"t (event index)\": -412, \"Shapley Value\": 0.8252891339361668}, {\"Coalition\": \"Sum of contribution of events \\u2264 t\", \"t (event index)\": -412, \"Shapley Value\": 0.0}, {\"Coalition\": \"Sum of contribution of events > t\", \"t (event index)\": -413, \"Shapley Value\": 0.8252891339361668}, {\"Coalition\": \"Sum of contribution of events \\u2264 t\", \"t (event index)\": -413, \"Shapley Value\": 0.0}, {\"Coalition\": \"Sum of contribution of events > t\", \"t (event index)\": -414, \"Shapley Value\": 0.8252891339361668}, {\"Coalition\": \"Sum of contribution of events \\u2264 t\", \"t (event index)\": -414, \"Shapley Value\": 0.0}, {\"Coalition\": \"Sum of contribution of events > t\", \"t (event index)\": -415, \"Shapley Value\": 0.8252891339361668}, {\"Coalition\": \"Sum of contribution of events \\u2264 t\", \"t (event index)\": -415, \"Shapley Value\": 0.0}, {\"Coalition\": \"Sum of contribution of events > t\", \"t (event index)\": -416, \"Shapley Value\": 0.8252891339361668}, {\"Coalition\": \"Sum of contribution of events \\u2264 t\", \"t (event index)\": -416, \"Shapley Value\": 0.0}, {\"Coalition\": \"Sum of contribution of events > t\", \"t (event index)\": -417, \"Shapley Value\": 0.8252891339361668}, {\"Coalition\": \"Sum of contribution of events \\u2264 t\", \"t (event index)\": -417, \"Shapley Value\": 0.0}, {\"Coalition\": \"Sum of contribution of events > t\", \"t (event index)\": -418, \"Shapley Value\": 0.8252891339361668}, {\"Coalition\": \"Sum of contribution of events \\u2264 t\", \"t (event index)\": -418, \"Shapley Value\": 0.0}, {\"Coalition\": \"Sum of contribution of events > t\", \"t (event index)\": -419, \"Shapley Value\": 0.8252891339361668}, {\"Coalition\": \"Sum of contribution of events \\u2264 t\", \"t (event index)\": -419, \"Shapley Value\": 0.0}, {\"Coalition\": \"Sum of contribution of events > t\", \"t (event index)\": -420, \"Shapley Value\": 0.8252891339361668}, {\"Coalition\": \"Sum of contribution of events \\u2264 t\", \"t (event index)\": -420, \"Shapley Value\": 0.0}, {\"Coalition\": \"Sum of contribution of events > t\", \"t (event index)\": -421, \"Shapley Value\": 0.8252891339361668}, {\"Coalition\": \"Sum of contribution of events \\u2264 t\", \"t (event index)\": -421, \"Shapley Value\": 0.0}, {\"Coalition\": \"Sum of contribution of events > t\", \"t (event index)\": -422, \"Shapley Value\": 0.8252891339361668}, {\"Coalition\": \"Sum of contribution of events \\u2264 t\", \"t (event index)\": -422, \"Shapley Value\": 0.0}, {\"Coalition\": \"Sum of contribution of events > t\", \"t (event index)\": -423, \"Shapley Value\": 0.8252891339361668}, {\"Coalition\": \"Sum of contribution of events \\u2264 t\", \"t (event index)\": -423, \"Shapley Value\": 0.0}, {\"Coalition\": \"Sum of contribution of events > t\", \"t (event index)\": -424, \"Shapley Value\": 0.8252891339361668}, {\"Coalition\": \"Sum of contribution of events \\u2264 t\", \"t (event index)\": -424, \"Shapley Value\": 0.0}, {\"Coalition\": \"Sum of contribution of events > t\", \"t (event index)\": -425, \"Shapley Value\": 0.8252891339361668}, {\"Coalition\": \"Sum of contribution of events \\u2264 t\", \"t (event index)\": -425, \"Shapley Value\": 0.0}, {\"Coalition\": \"Sum of contribution of events > t\", \"t (event index)\": -426, \"Shapley Value\": 0.8252891339361668}, {\"Coalition\": \"Sum of contribution of events \\u2264 t\", \"t (event index)\": -426, \"Shapley Value\": 0.0}, {\"Coalition\": \"Sum of contribution of events > t\", \"t (event index)\": -427, \"Shapley Value\": 0.8252891339361668}, {\"Coalition\": \"Sum of contribution of events \\u2264 t\", \"t (event index)\": -427, \"Shapley Value\": 0.0}, {\"Coalition\": \"Sum of contribution of events > t\", \"t (event index)\": -428, \"Shapley Value\": 0.8252891339361668}, {\"Coalition\": \"Sum of contribution of events \\u2264 t\", \"t (event index)\": -428, \"Shapley Value\": 0.0}, {\"Coalition\": \"Sum of contribution of events > t\", \"t (event index)\": -429, \"Shapley Value\": 0.8252891339361668}, {\"Coalition\": \"Sum of contribution of events \\u2264 t\", \"t (event index)\": -429, \"Shapley Value\": 0.0}, {\"Coalition\": \"Sum of contribution of events > t\", \"t (event index)\": -430, \"Shapley Value\": 0.8252891339361668}, {\"Coalition\": \"Sum of contribution of events \\u2264 t\", \"t (event index)\": -430, \"Shapley Value\": 0.0}, {\"Coalition\": \"Sum of contribution of events > t\", \"t (event index)\": -431, \"Shapley Value\": 0.8252891339361668}, {\"Coalition\": \"Sum of contribution of events \\u2264 t\", \"t (event index)\": -431, \"Shapley Value\": 0.0}, {\"Coalition\": \"Sum of contribution of events > t\", \"t (event index)\": -432, \"Shapley Value\": 0.8252891339361668}, {\"Coalition\": \"Sum of contribution of events \\u2264 t\", \"t (event index)\": -432, \"Shapley Value\": 0.0}, {\"Coalition\": \"Sum of contribution of events > t\", \"t (event index)\": -433, \"Shapley Value\": 0.8252891339361668}, {\"Coalition\": \"Sum of contribution of events \\u2264 t\", \"t (event index)\": -433, \"Shapley Value\": 0.0}, {\"Coalition\": \"Sum of contribution of events > t\", \"t (event index)\": -434, \"Shapley Value\": 0.8252891339361668}, {\"Coalition\": \"Sum of contribution of events \\u2264 t\", \"t (event index)\": -434, \"Shapley Value\": 0.0}, {\"Coalition\": \"Sum of contribution of events > t\", \"t (event index)\": -435, \"Shapley Value\": 0.8252891339361668}, {\"Coalition\": \"Sum of contribution of events \\u2264 t\", \"t (event index)\": -435, \"Shapley Value\": 0.0}, {\"Coalition\": \"Sum of contribution of events > t\", \"t (event index)\": -436, \"Shapley Value\": 0.8252891339361668}, {\"Coalition\": \"Sum of contribution of events \\u2264 t\", \"t (event index)\": -436, \"Shapley Value\": 0.0}, {\"Coalition\": \"Sum of contribution of events > t\", \"t (event index)\": -437, \"Shapley Value\": 0.8252891339361668}, {\"Coalition\": \"Sum of contribution of events \\u2264 t\", \"t (event index)\": -437, \"Shapley Value\": 0.0}, {\"Coalition\": \"Sum of contribution of events > t\", \"t (event index)\": -438, \"Shapley Value\": 0.8252891339361668}, {\"Coalition\": \"Sum of contribution of events \\u2264 t\", \"t (event index)\": -438, \"Shapley Value\": 0.0}, {\"Coalition\": \"Sum of contribution of events > t\", \"t (event index)\": -439, \"Shapley Value\": 0.8252891339361668}, {\"Coalition\": \"Sum of contribution of events \\u2264 t\", \"t (event index)\": -439, \"Shapley Value\": 0.0}, {\"Coalition\": \"Sum of contribution of events > t\", \"t (event index)\": -440, \"Shapley Value\": 0.8252891339361668}, {\"Coalition\": \"Sum of contribution of events \\u2264 t\", \"t (event index)\": -440, \"Shapley Value\": 0.0}, {\"Coalition\": \"Sum of contribution of events > t\", \"t (event index)\": -441, \"Shapley Value\": 0.8252891339361668}, {\"Coalition\": \"Sum of contribution of events \\u2264 t\", \"t (event index)\": -441, \"Shapley Value\": 0.0}, {\"Coalition\": \"Sum of contribution of events > t\", \"t (event index)\": -442, \"Shapley Value\": 0.8252891339361668}, {\"Coalition\": \"Sum of contribution of events \\u2264 t\", \"t (event index)\": -442, \"Shapley Value\": 0.0}, {\"Coalition\": \"Sum of contribution of events > t\", \"t (event index)\": -443, \"Shapley Value\": 0.8252891339361668}, {\"Coalition\": \"Sum of contribution of events \\u2264 t\", \"t (event index)\": -443, \"Shapley Value\": 0.0}, {\"Coalition\": \"Sum of contribution of events > t\", \"t (event index)\": -444, \"Shapley Value\": 0.8252891339361668}, {\"Coalition\": \"Sum of contribution of events \\u2264 t\", \"t (event index)\": -444, \"Shapley Value\": 0.0}, {\"Coalition\": \"Sum of contribution of events > t\", \"t (event index)\": -445, \"Shapley Value\": 0.8252891339361668}, {\"Coalition\": \"Sum of contribution of events \\u2264 t\", \"t (event index)\": -445, \"Shapley Value\": 0.0}, {\"Coalition\": \"Sum of contribution of events > t\", \"t (event index)\": -446, \"Shapley Value\": 0.8252891339361668}, {\"Coalition\": \"Sum of contribution of events \\u2264 t\", \"t (event index)\": -446, \"Shapley Value\": 0.0}, {\"Coalition\": \"Sum of contribution of events > t\", \"t (event index)\": -447, \"Shapley Value\": 0.8252891339361668}, {\"Coalition\": \"Sum of contribution of events \\u2264 t\", \"t (event index)\": -447, \"Shapley Value\": 0.0}, {\"Coalition\": \"Sum of contribution of events > t\", \"t (event index)\": -448, \"Shapley Value\": 0.8252891339361668}, {\"Coalition\": \"Sum of contribution of events \\u2264 t\", \"t (event index)\": -448, \"Shapley Value\": 0.0}, {\"Coalition\": \"Sum of contribution of events > t\", \"t (event index)\": -449, \"Shapley Value\": 0.8252891339361668}, {\"Coalition\": \"Sum of contribution of events \\u2264 t\", \"t (event index)\": -449, \"Shapley Value\": 0.0}, {\"Coalition\": \"Sum of contribution of events > t\", \"t (event index)\": -450, \"Shapley Value\": 0.8252891339361668}, {\"Coalition\": \"Sum of contribution of events \\u2264 t\", \"t (event index)\": -450, \"Shapley Value\": 0.0}, {\"Coalition\": \"Sum of contribution of events > t\", \"t (event index)\": -451, \"Shapley Value\": 0.8252891339361668}, {\"Coalition\": \"Sum of contribution of events \\u2264 t\", \"t (event index)\": -451, \"Shapley Value\": 0.0}, {\"Coalition\": \"Sum of contribution of events > t\", \"t (event index)\": -452, \"Shapley Value\": 0.8252891339361668}, {\"Coalition\": \"Sum of contribution of events \\u2264 t\", \"t (event index)\": -452, \"Shapley Value\": 0.0}, {\"Coalition\": \"Sum of contribution of events > t\", \"t (event index)\": -453, \"Shapley Value\": 0.8252891339361668}, {\"Coalition\": \"Sum of contribution of events \\u2264 t\", \"t (event index)\": -453, \"Shapley Value\": 0.0}, {\"Coalition\": \"Sum of contribution of events > t\", \"t (event index)\": -454, \"Shapley Value\": 0.8252891339361668}, {\"Coalition\": \"Sum of contribution of events \\u2264 t\", \"t (event index)\": -454, \"Shapley Value\": 0.0}, {\"Coalition\": \"Sum of contribution of events > t\", \"t (event index)\": -455, \"Shapley Value\": 0.8252891339361668}, {\"Coalition\": \"Sum of contribution of events \\u2264 t\", \"t (event index)\": -455, \"Shapley Value\": 0.0}, {\"Coalition\": \"Sum of contribution of events > t\", \"t (event index)\": -456, \"Shapley Value\": 0.8252891339361668}, {\"Coalition\": \"Sum of contribution of events \\u2264 t\", \"t (event index)\": -456, \"Shapley Value\": 0.0}, {\"Coalition\": \"Sum of contribution of events > t\", \"t (event index)\": -457, \"Shapley Value\": 0.8252891339361668}, {\"Coalition\": \"Sum of contribution of events \\u2264 t\", \"t (event index)\": -457, \"Shapley Value\": 0.0}, {\"Coalition\": \"Sum of contribution of events > t\", \"t (event index)\": -458, \"Shapley Value\": 0.8252891339361668}, {\"Coalition\": \"Sum of contribution of events \\u2264 t\", \"t (event index)\": -458, \"Shapley Value\": 0.0}, {\"Coalition\": \"Sum of contribution of events > t\", \"t (event index)\": -459, \"Shapley Value\": 0.8252891339361668}, {\"Coalition\": \"Sum of contribution of events \\u2264 t\", \"t (event index)\": -459, \"Shapley Value\": 0.0}, {\"Coalition\": \"Sum of contribution of events > t\", \"t (event index)\": -460, \"Shapley Value\": 0.8252891339361668}, {\"Coalition\": \"Sum of contribution of events \\u2264 t\", \"t (event index)\": -460, \"Shapley Value\": 0.0}, {\"Coalition\": \"Sum of contribution of events > t\", \"t (event index)\": -461, \"Shapley Value\": 0.8252891339361668}, {\"Coalition\": \"Sum of contribution of events \\u2264 t\", \"t (event index)\": -461, \"Shapley Value\": 0.0}, {\"Coalition\": \"Sum of contribution of events > t\", \"t (event index)\": -462, \"Shapley Value\": 0.8252891339361668}, {\"Coalition\": \"Sum of contribution of events \\u2264 t\", \"t (event index)\": -462, \"Shapley Value\": 0.0}, {\"Coalition\": \"Sum of contribution of events > t\", \"t (event index)\": -463, \"Shapley Value\": 0.8252891339361668}, {\"Coalition\": \"Sum of contribution of events \\u2264 t\", \"t (event index)\": -463, \"Shapley Value\": 0.0}, {\"Coalition\": \"Sum of contribution of events > t\", \"t (event index)\": -464, \"Shapley Value\": 0.8252891339361668}, {\"Coalition\": \"Sum of contribution of events \\u2264 t\", \"t (event index)\": -464, \"Shapley Value\": 0.0}, {\"Coalition\": \"Sum of contribution of events > t\", \"t (event index)\": -465, \"Shapley Value\": 0.8252891339361668}, {\"Coalition\": \"Sum of contribution of events \\u2264 t\", \"t (event index)\": -465, \"Shapley Value\": 0.0}, {\"Coalition\": \"Sum of contribution of events > t\", \"t (event index)\": -466, \"Shapley Value\": 0.8252891339361668}, {\"Coalition\": \"Sum of contribution of events \\u2264 t\", \"t (event index)\": -466, \"Shapley Value\": 0.0}], \"data-a737a7e0ea28edf89e4279c15f3d056f\": [{\"x\": -14}], \"data-e4f3cc544e6eb6f30b6d8b725eecc2f0\": [{\"x\": -16}], \"data-56412b04d5a18b1096de406e9c23d9f9\": [{\"Shapley Value\": 0.08152180673511544, \"Feature\": \"Event -1\", \"row\": 1, \"column\": 1, \"rounded\": 0.082, \"rounded_str\": \"0.082\"}, {\"Shapley Value\": 0.14682432474132806, \"Feature\": \"Event -2\", \"row\": 2, \"column\": 1, \"rounded\": 0.147, \"rounded_str\": \"0.147\"}, {\"Shapley Value\": 0.07044818420011029, \"Feature\": \"Event -3\", \"row\": 3, \"column\": 1, \"rounded\": 0.07, \"rounded_str\": \"0.070\"}, {\"Shapley Value\": 0.020335981385064206, \"Feature\": \"Event -4\", \"row\": 4, \"column\": 1, \"rounded\": 0.02, \"rounded_str\": \"0.020\"}, {\"Shapley Value\": 0.10309206968938756, \"Feature\": \"Event -5\", \"row\": 5, \"column\": 1, \"rounded\": 0.103, \"rounded_str\": \"0.103\"}, {\"Shapley Value\": 0.03271721212519435, \"Feature\": \"Event -6\", \"row\": 6, \"column\": 1, \"rounded\": 0.033, \"rounded_str\": \"0.033\"}, {\"Shapley Value\": 0.08850018473542764, \"Feature\": \"Event -7\", \"row\": 7, \"column\": 1, \"rounded\": 0.089, \"rounded_str\": \"0.089\"}, {\"Shapley Value\": 0.09125865248256804, \"Feature\": \"Event -8\", \"row\": 8, \"column\": 1, \"rounded\": 0.091, \"rounded_str\": \"0.091\"}, {\"Shapley Value\": 0.0397322596295559, \"Feature\": \"Event -9\", \"row\": 9, \"column\": 1, \"rounded\": 0.04, \"rounded_str\": \"0.040\"}, {\"Shapley Value\": 0.01868999364291546, \"Feature\": \"Event -10\", \"row\": 10, \"column\": 1, \"rounded\": 0.019, \"rounded_str\": \"0.019\"}, {\"Shapley Value\": 0.012774680760163803, \"Feature\": \"Event -11\", \"row\": 11, \"column\": 1, \"rounded\": 0.013, \"rounded_str\": \"0.013\"}, {\"Shapley Value\": 0.015270061965346415, \"Feature\": \"Event -12\", \"row\": 12, \"column\": 1, \"rounded\": 0.015, \"rounded_str\": \"0.015\"}, {\"Shapley Value\": 0.019820762052339513, \"Feature\": \"Event -13\", \"row\": 13, \"column\": 1, \"rounded\": 0.02, \"rounded_str\": \"0.020\"}, {\"Shapley Value\": 0.013362578255674717, \"Feature\": \"Event -14\", \"row\": 14, \"column\": 1, \"rounded\": 0.013, \"rounded_str\": \"0.013\"}, {\"Shapley Value\": 0.07094038153597526, \"Feature\": \"Pruned Events\", \"row\": 15, \"column\": 1, \"rounded\": 0.071, \"rounded_str\": \"0.071\"}], \"data-2a27ddc94f3988c3457fa8a1a62221a7\": [{\"Random seed\": 42, \"NSamples\": 32000, \"Feature\": \"Mean Chest <-> Right Ankle\", \"Shapley Value\": -0.002466564301756069, \"sort_col\": 0.002466564301756069}, {\"Random seed\": 42, \"NSamples\": 32000, \"Feature\": \"STD Chest <-> Right Ankle\", \"Shapley Value\": 0.016877168740722592, \"sort_col\": 0.016877168740722592}, {\"Random seed\": 42, \"NSamples\": 32000, \"Feature\": \"Mean Chest <-> Left Ankle\", \"Shapley Value\": 0.1270652814901303, \"sort_col\": 0.1270652814901303}, {\"Random seed\": 42, \"NSamples\": 32000, \"Feature\": \"STD Chest <-> Left Ankle\", \"Shapley Value\": 0.2276627187129283, \"sort_col\": 0.2276627187129283}, {\"Random seed\": 42, \"NSamples\": 32000, \"Feature\": \"Mean Right Ankle <-> Left Ankle\", \"Shapley Value\": 0.3017117456976497, \"sort_col\": 0.3017117456976497}, {\"Random seed\": 42, \"NSamples\": 32000, \"Feature\": \"STD Right Ankle <-> Left Ankle\", \"Shapley Value\": 0.08424761085549282, \"sort_col\": 0.08424761085549282}, {\"Random seed\": 42, \"NSamples\": 32000, \"Feature\": \"Pruned Events\", \"Shapley Value\": 0.07019117274099917, \"sort_col\": 0.07019117274099917}], \"data-9c00aa9dc2b1c1a0b4bf9b34ead12925\": [{\"x\": 0}], \"data-247be927c6a615be8aa0794ac71cddf5\": [{\"Event\": [\"Pruned\", \"Events\"], \"Feature\": \"Other features\", \"rounded\": 0.072, \"rounded_str\": \"0.072\"}], \"data-bf87ec63ca4c17ef12eafd2083a1f706\": [{\"Event\": \"Other Events\", \"Feature\": \"Mean Right Ankle <-> Left Ankle\", \"Shapley Value\": 0.21229081397201854, \"rounded\": 0.212, \"rounded_str\": \"0.212\"}, {\"Event\": \"Other Events\", \"Feature\": \"STD Chest <-> Left Ankle\", \"Shapley Value\": 0.15501944560423575, \"rounded\": 0.155, \"rounded_str\": \"0.155\"}, {\"Event\": \"Other Events\", \"Feature\": \"Mean Chest <-> Left Ankle\", \"Shapley Value\": 0.08480761294698269, \"rounded\": 0.085, \"rounded_str\": \"0.085\"}, {\"Event\": \"Other Events\", \"Feature\": \"Other Features\", \"Shapley Value\": 0.07241465435100347, \"rounded\": 0.072, \"rounded_str\": \"0.072\"}, {\"Event\": \"Event -2\", \"Feature\": \"Mean Right Ankle <-> Left Ankle\", \"Shapley Value\": 0.05237145464789644, \"rounded\": 0.052, \"rounded_str\": \"0.052\"}, {\"Event\": \"Event -2\", \"Feature\": \"STD Chest <-> Left Ankle\", \"Shapley Value\": 0.04703324635822492, \"rounded\": 0.047, \"rounded_str\": \"0.047\"}, {\"Event\": \"Event -5\", \"Feature\": \"Mean Right Ankle <-> Left Ankle\", \"Shapley Value\": 0.03228187626434986, \"rounded\": 0.032, \"rounded_str\": \"0.032\"}, {\"Event\": \"Event -2\", \"Feature\": \"Mean Chest <-> Left Ankle\", \"Shapley Value\": 0.024711666075088567, \"rounded\": 0.025, \"rounded_str\": \"0.025\"}, {\"Event\": \"Event -5\", \"Feature\": \"Other Features\", \"Shapley Value\": 0.023271414463855833, \"rounded\": 0.023, \"rounded_str\": \"0.023\"}, {\"Event\": \"Event -5\", \"Feature\": \"Mean Chest <-> Left Ankle\", \"Shapley Value\": 0.021051820797007903, \"rounded\": 0.021, \"rounded_str\": \"0.021\"}, {\"Event\": \"Event -2\", \"Feature\": \"Other Features\", \"Shapley Value\": 0.014413769950361588, \"rounded\": 0.014, \"rounded_str\": \"0.014\"}, {\"Event\": \"Event -5\", \"Feature\": \"STD Chest <-> Left Ankle\", \"Shapley Value\": 0.013636373953942682, \"rounded\": 0.014, \"rounded_str\": \"0.014\"}]}}, {\"mode\": \"vega-lite\"});\n",
       "</script>"
      ],
      "text/plain": [
       "alt.HConcatChart(...)"
      ]
     },
     "execution_count": 18,
     "metadata": {},
     "output_type": "execute_result"
    }
   ],
   "source": [
    "from timeshap.explainer import local_report\n",
    "pruning_dict = {'tol': 0.025}\n",
    "event_dict = {'rs': 42, 'nsamples': 32000}\n",
    "feature_dict = {'rs': 42, 'nsamples': 32000, 'feature_names': model_features, 'plot_features': plot_feats}\n",
    "cell_dict_2 = {'rs': 42, 'nsamples': 32000, 'feat_threshold': 0.1, 'event_threshold': 0.1}\n",
    "local_report(f_hs, pos_x_data, pruning_dict, event_dict, feature_dict, cell_dict=cell_dict_2, entity_uuid=positive_sequence_id, entity_col='all_id', baseline=average_event)"
   ]
  },
  {
   "cell_type": "markdown",
   "id": "e5495971",
   "metadata": {},
   "source": [
    "## 3.2 Global Explanations"
   ]
  },
  {
   "cell_type": "markdown",
   "id": "64cdc2d4",
   "metadata": {},
   "source": [
    "### Explain all \n",
    "\n",
    "TimeSHAP offers methods to explain all instances and save as CSV.\n",
    "This allows for global explanations and local plots with no calculation delay."
   ]
  },
  {
   "cell_type": "code",
   "execution_count": 19,
   "id": "c6632ec1",
   "metadata": {},
   "outputs": [
    {
     "name": "stdout",
     "output_type": "stream",
     "text": [
      "Calculating pruning algorithms\n",
      "Calculating pruning indexes\n",
      "Calculating event data\n",
      "No path to event data provided. Calculating data\n",
      "No path to event data provided. Calculating data\n",
      "No path to event data provided. Calculating data\n",
      "No path to event data provided. Calculating data\n",
      "No path to event data provided. Calculating data\n",
      "No path to event data provided. Calculating data\n",
      "No path to event data provided. Calculating data\n",
      "No path to event data provided. Calculating data\n",
      "No path to event data provided. Calculating data\n",
      "Calculating global event plot\n",
      "Calculating feat data\n",
      "No path to feature data provided. Calculating data\n",
      "No path to feature data provided. Calculating data\n",
      "No path to feature data provided. Calculating data\n",
      "No path to feature data provided. Calculating data\n",
      "No path to feature data provided. Calculating data\n",
      "No path to feature data provided. Calculating data\n",
      "No path to feature data provided. Calculating data\n",
      "No path to feature data provided. Calculating data\n",
      "No path to feature data provided. Calculating data\n",
      "Calculating global feat plot\n"
     ]
    },
    {
     "data": {
      "text/html": [
       "<div>\n",
       "<style scoped>\n",
       "    .dataframe tbody tr th:only-of-type {\n",
       "        vertical-align: middle;\n",
       "    }\n",
       "\n",
       "    .dataframe tbody tr th {\n",
       "        vertical-align: top;\n",
       "    }\n",
       "\n",
       "    .dataframe thead th {\n",
       "        text-align: right;\n",
       "    }\n",
       "</style>\n",
       "<table border=\"1\" class=\"dataframe\">\n",
       "  <thead>\n",
       "    <tr style=\"text-align: right;\">\n",
       "      <th></th>\n",
       "      <th>Tolerance</th>\n",
       "      <th>Mean</th>\n",
       "      <th>Std</th>\n",
       "    </tr>\n",
       "  </thead>\n",
       "  <tbody>\n",
       "    <tr>\n",
       "      <th>0</th>\n",
       "      <td>0.05</td>\n",
       "      <td>11.666667</td>\n",
       "      <td>5.131601</td>\n",
       "    </tr>\n",
       "    <tr>\n",
       "      <th>1</th>\n",
       "      <td>0.075</td>\n",
       "      <td>9.666667</td>\n",
       "      <td>5.859465</td>\n",
       "    </tr>\n",
       "    <tr>\n",
       "      <th>2</th>\n",
       "      <td>0.076</td>\n",
       "      <td>9.666667</td>\n",
       "      <td>5.859465</td>\n",
       "    </tr>\n",
       "    <tr>\n",
       "      <th>3</th>\n",
       "      <td>No Pruning</td>\n",
       "      <td>480.000000</td>\n",
       "      <td>0.000000</td>\n",
       "    </tr>\n",
       "  </tbody>\n",
       "</table>\n",
       "</div>"
      ],
      "text/plain": [
       "    Tolerance        Mean       Std\n",
       "0        0.05   11.666667  5.131601\n",
       "1       0.075    9.666667  5.859465\n",
       "2       0.076    9.666667  5.859465\n",
       "3  No Pruning  480.000000  0.000000"
      ]
     },
     "execution_count": 19,
     "metadata": {},
     "output_type": "execute_result"
    }
   ],
   "source": [
    "from timeshap import global_report\n",
    "pos_dataset = d_test_normalized[d_test_normalized['label'] == 1]\n",
    "pruning_dict = {'tol': [0.05, 0.075, 0.076], 'path': 'outputs/prun_all.csv'}\n",
    "event_dict = {'path': 'outputs/event_all.csv', 'rs': 42, 'nsamples': 32000}\n",
    "feature_dict = {'path': 'outputs/feature_all.csv', 'rs': 42, 'nsamples': 32000, 'feature_names': model_features, 'plot_features': plot_feats,}\n",
    "prun_stats, global_plot = global_report(f_hs, pos_dataset, pruning_dict, event_dict, feature_dict, sequence_id_feat, time_feat, model_features, baseline=average_event)\n",
    "prun_stats"
   ]
  },
  {
   "cell_type": "code",
   "execution_count": 20,
   "id": "2f85451d",
   "metadata": {},
   "outputs": [
    {
     "data": {
      "text/html": [
       "\n",
       "<div id=\"altair-viz-11b83b6e280b41539167af4ecea6ebaf\"></div>\n",
       "<script type=\"text/javascript\">\n",
       "  (function(spec, embedOpt){\n",
       "    let outputDiv = document.currentScript.previousElementSibling;\n",
       "    if (outputDiv.id !== \"altair-viz-11b83b6e280b41539167af4ecea6ebaf\") {\n",
       "      outputDiv = document.getElementById(\"altair-viz-11b83b6e280b41539167af4ecea6ebaf\");\n",
       "    }\n",
       "    const paths = {\n",
       "      \"vega\": \"https://cdn.jsdelivr.net/npm//vega@5?noext\",\n",
       "      \"vega-lib\": \"https://cdn.jsdelivr.net/npm//vega-lib?noext\",\n",
       "      \"vega-lite\": \"https://cdn.jsdelivr.net/npm//vega-lite@4.8.1?noext\",\n",
       "      \"vega-embed\": \"https://cdn.jsdelivr.net/npm//vega-embed@6?noext\",\n",
       "    };\n",
       "\n",
       "    function loadScript(lib) {\n",
       "      return new Promise(function(resolve, reject) {\n",
       "        var s = document.createElement('script');\n",
       "        s.src = paths[lib];\n",
       "        s.async = true;\n",
       "        s.onload = () => resolve(paths[lib]);\n",
       "        s.onerror = () => reject(`Error loading script: ${paths[lib]}`);\n",
       "        document.getElementsByTagName(\"head\")[0].appendChild(s);\n",
       "      });\n",
       "    }\n",
       "\n",
       "    function showError(err) {\n",
       "      outputDiv.innerHTML = `<div class=\"error\" style=\"color:red;\">${err}</div>`;\n",
       "      throw err;\n",
       "    }\n",
       "\n",
       "    function displayChart(vegaEmbed) {\n",
       "      vegaEmbed(outputDiv, spec, embedOpt)\n",
       "        .catch(err => showError(`Javascript Error: ${err.message}<br>This usually means there's a typo in your chart specification. See the javascript console for the full traceback.`));\n",
       "    }\n",
       "\n",
       "    if(typeof define === \"function\" && define.amd) {\n",
       "      requirejs.config({paths});\n",
       "      require([\"vega-embed\"], displayChart, err => showError(`Error loading script: ${err.message}`));\n",
       "    } else if (typeof vegaEmbed === \"function\") {\n",
       "      displayChart(vegaEmbed);\n",
       "    } else {\n",
       "      loadScript(\"vega\")\n",
       "        .then(() => loadScript(\"vega-lite\"))\n",
       "        .then(() => loadScript(\"vega-embed\"))\n",
       "        .catch(showError)\n",
       "        .then(() => displayChart(vegaEmbed));\n",
       "    }\n",
       "  })({\"config\": {\"axis\": {\"domain\": true, \"domainColor\": \"#798184\", \"grid\": false, \"gridColor\": \"#798184\", \"gridOpacity\": 0.5, \"gridDash\": [3, 5], \"gridWidth\": 0.8, \"gridCap\": \"round\", \"labelPadding\": 3, \"labelFont\": \"Roboto\", \"labelColor\": \"#798184\", \"tickSize\": 5, \"tickColor\": \"#798184\", \"tickOpacity\": 0.5, \"titleColor\": \"#384140\", \"titleFont\": \"Roboto\", \"titleFontSize\": 12}, \"axisBand\": {\"domain\": true, \"ticks\": false, \"labelPadding\": 7}, \"axisY\": {\"domain\": false, \"titleAlign\": \"left\", \"titleAngle\": 0, \"titleX\": -20, \"titleY\": -10}, \"legend\": {\"labelColor\": \"#798184\", \"labelFontSize\": 12, \"symbolSize\": 40, \"titleColor\": \"#384140\", \"titleFontSize\": 12, \"titlePadding\": 10, \"titleFont\": \"Roboto\", \"labelFont\": \"Roboto\"}, \"line\": {\"stroke\": \"#618FE0\", \"strokeWidth\": 2}, \"rule\": {\"stroke\": \"#798184\"}, \"path\": {\"stroke\": \"#618FE0\", \"strokeWidth\": 0.5}, \"rect\": {\"fill\": \"#618FE0\"}, \"point\": {\"filled\": true, \"shape\": \"circle\"}, \"shape\": {\"stroke\": \"#618FE0\"}, \"bar\": {\"fill\": \"#618FE0\", \"stroke\": null}, \"text\": {\"font\": \"Roboto\", \"color\": \"#384140\", \"fontSize\": 12}, \"arc\": {\"stroke\": \"#fff\", \"strokeWidth\": 1}, \"range\": {\"category\": [\"#618FE0\", \"#50D0B0\", \"#E17560\", \"#E8B474\", \"#D889C4\", \"#34A3BC\", \"#A583A4\"], \"ramp\": [\"#001854\", \"#002f72\", \"#04478e\", \"#1e5fab\", \"#4477c5\", \"#6290e1\", \"#7ea9fd\", \"#9ec7ff\", \"#bde4ff\"], \"heatmap\": [\"#001854\", \"#002f72\", \"#04478e\", \"#1e5fab\", \"#4477c5\", \"#6290e1\", \"#7ea9fd\", \"#9ec7ff\", \"#bde4ff\"], \"diverging\": [\"#003b26\", \"#006b52\", \"#1aa082\", \"#55d5b5\", \"#f5f5f5\", \"#ffaa92\", \"#d16f5b\", \"#9e392c\", \"#650200\"]}, \"title\": {\"anchor\": \"start\", \"fontSize\": 20, \"color\": \"#384140\", \"fontWeight\": \"bold\", \"offset\": 20, \"font\": \"Roboto\", \"subtitleColor\": \"#384140\", \"subtitleFontSize\": 16}, \"header\": {\"labelFontSize\": 12, \"titleFontSize\": 16, \"labelColor\": \"#384140\", \"titleColor\": \"#384140\", \"titleFont\": \"Roboto\", \"labelFont\": \"Roboto\"}, \"group\": {\"fill\": \"white\"}, \"background\": \"white\", \"view\": {\"stroke\": \"transparent\", \"continuousHeight\": 300, \"continuousWidth\": 400}}, \"hconcat\": [{\"data\": {\"name\": \"data-5e15456c0f1278a3cf7b6070b024d75d\"}, \"mark\": {\"type\": \"point\", \"stroke\": \"white\", \"strokeWidth\": 0.6}, \"encoding\": {\"color\": {\"type\": \"nominal\", \"field\": \"type\", \"legend\": {\"fillColor\": \"white\", \"orient\": \"top-left\", \"symbolSize\": 50, \"symbolStrokeWidth\": 0, \"title\": null}, \"scale\": {\"domain\": [\"Shapley Value\", \"Mean\"], \"range\": [\"#48caaa\", \"#d76d58\"]}}, \"opacity\": {\"condition\": {\"value\": 1.0, \"test\": \"(datum.type === 'Mean')\"}, \"value\": 0.2}, \"size\": {\"condition\": {\"value\": 70, \"test\": \"(datum.type === 'Mean')\"}, \"value\": 30}, \"x\": {\"type\": \"ordinal\", \"axis\": {\"labelAngle\": 0}, \"field\": \"t (event index)\"}, \"y\": {\"type\": \"quantitative\", \"axis\": {\"grid\": true, \"titleX\": -23}, \"field\": \"Shapley Value\", \"scale\": {\"domain\": [-0.3, 0.9]}, \"title\": \"Shapley Value\"}}, \"height\": 150, \"width\": 360}, {\"data\": {\"name\": \"data-9ab86fdc241d059ec7cd2929f10f2ee6\"}, \"mark\": {\"type\": \"point\", \"stroke\": \"white\", \"strokeWidth\": 0.6}, \"encoding\": {\"color\": {\"type\": \"nominal\", \"field\": \"type\", \"legend\": {\"fillColor\": \"white\", \"orient\": \"bottom-right\", \"symbolSize\": 50, \"symbolStrokeWidth\": 0, \"title\": null}, \"scale\": {\"domain\": [\"Shapley Value\", \"Mean\"], \"range\": [\"#618FE0\", \"#d76d58\"]}}, \"opacity\": {\"condition\": {\"value\": 1.0, \"test\": \"(datum.type === 'Mean')\"}, \"value\": 0.1}, \"size\": {\"condition\": {\"value\": 70, \"test\": \"(datum.type === 'Mean')\"}, \"value\": 30}, \"x\": {\"type\": \"quantitative\", \"axis\": {\"grid\": true, \"title\": \"Shapley Value\"}, \"field\": \"Shapley Value\", \"scale\": {\"domain\": [-0.2, 0.6]}}, \"y\": {\"type\": \"ordinal\", \"axis\": {\"labelFontSize\": 13, \"titleX\": -51}, \"field\": \"Feature\", \"sort\": [\"Mean Right Ankle <-> Left Ankle\", \"STD Chest <-> Left Ankle\", \"STD Right Ankle <-> Left Ankle\", \"Mean Chest <-> Left Ankle\", \"Pruned Events\", \"STD Chest <-> Right Ankle\", \"Mean Chest <-> Right Ankle\"]}}, \"height\": 280, \"width\": 288}], \"resolve\": {\"scale\": {\"color\": \"independent\"}}, \"$schema\": \"https://vega.github.io/schema/vega-lite/v4.8.1.json\", \"datasets\": {\"data-5e15456c0f1278a3cf7b6070b024d75d\": [{\"Shapley Value\": 0.0805140938815257, \"t (event index)\": 0, \"type\": \"Shapley Value\"}, {\"Shapley Value\": 0.1496628531042236, \"t (event index)\": -1, \"type\": \"Shapley Value\"}, {\"Shapley Value\": 0.0704011757067913, \"t (event index)\": -2, \"type\": \"Shapley Value\"}, {\"Shapley Value\": 0.0192588659776055, \"t (event index)\": -3, \"type\": \"Shapley Value\"}, {\"Shapley Value\": 0.1042350960303914, \"t (event index)\": -4, \"type\": \"Shapley Value\"}, {\"Shapley Value\": 0.0325774623308116, \"t (event index)\": -5, \"type\": \"Shapley Value\"}, {\"Shapley Value\": 0.0915446476823439, \"t (event index)\": -6, \"type\": \"Shapley Value\"}, {\"Shapley Value\": 0.0923362024993315, \"t (event index)\": -7, \"type\": \"Shapley Value\"}, {\"Shapley Value\": 0.0384040501813521, \"t (event index)\": -8, \"type\": \"Shapley Value\"}, {\"Shapley Value\": 0.0184696936851673, \"t (event index)\": -9, \"type\": \"Shapley Value\"}, {\"Shapley Value\": 0.0116183604060157, \"t (event index)\": -10, \"type\": \"Shapley Value\"}, {\"Shapley Value\": 0.015235083302945, \"t (event index)\": -11, \"type\": \"Shapley Value\"}, {\"Shapley Value\": 0.0205407609810228, \"t (event index)\": -12, \"type\": \"Shapley Value\"}, {\"Shapley Value\": 0.0137361107211307, \"t (event index)\": -13, \"type\": \"Shapley Value\"}, {\"Shapley Value\": 0.006159782540017, \"t (event index)\": -14, \"type\": \"Shapley Value\"}, {\"Shapley Value\": 0.0098840024007118, \"t (event index)\": -15, \"type\": \"Shapley Value\"}, {\"Shapley Value\": 0.0057957356254347, \"t (event index)\": -16, \"type\": \"Shapley Value\"}, {\"Shapley Value\": 0.0070955926768622, \"t (event index)\": -17, \"type\": \"Shapley Value\"}, {\"Shapley Value\": 0.0038057461611525, \"t (event index)\": -18, \"type\": \"Shapley Value\"}, {\"Shapley Value\": 0.0038747725590123, \"t (event index)\": -19, \"type\": \"Shapley Value\"}, {\"Shapley Value\": 0.0, \"t (event index)\": -20, \"type\": \"Shapley Value\"}, {\"Shapley Value\": 0.0811704082314698, \"t (event index)\": 0, \"type\": \"Shapley Value\"}, {\"Shapley Value\": 0.1462364521506694, \"t (event index)\": -1, \"type\": \"Shapley Value\"}, {\"Shapley Value\": 0.0701071832250516, \"t (event index)\": -2, \"type\": \"Shapley Value\"}, {\"Shapley Value\": 0.0201527313226986, \"t (event index)\": -3, \"type\": \"Shapley Value\"}, {\"Shapley Value\": 0.1026214223170164, \"t (event index)\": -4, \"type\": \"Shapley Value\"}, {\"Shapley Value\": 0.0326110701489371, \"t (event index)\": -5, \"type\": \"Shapley Value\"}, {\"Shapley Value\": 0.0880153813094777, \"t (event index)\": -6, \"type\": \"Shapley Value\"}, {\"Shapley Value\": 0.0904237983612942, \"t (event index)\": -7, \"type\": \"Shapley Value\"}, {\"Shapley Value\": 0.039332746932567, \"t (event index)\": -8, \"type\": \"Shapley Value\"}, {\"Shapley Value\": 0.0184618506969234, \"t (event index)\": -9, \"type\": \"Shapley Value\"}, {\"Shapley Value\": 0.0120852021799019, \"t (event index)\": -10, \"type\": \"Shapley Value\"}, {\"Shapley Value\": 0.014635649457383, \"t (event index)\": -11, \"type\": \"Shapley Value\"}, {\"Shapley Value\": 0.0182974376373544, \"t (event index)\": -12, \"type\": \"Shapley Value\"}, {\"Shapley Value\": 0.0807858335321816, \"t (event index)\": 0, \"type\": \"Shapley Value\"}, {\"Shapley Value\": 0.1455583305766613, \"t (event index)\": -1, \"type\": \"Shapley Value\"}, {\"Shapley Value\": 0.0697540076823685, \"t (event index)\": -2, \"type\": \"Shapley Value\"}, {\"Shapley Value\": 0.0200668369376764, \"t (event index)\": -3, \"type\": \"Shapley Value\"}, {\"Shapley Value\": 0.1018574960639903, \"t (event index)\": -4, \"type\": \"Shapley Value\"}, {\"Shapley Value\": 0.0324123238123884, \"t (event index)\": -5, \"type\": \"Shapley Value\"}, {\"Shapley Value\": 0.0869454335877478, \"t (event index)\": -6, \"type\": \"Shapley Value\"}, {\"Shapley Value\": 0.0890055520377922, \"t (event index)\": -7, \"type\": \"Shapley Value\"}, {\"Shapley Value\": 0.0385729827383807, \"t (event index)\": -8, \"type\": \"Shapley Value\"}, {\"Shapley Value\": 0.0178386899878398, \"t (event index)\": -9, \"type\": \"Shapley Value\"}, {\"Shapley Value\": 0.0104321025708293, \"t (event index)\": -10, \"type\": \"Shapley Value\"}, {\"Shapley Value\": 0.0135336430997894, \"t (event index)\": -11, \"type\": \"Shapley Value\"}, {\"Shapley Value\": 0.0275663663501872, \"t (event index)\": 0, \"type\": \"Shapley Value\"}, {\"Shapley Value\": 0.0440146478629278, \"t (event index)\": -1, \"type\": \"Shapley Value\"}, {\"Shapley Value\": 0.0389113337269691, \"t (event index)\": -2, \"type\": \"Shapley Value\"}, {\"Shapley Value\": 0.0409588690895169, \"t (event index)\": -3, \"type\": \"Shapley Value\"}, {\"Shapley Value\": 0.0608538596393717, \"t (event index)\": -4, \"type\": \"Shapley Value\"}, {\"Shapley Value\": 0.0283987422529466, \"t (event index)\": -5, \"type\": \"Shapley Value\"}, {\"Shapley Value\": 0.0216396024142651, \"t (event index)\": -6, \"type\": \"Shapley Value\"}, {\"Shapley Value\": 0.0330273474256951, \"t (event index)\": -7, \"type\": \"Shapley Value\"}, {\"Shapley Value\": 0.0215961419453082, \"t (event index)\": -8, \"type\": \"Shapley Value\"}, {\"Shapley Value\": 0.02217750099229, \"t (event index)\": -9, \"type\": \"Shapley Value\"}, {\"Shapley Value\": 0.0075987830673797, \"t (event index)\": -10, \"type\": \"Shapley Value\"}, {\"Shapley Value\": 0.0068134336597627, \"t (event index)\": -11, \"type\": \"Shapley Value\"}, {\"Shapley Value\": 0.005212398564243, \"t (event index)\": -12, \"type\": \"Shapley Value\"}, {\"Shapley Value\": 0.0037353989773149, \"t (event index)\": -13, \"type\": \"Shapley Value\"}, {\"Shapley Value\": 0.0065227412616895, \"t (event index)\": -14, \"type\": \"Shapley Value\"}, {\"Shapley Value\": 0.0038416823019718, \"t (event index)\": -15, \"type\": \"Shapley Value\"}, {\"Shapley Value\": 0.0011405108573424, \"t (event index)\": -16, \"type\": \"Shapley Value\"}, {\"Shapley Value\": 0.0021716589737078, \"t (event index)\": -17, \"type\": \"Shapley Value\"}, {\"Shapley Value\": 0.0, \"t (event index)\": -18, \"type\": \"Shapley Value\"}, {\"Shapley Value\": 0.0005750241108084, \"t (event index)\": -19, \"type\": \"Shapley Value\"}, {\"Shapley Value\": 0.0019293394269481, \"t (event index)\": -20, \"type\": \"Shapley Value\"}, {\"Shapley Value\": 0.0299946214637439, \"t (event index)\": 0, \"type\": \"Shapley Value\"}, {\"Shapley Value\": 0.0439774893103706, \"t (event index)\": -1, \"type\": \"Shapley Value\"}, {\"Shapley Value\": 0.0407164627488033, \"t (event index)\": -2, \"type\": \"Shapley Value\"}, {\"Shapley Value\": 0.0422999051018072, \"t (event index)\": -3, \"type\": \"Shapley Value\"}, {\"Shapley Value\": 0.0599138917601833, \"t (event index)\": -4, \"type\": \"Shapley Value\"}, {\"Shapley Value\": 0.0271438775613539, \"t (event index)\": -5, \"type\": \"Shapley Value\"}, {\"Shapley Value\": 0.0225176531200202, \"t (event index)\": -6, \"type\": \"Shapley Value\"}, {\"Shapley Value\": 0.0330959081541711, \"t (event index)\": -7, \"type\": \"Shapley Value\"}, {\"Shapley Value\": 0.0219151609455051, \"t (event index)\": -8, \"type\": \"Shapley Value\"}, {\"Shapley Value\": 0.0226081394790322, \"t (event index)\": -9, \"type\": \"Shapley Value\"}, {\"Shapley Value\": 0.0090830270875438, \"t (event index)\": -10, \"type\": \"Shapley Value\"}, {\"Shapley Value\": 0.0082749604669531, \"t (event index)\": -11, \"type\": \"Shapley Value\"}, {\"Shapley Value\": 0.0076292213742542, \"t (event index)\": -12, \"type\": \"Shapley Value\"}, {\"Shapley Value\": 0.005791812756248, \"t (event index)\": -13, \"type\": \"Shapley Value\"}, {\"Shapley Value\": 0.0071995401455868, \"t (event index)\": -14, \"type\": \"Shapley Value\"}, {\"Shapley Value\": 0.0031947529817938, \"t (event index)\": -15, \"type\": \"Shapley Value\"}, {\"Shapley Value\": 0.0299614078646834, \"t (event index)\": 0, \"type\": \"Shapley Value\"}, {\"Shapley Value\": 0.0440426067516925, \"t (event index)\": -1, \"type\": \"Shapley Value\"}, {\"Shapley Value\": 0.0404673653897196, \"t (event index)\": -2, \"type\": \"Shapley Value\"}, {\"Shapley Value\": 0.0421687686414751, \"t (event index)\": -3, \"type\": \"Shapley Value\"}, {\"Shapley Value\": 0.0600301390363346, \"t (event index)\": -4, \"type\": \"Shapley Value\"}, {\"Shapley Value\": 0.027642040682188, \"t (event index)\": -5, \"type\": \"Shapley Value\"}, {\"Shapley Value\": 0.0223153013937664, \"t (event index)\": -6, \"type\": \"Shapley Value\"}, {\"Shapley Value\": 0.0329398993004395, \"t (event index)\": -7, \"type\": \"Shapley Value\"}, {\"Shapley Value\": 0.0216651189148356, \"t (event index)\": -8, \"type\": \"Shapley Value\"}, {\"Shapley Value\": 0.0226720445688947, \"t (event index)\": -9, \"type\": \"Shapley Value\"}, {\"Shapley Value\": 0.0089937203793399, \"t (event index)\": -10, \"type\": \"Shapley Value\"}, {\"Shapley Value\": 0.0078428248141864, \"t (event index)\": -11, \"type\": \"Shapley Value\"}, {\"Shapley Value\": 0.0069869599583283, \"t (event index)\": -12, \"type\": \"Shapley Value\"}, {\"Shapley Value\": 0.0054233955582942, \"t (event index)\": -13, \"type\": \"Shapley Value\"}, {\"Shapley Value\": 0.0096639719545992, \"t (event index)\": 0, \"type\": \"Shapley Value\"}, {\"Shapley Value\": 0.0093274869565825, \"t (event index)\": -1, \"type\": \"Shapley Value\"}, {\"Shapley Value\": 0.0097029991667016, \"t (event index)\": -2, \"type\": \"Shapley Value\"}, {\"Shapley Value\": 0.0126019293937696, \"t (event index)\": -3, \"type\": \"Shapley Value\"}, {\"Shapley Value\": 0.0154256191885657, \"t (event index)\": -4, \"type\": \"Shapley Value\"}, {\"Shapley Value\": 0.0081733249970942, \"t (event index)\": -5, \"type\": \"Shapley Value\"}, {\"Shapley Value\": 0.0028793166475287, \"t (event index)\": -6, \"type\": \"Shapley Value\"}, {\"Shapley Value\": 0.0074403240997564, \"t (event index)\": -7, \"type\": \"Shapley Value\"}, {\"Shapley Value\": 0.0065957548224794, \"t (event index)\": -8, \"type\": \"Shapley Value\"}, {\"Shapley Value\": 0.0053811852785593, \"t (event index)\": -9, \"type\": \"Shapley Value\"}, {\"Shapley Value\": 0.0007912108433526, \"t (event index)\": -10, \"type\": \"Shapley Value\"}, {\"Shapley Value\": 0.0047906314911176, \"t (event index)\": -11, \"type\": \"Shapley Value\"}, {\"Shapley Value\": 0.0016692635434788, \"t (event index)\": -12, \"type\": \"Shapley Value\"}, {\"Shapley Value\": 0.0, \"t (event index)\": -13, \"type\": \"Shapley Value\"}, {\"Shapley Value\": 0.0023932263117238, \"t (event index)\": -14, \"type\": \"Shapley Value\"}, {\"Shapley Value\": 0.0028747151769012, \"t (event index)\": -15, \"type\": \"Shapley Value\"}, {\"Shapley Value\": 0.0, \"t (event index)\": -16, \"type\": \"Shapley Value\"}, {\"Shapley Value\": 0.0003396141146612, \"t (event index)\": -17, \"type\": \"Shapley Value\"}, {\"Shapley Value\": 0.0009733376067453, \"t (event index)\": -18, \"type\": \"Shapley Value\"}, {\"Shapley Value\": 0.0, \"t (event index)\": -19, \"type\": \"Shapley Value\"}, {\"Shapley Value\": 0.0, \"t (event index)\": -20, \"type\": \"Shapley Value\"}, {\"Shapley Value\": 0.011854622978717, \"t (event index)\": 0, \"type\": \"Shapley Value\"}, {\"Shapley Value\": 0.0112269916261236, \"t (event index)\": -1, \"type\": \"Shapley Value\"}, {\"Shapley Value\": 0.0118815739018221, \"t (event index)\": -2, \"type\": \"Shapley Value\"}, {\"Shapley Value\": 0.0162123928156991, \"t (event index)\": -3, \"type\": \"Shapley Value\"}, {\"Shapley Value\": 0.0191522061203916, \"t (event index)\": -4, \"type\": \"Shapley Value\"}, {\"Shapley Value\": 0.0094371940009295, \"t (event index)\": -5, \"type\": \"Shapley Value\"}, {\"Shapley Value\": 0.0166346274005869, \"t (event index)\": 0, \"type\": \"Shapley Value\"}, {\"Shapley Value\": 0.0162953661444286, \"t (event index)\": -1, \"type\": \"Shapley Value\"}, {\"Shapley Value\": 0.0166742716295023, \"t (event index)\": -2, \"type\": \"Shapley Value\"}, {\"Shapley Value\": 0.0006431131423160334, \"t (event index)\": -20, \"type\": \"Mean\"}, {\"Shapley Value\": 0.0014832655566068998, \"t (event index)\": -19, \"type\": \"Mean\"}, {\"Shapley Value\": 0.0015930279226326, \"t (event index)\": -18, \"type\": \"Mean\"}, {\"Shapley Value\": 0.0032022885884104, \"t (event index)\": -17, \"type\": \"Mean\"}, {\"Shapley Value\": 0.0023120821609257003, \"t (event index)\": -16, \"type\": \"Mean\"}, {\"Shapley Value\": 0.00494878821534465, \"t (event index)\": -15, \"type\": \"Mean\"}, {\"Shapley Value\": 0.005568822564754275, \"t (event index)\": -14, \"type\": \"Mean\"}, {\"Shapley Value\": 0.005737343602597559, \"t (event index)\": -13, \"type\": \"Mean\"}, {\"Shapley Value\": 0.01005600700978025, \"t (event index)\": -12, \"type\": \"Mean\"}, {\"Shapley Value\": 0.010160889470305315, \"t (event index)\": -11, \"type\": \"Mean\"}, {\"Shapley Value\": 0.008657486647766128, \"t (event index)\": -10, \"type\": \"Mean\"}, {\"Shapley Value\": 0.01822987209838667, \"t (event index)\": -9, \"type\": \"Mean\"}, {\"Shapley Value\": 0.026868850925775446, \"t (event index)\": -8, \"type\": \"Mean\"}, {\"Shapley Value\": 0.054038433125497144, \"t (event index)\": -7, \"type\": \"Mean\"}, {\"Shapley Value\": 0.047979619450735686, \"t (event index)\": -6, \"type\": \"Mean\"}, {\"Shapley Value\": 0.024799504473331162, \"t (event index)\": -5, \"type\": \"Mean\"}, {\"Shapley Value\": 0.06551121626953063, \"t (event index)\": -4, \"type\": \"Mean\"}, {\"Shapley Value\": 0.02671503741003105, \"t (event index)\": -3, \"type\": \"Mean\"}, {\"Shapley Value\": 0.040957374797525495, \"t (event index)\": -2, \"type\": \"Mean\"}, {\"Shapley Value\": 0.06781580272040888, \"t (event index)\": -1, \"type\": \"Mean\"}, {\"Shapley Value\": 0.04090510596196608, \"t (event index)\": 0, \"type\": \"Mean\"}], \"data-9ab86fdc241d059ec7cd2929f10f2ee6\": [{\"Shapley Value\": -0.0046498820717844, \"Feature\": \"Mean Chest <-> Right Ankle\", \"type\": \"Shapley Value\"}, {\"Shapley Value\": 0.0142526775687226, \"Feature\": \"STD Chest <-> Right Ankle\", \"type\": \"Shapley Value\"}, {\"Shapley Value\": 0.1337440784488407, \"Feature\": \"Mean Chest <-> Left Ankle\", \"type\": \"Shapley Value\"}, {\"Shapley Value\": 0.2549116052465423, \"Feature\": \"STD Chest <-> Left Ankle\", \"type\": \"Shapley Value\"}, {\"Shapley Value\": 0.3405434621897121, \"Feature\": \"Mean Right Ankle <-> Left Ankle\", \"type\": \"Shapley Value\"}, {\"Shapley Value\": 0.0864872094953343, \"Feature\": \"STD Right Ankle <-> Left Ankle\", \"type\": \"Shapley Value\"}, {\"Shapley Value\": -1.6941200886577693e-08, \"Feature\": \"Pruned Events\", \"type\": \"Shapley Value\"}, {\"Shapley Value\": -0.0023378057316653, \"Feature\": \"Mean Chest <-> Right Ankle\", \"type\": \"Shapley Value\"}, {\"Shapley Value\": 0.0168657903027324, \"Feature\": \"STD Chest <-> Right Ankle\", \"type\": \"Shapley Value\"}, {\"Shapley Value\": 0.1239408791153915, \"Feature\": \"Mean Chest <-> Left Ankle\", \"type\": \"Shapley Value\"}, {\"Shapley Value\": 0.2199122707758625, \"Feature\": \"STD Chest <-> Left Ankle\", \"type\": \"Shapley Value\"}, {\"Shapley Value\": 0.2931684123440864, \"Feature\": \"Mean Right Ankle <-> Left Ankle\", \"type\": \"Shapley Value\"}, {\"Shapley Value\": 0.0843251487639333, \"Feature\": \"STD Right Ankle <-> Left Ankle\", \"type\": \"Shapley Value\"}, {\"Shapley Value\": 0.0894144383658257, \"Feature\": \"Pruned Events\", \"type\": \"Shapley Value\"}, {\"Shapley Value\": -0.0021905446025941, \"Feature\": \"Mean Chest <-> Right Ankle\", \"type\": \"Shapley Value\"}, {\"Shapley Value\": 0.0167622418852436, \"Feature\": \"STD Chest <-> Right Ankle\", \"type\": \"Shapley Value\"}, {\"Shapley Value\": 0.1228987247771808, \"Feature\": \"Mean Chest <-> Left Ankle\", \"type\": \"Shapley Value\"}, {\"Shapley Value\": 0.2039213493244629, \"Feature\": \"STD Chest <-> Left Ankle\", \"type\": \"Shapley Value\"}, {\"Shapley Value\": 0.282146165870307, \"Feature\": \"Mean Right Ankle <-> Left Ankle\", \"type\": \"Shapley Value\"}, {\"Shapley Value\": 0.0844718224457686, \"Feature\": \"STD Right Ankle <-> Left Ankle\", \"type\": \"Shapley Value\"}, {\"Shapley Value\": 0.1172793742357978, \"Feature\": \"Pruned Events\", \"type\": \"Shapley Value\"}, {\"Shapley Value\": -0.0231167360075881, \"Feature\": \"Mean Chest <-> Right Ankle\", \"type\": \"Shapley Value\"}, {\"Shapley Value\": 0.0019879143197268, \"Feature\": \"STD Chest <-> Right Ankle\", \"type\": \"Shapley Value\"}, {\"Shapley Value\": 0.1265179669307101, \"Feature\": \"Mean Chest <-> Left Ankle\", \"type\": \"Shapley Value\"}, {\"Shapley Value\": 0.1198316488548048, \"Feature\": \"STD Chest <-> Left Ankle\", \"type\": \"Shapley Value\"}, {\"Shapley Value\": 0.0586066638252563, \"Feature\": \"Mean Right Ankle <-> Left Ankle\", \"type\": \"Shapley Value\"}, {\"Shapley Value\": 0.1266514741017348, \"Feature\": \"STD Right Ankle <-> Left Ankle\", \"type\": \"Shapley Value\"}, {\"Shapley Value\": -8.554862984677669e-09, \"Feature\": \"Pruned Events\", \"type\": \"Shapley Value\"}, {\"Shapley Value\": -0.0207528283908252, \"Feature\": \"Mean Chest <-> Right Ankle\", \"type\": \"Shapley Value\"}, {\"Shapley Value\": 0.0051774706602807, \"Feature\": \"STD Chest <-> Right Ankle\", \"type\": \"Shapley Value\"}, {\"Shapley Value\": 0.1164658137198006, \"Feature\": \"Mean Chest <-> Left Ankle\", \"type\": \"Shapley Value\"}, {\"Shapley Value\": 0.107362897747329, \"Feature\": \"STD Chest <-> Left Ankle\", \"type\": \"Shapley Value\"}, {\"Shapley Value\": 0.0567811145048055, \"Feature\": \"Mean Right Ankle <-> Left Ankle\", \"type\": \"Shapley Value\"}, {\"Shapley Value\": 0.1134210063987188, \"Feature\": \"STD Right Ankle <-> Left Ankle\", \"type\": \"Shapley Value\"}, {\"Shapley Value\": 0.0320234488296722, \"Feature\": \"Pruned Events\", \"type\": \"Shapley Value\"}, {\"Shapley Value\": -0.0198668875687178, \"Feature\": \"Mean Chest <-> Right Ankle\", \"type\": \"Shapley Value\"}, {\"Shapley Value\": 0.0059045382509274, \"Feature\": \"STD Chest <-> Right Ankle\", \"type\": \"Shapley Value\"}, {\"Shapley Value\": 0.112442347815349, \"Feature\": \"Mean Chest <-> Left Ankle\", \"type\": \"Shapley Value\"}, {\"Shapley Value\": 0.1031087442966442, \"Feature\": \"STD Chest <-> Left Ankle\", \"type\": \"Shapley Value\"}, {\"Shapley Value\": 0.0524860921670638, \"Feature\": \"Mean Right Ankle <-> Left Ankle\", \"type\": \"Shapley Value\"}, {\"Shapley Value\": 0.1080778714624187, \"Feature\": \"STD Right Ankle <-> Left Ankle\", \"type\": \"Shapley Value\"}, {\"Shapley Value\": 0.0483262170460963, \"Feature\": \"Pruned Events\", \"type\": \"Shapley Value\"}, {\"Shapley Value\": 0.0021931229602722, \"Feature\": \"Mean Chest <-> Right Ankle\", \"type\": \"Shapley Value\"}, {\"Shapley Value\": 0.0110226929631262, \"Feature\": \"STD Chest <-> Right Ankle\", \"type\": \"Shapley Value\"}, {\"Shapley Value\": -0.0234565565539966, \"Feature\": \"Mean Chest <-> Left Ankle\", \"type\": \"Shapley Value\"}, {\"Shapley Value\": 0.0509873415166067, \"Feature\": \"STD Chest <-> Left Ankle\", \"type\": \"Shapley Value\"}, {\"Shapley Value\": 0.0274775458943275, \"Feature\": \"Mean Right Ankle <-> Left Ankle\", \"type\": \"Shapley Value\"}, {\"Shapley Value\": 0.0425176998112527, \"Feature\": \"STD Right Ankle <-> Left Ankle\", \"type\": \"Shapley Value\"}, {\"Shapley Value\": -4.053470628595512e-09, \"Feature\": \"Pruned Events\", \"type\": \"Shapley Value\"}, {\"Shapley Value\": 0.0022242850535327, \"Feature\": \"Mean Chest <-> Right Ankle\", \"type\": \"Shapley Value\"}, {\"Shapley Value\": 0.0099941136226767, \"Feature\": \"STD Chest <-> Right Ankle\", \"type\": \"Shapley Value\"}, {\"Shapley Value\": -0.0221588796714231, \"Feature\": \"Mean Chest <-> Left Ankle\", \"type\": \"Shapley Value\"}, {\"Shapley Value\": 0.0357599609132323, \"Feature\": \"STD Chest <-> Left Ankle\", \"type\": \"Shapley Value\"}, {\"Shapley Value\": 0.0170369935443713, \"Feature\": \"Mean Right Ankle <-> Left Ankle\", \"type\": \"Shapley Value\"}, {\"Shapley Value\": 0.0280013115056568, \"Feature\": \"STD Right Ankle <-> Left Ankle\", \"type\": \"Shapley Value\"}, {\"Shapley Value\": 0.0398840575700714, \"Feature\": \"Pruned Events\", \"type\": \"Shapley Value\"}, {\"Shapley Value\": 0.0023821012516107, \"Feature\": \"Mean Chest <-> Right Ankle\", \"type\": \"Shapley Value\"}, {\"Shapley Value\": 0.0115388540950204, \"Feature\": \"STD Chest <-> Right Ankle\", \"type\": \"Shapley Value\"}, {\"Shapley Value\": 0.0027774582705682, \"Feature\": \"Mean Chest <-> Left Ankle\", \"type\": \"Shapley Value\"}, {\"Shapley Value\": 0.005839416890272, \"Feature\": \"STD Chest <-> Left Ankle\", \"type\": \"Shapley Value\"}, {\"Shapley Value\": -0.004449138688367, \"Feature\": \"Mean Right Ankle <-> Left Ankle\", \"type\": \"Shapley Value\"}, {\"Shapley Value\": 0.0296405774009014, \"Feature\": \"STD Right Ankle <-> Left Ankle\", \"type\": \"Shapley Value\"}, {\"Shapley Value\": 0.0630125733181124, \"Feature\": \"Pruned Events\", \"type\": \"Shapley Value\"}, {\"Shapley Value\": 0.0433266755351157, \"Feature\": \"Pruned Events\", \"type\": \"Mean\"}, {\"Shapley Value\": -0.0073461305675288115, \"Feature\": \"Mean Chest <-> Right Ankle\", \"type\": \"Mean\"}, {\"Shapley Value\": 0.07701909253915791, \"Feature\": \"Mean Chest <-> Left Ankle\", \"type\": \"Mean\"}, {\"Shapley Value\": 0.12486636796128477, \"Feature\": \"Mean Right Ankle <-> Left Ankle\", \"type\": \"Mean\"}, {\"Shapley Value\": 0.01038958818538409, \"Feature\": \"STD Chest <-> Right Ankle\", \"type\": \"Mean\"}, {\"Shapley Value\": 0.12240391506286187, \"Feature\": \"STD Chest <-> Left Ankle\", \"type\": \"Mean\"}, {\"Shapley Value\": 0.07817712459841326, \"Feature\": \"STD Right Ankle <-> Left Ankle\", \"type\": \"Mean\"}]}}, {\"mode\": \"vega-lite\"});\n",
       "</script>"
      ],
      "text/plain": [
       "alt.HConcatChart(...)"
      ]
     },
     "execution_count": 20,
     "metadata": {},
     "output_type": "execute_result"
    }
   ],
   "source": [
    "global_plot"
   ]
  },
  {
   "cell_type": "markdown",
   "id": "2870782f",
   "metadata": {},
   "source": [
    "## 3.3 Individual Plots"
   ]
  },
  {
   "cell_type": "markdown",
   "id": "5c64c390",
   "metadata": {},
   "source": [
    "### Local Plots"
   ]
  },
  {
   "cell_type": "code",
   "execution_count": 21,
   "id": "5ec0c652",
   "metadata": {},
   "outputs": [],
   "source": [
    "from timeshap.plot import plot_temp_coalition_pruning, plot_event_heatmap, plot_feat_barplot, plot_cell_level\n",
    "from timeshap.explainer import local_pruning, local_event, local_feat, local_cell_level\n",
    "# select model features only\n",
    "pos_x_data = pos_x_pd[model_features]\n",
    "# convert the instance to numpy so TimeSHAP receives it\n",
    "pos_x_data = np.expand_dims(pos_x_data.to_numpy().copy(), axis=0)"
   ]
  },
  {
   "cell_type": "markdown",
   "id": "88fa7c6f",
   "metadata": {},
   "source": [
    "##### Pruning algorithm"
   ]
  },
  {
   "cell_type": "code",
   "execution_count": 22,
   "id": "d72a92fa",
   "metadata": {},
   "outputs": [
    {
     "name": "stdout",
     "output_type": "stream",
     "text": [
      "No path to explainer data provided. Calculating data\n"
     ]
    },
    {
     "name": "stderr",
     "output_type": "stream",
     "text": [
      "\n",
      "A value is trying to be set on a copy of a slice from a DataFrame.\n",
      "Try using .loc[row_indexer,col_indexer] = value instead\n",
      "\n",
      "See the caveats in the documentation: https://pandas.pydata.org/pandas-docs/stable/user_guide/indexing.html#returning-a-view-versus-a-copy\n"
     ]
    },
    {
     "data": {
      "text/html": [
       "\n",
       "<div id=\"altair-viz-a51ef37fa36746689fa0764f2af5c59e\"></div>\n",
       "<script type=\"text/javascript\">\n",
       "  (function(spec, embedOpt){\n",
       "    let outputDiv = document.currentScript.previousElementSibling;\n",
       "    if (outputDiv.id !== \"altair-viz-a51ef37fa36746689fa0764f2af5c59e\") {\n",
       "      outputDiv = document.getElementById(\"altair-viz-a51ef37fa36746689fa0764f2af5c59e\");\n",
       "    }\n",
       "    const paths = {\n",
       "      \"vega\": \"https://cdn.jsdelivr.net/npm//vega@5?noext\",\n",
       "      \"vega-lib\": \"https://cdn.jsdelivr.net/npm//vega-lib?noext\",\n",
       "      \"vega-lite\": \"https://cdn.jsdelivr.net/npm//vega-lite@4.8.1?noext\",\n",
       "      \"vega-embed\": \"https://cdn.jsdelivr.net/npm//vega-embed@6?noext\",\n",
       "    };\n",
       "\n",
       "    function loadScript(lib) {\n",
       "      return new Promise(function(resolve, reject) {\n",
       "        var s = document.createElement('script');\n",
       "        s.src = paths[lib];\n",
       "        s.async = true;\n",
       "        s.onload = () => resolve(paths[lib]);\n",
       "        s.onerror = () => reject(`Error loading script: ${paths[lib]}`);\n",
       "        document.getElementsByTagName(\"head\")[0].appendChild(s);\n",
       "      });\n",
       "    }\n",
       "\n",
       "    function showError(err) {\n",
       "      outputDiv.innerHTML = `<div class=\"error\" style=\"color:red;\">${err}</div>`;\n",
       "      throw err;\n",
       "    }\n",
       "\n",
       "    function displayChart(vegaEmbed) {\n",
       "      vegaEmbed(outputDiv, spec, embedOpt)\n",
       "        .catch(err => showError(`Javascript Error: ${err.message}<br>This usually means there's a typo in your chart specification. See the javascript console for the full traceback.`));\n",
       "    }\n",
       "\n",
       "    if(typeof define === \"function\" && define.amd) {\n",
       "      requirejs.config({paths});\n",
       "      require([\"vega-embed\"], displayChart, err => showError(`Error loading script: ${err.message}`));\n",
       "    } else if (typeof vegaEmbed === \"function\") {\n",
       "      displayChart(vegaEmbed);\n",
       "    } else {\n",
       "      loadScript(\"vega\")\n",
       "        .then(() => loadScript(\"vega-lite\"))\n",
       "        .then(() => loadScript(\"vega-embed\"))\n",
       "        .catch(showError)\n",
       "        .then(() => displayChart(vegaEmbed));\n",
       "    }\n",
       "  })({\"config\": {\"axis\": {\"domain\": true, \"domainColor\": \"#798184\", \"grid\": false, \"gridColor\": \"#798184\", \"gridOpacity\": 0.5, \"gridDash\": [3, 5], \"gridWidth\": 0.8, \"gridCap\": \"round\", \"labelPadding\": 3, \"labelFont\": \"Roboto\", \"labelColor\": \"#798184\", \"tickSize\": 5, \"tickColor\": \"#798184\", \"tickOpacity\": 0.5, \"titleColor\": \"#384140\", \"titleFont\": \"Roboto\", \"titleFontSize\": 12}, \"axisBand\": {\"domain\": true, \"ticks\": false, \"labelPadding\": 7}, \"axisY\": {\"domain\": false, \"titleAlign\": \"left\", \"titleAngle\": 0, \"titleX\": -20, \"titleY\": -10}, \"legend\": {\"labelColor\": \"#798184\", \"labelFontSize\": 12, \"symbolSize\": 40, \"titleColor\": \"#384140\", \"titleFontSize\": 12, \"titlePadding\": 10, \"titleFont\": \"Roboto\", \"labelFont\": \"Roboto\"}, \"line\": {\"stroke\": \"#618FE0\", \"strokeWidth\": 2}, \"rule\": {\"stroke\": \"#798184\"}, \"path\": {\"stroke\": \"#618FE0\", \"strokeWidth\": 0.5}, \"rect\": {\"fill\": \"#618FE0\"}, \"point\": {\"filled\": true, \"shape\": \"circle\"}, \"shape\": {\"stroke\": \"#618FE0\"}, \"bar\": {\"fill\": \"#618FE0\", \"stroke\": null}, \"text\": {\"font\": \"Roboto\", \"color\": \"#384140\", \"fontSize\": 12}, \"arc\": {\"stroke\": \"#fff\", \"strokeWidth\": 1}, \"range\": {\"category\": [\"#618FE0\", \"#50D0B0\", \"#E17560\", \"#E8B474\", \"#D889C4\", \"#34A3BC\", \"#A583A4\"], \"ramp\": [\"#001854\", \"#002f72\", \"#04478e\", \"#1e5fab\", \"#4477c5\", \"#6290e1\", \"#7ea9fd\", \"#9ec7ff\", \"#bde4ff\"], \"heatmap\": [\"#001854\", \"#002f72\", \"#04478e\", \"#1e5fab\", \"#4477c5\", \"#6290e1\", \"#7ea9fd\", \"#9ec7ff\", \"#bde4ff\"], \"diverging\": [\"#003b26\", \"#006b52\", \"#1aa082\", \"#55d5b5\", \"#f5f5f5\", \"#ffaa92\", \"#d16f5b\", \"#9e392c\", \"#650200\"]}, \"title\": {\"anchor\": \"start\", \"fontSize\": 20, \"color\": \"#384140\", \"fontWeight\": \"bold\", \"offset\": 20, \"font\": \"Roboto\", \"subtitleColor\": \"#384140\", \"subtitleFontSize\": 16}, \"header\": {\"labelFontSize\": 12, \"titleFontSize\": 16, \"labelColor\": \"#384140\", \"titleColor\": \"#384140\", \"titleFont\": \"Roboto\", \"labelFont\": \"Roboto\"}, \"group\": {\"fill\": \"white\"}, \"background\": \"white\", \"view\": {\"stroke\": \"transparent\", \"continuousHeight\": 300, \"continuousWidth\": 400}}, \"layer\": [{\"mark\": {\"type\": \"area\", \"opacity\": 0.5}, \"encoding\": {\"color\": {\"type\": \"nominal\", \"field\": \"Coalition\", \"legend\": {\"fillColor\": \"white\", \"labelFontSize\": 14, \"labelLimit\": 0, \"orient\": \"top-left\", \"symbolSize\": 50, \"symbolStrokeWidth\": 0, \"title\": null}, \"scale\": {\"domain\": [\"Sum of contribution of events \\u2264 t\"], \"range\": [\"#618FE0\"]}}, \"x\": {\"type\": \"quantitative\", \"axis\": {\"labelFontSize\": 15, \"title\": \"t (event index)\", \"titleFontSize\": 15}, \"field\": \"t (event index)\"}, \"y\": {\"type\": \"quantitative\", \"axis\": {\"grid\": true, \"labelFontSize\": 15, \"titleFontSize\": 15, \"titleX\": -28}, \"field\": \"Shapley Value\", \"scale\": {\"domain\": [-0.05, 1]}}}}, {\"mark\": \"line\", \"encoding\": {\"color\": {\"type\": \"nominal\", \"field\": \"Coalition\", \"legend\": {\"fillColor\": \"white\", \"labelFontSize\": 14, \"labelLimit\": 0, \"orient\": \"top-left\", \"symbolSize\": 50, \"symbolStrokeWidth\": 0, \"title\": null}, \"scale\": {\"domain\": [\"Sum of contribution of events \\u2264 t\"], \"range\": [\"#618FE0\"]}}, \"x\": {\"type\": \"quantitative\", \"axis\": {\"labelFontSize\": 15, \"title\": \"t (event index)\", \"titleFontSize\": 15}, \"field\": \"t (event index)\"}, \"y\": {\"type\": \"quantitative\", \"axis\": {\"grid\": true, \"labelFontSize\": 15, \"titleFontSize\": 15, \"titleX\": -28}, \"field\": \"Shapley Value\", \"scale\": {\"domain\": [-0.05, 1]}}}}, {\"data\": {\"name\": \"data-a737a7e0ea28edf89e4279c15f3d056f\"}, \"mark\": {\"type\": \"rule\", \"color\": \"#E17560\"}, \"encoding\": {\"x\": {\"type\": \"quantitative\", \"field\": \"x\"}}}, {\"data\": {\"name\": \"data-e4f3cc544e6eb6f30b6d8b725eecc2f0\"}, \"mark\": {\"type\": \"text\", \"angle\": 270, \"color\": \"#E17560\", \"fontSize\": 15, \"fontWeight\": \"bold\", \"text\": \"Pruning\"}, \"encoding\": {\"x\": {\"type\": \"quantitative\", \"field\": \"x\"}}}], \"data\": {\"name\": \"data-3893feed5ecf5ad7b656fbb26fe7a506\"}, \"height\": 225, \"width\": 350, \"$schema\": \"https://vega.github.io/schema/vega-lite/v4.8.1.json\", \"datasets\": {\"data-3893feed5ecf5ad7b656fbb26fe7a506\": [{\"Coalition\": \"Sum of contribution of events > t\", \"t (event index)\": 0, \"Shapley Value\": 0.0}, {\"Coalition\": \"Sum of contribution of events \\u2264 t\", \"t (event index)\": 0, \"Shapley Value\": 0.8252891339361668}, {\"Coalition\": \"Sum of contribution of events > t\", \"t (event index)\": -1, \"Shapley Value\": 0.06392929889261723}, {\"Coalition\": \"Sum of contribution of events \\u2264 t\", \"t (event index)\": -1, \"Shapley Value\": 0.7613598350435495}, {\"Coalition\": \"Sum of contribution of events > t\", \"t (event index)\": -2, \"Shapley Value\": 0.2522490229457617}, {\"Coalition\": \"Sum of contribution of events \\u2264 t\", \"t (event index)\": -2, \"Shapley Value\": 0.5730401109904051}, {\"Coalition\": \"Sum of contribution of events > t\", \"t (event index)\": -3, \"Shapley Value\": 0.3406646866351366}, {\"Coalition\": \"Sum of contribution of events \\u2264 t\", \"t (event index)\": -3, \"Shapley Value\": 0.48462444730103016}, {\"Coalition\": \"Sum of contribution of events > t\", \"t (event index)\": -4, \"Shapley Value\": 0.3575274273753166}, {\"Coalition\": \"Sum of contribution of events \\u2264 t\", \"t (event index)\": -4, \"Shapley Value\": 0.46776170656085014}, {\"Coalition\": \"Sum of contribution of events > t\", \"t (event index)\": -5, \"Shapley Value\": 0.4095512181520462}, {\"Coalition\": \"Sum of contribution of events \\u2264 t\", \"t (event index)\": -5, \"Shapley Value\": 0.41573791578412056}, {\"Coalition\": \"Sum of contribution of events > t\", \"t (event index)\": -6, \"Shapley Value\": 0.42282234504818916}, {\"Coalition\": \"Sum of contribution of events \\u2264 t\", \"t (event index)\": -6, \"Shapley Value\": 0.4024667888879776}, {\"Coalition\": \"Sum of contribution of events > t\", \"t (event index)\": -7, \"Shapley Value\": 0.4667374165728688}, {\"Coalition\": \"Sum of contribution of events \\u2264 t\", \"t (event index)\": -7, \"Shapley Value\": 0.35855171736329794}, {\"Coalition\": \"Sum of contribution of events > t\", \"t (event index)\": -8, \"Shapley Value\": 0.573298460803926}, {\"Coalition\": \"Sum of contribution of events \\u2264 t\", \"t (event index)\": -8, \"Shapley Value\": 0.2519906731322408}, {\"Coalition\": \"Sum of contribution of events > t\", \"t (event index)\": -9, \"Shapley Value\": 0.6489290026947856}, {\"Coalition\": \"Sum of contribution of events \\u2264 t\", \"t (event index)\": -9, \"Shapley Value\": 0.17636013124138117}, {\"Coalition\": \"Sum of contribution of events > t\", \"t (event index)\": -10, \"Shapley Value\": 0.6915545491501689}, {\"Coalition\": \"Sum of contribution of events \\u2264 t\", \"t (event index)\": -10, \"Shapley Value\": 0.13373458478599787}, {\"Coalition\": \"Sum of contribution of events > t\", \"t (event index)\": -11, \"Shapley Value\": 0.7400883743539453}, {\"Coalition\": \"Sum of contribution of events \\u2264 t\", \"t (event index)\": -11, \"Shapley Value\": 0.08520075958222151}, {\"Coalition\": \"Sum of contribution of events > t\", \"t (event index)\": -12, \"Shapley Value\": 0.7618631040677428}, {\"Coalition\": \"Sum of contribution of events \\u2264 t\", \"t (event index)\": -12, \"Shapley Value\": 0.06342602986842394}, {\"Coalition\": \"Sum of contribution of events > t\", \"t (event index)\": -13, \"Shapley Value\": 0.787288835272193}, {\"Coalition\": \"Sum of contribution of events \\u2264 t\", \"t (event index)\": -13, \"Shapley Value\": 0.03800029866397381}, {\"Coalition\": \"Sum of contribution of events > t\", \"t (event index)\": -14, \"Shapley Value\": 0.8006890583783388}, {\"Coalition\": \"Sum of contribution of events \\u2264 t\", \"t (event index)\": -14, \"Shapley Value\": 0.02460007555782795}, {\"Coalition\": \"Sum of contribution of events > t\", \"t (event index)\": -15, \"Shapley Value\": 0.8066686205565929}, {\"Coalition\": \"Sum of contribution of events \\u2264 t\", \"t (event index)\": -15, \"Shapley Value\": 0.018620513379573822}, {\"Coalition\": \"Sum of contribution of events > t\", \"t (event index)\": -16, \"Shapley Value\": 0.8131036935374141}, {\"Coalition\": \"Sum of contribution of events \\u2264 t\", \"t (event index)\": -16, \"Shapley Value\": 0.01218544039875269}, {\"Coalition\": \"Sum of contribution of events > t\", \"t (event index)\": -17, \"Shapley Value\": 0.8155508087947965}, {\"Coalition\": \"Sum of contribution of events \\u2264 t\", \"t (event index)\": -17, \"Shapley Value\": 0.009738325141370296}, {\"Coalition\": \"Sum of contribution of events > t\", \"t (event index)\": -18, \"Shapley Value\": 0.8181126741692424}, {\"Coalition\": \"Sum of contribution of events \\u2264 t\", \"t (event index)\": -18, \"Shapley Value\": 0.007176459766924381}, {\"Coalition\": \"Sum of contribution of events > t\", \"t (event index)\": -19, \"Shapley Value\": 0.8203145144507289}, {\"Coalition\": \"Sum of contribution of events \\u2264 t\", \"t (event index)\": -19, \"Shapley Value\": 0.00497461948543787}, {\"Coalition\": \"Sum of contribution of events > t\", \"t (event index)\": -20, \"Shapley Value\": 0.8218805501237512}, {\"Coalition\": \"Sum of contribution of events \\u2264 t\", \"t (event index)\": -20, \"Shapley Value\": 0.0034085838124156}, {\"Coalition\": \"Sum of contribution of events > t\", \"t (event index)\": -21, \"Shapley Value\": 0.8226268719881773}, {\"Coalition\": \"Sum of contribution of events \\u2264 t\", \"t (event index)\": -21, \"Shapley Value\": 0.002662261947989464}, {\"Coalition\": \"Sum of contribution of events > t\", \"t (event index)\": -22, \"Shapley Value\": 0.8233157377690077}, {\"Coalition\": \"Sum of contribution of events \\u2264 t\", \"t (event index)\": -22, \"Shapley Value\": 0.0019733961671590805}, {\"Coalition\": \"Sum of contribution of events > t\", \"t (event index)\": -23, \"Shapley Value\": 0.8236580118536949}, {\"Coalition\": \"Sum of contribution of events \\u2264 t\", \"t (event index)\": -23, \"Shapley Value\": 0.0016311220824718475}, {\"Coalition\": \"Sum of contribution of events > t\", \"t (event index)\": -24, \"Shapley Value\": 0.8238380216062069}, {\"Coalition\": \"Sum of contribution of events \\u2264 t\", \"t (event index)\": -24, \"Shapley Value\": 0.0014511123299598694}, {\"Coalition\": \"Sum of contribution of events > t\", \"t (event index)\": -25, \"Shapley Value\": 0.8241624161601067}, {\"Coalition\": \"Sum of contribution of events \\u2264 t\", \"t (event index)\": -25, \"Shapley Value\": 0.0011267177760601044}, {\"Coalition\": \"Sum of contribution of events > t\", \"t (event index)\": -26, \"Shapley Value\": 0.824600238353014}, {\"Coalition\": \"Sum of contribution of events \\u2264 t\", \"t (event index)\": -26, \"Shapley Value\": 0.000688895583152771}, {\"Coalition\": \"Sum of contribution of events > t\", \"t (event index)\": -27, \"Shapley Value\": 0.8247756073251367}, {\"Coalition\": \"Sum of contribution of events \\u2264 t\", \"t (event index)\": -27, \"Shapley Value\": 0.0005135266110301018}, {\"Coalition\": \"Sum of contribution of events > t\", \"t (event index)\": -28, \"Shapley Value\": 0.8249095324426889}, {\"Coalition\": \"Sum of contribution of events \\u2264 t\", \"t (event index)\": -28, \"Shapley Value\": 0.00037960149347782135}, {\"Coalition\": \"Sum of contribution of events > t\", \"t (event index)\": -29, \"Shapley Value\": 0.8249880466610193}, {\"Coalition\": \"Sum of contribution of events \\u2264 t\", \"t (event index)\": -29, \"Shapley Value\": 0.00030108727514743805}, {\"Coalition\": \"Sum of contribution of events > t\", \"t (event index)\": -30, \"Shapley Value\": 0.8250167584046721}, {\"Coalition\": \"Sum of contribution of events \\u2264 t\", \"t (event index)\": -30, \"Shapley Value\": 0.00027237553149461746}, {\"Coalition\": \"Sum of contribution of events > t\", \"t (event index)\": -31, \"Shapley Value\": 0.825090479105711}, {\"Coalition\": \"Sum of contribution of events \\u2264 t\", \"t (event index)\": -31, \"Shapley Value\": 0.00019865483045578003}, {\"Coalition\": \"Sum of contribution of events > t\", \"t (event index)\": -32, \"Shapley Value\": 0.8251623306423426}, {\"Coalition\": \"Sum of contribution of events \\u2264 t\", \"t (event index)\": -32, \"Shapley Value\": 0.00012680329382419586}, {\"Coalition\": \"Sum of contribution of events > t\", \"t (event index)\": -33, \"Shapley Value\": 0.8252010811120272}, {\"Coalition\": \"Sum of contribution of events \\u2264 t\", \"t (event index)\": -33, \"Shapley Value\": 8.805282413959503e-05}, {\"Coalition\": \"Sum of contribution of events > t\", \"t (event index)\": -34, \"Shapley Value\": 0.8252310128882527}, {\"Coalition\": \"Sum of contribution of events \\u2264 t\", \"t (event index)\": -34, \"Shapley Value\": 5.812104791402817e-05}, {\"Coalition\": \"Sum of contribution of events > t\", \"t (event index)\": -35, \"Shapley Value\": 0.8252451876178384}, {\"Coalition\": \"Sum of contribution of events \\u2264 t\", \"t (event index)\": -35, \"Shapley Value\": 4.3946318328380585e-05}, {\"Coalition\": \"Sum of contribution of events > t\", \"t (event index)\": -36, \"Shapley Value\": 0.8252515103667974}, {\"Coalition\": \"Sum of contribution of events \\u2264 t\", \"t (event index)\": -36, \"Shapley Value\": 3.76235693693161e-05}, {\"Coalition\": \"Sum of contribution of events > t\", \"t (event index)\": -37, \"Shapley Value\": 0.8252593073993921}, {\"Coalition\": \"Sum of contribution of events \\u2264 t\", \"t (event index)\": -37, \"Shapley Value\": 2.9826536774635315e-05}, {\"Coalition\": \"Sum of contribution of events > t\", \"t (event index)\": -38, \"Shapley Value\": 0.8252678075805306}, {\"Coalition\": \"Sum of contribution of events \\u2264 t\", \"t (event index)\": -38, \"Shapley Value\": 2.1326355636119843e-05}, {\"Coalition\": \"Sum of contribution of events > t\", \"t (event index)\": -39, \"Shapley Value\": 0.8252696637064219}, {\"Coalition\": \"Sum of contribution of events \\u2264 t\", \"t (event index)\": -39, \"Shapley Value\": 1.9470229744911194e-05}, {\"Coalition\": \"Sum of contribution of events > t\", \"t (event index)\": -40, \"Shapley Value\": 0.8252753969281912}, {\"Coalition\": \"Sum of contribution of events \\u2264 t\", \"t (event index)\": -40, \"Shapley Value\": 1.3737007975578308e-05}], \"data-a737a7e0ea28edf89e4279c15f3d056f\": [{\"x\": -14}], \"data-e4f3cc544e6eb6f30b6d8b725eecc2f0\": [{\"x\": -16}]}}, {\"mode\": \"vega-lite\"});\n",
       "</script>"
      ],
      "text/plain": [
       "alt.LayerChart(...)"
      ]
     },
     "execution_count": 22,
     "metadata": {},
     "output_type": "execute_result"
    }
   ],
   "source": [
    "pruning_dict = {'tol': 0.025,}\n",
    "coal_plot_data, coal_prun_idx = local_pruning(f_hs, pos_x_data, pruning_dict, average_event, positive_sequence_id, sequence_id_feat, False)\n",
    "# coal_prun_idx is in negative terms\n",
    "pruning_idx = pos_x_data.shape[1] + coal_prun_idx\n",
    "pruning_plot = plot_temp_coalition_pruning(coal_plot_data, coal_prun_idx, 40)\n",
    "pruning_plot"
   ]
  },
  {
   "cell_type": "markdown",
   "id": "ebc8bf02",
   "metadata": {},
   "source": [
    "##### Event-level explanation"
   ]
  },
  {
   "cell_type": "code",
   "execution_count": 23,
   "id": "4ac0cb06",
   "metadata": {},
   "outputs": [
    {
     "name": "stdout",
     "output_type": "stream",
     "text": [
      "No path to event data provided. Calculating data\n"
     ]
    },
    {
     "data": {
      "text/html": [
       "\n",
       "<div id=\"altair-viz-ccd3c3cf90714acfb3bc011a0858dab1\"></div>\n",
       "<script type=\"text/javascript\">\n",
       "  (function(spec, embedOpt){\n",
       "    let outputDiv = document.currentScript.previousElementSibling;\n",
       "    if (outputDiv.id !== \"altair-viz-ccd3c3cf90714acfb3bc011a0858dab1\") {\n",
       "      outputDiv = document.getElementById(\"altair-viz-ccd3c3cf90714acfb3bc011a0858dab1\");\n",
       "    }\n",
       "    const paths = {\n",
       "      \"vega\": \"https://cdn.jsdelivr.net/npm//vega@5?noext\",\n",
       "      \"vega-lib\": \"https://cdn.jsdelivr.net/npm//vega-lib?noext\",\n",
       "      \"vega-lite\": \"https://cdn.jsdelivr.net/npm//vega-lite@4.8.1?noext\",\n",
       "      \"vega-embed\": \"https://cdn.jsdelivr.net/npm//vega-embed@6?noext\",\n",
       "    };\n",
       "\n",
       "    function loadScript(lib) {\n",
       "      return new Promise(function(resolve, reject) {\n",
       "        var s = document.createElement('script');\n",
       "        s.src = paths[lib];\n",
       "        s.async = true;\n",
       "        s.onload = () => resolve(paths[lib]);\n",
       "        s.onerror = () => reject(`Error loading script: ${paths[lib]}`);\n",
       "        document.getElementsByTagName(\"head\")[0].appendChild(s);\n",
       "      });\n",
       "    }\n",
       "\n",
       "    function showError(err) {\n",
       "      outputDiv.innerHTML = `<div class=\"error\" style=\"color:red;\">${err}</div>`;\n",
       "      throw err;\n",
       "    }\n",
       "\n",
       "    function displayChart(vegaEmbed) {\n",
       "      vegaEmbed(outputDiv, spec, embedOpt)\n",
       "        .catch(err => showError(`Javascript Error: ${err.message}<br>This usually means there's a typo in your chart specification. See the javascript console for the full traceback.`));\n",
       "    }\n",
       "\n",
       "    if(typeof define === \"function\" && define.amd) {\n",
       "      requirejs.config({paths});\n",
       "      require([\"vega-embed\"], displayChart, err => showError(`Error loading script: ${err.message}`));\n",
       "    } else if (typeof vegaEmbed === \"function\") {\n",
       "      displayChart(vegaEmbed);\n",
       "    } else {\n",
       "      loadScript(\"vega\")\n",
       "        .then(() => loadScript(\"vega-lite\"))\n",
       "        .then(() => loadScript(\"vega-embed\"))\n",
       "        .catch(showError)\n",
       "        .then(() => displayChart(vegaEmbed));\n",
       "    }\n",
       "  })({\"config\": {\"axis\": {\"domain\": true, \"domainColor\": \"#798184\", \"grid\": false, \"gridColor\": \"#798184\", \"gridOpacity\": 0.5, \"gridDash\": [3, 5], \"gridWidth\": 0.8, \"gridCap\": \"round\", \"labelPadding\": 3, \"labelFont\": \"Roboto\", \"labelColor\": \"#798184\", \"tickSize\": 5, \"tickColor\": \"#798184\", \"tickOpacity\": 0.5, \"titleColor\": \"#384140\", \"titleFont\": \"Roboto\", \"titleFontSize\": 12}, \"axisBand\": {\"domain\": true, \"ticks\": false, \"labelPadding\": 7}, \"axisY\": {\"domain\": false, \"titleAlign\": \"left\", \"titleAngle\": 0, \"titleX\": -20, \"titleY\": -10}, \"legend\": {\"labelColor\": \"#798184\", \"labelFontSize\": 12, \"symbolSize\": 40, \"titleColor\": \"#384140\", \"titleFontSize\": 12, \"titlePadding\": 10, \"titleFont\": \"Roboto\", \"labelFont\": \"Roboto\"}, \"line\": {\"stroke\": \"#618FE0\", \"strokeWidth\": 2}, \"rule\": {\"stroke\": \"#798184\"}, \"path\": {\"stroke\": \"#618FE0\", \"strokeWidth\": 0.5}, \"rect\": {\"fill\": \"#618FE0\"}, \"point\": {\"filled\": true, \"shape\": \"circle\"}, \"shape\": {\"stroke\": \"#618FE0\"}, \"bar\": {\"fill\": \"#618FE0\", \"stroke\": null}, \"text\": {\"font\": \"Roboto\", \"color\": \"#384140\", \"fontSize\": 12}, \"arc\": {\"stroke\": \"#fff\", \"strokeWidth\": 1}, \"range\": {\"category\": [\"#618FE0\", \"#50D0B0\", \"#E17560\", \"#E8B474\", \"#D889C4\", \"#34A3BC\", \"#A583A4\"], \"ramp\": [\"#001854\", \"#002f72\", \"#04478e\", \"#1e5fab\", \"#4477c5\", \"#6290e1\", \"#7ea9fd\", \"#9ec7ff\", \"#bde4ff\"], \"heatmap\": [\"#001854\", \"#002f72\", \"#04478e\", \"#1e5fab\", \"#4477c5\", \"#6290e1\", \"#7ea9fd\", \"#9ec7ff\", \"#bde4ff\"], \"diverging\": [\"#003b26\", \"#006b52\", \"#1aa082\", \"#55d5b5\", \"#f5f5f5\", \"#ffaa92\", \"#d16f5b\", \"#9e392c\", \"#650200\"]}, \"title\": {\"anchor\": \"start\", \"fontSize\": 20, \"color\": \"#384140\", \"fontWeight\": \"bold\", \"offset\": 20, \"font\": \"Roboto\", \"subtitleColor\": \"#384140\", \"subtitleFontSize\": 16}, \"header\": {\"labelFontSize\": 12, \"titleFontSize\": 16, \"labelColor\": \"#384140\", \"titleColor\": \"#384140\", \"titleFont\": \"Roboto\", \"labelFont\": \"Roboto\"}, \"group\": {\"fill\": \"white\"}, \"background\": \"white\", \"view\": {\"stroke\": \"transparent\", \"continuousHeight\": 300, \"continuousWidth\": 400}}, \"layer\": [{\"mark\": \"rect\", \"encoding\": {\"color\": {\"type\": \"quantitative\", \"field\": \"rounded\", \"legend\": {\"gradientLength\": 225, \"gradientThickness\": 10, \"labelFontSize\": 15, \"orient\": \"right\"}, \"scale\": {\"domain\": [-0.5, 0.5], \"range\": [\"#5f8fd6\", \"#99c3fb\", \"#f5f5f5\", \"#ffaa92\", \"#d16f5b\"]}, \"title\": null}, \"x\": {\"type\": \"ordinal\", \"axis\": {\"title\": \"Shapley Value\", \"titleFontSize\": 15}, \"field\": \"column\"}, \"y\": {\"type\": \"ordinal\", \"axis\": {\"domain\": false, \"labelFontSize\": 15, \"title\": \"Event\", \"titleFontSize\": 15, \"titleX\": -49}, \"field\": \"Feature\", \"sort\": [\"Event -1\", \"Event -2\", \"Event -3\", \"Event -4\", \"Event -5\", \"Event -6\", \"Event -7\", \"Event -8\", \"Event -9\", \"Event -10\", \"Event -11\", \"Event -12\", \"Event -13\", \"Event -14\", \"Pruned Events\"]}}}, {\"mark\": {\"type\": \"text\", \"align\": \"right\", \"baseline\": \"middle\", \"color\": \"#798184\", \"dx\": 18, \"fontSize\": 15}, \"encoding\": {\"text\": {\"type\": \"nominal\", \"field\": \"rounded_str\"}, \"x\": {\"type\": \"ordinal\", \"axis\": {\"domain\": false, \"labels\": false, \"title\": \"Shapley Value\", \"titleX\": 43}, \"field\": \"column\"}, \"y\": {\"type\": \"ordinal\", \"axis\": {\"domain\": false, \"labelFontSize\": 15, \"title\": \"Event\", \"titleFontSize\": 15, \"titleX\": -49}, \"field\": \"Feature\", \"sort\": [\"Event -1\", \"Event -2\", \"Event -3\", \"Event -4\", \"Event -5\", \"Event -6\", \"Event -7\", \"Event -8\", \"Event -9\", \"Event -10\", \"Event -11\", \"Event -12\", \"Event -13\", \"Event -14\", \"Pruned Events\"]}}}], \"data\": {\"name\": \"data-56412b04d5a18b1096de406e9c23d9f9\"}, \"height\": 225, \"width\": 60, \"$schema\": \"https://vega.github.io/schema/vega-lite/v4.8.1.json\", \"datasets\": {\"data-56412b04d5a18b1096de406e9c23d9f9\": [{\"Shapley Value\": 0.08152180673511544, \"Feature\": \"Event -1\", \"row\": 1, \"column\": 1, \"rounded\": 0.082, \"rounded_str\": \"0.082\"}, {\"Shapley Value\": 0.14682432474132806, \"Feature\": \"Event -2\", \"row\": 2, \"column\": 1, \"rounded\": 0.147, \"rounded_str\": \"0.147\"}, {\"Shapley Value\": 0.07044818420011029, \"Feature\": \"Event -3\", \"row\": 3, \"column\": 1, \"rounded\": 0.07, \"rounded_str\": \"0.070\"}, {\"Shapley Value\": 0.020335981385064206, \"Feature\": \"Event -4\", \"row\": 4, \"column\": 1, \"rounded\": 0.02, \"rounded_str\": \"0.020\"}, {\"Shapley Value\": 0.10309206968938756, \"Feature\": \"Event -5\", \"row\": 5, \"column\": 1, \"rounded\": 0.103, \"rounded_str\": \"0.103\"}, {\"Shapley Value\": 0.03271721212519435, \"Feature\": \"Event -6\", \"row\": 6, \"column\": 1, \"rounded\": 0.033, \"rounded_str\": \"0.033\"}, {\"Shapley Value\": 0.08850018473542764, \"Feature\": \"Event -7\", \"row\": 7, \"column\": 1, \"rounded\": 0.089, \"rounded_str\": \"0.089\"}, {\"Shapley Value\": 0.09125865248256804, \"Feature\": \"Event -8\", \"row\": 8, \"column\": 1, \"rounded\": 0.091, \"rounded_str\": \"0.091\"}, {\"Shapley Value\": 0.0397322596295559, \"Feature\": \"Event -9\", \"row\": 9, \"column\": 1, \"rounded\": 0.04, \"rounded_str\": \"0.040\"}, {\"Shapley Value\": 0.01868999364291546, \"Feature\": \"Event -10\", \"row\": 10, \"column\": 1, \"rounded\": 0.019, \"rounded_str\": \"0.019\"}, {\"Shapley Value\": 0.012774680760163803, \"Feature\": \"Event -11\", \"row\": 11, \"column\": 1, \"rounded\": 0.013, \"rounded_str\": \"0.013\"}, {\"Shapley Value\": 0.015270061965346415, \"Feature\": \"Event -12\", \"row\": 12, \"column\": 1, \"rounded\": 0.015, \"rounded_str\": \"0.015\"}, {\"Shapley Value\": 0.019820762052339513, \"Feature\": \"Event -13\", \"row\": 13, \"column\": 1, \"rounded\": 0.02, \"rounded_str\": \"0.020\"}, {\"Shapley Value\": 0.013362578255674717, \"Feature\": \"Event -14\", \"row\": 14, \"column\": 1, \"rounded\": 0.013, \"rounded_str\": \"0.013\"}, {\"Shapley Value\": 0.07094038153597526, \"Feature\": \"Pruned Events\", \"row\": 15, \"column\": 1, \"rounded\": 0.071, \"rounded_str\": \"0.071\"}]}}, {\"mode\": \"vega-lite\"});\n",
       "</script>"
      ],
      "text/plain": [
       "alt.LayerChart(...)"
      ]
     },
     "execution_count": 23,
     "metadata": {},
     "output_type": "execute_result"
    }
   ],
   "source": [
    "event_dict = {'rs': 42, 'nsamples': 32000}\n",
    "event_data = local_event(f_hs, pos_x_data, event_dict, positive_sequence_id, sequence_id_feat, average_event, pruning_idx)\n",
    "event_plot = plot_event_heatmap(event_data)\n",
    "event_plot"
   ]
  },
  {
   "cell_type": "markdown",
   "id": "766a2102",
   "metadata": {},
   "source": [
    "##### Feature-level explanation"
   ]
  },
  {
   "cell_type": "code",
   "execution_count": 24,
   "id": "1c6776c0",
   "metadata": {},
   "outputs": [
    {
     "name": "stdout",
     "output_type": "stream",
     "text": [
      "No path to feature data provided. Calculating data\n"
     ]
    },
    {
     "data": {
      "text/html": [
       "\n",
       "<div id=\"altair-viz-81bc0d52609f48a684679e4c55b8cc9f\"></div>\n",
       "<script type=\"text/javascript\">\n",
       "  (function(spec, embedOpt){\n",
       "    let outputDiv = document.currentScript.previousElementSibling;\n",
       "    if (outputDiv.id !== \"altair-viz-81bc0d52609f48a684679e4c55b8cc9f\") {\n",
       "      outputDiv = document.getElementById(\"altair-viz-81bc0d52609f48a684679e4c55b8cc9f\");\n",
       "    }\n",
       "    const paths = {\n",
       "      \"vega\": \"https://cdn.jsdelivr.net/npm//vega@5?noext\",\n",
       "      \"vega-lib\": \"https://cdn.jsdelivr.net/npm//vega-lib?noext\",\n",
       "      \"vega-lite\": \"https://cdn.jsdelivr.net/npm//vega-lite@4.8.1?noext\",\n",
       "      \"vega-embed\": \"https://cdn.jsdelivr.net/npm//vega-embed@6?noext\",\n",
       "    };\n",
       "\n",
       "    function loadScript(lib) {\n",
       "      return new Promise(function(resolve, reject) {\n",
       "        var s = document.createElement('script');\n",
       "        s.src = paths[lib];\n",
       "        s.async = true;\n",
       "        s.onload = () => resolve(paths[lib]);\n",
       "        s.onerror = () => reject(`Error loading script: ${paths[lib]}`);\n",
       "        document.getElementsByTagName(\"head\")[0].appendChild(s);\n",
       "      });\n",
       "    }\n",
       "\n",
       "    function showError(err) {\n",
       "      outputDiv.innerHTML = `<div class=\"error\" style=\"color:red;\">${err}</div>`;\n",
       "      throw err;\n",
       "    }\n",
       "\n",
       "    function displayChart(vegaEmbed) {\n",
       "      vegaEmbed(outputDiv, spec, embedOpt)\n",
       "        .catch(err => showError(`Javascript Error: ${err.message}<br>This usually means there's a typo in your chart specification. See the javascript console for the full traceback.`));\n",
       "    }\n",
       "\n",
       "    if(typeof define === \"function\" && define.amd) {\n",
       "      requirejs.config({paths});\n",
       "      require([\"vega-embed\"], displayChart, err => showError(`Error loading script: ${err.message}`));\n",
       "    } else if (typeof vegaEmbed === \"function\") {\n",
       "      displayChart(vegaEmbed);\n",
       "    } else {\n",
       "      loadScript(\"vega\")\n",
       "        .then(() => loadScript(\"vega-lite\"))\n",
       "        .then(() => loadScript(\"vega-embed\"))\n",
       "        .catch(showError)\n",
       "        .then(() => displayChart(vegaEmbed));\n",
       "    }\n",
       "  })({\"config\": {\"axis\": {\"domain\": true, \"domainColor\": \"#798184\", \"grid\": false, \"gridColor\": \"#798184\", \"gridOpacity\": 0.5, \"gridDash\": [3, 5], \"gridWidth\": 0.8, \"gridCap\": \"round\", \"labelPadding\": 3, \"labelFont\": \"Roboto\", \"labelColor\": \"#798184\", \"tickSize\": 5, \"tickColor\": \"#798184\", \"tickOpacity\": 0.5, \"titleColor\": \"#384140\", \"titleFont\": \"Roboto\", \"titleFontSize\": 12}, \"axisBand\": {\"domain\": true, \"ticks\": false, \"labelPadding\": 7}, \"axisY\": {\"domain\": false, \"titleAlign\": \"left\", \"titleAngle\": 0, \"titleX\": -20, \"titleY\": -10}, \"legend\": {\"labelColor\": \"#798184\", \"labelFontSize\": 12, \"symbolSize\": 40, \"titleColor\": \"#384140\", \"titleFontSize\": 12, \"titlePadding\": 10, \"titleFont\": \"Roboto\", \"labelFont\": \"Roboto\"}, \"line\": {\"stroke\": \"#618FE0\", \"strokeWidth\": 2}, \"rule\": {\"stroke\": \"#798184\"}, \"path\": {\"stroke\": \"#618FE0\", \"strokeWidth\": 0.5}, \"rect\": {\"fill\": \"#618FE0\"}, \"point\": {\"filled\": true, \"shape\": \"circle\"}, \"shape\": {\"stroke\": \"#618FE0\"}, \"bar\": {\"fill\": \"#618FE0\", \"stroke\": null}, \"text\": {\"font\": \"Roboto\", \"color\": \"#384140\", \"fontSize\": 12}, \"arc\": {\"stroke\": \"#fff\", \"strokeWidth\": 1}, \"range\": {\"category\": [\"#618FE0\", \"#50D0B0\", \"#E17560\", \"#E8B474\", \"#D889C4\", \"#34A3BC\", \"#A583A4\"], \"ramp\": [\"#001854\", \"#002f72\", \"#04478e\", \"#1e5fab\", \"#4477c5\", \"#6290e1\", \"#7ea9fd\", \"#9ec7ff\", \"#bde4ff\"], \"heatmap\": [\"#001854\", \"#002f72\", \"#04478e\", \"#1e5fab\", \"#4477c5\", \"#6290e1\", \"#7ea9fd\", \"#9ec7ff\", \"#bde4ff\"], \"diverging\": [\"#003b26\", \"#006b52\", \"#1aa082\", \"#55d5b5\", \"#f5f5f5\", \"#ffaa92\", \"#d16f5b\", \"#9e392c\", \"#650200\"]}, \"title\": {\"anchor\": \"start\", \"fontSize\": 20, \"color\": \"#384140\", \"fontWeight\": \"bold\", \"offset\": 20, \"font\": \"Roboto\", \"subtitleColor\": \"#384140\", \"subtitleFontSize\": 16}, \"header\": {\"labelFontSize\": 12, \"titleFontSize\": 16, \"labelColor\": \"#384140\", \"titleColor\": \"#384140\", \"titleFont\": \"Roboto\", \"labelFont\": \"Roboto\"}, \"group\": {\"fill\": \"white\"}, \"background\": \"white\", \"view\": {\"stroke\": \"transparent\", \"continuousHeight\": 300, \"continuousWidth\": 400}}, \"layer\": [{\"data\": {\"name\": \"data-2a27ddc94f3988c3457fa8a1a62221a7\"}, \"mark\": {\"type\": \"bar\", \"size\": 15, \"thickness\": 1}, \"encoding\": {\"x\": {\"type\": \"quantitative\", \"axis\": {\"grid\": true, \"labelFontSize\": 15, \"title\": \"Shapley Value\", \"titleFontSize\": 15}, \"field\": \"Shapley Value\", \"scale\": {\"domain\": [-0.1, 0.4]}}, \"y\": {\"type\": \"nominal\", \"axis\": {\"labelFontSize\": 15, \"title\": \"Feature\", \"titleFontSize\": 15, \"titleX\": -61}, \"field\": \"Feature\", \"sort\": {\"field\": \"sort_col\", \"order\": \"descending\"}}}}, {\"data\": {\"name\": \"data-9c00aa9dc2b1c1a0b4bf9b34ead12925\"}, \"mark\": {\"type\": \"rule\", \"color\": \"#798184\"}, \"encoding\": {\"x\": {\"type\": \"quantitative\", \"field\": \"x\"}}}], \"height\": 225, \"width\": 190, \"$schema\": \"https://vega.github.io/schema/vega-lite/v4.8.1.json\", \"datasets\": {\"data-2a27ddc94f3988c3457fa8a1a62221a7\": [{\"Random seed\": 42, \"NSamples\": 32000, \"Feature\": \"Mean Chest <-> Right Ankle\", \"Shapley Value\": -0.002466564301756069, \"sort_col\": 0.002466564301756069}, {\"Random seed\": 42, \"NSamples\": 32000, \"Feature\": \"STD Chest <-> Right Ankle\", \"Shapley Value\": 0.016877168740722592, \"sort_col\": 0.016877168740722592}, {\"Random seed\": 42, \"NSamples\": 32000, \"Feature\": \"Mean Chest <-> Left Ankle\", \"Shapley Value\": 0.1270652814901303, \"sort_col\": 0.1270652814901303}, {\"Random seed\": 42, \"NSamples\": 32000, \"Feature\": \"STD Chest <-> Left Ankle\", \"Shapley Value\": 0.2276627187129283, \"sort_col\": 0.2276627187129283}, {\"Random seed\": 42, \"NSamples\": 32000, \"Feature\": \"Mean Right Ankle <-> Left Ankle\", \"Shapley Value\": 0.3017117456976497, \"sort_col\": 0.3017117456976497}, {\"Random seed\": 42, \"NSamples\": 32000, \"Feature\": \"STD Right Ankle <-> Left Ankle\", \"Shapley Value\": 0.08424761085549282, \"sort_col\": 0.08424761085549282}, {\"Random seed\": 42, \"NSamples\": 32000, \"Feature\": \"Pruned Events\", \"Shapley Value\": 0.07019117274099917, \"sort_col\": 0.07019117274099917}], \"data-9c00aa9dc2b1c1a0b4bf9b34ead12925\": [{\"x\": 0}]}}, {\"mode\": \"vega-lite\"});\n",
       "</script>"
      ],
      "text/plain": [
       "alt.LayerChart(...)"
      ]
     },
     "execution_count": 24,
     "metadata": {},
     "output_type": "execute_result"
    }
   ],
   "source": [
    "feature_dict = {'rs': 42, 'nsamples': 32000, 'feature_names': model_features, 'plot_features': plot_feats}\n",
    "feature_data = local_feat(f_hs, pos_x_data, feature_dict, positive_sequence_id, sequence_id_feat, average_event, pruning_idx)\n",
    "feature_plot = plot_feat_barplot(feature_data, feature_dict.get('top_feats'), feature_dict.get('plot_features'))\n",
    "feature_plot"
   ]
  },
  {
   "cell_type": "markdown",
   "id": "1a6d9b36",
   "metadata": {},
   "source": [
    "##### Cell-level explanation"
   ]
  },
  {
   "cell_type": "code",
   "execution_count": 25,
   "id": "3a13c961",
   "metadata": {},
   "outputs": [
    {
     "name": "stdout",
     "output_type": "stream",
     "text": [
      "No path to feature data provided. Calculating data\n"
     ]
    },
    {
     "data": {
      "text/html": [
       "\n",
       "<div id=\"altair-viz-973dc7a1b1e24326ac7b9082f03d62ad\"></div>\n",
       "<script type=\"text/javascript\">\n",
       "  (function(spec, embedOpt){\n",
       "    let outputDiv = document.currentScript.previousElementSibling;\n",
       "    if (outputDiv.id !== \"altair-viz-973dc7a1b1e24326ac7b9082f03d62ad\") {\n",
       "      outputDiv = document.getElementById(\"altair-viz-973dc7a1b1e24326ac7b9082f03d62ad\");\n",
       "    }\n",
       "    const paths = {\n",
       "      \"vega\": \"https://cdn.jsdelivr.net/npm//vega@5?noext\",\n",
       "      \"vega-lib\": \"https://cdn.jsdelivr.net/npm//vega-lib?noext\",\n",
       "      \"vega-lite\": \"https://cdn.jsdelivr.net/npm//vega-lite@4.8.1?noext\",\n",
       "      \"vega-embed\": \"https://cdn.jsdelivr.net/npm//vega-embed@6?noext\",\n",
       "    };\n",
       "\n",
       "    function loadScript(lib) {\n",
       "      return new Promise(function(resolve, reject) {\n",
       "        var s = document.createElement('script');\n",
       "        s.src = paths[lib];\n",
       "        s.async = true;\n",
       "        s.onload = () => resolve(paths[lib]);\n",
       "        s.onerror = () => reject(`Error loading script: ${paths[lib]}`);\n",
       "        document.getElementsByTagName(\"head\")[0].appendChild(s);\n",
       "      });\n",
       "    }\n",
       "\n",
       "    function showError(err) {\n",
       "      outputDiv.innerHTML = `<div class=\"error\" style=\"color:red;\">${err}</div>`;\n",
       "      throw err;\n",
       "    }\n",
       "\n",
       "    function displayChart(vegaEmbed) {\n",
       "      vegaEmbed(outputDiv, spec, embedOpt)\n",
       "        .catch(err => showError(`Javascript Error: ${err.message}<br>This usually means there's a typo in your chart specification. See the javascript console for the full traceback.`));\n",
       "    }\n",
       "\n",
       "    if(typeof define === \"function\" && define.amd) {\n",
       "      requirejs.config({paths});\n",
       "      require([\"vega-embed\"], displayChart, err => showError(`Error loading script: ${err.message}`));\n",
       "    } else if (typeof vegaEmbed === \"function\") {\n",
       "      displayChart(vegaEmbed);\n",
       "    } else {\n",
       "      loadScript(\"vega\")\n",
       "        .then(() => loadScript(\"vega-lite\"))\n",
       "        .then(() => loadScript(\"vega-embed\"))\n",
       "        .catch(showError)\n",
       "        .then(() => displayChart(vegaEmbed));\n",
       "    }\n",
       "  })({\"config\": {\"axis\": {\"domain\": true, \"domainColor\": \"#798184\", \"grid\": false, \"gridColor\": \"#798184\", \"gridOpacity\": 0.5, \"gridDash\": [3, 5], \"gridWidth\": 0.8, \"gridCap\": \"round\", \"labelPadding\": 3, \"labelFont\": \"Roboto\", \"labelColor\": \"#798184\", \"tickSize\": 5, \"tickColor\": \"#798184\", \"tickOpacity\": 0.5, \"titleColor\": \"#384140\", \"titleFont\": \"Roboto\", \"titleFontSize\": 12}, \"axisBand\": {\"domain\": true, \"ticks\": false, \"labelPadding\": 7}, \"axisY\": {\"domain\": false, \"titleAlign\": \"left\", \"titleAngle\": 0, \"titleX\": -20, \"titleY\": -10}, \"legend\": {\"labelColor\": \"#798184\", \"labelFontSize\": 12, \"symbolSize\": 40, \"titleColor\": \"#384140\", \"titleFontSize\": 12, \"titlePadding\": 10, \"titleFont\": \"Roboto\", \"labelFont\": \"Roboto\"}, \"line\": {\"stroke\": \"#618FE0\", \"strokeWidth\": 2}, \"rule\": {\"stroke\": \"#798184\"}, \"path\": {\"stroke\": \"#618FE0\", \"strokeWidth\": 0.5}, \"rect\": {\"fill\": \"#618FE0\"}, \"point\": {\"filled\": true, \"shape\": \"circle\"}, \"shape\": {\"stroke\": \"#618FE0\"}, \"bar\": {\"fill\": \"#618FE0\", \"stroke\": null}, \"text\": {\"font\": \"Roboto\", \"color\": \"#384140\", \"fontSize\": 12}, \"arc\": {\"stroke\": \"#fff\", \"strokeWidth\": 1}, \"range\": {\"category\": [\"#618FE0\", \"#50D0B0\", \"#E17560\", \"#E8B474\", \"#D889C4\", \"#34A3BC\", \"#A583A4\"], \"ramp\": [\"#001854\", \"#002f72\", \"#04478e\", \"#1e5fab\", \"#4477c5\", \"#6290e1\", \"#7ea9fd\", \"#9ec7ff\", \"#bde4ff\"], \"heatmap\": [\"#001854\", \"#002f72\", \"#04478e\", \"#1e5fab\", \"#4477c5\", \"#6290e1\", \"#7ea9fd\", \"#9ec7ff\", \"#bde4ff\"], \"diverging\": [\"#003b26\", \"#006b52\", \"#1aa082\", \"#55d5b5\", \"#f5f5f5\", \"#ffaa92\", \"#d16f5b\", \"#9e392c\", \"#650200\"]}, \"title\": {\"anchor\": \"start\", \"fontSize\": 20, \"color\": \"#384140\", \"fontWeight\": \"bold\", \"offset\": 20, \"font\": \"Roboto\", \"subtitleColor\": \"#384140\", \"subtitleFontSize\": 16}, \"header\": {\"labelFontSize\": 12, \"titleFontSize\": 16, \"labelColor\": \"#384140\", \"titleColor\": \"#384140\", \"titleFont\": \"Roboto\", \"labelFont\": \"Roboto\"}, \"group\": {\"fill\": \"white\"}, \"background\": \"white\", \"view\": {\"stroke\": \"transparent\", \"continuousHeight\": 300, \"continuousWidth\": 400}}, \"hconcat\": [{\"layer\": [{\"mark\": \"rect\", \"encoding\": {\"color\": {\"type\": \"quantitative\", \"field\": \"rounded\", \"legend\": null, \"scale\": {\"domain\": [-0.5, 0.5], \"range\": [\"#5f8fd6\", \"#99c3fb\", \"#f5f5f5\", \"#ffaa92\", \"#d16f5b\"]}, \"title\": null}, \"x\": {\"type\": \"nominal\", \"axis\": {\"titleFontSize\": 15}, \"field\": \"Event\"}, \"y\": {\"type\": \"nominal\", \"axis\": {\"domain\": false, \"labels\": false, \"title\": null}, \"field\": \"Feature\"}}}, {\"mark\": {\"type\": \"text\", \"align\": \"right\", \"baseline\": \"middle\", \"color\": \"#798184\", \"dx\": 18, \"fontSize\": 15}, \"encoding\": {\"text\": {\"type\": \"nominal\", \"field\": \"rounded_str\"}, \"x\": {\"type\": \"nominal\", \"axis\": {\"domain\": false, \"labelAngle\": 0, \"labelFontSize\": 15, \"labelOffset\": 24, \"labelPadding\": 30, \"orient\": \"top\", \"title\": null}, \"field\": \"Event\"}, \"y\": {\"type\": \"nominal\", \"axis\": {\"domain\": false, \"labels\": false, \"title\": null}, \"field\": \"Feature\"}}}], \"data\": {\"name\": \"data-ba746f19f49565fecceaf4ad58d971eb\"}, \"height\": 225, \"width\": 66.66666666666667}, {\"layer\": [{\"mark\": \"rect\", \"encoding\": {\"color\": {\"type\": \"quantitative\", \"field\": \"rounded\", \"legend\": {\"gradientLength\": 225, \"gradientThickness\": 10, \"labelFontSize\": 15, \"orient\": \"right\"}, \"scale\": {\"domain\": [-0.5, 0.5], \"range\": [\"#5f8fd6\", \"#99c3fb\", \"#f5f5f5\", \"#ffaa92\", \"#d16f5b\"]}, \"title\": null}, \"x\": {\"type\": \"nominal\", \"axis\": {\"titleFontSize\": 15}, \"field\": \"Event\", \"sort\": [\"Event -8\", \"Event -5\", \"Event -2\"]}, \"y\": {\"type\": \"nominal\", \"axis\": {\"domain\": false, \"labelFontSize\": 15, \"title\": null}, \"field\": \"Feature\", \"sort\": [\"Mean Chest <-> Left Ankle\", \"STD Chest <-> Left Ankle\", \"Mean Right Ankle <-> Left Ankle\"]}}}, {\"mark\": {\"type\": \"text\", \"align\": \"right\", \"baseline\": \"middle\", \"color\": \"#798184\", \"dx\": 18, \"fontSize\": 15}, \"encoding\": {\"text\": {\"type\": \"nominal\", \"field\": \"rounded_str\"}, \"x\": {\"type\": \"nominal\", \"axis\": {\"domain\": false, \"labelAngle\": 30, \"labelFontSize\": 15, \"orient\": \"top\", \"title\": \"Shapley Value\", \"titleX\": 172, \"titleY\": 245}, \"field\": \"Event\", \"sort\": [\"Event -8\", \"Event -5\", \"Event -2\"]}, \"y\": {\"type\": \"nominal\", \"axis\": {\"domain\": false, \"labelFontSize\": 15, \"title\": null}, \"field\": \"Feature\", \"sort\": [\"Mean Chest <-> Left Ankle\", \"STD Chest <-> Left Ankle\", \"Mean Right Ankle <-> Left Ankle\"]}}}], \"data\": {\"name\": \"data-c07211a64be2b1922988de20e6b6508a\"}, \"height\": 225, \"width\": 160}], \"resolve\": {\"scale\": {\"color\": \"independent\"}}, \"$schema\": \"https://vega.github.io/schema/vega-lite/v4.8.1.json\", \"datasets\": {\"data-ba746f19f49565fecceaf4ad58d971eb\": [{\"Event\": [\"Pruned\", \"Events\"], \"Feature\": \"Other features\", \"rounded\": 0.075, \"rounded_str\": \"0.075\"}], \"data-c07211a64be2b1922988de20e6b6508a\": [{\"Event\": \"Other Events\", \"Feature\": \"Mean Right Ankle <-> Left Ankle\", \"Shapley Value\": 0.18210280058178385, \"rounded\": 0.182, \"rounded_str\": \"0.182\"}, {\"Event\": \"Other Events\", \"Feature\": \"STD Chest <-> Left Ankle\", \"Shapley Value\": 0.0969956136843032, \"rounded\": 0.097, \"rounded_str\": \"0.097\"}, {\"Event\": \"Other Events\", \"Feature\": \"Mean Chest <-> Left Ankle\", \"Shapley Value\": 0.07793436776954416, \"rounded\": 0.078, \"rounded_str\": \"0.078\"}, {\"Event\": \"Other Events\", \"Feature\": \"Other Features\", \"Shapley Value\": 0.07578336019780768, \"rounded\": 0.076, \"rounded_str\": \"0.076\"}, {\"Event\": \"Event -2\", \"Feature\": \"Mean Right Ankle <-> Left Ankle\", \"Shapley Value\": 0.053250092842848706, \"rounded\": 0.053, \"rounded_str\": \"0.053\"}, {\"Event\": \"Event -8\", \"Feature\": \"STD Chest <-> Left Ankle\", \"Shapley Value\": 0.04922145356563434, \"rounded\": 0.049, \"rounded_str\": \"0.049\"}, {\"Event\": \"Event -2\", \"Feature\": \"STD Chest <-> Left Ankle\", \"Shapley Value\": 0.0478295782479472, \"rounded\": 0.048, \"rounded_str\": \"0.048\"}, {\"Event\": \"Event -5\", \"Feature\": \"Mean Right Ankle <-> Left Ankle\", \"Shapley Value\": 0.03211815388002642, \"rounded\": 0.032, \"rounded_str\": \"0.032\"}, {\"Event\": \"Event -8\", \"Feature\": \"Mean Right Ankle <-> Left Ankle\", \"Shapley Value\": 0.027326629609815134, \"rounded\": 0.027, \"rounded_str\": \"0.027\"}, {\"Event\": \"Event -2\", \"Feature\": \"Mean Chest <-> Left Ankle\", \"Shapley Value\": 0.024466404002122855, \"rounded\": 0.024, \"rounded_str\": \"0.024\"}, {\"Event\": \"Event -5\", \"Feature\": \"Other Features\", \"Shapley Value\": 0.024301444116664295, \"rounded\": 0.024, \"rounded_str\": \"0.024\"}, {\"Event\": \"Event -5\", \"Feature\": \"Mean Chest <-> Left Ankle\", \"Shapley Value\": 0.021721421987923595, \"rounded\": 0.022, \"rounded_str\": \"0.022\"}, {\"Event\": \"Event -2\", \"Feature\": \"Other Features\", \"Shapley Value\": 0.014775253330398919, \"rounded\": 0.015, \"rounded_str\": \"0.015\"}, {\"Event\": \"Event -5\", \"Feature\": \"STD Chest <-> Left Ankle\", \"Shapley Value\": 0.013983088709851654, \"rounded\": 0.014, \"rounded_str\": \"0.014\"}, {\"Event\": \"Event -8\", \"Feature\": \"Mean Chest <-> Left Ankle\", \"Shapley Value\": 0.009530340606251686, \"rounded\": 0.01, \"rounded_str\": \"0.010\"}, {\"Event\": \"Event -8\", \"Feature\": \"Other Features\", \"Shapley Value\": -0.0008112322155399143, \"rounded\": -0.001, \"rounded_str\": \"-0.001\"}]}}, {\"mode\": \"vega-lite\"});\n",
       "</script>"
      ],
      "text/plain": [
       "alt.HConcatChart(...)"
      ]
     },
     "execution_count": 25,
     "metadata": {},
     "output_type": "execute_result"
    }
   ],
   "source": [
    "cell_dict = {'rs': 42, 'nsamples': 32000, 'top_x_events': 3, 'top_x_feats': 3}\n",
    "cell_data = local_cell_level(f_hs, pos_x_data, cell_dict, event_data, feature_data, positive_sequence_id, sequence_id_feat, average_event, pruning_idx)\n",
    "feat_names = list(feature_data['Feature'].values)[:-1] # exclude pruned events\n",
    "cell_plot = plot_cell_level(cell_data, feat_names, feature_dict.get('plot_features'))\n",
    "cell_plot"
   ]
  },
  {
   "cell_type": "markdown",
   "id": "37d78212",
   "metadata": {},
   "source": [
    "### Global Plots"
   ]
  },
  {
   "cell_type": "code",
   "execution_count": 26,
   "id": "0b57cf3b",
   "metadata": {},
   "outputs": [],
   "source": [
    "from timeshap.explainer import prune_all, pruning_statistics, event_explain_all, feat_explain_all\n",
    "from timeshap.plot import plot_global_event, plot_global_feat\n",
    "\n",
    "pos_dataset = d_test_normalized[d_test_normalized['label'] == 1]"
   ]
  },
  {
   "cell_type": "markdown",
   "id": "21399cce",
   "metadata": {},
   "source": [
    "##### Pruning statistics"
   ]
  },
  {
   "cell_type": "code",
   "execution_count": 27,
   "id": "3f522caf",
   "metadata": {},
   "outputs": [
    {
     "data": {
      "text/html": [
       "<div>\n",
       "<style scoped>\n",
       "    .dataframe tbody tr th:only-of-type {\n",
       "        vertical-align: middle;\n",
       "    }\n",
       "\n",
       "    .dataframe tbody tr th {\n",
       "        vertical-align: top;\n",
       "    }\n",
       "\n",
       "    .dataframe thead th {\n",
       "        text-align: right;\n",
       "    }\n",
       "</style>\n",
       "<table border=\"1\" class=\"dataframe\">\n",
       "  <thead>\n",
       "    <tr style=\"text-align: right;\">\n",
       "      <th></th>\n",
       "      <th>Tolerance</th>\n",
       "      <th>Mean</th>\n",
       "      <th>Std</th>\n",
       "    </tr>\n",
       "  </thead>\n",
       "  <tbody>\n",
       "    <tr>\n",
       "      <th>0</th>\n",
       "      <td>0.05</td>\n",
       "      <td>11.666667</td>\n",
       "      <td>5.131601</td>\n",
       "    </tr>\n",
       "    <tr>\n",
       "      <th>1</th>\n",
       "      <td>0.075</td>\n",
       "      <td>9.666667</td>\n",
       "      <td>5.859465</td>\n",
       "    </tr>\n",
       "    <tr>\n",
       "      <th>2</th>\n",
       "      <td>0.076</td>\n",
       "      <td>9.666667</td>\n",
       "      <td>5.859465</td>\n",
       "    </tr>\n",
       "    <tr>\n",
       "      <th>3</th>\n",
       "      <td>No Pruning</td>\n",
       "      <td>480.000000</td>\n",
       "      <td>0.000000</td>\n",
       "    </tr>\n",
       "  </tbody>\n",
       "</table>\n",
       "</div>"
      ],
      "text/plain": [
       "    Tolerance        Mean       Std\n",
       "0        0.05   11.666667  5.131601\n",
       "1       0.075    9.666667  5.859465\n",
       "2       0.076    9.666667  5.859465\n",
       "3  No Pruning  480.000000  0.000000"
      ]
     },
     "execution_count": 27,
     "metadata": {},
     "output_type": "execute_result"
    }
   ],
   "source": [
    "pruning_dict = {'tol': [0.05, 0.075, 0.076], 'path': 'outputs/prun_all.csv'}\n",
    "prun_indexes = prune_all(f_hs, pos_dataset, sequence_id_feat, average_event, pruning_dict, model_features, time_feat)\n",
    "pruning_stats = pruning_statistics(prun_indexes, pruning_dict.get('tol'), sequence_id_feat)\n",
    "pruning_stats"
   ]
  },
  {
   "cell_type": "markdown",
   "id": "0df615f3",
   "metadata": {},
   "source": [
    "##### Global event-level"
   ]
  },
  {
   "cell_type": "code",
   "execution_count": 28,
   "id": "5669e063",
   "metadata": {},
   "outputs": [
    {
     "data": {
      "text/html": [
       "\n",
       "<div id=\"altair-viz-686b38bb5aca40d3857c1af602e8c4b8\"></div>\n",
       "<script type=\"text/javascript\">\n",
       "  (function(spec, embedOpt){\n",
       "    let outputDiv = document.currentScript.previousElementSibling;\n",
       "    if (outputDiv.id !== \"altair-viz-686b38bb5aca40d3857c1af602e8c4b8\") {\n",
       "      outputDiv = document.getElementById(\"altair-viz-686b38bb5aca40d3857c1af602e8c4b8\");\n",
       "    }\n",
       "    const paths = {\n",
       "      \"vega\": \"https://cdn.jsdelivr.net/npm//vega@5?noext\",\n",
       "      \"vega-lib\": \"https://cdn.jsdelivr.net/npm//vega-lib?noext\",\n",
       "      \"vega-lite\": \"https://cdn.jsdelivr.net/npm//vega-lite@4.8.1?noext\",\n",
       "      \"vega-embed\": \"https://cdn.jsdelivr.net/npm//vega-embed@6?noext\",\n",
       "    };\n",
       "\n",
       "    function loadScript(lib) {\n",
       "      return new Promise(function(resolve, reject) {\n",
       "        var s = document.createElement('script');\n",
       "        s.src = paths[lib];\n",
       "        s.async = true;\n",
       "        s.onload = () => resolve(paths[lib]);\n",
       "        s.onerror = () => reject(`Error loading script: ${paths[lib]}`);\n",
       "        document.getElementsByTagName(\"head\")[0].appendChild(s);\n",
       "      });\n",
       "    }\n",
       "\n",
       "    function showError(err) {\n",
       "      outputDiv.innerHTML = `<div class=\"error\" style=\"color:red;\">${err}</div>`;\n",
       "      throw err;\n",
       "    }\n",
       "\n",
       "    function displayChart(vegaEmbed) {\n",
       "      vegaEmbed(outputDiv, spec, embedOpt)\n",
       "        .catch(err => showError(`Javascript Error: ${err.message}<br>This usually means there's a typo in your chart specification. See the javascript console for the full traceback.`));\n",
       "    }\n",
       "\n",
       "    if(typeof define === \"function\" && define.amd) {\n",
       "      requirejs.config({paths});\n",
       "      require([\"vega-embed\"], displayChart, err => showError(`Error loading script: ${err.message}`));\n",
       "    } else if (typeof vegaEmbed === \"function\") {\n",
       "      displayChart(vegaEmbed);\n",
       "    } else {\n",
       "      loadScript(\"vega\")\n",
       "        .then(() => loadScript(\"vega-lite\"))\n",
       "        .then(() => loadScript(\"vega-embed\"))\n",
       "        .catch(showError)\n",
       "        .then(() => displayChart(vegaEmbed));\n",
       "    }\n",
       "  })({\"config\": {\"axis\": {\"domain\": true, \"domainColor\": \"#798184\", \"grid\": false, \"gridColor\": \"#798184\", \"gridOpacity\": 0.5, \"gridDash\": [3, 5], \"gridWidth\": 0.8, \"gridCap\": \"round\", \"labelPadding\": 3, \"labelFont\": \"Roboto\", \"labelColor\": \"#798184\", \"tickSize\": 5, \"tickColor\": \"#798184\", \"tickOpacity\": 0.5, \"titleColor\": \"#384140\", \"titleFont\": \"Roboto\", \"titleFontSize\": 12}, \"axisBand\": {\"domain\": true, \"ticks\": false, \"labelPadding\": 7}, \"axisY\": {\"domain\": false, \"titleAlign\": \"left\", \"titleAngle\": 0, \"titleX\": -20, \"titleY\": -10}, \"legend\": {\"labelColor\": \"#798184\", \"labelFontSize\": 12, \"symbolSize\": 40, \"titleColor\": \"#384140\", \"titleFontSize\": 12, \"titlePadding\": 10, \"titleFont\": \"Roboto\", \"labelFont\": \"Roboto\"}, \"line\": {\"stroke\": \"#618FE0\", \"strokeWidth\": 2}, \"rule\": {\"stroke\": \"#798184\"}, \"path\": {\"stroke\": \"#618FE0\", \"strokeWidth\": 0.5}, \"rect\": {\"fill\": \"#618FE0\"}, \"point\": {\"filled\": true, \"shape\": \"circle\"}, \"shape\": {\"stroke\": \"#618FE0\"}, \"bar\": {\"fill\": \"#618FE0\", \"stroke\": null}, \"text\": {\"font\": \"Roboto\", \"color\": \"#384140\", \"fontSize\": 12}, \"arc\": {\"stroke\": \"#fff\", \"strokeWidth\": 1}, \"range\": {\"category\": [\"#618FE0\", \"#50D0B0\", \"#E17560\", \"#E8B474\", \"#D889C4\", \"#34A3BC\", \"#A583A4\"], \"ramp\": [\"#001854\", \"#002f72\", \"#04478e\", \"#1e5fab\", \"#4477c5\", \"#6290e1\", \"#7ea9fd\", \"#9ec7ff\", \"#bde4ff\"], \"heatmap\": [\"#001854\", \"#002f72\", \"#04478e\", \"#1e5fab\", \"#4477c5\", \"#6290e1\", \"#7ea9fd\", \"#9ec7ff\", \"#bde4ff\"], \"diverging\": [\"#003b26\", \"#006b52\", \"#1aa082\", \"#55d5b5\", \"#f5f5f5\", \"#ffaa92\", \"#d16f5b\", \"#9e392c\", \"#650200\"]}, \"title\": {\"anchor\": \"start\", \"fontSize\": 20, \"color\": \"#384140\", \"fontWeight\": \"bold\", \"offset\": 20, \"font\": \"Roboto\", \"subtitleColor\": \"#384140\", \"subtitleFontSize\": 16}, \"header\": {\"labelFontSize\": 12, \"titleFontSize\": 16, \"labelColor\": \"#384140\", \"titleColor\": \"#384140\", \"titleFont\": \"Roboto\", \"labelFont\": \"Roboto\"}, \"group\": {\"fill\": \"white\"}, \"background\": \"white\", \"view\": {\"stroke\": \"transparent\", \"continuousHeight\": 300, \"continuousWidth\": 400}}, \"data\": {\"name\": \"data-5e15456c0f1278a3cf7b6070b024d75d\"}, \"mark\": {\"type\": \"point\", \"stroke\": \"white\", \"strokeWidth\": 0.6}, \"encoding\": {\"color\": {\"type\": \"nominal\", \"field\": \"type\", \"legend\": {\"fillColor\": \"white\", \"orient\": \"top-left\", \"symbolSize\": 50, \"symbolStrokeWidth\": 0, \"title\": null}, \"scale\": {\"domain\": [\"Shapley Value\", \"Mean\"], \"range\": [\"#48caaa\", \"#d76d58\"]}}, \"opacity\": {\"condition\": {\"value\": 1.0, \"test\": \"(datum.type === 'Mean')\"}, \"value\": 0.2}, \"size\": {\"condition\": {\"value\": 70, \"test\": \"(datum.type === 'Mean')\"}, \"value\": 30}, \"x\": {\"type\": \"ordinal\", \"axis\": {\"labelAngle\": 0}, \"field\": \"t (event index)\"}, \"y\": {\"type\": \"quantitative\", \"axis\": {\"grid\": true, \"titleX\": -23}, \"field\": \"Shapley Value\", \"scale\": {\"domain\": [-0.3, 0.9]}, \"title\": \"Shapley Value\"}}, \"height\": 150, \"width\": 360, \"$schema\": \"https://vega.github.io/schema/vega-lite/v4.8.1.json\", \"datasets\": {\"data-5e15456c0f1278a3cf7b6070b024d75d\": [{\"Shapley Value\": 0.0805140938815257, \"t (event index)\": 0, \"type\": \"Shapley Value\"}, {\"Shapley Value\": 0.1496628531042236, \"t (event index)\": -1, \"type\": \"Shapley Value\"}, {\"Shapley Value\": 0.0704011757067913, \"t (event index)\": -2, \"type\": \"Shapley Value\"}, {\"Shapley Value\": 0.0192588659776055, \"t (event index)\": -3, \"type\": \"Shapley Value\"}, {\"Shapley Value\": 0.1042350960303914, \"t (event index)\": -4, \"type\": \"Shapley Value\"}, {\"Shapley Value\": 0.0325774623308116, \"t (event index)\": -5, \"type\": \"Shapley Value\"}, {\"Shapley Value\": 0.0915446476823439, \"t (event index)\": -6, \"type\": \"Shapley Value\"}, {\"Shapley Value\": 0.0923362024993315, \"t (event index)\": -7, \"type\": \"Shapley Value\"}, {\"Shapley Value\": 0.0384040501813521, \"t (event index)\": -8, \"type\": \"Shapley Value\"}, {\"Shapley Value\": 0.0184696936851673, \"t (event index)\": -9, \"type\": \"Shapley Value\"}, {\"Shapley Value\": 0.0116183604060157, \"t (event index)\": -10, \"type\": \"Shapley Value\"}, {\"Shapley Value\": 0.015235083302945, \"t (event index)\": -11, \"type\": \"Shapley Value\"}, {\"Shapley Value\": 0.0205407609810228, \"t (event index)\": -12, \"type\": \"Shapley Value\"}, {\"Shapley Value\": 0.0137361107211307, \"t (event index)\": -13, \"type\": \"Shapley Value\"}, {\"Shapley Value\": 0.006159782540017, \"t (event index)\": -14, \"type\": \"Shapley Value\"}, {\"Shapley Value\": 0.0098840024007118, \"t (event index)\": -15, \"type\": \"Shapley Value\"}, {\"Shapley Value\": 0.0057957356254347, \"t (event index)\": -16, \"type\": \"Shapley Value\"}, {\"Shapley Value\": 0.0070955926768622, \"t (event index)\": -17, \"type\": \"Shapley Value\"}, {\"Shapley Value\": 0.0038057461611525, \"t (event index)\": -18, \"type\": \"Shapley Value\"}, {\"Shapley Value\": 0.0038747725590123, \"t (event index)\": -19, \"type\": \"Shapley Value\"}, {\"Shapley Value\": 0.0, \"t (event index)\": -20, \"type\": \"Shapley Value\"}, {\"Shapley Value\": 0.0811704082314698, \"t (event index)\": 0, \"type\": \"Shapley Value\"}, {\"Shapley Value\": 0.1462364521506694, \"t (event index)\": -1, \"type\": \"Shapley Value\"}, {\"Shapley Value\": 0.0701071832250516, \"t (event index)\": -2, \"type\": \"Shapley Value\"}, {\"Shapley Value\": 0.0201527313226986, \"t (event index)\": -3, \"type\": \"Shapley Value\"}, {\"Shapley Value\": 0.1026214223170164, \"t (event index)\": -4, \"type\": \"Shapley Value\"}, {\"Shapley Value\": 0.0326110701489371, \"t (event index)\": -5, \"type\": \"Shapley Value\"}, {\"Shapley Value\": 0.0880153813094777, \"t (event index)\": -6, \"type\": \"Shapley Value\"}, {\"Shapley Value\": 0.0904237983612942, \"t (event index)\": -7, \"type\": \"Shapley Value\"}, {\"Shapley Value\": 0.039332746932567, \"t (event index)\": -8, \"type\": \"Shapley Value\"}, {\"Shapley Value\": 0.0184618506969234, \"t (event index)\": -9, \"type\": \"Shapley Value\"}, {\"Shapley Value\": 0.0120852021799019, \"t (event index)\": -10, \"type\": \"Shapley Value\"}, {\"Shapley Value\": 0.014635649457383, \"t (event index)\": -11, \"type\": \"Shapley Value\"}, {\"Shapley Value\": 0.0182974376373544, \"t (event index)\": -12, \"type\": \"Shapley Value\"}, {\"Shapley Value\": 0.0807858335321816, \"t (event index)\": 0, \"type\": \"Shapley Value\"}, {\"Shapley Value\": 0.1455583305766613, \"t (event index)\": -1, \"type\": \"Shapley Value\"}, {\"Shapley Value\": 0.0697540076823685, \"t (event index)\": -2, \"type\": \"Shapley Value\"}, {\"Shapley Value\": 0.0200668369376764, \"t (event index)\": -3, \"type\": \"Shapley Value\"}, {\"Shapley Value\": 0.1018574960639903, \"t (event index)\": -4, \"type\": \"Shapley Value\"}, {\"Shapley Value\": 0.0324123238123884, \"t (event index)\": -5, \"type\": \"Shapley Value\"}, {\"Shapley Value\": 0.0869454335877478, \"t (event index)\": -6, \"type\": \"Shapley Value\"}, {\"Shapley Value\": 0.0890055520377922, \"t (event index)\": -7, \"type\": \"Shapley Value\"}, {\"Shapley Value\": 0.0385729827383807, \"t (event index)\": -8, \"type\": \"Shapley Value\"}, {\"Shapley Value\": 0.0178386899878398, \"t (event index)\": -9, \"type\": \"Shapley Value\"}, {\"Shapley Value\": 0.0104321025708293, \"t (event index)\": -10, \"type\": \"Shapley Value\"}, {\"Shapley Value\": 0.0135336430997894, \"t (event index)\": -11, \"type\": \"Shapley Value\"}, {\"Shapley Value\": 0.0275663663501872, \"t (event index)\": 0, \"type\": \"Shapley Value\"}, {\"Shapley Value\": 0.0440146478629278, \"t (event index)\": -1, \"type\": \"Shapley Value\"}, {\"Shapley Value\": 0.0389113337269691, \"t (event index)\": -2, \"type\": \"Shapley Value\"}, {\"Shapley Value\": 0.0409588690895169, \"t (event index)\": -3, \"type\": \"Shapley Value\"}, {\"Shapley Value\": 0.0608538596393717, \"t (event index)\": -4, \"type\": \"Shapley Value\"}, {\"Shapley Value\": 0.0283987422529466, \"t (event index)\": -5, \"type\": \"Shapley Value\"}, {\"Shapley Value\": 0.0216396024142651, \"t (event index)\": -6, \"type\": \"Shapley Value\"}, {\"Shapley Value\": 0.0330273474256951, \"t (event index)\": -7, \"type\": \"Shapley Value\"}, {\"Shapley Value\": 0.0215961419453082, \"t (event index)\": -8, \"type\": \"Shapley Value\"}, {\"Shapley Value\": 0.02217750099229, \"t (event index)\": -9, \"type\": \"Shapley Value\"}, {\"Shapley Value\": 0.0075987830673797, \"t (event index)\": -10, \"type\": \"Shapley Value\"}, {\"Shapley Value\": 0.0068134336597627, \"t (event index)\": -11, \"type\": \"Shapley Value\"}, {\"Shapley Value\": 0.005212398564243, \"t (event index)\": -12, \"type\": \"Shapley Value\"}, {\"Shapley Value\": 0.0037353989773149, \"t (event index)\": -13, \"type\": \"Shapley Value\"}, {\"Shapley Value\": 0.0065227412616895, \"t (event index)\": -14, \"type\": \"Shapley Value\"}, {\"Shapley Value\": 0.0038416823019718, \"t (event index)\": -15, \"type\": \"Shapley Value\"}, {\"Shapley Value\": 0.0011405108573424, \"t (event index)\": -16, \"type\": \"Shapley Value\"}, {\"Shapley Value\": 0.0021716589737078, \"t (event index)\": -17, \"type\": \"Shapley Value\"}, {\"Shapley Value\": 0.0, \"t (event index)\": -18, \"type\": \"Shapley Value\"}, {\"Shapley Value\": 0.0005750241108084, \"t (event index)\": -19, \"type\": \"Shapley Value\"}, {\"Shapley Value\": 0.0019293394269481, \"t (event index)\": -20, \"type\": \"Shapley Value\"}, {\"Shapley Value\": 0.0299946214637439, \"t (event index)\": 0, \"type\": \"Shapley Value\"}, {\"Shapley Value\": 0.0439774893103706, \"t (event index)\": -1, \"type\": \"Shapley Value\"}, {\"Shapley Value\": 0.0407164627488033, \"t (event index)\": -2, \"type\": \"Shapley Value\"}, {\"Shapley Value\": 0.0422999051018072, \"t (event index)\": -3, \"type\": \"Shapley Value\"}, {\"Shapley Value\": 0.0599138917601833, \"t (event index)\": -4, \"type\": \"Shapley Value\"}, {\"Shapley Value\": 0.0271438775613539, \"t (event index)\": -5, \"type\": \"Shapley Value\"}, {\"Shapley Value\": 0.0225176531200202, \"t (event index)\": -6, \"type\": \"Shapley Value\"}, {\"Shapley Value\": 0.0330959081541711, \"t (event index)\": -7, \"type\": \"Shapley Value\"}, {\"Shapley Value\": 0.0219151609455051, \"t (event index)\": -8, \"type\": \"Shapley Value\"}, {\"Shapley Value\": 0.0226081394790322, \"t (event index)\": -9, \"type\": \"Shapley Value\"}, {\"Shapley Value\": 0.0090830270875438, \"t (event index)\": -10, \"type\": \"Shapley Value\"}, {\"Shapley Value\": 0.0082749604669531, \"t (event index)\": -11, \"type\": \"Shapley Value\"}, {\"Shapley Value\": 0.0076292213742542, \"t (event index)\": -12, \"type\": \"Shapley Value\"}, {\"Shapley Value\": 0.005791812756248, \"t (event index)\": -13, \"type\": \"Shapley Value\"}, {\"Shapley Value\": 0.0071995401455868, \"t (event index)\": -14, \"type\": \"Shapley Value\"}, {\"Shapley Value\": 0.0031947529817938, \"t (event index)\": -15, \"type\": \"Shapley Value\"}, {\"Shapley Value\": 0.0299614078646834, \"t (event index)\": 0, \"type\": \"Shapley Value\"}, {\"Shapley Value\": 0.0440426067516925, \"t (event index)\": -1, \"type\": \"Shapley Value\"}, {\"Shapley Value\": 0.0404673653897196, \"t (event index)\": -2, \"type\": \"Shapley Value\"}, {\"Shapley Value\": 0.0421687686414751, \"t (event index)\": -3, \"type\": \"Shapley Value\"}, {\"Shapley Value\": 0.0600301390363346, \"t (event index)\": -4, \"type\": \"Shapley Value\"}, {\"Shapley Value\": 0.027642040682188, \"t (event index)\": -5, \"type\": \"Shapley Value\"}, {\"Shapley Value\": 0.0223153013937664, \"t (event index)\": -6, \"type\": \"Shapley Value\"}, {\"Shapley Value\": 0.0329398993004395, \"t (event index)\": -7, \"type\": \"Shapley Value\"}, {\"Shapley Value\": 0.0216651189148356, \"t (event index)\": -8, \"type\": \"Shapley Value\"}, {\"Shapley Value\": 0.0226720445688947, \"t (event index)\": -9, \"type\": \"Shapley Value\"}, {\"Shapley Value\": 0.0089937203793399, \"t (event index)\": -10, \"type\": \"Shapley Value\"}, {\"Shapley Value\": 0.0078428248141864, \"t (event index)\": -11, \"type\": \"Shapley Value\"}, {\"Shapley Value\": 0.0069869599583283, \"t (event index)\": -12, \"type\": \"Shapley Value\"}, {\"Shapley Value\": 0.0054233955582942, \"t (event index)\": -13, \"type\": \"Shapley Value\"}, {\"Shapley Value\": 0.0096639719545992, \"t (event index)\": 0, \"type\": \"Shapley Value\"}, {\"Shapley Value\": 0.0093274869565825, \"t (event index)\": -1, \"type\": \"Shapley Value\"}, {\"Shapley Value\": 0.0097029991667016, \"t (event index)\": -2, \"type\": \"Shapley Value\"}, {\"Shapley Value\": 0.0126019293937696, \"t (event index)\": -3, \"type\": \"Shapley Value\"}, {\"Shapley Value\": 0.0154256191885657, \"t (event index)\": -4, \"type\": \"Shapley Value\"}, {\"Shapley Value\": 0.0081733249970942, \"t (event index)\": -5, \"type\": \"Shapley Value\"}, {\"Shapley Value\": 0.0028793166475287, \"t (event index)\": -6, \"type\": \"Shapley Value\"}, {\"Shapley Value\": 0.0074403240997564, \"t (event index)\": -7, \"type\": \"Shapley Value\"}, {\"Shapley Value\": 0.0065957548224794, \"t (event index)\": -8, \"type\": \"Shapley Value\"}, {\"Shapley Value\": 0.0053811852785593, \"t (event index)\": -9, \"type\": \"Shapley Value\"}, {\"Shapley Value\": 0.0007912108433526, \"t (event index)\": -10, \"type\": \"Shapley Value\"}, {\"Shapley Value\": 0.0047906314911176, \"t (event index)\": -11, \"type\": \"Shapley Value\"}, {\"Shapley Value\": 0.0016692635434788, \"t (event index)\": -12, \"type\": \"Shapley Value\"}, {\"Shapley Value\": 0.0, \"t (event index)\": -13, \"type\": \"Shapley Value\"}, {\"Shapley Value\": 0.0023932263117238, \"t (event index)\": -14, \"type\": \"Shapley Value\"}, {\"Shapley Value\": 0.0028747151769012, \"t (event index)\": -15, \"type\": \"Shapley Value\"}, {\"Shapley Value\": 0.0, \"t (event index)\": -16, \"type\": \"Shapley Value\"}, {\"Shapley Value\": 0.0003396141146612, \"t (event index)\": -17, \"type\": \"Shapley Value\"}, {\"Shapley Value\": 0.0009733376067453, \"t (event index)\": -18, \"type\": \"Shapley Value\"}, {\"Shapley Value\": 0.0, \"t (event index)\": -19, \"type\": \"Shapley Value\"}, {\"Shapley Value\": 0.0, \"t (event index)\": -20, \"type\": \"Shapley Value\"}, {\"Shapley Value\": 0.011854622978717, \"t (event index)\": 0, \"type\": \"Shapley Value\"}, {\"Shapley Value\": 0.0112269916261236, \"t (event index)\": -1, \"type\": \"Shapley Value\"}, {\"Shapley Value\": 0.0118815739018221, \"t (event index)\": -2, \"type\": \"Shapley Value\"}, {\"Shapley Value\": 0.0162123928156991, \"t (event index)\": -3, \"type\": \"Shapley Value\"}, {\"Shapley Value\": 0.0191522061203916, \"t (event index)\": -4, \"type\": \"Shapley Value\"}, {\"Shapley Value\": 0.0094371940009295, \"t (event index)\": -5, \"type\": \"Shapley Value\"}, {\"Shapley Value\": 0.0166346274005869, \"t (event index)\": 0, \"type\": \"Shapley Value\"}, {\"Shapley Value\": 0.0162953661444286, \"t (event index)\": -1, \"type\": \"Shapley Value\"}, {\"Shapley Value\": 0.0166742716295023, \"t (event index)\": -2, \"type\": \"Shapley Value\"}, {\"Shapley Value\": 0.0006431131423160334, \"t (event index)\": -20, \"type\": \"Mean\"}, {\"Shapley Value\": 0.0014832655566068998, \"t (event index)\": -19, \"type\": \"Mean\"}, {\"Shapley Value\": 0.0015930279226326, \"t (event index)\": -18, \"type\": \"Mean\"}, {\"Shapley Value\": 0.0032022885884104, \"t (event index)\": -17, \"type\": \"Mean\"}, {\"Shapley Value\": 0.0023120821609257003, \"t (event index)\": -16, \"type\": \"Mean\"}, {\"Shapley Value\": 0.00494878821534465, \"t (event index)\": -15, \"type\": \"Mean\"}, {\"Shapley Value\": 0.005568822564754275, \"t (event index)\": -14, \"type\": \"Mean\"}, {\"Shapley Value\": 0.005737343602597559, \"t (event index)\": -13, \"type\": \"Mean\"}, {\"Shapley Value\": 0.01005600700978025, \"t (event index)\": -12, \"type\": \"Mean\"}, {\"Shapley Value\": 0.010160889470305315, \"t (event index)\": -11, \"type\": \"Mean\"}, {\"Shapley Value\": 0.008657486647766128, \"t (event index)\": -10, \"type\": \"Mean\"}, {\"Shapley Value\": 0.01822987209838667, \"t (event index)\": -9, \"type\": \"Mean\"}, {\"Shapley Value\": 0.026868850925775446, \"t (event index)\": -8, \"type\": \"Mean\"}, {\"Shapley Value\": 0.054038433125497144, \"t (event index)\": -7, \"type\": \"Mean\"}, {\"Shapley Value\": 0.047979619450735686, \"t (event index)\": -6, \"type\": \"Mean\"}, {\"Shapley Value\": 0.024799504473331162, \"t (event index)\": -5, \"type\": \"Mean\"}, {\"Shapley Value\": 0.06551121626953063, \"t (event index)\": -4, \"type\": \"Mean\"}, {\"Shapley Value\": 0.02671503741003105, \"t (event index)\": -3, \"type\": \"Mean\"}, {\"Shapley Value\": 0.040957374797525495, \"t (event index)\": -2, \"type\": \"Mean\"}, {\"Shapley Value\": 0.06781580272040888, \"t (event index)\": -1, \"type\": \"Mean\"}, {\"Shapley Value\": 0.04090510596196608, \"t (event index)\": 0, \"type\": \"Mean\"}]}}, {\"mode\": \"vega-lite\"});\n",
       "</script>"
      ],
      "text/plain": [
       "alt.Chart(...)"
      ]
     },
     "execution_count": 28,
     "metadata": {},
     "output_type": "execute_result"
    }
   ],
   "source": [
    "event_dict = {'path': 'outputs/event_all.csv', 'rs': 42, 'nsamples': 32000}\n",
    "event_data = event_explain_all(f_hs, pos_dataset, sequence_id_feat, average_event, event_dict, prun_indexes, model_features, time_feat)\n",
    "event_global_plot = plot_global_event(event_data)\n",
    "event_global_plot"
   ]
  },
  {
   "cell_type": "markdown",
   "id": "5ecc29f6",
   "metadata": {},
   "source": [
    "##### Global feature-level"
   ]
  },
  {
   "cell_type": "code",
   "execution_count": 29,
   "id": "c0564654",
   "metadata": {},
   "outputs": [
    {
     "data": {
      "text/html": [
       "\n",
       "<div id=\"altair-viz-115882aa94d84fc59eaa7a5ae4516a2d\"></div>\n",
       "<script type=\"text/javascript\">\n",
       "  (function(spec, embedOpt){\n",
       "    let outputDiv = document.currentScript.previousElementSibling;\n",
       "    if (outputDiv.id !== \"altair-viz-115882aa94d84fc59eaa7a5ae4516a2d\") {\n",
       "      outputDiv = document.getElementById(\"altair-viz-115882aa94d84fc59eaa7a5ae4516a2d\");\n",
       "    }\n",
       "    const paths = {\n",
       "      \"vega\": \"https://cdn.jsdelivr.net/npm//vega@5?noext\",\n",
       "      \"vega-lib\": \"https://cdn.jsdelivr.net/npm//vega-lib?noext\",\n",
       "      \"vega-lite\": \"https://cdn.jsdelivr.net/npm//vega-lite@4.8.1?noext\",\n",
       "      \"vega-embed\": \"https://cdn.jsdelivr.net/npm//vega-embed@6?noext\",\n",
       "    };\n",
       "\n",
       "    function loadScript(lib) {\n",
       "      return new Promise(function(resolve, reject) {\n",
       "        var s = document.createElement('script');\n",
       "        s.src = paths[lib];\n",
       "        s.async = true;\n",
       "        s.onload = () => resolve(paths[lib]);\n",
       "        s.onerror = () => reject(`Error loading script: ${paths[lib]}`);\n",
       "        document.getElementsByTagName(\"head\")[0].appendChild(s);\n",
       "      });\n",
       "    }\n",
       "\n",
       "    function showError(err) {\n",
       "      outputDiv.innerHTML = `<div class=\"error\" style=\"color:red;\">${err}</div>`;\n",
       "      throw err;\n",
       "    }\n",
       "\n",
       "    function displayChart(vegaEmbed) {\n",
       "      vegaEmbed(outputDiv, spec, embedOpt)\n",
       "        .catch(err => showError(`Javascript Error: ${err.message}<br>This usually means there's a typo in your chart specification. See the javascript console for the full traceback.`));\n",
       "    }\n",
       "\n",
       "    if(typeof define === \"function\" && define.amd) {\n",
       "      requirejs.config({paths});\n",
       "      require([\"vega-embed\"], displayChart, err => showError(`Error loading script: ${err.message}`));\n",
       "    } else if (typeof vegaEmbed === \"function\") {\n",
       "      displayChart(vegaEmbed);\n",
       "    } else {\n",
       "      loadScript(\"vega\")\n",
       "        .then(() => loadScript(\"vega-lite\"))\n",
       "        .then(() => loadScript(\"vega-embed\"))\n",
       "        .catch(showError)\n",
       "        .then(() => displayChart(vegaEmbed));\n",
       "    }\n",
       "  })({\"config\": {\"axis\": {\"domain\": true, \"domainColor\": \"#798184\", \"grid\": false, \"gridColor\": \"#798184\", \"gridOpacity\": 0.5, \"gridDash\": [3, 5], \"gridWidth\": 0.8, \"gridCap\": \"round\", \"labelPadding\": 3, \"labelFont\": \"Roboto\", \"labelColor\": \"#798184\", \"tickSize\": 5, \"tickColor\": \"#798184\", \"tickOpacity\": 0.5, \"titleColor\": \"#384140\", \"titleFont\": \"Roboto\", \"titleFontSize\": 12}, \"axisBand\": {\"domain\": true, \"ticks\": false, \"labelPadding\": 7}, \"axisY\": {\"domain\": false, \"titleAlign\": \"left\", \"titleAngle\": 0, \"titleX\": -20, \"titleY\": -10}, \"legend\": {\"labelColor\": \"#798184\", \"labelFontSize\": 12, \"symbolSize\": 40, \"titleColor\": \"#384140\", \"titleFontSize\": 12, \"titlePadding\": 10, \"titleFont\": \"Roboto\", \"labelFont\": \"Roboto\"}, \"line\": {\"stroke\": \"#618FE0\", \"strokeWidth\": 2}, \"rule\": {\"stroke\": \"#798184\"}, \"path\": {\"stroke\": \"#618FE0\", \"strokeWidth\": 0.5}, \"rect\": {\"fill\": \"#618FE0\"}, \"point\": {\"filled\": true, \"shape\": \"circle\"}, \"shape\": {\"stroke\": \"#618FE0\"}, \"bar\": {\"fill\": \"#618FE0\", \"stroke\": null}, \"text\": {\"font\": \"Roboto\", \"color\": \"#384140\", \"fontSize\": 12}, \"arc\": {\"stroke\": \"#fff\", \"strokeWidth\": 1}, \"range\": {\"category\": [\"#618FE0\", \"#50D0B0\", \"#E17560\", \"#E8B474\", \"#D889C4\", \"#34A3BC\", \"#A583A4\"], \"ramp\": [\"#001854\", \"#002f72\", \"#04478e\", \"#1e5fab\", \"#4477c5\", \"#6290e1\", \"#7ea9fd\", \"#9ec7ff\", \"#bde4ff\"], \"heatmap\": [\"#001854\", \"#002f72\", \"#04478e\", \"#1e5fab\", \"#4477c5\", \"#6290e1\", \"#7ea9fd\", \"#9ec7ff\", \"#bde4ff\"], \"diverging\": [\"#003b26\", \"#006b52\", \"#1aa082\", \"#55d5b5\", \"#f5f5f5\", \"#ffaa92\", \"#d16f5b\", \"#9e392c\", \"#650200\"]}, \"title\": {\"anchor\": \"start\", \"fontSize\": 20, \"color\": \"#384140\", \"fontWeight\": \"bold\", \"offset\": 20, \"font\": \"Roboto\", \"subtitleColor\": \"#384140\", \"subtitleFontSize\": 16}, \"header\": {\"labelFontSize\": 12, \"titleFontSize\": 16, \"labelColor\": \"#384140\", \"titleColor\": \"#384140\", \"titleFont\": \"Roboto\", \"labelFont\": \"Roboto\"}, \"group\": {\"fill\": \"white\"}, \"background\": \"white\", \"view\": {\"stroke\": \"transparent\", \"continuousHeight\": 300, \"continuousWidth\": 400}}, \"data\": {\"name\": \"data-9ab86fdc241d059ec7cd2929f10f2ee6\"}, \"mark\": {\"type\": \"point\", \"stroke\": \"white\", \"strokeWidth\": 0.6}, \"encoding\": {\"color\": {\"type\": \"nominal\", \"field\": \"type\", \"legend\": {\"fillColor\": \"white\", \"orient\": \"bottom-right\", \"symbolSize\": 50, \"symbolStrokeWidth\": 0, \"title\": null}, \"scale\": {\"domain\": [\"Shapley Value\", \"Mean\"], \"range\": [\"#618FE0\", \"#d76d58\"]}}, \"opacity\": {\"condition\": {\"value\": 1.0, \"test\": \"(datum.type === 'Mean')\"}, \"value\": 0.1}, \"size\": {\"condition\": {\"value\": 70, \"test\": \"(datum.type === 'Mean')\"}, \"value\": 30}, \"x\": {\"type\": \"quantitative\", \"axis\": {\"grid\": true, \"title\": \"Shapley Value\"}, \"field\": \"Shapley Value\", \"scale\": {\"domain\": [-0.2, 0.6]}}, \"y\": {\"type\": \"ordinal\", \"axis\": {\"labelFontSize\": 13, \"titleX\": -51}, \"field\": \"Feature\", \"sort\": [\"Mean Right Ankle <-> Left Ankle\", \"STD Chest <-> Left Ankle\", \"STD Right Ankle <-> Left Ankle\", \"Mean Chest <-> Left Ankle\", \"Pruned Events\", \"STD Chest <-> Right Ankle\", \"Mean Chest <-> Right Ankle\"]}}, \"height\": 280, \"width\": 288, \"$schema\": \"https://vega.github.io/schema/vega-lite/v4.8.1.json\", \"datasets\": {\"data-9ab86fdc241d059ec7cd2929f10f2ee6\": [{\"Shapley Value\": -0.0046498820717844, \"Feature\": \"Mean Chest <-> Right Ankle\", \"type\": \"Shapley Value\"}, {\"Shapley Value\": 0.0142526775687226, \"Feature\": \"STD Chest <-> Right Ankle\", \"type\": \"Shapley Value\"}, {\"Shapley Value\": 0.1337440784488407, \"Feature\": \"Mean Chest <-> Left Ankle\", \"type\": \"Shapley Value\"}, {\"Shapley Value\": 0.2549116052465423, \"Feature\": \"STD Chest <-> Left Ankle\", \"type\": \"Shapley Value\"}, {\"Shapley Value\": 0.3405434621897121, \"Feature\": \"Mean Right Ankle <-> Left Ankle\", \"type\": \"Shapley Value\"}, {\"Shapley Value\": 0.0864872094953343, \"Feature\": \"STD Right Ankle <-> Left Ankle\", \"type\": \"Shapley Value\"}, {\"Shapley Value\": -1.6941200886577693e-08, \"Feature\": \"Pruned Events\", \"type\": \"Shapley Value\"}, {\"Shapley Value\": -0.0023378057316653, \"Feature\": \"Mean Chest <-> Right Ankle\", \"type\": \"Shapley Value\"}, {\"Shapley Value\": 0.0168657903027324, \"Feature\": \"STD Chest <-> Right Ankle\", \"type\": \"Shapley Value\"}, {\"Shapley Value\": 0.1239408791153915, \"Feature\": \"Mean Chest <-> Left Ankle\", \"type\": \"Shapley Value\"}, {\"Shapley Value\": 0.2199122707758625, \"Feature\": \"STD Chest <-> Left Ankle\", \"type\": \"Shapley Value\"}, {\"Shapley Value\": 0.2931684123440864, \"Feature\": \"Mean Right Ankle <-> Left Ankle\", \"type\": \"Shapley Value\"}, {\"Shapley Value\": 0.0843251487639333, \"Feature\": \"STD Right Ankle <-> Left Ankle\", \"type\": \"Shapley Value\"}, {\"Shapley Value\": 0.0894144383658257, \"Feature\": \"Pruned Events\", \"type\": \"Shapley Value\"}, {\"Shapley Value\": -0.0021905446025941, \"Feature\": \"Mean Chest <-> Right Ankle\", \"type\": \"Shapley Value\"}, {\"Shapley Value\": 0.0167622418852436, \"Feature\": \"STD Chest <-> Right Ankle\", \"type\": \"Shapley Value\"}, {\"Shapley Value\": 0.1228987247771808, \"Feature\": \"Mean Chest <-> Left Ankle\", \"type\": \"Shapley Value\"}, {\"Shapley Value\": 0.2039213493244629, \"Feature\": \"STD Chest <-> Left Ankle\", \"type\": \"Shapley Value\"}, {\"Shapley Value\": 0.282146165870307, \"Feature\": \"Mean Right Ankle <-> Left Ankle\", \"type\": \"Shapley Value\"}, {\"Shapley Value\": 0.0844718224457686, \"Feature\": \"STD Right Ankle <-> Left Ankle\", \"type\": \"Shapley Value\"}, {\"Shapley Value\": 0.1172793742357978, \"Feature\": \"Pruned Events\", \"type\": \"Shapley Value\"}, {\"Shapley Value\": -0.0231167360075881, \"Feature\": \"Mean Chest <-> Right Ankle\", \"type\": \"Shapley Value\"}, {\"Shapley Value\": 0.0019879143197268, \"Feature\": \"STD Chest <-> Right Ankle\", \"type\": \"Shapley Value\"}, {\"Shapley Value\": 0.1265179669307101, \"Feature\": \"Mean Chest <-> Left Ankle\", \"type\": \"Shapley Value\"}, {\"Shapley Value\": 0.1198316488548048, \"Feature\": \"STD Chest <-> Left Ankle\", \"type\": \"Shapley Value\"}, {\"Shapley Value\": 0.0586066638252563, \"Feature\": \"Mean Right Ankle <-> Left Ankle\", \"type\": \"Shapley Value\"}, {\"Shapley Value\": 0.1266514741017348, \"Feature\": \"STD Right Ankle <-> Left Ankle\", \"type\": \"Shapley Value\"}, {\"Shapley Value\": -8.554862984677669e-09, \"Feature\": \"Pruned Events\", \"type\": \"Shapley Value\"}, {\"Shapley Value\": -0.0207528283908252, \"Feature\": \"Mean Chest <-> Right Ankle\", \"type\": \"Shapley Value\"}, {\"Shapley Value\": 0.0051774706602807, \"Feature\": \"STD Chest <-> Right Ankle\", \"type\": \"Shapley Value\"}, {\"Shapley Value\": 0.1164658137198006, \"Feature\": \"Mean Chest <-> Left Ankle\", \"type\": \"Shapley Value\"}, {\"Shapley Value\": 0.107362897747329, \"Feature\": \"STD Chest <-> Left Ankle\", \"type\": \"Shapley Value\"}, {\"Shapley Value\": 0.0567811145048055, \"Feature\": \"Mean Right Ankle <-> Left Ankle\", \"type\": \"Shapley Value\"}, {\"Shapley Value\": 0.1134210063987188, \"Feature\": \"STD Right Ankle <-> Left Ankle\", \"type\": \"Shapley Value\"}, {\"Shapley Value\": 0.0320234488296722, \"Feature\": \"Pruned Events\", \"type\": \"Shapley Value\"}, {\"Shapley Value\": -0.0198668875687178, \"Feature\": \"Mean Chest <-> Right Ankle\", \"type\": \"Shapley Value\"}, {\"Shapley Value\": 0.0059045382509274, \"Feature\": \"STD Chest <-> Right Ankle\", \"type\": \"Shapley Value\"}, {\"Shapley Value\": 0.112442347815349, \"Feature\": \"Mean Chest <-> Left Ankle\", \"type\": \"Shapley Value\"}, {\"Shapley Value\": 0.1031087442966442, \"Feature\": \"STD Chest <-> Left Ankle\", \"type\": \"Shapley Value\"}, {\"Shapley Value\": 0.0524860921670638, \"Feature\": \"Mean Right Ankle <-> Left Ankle\", \"type\": \"Shapley Value\"}, {\"Shapley Value\": 0.1080778714624187, \"Feature\": \"STD Right Ankle <-> Left Ankle\", \"type\": \"Shapley Value\"}, {\"Shapley Value\": 0.0483262170460963, \"Feature\": \"Pruned Events\", \"type\": \"Shapley Value\"}, {\"Shapley Value\": 0.0021931229602722, \"Feature\": \"Mean Chest <-> Right Ankle\", \"type\": \"Shapley Value\"}, {\"Shapley Value\": 0.0110226929631262, \"Feature\": \"STD Chest <-> Right Ankle\", \"type\": \"Shapley Value\"}, {\"Shapley Value\": -0.0234565565539966, \"Feature\": \"Mean Chest <-> Left Ankle\", \"type\": \"Shapley Value\"}, {\"Shapley Value\": 0.0509873415166067, \"Feature\": \"STD Chest <-> Left Ankle\", \"type\": \"Shapley Value\"}, {\"Shapley Value\": 0.0274775458943275, \"Feature\": \"Mean Right Ankle <-> Left Ankle\", \"type\": \"Shapley Value\"}, {\"Shapley Value\": 0.0425176998112527, \"Feature\": \"STD Right Ankle <-> Left Ankle\", \"type\": \"Shapley Value\"}, {\"Shapley Value\": -4.053470628595512e-09, \"Feature\": \"Pruned Events\", \"type\": \"Shapley Value\"}, {\"Shapley Value\": 0.0022242850535327, \"Feature\": \"Mean Chest <-> Right Ankle\", \"type\": \"Shapley Value\"}, {\"Shapley Value\": 0.0099941136226767, \"Feature\": \"STD Chest <-> Right Ankle\", \"type\": \"Shapley Value\"}, {\"Shapley Value\": -0.0221588796714231, \"Feature\": \"Mean Chest <-> Left Ankle\", \"type\": \"Shapley Value\"}, {\"Shapley Value\": 0.0357599609132323, \"Feature\": \"STD Chest <-> Left Ankle\", \"type\": \"Shapley Value\"}, {\"Shapley Value\": 0.0170369935443713, \"Feature\": \"Mean Right Ankle <-> Left Ankle\", \"type\": \"Shapley Value\"}, {\"Shapley Value\": 0.0280013115056568, \"Feature\": \"STD Right Ankle <-> Left Ankle\", \"type\": \"Shapley Value\"}, {\"Shapley Value\": 0.0398840575700714, \"Feature\": \"Pruned Events\", \"type\": \"Shapley Value\"}, {\"Shapley Value\": 0.0023821012516107, \"Feature\": \"Mean Chest <-> Right Ankle\", \"type\": \"Shapley Value\"}, {\"Shapley Value\": 0.0115388540950204, \"Feature\": \"STD Chest <-> Right Ankle\", \"type\": \"Shapley Value\"}, {\"Shapley Value\": 0.0027774582705682, \"Feature\": \"Mean Chest <-> Left Ankle\", \"type\": \"Shapley Value\"}, {\"Shapley Value\": 0.005839416890272, \"Feature\": \"STD Chest <-> Left Ankle\", \"type\": \"Shapley Value\"}, {\"Shapley Value\": -0.004449138688367, \"Feature\": \"Mean Right Ankle <-> Left Ankle\", \"type\": \"Shapley Value\"}, {\"Shapley Value\": 0.0296405774009014, \"Feature\": \"STD Right Ankle <-> Left Ankle\", \"type\": \"Shapley Value\"}, {\"Shapley Value\": 0.0630125733181124, \"Feature\": \"Pruned Events\", \"type\": \"Shapley Value\"}, {\"Shapley Value\": 0.0433266755351157, \"Feature\": \"Pruned Events\", \"type\": \"Mean\"}, {\"Shapley Value\": -0.0073461305675288115, \"Feature\": \"Mean Chest <-> Right Ankle\", \"type\": \"Mean\"}, {\"Shapley Value\": 0.07701909253915791, \"Feature\": \"Mean Chest <-> Left Ankle\", \"type\": \"Mean\"}, {\"Shapley Value\": 0.12486636796128477, \"Feature\": \"Mean Right Ankle <-> Left Ankle\", \"type\": \"Mean\"}, {\"Shapley Value\": 0.01038958818538409, \"Feature\": \"STD Chest <-> Right Ankle\", \"type\": \"Mean\"}, {\"Shapley Value\": 0.12240391506286187, \"Feature\": \"STD Chest <-> Left Ankle\", \"type\": \"Mean\"}, {\"Shapley Value\": 0.07817712459841326, \"Feature\": \"STD Right Ankle <-> Left Ankle\", \"type\": \"Mean\"}]}}, {\"mode\": \"vega-lite\"});\n",
       "</script>"
      ],
      "text/plain": [
       "alt.Chart(...)"
      ]
     },
     "execution_count": 29,
     "metadata": {},
     "output_type": "execute_result"
    }
   ],
   "source": [
    "feature_dict = {'path': 'outputs/feature_all.csv', 'rs': 42, 'nsamples': 32000, 'feature_names': model_features, 'plot_features': plot_feats, }\n",
    "feat_data = feat_explain_all(f_hs, pos_dataset, sequence_id_feat, average_event, feature_dict, prun_indexes, model_features, time_feat)\n",
    "feat_global_plot = plot_global_feat(feat_data, **feature_dict)\n",
    "feat_global_plot"
   ]
  },
  {
   "cell_type": "code",
   "execution_count": null,
   "id": "0d2d59d1",
   "metadata": {},
   "outputs": [],
   "source": []
  }
 ],
 "metadata": {
  "kernelspec": {
   "display_name": "Python 3",
   "language": "python",
   "name": "python3"
  },
  "language_info": {
   "codemirror_mode": {
    "name": "ipython",
    "version": 3
   },
   "file_extension": ".py",
   "mimetype": "text/x-python",
   "name": "python",
   "nbconvert_exporter": "python",
   "pygments_lexer": "ipython3",
   "version": "3.7.7"
  }
 },
 "nbformat": 4,
 "nbformat_minor": 5
}
